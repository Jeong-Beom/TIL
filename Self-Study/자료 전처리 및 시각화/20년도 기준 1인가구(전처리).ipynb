{
 "cells": [
  {
   "cell_type": "code",
   "execution_count": 190,
   "source": [
    "import numpy as np\r\n",
    "import pandas as pd\r\n",
    "from tqdm.notebook import tqdm "
   ],
   "outputs": [],
   "metadata": {}
  },
  {
   "cell_type": "code",
   "execution_count": 191,
   "source": [
    "df = pd.read_csv('C:\\\\Workspace\\\\python\\\\Data_Science\\\\dataA\\\\Cartogram Practice Data\\\\1인가구\\\\101_DT_1PL1502_Y_2020.csv', encoding = 'cp949')\r\n",
    "df.shape"
   ],
   "outputs": [
    {
     "output_type": "execute_result",
     "data": {
      "text/plain": [
       "(5185, 1)"
      ]
     },
     "metadata": {},
     "execution_count": 191
    }
   ],
   "metadata": {}
  },
  {
   "cell_type": "code",
   "execution_count": 192,
   "source": [
    "df.head()"
   ],
   "outputs": [
    {
     "output_type": "execute_result",
     "data": {
      "text/html": [
       "<div>\n",
       "<style scoped>\n",
       "    .dataframe tbody tr th:only-of-type {\n",
       "        vertical-align: middle;\n",
       "    }\n",
       "\n",
       "    .dataframe tbody tr th {\n",
       "        vertical-align: top;\n",
       "    }\n",
       "\n",
       "    .dataframe thead th {\n",
       "        text-align: right;\n",
       "    }\n",
       "</style>\n",
       "<table border=\"1\" class=\"dataframe\">\n",
       "  <thead>\n",
       "    <tr style=\"text-align: right;\">\n",
       "      <th></th>\n",
       "      <th></th>\n",
       "      <th></th>\n",
       "      <th></th>\n",
       "      <th></th>\n",
       "      <th></th>\n",
       "      <th></th>\n",
       "      <th>성 및 연령별 1인가구-시군구</th>\n",
       "    </tr>\n",
       "  </thead>\n",
       "  <tbody>\n",
       "    <tr>\n",
       "      <th>C행정구역별(시군구)</th>\n",
       "      <th>행정구역별(시군구)</th>\n",
       "      <th>C연령별</th>\n",
       "      <th>연령별</th>\n",
       "      <th>시점</th>\n",
       "      <th>1인가구</th>\n",
       "      <th>남자</th>\n",
       "      <td>여자</td>\n",
       "    </tr>\n",
       "    <tr>\n",
       "      <th rowspan=\"4\" valign=\"top\">'00</th>\n",
       "      <th rowspan=\"4\" valign=\"top\">전국</th>\n",
       "      <th>'000</th>\n",
       "      <th>합계</th>\n",
       "      <th>2020</th>\n",
       "      <th>6643354.0000</th>\n",
       "      <th>3304398.0000</th>\n",
       "      <td>3338956.0000</td>\n",
       "    </tr>\n",
       "    <tr>\n",
       "      <th>'024</th>\n",
       "      <th>20세 미만</th>\n",
       "      <th>2020</th>\n",
       "      <th>76202.0000</th>\n",
       "      <th>35708.0000</th>\n",
       "      <td>40494.0000</td>\n",
       "    </tr>\n",
       "    <tr>\n",
       "      <th>'025</th>\n",
       "      <th>20~24</th>\n",
       "      <th>2020</th>\n",
       "      <th>492331.0000</th>\n",
       "      <th>217262.0000</th>\n",
       "      <td>275069.0000</td>\n",
       "    </tr>\n",
       "    <tr>\n",
       "      <th>'030</th>\n",
       "      <th>25~29</th>\n",
       "      <th>2020</th>\n",
       "      <th>774580.0000</th>\n",
       "      <th>432889.0000</th>\n",
       "      <td>341691.0000</td>\n",
       "    </tr>\n",
       "  </tbody>\n",
       "</table>\n",
       "</div>"
      ],
      "text/plain": [
       "                                                                  성 및 연령별 1인가구-시군구\n",
       "C행정구역별(시군구) 행정구역별(시군구) C연령별 연령별    시점   1인가구         남자                         여자\n",
       "'00         전국         '000 합계     2020 6643354.0000 3304398.0000     3338956.0000\n",
       "                       '024 20세 미만 2020 76202.0000   35708.0000         40494.0000\n",
       "                       '025 20~24  2020 492331.0000  217262.0000       275069.0000\n",
       "                       '030 25~29  2020 774580.0000  432889.0000       341691.0000"
      ]
     },
     "metadata": {},
     "execution_count": 192
    }
   ],
   "metadata": {}
  },
  {
   "cell_type": "code",
   "execution_count": 193,
   "source": [
    "df.reset_index(inplace = True)"
   ],
   "outputs": [],
   "metadata": {}
  },
  {
   "cell_type": "code",
   "execution_count": 194,
   "source": [
    "df.columns = ['삭제1', '시군구', '삭제2', '연령별', '삭제3', '합', '남자', '여자']"
   ],
   "outputs": [],
   "metadata": {}
  },
  {
   "cell_type": "code",
   "execution_count": 195,
   "source": [
    "df = df.drop([0])"
   ],
   "outputs": [],
   "metadata": {}
  },
  {
   "cell_type": "code",
   "execution_count": 196,
   "source": [
    "del df['삭제1']; del df['삭제2']; del df['삭제3'];"
   ],
   "outputs": [],
   "metadata": {}
  },
  {
   "cell_type": "code",
   "execution_count": 197,
   "source": [
    "df.head()"
   ],
   "outputs": [
    {
     "output_type": "execute_result",
     "data": {
      "text/html": [
       "<div>\n",
       "<style scoped>\n",
       "    .dataframe tbody tr th:only-of-type {\n",
       "        vertical-align: middle;\n",
       "    }\n",
       "\n",
       "    .dataframe tbody tr th {\n",
       "        vertical-align: top;\n",
       "    }\n",
       "\n",
       "    .dataframe thead th {\n",
       "        text-align: right;\n",
       "    }\n",
       "</style>\n",
       "<table border=\"1\" class=\"dataframe\">\n",
       "  <thead>\n",
       "    <tr style=\"text-align: right;\">\n",
       "      <th></th>\n",
       "      <th>시군구</th>\n",
       "      <th>연령별</th>\n",
       "      <th>합</th>\n",
       "      <th>남자</th>\n",
       "      <th>여자</th>\n",
       "    </tr>\n",
       "  </thead>\n",
       "  <tbody>\n",
       "    <tr>\n",
       "      <th>1</th>\n",
       "      <td>전국</td>\n",
       "      <td>합계</td>\n",
       "      <td>6643354.0000</td>\n",
       "      <td>3304398.0000</td>\n",
       "      <td>3338956.0000</td>\n",
       "    </tr>\n",
       "    <tr>\n",
       "      <th>2</th>\n",
       "      <td>전국</td>\n",
       "      <td>20세 미만</td>\n",
       "      <td>76202.0000</td>\n",
       "      <td>35708.0000</td>\n",
       "      <td>40494.0000</td>\n",
       "    </tr>\n",
       "    <tr>\n",
       "      <th>3</th>\n",
       "      <td>전국</td>\n",
       "      <td>20~24</td>\n",
       "      <td>492331.0000</td>\n",
       "      <td>217262.0000</td>\n",
       "      <td>275069.0000</td>\n",
       "    </tr>\n",
       "    <tr>\n",
       "      <th>4</th>\n",
       "      <td>전국</td>\n",
       "      <td>25~29</td>\n",
       "      <td>774580.0000</td>\n",
       "      <td>432889.0000</td>\n",
       "      <td>341691.0000</td>\n",
       "    </tr>\n",
       "    <tr>\n",
       "      <th>5</th>\n",
       "      <td>전국</td>\n",
       "      <td>30~34</td>\n",
       "      <td>618401.0000</td>\n",
       "      <td>394553.0000</td>\n",
       "      <td>223848.0000</td>\n",
       "    </tr>\n",
       "  </tbody>\n",
       "</table>\n",
       "</div>"
      ],
      "text/plain": [
       "  시군구     연령별             합            남자            여자\n",
       "1  전국      합계  6643354.0000  3304398.0000  3338956.0000\n",
       "2  전국  20세 미만    76202.0000    35708.0000    40494.0000\n",
       "3  전국   20~24   492331.0000   217262.0000   275069.0000\n",
       "4  전국   25~29   774580.0000   432889.0000   341691.0000\n",
       "5  전국   30~34   618401.0000   394553.0000   223848.0000"
      ]
     },
     "metadata": {},
     "execution_count": 197
    }
   ],
   "metadata": {}
  },
  {
   "cell_type": "code",
   "execution_count": 198,
   "source": [
    "df.isnull().sum()"
   ],
   "outputs": [
    {
     "output_type": "execute_result",
     "data": {
      "text/plain": [
       "시군구    0\n",
       "연령별    0\n",
       "합      0\n",
       "남자     0\n",
       "여자     0\n",
       "dtype: int64"
      ]
     },
     "metadata": {},
     "execution_count": 198
    }
   ],
   "metadata": {}
  },
  {
   "cell_type": "code",
   "execution_count": 199,
   "source": [
    "df.reset_index(inplace = True)\r\n",
    "del df['index']"
   ],
   "outputs": [],
   "metadata": {}
  },
  {
   "cell_type": "code",
   "execution_count": 200,
   "source": [
    "for i in tqdm(range(len(df.합))):\r\n",
    "    try:\r\n",
    "        if df.합[i] != 'X':\r\n",
    "            if df.남자[i] != 'X':\r\n",
    "                df.합[i] = float(df.합[i])\r\n",
    "                df.합[i] = int(df.합[i])\r\n",
    "                df.남자[i] = float(df.남자[i])\r\n",
    "                df.남자[i] = int(df.남자[i])\r\n",
    "                df.여자[i] = df.합[i] - df.남자[i]\r\n",
    "            elif df.여자[i] != 'X':\r\n",
    "                df.합[i] = float(df.합[i])\r\n",
    "                df.합[i] = int(df.합[i])\r\n",
    "                df.여자[i] = float(df.여자[i])\r\n",
    "                df.여자[i] = int(df.여자[i])\r\n",
    "                df.남자[i] = df.합[i] - df.여자[i]\r\n",
    "            elif df.남자[i] == 'X' and df.여자[i] == 'X':\r\n",
    "                df.합[i] = float(df.합[i])\r\n",
    "                df.합[i] = int(df.합[i])\r\n",
    "                if (df.합[i] / 2) == 0:\r\n",
    "                    df.남자[i], df.여자[i] = int(df.합[i] / 2), int(df.합[i] / 2)\r\n",
    "                else:\r\n",
    "                    df.남자[i], df.여자[i] = int(df.합[i] / 2) + 1, int(df.합[i] / 2)\r\n",
    "        else:\r\n",
    "            df.합[i], df.남자[i], df.여자[i] = 0, 0, 0\r\n",
    "\r\n",
    "        df.합[i] = float(df.합[i])\r\n",
    "        df.합[i] = int(df.합[i])\r\n",
    "        df.남자[i] = float(df.남자[i])    \r\n",
    "        df.남자[i] = int(df.남자[i])\r\n",
    "        df.여자[i] = float(df.여자[i])\r\n",
    "        df.여자[i] = int(df.여자[i])\r\n",
    "    except:\r\n",
    "        print(i)"
   ],
   "outputs": [
    {
     "output_type": "display_data",
     "data": {
      "application/vnd.jupyter.widget-view+json": {
       "version_major": 2,
       "version_minor": 0,
       "model_id": "e19d141e21644d389e824553f80ed9f8"
      },
      "text/plain": [
       "  0%|          | 0/5184 [00:00<?, ?it/s]"
      ]
     },
     "metadata": {}
    }
   ],
   "metadata": {}
  },
  {
   "cell_type": "code",
   "execution_count": 201,
   "source": [
    "# k = 4497\r\n",
    "# df.합[k], df.남자[k], df.여자[k]"
   ],
   "outputs": [],
   "metadata": {}
  },
  {
   "cell_type": "code",
   "execution_count": 202,
   "source": [
    "df.head()"
   ],
   "outputs": [
    {
     "output_type": "execute_result",
     "data": {
      "text/html": [
       "<div>\n",
       "<style scoped>\n",
       "    .dataframe tbody tr th:only-of-type {\n",
       "        vertical-align: middle;\n",
       "    }\n",
       "\n",
       "    .dataframe tbody tr th {\n",
       "        vertical-align: top;\n",
       "    }\n",
       "\n",
       "    .dataframe thead th {\n",
       "        text-align: right;\n",
       "    }\n",
       "</style>\n",
       "<table border=\"1\" class=\"dataframe\">\n",
       "  <thead>\n",
       "    <tr style=\"text-align: right;\">\n",
       "      <th></th>\n",
       "      <th>시군구</th>\n",
       "      <th>연령별</th>\n",
       "      <th>합</th>\n",
       "      <th>남자</th>\n",
       "      <th>여자</th>\n",
       "    </tr>\n",
       "  </thead>\n",
       "  <tbody>\n",
       "    <tr>\n",
       "      <th>0</th>\n",
       "      <td>전국</td>\n",
       "      <td>합계</td>\n",
       "      <td>6643354</td>\n",
       "      <td>3304398</td>\n",
       "      <td>3338956</td>\n",
       "    </tr>\n",
       "    <tr>\n",
       "      <th>1</th>\n",
       "      <td>전국</td>\n",
       "      <td>20세 미만</td>\n",
       "      <td>76202</td>\n",
       "      <td>35708</td>\n",
       "      <td>40494</td>\n",
       "    </tr>\n",
       "    <tr>\n",
       "      <th>2</th>\n",
       "      <td>전국</td>\n",
       "      <td>20~24</td>\n",
       "      <td>492331</td>\n",
       "      <td>217262</td>\n",
       "      <td>275069</td>\n",
       "    </tr>\n",
       "    <tr>\n",
       "      <th>3</th>\n",
       "      <td>전국</td>\n",
       "      <td>25~29</td>\n",
       "      <td>774580</td>\n",
       "      <td>432889</td>\n",
       "      <td>341691</td>\n",
       "    </tr>\n",
       "    <tr>\n",
       "      <th>4</th>\n",
       "      <td>전국</td>\n",
       "      <td>30~34</td>\n",
       "      <td>618401</td>\n",
       "      <td>394553</td>\n",
       "      <td>223848</td>\n",
       "    </tr>\n",
       "  </tbody>\n",
       "</table>\n",
       "</div>"
      ],
      "text/plain": [
       "  시군구     연령별        합       남자       여자\n",
       "0  전국      합계  6643354  3304398  3338956\n",
       "1  전국  20세 미만    76202    35708    40494\n",
       "2  전국   20~24   492331   217262   275069\n",
       "3  전국   25~29   774580   432889   341691\n",
       "4  전국   30~34   618401   394553   223848"
      ]
     },
     "metadata": {},
     "execution_count": 202
    }
   ],
   "metadata": {}
  },
  {
   "cell_type": "code",
   "execution_count": 203,
   "source": [
    "import re\r\n",
    "df.시군구 = df.시군구.apply(lambda x: re.sub('[^ㄱ-ㅎㅏ-ㅣ가-힣0-9]', '', x))"
   ],
   "outputs": [],
   "metadata": {}
  },
  {
   "cell_type": "code",
   "execution_count": 204,
   "source": [
    "df[df.시군구.str.contains('전국')]"
   ],
   "outputs": [
    {
     "output_type": "execute_result",
     "data": {
      "text/html": [
       "<div>\n",
       "<style scoped>\n",
       "    .dataframe tbody tr th:only-of-type {\n",
       "        vertical-align: middle;\n",
       "    }\n",
       "\n",
       "    .dataframe tbody tr th {\n",
       "        vertical-align: top;\n",
       "    }\n",
       "\n",
       "    .dataframe thead th {\n",
       "        text-align: right;\n",
       "    }\n",
       "</style>\n",
       "<table border=\"1\" class=\"dataframe\">\n",
       "  <thead>\n",
       "    <tr style=\"text-align: right;\">\n",
       "      <th></th>\n",
       "      <th>시군구</th>\n",
       "      <th>연령별</th>\n",
       "      <th>합</th>\n",
       "      <th>남자</th>\n",
       "      <th>여자</th>\n",
       "    </tr>\n",
       "  </thead>\n",
       "  <tbody>\n",
       "    <tr>\n",
       "      <th>0</th>\n",
       "      <td>전국</td>\n",
       "      <td>합계</td>\n",
       "      <td>6643354</td>\n",
       "      <td>3304398</td>\n",
       "      <td>3338956</td>\n",
       "    </tr>\n",
       "    <tr>\n",
       "      <th>1</th>\n",
       "      <td>전국</td>\n",
       "      <td>20세 미만</td>\n",
       "      <td>76202</td>\n",
       "      <td>35708</td>\n",
       "      <td>40494</td>\n",
       "    </tr>\n",
       "    <tr>\n",
       "      <th>2</th>\n",
       "      <td>전국</td>\n",
       "      <td>20~24</td>\n",
       "      <td>492331</td>\n",
       "      <td>217262</td>\n",
       "      <td>275069</td>\n",
       "    </tr>\n",
       "    <tr>\n",
       "      <th>3</th>\n",
       "      <td>전국</td>\n",
       "      <td>25~29</td>\n",
       "      <td>774580</td>\n",
       "      <td>432889</td>\n",
       "      <td>341691</td>\n",
       "    </tr>\n",
       "    <tr>\n",
       "      <th>4</th>\n",
       "      <td>전국</td>\n",
       "      <td>30~34</td>\n",
       "      <td>618401</td>\n",
       "      <td>394553</td>\n",
       "      <td>223848</td>\n",
       "    </tr>\n",
       "    <tr>\n",
       "      <th>5</th>\n",
       "      <td>전국</td>\n",
       "      <td>35~39</td>\n",
       "      <td>497117</td>\n",
       "      <td>320174</td>\n",
       "      <td>176943</td>\n",
       "    </tr>\n",
       "    <tr>\n",
       "      <th>6</th>\n",
       "      <td>전국</td>\n",
       "      <td>40~44</td>\n",
       "      <td>427295</td>\n",
       "      <td>272915</td>\n",
       "      <td>154380</td>\n",
       "    </tr>\n",
       "    <tr>\n",
       "      <th>7</th>\n",
       "      <td>전국</td>\n",
       "      <td>45~49</td>\n",
       "      <td>476521</td>\n",
       "      <td>299352</td>\n",
       "      <td>177169</td>\n",
       "    </tr>\n",
       "    <tr>\n",
       "      <th>8</th>\n",
       "      <td>전국</td>\n",
       "      <td>50~54</td>\n",
       "      <td>497959</td>\n",
       "      <td>300477</td>\n",
       "      <td>197482</td>\n",
       "    </tr>\n",
       "    <tr>\n",
       "      <th>9</th>\n",
       "      <td>전국</td>\n",
       "      <td>55~59</td>\n",
       "      <td>541536</td>\n",
       "      <td>294220</td>\n",
       "      <td>247316</td>\n",
       "    </tr>\n",
       "    <tr>\n",
       "      <th>10</th>\n",
       "      <td>전국</td>\n",
       "      <td>60~64</td>\n",
       "      <td>580701</td>\n",
       "      <td>270517</td>\n",
       "      <td>310184</td>\n",
       "    </tr>\n",
       "    <tr>\n",
       "      <th>11</th>\n",
       "      <td>전국</td>\n",
       "      <td>65~69</td>\n",
       "      <td>458284</td>\n",
       "      <td>180497</td>\n",
       "      <td>277787</td>\n",
       "    </tr>\n",
       "    <tr>\n",
       "      <th>12</th>\n",
       "      <td>전국</td>\n",
       "      <td>70~74</td>\n",
       "      <td>382524</td>\n",
       "      <td>119128</td>\n",
       "      <td>263396</td>\n",
       "    </tr>\n",
       "    <tr>\n",
       "      <th>13</th>\n",
       "      <td>전국</td>\n",
       "      <td>75~79</td>\n",
       "      <td>350191</td>\n",
       "      <td>79884</td>\n",
       "      <td>270307</td>\n",
       "    </tr>\n",
       "    <tr>\n",
       "      <th>14</th>\n",
       "      <td>전국</td>\n",
       "      <td>80~84</td>\n",
       "      <td>278856</td>\n",
       "      <td>53063</td>\n",
       "      <td>225793</td>\n",
       "    </tr>\n",
       "    <tr>\n",
       "      <th>15</th>\n",
       "      <td>전국</td>\n",
       "      <td>85세 이상</td>\n",
       "      <td>190856</td>\n",
       "      <td>33759</td>\n",
       "      <td>157097</td>\n",
       "    </tr>\n",
       "  </tbody>\n",
       "</table>\n",
       "</div>"
      ],
      "text/plain": [
       "   시군구     연령별        합       남자       여자\n",
       "0   전국      합계  6643354  3304398  3338956\n",
       "1   전국  20세 미만    76202    35708    40494\n",
       "2   전국   20~24   492331   217262   275069\n",
       "3   전국   25~29   774580   432889   341691\n",
       "4   전국   30~34   618401   394553   223848\n",
       "5   전국   35~39   497117   320174   176943\n",
       "6   전국   40~44   427295   272915   154380\n",
       "7   전국   45~49   476521   299352   177169\n",
       "8   전국   50~54   497959   300477   197482\n",
       "9   전국   55~59   541536   294220   247316\n",
       "10  전국   60~64   580701   270517   310184\n",
       "11  전국   65~69   458284   180497   277787\n",
       "12  전국   70~74   382524   119128   263396\n",
       "13  전국   75~79   350191    79884   270307\n",
       "14  전국   80~84   278856    53063   225793\n",
       "15  전국  85세 이상   190856    33759   157097"
      ]
     },
     "metadata": {},
     "execution_count": 204
    }
   ],
   "metadata": {}
  },
  {
   "cell_type": "code",
   "execution_count": 205,
   "source": [
    "for i in range(16):\r\n",
    "    df = df.drop([i])"
   ],
   "outputs": [],
   "metadata": {}
  },
  {
   "cell_type": "code",
   "execution_count": 206,
   "source": [
    "df.reset_index(inplace = True)\r\n",
    "del df['index']\r\n",
    "pop = df"
   ],
   "outputs": [],
   "metadata": {}
  },
  {
   "cell_type": "code",
   "execution_count": 207,
   "source": [
    "pop"
   ],
   "outputs": [
    {
     "output_type": "execute_result",
     "data": {
      "text/html": [
       "<div>\n",
       "<style scoped>\n",
       "    .dataframe tbody tr th:only-of-type {\n",
       "        vertical-align: middle;\n",
       "    }\n",
       "\n",
       "    .dataframe tbody tr th {\n",
       "        vertical-align: top;\n",
       "    }\n",
       "\n",
       "    .dataframe thead th {\n",
       "        text-align: right;\n",
       "    }\n",
       "</style>\n",
       "<table border=\"1\" class=\"dataframe\">\n",
       "  <thead>\n",
       "    <tr style=\"text-align: right;\">\n",
       "      <th></th>\n",
       "      <th>시군구</th>\n",
       "      <th>연령별</th>\n",
       "      <th>합</th>\n",
       "      <th>남자</th>\n",
       "      <th>여자</th>\n",
       "    </tr>\n",
       "  </thead>\n",
       "  <tbody>\n",
       "    <tr>\n",
       "      <th>0</th>\n",
       "      <td>읍부</td>\n",
       "      <td>합계</td>\n",
       "      <td>620899</td>\n",
       "      <td>328162</td>\n",
       "      <td>292737</td>\n",
       "    </tr>\n",
       "    <tr>\n",
       "      <th>1</th>\n",
       "      <td>읍부</td>\n",
       "      <td>20세 미만</td>\n",
       "      <td>6999</td>\n",
       "      <td>3629</td>\n",
       "      <td>3370</td>\n",
       "    </tr>\n",
       "    <tr>\n",
       "      <th>2</th>\n",
       "      <td>읍부</td>\n",
       "      <td>20~24</td>\n",
       "      <td>37545</td>\n",
       "      <td>19664</td>\n",
       "      <td>17881</td>\n",
       "    </tr>\n",
       "    <tr>\n",
       "      <th>3</th>\n",
       "      <td>읍부</td>\n",
       "      <td>25~29</td>\n",
       "      <td>53027</td>\n",
       "      <td>34853</td>\n",
       "      <td>18174</td>\n",
       "    </tr>\n",
       "    <tr>\n",
       "      <th>4</th>\n",
       "      <td>읍부</td>\n",
       "      <td>30~34</td>\n",
       "      <td>46324</td>\n",
       "      <td>33612</td>\n",
       "      <td>12712</td>\n",
       "    </tr>\n",
       "    <tr>\n",
       "      <th>...</th>\n",
       "      <td>...</td>\n",
       "      <td>...</td>\n",
       "      <td>...</td>\n",
       "      <td>...</td>\n",
       "      <td>...</td>\n",
       "    </tr>\n",
       "    <tr>\n",
       "      <th>5163</th>\n",
       "      <td>서귀포시</td>\n",
       "      <td>65~69</td>\n",
       "      <td>1740</td>\n",
       "      <td>787</td>\n",
       "      <td>953</td>\n",
       "    </tr>\n",
       "    <tr>\n",
       "      <th>5164</th>\n",
       "      <td>서귀포시</td>\n",
       "      <td>70~74</td>\n",
       "      <td>1346</td>\n",
       "      <td>477</td>\n",
       "      <td>869</td>\n",
       "    </tr>\n",
       "    <tr>\n",
       "      <th>5165</th>\n",
       "      <td>서귀포시</td>\n",
       "      <td>75~79</td>\n",
       "      <td>1112</td>\n",
       "      <td>297</td>\n",
       "      <td>815</td>\n",
       "    </tr>\n",
       "    <tr>\n",
       "      <th>5166</th>\n",
       "      <td>서귀포시</td>\n",
       "      <td>80~84</td>\n",
       "      <td>927</td>\n",
       "      <td>199</td>\n",
       "      <td>728</td>\n",
       "    </tr>\n",
       "    <tr>\n",
       "      <th>5167</th>\n",
       "      <td>서귀포시</td>\n",
       "      <td>85세 이상</td>\n",
       "      <td>841</td>\n",
       "      <td>130</td>\n",
       "      <td>711</td>\n",
       "    </tr>\n",
       "  </tbody>\n",
       "</table>\n",
       "<p>5168 rows × 5 columns</p>\n",
       "</div>"
      ],
      "text/plain": [
       "       시군구     연령별       합      남자      여자\n",
       "0       읍부      합계  620899  328162  292737\n",
       "1       읍부  20세 미만    6999    3629    3370\n",
       "2       읍부   20~24   37545   19664   17881\n",
       "3       읍부   25~29   53027   34853   18174\n",
       "4       읍부   30~34   46324   33612   12712\n",
       "...    ...     ...     ...     ...     ...\n",
       "5163  서귀포시   65~69    1740     787     953\n",
       "5164  서귀포시   70~74    1346     477     869\n",
       "5165  서귀포시   75~79    1112     297     815\n",
       "5166  서귀포시   80~84     927     199     728\n",
       "5167  서귀포시  85세 이상     841     130     711\n",
       "\n",
       "[5168 rows x 5 columns]"
      ]
     },
     "metadata": {},
     "execution_count": 207
    }
   ],
   "metadata": {}
  },
  {
   "cell_type": "code",
   "execution_count": 208,
   "source": [
    "# 고유 ID 만들기\r\n",
    "print(len(pop))\r\n",
    "print(len(pop.시군구.unique()))\r\n",
    "pop.시군구.unique()"
   ],
   "outputs": [
    {
     "output_type": "stream",
     "name": "stdout",
     "text": [
      "5168\n",
      "257\n"
     ]
    },
    {
     "output_type": "execute_result",
     "data": {
      "text/plain": [
       "array(['읍부', '면부', '동부', '서울특별시', '종로구', '중구', '용산구', '성동구', '광진구',\n",
       "       '동대문구', '중랑구', '성북구', '강북구', '도봉구', '노원구', '은평구', '서대문구', '마포구',\n",
       "       '양천구', '강서구', '구로구', '금천구', '영등포구', '동작구', '관악구', '서초구', '강남구',\n",
       "       '송파구', '강동구', '부산광역시', '서구', '동구', '영도구', '부산진구', '동래구', '남구',\n",
       "       '북구', '해운대구', '사하구', '금정구', '연제구', '수영구', '사상구', '기장군', '대구광역시',\n",
       "       '수성구', '달서구', '달성군', '인천광역시', '연수구', '남동구', '부평구', '계양구', '미추홀구',\n",
       "       '강화군', '옹진군', '광주광역시', '광산구', '대전광역시', '유성구', '대덕구', '울산광역시',\n",
       "       '울주군', '세종특별자치시', '세종시', '경기도', '수원시', '장안구', '권선구', '팔달구', '영통구',\n",
       "       '성남시', '수정구', '중원구', '분당구', '의정부시', '안양시', '만안구', '동안구', '부천시',\n",
       "       '광명시', '평택시', '동두천시', '안산시', '상록구', '단원구', '고양시', '덕양구', '일산동구',\n",
       "       '일산서구', '과천시', '구리시', '남양주시', '오산시', '시흥시', '군포시', '의왕시', '하남시',\n",
       "       '용인시', '처인구', '기흥구', '수지구', '파주시', '이천시', '안성시', '김포시', '화성시',\n",
       "       '광주시', '양주시', '포천시', '여주시', '연천군', '가평군', '양평군', '강원도', '춘천시',\n",
       "       '원주시', '강릉시', '동해시', '태백시', '속초시', '삼척시', '홍천군', '횡성군', '영월군',\n",
       "       '평창군', '정선군', '철원군', '화천군', '양구군', '인제군', '고성군', '양양군', '충청북도',\n",
       "       '충주시', '제천시', '청주시', '상당구', '서원구', '흥덕구', '청원구', '보은군', '옥천군',\n",
       "       '영동군', '진천군', '괴산군', '음성군', '단양군', '증평군', '충청남도', '천안시', '동남구',\n",
       "       '서북구', '공주시', '보령시', '아산시', '서산시', '논산시', '계룡시', '당진시', '금산군',\n",
       "       '부여군', '서천군', '청양군', '홍성군', '예산군', '태안군', '전라북도', '전주시', '완산구',\n",
       "       '덕진구', '군산시', '익산시', '정읍시', '남원시', '김제시', '완주군', '진안군', '무주군',\n",
       "       '장수군', '임실군', '순창군', '고창군', '부안군', '전라남도', '목포시', '여수시', '순천시',\n",
       "       '나주시', '광양시', '담양군', '곡성군', '구례군', '고흥군', '보성군', '화순군', '장흥군',\n",
       "       '강진군', '해남군', '영암군', '무안군', '함평군', '영광군', '장성군', '완도군', '진도군',\n",
       "       '신안군', '경상북도', '포항시', '경주시', '김천시', '안동시', '구미시', '영주시', '영천시',\n",
       "       '상주시', '문경시', '경산시', '군위군', '의성군', '청송군', '영양군', '영덕군', '청도군',\n",
       "       '고령군', '성주군', '칠곡군', '예천군', '봉화군', '울진군', '울릉군', '경상남도', '진주시',\n",
       "       '통영시', '사천시', '김해시', '밀양시', '거제시', '양산시', '창원시', '의창구', '성산구',\n",
       "       '마산합포구', '마산회원구', '진해구', '의령군', '함안군', '창녕군', '남해군', '하동군', '산청군',\n",
       "       '함양군', '거창군', '합천군', '제주특별자치도', '제주시', '서귀포시'], dtype=object)"
      ]
     },
     "metadata": {},
     "execution_count": 208
    }
   ],
   "metadata": {}
  },
  {
   "cell_type": "code",
   "execution_count": 209,
   "source": [
    "for i in tqdm(range(len(pop.시군구))):\r\n",
    "    if pop.시군구[i] == '읍부':\r\n",
    "        pop.시군구[i] = np.nan\r\n",
    "    elif pop.시군구[i] == '면부':\r\n",
    "        pop.시군구[i] = np.nan\r\n",
    "    elif pop.시군구[i] == '동부':\r\n",
    "        pop.시군구[i] = np.nan"
   ],
   "outputs": [
    {
     "output_type": "display_data",
     "data": {
      "application/vnd.jupyter.widget-view+json": {
       "version_major": 2,
       "version_minor": 0,
       "model_id": "ebc6e6ee9150472d82b33f9315fa2e7d"
      },
      "text/plain": [
       "  0%|          | 0/5168 [00:00<?, ?it/s]"
      ]
     },
     "metadata": {}
    }
   ],
   "metadata": {}
  },
  {
   "cell_type": "code",
   "execution_count": 212,
   "source": [
    "pop.dropna(subset = ['시군구'], inplace = True)"
   ],
   "outputs": [],
   "metadata": {}
  },
  {
   "cell_type": "code",
   "execution_count": 215,
   "source": [
    "pop.reset_index(inplace = True)\r\n",
    "del pop['index']"
   ],
   "outputs": [],
   "metadata": {}
  },
  {
   "cell_type": "code",
   "execution_count": 218,
   "source": [
    "pop\r\n",
    "pop.to_csv('C:\\\\Workspace\\\\python\\\\Data_Science\\\\dataA\\\\Cartogram Practice Data\\\\1인가구\\\\1인가구(전처리).csv', index = 'False')"
   ],
   "outputs": [],
   "metadata": {}
  }
 ],
 "metadata": {
  "orig_nbformat": 4,
  "language_info": {
   "name": "python",
   "version": "3.8.10",
   "mimetype": "text/x-python",
   "codemirror_mode": {
    "name": "ipython",
    "version": 3
   },
   "pygments_lexer": "ipython3",
   "nbconvert_exporter": "python",
   "file_extension": ".py"
  },
  "kernelspec": {
   "name": "python3",
   "display_name": "Python 3.8.10 64-bit ('base': conda)"
  },
  "interpreter": {
   "hash": "fe3bab233825460445dbfeea6dcd52ef5815a3fa13c858fea07ac830aa383284"
  }
 },
 "nbformat": 4,
 "nbformat_minor": 2
}