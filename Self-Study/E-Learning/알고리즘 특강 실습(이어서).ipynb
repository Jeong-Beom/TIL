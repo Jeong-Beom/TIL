{
 "cells": [
  {
   "cell_type": "code",
   "execution_count": 33,
   "source": [
    "## 함수 선언부\r\n",
    "def isQueueFull():\r\n",
    "    global SIZE, queue, front, rear\r\n",
    "    if rear == SIZE - 1:\r\n",
    "        return True\r\n",
    "    else:\r\n",
    "        return False\r\n",
    "\r\n",
    "def isQueueEmpty():\r\n",
    "    global SIZE, queue, front, rear\r\n",
    "    if rear == front:\r\n",
    "        return True\r\n",
    "    else:\r\n",
    "        return False\r\n",
    "\r\n",
    "def enQueue(data):\r\n",
    "    global SIZE, queue, front, rear\r\n",
    "    if isQueueFull():\r\n",
    "        return print('Queue가 가득차있습니다.')\r\n",
    "    rear += 1\r\n",
    "    queue[rear] = data\r\n",
    "\r\n",
    "def deQueue():\r\n",
    "    global SIZE, queue, front, rear\r\n",
    "    if isQueueEmpty():\r\n",
    "        return print('queue가 비어있습니다.')\r\n",
    "    print(f'추출된 값 : {queue[front+1]}')\r\n",
    "    for i in range(rear+1):\r\n",
    "        queue[i] = queue[i+1]\r\n",
    "        queue[i+1] = None\r\n",
    "    rear -= 1 \r\n",
    "\r\n",
    "## 전역 변수부\r\n",
    "SIZE = 5\r\n",
    "queue = [None for _ in range(SIZE)]\r\n",
    "front = rear = -1 # queue가 비었음을 나타내기 위한 값들\r\n",
    "## 메인 코드부\r\n",
    "enQueue('화사')\r\n",
    "enQueue('문별')\r\n",
    "enQueue('솔라')\r\n",
    "deQueue()\r\n",
    "print(queue)\r\n",
    "deQueue()\r\n",
    "print(queue)\r\n",
    "deQueue()\r\n",
    "print(queue)\r\n",
    "deQueue()\r\n",
    "print(queue)"
   ],
   "outputs": [
    {
     "output_type": "stream",
     "name": "stdout",
     "text": [
      "추출된 값 : 화사\n",
      "['문별', '솔라', None, None, None]\n",
      "추출된 값 : 문별\n",
      "['솔라', None, None, None, None]\n",
      "추출된 값 : 솔라\n",
      "[None, None, None, None, None]\n",
      "queue가 비어있습니다.\n",
      "[None, None, None, None, None]\n"
     ]
    }
   ],
   "metadata": {}
  },
  {
   "cell_type": "code",
   "execution_count": 41,
   "source": [
    "# 원형 Queue\r\n",
    "## 함수 선언부\r\n",
    "def isQueueFull() :\r\n",
    "    global SIZE, queue, front, rear\r\n",
    "    if ( (rear+1) % SIZE == front) :\r\n",
    "        return True\r\n",
    "    else :\r\n",
    "        return False\r\n",
    "\r\n",
    "def isQueueEmpty() :\r\n",
    "    global SIZE, queue, front, rear\r\n",
    "    if (front == rear) :\r\n",
    "        return True\r\n",
    "    else :\r\n",
    "        return False\r\n",
    "\r\n",
    "def enQueue(data) :\r\n",
    "    global SIZE, queue, front, rear\r\n",
    "    if(isQueueFull()) :\r\n",
    "        print('큐 꽉~')\r\n",
    "        return\r\n",
    "    rear = (rear + 1) % SIZE\r\n",
    "    queue[rear] = data\r\n",
    "\r\n",
    "def deQueue() :\r\n",
    "    global SIZE, queue, front, rear\r\n",
    "    if (isQueueEmpty()) :\r\n",
    "        print('큐 텅~')\r\n",
    "        return None\r\n",
    "    front = (front + 1) % SIZE\r\n",
    "    data = queue[front]\r\n",
    "    queue[front] = None\r\n",
    "    return data\r\n",
    "\r\n",
    "## 전역 변수부\r\n",
    "SIZE = 5\r\n",
    "queue = [None for _ in range(SIZE)]\r\n",
    "front = rear = 0\r\n",
    "\r\n",
    "## 메인 코드부\r\n",
    "enQueue('화사')\r\n",
    "enQueue('솔라')\r\n",
    "enQueue('문별')\r\n",
    "enQueue('휘인')\r\n",
    "print('<--', queue, '<--')\r\n",
    "enQueue('선미')\r\n",
    "print('<--', queue, '<--')\r\n",
    "\r\n",
    "data = deQueue(); print('디큐 :', data)\r\n",
    "data = deQueue(); print('디큐 :', data)\r\n",
    "print('<--', queue, '<--')\r\n",
    "\r\n",
    "enQueue('재남')\r\n",
    "print('<--', queue, '<--')\r\n",
    "enQueue('강아지')\r\n",
    "print('<--', queue, '<--')\r\n",
    "enQueue('냥이')\r\n",
    "print('<--', queue, '<--')"
   ],
   "outputs": [
    {
     "output_type": "stream",
     "name": "stdout",
     "text": [
      "<-- [None, '화사', '솔라', '문별', '휘인'] <--\n",
      "큐 꽉~\n",
      "<-- [None, '화사', '솔라', '문별', '휘인'] <--\n",
      "디큐 : 화사\n",
      "디큐 : 솔라\n",
      "<-- [None, None, None, '문별', '휘인'] <--\n",
      "<-- ['재남', None, None, '문별', '휘인'] <--\n",
      "<-- ['재남', '강아지', None, '문별', '휘인'] <--\n",
      "큐 꽉~\n",
      "<-- ['재남', '강아지', None, '문별', '휘인'] <--\n"
     ]
    }
   ],
   "metadata": {}
  },
  {
   "cell_type": "code",
   "execution_count": 56,
   "source": [
    "# 높이가 2이고 데이터가 6개인 완전 이진트리 생성\r\n",
    "class TreeNode() :\r\n",
    "    def __init__(self):\r\n",
    "        self.left = None\r\n",
    "        self.data = None\r\n",
    "        self.right = None\r\n",
    "node1 = TreeNode()\r\n",
    "node1.data = '화사'\r\n",
    "\r\n",
    "node2 = TreeNode()\r\n",
    "node2.data = '솔라'\r\n",
    "node1.left = node2\r\n",
    "\r\n",
    "node3 = TreeNode()\r\n",
    "node3.data = '문별'\r\n",
    "node1.right = node3\r\n",
    "\r\n",
    "node4, node5, node6 = TreeNode(), TreeNode(), TreeNode()\r\n",
    "node4.data = '휘인'\r\n",
    "node5.data = '쯔위'\r\n",
    "node6.data = '선미'\r\n",
    "node2.left = node4\r\n",
    "node2.right = node5\r\n",
    "node3.left = node6\r\n",
    "\r\n",
    "print(node1.data)\r\n",
    "print(node1.left.data, node1.right.data)"
   ],
   "outputs": [
    {
     "output_type": "stream",
     "name": "stdout",
     "text": [
      "화사\n",
      "솔라 문별\n"
     ]
    }
   ],
   "metadata": {}
  },
  {
   "cell_type": "code",
   "execution_count": 62,
   "source": [
    "## 함수선언부\r\n",
    "class TreeNode() :\r\n",
    "    def __init__(self):\r\n",
    "        self.left = None\r\n",
    "        self.data = None\r\n",
    "        self.right = None\r\n",
    "## 전역변수부\r\n",
    "memeoy = []\r\n",
    "root = None\r\n",
    "nameArray = ['블랙핑크', '레드벨벳', '마마무', '에이핑크', '걸스데이', '트와이스']\r\n",
    "\r\n",
    "## 메인코드부\r\n",
    "node = TreeNode()\r\n",
    "node.data = nameArray[0]\r\n",
    "root = node\r\n",
    "memory.append(node)\r\n",
    "for name in nameArray[1:]:\r\n",
    "    node = TreeNode()\r\n",
    "    node.data = name\r\n",
    "    current = root \r\n",
    "    while True:\r\n",
    "        if name < current.data :\r\n",
    "            if current.left == None:\r\n",
    "                current.left = node\r\n",
    "                break\r\n",
    "            current = current.left\r\n",
    "        else:\r\n",
    "            if current.right == None:\r\n",
    "                current.right = node\r\n",
    "                break\r\n",
    "            current = current.right\r\n",
    "    memory.append(node)\r\n",
    "print('이진 탐색 트리 구성 완료')\r\n",
    "\r\n",
    "findData = '마마'\r\n",
    "current = root\r\n",
    "while True:\r\n",
    "    if current.data == findData:\r\n",
    "        print(findData, '찾았음')\r\n",
    "        break\r\n",
    "    elif findData < current.data:\r\n",
    "        if current.left == None:\r\n",
    "            print(findData, '없음')\r\n",
    "            break\r\n",
    "        current = current.left\r\n",
    "    else:\r\n",
    "        if current.right == None:\r\n",
    "            print(findData, '없음')\r\n",
    "            break\r\n",
    "        current = current.right"
   ],
   "outputs": [
    {
     "output_type": "stream",
     "name": "stdout",
     "text": [
      "이진 탐색 트리 구성 완료\n",
      "마마 없음\n"
     ]
    }
   ],
   "metadata": {}
  },
  {
   "cell_type": "code",
   "execution_count": 68,
   "source": [
    "# 그래프(기초)\r\n",
    "## 함수 선언부\r\n",
    "class Graph():\r\n",
    "    def __init__(self, size):\r\n",
    "        self.SIZE = size\r\n",
    "        self.graph = [[0 for _ in range(size)] for _ in range(size)]\r\n",
    "\r\n",
    "## 전역 변수부\r\n",
    "G1 = None\r\n",
    "A, B, C, D = 0, 1, 2, 3\r\n",
    "## 메인 코드부\r\n",
    "G1 = Graph(4)\r\n",
    "G1.graph[A][B] = 1; G1.graph[A][C] = 1; G1.graph[A][D] = 1\r\n",
    "G1.graph[B][A] = 1; G1.graph[B][C] = 1\r\n",
    "G1.graph[C][A] = 1; G1.graph[C][B] = 1; G1.graph[C][D] = 1\r\n",
    "G1.graph[D][A] = 1; G1.graph[D][C] = 1\r\n",
    "for row in range(4):\r\n",
    "    for col in range(4):\r\n",
    "        print(G1.graph[row][col], end = ' ')\r\n",
    "    print()"
   ],
   "outputs": [
    {
     "output_type": "stream",
     "name": "stdout",
     "text": [
      "0 1 1 1 \n",
      "1 0 1 0 \n",
      "1 1 0 1 \n",
      "1 0 1 0 \n"
     ]
    }
   ],
   "metadata": {}
  },
  {
   "cell_type": "code",
   "execution_count": 74,
   "source": [
    "import random\r\n",
    "## 함수 선언부\r\n",
    "def findMinIndex(ary):\r\n",
    "    minIndex = 0\r\n",
    "    for i in range(1, len(ary)):\r\n",
    "        if(ary[minIndex] > ary[i]):\r\n",
    "            minIndex = i\r\n",
    "    return minIndex\r\n",
    "\r\n",
    "## 전역 선언부\r\n",
    "before = [random.randint(33, 190) for _ in range(20)]\r\n",
    "after = []\r\n",
    "## 메인 코드부\r\n",
    "print('정렬 전 -->', before)\r\n",
    "for i in range(len(before)):\r\n",
    "    minIndex = findMinIndex(before)\r\n",
    "    after.append(before[minIndex])\r\n",
    "    del before[minIndex]\r\n",
    "print('정렬 후 -->', after)"
   ],
   "outputs": [
    {
     "output_type": "stream",
     "name": "stdout",
     "text": [
      "정렬 전 --> [126, 78, 117, 188, 60, 170, 67, 111, 143, 179, 51, 153, 169, 52, 43, 81, 126, 56, 126, 65]\n",
      "정렬 후 --> [43, 51, 52, 56, 60, 65, 67, 78, 81, 111, 117, 126, 126, 126, 143, 153, 169, 170, 179, 188]\n"
     ]
    }
   ],
   "metadata": {}
  },
  {
   "cell_type": "code",
   "execution_count": 78,
   "source": [
    "## 함수 선언부\r\n",
    "def selectionSort(array):\r\n",
    "    n = len(array)\r\n",
    "    for i in range(0, n-1):\r\n",
    "        minIndex = i\r\n",
    "        for k in range(i+1, n):\r\n",
    "            if array[minIndex] > array[k]:\r\n",
    "                minIndex = k\r\n",
    "        array[i], array[minIndex] = array[minIndex], array[i]\r\n",
    "\r\n",
    "    return array\r\n",
    "            \r\n",
    "## 전역 변수부\r\n",
    "import random\r\n",
    "dataArray = [random.randint(33, 190) for _ in range(20)]\r\n",
    "\r\n",
    "## 메인 코드부\r\n",
    "print('정렬 전 -->', dataArray)\r\n",
    "dataArray = selectionSort(dataArray)\r\n",
    "print('정렬 후 -->', dataArray)"
   ],
   "outputs": [
    {
     "output_type": "stream",
     "name": "stdout",
     "text": [
      "정렬 전 --> [70, 79, 114, 96, 169, 42, 190, 92, 87, 139, 75, 179, 185, 170, 112, 124, 145, 146, 86, 136]\n",
      "정렬 후 --> [42, 70, 75, 79, 86, 87, 92, 96, 112, 114, 124, 136, 139, 145, 146, 169, 170, 179, 185, 190]\n"
     ]
    }
   ],
   "metadata": {}
  },
  {
   "cell_type": "code",
   "execution_count": null,
   "source": [],
   "outputs": [],
   "metadata": {}
  }
 ],
 "metadata": {
  "orig_nbformat": 4,
  "language_info": {
   "name": "python",
   "version": "3.8.10"
  },
  "kernelspec": {
   "name": "python3",
   "display_name": "Python 3.8.10 64-bit ('base': conda)"
  },
  "interpreter": {
   "hash": "fe3bab233825460445dbfeea6dcd52ef5815a3fa13c858fea07ac830aa383284"
  }
 },
 "nbformat": 4,
 "nbformat_minor": 2
}