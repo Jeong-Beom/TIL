{
 "cells": [
  {
   "cell_type": "markdown",
   "source": [
    "비밀지도\r\n",
    "네오는 평소 프로도가 비상금을 숨겨놓는 장소를 알려줄 비밀지도를 손에 넣었다. 그런데 이 비밀지도는 숫자로 암호화되어 있어 위치를 확인하기 위해서는 암호를 해독해야 한다. 다행히 지도 암호를 해독할 방법을 적어놓은 메모도 함께 발견했다.\r\n",
    "\r\n",
    "지도는 한 변의 길이가 n인 정사각형 배열 형태로, 각 칸은 \"공백\"(\" \") 또는 \"벽\"(\"#\") 두 종류로 이루어져 있다.\r\n",
    "전체 지도는 두 장의 지도를 겹쳐서 얻을 수 있다. 각각 \"지도 1\"과 \"지도 2\"라고 하자. 지도 1 또는 지도 2 중 어느 하나라도 벽인 부분은 전체 지도에서도 벽이다. 지도 1과 지도 2에서 모두 공백인 부분은 전체 지도에서도 공백이다.\r\n",
    "\"지도 1\"과 \"지도 2\"는 각각 정수 배열로 암호화되어 있다.\r\n",
    "암호화된 배열은 지도의 각 가로줄에서 벽 부분을 1, 공백 부분을 0으로 부호화했을 때 얻어지는 이진수에 해당하는 값의 배열이다."
   ],
   "metadata": {}
  },
  {
   "cell_type": "code",
   "execution_count": 98,
   "source": [
    "# bin(), oct(), hex() / 2진법, 8진법, 16진법 / int로 10진수로 변환가능 - int(2진수, 해당숫자의 진법) : int(bin(arr1[1]), 2)\r\n",
    "# format(10, 'b') #2진수 변환 format(10, 'o') #8진수 변환 format(10, 'x') #16진수 변환\r\n",
    "n = 6\r\n",
    "arr1 = [46, 33, 33 ,22, 31, 50]\r\n",
    "arr2 = [27 ,56, 19, 14, 14, 10]\r\n",
    "\r\n",
    "answer = []\r\n",
    "def make_map(arr, n):\r\n",
    "    map = []\r\n",
    "    for i in range(n):\r\n",
    "        x = format(arr[i], 'b')\r\n",
    "        while True:\r\n",
    "            if len(x) < n:\r\n",
    "                x = '0' + x\r\n",
    "            elif len(x) >= n:\r\n",
    "                break\r\n",
    "        map.append([x[i] for i in range(n)])\r\n",
    "    return map\r\n",
    "\r\n",
    "map1 = make_map(arr1, n)\r\n",
    "map2 = make_map(arr2, n)\r\n",
    "\r\n",
    "for i in range(n):\r\n",
    "    keycode = ''\r\n",
    "    for k in range(n):\r\n",
    "        key = int(map1[i][k]) + int(map2[i][k])\r\n",
    "        if key >= 1 :\r\n",
    "            keycode += '#'\r\n",
    "        else:\r\n",
    "            keycode += ' '\r\n",
    "    answer.append(keycode)\r\n",
    "answer"
   ],
   "outputs": [
    {
     "output_type": "execute_result",
     "data": {
      "text/plain": [
       "['######', '###  #', '##  ##', ' #### ', ' #####', '### # ']"
      ]
     },
     "metadata": {},
     "execution_count": 98
    }
   ],
   "metadata": {}
  }
 ],
 "metadata": {
  "orig_nbformat": 4,
  "language_info": {
   "name": "python",
   "version": "3.8.10",
   "mimetype": "text/x-python",
   "codemirror_mode": {
    "name": "ipython",
    "version": 3
   },
   "pygments_lexer": "ipython3",
   "nbconvert_exporter": "python",
   "file_extension": ".py"
  },
  "kernelspec": {
   "name": "python3",
   "display_name": "Python 3.8.10 64-bit ('base': conda)"
  },
  "interpreter": {
   "hash": "fe3bab233825460445dbfeea6dcd52ef5815a3fa13c858fea07ac830aa383284"
  }
 },
 "nbformat": 4,
 "nbformat_minor": 2
}