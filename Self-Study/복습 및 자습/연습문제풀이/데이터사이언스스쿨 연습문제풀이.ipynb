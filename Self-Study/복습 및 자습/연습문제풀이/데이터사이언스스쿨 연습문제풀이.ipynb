{
 "cells": [
  {
   "cell_type": "code",
   "execution_count": 5,
   "source": [
    "# 변수 y의 값이 윤년이면 “윤년입니다”를 출력하고 아니라면 “윤년이 아닙니다”라고 출력하는 프로그램을 만든다. 윤년은 2월 29일이 있는 해로 다음과 같이 정해진다.\r\n",
    "# 서력 기원 연수가 4로 나누어 떨어지는 해는 윤년으로 한다(2004년, 2008년, 2012년, 2016년, 2020년, 2024년, …).\r\n",
    "# 이 중에서 100으로 나누어 떨어지는 해는 평년으로 한다(1900년, 2100년, 2200년, 2300년, 2500년, …).\r\n",
    "# 이 중에서 400으로 나누어 떨어지는 해는 윤년으로 둔다(1600년, 2000년, 2400년, …).\r\n",
    "y = int(input('숫자를 입력해주세요 > '))\r\n",
    "if (y % 4) == 0 and (y % 100) == 0 and (y % 400) == 0:\r\n",
    "    print(f'{y}년은 윤년입니다')\r\n",
    "elif (y % 4) == 0 and (y % 100)== 0:\r\n",
    "    print( f'{y}년은 평년입니다')   \r\n",
    "elif (y % 4) == 0== 0:\r\n",
    "    print(f'{y}년은 윤년입니다')"
   ],
   "outputs": [
    {
     "output_type": "stream",
     "name": "stdout",
     "text": [
      "1600년은 윤년입니다\n"
     ]
    }
   ],
   "metadata": {}
  },
  {
   "cell_type": "code",
   "execution_count": 17,
   "source": [
    "# 어떤 농장에서는 수박이 10kg이 넘으면 1등급, 그렇지 않고 7kg이 넘으면 2등급,, 그렇지 않고 4kg이 넘으면 3등급, \r\n",
    "# 나머지는 4등급을 준다고 한다. 이 수박의 등급을 정하는 파이썬 코드를 작성한다.\r\n",
    "size = float(input('무게를 입력해주세요 > '))\r\n",
    "if size <= 4:\r\n",
    "    print(f'무게는 {size}kg으로 4등급입니다.')\r\n",
    "elif size <= 7:\r\n",
    "    print(f'무게는 {size}kg으로 3등급입니다.')\r\n",
    "elif size <= 10:\r\n",
    "    print(f'무게는 {size}kg으로 2등급입니다.')\r\n",
    "else:\r\n",
    "    print(f'무게는 {size}kg으로 1등급입니다.')"
   ],
   "outputs": [
    {
     "output_type": "stream",
     "name": "stdout",
     "text": [
      "무게는 10.1kg으로 1등급입니다.\n"
     ]
    }
   ],
   "metadata": {}
  },
  {
   "cell_type": "code",
   "execution_count": 6,
   "source": [
    "# 죄수의 딜레마는 게임 이론의 유명한 사례이다\r\n",
    "# https://ko.wikipedia.org/wiki/죄수의_딜레마\r\n",
    "# 두 명의 범죄자 A, B가 체포되어 서로 다른 취조실에서 격리되어 심문을 받고 있다. 이들에게 자백 여부에 따라 다음의 선택이 가능하다.\r\n",
    "# 둘 중 하나가 배신하여 죄를 자백하면 자백한 사람은 즉시 풀어주고 나머지 한 명이 10년을 복역해야 한다.\r\n",
    "# 둘 모두 서로를 배신하여 죄를 자백하면 둘 다 5년을 복역한다.\r\n",
    "# 둘 모두 죄를 자백하지 않으면 둘 다 1년을 복역한다.\r\n",
    "# 죄수를 나타내는 변수 XA, XB는 자백하면 True, 그렇지 않으면 False를 가지는 값이다. \r\n",
    "# 이때 변수 XA, XB 값에 따라 각각이 복역해야 하는 연 수를 변수 YA, YB라고 할 때 YA, YB를 계산하는 프로그램을 만든다.\r\n",
    "x = input('범죄자 A의 선택(자백 / 신뢰) > '); y = input('범죄자 A의 선택(자백 / 신뢰) > ')\r\n",
    "if x == '자백' and y == '신뢰':\r\n",
    "    print(f'범죄자 A는 {x}, 범죄자 B는 {y}를 하였습니다. 범죄자 A는 무죄이고, 범죄자 B의 형량은 10년입니다.')\r\n",
    "elif x == '신뢰' and y == '자백':\r\n",
    "    print(f'범죄자 A는 {x}, 범죄자 B는 {y}를 하였습니다. 범죄자 B는 무죄이고, 범죄자 A의 형량은 10년입니다.')\r\n",
    "elif x == '자백' and y == '자백':\r\n",
    "    print(f'범죄자 A는 {x}, 범죄자 B는 {y}를 하였습니다. 범죄자 A, B의 형량은 5년입니다.')\r\n",
    "elif x == '신뢰' and y == '신뢰':\r\n",
    "    print(f'범죄자 A는 {x}, 범죄자 B는 {y}를 하였습니다. 범죄자 A, B의 형량은 1년입니다.')"
   ],
   "outputs": [
    {
     "output_type": "stream",
     "name": "stdout",
     "text": [
      "범죄자 A는 신뢰, 범죄자 B는 신뢰를 하였습니다. 범죄자 A, B의 형량은 1년입니다.\n"
     ]
    }
   ],
   "metadata": {}
  },
  {
   "cell_type": "code",
   "execution_count": 10,
   "source": [
    "# 짝수가 입력되면 짝수라는 문자열을, 홀수가 입력되면 홀수라는 문자열을 반환하는 함수를 만든다.\r\n",
    "def even_or_odd(number):\r\n",
    "    if number < 0:\r\n",
    "        print(f'{number}는 음의 정수입니다.')\r\n",
    "    if number % 2 == 0 and number >= 0:\r\n",
    "        print(f'{number}는 짝수입니다.')\r\n",
    "    elif number % 2 != 0 and number > 0:\r\n",
    "        print(f'{number}는 홀수입니다.')\r\n",
    "number = int(input('숫자를 입력해주세요 > '))\r\n",
    "even_or_odd(number)"
   ],
   "outputs": [
    {
     "output_type": "stream",
     "name": "stdout",
     "text": [
      "2는 짝수입니다.\n"
     ]
    }
   ],
   "metadata": {}
  },
  {
   "cell_type": "code",
   "execution_count": 14,
   "source": [
    "# 윤년을 나타나는 수가 입력되면 윤년이라는 문자열을, 그렇지 않은 수가 입력되면 평년이라는 문자열을 반환하는 함수를 만든다.\r\n",
    "# 평년일 때 1, 3, 5, 7, 8, 10, 12 월은 31일, 4, 6, 9, 11월은 30일, 2월은 28일이다. \r\n",
    "# 월을 나타내는 숫자를 입력하면 그 달의 날짜 수를 반환하는 함수 days1 를 만든다. 사용 예는 다음과 같다.\r\n",
    "def leap_year(year, month):\r\n",
    "    month_year_list = [31, 28, 31, 30, 31, 30, 31, 31, 30, 31, 30, 31]\r\n",
    "    if year % 4 == 0 and year >= 0:   \r\n",
    "        if month == 2:\r\n",
    "            print(f'{year}년 {month}월의 일수는 {month_year_list[month-1]+1}일 입니다.')\r\n",
    "        else:\r\n",
    "            print(f'{year}년 {month}월의 일수는 {month_year_list[month-1]}일 입니다.')\r\n",
    "    else:\r\n",
    "        print(f'{year}년 {month}월의 일수는 {month_year_list[month-1]}일 입니다.')\r\n",
    "year = int(input('연도를 입력해주세요 > '))\r\n",
    "month = int(input('월을 입력해주세요 > '))\r\n",
    "leap_year(year, month)"
   ],
   "outputs": [
    {
     "output_type": "stream",
     "name": "stdout",
     "text": [
      "2021년 9월의 일수는 30일 입니다.\n"
     ]
    }
   ],
   "metadata": {}
  },
  {
   "cell_type": "code",
   "execution_count": 16,
   "source": [
    "# 연도를 나타내는 숫자와 월을 나타내는 숫자를 입력하면 그 달의 날짜 수를 반환하는 함수 days2 를 만든다.\r\n",
    "def days(year, month):\r\n",
    "    month_year_list = [31, 28, 31, 30, 31, 30, 31, 31, 30, 31, 30, 31]\r\n",
    "    if year % 4 == 0 and year >= 0:   \r\n",
    "        if month == 2:\r\n",
    "            day = month_year_list[month-1]+1\r\n",
    "        else:\r\n",
    "            day = month_year_list[month-1]\r\n",
    "    else:\r\n",
    "        day = {month_year_list[month-1]}\r\n",
    "    return day\r\n",
    "days(2021, 9)"
   ],
   "outputs": [
    {
     "output_type": "execute_result",
     "data": {
      "text/plain": [
       "{30}"
      ]
     },
     "metadata": {},
     "execution_count": 16
    }
   ],
   "metadata": {}
  },
  {
   "cell_type": "code",
   "execution_count": 37,
   "source": [
    "# 3개의 숫자를 입력하면 “그 숫자들의 합”과 “그 숫자들을 제곱한 숫자들의 합”의 차이(큰 수에서 작을 수를 뺀 값)를 계산하는 함수 diffsum를 만든다. \r\n",
    "# 큰 수에서 작은 수를 뺀 결과이므로 항상 0보다 크거나 0과 같아야 한다.\r\n",
    "# 함수 바깥에 m 이라는 전역 변수를 만들고 그 값을 0으로 놓는다. 앞에서 만든 diffsum 함수를 고쳐서 diffsum 함수와 같은 값을 반환하지만 \r\n",
    "# 함수를 실행할 때 마다 diffsum 함수에서 계산된 값이 원래 있던 m보다 크면 m을 계산된 값으로 바꾸는 함수 diffsum2 를 만든다.\r\n",
    "m = 0\r\n",
    "\r\n",
    "def diffsum(num1, num2, num3):\r\n",
    "    global result\r\n",
    "    sum = (num1 + num2 + num3)\r\n",
    "    squared_sum = (num1**2) + (num2**2) + (num3**2)\r\n",
    "    if sum > squared_sum:\r\n",
    "        result = sum - squared_sum\r\n",
    "    else :\r\n",
    "        result = squared_sum - sum\r\n",
    "    return result\r\n",
    "\r\n",
    "def diffsum2(result):\r\n",
    "    global m\r\n",
    "    if result > m:\r\n",
    "        m = result\r\n",
    "    else:\r\n",
    "        pass\r\n",
    "    return m\r\n",
    "\r\n",
    "diffsum(1, 2, 4)\r\n",
    "result\r\n",
    "diffsum2(result)\r\n",
    "m"
   ],
   "outputs": [
    {
     "output_type": "execute_result",
     "data": {
      "text/plain": [
       "14"
      ]
     },
     "metadata": {},
     "execution_count": 37
    }
   ],
   "metadata": {}
  }
 ],
 "metadata": {
  "orig_nbformat": 4,
  "language_info": {
   "name": "python",
   "version": "3.8.10",
   "mimetype": "text/x-python",
   "codemirror_mode": {
    "name": "ipython",
    "version": 3
   },
   "pygments_lexer": "ipython3",
   "nbconvert_exporter": "python",
   "file_extension": ".py"
  },
  "kernelspec": {
   "name": "python3",
   "display_name": "Python 3.8.10 64-bit ('base': conda)"
  },
  "interpreter": {
   "hash": "fe3bab233825460445dbfeea6dcd52ef5815a3fa13c858fea07ac830aa383284"
  }
 },
 "nbformat": 4,
 "nbformat_minor": 2
}