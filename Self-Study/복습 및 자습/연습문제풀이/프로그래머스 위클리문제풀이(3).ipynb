{
 "cells": [
  {
   "cell_type": "markdown",
   "source": [
    "복서 선수들의 몸무게 weights와, 복서 선수들의 전적을 나타내는 head2head가 매개변수로 주어집니다. 복서 선수들의 번호를 다음과 같은 순서로 정렬한 후 return 하도록 solution 함수를 완성해주세요.\r\n",
    "\r\n",
    "전체 승률이 높은 복서의 번호가 앞쪽으로 갑니다. 아직 다른 복서랑 붙어본 적이 없는 복서의 승률은 0%로 취급합니다.\r\n",
    "승률이 동일한 복서의 번호들 중에서는 자신보다 몸무게가 무거운 복서를 이긴 횟수가 많은 복서의 번호가 앞쪽으로 갑니다.\r\n",
    "자신보다 무거운 복서를 이긴 횟수까지 동일한 복서의 번호들 중에서는 자기 몸무게가 무거운 복서의 번호가 앞쪽으로 갑니다.\r\n",
    "자기 몸무게까지 동일한 복서의 번호들 중에서는 작은 번호가 앞쪽으로 갑니다.\r\n",
    "제한사항\r\n",
    "weights의 길이는 2 이상 1,000 이하입니다.\r\n",
    "weights의 모든 값은 45 이상 150 이하의 정수입니다.\r\n",
    "weights[i] 는 i+1번 복서의 몸무게(kg)를 의미합니다.\r\n",
    "head2head의 길이는 weights의 길이와 같습니다.\r\n",
    "head2head의 모든 문자열은 길이가 weights의 길이와 동일하며, 'N', 'W', 'L'로 이루어진 문자열입니다.\r\n",
    "head2head[i] 는 i+1번 복서의 전적을 의미하며, head2head[i][j]는 i+1번 복서와 j+1번 복서의 매치 결과를 의미합니다.\r\n",
    "'N' (None)은 두 복서가 아직 붙어본 적이 없음을 의미합니다.\r\n",
    "'W' (Win)는 i+1번 복서가 j+1번 복서를 이겼음을 의미합니다.\r\n",
    "'L' (Lose)는 i+1번 복사가 j+1번 복서에게 졌음을 의미합니다.\r\n",
    "임의의 i에 대해서 head2head[i][i] 는 항상 'N'입니다. 자기 자신과 싸울 수는 없기 때문입니다.\r\n",
    "임의의 i, j에 대해서 head2head[i][j] = 'W' 이면, head2head[j][i] = 'L'입니다.\r\n",
    "임의의 i, j에 대해서 head2head[i][j] = 'L' 이면, head2head[j][i] = 'W'입니다.\r\n",
    "임의의 i, j에 대해서 head2head[i][j] = 'N' 이면, head2head[j][i] = 'N'입니다"
   ],
   "metadata": {}
  },
  {
   "cell_type": "code",
   "execution_count": 10,
   "source": [
    "def solution(weights, head2head):\r\n",
    "    answer = []\r\n",
    "    return answer"
   ],
   "outputs": [],
   "metadata": {}
  },
  {
   "cell_type": "code",
   "execution_count": 139,
   "source": [
    "# 정렬기준 우선순위 : 승률 > 자신보다 무거운 사람을 이긴 횟수 > 자신의 몸무게\r\n",
    "weights = [60, 60, 120]\r\n",
    "head2head = [\"NWN\", 'NLN', 'NNN']\r\n",
    "\r\n",
    "player_list = [_ for _ in range(len(weights))]\r\n",
    "win_rate_list, weights_win_list, overpower_win_list = [], [], []\r\n",
    "\r\n",
    "for i in range(len(weights)):\r\n",
    "    comparing_weights, comparing_head2head = weights[:], head2head[:]\r\n",
    "    overpower_win = 0\r\n",
    "    standard_weight = comparing_weights[i]\r\n",
    "    standard_head2head = list(comparing_head2head[i])\r\n",
    "    del comparing_weights[i]; del standard_head2head[i]\r\n",
    "    for k in range(len(weights)-1):\r\n",
    "        if standard_weight < comparing_weights[k] and standard_head2head[k] == 'W':\r\n",
    "            overpower_win += 1\r\n",
    "    overpower_win_list.append(overpower_win)\r\n",
    "\r\n",
    "for player_num in range(len(head2head)):\r\n",
    "    if head2head[player_num].count('W') == 0 and head2head[player_num].count('L') == 0:\r\n",
    "        win_rate = 0\r\n",
    "    else:\r\n",
    "        win_rate = head2head[player_num].count('W') / (head2head[player_num].count('W') + head2head[player_num].count('L'))\r\n",
    "    win_rate_list.append(win_rate)\r\n",
    "\r\n",
    "for i in range(len(weights)): \r\n",
    "    weights_win_list.append([weights[i], win_rate_list[i], overpower_win_list[i], i+1])\r\n",
    "\r\n",
    "weights_win_list.sort(key = lambda x: (-x[1], -x[2], -x[0], x[3]))\r\n",
    "print(weights_win_list)\r\n",
    "[weights_win_list[i][3] for i in range(len(weights))]"
   ],
   "outputs": [
    {
     "output_type": "stream",
     "name": "stdout",
     "text": [
      "[[60, 1.0, 0, 1], [120, 0, 0, 3], [60, 0.0, 0, 2]]\n"
     ]
    },
    {
     "output_type": "execute_result",
     "data": {
      "text/plain": [
       "[1, 3, 2]"
      ]
     },
     "metadata": {},
     "execution_count": 139
    }
   ],
   "metadata": {}
  },
  {
   "cell_type": "code",
   "execution_count": 113,
   "source": [],
   "outputs": [
    {
     "output_type": "execute_result",
     "data": {
      "text/plain": [
       "[3, 4, 1, 2]"
      ]
     },
     "metadata": {},
     "execution_count": 113
    }
   ],
   "metadata": {}
  },
  {
   "cell_type": "code",
   "execution_count": 25,
   "source": [
    "overpower_win = 0\r\n",
    "if weights[0] < weights[1] and list(head2head[0])[1] == 'W':\r\n",
    "    overpower_win += 1\r\n",
    "overpower_win\r\n"
   ],
   "outputs": [
    {
     "output_type": "execute_result",
     "data": {
      "text/plain": [
       "0"
      ]
     },
     "metadata": {},
     "execution_count": 25
    }
   ],
   "metadata": {}
  },
  {
   "cell_type": "code",
   "execution_count": 84,
   "source": [
    "comparing_weights, comparing_head2head = weights[:], head2head[:]\r\n",
    "print(comparing_head2head, head2head)\r\n",
    "del comparing_head2head[0]\r\n",
    "print(comparing_head2head, head2head)"
   ],
   "outputs": [
    {
     "output_type": "stream",
     "name": "stdout",
     "text": [
      "['NLWL', 'WNLL', 'LWNW', 'WWLN'] ['NLWL', 'WNLL', 'LWNW', 'WWLN']\n",
      "['WNLL', 'LWNW', 'WWLN'] ['NLWL', 'WNLL', 'LWNW', 'WWLN']\n"
     ]
    }
   ],
   "metadata": {}
  },
  {
   "cell_type": "code",
   "execution_count": 94,
   "source": [
    "for i in range(len(weights)):\r\n",
    "    comparing_weights, comparing_head2head = weights[:], head2head[:]\r\n",
    "    overpower_win = 0\r\n",
    "    standard_weight = comparing_weights[i]\r\n",
    "    standard_head2head = list(comparing_head2head[i])\r\n",
    "    del comparing_weights[i]\r\n",
    "    del standard_head2head[i]\r\n",
    "    print(comparing_weights, standard_head2head)\r\n",
    "    for k in range(len(weights)-1):\r\n",
    "        if standard_weight < comparing_weights[k] and standard_head2head[k] == 'W':\r\n",
    "            overpower_win += 1\r\n",
    "    overpower_win_list.append(overpower_win)\r\n",
    "overpower_win_list"
   ],
   "outputs": [
    {
     "output_type": "stream",
     "name": "stdout",
     "text": [
      "[82, 75, 120] ['L', 'W', 'L']\n",
      "[50, 75, 120] ['W', 'L', 'L']\n",
      "[50, 82, 120] ['L', 'W', 'W']\n",
      "[50, 82, 75] ['W', 'W', 'L']\n"
     ]
    },
    {
     "output_type": "execute_result",
     "data": {
      "text/plain": [
       "[1, 0, 2, 0]"
      ]
     },
     "metadata": {},
     "execution_count": 94
    }
   ],
   "metadata": {}
  }
 ],
 "metadata": {
  "orig_nbformat": 4,
  "language_info": {
   "name": "python",
   "version": "3.8.10",
   "mimetype": "text/x-python",
   "codemirror_mode": {
    "name": "ipython",
    "version": 3
   },
   "pygments_lexer": "ipython3",
   "nbconvert_exporter": "python",
   "file_extension": ".py"
  },
  "kernelspec": {
   "name": "python3",
   "display_name": "Python 3.8.10 64-bit ('base': conda)"
  },
  "interpreter": {
   "hash": "fe3bab233825460445dbfeea6dcd52ef5815a3fa13c858fea07ac830aa383284"
  }
 },
 "nbformat": 4,
 "nbformat_minor": 2
}