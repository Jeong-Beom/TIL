{
 "cells": [
  {
   "cell_type": "markdown",
   "metadata": {},
   "source": [
    "문제\n",
    "1보다 큰 자연수 중에서  1과 자기 자신을 제외한 약수가 없는 자연수를 소수라고 한다. 예를 들어, 5는 1과 5를 제외한 약수가 없기 때문에 소수이다. 하지만, 6은 6 = 2 × 3 이기 때문에 소수가 아니다.\n",
    "\n",
    "골드바흐의 추측은 유명한 정수론의 미해결 문제로, 2보다 큰 모든 짝수는 두 소수의 합으로 나타낼 수 있다는 것이다. 이러한 수를 골드바흐 수라고 한다. 또, 짝수를 두 소수의 합으로 나타내는 표현을 그 수의 골드바흐 파티션이라고 한다. 예를 들면, 4 = 2 + 2, 6 = 3 + 3, 8 = 3 + 5, 10 = 5 + 5, 12 = 5 + 7, 14 = 3 + 11, 14 = 7 + 7이다. 10000보다 작거나 같은 모든 짝수 n에 대한 골드바흐 파티션은 존재한다.\n",
    "\n",
    "2보다 큰 짝수 n이 주어졌을 때, n의 골드바흐 파티션을 출력하는 프로그램을 작성하시오. 만약 가능한 n의 골드바흐 파티션이 여러 가지인 경우에는 두 소수의 차이가 가장 작은 것을 출력한다.\n",
    "\n",
    "입력\n",
    "첫째 줄에 테스트 케이스의 개수 T가 주어진다. 각 테스트 케이스는 한 줄로 이루어져 있고 짝수 n이 주어진다.\n",
    "\n",
    "출력\n",
    "각 테스트 케이스에 대해서 주어진 n의 골드바흐 파티션을 출력한다. 출력하는 소수는 작은 것부터 먼저 출력하며, 공백으로 구분한다.\n",
    "\n",
    "제한\n",
    "4 ≤ n ≤ 10,000"
   ]
  },
  {
   "cell_type": "code",
   "execution_count": 61,
   "metadata": {},
   "outputs": [
    {
     "name": "stdout",
     "output_type": "stream",
     "text": [
      "4919 5081\n"
     ]
    }
   ],
   "source": [
    "# T = int(input()) # 시간초과\n",
    "T = 1\n",
    "test_number_list = []\n",
    "check_array = [True, True] + [False] * 9999\n",
    "number_list = []\n",
    "for i in range(2, 10001):\n",
    "    if check_array[i] == False:\n",
    "        number_list.append(i)\n",
    "        for k in range(i, 10001, i):\n",
    "            check_array[k] = True\n",
    "check_number = 19997\n",
    "number_list.append(check_number)\n",
    "\n",
    "for _ in range(T):\n",
    "    N = int(input())\n",
    "    sample_list = []\n",
    "    sample_list_plus = []\n",
    "    start = 0\n",
    "    end = 0\n",
    "    while True:\n",
    "        if number_list[start] + number_list[start] > N:\n",
    "            break\n",
    "        elif number_list[start] + number_list[end] > N:\n",
    "            start += 1\n",
    "            end = start\n",
    "        if number_list[start] + number_list[end] == N:\n",
    "            sample_list.append([number_list[start], number_list[end]])\n",
    "            sample_list_plus.append(abs(number_list[start] - number_list[end]))\n",
    "        end += 1\n",
    "    result_index = sample_list_plus.index(min(sample_list_plus))\n",
    "    # print(sample_list, sample_list_plus)\n",
    "    print(min(sample_list[result_index]), max(sample_list[result_index]))"
   ]
  },
  {
   "cell_type": "code",
   "execution_count": 86,
   "metadata": {},
   "outputs": [
    {
     "name": "stdout",
     "output_type": "stream",
     "text": [
      "5 3\n",
      "5 5\n",
      "11 7\n"
     ]
    }
   ],
   "source": [
    "T = int(input())\n",
    "test_number_list = []\n",
    "check_array = [True, True] + [False] * 9999\n",
    "number_list = []\n",
    "for i in range(2, 10001):\n",
    "    if check_array[i] == False:\n",
    "        number_list.append(i)\n",
    "        for k in range(i, 10001, i):\n",
    "            check_array[k] = True\n",
    "\n",
    "for _ in range(T):\n",
    "    N = int(input())\n",
    "    check_number1 = int(N // 2)\n",
    "    for _ in range(check_number1):\n",
    "        check_number2 = N - check_number1\n",
    "        if check_number1 in number_list and check_number2 in number_list:\n",
    "            print(check_number1, check_number2)\n",
    "            break\n",
    "        else:\n",
    "            check_number1 -= 1"
   ]
  },
  {
   "cell_type": "code",
   "execution_count": 88,
   "metadata": {},
   "outputs": [
    {
     "name": "stdout",
     "output_type": "stream",
     "text": [
      "2383 2617\n"
     ]
    }
   ],
   "source": [
    "N = int(input())\n",
    "check_number1 = int(N // 2)\n",
    "for _ in range(check_number1):\n",
    "    check_number2 = N - check_number1\n",
    "    if check_number1 in number_list and check_number2 in number_list:\n",
    "        print(check_number1, check_number2)\n",
    "        break\n",
    "    else:\n",
    "        check_number1 -= 1"
   ]
  },
  {
   "cell_type": "markdown",
   "metadata": {},
   "source": [
    "문제\n",
    "N개의 수가 주어졌을 때, 이를 오름차순으로 정렬하는 프로그램을 작성하시오.\n",
    "\n",
    "입력\n",
    "첫째 줄에 수의 개수 N(1 ≤ N ≤ 1,000,000)이 주어진다. 둘째 줄부터 N개의 줄에는 수가 주어진다. 이 수는 절댓값이 1,000,000보다 작거나 같은 정수이다. 수는 중복되지 않는다.\n",
    "\n",
    "출력\n",
    "첫째 줄부터 N개의 줄에 오름차순으로 정렬한 결과를 한 줄에 하나씩 출력한다."
   ]
  },
  {
   "cell_type": "code",
   "execution_count": 8,
   "metadata": {},
   "outputs": [
    {
     "name": "stdout",
     "output_type": "stream",
     "text": [
      "1\n",
      "2\n",
      "3\n",
      "4\n",
      "5\n"
     ]
    }
   ],
   "source": [
    "N = int(input())\n",
    "number_list = []\n",
    "for _ in range(N):\n",
    "    number = int(input())\n",
    "    number_list.append(number)\n",
    "\n",
    "def sort_number(number_list):\n",
    "    number_list_sorted = []\n",
    "    number_list_sample = number_list[:]\n",
    "    for _ in range(N):\n",
    "        k = number_list_sample[0]\n",
    "        for i in range(1, len(number_list_sample)):\n",
    "            if k > number_list_sample[i]:\n",
    "                k = number_list_sample[i]\n",
    "        number_list_sorted.append(str(k))\n",
    "        number_list_sample.pop(number_list_sample.index(k))\n",
    "    return number_list_sorted\n",
    "result_list = sort_number(number_list)\n",
    "print('\\n'.join(result_list))"
   ]
  },
  {
   "cell_type": "code",
   "execution_count": 182,
   "metadata": {},
   "outputs": [
    {
     "name": "stdout",
     "output_type": "stream",
     "text": [
      "1\n",
      "2\n",
      "3\n",
      "4\n",
      "5\n"
     ]
    }
   ],
   "source": [
    "# 병합정령\n",
    "N = int(input())\n",
    "number_list = []\n",
    "for _ in range(N):\n",
    "    number = input()\n",
    "    number_list.append(number)\n",
    "\n",
    "# N = 5\n",
    "# number_list = [5, 3, 2, 1, 4]\n",
    "# number_list = [2, 1]\n",
    "def merge_sort(number_list):\n",
    "    if len(number_list) <= 1:\n",
    "        return number_list\n",
    "    point = int(len(number_list)//2)\n",
    "    result_list = []\n",
    "    number_list_left = merge_sort(number_list[:point])\n",
    "    number_list_right = merge_sort(number_list[point:])\n",
    "    n1, n2 = 0, 0\n",
    "    while n1 < len(number_list_left) and n2 < len(number_list_right):\n",
    "        if int(number_list_left[n1]) > int(number_list_right[n2]):\n",
    "            result_list.append(str(number_list_right[n2]))\n",
    "            n2 += 1\n",
    "        else:\n",
    "            result_list.append(str(number_list_left[n1]))\n",
    "            n1 += 1\n",
    "    if n1 < len(number_list_left):\n",
    "        result_list.extend(number_list_left[n1:])\n",
    "    if n2 < len(number_list_right):    \n",
    "        result_list.extend(number_list_right[n2:])\n",
    "    return result_list\n",
    "print('\\n'.join(merge_sort(number_list)))"
   ]
  },
  {
   "cell_type": "code",
   "execution_count": 214,
   "metadata": {},
   "outputs": [
    {
     "name": "stdout",
     "output_type": "stream",
     "text": [
      "1\n",
      "2\n",
      "3\n",
      "4\n",
      "5\n"
     ]
    }
   ],
   "source": [
    "# import sys\n",
    "# N = int(input())\n",
    "# number_list = []\n",
    "# for _ in range(N):\n",
    "#     number = input()\n",
    "#     number_list.append(number)\n",
    "\n",
    "N = 5\n",
    "number_list = [5, 3, 2, 1, 4]\n",
    "\n",
    "number_list.sort()\n",
    "number_list\n",
    "print('\\n'.join([str(number_list[i]) for i in range(N)]))"
   ]
  },
  {
   "cell_type": "markdown",
   "metadata": {},
   "source": [
    "문제\n",
    "N개의 수가 주어졌을 때, 이를 오름차순으로 정렬하는 프로그램을 작성하시오.\n",
    "\n",
    "입력\n",
    "첫째 줄에 수의 개수 N(1 ≤ N ≤ 10,000,000)이 주어진다. 둘째 줄부터 N개의 줄에는 수가 주어진다. 이 수는 10,000보다 작거나 같은 자연수이다.\n",
    "\n",
    "출력\n",
    "첫째 줄부터 N개의 줄에 오름차순으로 정렬한 결과를 한 줄에 하나씩 출력한다."
   ]
  },
  {
   "cell_type": "code",
   "execution_count": null,
   "metadata": {},
   "outputs": [],
   "source": [
    "N = int(input())\n",
    "test_array = [0] * 10001\n",
    "for _ in range(N):\n",
    "    number = int(input())\n",
    "    test_array[number] += 1\n",
    "# number_list = [1, 1, 2, 2, 10, 10, 3, 4]\n",
    "\n",
    "for number in number_list:\n",
    "    test_array[number] += 1\n",
    "for i in range(1, 10001):\n",
    "    if test_array[i] != 0:\n",
    "        for _ in range(test_array[i]):\n",
    "            sys.stdout.write(str(i) + '\\n')"
   ]
  },
  {
   "cell_type": "code",
   "execution_count": 5,
   "metadata": {},
   "outputs": [
    {
     "name": "stdout",
     "output_type": "stream",
     "text": [
      "aaa\n",
      "bbb\n"
     ]
    }
   ],
   "source": [
    "sys.stdout.write('aaa\\n')\n",
    "sys.stdout.write('bbb\\n')"
   ]
  },
  {
   "cell_type": "code",
   "execution_count": null,
   "metadata": {},
   "outputs": [],
   "source": [
    "import sys\n",
    "input = sys.stdin.readline\n",
    "N = int(input())\n",
    "test_array = [0] * 10001\n",
    "for _ in range(N):\n",
    "    number = int(input())\n",
    "    test_array[number] += 1\n",
    "for i in range(1, 10001):\n",
    "    if test_array[i] != 0:\n",
    "        for _ in range(test_array[i]):\n",
    "            sys.stdout.write(str(i) + '\\n')"
   ]
  },
  {
   "cell_type": "markdown",
   "metadata": {},
   "source": [
    "문제\n",
    "수를 처리하는 것은 통계학에서 상당히 중요한 일이다. 통계학에서 N개의 수를 대표하는 기본 통계값에는 다음과 같은 것들이 있다. 단, N은 홀수라고 가정하자.\n",
    "\n",
    "산술평균 : N개의 수들의 합을 N으로 나눈 값\n",
    "중앙값 : N개의 수들을 증가하는 순서로 나열했을 경우 그 중앙에 위치하는 값\n",
    "최빈값 : N개의 수들 중 가장 많이 나타나는 값\n",
    "범위 : N개의 수들 중 최댓값과 최솟값의 차이\n",
    "N개의 수가 주어졌을 때, 네 가지 기본 통계값을 구하는 프로그램을 작성하시오.\n",
    "\n",
    "입력\n",
    "첫째 줄에 수의 개수 N(1 ≤ N ≤ 500,000)이 주어진다. 단, N은 홀수이다. 그 다음 N개의 줄에는 정수들이 주어진다. 입력되는 정수의 절댓값은 4,000을 넘지 않는다.\n",
    "\n",
    "출력\n",
    "첫째 줄에는 산술평균을 출력한다. 소수점 이하 첫째 자리에서 반올림한 값을 출력한다.\n",
    "\n",
    "둘째 줄에는 중앙값을 출력한다.\n",
    "\n",
    "셋째 줄에는 최빈값을 출력한다. 여러 개 있을 때에는 최빈값 중 두 번째로 작은 값을 출력한다.\n",
    "\n",
    "넷째 줄에는 범위를 출력한다."
   ]
  },
  {
   "cell_type": "code",
   "execution_count": 18,
   "metadata": {},
   "outputs": [
    {
     "name": "stdout",
     "output_type": "stream",
     "text": [
      "0\n",
      "0\n",
      "0\n",
      "2\n"
     ]
    }
   ],
   "source": [
    "def arithmetic_mean(number_list, N):\n",
    "    if N == 1:\n",
    "        return number_list[0]\n",
    "    else:\n",
    "        return int(round(sum(number_list) / N, 0))\n",
    "\n",
    "def median(number_list, N):\n",
    "    if N == 1:\n",
    "        return number_list[0]\n",
    "    if N % 2 == 0:\n",
    "        return (number_list[int(N // 2) - 1] + number_list[(int(N // 2))]) / 2 \n",
    "    else:\n",
    "        return number_list[int(N // 2)]\n",
    "\n",
    "def mode(number_list, N):\n",
    "    number_list_check = list(set(number_list))\n",
    "    number_list_freq = []\n",
    "    result_list = []\n",
    "    for number in number_list_check:\n",
    "        freq = 0\n",
    "        # number_list_freq.append(number_list.count(number))\n",
    "        for k in range(N):\n",
    "            if number == number_list[k]:\n",
    "                freq += 1\n",
    "        number_list_freq.append(freq)\n",
    "    for i in range(len(number_list_freq)):\n",
    "        if max(number_list_freq) == number_list_freq[i]:\n",
    "            result_list.append(number_list_check[i])\n",
    "    result_list.sort()\n",
    "    if len(result_list) >= 2:\n",
    "        return result_list[1]\n",
    "    else:\n",
    "        return result_list[0] \n",
    "\n",
    "def range_check(number_list):\n",
    "    return abs(number_list[-1] - number_list[0]) \n",
    "    \n",
    "N = int(input())\n",
    "number_list = []\n",
    "for _ in range(N):\n",
    "    number_list.append(int(input()))\n",
    "number_list.sort()\n",
    "print(arithmetic_mean(number_list, N), median(number_list, N), \\\n",
    "      mode(number_list, N), range_check(number_list), sep = '\\n')"
   ]
  },
  {
   "cell_type": "markdown",
   "metadata": {},
   "source": [
    "문제\n",
    "배열을 정렬하는 것은 쉽다. 수가 주어지면, 그 수의 각 자리수를 내림차순으로 정렬해보자.\n",
    "\n",
    "입력\n",
    "첫째 줄에 정렬하려고 하는 수 N이 주어진다. N은 1,000,000,000보다 작거나 같은 자연수이다.\n",
    "\n",
    "출력\n",
    "첫째 줄에 자리수를 내림차순으로 정렬한 수를 출력한다."
   ]
  },
  {
   "cell_type": "code",
   "execution_count": 28,
   "metadata": {},
   "outputs": [
    {
     "name": "stdout",
     "output_type": "stream",
     "text": [
      "4321\n"
     ]
    }
   ],
   "source": [
    "N = input()\n",
    "# N = '500613009'\n",
    "number_list = [int(x) for x in N]\n",
    "number_list.sort(reverse=True)\n",
    "result = ''\n",
    "for x in number_list:\n",
    "    result += str(x)\n",
    "print(result)"
   ]
  },
  {
   "cell_type": "markdown",
   "metadata": {},
   "source": [
    "문제\n",
    "2차원 평면 위의 점 N개가 주어진다. 좌표를 x좌표가 증가하는 순으로, x좌표가 같으면 y좌표가 증가하는 순서로 정렬한 다음 출력하는 프로그램을 작성하시오.\n",
    "\n",
    "입력\n",
    "첫째 줄에 점의 개수 N (1 ≤ N ≤ 100,000)이 주어진다. 둘째 줄부터 N개의 줄에는 i번점의 위치 xi와 yi가 주어진다. (-100,000 ≤ xi, yi ≤ 100,000) 좌표는 항상 정수이고, 위치가 같은 두 점은 없다.\n",
    "\n",
    "출력\n",
    "첫째 줄부터 N개의 줄에 점을 정렬한 결과를 출력한다."
   ]
  },
  {
   "cell_type": "code",
   "execution_count": 46,
   "metadata": {},
   "outputs": [
    {
     "data": {
      "text/plain": [
       "[1, 3, 4, 5, 7]"
      ]
     },
     "execution_count": 46,
     "metadata": {},
     "output_type": "execute_result"
    }
   ],
   "source": [
    "a = [1, 2, 3, 4, 5 , 7]\n",
    "a.pop(1)\n",
    "a"
   ]
  },
  {
   "cell_type": "code",
   "execution_count": 64,
   "metadata": {},
   "outputs": [
    {
     "data": {
      "text/plain": [
       "[[1, 2]]"
      ]
     },
     "execution_count": 64,
     "metadata": {},
     "output_type": "execute_result"
    }
   ],
   "source": []
  },
  {
   "cell_type": "code",
   "execution_count": 94,
   "metadata": {},
   "outputs": [
    {
     "name": "stdout",
     "output_type": "stream",
     "text": [
      "1 -1\n",
      "1 1\n",
      "2 2\n",
      "3 3\n",
      "3 4"
     ]
    }
   ],
   "source": [
    "import sys\n",
    "# input = sys.stdin.readline\n",
    "N = int(input())\n",
    "location_list = []\n",
    "for _ in range(N):\n",
    "    x, y = map(int, input().split())\n",
    "    location_list.append([x, y])\n",
    "# location_list = [[3, 4], [1, 1], [1, -1], [2, 2], [3, 3]]\n",
    "k = 1\n",
    "location = location_list[0]\n",
    "while len(location_list) > 1:\n",
    "    if location[0] > location_list[k][0]:\n",
    "        location = location_list[k]\n",
    "    elif location[0] == location_list[k][0]:\n",
    "        if location[1] > location_list[k][1]:\n",
    "            location = location_list[k]\n",
    "        else:\n",
    "            pass\n",
    "    else:\n",
    "        pass\n",
    "    if k == len(location_list) - 1:\n",
    "        sys.stdout.write(f'{location[0]} {location[1]}\\n')\n",
    "        location_list.pop(location_list.index(location))\n",
    "        location = location_list[0]\n",
    "        k = 1\n",
    "        if len(location_list) == 1:\n",
    "            sys.stdout.write(f'{location[0]} {location[1]}')\n",
    "    else:\n",
    "        k += 1"
   ]
  },
  {
   "cell_type": "code",
   "execution_count": 99,
   "metadata": {},
   "outputs": [
    {
     "name": "stdout",
     "output_type": "stream",
     "text": [
      "1 -1\n",
      "1 1\n",
      "2 2\n",
      "3 3\n",
      "3 4\n"
     ]
    }
   ],
   "source": [
    "import sys\n",
    "# input = sys.stdin.readline\n",
    "N = int(input())\n",
    "location_list = []\n",
    "for _ in range(N):\n",
    "    x, y = map(int, input().split(' '))\n",
    "    location_list.append([x, y])\n",
    "\n",
    "# location_list = [[3, 4], [1, 1], [1, -1], [2, 2], [3, 3]]\n",
    "for location in sorted(location_list, key = lambda x : (x[0], x[1])): \n",
    "    sys.stdout.write(f'{location[0]} {location[1]}\\n')\n"
   ]
  },
  {
   "cell_type": "markdown",
   "metadata": {},
   "source": [
    "문제\n",
    "2차원 평면 위의 점 N개가 주어진다. 좌표를 y좌표가 증가하는 순으로, y좌표가 같으면 x좌표가 증가하는 순서로 정렬한 다음 출력하는 프로그램을 작성하시오.\n",
    "\n",
    "입력\n",
    "첫째 줄에 점의 개수 N (1 ≤ N ≤ 100,000)이 주어진다. 둘째 줄부터 N개의 줄에는 i번점의 위치 xi와 yi가 주어진다. (-100,000 ≤ xi, yi ≤ 100,000) 좌표는 항상 정수이고, 위치가 같은 두 점은 없다.\n",
    "\n",
    "출력\n",
    "첫째 줄부터 N개의 줄에 점을 정렬한 결과를 출력한다."
   ]
  },
  {
   "cell_type": "code",
   "execution_count": 3,
   "metadata": {},
   "outputs": [
    {
     "name": "stdout",
     "output_type": "stream",
     "text": [
      "1 -1\n",
      "1 2\n",
      "2 2\n",
      "3 3\n",
      "0 4\n"
     ]
    }
   ],
   "source": [
    "import sys\n",
    "# input = sys.stdin.readline\n",
    "N = int(input())\n",
    "location_list = []\n",
    "for _ in range(N):\n",
    "    x, y = map(int, input().split())\n",
    "    location_list.append([x, y])\n",
    "# location_list = [[0, 4], [3, 3], [2, 2], [1, 2], [1, -1]]\n",
    "location_list.sort(key = lambda x: (x[1], x[0]))\n",
    "for location in location_list:\n",
    "    sys.stdout.write(f'{location[0]} {location[1]}\\n')"
   ]
  },
  {
   "cell_type": "markdown",
   "metadata": {},
   "source": [
    "문제\n",
    "알파벳 소문자로 이루어진 N개의 단어가 들어오면 아래와 같은 조건에 따라 정렬하는 프로그램을 작성하시오.\n",
    "\n",
    "길이가 짧은 것부터\n",
    "길이가 같으면 사전 순으로\n",
    "입력\n",
    "첫째 줄에 단어의 개수 N이 주어진다. (1 ≤ N ≤ 20,000) 둘째 줄부터 N개의 줄에 걸쳐 알파벳 소문자로 이루어진 단어가 한 줄에 하나씩 주어진다. 주어지는 문자열의 길이는 50을 넘지 않는다.\n",
    "\n",
    "출력\n",
    "조건에 따라 정렬하여 단어들을 출력한다. 단, 같은 단어가 여러 번 입력된 경우에는 한 번씩만 출력한다."
   ]
  },
  {
   "cell_type": "code",
   "execution_count": 7,
   "metadata": {},
   "outputs": [
    {
     "data": {
      "text/plain": [
       "['t', 'd', 'c', 'b', 'a']"
      ]
     },
     "execution_count": 7,
     "metadata": {},
     "output_type": "execute_result"
    }
   ],
   "source": [
    "a = ['a', 'c', 'd', 't', 'b']\n",
    "a.sort(reverse = True)\n",
    "a"
   ]
  },
  {
   "cell_type": "code",
   "execution_count": 26,
   "metadata": {},
   "outputs": [
    {
     "name": "stdout",
     "output_type": "stream",
     "text": [
      "i\n",
      "im\n",
      "it\n",
      "no\n",
      "but\n",
      "more\n",
      "wait\n",
      "wont\n",
      "yours\n",
      "cannot\n",
      "hesitate"
     ]
    }
   ],
   "source": [
    "import sys\n",
    "N = int(input())\n",
    "# N = int(sys.stdin.readline())\n",
    "word_list = []\n",
    "for _ in range(N):\n",
    "    word = input()\n",
    "    # word = sys.stdin.readline().rstrip()\n",
    "    word_list.append(word)\n",
    "word_list = ['but', 'i', 'wont', 'hesitate', 'no', 'more', 'no', 'more', 'it', 'cannot', 'wait', 'im', 'yours']\n",
    "word_list = list(set(word_list))\n",
    "word_list.sort(key = lambda x: (len(x), x))\n",
    "for word in word_list:\n",
    "    if word == word_list[-1]:\n",
    "        sys.stdout.write(f'{word}')\n",
    "    else:\n",
    "        sys.stdout.write(f'{word}\\n')"
   ]
  },
  {
   "cell_type": "markdown",
   "metadata": {},
   "source": [
    "문제\n",
    "온라인 저지에 가입한 사람들의 나이와 이름이 가입한 순서대로 주어진다. 이때, 회원들을 나이가 증가하는 순으로, 나이가 같으면 먼저 가입한 사람이 앞에 오는 순서로 정렬하는 프로그램을 작성하시오.\n",
    "\n",
    "입력\n",
    "첫째 줄에 온라인 저지 회원의 수 N이 주어진다. (1 ≤ N ≤ 100,000)\n",
    "\n",
    "둘째 줄부터 N개의 줄에는 각 회원의 나이와 이름이 공백으로 구분되어 주어진다. 나이는 1보다 크거나 같으며, 200보다 작거나 같은 정수이고, 이름은 알파벳 대소문자로 이루어져 있고, 길이가 100보다 작거나 같은 문자열이다. 입력은 가입한 순서로 주어진다.\n",
    "\n",
    "출력\n",
    "첫째 줄부터 총 N개의 줄에 걸쳐 온라인 저지 회원을 나이 순, 나이가 같으면 가입한 순으로 한 줄에 한 명씩 나이와 이름을 공백으로 구분해 출력한다."
   ]
  },
  {
   "cell_type": "code",
   "execution_count": 24,
   "metadata": {},
   "outputs": [
    {
     "name": "stdout",
     "output_type": "stream",
     "text": [
      "20 Sunyoung\n",
      "21 Junkyu\n",
      "21 Dohyun"
     ]
    }
   ],
   "source": [
    "import sys\n",
    "N = int(input())\n",
    "# N = int(sys.stdin.readline())\n",
    "info_list = []\n",
    "for i in range(N):\n",
    "    info = input().split()\n",
    "    info.append(i)\n",
    "    info_list.append(info)\n",
    "    # info = sys.stdin.readline().rstrip().split()\n",
    "    # info.append(i)\n",
    "    # info_list.append(info)\n",
    "# info_list = [['21', 'Junkyu', 0], ['21', 'Dohyun', 1], ['20', 'Sunyoung', 2]]\n",
    "info_list.sort(key = lambda x: (int(x[0]), int(x[2])))\n",
    "for info in info_list:\n",
    "    if info == info_list[-1]:\n",
    "        sys.stdout.write(f'{info[0]} {info[1]}')\n",
    "    else:\n",
    "        sys.stdout.write(f'{info[0]} {info[1]}\\n')        "
   ]
  },
  {
   "cell_type": "markdown",
   "metadata": {},
   "source": [
    "문제\n",
    "수직선 위에 N개의 좌표 X1, X2, ..., XN이 있다. 이 좌표에 좌표 압축을 적용하려고 한다.\n",
    "\n",
    "Xi를 좌표 압축한 결과 X'i의 값은 Xi > Xj를 만족하는 서로 다른 좌표의 개수와 같아야 한다.\n",
    "\n",
    "X1, X2, ..., XN에 좌표 압축을 적용한 결과 X'1, X'2, ..., X'N를 출력해보자.\n",
    "\n",
    "입력\n",
    "첫째 줄에 N이 주어진다.\n",
    "\n",
    "둘째 줄에는 공백 한 칸으로 구분된 X1, X2, ..., XN이 주어진다.\n",
    "\n",
    "출력\n",
    "첫째 줄에 X'1, X'2, ..., X'N을 공백 한 칸으로 구분해서 출력한다."
   ]
  },
  {
   "cell_type": "code",
   "execution_count": 43,
   "metadata": {},
   "outputs": [
    {
     "name": "stdout",
     "output_type": "stream",
     "text": [
      "0 0 0 0 0 0"
     ]
    }
   ],
   "source": [
    "import sys\n",
    "N = int(input())\n",
    "# N = int(sys.stdin.readline())\n",
    "number_list = list(map(int, input().split()))\n",
    "# number_list = list(map(int, sys.stdin.readline().split()))\n",
    "number_list_check = list(set(number_list))\n",
    "number_list_check.sort()\n",
    "for i in range(N):\n",
    "    for k in range(len(number_list_check)):\n",
    "        if number_list_check[k] == number_list[i]:\n",
    "            if i == N - 1:\n",
    "                sys.stdout.write(f'{k}')\n",
    "            else:\n",
    "                sys.stdout.write(f'{k} ')"
   ]
  },
  {
   "cell_type": "code",
   "execution_count": 48,
   "metadata": {},
   "outputs": [
    {
     "name": "stdout",
     "output_type": "stream",
     "text": [
      "1 0 1 0 1 0"
     ]
    }
   ],
   "source": [
    "import sys\n",
    "N = int(input())\n",
    "# N = int(sys.stdin.readline())\n",
    "number_list = list(map(int, input().split()))\n",
    "# number_list = list(map(int, sys.stdin.readline().split()))\n",
    "number_list_check = list(set(number_list))\n",
    "number_list_check.sort()\n",
    "number_index_dic = dict(zip(number_list_check, [x for x in range(len(number_list_check))]))\n",
    "for index, number in enumerate(number_list):\n",
    "    if index == N-1:\n",
    "        sys.stdout.write(f'{number_index_dic[number]}')\n",
    "    else:\n",
    "        sys.stdout.write(f'{number_index_dic[number]} ')"
   ]
  },
  {
   "cell_type": "markdown",
   "metadata": {},
   "source": [
    "문제\n",
    "자연수 N과 M이 주어졌을 때, 아래 조건을 만족하는 길이가 M인 수열을 모두 구하는 프로그램을 작성하시오.\n",
    "1부터 N까지 자연수 중에서 중복 없이 M개를 고른 수열\n",
    "\n",
    "입력\n",
    "첫째 줄에 자연수 N과 M이 주어진다. (1 ≤ M ≤ N ≤ 8)\n",
    "\n",
    "출력\n",
    "한 줄에 하나씩 문제의 조건을 만족하는 수열을 출력한다. 중복되는 수열을 여러 번 출력하면 안되며, 각 수열은 공백으로 구분해서 출력해야 한다.\n",
    "수열은 사전 순으로 증가하는 순서로 출력해야 한다."
   ]
  },
  {
   "cell_type": "code",
   "execution_count": 35,
   "metadata": {},
   "outputs": [
    {
     "name": "stdout",
     "output_type": "stream",
     "text": [
      "일번 2 3 5\n"
     ]
    }
   ],
   "source": [
    "arr_list = ['일번', 2, 3, 5] # 결과값을 입력받을 리스트 형성\n",
    "print(*arr_list)"
   ]
  },
  {
   "cell_type": "code",
   "execution_count": 72,
   "metadata": {},
   "outputs": [
    {
     "name": "stdout",
     "output_type": "stream",
     "text": [
      "1 2 3\n",
      "1 3 2\n",
      "2 1 3\n",
      "2 3 1\n",
      "3 1 2\n",
      "3 2 1"
     ]
    }
   ],
   "source": [
    "import sys\n",
    "N, M = map(int, input().split()) # 입력값 받기\n",
    "number_list = [x for x in range(N+1)] # 0부터 N까지의 수를 가진 숫자 리스트 생성\n",
    "check_list = [False] * (N + 1) # 방문경로를 확인할 방문기록 리스트 형성\n",
    "# N + 1로 형성한 이유 : 숫자 인덱스의 값을 실제 숫자와 일치화 시키기 위해서\n",
    "arr_list = [] # 결과값을 입력받을 리스트 형성\n",
    "\n",
    "def dfs(cnt): \n",
    "    if cnt == M: # 주어진 개수만큼 채워지면 출력\n",
    "        # print(*arr_list) # *arr_list : arr_list내부에 있는 변수들을 공백문자를 분할기준으로 출력\n",
    "        for number in arr_list: # 출력문 간소화를 위한 sys함수적용(반드시 마지막 문자는 개행문자 제거 필요)\n",
    "            if arr_list == [x for x in range(N, 0, -1)]:\n",
    "                if number == arr_list[-1]:\n",
    "                    sys.stdout.write(f'{number}')\n",
    "                else:    \n",
    "                    sys.stdout.write(f'{number} ')\n",
    "            elif number == arr_list[-1]:\n",
    "                sys.stdout.write(f'{number}\\n')\n",
    "            else:\n",
    "                sys.stdout.write(f'{number} ')\n",
    "        # print(arr_list)\n",
    "        return\n",
    "\n",
    "    for i in range(1, N+1):\n",
    "        if check_list[i]: # 백트래킹 적용\n",
    "            # 설명 : 아래쪽 dfs(cnt+1)로 재귀함수를 적용할때 이미 반영된 숫자가 들어오면 재귀 중지\n",
    "            # 첫번째 입력 숫자가 1이면, 두번째에 1이 들어오면 노드 탐색 중지\n",
    "            # [1, 2]가 입력된 상태에서 1이나 2가 들어오면 노드탐색 중지\n",
    "            # 중복된 값을 넣고 싶으면 pass로 변경\n",
    "            continue\n",
    "            # pass\n",
    "\n",
    "        check_list[i] = True # 수열 체크(방문기록 작성)\n",
    "        arr_list.append(number_list[i]) # 현재의 i를 기준으로 가지치기 시작, 수열 추가\n",
    "\n",
    "        dfs(cnt+1) # +1번째 수열을 재귀\n",
    "\n",
    "        arr_list.pop() # 수열의 마지막 자리 삭제 # 새로운 경우의 수를 찾기위해 작성한 배열 삭제\n",
    "        check_list[i] = False\n",
    "\n",
    "dfs(0)"
   ]
  },
  {
   "cell_type": "code",
   "execution_count": 81,
   "metadata": {},
   "outputs": [
    {
     "data": {
      "text/plain": [
       "[(1, 2), (1, 3), (2, 1), (2, 3), (3, 1), (3, 2)]"
      ]
     },
     "execution_count": 81,
     "metadata": {},
     "output_type": "execute_result"
    }
   ],
   "source": [
    "# itertools를 활용한 방법\n",
    "import itertools\n",
    "N, M = map(int, input().split())\n",
    "number_list = [x for x in range(1, N+1)]\n",
    "result_list = list(itertools.permutations(number_list, M))\n",
    "result_list"
   ]
  },
  {
   "cell_type": "markdown",
   "metadata": {},
   "source": [
    "문제\n",
    "자연수 N과 M이 주어졌을 때, 아래 조건을 만족하는 길이가 M인 수열을 모두 구하는 프로그램을 작성하시오.\n",
    "1부터 N까지 자연수 중에서 중복 없이 M개를 고른 수열\n",
    "고른 수열은 오름차순이어야 한다.\n",
    "\n",
    "입력\n",
    "첫째 줄에 자연수 N과 M이 주어진다. (1 ≤ M ≤ N ≤ 8)\n",
    "\n",
    "출력\n",
    "한 줄에 하나씩 문제의 조건을 만족하는 수열을 출력한다. 중복되는 수열을 여러 번 출력하면 안되며, 각 수열은 공백으로 구분해서 출력해야 한다.\n",
    "수열은 사전 순으로 증가하는 순서로 출력해야 한다."
   ]
  },
  {
   "cell_type": "code",
   "execution_count": 137,
   "metadata": {},
   "outputs": [
    {
     "name": "stdout",
     "output_type": "stream",
     "text": [
      "1 2 3\n"
     ]
    }
   ],
   "source": [
    "N, M = map(int, input().split())\n",
    "# N, M = 3, 2\n",
    "number_list = [x for x in range(1, N+1)] # 1부터 N까지의 숫자를 가진 리스트 생성\n",
    "check_list = [False] * N # 방문기록를 작성 및 확인할 리스트 생성\n",
    "arr_list = [] # 출력할 값을 넣을 리스트 생성\n",
    "\n",
    "def dfs(start):\n",
    "    if len(arr_list) == M:\n",
    "        print(*arr_list)\n",
    "        return\n",
    "    \n",
    "    for i in range(start, N):\n",
    "        if i+1 in arr_list:\n",
    "            continue\n",
    "        check_list[i] = True\n",
    "        arr_list.append(i+1)\n",
    "\n",
    "        dfs(i+1)\n",
    "\n",
    "        arr_list.pop()\n",
    "        check_list[i] = False\n",
    "dfs(0)"
   ]
  },
  {
   "cell_type": "markdown",
   "metadata": {},
   "source": [
    "문제\n",
    "정수를 저장하는 스택을 구현한 다음, 입력으로 주어지는 명령을 처리하는 프로그램을 작성하시오.\n",
    "명령은 총 다섯 가지이다.\n",
    "push X: 정수 X를 스택에 넣는 연산이다.\n",
    "pop: 스택에서 가장 위에 있는 정수를 빼고, 그 수를 출력한다. 만약 스택에 들어있는 정수가 없는 경우에는 -1을 출력한다.\n",
    "size: 스택에 들어있는 정수의 개수를 출력한다.\n",
    "empty: 스택이 비어있으면 1, 아니면 0을 출력한다.\n",
    "top: 스택의 가장 위에 있는 정수를 출력한다. 만약 스택에 들어있는 정수가 없는 경우에는 -1을 출력한다.\n",
    "\n",
    "입력\n",
    "첫째 줄에 주어지는 명령의 수 N (1 ≤ N ≤ 10,000)이 주어진다. 둘째 줄부터 N개의 줄에는 명령이 하나씩 주어진다. 주어지는 정수는 1보다 크거나 같고, 100,000보다 작거나 같다. 문제에 나와있지 않은 명령이 주어지는 경우는 없다.\n",
    "\n",
    "출력\n",
    "출력해야하는 명령이 주어질 때마다, 한 줄에 하나씩 출력한다."
   ]
  },
  {
   "cell_type": "code",
   "execution_count": 178,
   "metadata": {},
   "outputs": [
    {
     "name": "stdout",
     "output_type": "stream",
     "text": [
      "-1\n",
      "-1"
     ]
    }
   ],
   "source": [
    "class stack:\n",
    "    def __init__(self):\n",
    "        self.result = []\n",
    "    \n",
    "    def push(self, X):\n",
    "        self.result.append(X)\n",
    "\n",
    "    def pop(self):\n",
    "        if len(self.result) == 0:\n",
    "            return -1\n",
    "        else:\n",
    "            return self.result.pop()\n",
    "\n",
    "    def size(self):\n",
    "        return len(self.result)\n",
    "    \n",
    "    def empty(self):\n",
    "        if len(self.result) == 0:\n",
    "            return 1\n",
    "        else:\n",
    "            return 0\n",
    "    \n",
    "    def top(self):\n",
    "        if len(self.result) == 0:\n",
    "            return -1\n",
    "        else:\n",
    "            return self.result[-1]\n",
    "\n",
    "import sys \n",
    "N = int(input())\n",
    "# N = int(sys.stdin.readline())\n",
    "result = stack()\n",
    "for i in range(N):\n",
    "    order = input()\n",
    "    # order = sys.stdin.readline().rstrip()\n",
    "    if 'push' in order:\n",
    "        result.push(order.split()[1])\n",
    "    elif 'pop' == order:\n",
    "        if i == (N-1):\n",
    "            sys.stdout.write(f'{result.pop()}')\n",
    "        else:\n",
    "            sys.stdout.write(f'{result.pop()}\\n')\n",
    "    elif 'size' == order:\n",
    "        if i == (N-1):\n",
    "            sys.stdout.write(f'{result.size()}')\n",
    "        else:\n",
    "            sys.stdout.write(f'{result.size()}\\n')\n",
    "    elif 'empty' == order:\n",
    "        if i == (N-1):\n",
    "            sys.stdout.write(f'{result.empty()}')\n",
    "        else:\n",
    "            sys.stdout.write(f'{result.empty()}\\n')\n",
    "    elif 'top' == order:\n",
    "        if i == (N-1):\n",
    "            sys.stdout.write(f'{result.top()}')\n",
    "        else:\n",
    "            sys.stdout.write(f'{result.top()}\\n')\n",
    "    else:\n",
    "        pass"
   ]
  },
  {
   "cell_type": "code",
   "execution_count": 179,
   "metadata": {},
   "outputs": [
    {
     "data": {
      "text/plain": [
       "[]"
      ]
     },
     "execution_count": 179,
     "metadata": {},
     "output_type": "execute_result"
    }
   ],
   "source": [
    "result.result"
   ]
  },
  {
   "cell_type": "markdown",
   "metadata": {},
   "source": [
    "문제\n",
    "나코더 기장 재민이는 동아리 회식을 준비하기 위해서 장부를 관리하는 중이다.\n",
    "재현이는 재민이를 도와서 돈을 관리하는 중인데, 애석하게도 항상 정신없는 재현이는 돈을 실수로 잘못 부르는 사고를 치기 일쑤였다.\n",
    "재현이는 잘못된 수를 부를 때마다 0을 외쳐서, 가장 최근에 재민이가 쓴 수를 지우게 시킨다.\n",
    "재민이는 이렇게 모든 수를 받아 적은 후 그 수의 합을 알고 싶어 한다. 재민이를 도와주자!\n",
    "\n",
    "입력\n",
    "첫 번째 줄에 정수 K가 주어진다. (1 ≤ K ≤ 100,000)\n",
    "이후 K개의 줄에 정수가 1개씩 주어진다. 정수는 0에서 1,000,000 사이의 값을 가지며, \n",
    "정수가 \"0\" 일 경우에는 가장 최근에 쓴 수를 지우고, 아닐 경우 해당 수를 쓴다.\n",
    "정수가 \"0\"일 경우에 지울 수 있는 수가 있음을 보장할 수 있다.\n",
    "\n",
    "출력\n",
    "재민이가 최종적으로 적어 낸 수의 합을 출력한다. 최종적으로 적어낸 수의 합은 231-1보다 작거나 같은 정수이다."
   ]
  },
  {
   "cell_type": "code",
   "execution_count": 187,
   "metadata": {},
   "outputs": [
    {
     "name": "stdout",
     "output_type": "stream",
     "text": [
      "7"
     ]
    }
   ],
   "source": [
    "import sys\n",
    "# input = sys.stdin.readline\n",
    "K = int(input())\n",
    "answer_list = []\n",
    "for _ in range(K):\n",
    "    answer = int(input())\n",
    "    if answer == 0:\n",
    "        answer_list.pop()\n",
    "    else:\n",
    "        answer_list.append(answer)\n",
    "sys.stdout.write(f'{sum(answer_list)}')"
   ]
  },
  {
   "cell_type": "markdown",
   "metadata": {},
   "source": [
    "문제\n",
    "괄호 문자열(Parenthesis String, PS)은 두 개의 괄호 기호인 ‘(’ 와 ‘)’ 만으로 구성되어 있는 문자열이다. 그 중에서 괄호의 모양이 바르게 구성된 문자열을 올바른 괄호 문자열(Valid PS, VPS)이라고 부른다. 한 쌍의 괄호 기호로 된 “( )” 문자열은 기본 VPS 이라고 부른다. 만일 x 가 VPS 라면 이것을 하나의 괄호에 넣은 새로운 문자열 “(x)”도 VPS 가 된다. 그리고 두 VPS x 와 y를 접합(concatenation)시킨 새로운 문자열 xy도 VPS 가 된다. 예를 들어 “(())()”와 “((()))” 는 VPS 이지만 “(()(”, “(())()))” , 그리고 “(()” 는 모두 VPS 가 아닌 문자열이다. \n",
    "여러분은 입력으로 주어진 괄호 문자열이 VPS 인지 아닌지를 판단해서 그 결과를 YES 와 NO 로 나타내어야 한다. \n",
    "\n",
    "입력\n",
    "입력 데이터는 표준 입력을 사용한다. 입력은 T개의 테스트 데이터로 주어진다. 입력의 첫 번째 줄에는 입력 데이터의 수를 나타내는 정수 T가 주어진다. 각 테스트 데이터의 첫째 줄에는 괄호 문자열이 한 줄에 주어진다. 하나의 괄호 문자열의 길이는 2 이상 50 이하이다. \n",
    "\n",
    "출력\n",
    "출력은 표준 출력을 사용한다. 만일 입력 괄호 문자열이 올바른 괄호 문자열(VPS)이면 “YES”, 아니면 “NO”를 한 줄에 하나씩 차례대로 출력해야 한다. "
   ]
  },
  {
   "cell_type": "code",
   "execution_count": 201,
   "metadata": {},
   "outputs": [
    {
     "name": "stdout",
     "output_type": "stream",
     "text": [
      "NO\n",
      "NO\n",
      "NO"
     ]
    }
   ],
   "source": [
    "def check(PS):\n",
    "    result_list = []\n",
    "    for i in range(len(PS)):\n",
    "        if PS[0] == ')':\n",
    "            return 'NO'\n",
    "        else:\n",
    "            for i in range(len(PS)):\n",
    "                result_list.append(PS[i])\n",
    "                if len(result_list) >= 2:\n",
    "                    if result_list[-2] + result_list[-1] == '()':\n",
    "                        result_list.pop()\n",
    "                        result_list.pop()\n",
    "        if len(result_list) != 0:\n",
    "            return 'NO'\n",
    "        else:\n",
    "            return 'YES'\n",
    "\n",
    "import sys\n",
    "T = int(input())\n",
    "# T = int(sys.stdin.readline())\n",
    "for i in range(T):\n",
    "    PS = input()\n",
    "    # PS = sys.stdin.readline().rstrip()   \n",
    "    if i != T-1:\n",
    "        sys.stdout.write(f'{check(PS)}\\n') \n",
    "    else:\n",
    "        sys.stdout.write(f'{check(PS)}')"
   ]
  },
  {
   "cell_type": "markdown",
   "metadata": {},
   "source": [
    "문제\n",
    "자연수 N과 M이 주어졌을 때, 아래 조건을 만족하는 길이가 M인 수열을 모두 구하는 프로그램을 작성하시오.\n",
    "1부터 N까지 자연수 중에서 M개를 고른 수열\n",
    "같은 수를 여러 번 골라도 된다.\n",
    "\n",
    "입력\n",
    "첫째 줄에 자연수 N과 M이 주어진다. (1 ≤ M ≤ N ≤ 7)\n",
    "\n",
    "출력\n",
    "한 줄에 하나씩 문제의 조건을 만족하는 수열을 출력한다. 중복되는 수열을 여러 번 출력하면 안되며, 각 수열은 공백으로 구분해서 출력해야 한다.\n",
    "\n",
    "수열은 사전 순으로 증가하는 순서로 출력해야 한다."
   ]
  },
  {
   "cell_type": "code",
   "execution_count": null,
   "metadata": {},
   "outputs": [],
   "source": [
    "import sys\n",
    "N, M = map(int, input().split())\n",
    "# N, M = map(int, sys.stdin.readline().split()) # 입력받을 값들이 다량일때 input보다 효과적\n",
    "number_list = [x for x in range(1, N+1)] # 1부터 N까지의 값들로 이루어진 리스트 생성\n",
    "arr_list = [] # 결과값을 작성하고 출력할 리스트 생성\n",
    "\n",
    "def dfs():\n",
    "    if len(arr_list) == M:\n",
    "        # print를 사용해서 결과값 출력\n",
    "        # print(*arr_list) \n",
    "        # sys를 사용해서 결과값 출력\n",
    "        if arr_list == [N for _ in range(M)]:\n",
    "            for i in range(M):\n",
    "                if i == M-1:\n",
    "                    sys.stdout.write(f'{arr_list[i]}')\n",
    "                else:\n",
    "                    sys.stdout.write(f'{arr_list[i]} ')\n",
    "        else:\n",
    "            for i in range(M):\n",
    "                if i == M-1:\n",
    "                    sys.stdout.write(f'{arr_list[i]}\\n')\n",
    "                else:\n",
    "                    sys.stdout.write(f'{arr_list[i]} ')\n",
    "        return\n",
    "\n",
    "    for i in range(0, N):\n",
    "        arr_list.append(i+1)\n",
    "        dfs()\n",
    "        arr_list.pop()\n",
    "\n",
    "dfs()    "
   ]
  },
  {
   "cell_type": "markdown",
   "metadata": {},
   "source": [
    "문제\n",
    "자연수 N과 M이 주어졌을 때, 아래 조건을 만족하는 길이가 M인 수열을 모두 구하는 프로그램을 작성하시오.\n",
    "1부터 N까지 자연수 중에서 M개를 고른 수열\n",
    "같은 수를 여러 번 골라도 된다.\n",
    "고른 수열은 비내림차순이어야 한다.\n",
    "길이가 K인 수열 A가 A1 ≤ A2 ≤ ... ≤ AK-1 ≤ AK를 만족하면, 비내림차순이라고 한다.\n",
    "\n",
    "입력\n",
    "첫째 줄에 자연수 N과 M이 주어진다. (1 ≤ M ≤ N ≤ 8)\n",
    "\n",
    "출력\n",
    "한 줄에 하나씩 문제의 조건을 만족하는 수열을 출력한다. 중복되는 수열을 여러 번 출력하면 안되며, 각 수열은 공백으로 구분해서 출력해야 한다.\n",
    "수열은 사전 순으로 증가하는 순서로 출력해야 한다."
   ]
  },
  {
   "cell_type": "code",
   "execution_count": 26,
   "metadata": {},
   "outputs": [
    {
     "name": "stdout",
     "output_type": "stream",
     "text": [
      "1 1 1\n",
      "1 1 2\n",
      "1 1 3\n",
      "1 2 2\n",
      "1 2 3\n",
      "1 3 3\n",
      "2 2 2\n",
      "2 2 3\n",
      "2 3 3\n",
      "3 3 3\n"
     ]
    }
   ],
   "source": [
    "N, M = map(int, input().split())\n",
    "number_list = [x for x in range(1, N+1)] # 1부터 N까지의 숫자로 이루어진 리스트 생성\n",
    "arr_list = []\n",
    "start = 0\n",
    "def dfs(start):\n",
    "    if len(arr_list) == M:\n",
    "        print(*arr_list)\n",
    "        return\n",
    "\n",
    "    for i in range(start, N):\n",
    "        arr_list.append(i+1)\n",
    "        dfs(i)\n",
    "        arr_list.pop()\n",
    "dfs(0)"
   ]
  },
  {
   "cell_type": "markdown",
   "metadata": {},
   "source": [
    "문제\n",
    "N개의 수로 이루어진 수열 A1, A2, ..., AN이 주어진다. 또, 수와 수 사이에 끼워넣을 수 있는 N-1개의 연산자가 주어진다. 연산자는 덧셈(+), 뺄셈(-), 곱셈(×), 나눗셈(÷)으로만 이루어져 있다.\n",
    "우리는 수와 수 사이에 연산자를 하나씩 넣어서, 수식을 하나 만들 수 있다. 이때, 주어진 수의 순서를 바꾸면 안 된다.\n",
    "예를 들어, 6개의 수로 이루어진 수열이 1, 2, 3, 4, 5, 6이고, 주어진 연산자가 덧셈(+) 2개, 뺄셈(-) 1개, 곱셈(×) 1개, 나눗셈(÷) 1개인 경우에는 총 60가지의 식을 만들 수 있다. 예를 들어, 아래와 같은 식을 만들 수 있다.\n",
    "1+2+3-4×5÷6\n",
    "1÷2+3+4-5×6\n",
    "1+2÷3×4-5+6\n",
    "1÷2×3-4+5+6\n",
    "식의 계산은 연산자 우선 순위를 무시하고 앞에서부터 진행해야 한다. 또, 나눗셈은 정수 나눗셈으로 몫만 취한다. 음수를 양수로 나눌 때는 C++14의 기준을 따른다. 즉, 양수로 바꾼 뒤 몫을 취하고, 그 몫을 음수로 바꾼 것과 같다. 이에 따라서, 위의 식 4개의 결과를 계산해보면 아래와 같다.\n",
    "1+2+3-4×5÷6 = 1\n",
    "1÷2+3+4-5×6 = 12\n",
    "1+2÷3×4-5+6 = 5\n",
    "1÷2×3-4+5+6 = 7\n",
    "N개의 수와 N-1개의 연산자가 주어졌을 때, 만들 수 있는 식의 결과가 최대인 것과 최소인 것을 구하는 프로그램을 작성하시오.\n",
    "\n",
    "입력\n",
    "첫째 줄에 수의 개수 N(2 ≤ N ≤ 11)가 주어진다. 둘째 줄에는 A1, A2, ..., AN이 주어진다. (1 ≤ Ai ≤ 100) 셋째 줄에는 합이 N-1인 4개의 정수가 주어지는데, 차례대로 덧셈(+)의 개수, 뺄셈(-)의 개수, 곱셈(×)의 개수, 나눗셈(÷)의 개수이다. \n",
    "\n",
    "출력\n",
    "첫째 줄에 만들 수 있는 식의 결과의 최댓값을, 둘째 줄에는 최솟값을 출력한다. 연산자를 어떻게 끼워넣어도 항상 -10억보다 크거나 같고, 10억보다 작거나 같은 결과가 나오는 입력만 주어진다. 또한, 앞에서부터 계산했을 때, 중간에 계산되는 식의 결과도 항상 -10억보다 크거나 같고, 10억보다 작거나 같다."
   ]
  },
  {
   "cell_type": "code",
   "execution_count": 1,
   "metadata": {},
   "outputs": [],
   "source": [
    "N = int(input())\n",
    "number_list = list(map(int, input().split())) # 입력받은 숫자들로 리스트를 생성\n",
    "operator_dic = dict(zip(['+', '-', '*', '/'], list(map(int, input().split()))))"
   ]
  },
  {
   "cell_type": "code",
   "execution_count": 2,
   "metadata": {},
   "outputs": [],
   "source": [
    "operator_list = []\n",
    "for key, value in operator_dic.items():\n",
    "    if value != 0:\n",
    "        for _ in range(value):\n",
    "            operator_list.append(key)"
   ]
  },
  {
   "cell_type": "code",
   "execution_count": 7,
   "metadata": {},
   "outputs": [
    {
     "data": {
      "text/plain": [
       "['-17']"
      ]
     },
     "execution_count": 7,
     "metadata": {},
     "output_type": "execute_result"
    }
   ],
   "source": [
    "# 문자열로 입력받은 사칙연산 수행할 클래스 및 함수 작성\n",
    "def operator_str(fml):\n",
    "    if '*' in fml or '/' in fml: # 곱셈과 나눗셈을 먼저 처리하기 위해서 실시\n",
    "        i = 1 # 연산자는 무조건 홀수 인덱스를 가짐\n",
    "        while '*' in fml or '/' in fml:\n",
    "            if fml[i] == '*':\n",
    "                ch_num = int(fml[i-1]) * int(fml[i+1]) # 연산을 위한 자료형 변경\n",
    "                fml[i-1] = str(ch_num)  # 입력값이 문자열이고, 추가 연산을 위해 계산한 숫자를 문자열로 변환후 위치부여\n",
    "                fml = fml[:i] + fml[i+2:] # 계산에 사용한 문자열들 제거(슬라이싱 사용)\n",
    "                i -= 2 # 다음 연산자의 위치와 i의 위치를 맞춰주기 위해서 i-2적용(이유 : 반복문 끝에 i+2이 있기 때문에)\n",
    "            if fml[i] == '/':\n",
    "                ch_num = int(fml[i-1]) * int(fml[i+1])\n",
    "                fml[i-1] = str(ch_num)  \n",
    "                fml = fml[:i] + fml[i+2:]\n",
    "                i -= 2\n",
    "            i += 2\n",
    "        return operator_str(fml) # 곱셈과 나눗셈 실시 후 재귀호출을 통해 덧셈과 뺄셈 실시\n",
    "    else:\n",
    "        i = 1\n",
    "        while '+' in fml or '-' in fml:\n",
    "            if fml[i] == '+':\n",
    "                ch_num = int(fml[i-1]) + int(fml[i+1])\n",
    "                fml[i-1] = str(ch_num)\n",
    "                fml = fml[:i] + fml[i+2:]\n",
    "                i -= 2\n",
    "            if fml[i] == '-':\n",
    "                ch_num = int(fml[i-1]) - int(fml[i+1])\n",
    "                fml[i-1] = str(ch_num)\n",
    "                fml = fml[:i] + fml[i+2:]\n",
    "                i -= 2\n",
    "            i += 2\n",
    "        return fml\n",
    "# test = ['3', '-', '4', '/', '5']\n",
    "# operator_str(test)"
   ]
  },
  {
   "cell_type": "code",
   "execution_count": 11,
   "metadata": {},
   "outputs": [
    {
     "name": "stdout",
     "output_type": "stream",
     "text": [
      "3\n",
      "[3, 4, 5]\n",
      "['+', '*']\n",
      "['23']\n",
      "['17']\n"
     ]
    }
   ],
   "source": [
    "print(N, number_list, operator_list, sep ='\\n')\n",
    "check_list = [False] * (N-1)\n",
    "operator_combination_list = []\n",
    "result_list = []\n",
    "\n",
    "def dfs():\n",
    "    if len(operator_combination_list) == (N-1):\n",
    "        result = [str(number_list[0])]\n",
    "        for i in range(N-1):\n",
    "            result.append(operator_combination_list[i])\n",
    "            result.append(str(number_list[i+1]))\n",
    "        result_list.append(result)\n",
    "        return\n",
    "    \n",
    "    for i in range(N-1):\n",
    "        if check_list[i]:\n",
    "            continue\n",
    "\n",
    "        check_list[i] = True\n",
    "        operator_combination_list.append(operator_list[i])\n",
    "\n",
    "        dfs()\n",
    "\n",
    "        operator_combination_list.pop()\n",
    "        check_list[i] = False\n",
    "dfs()   \n",
    "for i in range(len(result_list)):\n",
    "    result_list[i] = operator_str(result_list[i])\n",
    "print(max(result_list), min(result_list), sep = '\\n')"
   ]
  },
  {
   "cell_type": "code",
   "execution_count": 2,
   "metadata": {},
   "outputs": [
    {
     "name": "stdout",
     "output_type": "stream",
     "text": [
      "54\n",
      "-24\n"
     ]
    }
   ],
   "source": [
    "# 연산자의 우선순위를 고려하지 않았을 때의 계산\n",
    "def operator_str1(fml):\n",
    "        i = 1 # 연산자는 무조건 홀수 인덱스를 가짐\n",
    "        while '*' in fml or '/' in fml or '+' in fml or '-' in fml:\n",
    "            if fml[i] == '*':\n",
    "                ch_num = int(fml[i-1]) * int(fml[i+1]) # 연산을 위한 자료형 변경\n",
    "                fml[i-1] = str(ch_num)  # 입력값이 문자열이고, 추가 연산을 위해 계산한 숫자를 문자열로 변환후 위치부여\n",
    "                fml = fml[:i] + fml[i+2:] # 계산에 사용한 문자열들 제거(슬라이싱 사용)\n",
    "            elif fml[i] == '/':\n",
    "                if int(fml[i-1]) < 0 and int(fml[i+1]) < 0:\n",
    "                    ch_num = int(fml[i-1]) // int(fml[i+1])\n",
    "                elif int(fml[i-1]) < 0 or int(fml[i+1]) < 0:\n",
    "                    ch_num = (abs(int(fml[i-1])) // abs(int(fml[i+1])))*(-1)\n",
    "                else:\n",
    "                    ch_num = int(fml[i-1]) // int(fml[i+1])\n",
    "                fml[i-1] = str(ch_num)  \n",
    "                fml = fml[:i] + fml[i+2:]\n",
    "            elif fml[i] == '+':\n",
    "                ch_num = int(fml[i-1]) + int(fml[i+1])\n",
    "                fml[i-1] = str(ch_num)\n",
    "                fml = fml[:i] + fml[i+2:]\n",
    "            elif fml[i] == '-':\n",
    "                ch_num = int(fml[i-1]) - int(fml[i+1])\n",
    "                fml[i-1] = str(ch_num)\n",
    "                fml = fml[:i] + fml[i+2:]\n",
    "        return fml[0]\n",
    "\n",
    "# 연산자의 우선순위를 고려했을 때의 계산\n",
    "def operator_str2(fml):\n",
    "    if '*' in fml or '/' in fml: # 곱셈과 나눗셈을 먼저 처리하기 위해서 실시\n",
    "        i = 1 # 연산자는 무조건 홀수 인덱스를 가짐\n",
    "        while '*' in fml or '/' in fml:\n",
    "            if fml[i] == '*':\n",
    "                ch_num = int(fml[i-1]) * int(fml[i+1]) # 연산을 위한 자료형 변경\n",
    "                fml[i-1] = str(ch_num)  # 입력값이 문자열이고, 추가 연산을 위해 계산한 숫자를 문자열로 변환후 위치부여\n",
    "                fml = fml[:i] + fml[i+2:] # 계산에 사용한 문자열들 제거(슬라이싱 사용)\n",
    "                i -= 2 # 다음 연산자의 위치와 i의 위치를 맞춰주기 위해서 i-2적용(이유 : 반복문 끝에 i+2이 있기 때문에)\n",
    "            elif fml[i] == '/':\n",
    "                if int(fml[i-1]) < 0 and int(fml[i+1]) < 0:\n",
    "                    ch_num = int(fml[i-1]) // int(fml[i+1])\n",
    "                elif int(fml[i-1]) < 0 or int(fml[i+1]) < 0:\n",
    "                    ch_num = (abs(int(fml[i-1])) // abs(int(fml[i+1])))*(-1)\n",
    "                else:\n",
    "                    ch_num = int(fml[i-1]) // int(fml[i+1])\n",
    "                fml[i-1] = str(ch_num)  \n",
    "                fml = fml[:i] + fml[i+2:]\n",
    "                i -= 2\n",
    "            i += 2\n",
    "        return operator_str2(fml) # 곱셈과 나눗셈 실시 후 재귀호출을 통해 덧셈과 뺄셈 실시\n",
    "    else:\n",
    "        i = 1\n",
    "        while '+' in fml or '-' in fml:\n",
    "            if fml[i] == '+':\n",
    "                ch_num = int(fml[i-1]) + int(fml[i+1])\n",
    "                fml[i-1] = str(ch_num)\n",
    "                fml = fml[:i] + fml[i+2:]\n",
    "                i -= 2\n",
    "            elif fml[i] == '-':\n",
    "                ch_num = int(fml[i-1]) - int(fml[i+1])\n",
    "                fml[i-1] = str(ch_num)\n",
    "                fml = fml[:i] + fml[i+2:]\n",
    "                i -= 2\n",
    "            i += 2\n",
    "        return fml[0]\n",
    "\n",
    "N = int(input())\n",
    "number_list = list(map(int, input().split())) # 입력받은 숫자들로 리스트를 생성\n",
    "operator_dic = dict(zip(['+', '-', '*', '/'], list(map(int, input().split()))))\n",
    "operator_list = []\n",
    "for key, value in operator_dic.items():\n",
    "    if value != 0:\n",
    "        for _ in range(value):\n",
    "            operator_list.append(key)\n",
    "\n",
    "check_list = [False] * (N-1)\n",
    "operator_combination_list = []\n",
    "result_list = []\n",
    "\n",
    "def dfs():\n",
    "    if len(operator_combination_list) == (N-1):\n",
    "        result = [str(number_list[0])]\n",
    "        for i in range(N-1):\n",
    "            result.append(operator_combination_list[i])\n",
    "            result.append(str(number_list[i+1]))\n",
    "        if result not in result_list:\n",
    "            result_list.append(result)\n",
    "        return\n",
    "    \n",
    "    for i in range(N-1):\n",
    "        if check_list[i]:\n",
    "            continue\n",
    "         \n",
    "        check_list[i] = True\n",
    "        operator_combination_list.append(operator_list[i])\n",
    "\n",
    "        dfs()\n",
    "\n",
    "        operator_combination_list.pop()\n",
    "        check_list[i] = False\n",
    "dfs()   \n",
    "# print(len(result_list))\n",
    "for i in range(len(result_list)):\n",
    "    result_list[i] = int(operator_str1(result_list[i]))\n",
    "print(max(result_list), min(result_list), sep = '\\n')"
   ]
  },
  {
   "cell_type": "code",
   "execution_count": 3,
   "metadata": {},
   "outputs": [
    {
     "name": "stdout",
     "output_type": "stream",
     "text": [
      "60\n"
     ]
    }
   ],
   "source": [
    "print(len(result_list))"
   ]
  },
  {
   "cell_type": "code",
   "execution_count": 46,
   "metadata": {},
   "outputs": [
    {
     "name": "stdout",
     "output_type": "stream",
     "text": [
      "['1', '-', '2', '/', '3', '+', '4', '+', '5', '*', '6']\n",
      "['-1', '/', '3', '+', '4', '+', '5', '*', '6']\n",
      "['0', '+', '4', '+', '5', '*', '6']\n",
      "['4', '+', '5', '*', '6']\n",
      "['9', '*', '6']\n"
     ]
    },
    {
     "data": {
      "text/plain": [
       "['54']"
      ]
     },
     "execution_count": 46,
     "metadata": {},
     "output_type": "execute_result"
    }
   ],
   "source": [
    "fml = ['1', '-', '2', '/', '3', '+', '4', '+', '5', '*', '6']\n",
    "i = 1 # 연산자는 무조건 홀수 인덱스를 가짐\n",
    "while '*' in fml or '/' in fml or '+' in fml or '-' in fml:\n",
    "    print(fml)\n",
    "    if fml[i] == '*':\n",
    "        ch_num = int(fml[i-1]) * int(fml[i+1]) # 연산을 위한 자료형 변경\n",
    "        fml[i-1] = str(ch_num)  # 입력값이 문자열이고, 추가 연산을 위해 계산한 숫자를 문자열로 변환후 위치부여\n",
    "        fml = fml[:i] + fml[i+2:] # 계산에 사용한 문자열들 제거(슬라이싱 사용)\n",
    "    elif fml[i] == '/':\n",
    "        if int(fml[i-1]) < 0 and int(fml[i+1]) < 0:\n",
    "            ch_num = int(fml[i-1]) // int(fml[i+1])\n",
    "        elif int(fml[i-1]) < 0 or int(fml[i+1]) < 0:\n",
    "            ch_num = (abs(int(fml[i-1])) // abs(int(fml[i+1])))*(-1)\n",
    "        else:\n",
    "            ch_num = int(fml[i-1]) // int(fml[i+1])\n",
    "        fml[i-1] = str(ch_num)  \n",
    "        fml = fml[:i] + fml[i+2:]\n",
    "    elif fml[i] == '+':\n",
    "        ch_num = int(fml[i-1]) + int(fml[i+1])\n",
    "        fml[i-1] = str(ch_num)\n",
    "        fml = fml[:i] + fml[i+2:]\n",
    "    elif fml[i] == '-':\n",
    "        ch_num = int(fml[i-1]) - int(fml[i+1])\n",
    "        fml[i-1] = str(ch_num)\n",
    "        fml = fml[:i] + fml[i+2:]\n",
    "fml"
   ]
  },
  {
   "cell_type": "code",
   "execution_count": 4,
   "metadata": {},
   "outputs": [
    {
     "data": {
      "text/plain": [
       "['++', '-', '*', '/']"
      ]
     },
     "execution_count": 4,
     "metadata": {},
     "output_type": "execute_result"
    }
   ],
   "source": [
    "operator_list"
   ]
  },
  {
   "cell_type": "code",
   "execution_count": 27,
   "metadata": {},
   "outputs": [
    {
     "name": "stdout",
     "output_type": "stream",
     "text": [
      "54\n",
      "-24\n"
     ]
    }
   ],
   "source": [
    "N = int(input())\n",
    "number_list = list(map(int, input().split())) # 입력받은 숫자들로 리스트를 생성\n",
    "pu, mi, mul, div = map(int, input().split())\n",
    "operator_list = ['+' for _ in range(pu)] + ['-' for _ in range(mi)] + ['*' for _ in range(mul)] + ['/' for _ in range(div)] \n",
    "\n",
    "check_list = [False] * (N-1)\n",
    "operator_combination = ''\n",
    "result_list = []\n",
    "\n",
    "\n",
    "def dfs():\n",
    "    global operator_combination\n",
    "    if len(operator_combination) == (N-1):\n",
    "        if operator_combination not in result_list:\n",
    "            result_list.append(operator_combination)\n",
    "        return\n",
    "    \n",
    "    for i in range(N-1):\n",
    "        if check_list[i]:\n",
    "            continue\n",
    "         \n",
    "        check_list[i] = True\n",
    "        operator_combination += operator_list[i]\n",
    "\n",
    "        dfs()\n",
    "\n",
    "        operator_combination = operator_combination[:-1]\n",
    "        check_list[i] = False\n",
    "dfs()   \n",
    "\n",
    "maxValue = 0\n",
    "minValue = 0\n",
    "for i in range(len(result_list)):\n",
    "    value = number_list[0]\n",
    "    for k in range(N-1):\n",
    "        if result_list[i][k] == '+':\n",
    "            value += number_list[k+1]\n",
    "        elif result_list[i][k] == '-':\n",
    "            value -= number_list[k+1]\n",
    "        elif result_list[i][k] == '*':\n",
    "            value *= number_list[k+1]\n",
    "        elif result_list[i][k] == '/':\n",
    "            if value < 0 and number_list[k+1] < 0: \n",
    "                value = int(abs(value) // abs(number_list[k+1]))\n",
    "            elif value < 0 or number_list[k+1] < 0:             \n",
    "                value = int(abs(value) // abs(number_list[k+1])) * (-1)                \n",
    "            else:\n",
    "                value = int(abs(value) // abs(number_list[k+1]))\n",
    "    if i == 0:\n",
    "        maxValue = value\n",
    "        minValue = value\n",
    "    else:\n",
    "        if value > maxValue:\n",
    "            maxValue = value\n",
    "        if value < minValue:\n",
    "            minValue = value\n",
    "print(maxValue, minValue, sep= '\\n')"
   ]
  },
  {
   "cell_type": "code",
   "execution_count": 36,
   "metadata": {},
   "outputs": [
    {
     "name": "stdout",
     "output_type": "stream",
     "text": [
      "54\n",
      "-24\n"
     ]
    }
   ],
   "source": [
    "import sys\n",
    " \n",
    "n = int(input())\n",
    "number_list = list(map(int, input().split()))\n",
    "# 연산자 각각의 갯수를 저장\n",
    "pu, mi, mul, div = map(int, input().split())\n",
    "maxValue, minValue = -100000001, 1000000001 # 최댓값과 최솟값의 크기에 맞춰 작성\n",
    " \n",
    "def dfs(i, res, pu, mi, mul, div):\n",
    "    global maxValue, minValue\n",
    "    if i == n-1: # 최초 max_num가 범위를 벗어나는 최솟값이고, 최초 min_num가 범위를 벗어나는 최댓값임을 혼동하지 말것\n",
    "        if res > maxValue:\n",
    "            maxValue = res\n",
    "        if res < minValue:\n",
    "            minValue = res\n",
    "        return\n",
    " \n",
    "    else: # 재귀 호출을 통한 모든 경우의 수 탐색\n",
    "        if pu:\n",
    "            dfs(i + 1, res + number_list[i+1], pu - 1, mi, mul, div) # +가 먼저 들어가게끔 계산 후 -, *, /순으로 연산수행 - 예시 1+2+3-4*5/6\n",
    "        if mi:\n",
    "            dfs(i + 1, res - number_list[i+1], pu, mi - 1, mul, div) # -가 먼저 들어가게끔 계산 후 +, *, /순으로 연산수행 - 예시 1-2+3+4*5/6\n",
    "        if mul:\n",
    "            dfs(i + 1, res * number_list[i+1], pu, mi, mul - 1, div) # *가 먼저 들어가게끔 계산 후 +, -, /순으로 연산수행 - 예시 1*2+3+4-5/6\n",
    "        if div:\n",
    "            dfs(i + 1, int(res / number_list[i+1]), pu, mi, mul, div - 1) \n",
    "dfs(0, number_list[0], pu, mi, mul, div)\n",
    "print(maxValue, minValue, sep='\\n')"
   ]
  },
  {
   "cell_type": "markdown",
   "metadata": {},
   "source": [
    "문제\n",
    "세계는 균형이 잘 잡혀있어야 한다. 양과 음, 빛과 어둠 그리고 왼쪽 괄호와 오른쪽 괄호처럼 말이다.\n",
    "정민이의 임무는 어떤 문자열이 주어졌을 때, 괄호들의 균형이 잘 맞춰져 있는지 판단하는 프로그램을 짜는 것이다.\n",
    "문자열에 포함되는 괄호는 소괄호(\"()\") 와 대괄호(\"[]\")로 2종류이고, 문자열이 균형을 이루는 조건은 아래와 같다.\n",
    "모든 왼쪽 소괄호(\"(\")는 오른쪽 소괄호(\")\")와만 짝을 이뤄야 한다.\n",
    "모든 왼쪽 대괄호(\"[\")는 오른쪽 대괄호(\"]\")와만 짝을 이뤄야 한다.\n",
    "모든 오른쪽 괄호들은 자신과 짝을 이룰 수 있는 왼쪽 괄호가 존재한다.\n",
    "모든 괄호들의 짝은 1:1 매칭만 가능하다. 즉, 괄호 하나가 둘 이상의 괄호와 짝지어지지 않는다.\n",
    "짝을 이루는 두 괄호가 있을 때, 그 사이에 있는 문자열도 균형이 잡혀야 한다.\n",
    "정민이를 도와 문자열이 주어졌을 때 균형잡힌 문자열인지 아닌지를 판단해보자.\n",
    "\n",
    "입력\n",
    "하나 또는 여러줄에 걸쳐서 문자열이 주어진다. 각 문자열은 영문 알파벳, 공백, 소괄호(\"( )\") 대괄호(\"[ ]\")등으로 이루어져 있으며, 길이는 100글자보다 작거나 같다.\n",
    "\n",
    "입력의 종료조건으로 맨 마지막에 점 하나(\".\")가 들어온다.\n",
    "출력\n",
    "각 줄마다 해당 문자열이 균형을 이루고 있으면 \"yes\"를, 아니면 \"no\"를 출력한다."
   ]
  },
  {
   "cell_type": "code",
   "execution_count": 71,
   "metadata": {},
   "outputs": [
    {
     "name": "stdout",
     "output_type": "stream",
     "text": [
      "yes\n",
      "yes\n",
      "no\n",
      "no\n",
      "no\n",
      "yes\n",
      "yes\n"
     ]
    }
   ],
   "source": [
    "import sys\n",
    "\n",
    "while True:\n",
    "    check_list = []\n",
    "    sentence = input()\n",
    "    if sentence != '.':\n",
    "        k = 0\n",
    "        while k != len(sentence):\n",
    "            if sentence[k] == '(' or sentence[k] == ')' or sentence[k] == '[' or sentence[k] == ']':\n",
    "                if len(check_list) > 0:\n",
    "                    if check_list[-1] + sentence[k] == '()'or check_list[-1] + sentence[k] == '[]':\n",
    "                        check_list.pop()\n",
    "                    else:\n",
    "                        check_list.append(sentence[k])\n",
    "                else:\n",
    "                    check_list.append(sentence[k])\n",
    "            k += 1\n",
    "        if len(check_list) == 0:\n",
    "            print('yes')\n",
    "        else:\n",
    "            print('no')\n",
    "    else:\n",
    "        break"
   ]
  },
  {
   "cell_type": "markdown",
   "metadata": {},
   "source": [
    "문제\n",
    "스택 (stack)은 기본적인 자료구조 중 하나로, 컴퓨터 프로그램을 작성할 때 자주 이용되는 개념이다. 스택은 자료를 넣는 (push) 입구와 자료를 뽑는 (pop) 입구가 같아 제일 나중에 들어간 자료가 제일 먼저 나오는 (LIFO, Last in First out) 특성을 가지고 있다.\n",
    "1부터 n까지의 수를 스택에 넣었다가 뽑아 늘어놓음으로써, 하나의 수열을 만들 수 있다. 이때, 스택에 push하는 순서는 반드시 오름차순을 지키도록 한다고 하자. 임의의 수열이 주어졌을 때 스택을 이용해 그 수열을 만들 수 있는지 없는지, 있다면 어떤 순서로 push와 pop 연산을 수행해야 하는지를 알아낼 수 있다. 이를 계산하는 프로그램을 작성하라.\n",
    "\n",
    "입력\n",
    "첫 줄에 n (1 ≤ n ≤ 100,000)이 주어진다. 둘째 줄부터 n개의 줄에는 수열을 이루는 1이상 n이하의 정수가 하나씩 순서대로 주어진다. 물론 같은 정수가 두 번 나오는 일은 없다.\n",
    "\n",
    "출력\n",
    "입력된 수열을 만들기 위해 필요한 연산을 한 줄에 한 개씩 출력한다. push연산은 +로, pop 연산은 -로 표현하도록 한다. 불가능한 경우 NO를 출력한다."
   ]
  },
  {
   "cell_type": "code",
   "execution_count": 82,
   "metadata": {},
   "outputs": [],
   "source": [
    "import sys\n",
    "# input = sys.stdin.readline\n",
    "N = int(input())\n",
    "check_list = []\n",
    "for _ in  range(N):\n",
    "    check_list.append(int(input()))"
   ]
  },
  {
   "cell_type": "code",
   "execution_count": 18,
   "metadata": {},
   "outputs": [
    {
     "name": "stdout",
     "output_type": "stream",
     "text": [
      "+\n",
      "+\n",
      "+\n",
      "+\n",
      "-\n",
      "-\n",
      "+\n",
      "+\n",
      "-\n",
      "+\n",
      "+\n",
      "-\n",
      "-\n",
      "-\n",
      "-\n",
      "-"
     ]
    }
   ],
   "source": [
    "N = 8\n",
    "check_list = [4, 3, 6, 8, 7, 5, 2, 1]\n",
    "# check_list = [1, 2, 5, 3, 4]\n",
    "number_list = [] # 숫자를 담을 리스트 생성\n",
    "i = 0\n",
    "number = 1\n",
    "error_cnt = 0 # 명령실행이 가능한지 확인할 체크변수\n",
    "while i < N: # pop명령실행횟수가 N과 같아지면 반복문을 종료\n",
    "    if len(number_list) < 1: # 스택을 쌓을 리스트가 비어있으면 스택명령 실행\n",
    "        number_list.append(number)\n",
    "        number += 1\n",
    "        sys.stdout.write(f'+\\n')\n",
    "    if number_list[-1] == check_list[i]:\n",
    "        # print(number_list.pop())\n",
    "        number_list.pop()\n",
    "        if i < N-1:\n",
    "            sys.stdout.write(f'-\\n')\n",
    "        else:\n",
    "            sys.stdout.write(f'-')\n",
    "        i += 1 # pop명령 실행횟수를 기록 - pop명령실행횟수가 N과 같아지면 반복문을 종료\n",
    "    else: # 숫자의 크기가 \n",
    "        if number <= N:\n",
    "            number_list.append(number)\n",
    "            number += 1\n",
    "            sys.stdout.write(f'+\\n')"
   ]
  },
  {
   "cell_type": "code",
   "execution_count": 27,
   "metadata": {},
   "outputs": [
    {
     "name": "stdout",
     "output_type": "stream",
     "text": [
      "NO"
     ]
    }
   ],
   "source": [
    "import sys\n",
    "# input = sys.stdin.readline\n",
    "N = int(input())\n",
    "check_list = []\n",
    "for _ in  range(N):\n",
    "    check_list.append(int(input()))\n",
    "# N = 8\n",
    "# check_list = [4, 3, 6, 8, 7, 5, 2, 1]\n",
    "# check_list = [1, 2, 5, 3, 4]\n",
    "number_list, res_list = [], [] # 숫자를 담을 리스트 생성, push와 pop 실행 내용을 담을 리스트 생성\n",
    "i = 0\n",
    "number = 1\n",
    "while i < N: # pop명령실행횟수가 N과 같아지면 반복문을 종료\n",
    "    if len(number_list) < 1: # 스택을 쌓을 리스트가 비어있으면 스택명령 실행\n",
    "        number_list.append(number)\n",
    "        number += 1\n",
    "        res_list.append('+')\n",
    "    if number_list[-1] == check_list[i]:\n",
    "        number_list.pop()\n",
    "        res_list.append('-')\n",
    "        i += 1 # pop명령 실행횟수를 기록 - pop명령실행횟수가 N과 같아지면 반복문을 종료\n",
    "    else: # 숫자의 크기가 \n",
    "        if number <= N:\n",
    "            number_list.append(number)\n",
    "            number += 1\n",
    "            res_list.append('+')\n",
    "        elif number == N + 1: \n",
    "            # 값을 끝까지 담고 조건에 맞지않아서 pop을 실행하지 못하면 'NO'저장 및 반복문 종료\n",
    "            res_list = ['NO']\n",
    "            break\n",
    "for i in range(len(res_list)):\n",
    "    if i == len(res_list) - 1:\n",
    "        sys.stdout.write(f'{res_list[i]}')\n",
    "    else:\n",
    "        sys.stdout.write(f'{res_list[i]}\\n')"
   ]
  },
  {
   "cell_type": "markdown",
   "metadata": {},
   "source": [
    "문제\n",
    "크기가 N인 수열 A = A1, A2, ..., AN이 있다. 수열의 각 원소 Ai에 대해서 오큰수 NGE(i)를 구하려고 한다. Ai의 오큰수는 오른쪽에 있으면서 Ai보다 큰 수 중에서 가장 왼쪽에 있는 수를 의미한다. 그러한 수가 없는 경우에 오큰수는 -1이다.\n",
    "예를 들어, A = [3, 5, 2, 7]인 경우 NGE(1) = 5, NGE(2) = 7, NGE(3) = 7, NGE(4) = -1이다. A = [9, 5, 4, 8]인 경우에는 NGE(1) = -1, NGE(2) = 8, NGE(3) = 8, NGE(4) = -1이다.\n",
    "\n",
    "입력\n",
    "첫째 줄에 수열 A의 크기 N (1 ≤ N ≤ 1,000,000)이 주어진다. 둘째 줄에 수열 A의 원소 A1, A2, ..., AN (1 ≤ Ai ≤ 1,000,000)이 주어진다.\n",
    "\n",
    "출력\n",
    "총 N개의 수 NGE(1), NGE(2), ..., NGE(N)을 공백으로 구분해 출력한다."
   ]
  },
  {
   "cell_type": "code",
   "execution_count": 86,
   "metadata": {},
   "outputs": [
    {
     "name": "stdout",
     "output_type": "stream",
     "text": [
      "10 999999 1000000 999998 1000000 4 4 1000000 -1 1000000 -1\n"
     ]
    }
   ],
   "source": [
    "import sys\n",
    "# input = sys.stdin.readline\n",
    "N = int(input())\n",
    "number_list = list(map(int, input().split()))\n",
    "check_list = [] # 인덱스 번호를 담을 리스트 생성\n",
    "\n",
    "for index in range(N):\n",
    "    check_list.append(index) # 리스트의 인덱스 넘버를 스택구조로 쌓기\n",
    "    if index == N-1: # 인덱스 넘버가 리스트의 길이와 같으면 -1 값부여(가장 오른쪽 값임.)\n",
    "        number_list[index] = -1\n",
    "    else:\n",
    "        while check_list and number_list[check_list[-1]] < number_list[index+1]: \n",
    "            # 인덱스 번호를 기록한 리스트에 값이 있고, 해당 인덱스보다 오른쪽에 있는 숫자들 중 큰 수가 있으면 그 값으로\n",
    "            # 숫자 리스트의 값 변경 - 조건이 만족하지 않을 때까지 해당 구조를 반복 \n",
    "            # 오른쪽에 자신보다 큰 수가 있는지 확인하고 있으면 숫자리스트에서 해당 인덱스를 가진 위치에 해당 숫자를 부여\n",
    "            number_list[check_list[-1]] = number_list[index+1]\n",
    "            check_list.pop()\n",
    "for index in check_list: # 해당조건을 만족하지 못한 인덱스 번호를 가지는 숫자리스트의 값들은 -1로 변환\n",
    "    number_list[index] = -1\n",
    "\n",
    "print(*number_list)"
   ]
  },
  {
   "cell_type": "code",
   "execution_count": null,
   "metadata": {},
   "outputs": [],
   "source": [
    "# 반복문을 활용한 결과 : 시간초과\n",
    "number_list = [3, 5, 2, 7]\n",
    "number_list = [9, 5, 4, 8]\n",
    "number_list = [1, 10, 999999, 7, 999998, 3, 1, 4, 1000000, 3, 1000000]\n",
    "N = len(number_list)\n",
    "result_list = []\n",
    "i = 0\n",
    "k = 1\n",
    "while True:\n",
    "    if i == N-1:\n",
    "        result_list.append(-1)\n",
    "        break\n",
    "    if i+k == N-1:\n",
    "        if number_list[i] < number_list[i+k]:\n",
    "            result_list.append(number_list[i+k])\n",
    "            i += 1\n",
    "            k = 1\n",
    "        else:\n",
    "            result_list.append(-1)\n",
    "            i += 1\n",
    "            k = 1\n",
    "    else:\n",
    "        if number_list[i] < number_list[i+k]:\n",
    "            result_list.append(number_list[i+k])\n",
    "            i += 1\n",
    "            k = 1\n",
    "        else:\n",
    "            k += 1\n",
    "print(*result_list)"
   ]
  },
  {
   "cell_type": "code",
   "execution_count": 84,
   "metadata": {},
   "outputs": [
    {
     "name": "stdout",
     "output_type": "stream",
     "text": [
      "-1 8 8 -1\n"
     ]
    }
   ],
   "source": [
    "# 스택을 활용한 방법\n",
    "number_list = [3, 5, 2, 7]\n",
    "number_list = [9, 5, 4, 8]\n",
    "# number_list = [1, 10, 999999, 7, 999998, 3, 1, 4, 1000000, 3, 1000000]\n",
    "N = len(number_list)\n",
    "check_list = [] # 인덱스 번호를 담을 리스트 생성\n",
    "\n",
    "for index in range(N):\n",
    "    check_list.append(index) # 리스트의 인덱스 넘버를 스택구조로 쌓기\n",
    "    if index == N-1: # 인덱스 넘버가 리스트의 길이와 같으면 -1 값부여(가장 오른쪽 값임.)\n",
    "        number_list[index] = -1\n",
    "    else:\n",
    "        while check_list and number_list[check_list[-1]] < number_list[index+1]: \n",
    "            # 인덱스 번호를 기록한 리스트에 값이 있고, 해당 인덱스보다 오른쪽에 있는 숫자들 중 큰 수가 있으면 그 값으로\n",
    "            # 숫자 리스트의 값 변경 - 조건이 만족하지 않을 때까지 해당 구조를 반복 \n",
    "            # 오른쪽에 자신보다 큰 수가 있는지 확인하고 있으면 숫자리스트에서 해당 인덱스를 가진 위치에 해당 숫자를 부여\n",
    "            number_list[check_list[-1]] = number_list[index+1]\n",
    "            check_list.pop()\n",
    "for index in check_list: # 해당조건을 만족하지 못한 인덱스 번호를 가지는 숫자리스트의 값들은 -1로 변환\n",
    "    number_list[index] = -1\n",
    "\n",
    "print(*number_list)"
   ]
  },
  {
   "cell_type": "markdown",
   "metadata": {},
   "source": [
    "문제\n",
    "4 × 3 = 12이다.\n",
    "이 식을 통해 다음과 같은 사실을 알 수 있다.\n",
    "3은 12의 약수이고, 12는 3의 배수이다.\n",
    "4도 12의 약수이고, 12는 4의 배수이다.\n",
    "두 수가 주어졌을 때, 다음 3가지 중 어떤 관계인지 구하는 프로그램을 작성하시오.\n",
    "첫 번째 숫자가 두 번째 숫자의 약수이다.\n",
    "첫 번째 숫자가 두 번째 숫자의 배수이다.\n",
    "첫 번째 숫자가 두 번째 숫자의 약수와 배수 모두 아니다.\n",
    "\n",
    "입력\n",
    "입력은 여러 테스트 케이스로 이루어져 있다. 각 테스트 케이스는 10,000이 넘지않는 두 자연수로 이루어져 있다. 마지막 줄에는 0이 2개 주어진다. 두 수가 같은 경우는 없다.\n",
    "\n",
    "출력\n",
    "각 테스트 케이스마다 첫 번째 숫자가 두 번째 숫자의 약수라면 factor를, 배수라면 multiple을, 둘 다 아니라면 neither를 출력한다."
   ]
  },
  {
   "cell_type": "code",
   "execution_count": 87,
   "metadata": {},
   "outputs": [
    {
     "name": "stdout",
     "output_type": "stream",
     "text": [
      "multiple\n",
      "factor\n",
      "neither\n"
     ]
    }
   ],
   "source": [
    "# import sys\n",
    "while True:\n",
    "    A, B = map(int, input().split())\n",
    "    if A == 0 and B == 0:\n",
    "        break\n",
    "    if A > B:\n",
    "        if A % B == 0:\n",
    "            print('multiple')\n",
    "        else:\n",
    "            print('neither')\n",
    "    elif A < B:\n",
    "        if B % A == 0:\n",
    "            print('factor')\n",
    "        else:\n",
    "            print('neither')\n",
    "    else:\n",
    "        pass"
   ]
  },
  {
   "cell_type": "markdown",
   "metadata": {},
   "source": [
    "문제\n",
    "양수 A가 N의 진짜 약수가 되려면, N이 A의 배수이고, A가 1과 N이 아니어야 한다. 어떤 수 N의 진짜 약수가 모두 주어질 때, N을 구하는 프로그램을 작성하시오.\n",
    "\n",
    "입력\n",
    "첫째 줄에 N의 진짜 약수의 개수가 주어진다. 이 개수는 50보다 작거나 같은 자연수이다. 둘째 줄에는 N의 진짜 약수가 주어진다. 1,000,000보다 작거나 같고, 2보다 크거나 같은 자연수이고, 중복되지 않는다.\n",
    "\n",
    "출력\n",
    "첫째 줄에 N을 출력한다. N은 항상 32비트 부호있는 정수로 표현할 수 있다."
   ]
  },
  {
   "cell_type": "code",
   "execution_count": 11,
   "metadata": {},
   "outputs": [
    {
     "name": "stdout",
     "output_type": "stream",
     "text": [
      "27\n"
     ]
    }
   ],
   "source": [
    "N = int(input())\n",
    "number_list = list(map(int, input().split()))\n",
    "maxValue = max(number_list)\n",
    "minValue = min(number_list)\n",
    "print(minValue * maxValue)"
   ]
  }
 ],
 "metadata": {
  "interpreter": {
   "hash": "fe3bab233825460445dbfeea6dcd52ef5815a3fa13c858fea07ac830aa383284"
  },
  "kernelspec": {
   "display_name": "Python 3.8.10 64-bit ('base': conda)",
   "language": "python",
   "name": "python3"
  },
  "language_info": {
   "codemirror_mode": {
    "name": "ipython",
    "version": 3
   },
   "file_extension": ".py",
   "mimetype": "text/x-python",
   "name": "python",
   "nbconvert_exporter": "python",
   "pygments_lexer": "ipython3",
   "version": "3.8.10"
  },
  "orig_nbformat": 4
 },
 "nbformat": 4,
 "nbformat_minor": 2
}
