{
 "cells": [
  {
   "cell_type": "markdown",
   "metadata": {},
   "source": [
    "문제\n",
    "1보다 큰 자연수 중에서  1과 자기 자신을 제외한 약수가 없는 자연수를 소수라고 한다. 예를 들어, 5는 1과 5를 제외한 약수가 없기 때문에 소수이다. 하지만, 6은 6 = 2 × 3 이기 때문에 소수가 아니다.\n",
    "\n",
    "골드바흐의 추측은 유명한 정수론의 미해결 문제로, 2보다 큰 모든 짝수는 두 소수의 합으로 나타낼 수 있다는 것이다. 이러한 수를 골드바흐 수라고 한다. 또, 짝수를 두 소수의 합으로 나타내는 표현을 그 수의 골드바흐 파티션이라고 한다. 예를 들면, 4 = 2 + 2, 6 = 3 + 3, 8 = 3 + 5, 10 = 5 + 5, 12 = 5 + 7, 14 = 3 + 11, 14 = 7 + 7이다. 10000보다 작거나 같은 모든 짝수 n에 대한 골드바흐 파티션은 존재한다.\n",
    "\n",
    "2보다 큰 짝수 n이 주어졌을 때, n의 골드바흐 파티션을 출력하는 프로그램을 작성하시오. 만약 가능한 n의 골드바흐 파티션이 여러 가지인 경우에는 두 소수의 차이가 가장 작은 것을 출력한다.\n",
    "\n",
    "입력\n",
    "첫째 줄에 테스트 케이스의 개수 T가 주어진다. 각 테스트 케이스는 한 줄로 이루어져 있고 짝수 n이 주어진다.\n",
    "\n",
    "출력\n",
    "각 테스트 케이스에 대해서 주어진 n의 골드바흐 파티션을 출력한다. 출력하는 소수는 작은 것부터 먼저 출력하며, 공백으로 구분한다.\n",
    "\n",
    "제한\n",
    "4 ≤ n ≤ 10,000"
   ]
  },
  {
   "cell_type": "code",
   "execution_count": 61,
   "metadata": {},
   "outputs": [
    {
     "name": "stdout",
     "output_type": "stream",
     "text": [
      "4919 5081\n"
     ]
    }
   ],
   "source": [
    "# T = int(input()) # 시간초과\n",
    "T = 1\n",
    "test_number_list = []\n",
    "check_array = [True, True] + [False] * 9999\n",
    "number_list = []\n",
    "for i in range(2, 10001):\n",
    "    if check_array[i] == False:\n",
    "        number_list.append(i)\n",
    "        for k in range(i, 10001, i):\n",
    "            check_array[k] = True\n",
    "check_number = 19997\n",
    "number_list.append(check_number)\n",
    "\n",
    "for _ in range(T):\n",
    "    N = int(input())\n",
    "    sample_list = []\n",
    "    sample_list_plus = []\n",
    "    start = 0\n",
    "    end = 0\n",
    "    while True:\n",
    "        if number_list[start] + number_list[start] > N:\n",
    "            break\n",
    "        elif number_list[start] + number_list[end] > N:\n",
    "            start += 1\n",
    "            end = start\n",
    "        if number_list[start] + number_list[end] == N:\n",
    "            sample_list.append([number_list[start], number_list[end]])\n",
    "            sample_list_plus.append(abs(number_list[start] - number_list[end]))\n",
    "        end += 1\n",
    "    result_index = sample_list_plus.index(min(sample_list_plus))\n",
    "    # print(sample_list, sample_list_plus)\n",
    "    print(min(sample_list[result_index]), max(sample_list[result_index]))"
   ]
  },
  {
   "cell_type": "code",
   "execution_count": 86,
   "metadata": {},
   "outputs": [
    {
     "name": "stdout",
     "output_type": "stream",
     "text": [
      "5 3\n",
      "5 5\n",
      "11 7\n"
     ]
    }
   ],
   "source": [
    "T = int(input())\n",
    "test_number_list = []\n",
    "check_array = [True, True] + [False] * 9999\n",
    "number_list = []\n",
    "for i in range(2, 10001):\n",
    "    if check_array[i] == False:\n",
    "        number_list.append(i)\n",
    "        for k in range(i, 10001, i):\n",
    "            check_array[k] = True\n",
    "\n",
    "for _ in range(T):\n",
    "    N = int(input())\n",
    "    check_number1 = int(N // 2)\n",
    "    for _ in range(check_number1):\n",
    "        check_number2 = N - check_number1\n",
    "        if check_number1 in number_list and check_number2 in number_list:\n",
    "            print(check_number1, check_number2)\n",
    "            break\n",
    "        else:\n",
    "            check_number1 -= 1"
   ]
  },
  {
   "cell_type": "code",
   "execution_count": 88,
   "metadata": {},
   "outputs": [
    {
     "name": "stdout",
     "output_type": "stream",
     "text": [
      "2383 2617\n"
     ]
    }
   ],
   "source": [
    "N = int(input())\n",
    "check_number1 = int(N // 2)\n",
    "for _ in range(check_number1):\n",
    "    check_number2 = N - check_number1\n",
    "    if check_number1 in number_list and check_number2 in number_list:\n",
    "        print(check_number1, check_number2)\n",
    "        break\n",
    "    else:\n",
    "        check_number1 -= 1"
   ]
  },
  {
   "cell_type": "markdown",
   "metadata": {},
   "source": [
    "문제\n",
    "N개의 수가 주어졌을 때, 이를 오름차순으로 정렬하는 프로그램을 작성하시오.\n",
    "\n",
    "입력\n",
    "첫째 줄에 수의 개수 N(1 ≤ N ≤ 1,000,000)이 주어진다. 둘째 줄부터 N개의 줄에는 수가 주어진다. 이 수는 절댓값이 1,000,000보다 작거나 같은 정수이다. 수는 중복되지 않는다.\n",
    "\n",
    "출력\n",
    "첫째 줄부터 N개의 줄에 오름차순으로 정렬한 결과를 한 줄에 하나씩 출력한다."
   ]
  },
  {
   "cell_type": "code",
   "execution_count": 8,
   "metadata": {},
   "outputs": [
    {
     "name": "stdout",
     "output_type": "stream",
     "text": [
      "1\n",
      "2\n",
      "3\n",
      "4\n",
      "5\n"
     ]
    }
   ],
   "source": [
    "N = int(input())\n",
    "number_list = []\n",
    "for _ in range(N):\n",
    "    number = int(input())\n",
    "    number_list.append(number)\n",
    "\n",
    "def sort_number(number_list):\n",
    "    number_list_sorted = []\n",
    "    number_list_sample = number_list[:]\n",
    "    for _ in range(N):\n",
    "        k = number_list_sample[0]\n",
    "        for i in range(1, len(number_list_sample)):\n",
    "            if k > number_list_sample[i]:\n",
    "                k = number_list_sample[i]\n",
    "        number_list_sorted.append(str(k))\n",
    "        number_list_sample.pop(number_list_sample.index(k))\n",
    "    return number_list_sorted\n",
    "result_list = sort_number(number_list)\n",
    "print('\\n'.join(result_list))"
   ]
  },
  {
   "cell_type": "code",
   "execution_count": 182,
   "metadata": {},
   "outputs": [
    {
     "name": "stdout",
     "output_type": "stream",
     "text": [
      "1\n",
      "2\n",
      "3\n",
      "4\n",
      "5\n"
     ]
    }
   ],
   "source": [
    "# 병합정령\n",
    "N = int(input())\n",
    "number_list = []\n",
    "for _ in range(N):\n",
    "    number = input()\n",
    "    number_list.append(number)\n",
    "\n",
    "# N = 5\n",
    "# number_list = [5, 3, 2, 1, 4]\n",
    "# number_list = [2, 1]\n",
    "def merge_sort(number_list):\n",
    "    if len(number_list) <= 1:\n",
    "        return number_list\n",
    "    point = int(len(number_list)//2)\n",
    "    result_list = []\n",
    "    number_list_left = merge_sort(number_list[:point])\n",
    "    number_list_right = merge_sort(number_list[point:])\n",
    "    n1, n2 = 0, 0\n",
    "    while n1 < len(number_list_left) and n2 < len(number_list_right):\n",
    "        if int(number_list_left[n1]) > int(number_list_right[n2]):\n",
    "            result_list.append(str(number_list_right[n2]))\n",
    "            n2 += 1\n",
    "        else:\n",
    "            result_list.append(str(number_list_left[n1]))\n",
    "            n1 += 1\n",
    "    if n1 < len(number_list_left):\n",
    "        result_list.extend(number_list_left[n1:])\n",
    "    if n2 < len(number_list_right):    \n",
    "        result_list.extend(number_list_right[n2:])\n",
    "    return result_list\n",
    "print('\\n'.join(merge_sort(number_list)))"
   ]
  },
  {
   "cell_type": "code",
   "execution_count": 214,
   "metadata": {},
   "outputs": [
    {
     "name": "stdout",
     "output_type": "stream",
     "text": [
      "1\n",
      "2\n",
      "3\n",
      "4\n",
      "5\n"
     ]
    }
   ],
   "source": [
    "# import sys\n",
    "# N = int(input())\n",
    "# number_list = []\n",
    "# for _ in range(N):\n",
    "#     number = input()\n",
    "#     number_list.append(number)\n",
    "\n",
    "N = 5\n",
    "number_list = [5, 3, 2, 1, 4]\n",
    "\n",
    "number_list.sort()\n",
    "number_list\n",
    "print('\\n'.join([str(number_list[i]) for i in range(N)]))"
   ]
  },
  {
   "cell_type": "markdown",
   "metadata": {},
   "source": [
    "문제\n",
    "N개의 수가 주어졌을 때, 이를 오름차순으로 정렬하는 프로그램을 작성하시오.\n",
    "\n",
    "입력\n",
    "첫째 줄에 수의 개수 N(1 ≤ N ≤ 10,000,000)이 주어진다. 둘째 줄부터 N개의 줄에는 수가 주어진다. 이 수는 10,000보다 작거나 같은 자연수이다.\n",
    "\n",
    "출력\n",
    "첫째 줄부터 N개의 줄에 오름차순으로 정렬한 결과를 한 줄에 하나씩 출력한다."
   ]
  },
  {
   "cell_type": "code",
   "execution_count": null,
   "metadata": {},
   "outputs": [],
   "source": [
    "N = int(input())\n",
    "test_array = [0] * 10001\n",
    "for _ in range(N):\n",
    "    number = int(input())\n",
    "    test_array[number] += 1\n",
    "# number_list = [1, 1, 2, 2, 10, 10, 3, 4]\n",
    "\n",
    "for number in number_list:\n",
    "    test_array[number] += 1\n",
    "for i in range(1, 10001):\n",
    "    if test_array[i] != 0:\n",
    "        for _ in range(test_array[i]):\n",
    "            sys.stdout.write(str(i) + '\\n')"
   ]
  },
  {
   "cell_type": "code",
   "execution_count": 5,
   "metadata": {},
   "outputs": [
    {
     "name": "stdout",
     "output_type": "stream",
     "text": [
      "aaa\n",
      "bbb\n"
     ]
    }
   ],
   "source": [
    "sys.stdout.write('aaa\\n')\n",
    "sys.stdout.write('bbb\\n')"
   ]
  },
  {
   "cell_type": "code",
   "execution_count": null,
   "metadata": {},
   "outputs": [],
   "source": [
    "import sys\n",
    "input = sys.stdin.readline\n",
    "N = int(input())\n",
    "test_array = [0] * 10001\n",
    "for _ in range(N):\n",
    "    number = int(input())\n",
    "    test_array[number] += 1\n",
    "for i in range(1, 10001):\n",
    "    if test_array[i] != 0:\n",
    "        for _ in range(test_array[i]):\n",
    "            sys.stdout.write(str(i) + '\\n')"
   ]
  },
  {
   "cell_type": "markdown",
   "metadata": {},
   "source": [
    "문제\n",
    "수를 처리하는 것은 통계학에서 상당히 중요한 일이다. 통계학에서 N개의 수를 대표하는 기본 통계값에는 다음과 같은 것들이 있다. 단, N은 홀수라고 가정하자.\n",
    "\n",
    "산술평균 : N개의 수들의 합을 N으로 나눈 값\n",
    "중앙값 : N개의 수들을 증가하는 순서로 나열했을 경우 그 중앙에 위치하는 값\n",
    "최빈값 : N개의 수들 중 가장 많이 나타나는 값\n",
    "범위 : N개의 수들 중 최댓값과 최솟값의 차이\n",
    "N개의 수가 주어졌을 때, 네 가지 기본 통계값을 구하는 프로그램을 작성하시오.\n",
    "\n",
    "입력\n",
    "첫째 줄에 수의 개수 N(1 ≤ N ≤ 500,000)이 주어진다. 단, N은 홀수이다. 그 다음 N개의 줄에는 정수들이 주어진다. 입력되는 정수의 절댓값은 4,000을 넘지 않는다.\n",
    "\n",
    "출력\n",
    "첫째 줄에는 산술평균을 출력한다. 소수점 이하 첫째 자리에서 반올림한 값을 출력한다.\n",
    "\n",
    "둘째 줄에는 중앙값을 출력한다.\n",
    "\n",
    "셋째 줄에는 최빈값을 출력한다. 여러 개 있을 때에는 최빈값 중 두 번째로 작은 값을 출력한다.\n",
    "\n",
    "넷째 줄에는 범위를 출력한다."
   ]
  },
  {
   "cell_type": "code",
   "execution_count": 18,
   "metadata": {},
   "outputs": [
    {
     "name": "stdout",
     "output_type": "stream",
     "text": [
      "0\n",
      "0\n",
      "0\n",
      "2\n"
     ]
    }
   ],
   "source": [
    "def arithmetic_mean(number_list, N):\n",
    "    if N == 1:\n",
    "        return number_list[0]\n",
    "    else:\n",
    "        return int(round(sum(number_list) / N, 0))\n",
    "\n",
    "def median(number_list, N):\n",
    "    if N == 1:\n",
    "        return number_list[0]\n",
    "    if N % 2 == 0:\n",
    "        return (number_list[int(N // 2) - 1] + number_list[(int(N // 2))]) / 2 \n",
    "    else:\n",
    "        return number_list[int(N // 2)]\n",
    "\n",
    "def mode(number_list, N):\n",
    "    number_list_check = list(set(number_list))\n",
    "    number_list_freq = []\n",
    "    result_list = []\n",
    "    for number in number_list_check:\n",
    "        freq = 0\n",
    "        # number_list_freq.append(number_list.count(number))\n",
    "        for k in range(N):\n",
    "            if number == number_list[k]:\n",
    "                freq += 1\n",
    "        number_list_freq.append(freq)\n",
    "    for i in range(len(number_list_freq)):\n",
    "        if max(number_list_freq) == number_list_freq[i]:\n",
    "            result_list.append(number_list_check[i])\n",
    "    result_list.sort()\n",
    "    if len(result_list) >= 2:\n",
    "        return result_list[1]\n",
    "    else:\n",
    "        return result_list[0] \n",
    "\n",
    "def range_check(number_list):\n",
    "    return abs(number_list[-1] - number_list[0]) \n",
    "    \n",
    "N = int(input())\n",
    "number_list = []\n",
    "for _ in range(N):\n",
    "    number_list.append(int(input()))\n",
    "number_list.sort()\n",
    "print(arithmetic_mean(number_list, N), median(number_list, N), \\\n",
    "      mode(number_list, N), range_check(number_list), sep = '\\n')"
   ]
  },
  {
   "cell_type": "markdown",
   "metadata": {},
   "source": [
    "문제\n",
    "배열을 정렬하는 것은 쉽다. 수가 주어지면, 그 수의 각 자리수를 내림차순으로 정렬해보자.\n",
    "\n",
    "입력\n",
    "첫째 줄에 정렬하려고 하는 수 N이 주어진다. N은 1,000,000,000보다 작거나 같은 자연수이다.\n",
    "\n",
    "출력\n",
    "첫째 줄에 자리수를 내림차순으로 정렬한 수를 출력한다."
   ]
  },
  {
   "cell_type": "code",
   "execution_count": 28,
   "metadata": {},
   "outputs": [
    {
     "name": "stdout",
     "output_type": "stream",
     "text": [
      "4321\n"
     ]
    }
   ],
   "source": [
    "N = input()\n",
    "# N = '500613009'\n",
    "number_list = [int(x) for x in N]\n",
    "number_list.sort(reverse=True)\n",
    "result = ''\n",
    "for x in number_list:\n",
    "    result += str(x)\n",
    "print(result)"
   ]
  },
  {
   "cell_type": "markdown",
   "metadata": {},
   "source": [
    "문제\n",
    "2차원 평면 위의 점 N개가 주어진다. 좌표를 x좌표가 증가하는 순으로, x좌표가 같으면 y좌표가 증가하는 순서로 정렬한 다음 출력하는 프로그램을 작성하시오.\n",
    "\n",
    "입력\n",
    "첫째 줄에 점의 개수 N (1 ≤ N ≤ 100,000)이 주어진다. 둘째 줄부터 N개의 줄에는 i번점의 위치 xi와 yi가 주어진다. (-100,000 ≤ xi, yi ≤ 100,000) 좌표는 항상 정수이고, 위치가 같은 두 점은 없다.\n",
    "\n",
    "출력\n",
    "첫째 줄부터 N개의 줄에 점을 정렬한 결과를 출력한다."
   ]
  },
  {
   "cell_type": "code",
   "execution_count": 46,
   "metadata": {},
   "outputs": [
    {
     "data": {
      "text/plain": [
       "[1, 3, 4, 5, 7]"
      ]
     },
     "execution_count": 46,
     "metadata": {},
     "output_type": "execute_result"
    }
   ],
   "source": [
    "a = [1, 2, 3, 4, 5 , 7]\n",
    "a.pop(1)\n",
    "a"
   ]
  },
  {
   "cell_type": "code",
   "execution_count": 64,
   "metadata": {},
   "outputs": [
    {
     "data": {
      "text/plain": [
       "[[1, 2]]"
      ]
     },
     "execution_count": 64,
     "metadata": {},
     "output_type": "execute_result"
    }
   ],
   "source": []
  },
  {
   "cell_type": "code",
   "execution_count": 94,
   "metadata": {},
   "outputs": [
    {
     "name": "stdout",
     "output_type": "stream",
     "text": [
      "1 -1\n",
      "1 1\n",
      "2 2\n",
      "3 3\n",
      "3 4"
     ]
    }
   ],
   "source": [
    "import sys\n",
    "# input = sys.stdin.readline\n",
    "N = int(input())\n",
    "location_list = []\n",
    "for _ in range(N):\n",
    "    x, y = map(int, input().split())\n",
    "    location_list.append([x, y])\n",
    "# location_list = [[3, 4], [1, 1], [1, -1], [2, 2], [3, 3]]\n",
    "k = 1\n",
    "location = location_list[0]\n",
    "while len(location_list) > 1:\n",
    "    if location[0] > location_list[k][0]:\n",
    "        location = location_list[k]\n",
    "    elif location[0] == location_list[k][0]:\n",
    "        if location[1] > location_list[k][1]:\n",
    "            location = location_list[k]\n",
    "        else:\n",
    "            pass\n",
    "    else:\n",
    "        pass\n",
    "    if k == len(location_list) - 1:\n",
    "        sys.stdout.write(f'{location[0]} {location[1]}\\n')\n",
    "        location_list.pop(location_list.index(location))\n",
    "        location = location_list[0]\n",
    "        k = 1\n",
    "        if len(location_list) == 1:\n",
    "            sys.stdout.write(f'{location[0]} {location[1]}')\n",
    "    else:\n",
    "        k += 1"
   ]
  },
  {
   "cell_type": "code",
   "execution_count": 99,
   "metadata": {},
   "outputs": [
    {
     "name": "stdout",
     "output_type": "stream",
     "text": [
      "1 -1\n",
      "1 1\n",
      "2 2\n",
      "3 3\n",
      "3 4\n"
     ]
    }
   ],
   "source": [
    "import sys\n",
    "# input = sys.stdin.readline\n",
    "N = int(input())\n",
    "location_list = []\n",
    "for _ in range(N):\n",
    "    x, y = map(int, input().split(' '))\n",
    "    location_list.append([x, y])\n",
    "\n",
    "# location_list = [[3, 4], [1, 1], [1, -1], [2, 2], [3, 3]]\n",
    "for location in sorted(location_list, key = lambda x : (x[0], x[1])): \n",
    "    sys.stdout.write(f'{location[0]} {location[1]}\\n')\n"
   ]
  },
  {
   "cell_type": "markdown",
   "metadata": {},
   "source": [
    "문제\n",
    "2차원 평면 위의 점 N개가 주어진다. 좌표를 y좌표가 증가하는 순으로, y좌표가 같으면 x좌표가 증가하는 순서로 정렬한 다음 출력하는 프로그램을 작성하시오.\n",
    "\n",
    "입력\n",
    "첫째 줄에 점의 개수 N (1 ≤ N ≤ 100,000)이 주어진다. 둘째 줄부터 N개의 줄에는 i번점의 위치 xi와 yi가 주어진다. (-100,000 ≤ xi, yi ≤ 100,000) 좌표는 항상 정수이고, 위치가 같은 두 점은 없다.\n",
    "\n",
    "출력\n",
    "첫째 줄부터 N개의 줄에 점을 정렬한 결과를 출력한다."
   ]
  },
  {
   "cell_type": "code",
   "execution_count": 3,
   "metadata": {},
   "outputs": [
    {
     "name": "stdout",
     "output_type": "stream",
     "text": [
      "1 -1\n",
      "1 2\n",
      "2 2\n",
      "3 3\n",
      "0 4\n"
     ]
    }
   ],
   "source": [
    "import sys\n",
    "# input = sys.stdin.readline\n",
    "N = int(input())\n",
    "location_list = []\n",
    "for _ in range(N):\n",
    "    x, y = map(int, input().split())\n",
    "    location_list.append([x, y])\n",
    "# location_list = [[0, 4], [3, 3], [2, 2], [1, 2], [1, -1]]\n",
    "location_list.sort(key = lambda x: (x[1], x[0]))\n",
    "for location in location_list:\n",
    "    sys.stdout.write(f'{location[0]} {location[1]}\\n')"
   ]
  },
  {
   "cell_type": "markdown",
   "metadata": {},
   "source": [
    "문제\n",
    "알파벳 소문자로 이루어진 N개의 단어가 들어오면 아래와 같은 조건에 따라 정렬하는 프로그램을 작성하시오.\n",
    "\n",
    "길이가 짧은 것부터\n",
    "길이가 같으면 사전 순으로\n",
    "입력\n",
    "첫째 줄에 단어의 개수 N이 주어진다. (1 ≤ N ≤ 20,000) 둘째 줄부터 N개의 줄에 걸쳐 알파벳 소문자로 이루어진 단어가 한 줄에 하나씩 주어진다. 주어지는 문자열의 길이는 50을 넘지 않는다.\n",
    "\n",
    "출력\n",
    "조건에 따라 정렬하여 단어들을 출력한다. 단, 같은 단어가 여러 번 입력된 경우에는 한 번씩만 출력한다."
   ]
  },
  {
   "cell_type": "code",
   "execution_count": 7,
   "metadata": {},
   "outputs": [
    {
     "data": {
      "text/plain": [
       "['t', 'd', 'c', 'b', 'a']"
      ]
     },
     "execution_count": 7,
     "metadata": {},
     "output_type": "execute_result"
    }
   ],
   "source": [
    "a = ['a', 'c', 'd', 't', 'b']\n",
    "a.sort(reverse = True)\n",
    "a"
   ]
  },
  {
   "cell_type": "code",
   "execution_count": 26,
   "metadata": {},
   "outputs": [
    {
     "name": "stdout",
     "output_type": "stream",
     "text": [
      "i\n",
      "im\n",
      "it\n",
      "no\n",
      "but\n",
      "more\n",
      "wait\n",
      "wont\n",
      "yours\n",
      "cannot\n",
      "hesitate"
     ]
    }
   ],
   "source": [
    "import sys\n",
    "N = int(input())\n",
    "# N = int(sys.stdin.readline())\n",
    "word_list = []\n",
    "for _ in range(N):\n",
    "    word = input()\n",
    "    # word = sys.stdin.readline().rstrip()\n",
    "    word_list.append(word)\n",
    "word_list = ['but', 'i', 'wont', 'hesitate', 'no', 'more', 'no', 'more', 'it', 'cannot', 'wait', 'im', 'yours']\n",
    "word_list = list(set(word_list))\n",
    "word_list.sort(key = lambda x: (len(x), x))\n",
    "for word in word_list:\n",
    "    if word == word_list[-1]:\n",
    "        sys.stdout.write(f'{word}')\n",
    "    else:\n",
    "        sys.stdout.write(f'{word}\\n')"
   ]
  },
  {
   "cell_type": "markdown",
   "metadata": {},
   "source": [
    "문제\n",
    "온라인 저지에 가입한 사람들의 나이와 이름이 가입한 순서대로 주어진다. 이때, 회원들을 나이가 증가하는 순으로, 나이가 같으면 먼저 가입한 사람이 앞에 오는 순서로 정렬하는 프로그램을 작성하시오.\n",
    "\n",
    "입력\n",
    "첫째 줄에 온라인 저지 회원의 수 N이 주어진다. (1 ≤ N ≤ 100,000)\n",
    "\n",
    "둘째 줄부터 N개의 줄에는 각 회원의 나이와 이름이 공백으로 구분되어 주어진다. 나이는 1보다 크거나 같으며, 200보다 작거나 같은 정수이고, 이름은 알파벳 대소문자로 이루어져 있고, 길이가 100보다 작거나 같은 문자열이다. 입력은 가입한 순서로 주어진다.\n",
    "\n",
    "출력\n",
    "첫째 줄부터 총 N개의 줄에 걸쳐 온라인 저지 회원을 나이 순, 나이가 같으면 가입한 순으로 한 줄에 한 명씩 나이와 이름을 공백으로 구분해 출력한다."
   ]
  },
  {
   "cell_type": "code",
   "execution_count": 24,
   "metadata": {},
   "outputs": [
    {
     "name": "stdout",
     "output_type": "stream",
     "text": [
      "20 Sunyoung\n",
      "21 Junkyu\n",
      "21 Dohyun"
     ]
    }
   ],
   "source": [
    "import sys\n",
    "N = int(input())\n",
    "# N = int(sys.stdin.readline())\n",
    "info_list = []\n",
    "for i in range(N):\n",
    "    info = input().split()\n",
    "    info.append(i)\n",
    "    info_list.append(info)\n",
    "    # info = sys.stdin.readline().rstrip().split()\n",
    "    # info.append(i)\n",
    "    # info_list.append(info)\n",
    "# info_list = [['21', 'Junkyu', 0], ['21', 'Dohyun', 1], ['20', 'Sunyoung', 2]]\n",
    "info_list.sort(key = lambda x: (int(x[0]), int(x[2])))\n",
    "for info in info_list:\n",
    "    if info == info_list[-1]:\n",
    "        sys.stdout.write(f'{info[0]} {info[1]}')\n",
    "    else:\n",
    "        sys.stdout.write(f'{info[0]} {info[1]}\\n')        "
   ]
  },
  {
   "cell_type": "markdown",
   "metadata": {},
   "source": [
    "문제\n",
    "수직선 위에 N개의 좌표 X1, X2, ..., XN이 있다. 이 좌표에 좌표 압축을 적용하려고 한다.\n",
    "\n",
    "Xi를 좌표 압축한 결과 X'i의 값은 Xi > Xj를 만족하는 서로 다른 좌표의 개수와 같아야 한다.\n",
    "\n",
    "X1, X2, ..., XN에 좌표 압축을 적용한 결과 X'1, X'2, ..., X'N를 출력해보자.\n",
    "\n",
    "입력\n",
    "첫째 줄에 N이 주어진다.\n",
    "\n",
    "둘째 줄에는 공백 한 칸으로 구분된 X1, X2, ..., XN이 주어진다.\n",
    "\n",
    "출력\n",
    "첫째 줄에 X'1, X'2, ..., X'N을 공백 한 칸으로 구분해서 출력한다."
   ]
  },
  {
   "cell_type": "code",
   "execution_count": 43,
   "metadata": {},
   "outputs": [
    {
     "name": "stdout",
     "output_type": "stream",
     "text": [
      "0 0 0 0 0 0"
     ]
    }
   ],
   "source": [
    "import sys\n",
    "N = int(input())\n",
    "# N = int(sys.stdin.readline())\n",
    "number_list = list(map(int, input().split()))\n",
    "# number_list = list(map(int, sys.stdin.readline().split()))\n",
    "number_list_check = list(set(number_list))\n",
    "number_list_check.sort()\n",
    "for i in range(N):\n",
    "    for k in range(len(number_list_check)):\n",
    "        if number_list_check[k] == number_list[i]:\n",
    "            if i == N - 1:\n",
    "                sys.stdout.write(f'{k}')\n",
    "            else:\n",
    "                sys.stdout.write(f'{k} ')"
   ]
  },
  {
   "cell_type": "code",
   "execution_count": 48,
   "metadata": {},
   "outputs": [
    {
     "name": "stdout",
     "output_type": "stream",
     "text": [
      "1 0 1 0 1 0"
     ]
    }
   ],
   "source": [
    "import sys\n",
    "N = int(input())\n",
    "# N = int(sys.stdin.readline())\n",
    "number_list = list(map(int, input().split()))\n",
    "# number_list = list(map(int, sys.stdin.readline().split()))\n",
    "number_list_check = list(set(number_list))\n",
    "number_list_check.sort()\n",
    "number_index_dic = dict(zip(number_list_check, [x for x in range(len(number_list_check))]))\n",
    "for index, number in enumerate(number_list):\n",
    "    if index == N-1:\n",
    "        sys.stdout.write(f'{number_index_dic[number]}')\n",
    "    else:\n",
    "        sys.stdout.write(f'{number_index_dic[number]} ')"
   ]
  },
  {
   "cell_type": "markdown",
   "metadata": {},
   "source": [
    "문제\n",
    "자연수 N과 M이 주어졌을 때, 아래 조건을 만족하는 길이가 M인 수열을 모두 구하는 프로그램을 작성하시오.\n",
    "1부터 N까지 자연수 중에서 중복 없이 M개를 고른 수열\n",
    "\n",
    "입력\n",
    "첫째 줄에 자연수 N과 M이 주어진다. (1 ≤ M ≤ N ≤ 8)\n",
    "\n",
    "출력\n",
    "한 줄에 하나씩 문제의 조건을 만족하는 수열을 출력한다. 중복되는 수열을 여러 번 출력하면 안되며, 각 수열은 공백으로 구분해서 출력해야 한다.\n",
    "수열은 사전 순으로 증가하는 순서로 출력해야 한다."
   ]
  },
  {
   "cell_type": "code",
   "execution_count": 35,
   "metadata": {},
   "outputs": [
    {
     "name": "stdout",
     "output_type": "stream",
     "text": [
      "일번 2 3 5\n"
     ]
    }
   ],
   "source": [
    "arr_list = ['일번', 2, 3, 5] # 결과값을 입력받을 리스트 형성\n",
    "print(*arr_list)"
   ]
  },
  {
   "cell_type": "code",
   "execution_count": 72,
   "metadata": {},
   "outputs": [
    {
     "name": "stdout",
     "output_type": "stream",
     "text": [
      "1 2 3\n",
      "1 3 2\n",
      "2 1 3\n",
      "2 3 1\n",
      "3 1 2\n",
      "3 2 1"
     ]
    }
   ],
   "source": [
    "import sys\n",
    "N, M = map(int, input().split()) # 입력값 받기\n",
    "number_list = [x for x in range(N+1)] # 0부터 N까지의 수를 가진 숫자 리스트 생성\n",
    "check_list = [False] * (N + 1) # 방문경로를 확인할 방문기록 리스트 형성\n",
    "# N + 1로 형성한 이유 : 숫자 인덱스의 값을 실제 숫자와 일치화 시키기 위해서\n",
    "arr_list = [] # 결과값을 입력받을 리스트 형성\n",
    "\n",
    "def dfs(cnt): \n",
    "    if cnt == M: # 주어진 개수만큼 채워지면 출력\n",
    "        # print(*arr_list) # *arr_list : arr_list내부에 있는 변수들을 공백문자를 분할기준으로 출력\n",
    "        for number in arr_list: # 출력문 간소화를 위한 sys함수적용(반드시 마지막 문자는 개행문자 제거 필요)\n",
    "            if arr_list == [x for x in range(N, 0, -1)]:\n",
    "                if number == arr_list[-1]:\n",
    "                    sys.stdout.write(f'{number}')\n",
    "                else:    \n",
    "                    sys.stdout.write(f'{number} ')\n",
    "            elif number == arr_list[-1]:\n",
    "                sys.stdout.write(f'{number}\\n')\n",
    "            else:\n",
    "                sys.stdout.write(f'{number} ')\n",
    "        # print(arr_list)\n",
    "        return\n",
    "\n",
    "    for i in range(1, N+1):\n",
    "        if check_list[i]: # 백트래킹 적용\n",
    "            # 설명 : 아래쪽 dfs(cnt+1)로 재귀함수를 적용할때 이미 반영된 숫자가 들어오면 재귀 중지\n",
    "            # 첫번째 입력 숫자가 1이면, 두번째에 1이 들어오면 노드 탐색 중지\n",
    "            # [1, 2]가 입력된 상태에서 1이나 2가 들어오면 노드탐색 중지\n",
    "            # 중복된 값을 넣고 싶으면 pass로 변경\n",
    "            continue\n",
    "            # pass\n",
    "\n",
    "        check_list[i] = True # 수열 체크(방문기록 작성)\n",
    "        arr_list.append(number_list[i]) # 현재의 i를 기준으로 가지치기 시작, 수열 추가\n",
    "\n",
    "        dfs(cnt+1) # +1번째 수열을 재귀\n",
    "\n",
    "        arr_list.pop() # 수열의 마지막 자리 삭제 # 새로운 경우의 수를 찾기위해 작성한 배열 삭제\n",
    "        check_list[i] = False\n",
    "\n",
    "dfs(0)"
   ]
  },
  {
   "cell_type": "code",
   "execution_count": 81,
   "metadata": {},
   "outputs": [
    {
     "data": {
      "text/plain": [
       "[(1, 2), (1, 3), (2, 1), (2, 3), (3, 1), (3, 2)]"
      ]
     },
     "execution_count": 81,
     "metadata": {},
     "output_type": "execute_result"
    }
   ],
   "source": [
    "# itertools를 활용한 방법\n",
    "import itertools\n",
    "N, M = map(int, input().split())\n",
    "number_list = [x for x in range(1, N+1)]\n",
    "result_list = list(itertools.permutations(number_list, M))\n",
    "result_list"
   ]
  },
  {
   "cell_type": "markdown",
   "metadata": {},
   "source": [
    "문제\n",
    "자연수 N과 M이 주어졌을 때, 아래 조건을 만족하는 길이가 M인 수열을 모두 구하는 프로그램을 작성하시오.\n",
    "1부터 N까지 자연수 중에서 중복 없이 M개를 고른 수열\n",
    "고른 수열은 오름차순이어야 한다.\n",
    "\n",
    "입력\n",
    "첫째 줄에 자연수 N과 M이 주어진다. (1 ≤ M ≤ N ≤ 8)\n",
    "\n",
    "출력\n",
    "한 줄에 하나씩 문제의 조건을 만족하는 수열을 출력한다. 중복되는 수열을 여러 번 출력하면 안되며, 각 수열은 공백으로 구분해서 출력해야 한다.\n",
    "수열은 사전 순으로 증가하는 순서로 출력해야 한다."
   ]
  },
  {
   "cell_type": "code",
   "execution_count": 137,
   "metadata": {},
   "outputs": [
    {
     "name": "stdout",
     "output_type": "stream",
     "text": [
      "1 2 3\n"
     ]
    }
   ],
   "source": [
    "N, M = map(int, input().split())\n",
    "# N, M = 3, 2\n",
    "number_list = [x for x in range(1, N+1)] # 1부터 N까지의 숫자를 가진 리스트 생성\n",
    "check_list = [False] * N # 방문기록를 작성 및 확인할 리스트 생성\n",
    "arr_list = [] # 출력할 값을 넣을 리스트 생성\n",
    "\n",
    "def dfs(start):\n",
    "    if len(arr_list) == M:\n",
    "        print(*arr_list)\n",
    "        return\n",
    "    \n",
    "    for i in range(start, N):\n",
    "        if i+1 in arr_list:\n",
    "            continue\n",
    "        check_list[i] = True\n",
    "        arr_list.append(i+1)\n",
    "\n",
    "        dfs(i+1)\n",
    "\n",
    "        arr_list.pop()\n",
    "        check_list[i] = False\n",
    "dfs(0)"
   ]
  },
  {
   "cell_type": "markdown",
   "metadata": {},
   "source": [
    "문제\n",
    "정수를 저장하는 스택을 구현한 다음, 입력으로 주어지는 명령을 처리하는 프로그램을 작성하시오.\n",
    "명령은 총 다섯 가지이다.\n",
    "push X: 정수 X를 스택에 넣는 연산이다.\n",
    "pop: 스택에서 가장 위에 있는 정수를 빼고, 그 수를 출력한다. 만약 스택에 들어있는 정수가 없는 경우에는 -1을 출력한다.\n",
    "size: 스택에 들어있는 정수의 개수를 출력한다.\n",
    "empty: 스택이 비어있으면 1, 아니면 0을 출력한다.\n",
    "top: 스택의 가장 위에 있는 정수를 출력한다. 만약 스택에 들어있는 정수가 없는 경우에는 -1을 출력한다.\n",
    "\n",
    "입력\n",
    "첫째 줄에 주어지는 명령의 수 N (1 ≤ N ≤ 10,000)이 주어진다. 둘째 줄부터 N개의 줄에는 명령이 하나씩 주어진다. 주어지는 정수는 1보다 크거나 같고, 100,000보다 작거나 같다. 문제에 나와있지 않은 명령이 주어지는 경우는 없다.\n",
    "\n",
    "출력\n",
    "출력해야하는 명령이 주어질 때마다, 한 줄에 하나씩 출력한다."
   ]
  },
  {
   "cell_type": "code",
   "execution_count": 178,
   "metadata": {},
   "outputs": [
    {
     "name": "stdout",
     "output_type": "stream",
     "text": [
      "-1\n",
      "-1"
     ]
    }
   ],
   "source": [
    "class stack:\n",
    "    def __init__(self):\n",
    "        self.result = []\n",
    "    \n",
    "    def push(self, X):\n",
    "        self.result.append(X)\n",
    "\n",
    "    def pop(self):\n",
    "        if len(self.result) == 0:\n",
    "            return -1\n",
    "        else:\n",
    "            return self.result.pop()\n",
    "\n",
    "    def size(self):\n",
    "        return len(self.result)\n",
    "    \n",
    "    def empty(self):\n",
    "        if len(self.result) == 0:\n",
    "            return 1\n",
    "        else:\n",
    "            return 0\n",
    "    \n",
    "    def top(self):\n",
    "        if len(self.result) == 0:\n",
    "            return -1\n",
    "        else:\n",
    "            return self.result[-1]\n",
    "\n",
    "import sys \n",
    "N = int(input())\n",
    "# N = int(sys.stdin.readline())\n",
    "result = stack()\n",
    "for i in range(N):\n",
    "    order = input()\n",
    "    # order = sys.stdin.readline().rstrip()\n",
    "    if 'push' in order:\n",
    "        result.push(order.split()[1])\n",
    "    elif 'pop' == order:\n",
    "        if i == (N-1):\n",
    "            sys.stdout.write(f'{result.pop()}')\n",
    "        else:\n",
    "            sys.stdout.write(f'{result.pop()}\\n')\n",
    "    elif 'size' == order:\n",
    "        if i == (N-1):\n",
    "            sys.stdout.write(f'{result.size()}')\n",
    "        else:\n",
    "            sys.stdout.write(f'{result.size()}\\n')\n",
    "    elif 'empty' == order:\n",
    "        if i == (N-1):\n",
    "            sys.stdout.write(f'{result.empty()}')\n",
    "        else:\n",
    "            sys.stdout.write(f'{result.empty()}\\n')\n",
    "    elif 'top' == order:\n",
    "        if i == (N-1):\n",
    "            sys.stdout.write(f'{result.top()}')\n",
    "        else:\n",
    "            sys.stdout.write(f'{result.top()}\\n')\n",
    "    else:\n",
    "        pass"
   ]
  },
  {
   "cell_type": "code",
   "execution_count": 179,
   "metadata": {},
   "outputs": [
    {
     "data": {
      "text/plain": [
       "[]"
      ]
     },
     "execution_count": 179,
     "metadata": {},
     "output_type": "execute_result"
    }
   ],
   "source": [
    "result.result"
   ]
  },
  {
   "cell_type": "markdown",
   "metadata": {},
   "source": [
    "문제\n",
    "나코더 기장 재민이는 동아리 회식을 준비하기 위해서 장부를 관리하는 중이다.\n",
    "재현이는 재민이를 도와서 돈을 관리하는 중인데, 애석하게도 항상 정신없는 재현이는 돈을 실수로 잘못 부르는 사고를 치기 일쑤였다.\n",
    "재현이는 잘못된 수를 부를 때마다 0을 외쳐서, 가장 최근에 재민이가 쓴 수를 지우게 시킨다.\n",
    "재민이는 이렇게 모든 수를 받아 적은 후 그 수의 합을 알고 싶어 한다. 재민이를 도와주자!\n",
    "\n",
    "입력\n",
    "첫 번째 줄에 정수 K가 주어진다. (1 ≤ K ≤ 100,000)\n",
    "이후 K개의 줄에 정수가 1개씩 주어진다. 정수는 0에서 1,000,000 사이의 값을 가지며, \n",
    "정수가 \"0\" 일 경우에는 가장 최근에 쓴 수를 지우고, 아닐 경우 해당 수를 쓴다.\n",
    "정수가 \"0\"일 경우에 지울 수 있는 수가 있음을 보장할 수 있다.\n",
    "\n",
    "출력\n",
    "재민이가 최종적으로 적어 낸 수의 합을 출력한다. 최종적으로 적어낸 수의 합은 231-1보다 작거나 같은 정수이다."
   ]
  },
  {
   "cell_type": "code",
   "execution_count": 187,
   "metadata": {},
   "outputs": [
    {
     "name": "stdout",
     "output_type": "stream",
     "text": [
      "7"
     ]
    }
   ],
   "source": [
    "import sys\n",
    "# input = sys.stdin.readline\n",
    "K = int(input())\n",
    "answer_list = []\n",
    "for _ in range(K):\n",
    "    answer = int(input())\n",
    "    if answer == 0:\n",
    "        answer_list.pop()\n",
    "    else:\n",
    "        answer_list.append(answer)\n",
    "sys.stdout.write(f'{sum(answer_list)}')"
   ]
  },
  {
   "cell_type": "markdown",
   "metadata": {},
   "source": [
    "문제\n",
    "괄호 문자열(Parenthesis String, PS)은 두 개의 괄호 기호인 ‘(’ 와 ‘)’ 만으로 구성되어 있는 문자열이다. 그 중에서 괄호의 모양이 바르게 구성된 문자열을 올바른 괄호 문자열(Valid PS, VPS)이라고 부른다. 한 쌍의 괄호 기호로 된 “( )” 문자열은 기본 VPS 이라고 부른다. 만일 x 가 VPS 라면 이것을 하나의 괄호에 넣은 새로운 문자열 “(x)”도 VPS 가 된다. 그리고 두 VPS x 와 y를 접합(concatenation)시킨 새로운 문자열 xy도 VPS 가 된다. 예를 들어 “(())()”와 “((()))” 는 VPS 이지만 “(()(”, “(())()))” , 그리고 “(()” 는 모두 VPS 가 아닌 문자열이다. \n",
    "여러분은 입력으로 주어진 괄호 문자열이 VPS 인지 아닌지를 판단해서 그 결과를 YES 와 NO 로 나타내어야 한다. \n",
    "\n",
    "입력\n",
    "입력 데이터는 표준 입력을 사용한다. 입력은 T개의 테스트 데이터로 주어진다. 입력의 첫 번째 줄에는 입력 데이터의 수를 나타내는 정수 T가 주어진다. 각 테스트 데이터의 첫째 줄에는 괄호 문자열이 한 줄에 주어진다. 하나의 괄호 문자열의 길이는 2 이상 50 이하이다. \n",
    "\n",
    "출력\n",
    "출력은 표준 출력을 사용한다. 만일 입력 괄호 문자열이 올바른 괄호 문자열(VPS)이면 “YES”, 아니면 “NO”를 한 줄에 하나씩 차례대로 출력해야 한다. "
   ]
  },
  {
   "cell_type": "code",
   "execution_count": 201,
   "metadata": {},
   "outputs": [
    {
     "name": "stdout",
     "output_type": "stream",
     "text": [
      "NO\n",
      "NO\n",
      "NO"
     ]
    }
   ],
   "source": [
    "def check(PS):\n",
    "    result_list = []\n",
    "    for i in range(len(PS)):\n",
    "        if PS[0] == ')':\n",
    "            return 'NO'\n",
    "        else:\n",
    "            for i in range(len(PS)):\n",
    "                result_list.append(PS[i])\n",
    "                if len(result_list) >= 2:\n",
    "                    if result_list[-2] + result_list[-1] == '()':\n",
    "                        result_list.pop()\n",
    "                        result_list.pop()\n",
    "        if len(result_list) != 0:\n",
    "            return 'NO'\n",
    "        else:\n",
    "            return 'YES'\n",
    "\n",
    "import sys\n",
    "T = int(input())\n",
    "# T = int(sys.stdin.readline())\n",
    "for i in range(T):\n",
    "    PS = input()\n",
    "    # PS = sys.stdin.readline().rstrip()   \n",
    "    if i != T-1:\n",
    "        sys.stdout.write(f'{check(PS)}\\n') \n",
    "    else:\n",
    "        sys.stdout.write(f'{check(PS)}')"
   ]
  }
 ],
 "metadata": {
  "interpreter": {
   "hash": "fe3bab233825460445dbfeea6dcd52ef5815a3fa13c858fea07ac830aa383284"
  },
  "kernelspec": {
   "display_name": "Python 3.8.10 64-bit ('base': conda)",
   "language": "python",
   "name": "python3"
  },
  "language_info": {
   "codemirror_mode": {
    "name": "ipython",
    "version": 3
   },
   "file_extension": ".py",
   "mimetype": "text/x-python",
   "name": "python",
   "nbconvert_exporter": "python",
   "pygments_lexer": "ipython3",
   "version": "3.8.10"
  },
  "orig_nbformat": 4
 },
 "nbformat": 4,
 "nbformat_minor": 2
}
