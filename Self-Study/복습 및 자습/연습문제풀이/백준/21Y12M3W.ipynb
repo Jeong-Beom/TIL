{
 "cells": [
  {
   "cell_type": "markdown",
   "metadata": {},
   "source": [
    "문제\n",
    "1보다 큰 자연수 중에서  1과 자기 자신을 제외한 약수가 없는 자연수를 소수라고 한다. 예를 들어, 5는 1과 5를 제외한 약수가 없기 때문에 소수이다. 하지만, 6은 6 = 2 × 3 이기 때문에 소수가 아니다.\n",
    "\n",
    "골드바흐의 추측은 유명한 정수론의 미해결 문제로, 2보다 큰 모든 짝수는 두 소수의 합으로 나타낼 수 있다는 것이다. 이러한 수를 골드바흐 수라고 한다. 또, 짝수를 두 소수의 합으로 나타내는 표현을 그 수의 골드바흐 파티션이라고 한다. 예를 들면, 4 = 2 + 2, 6 = 3 + 3, 8 = 3 + 5, 10 = 5 + 5, 12 = 5 + 7, 14 = 3 + 11, 14 = 7 + 7이다. 10000보다 작거나 같은 모든 짝수 n에 대한 골드바흐 파티션은 존재한다.\n",
    "\n",
    "2보다 큰 짝수 n이 주어졌을 때, n의 골드바흐 파티션을 출력하는 프로그램을 작성하시오. 만약 가능한 n의 골드바흐 파티션이 여러 가지인 경우에는 두 소수의 차이가 가장 작은 것을 출력한다.\n",
    "\n",
    "입력\n",
    "첫째 줄에 테스트 케이스의 개수 T가 주어진다. 각 테스트 케이스는 한 줄로 이루어져 있고 짝수 n이 주어진다.\n",
    "\n",
    "출력\n",
    "각 테스트 케이스에 대해서 주어진 n의 골드바흐 파티션을 출력한다. 출력하는 소수는 작은 것부터 먼저 출력하며, 공백으로 구분한다.\n",
    "\n",
    "제한\n",
    "4 ≤ n ≤ 10,000"
   ]
  },
  {
   "cell_type": "code",
   "execution_count": 34,
   "metadata": {},
   "outputs": [
    {
     "name": "stdout",
     "output_type": "stream",
     "text": [
      "3 5\n",
      "5 5\n",
      "5 11\n"
     ]
    }
   ],
   "source": [
    "T = int(input())\n",
    "for _ in range(T):\n",
    "    N = int(input())\n",
    "\n",
    "    check_array = [True, True] + [False] * (N - 1)\n",
    "    number_list = []\n",
    "    for i in range(2, N+1):\n",
    "        if check_array[i] == False:\n",
    "            number_list.append(i)\n",
    "            for k in range(i, N+1, i):\n",
    "                check_array[k] = True\n",
    "\n",
    "    sample_list = []\n",
    "    sample_list_plus = []\n",
    "    start = 0\n",
    "    end = 0\n",
    "    while True:\n",
    "        if start == len(number_list) - 1 and end == len(number_list) - 1:\n",
    "            if number_list[start] + number_list[end] == N:\n",
    "                sample_list.append([number_list[start], number_list[end]])\n",
    "                sample_list_plus.append(abs(number_list[start] - number_list[end]))\n",
    "            break\n",
    "        elif end == len(number_list) - 1:\n",
    "            if number_list[start] + number_list[end] == N:\n",
    "                sample_list.append([number_list[start], number_list[end]])\n",
    "                sample_list_plus.append(abs(number_list[start] - number_list[end]))\n",
    "            start += 1\n",
    "            end = start\n",
    "        else:\n",
    "            if number_list[start] + number_list[end] == N:\n",
    "                sample_list.append([number_list[start], number_list[end]])\n",
    "                sample_list_plus.append(abs(number_list[start] - number_list[end]))\n",
    "            end += 1\n",
    "    sample_list, sample_list_plus\n",
    "    result_index = sample_list_plus.index(min(sample_list_plus))\n",
    "    print(min(sample_list[result_index]), max(sample_list[result_index]))"
   ]
  }
 ],
 "metadata": {
  "interpreter": {
   "hash": "fe3bab233825460445dbfeea6dcd52ef5815a3fa13c858fea07ac830aa383284"
  },
  "kernelspec": {
   "display_name": "Python 3.8.10 64-bit ('base': conda)",
   "language": "python",
   "name": "python3"
  },
  "language_info": {
   "codemirror_mode": {
    "name": "ipython",
    "version": 3
   },
   "file_extension": ".py",
   "mimetype": "text/x-python",
   "name": "python",
   "nbconvert_exporter": "python",
   "pygments_lexer": "ipython3",
   "version": "3.8.10"
  },
  "orig_nbformat": 4
 },
 "nbformat": 4,
 "nbformat_minor": 2
}
