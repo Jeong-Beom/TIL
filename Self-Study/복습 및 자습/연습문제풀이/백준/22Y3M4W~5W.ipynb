{
 "cells": [
  {
   "cell_type": "markdown",
   "metadata": {},
   "source": [
    "2531번 회전초밥 https://www.acmicpc.net/problem/2531"
   ]
  },
  {
   "cell_type": "code",
   "execution_count": 17,
   "metadata": {},
   "outputs": [
    {
     "name": "stdout",
     "output_type": "stream",
     "text": [
      "4\n"
     ]
    }
   ],
   "source": [
    "import sys\n",
    "N, d, k, c = map(int, input().split()) # N: 접시의 수 / d: 초밥의 가짓수 / k: 연속해서 먹는 접시수 / c: 쿠폰 번호\n",
    "\n",
    "# input = sys.stdin.readline\n",
    "cp1, cp2 = 0, k-1\n",
    "sushi = []\n",
    "for _ in range(N):\n",
    "    sushi.append(int(input()))\n",
    "check = set()\n",
    "\n",
    "while cp1 < N:\n",
    "    if cp2 >= N:\n",
    "        cp2 -= N\n",
    "    if cp2 < cp1:\n",
    "        plates = sushi[cp1:] + sushi[:cp2+1]\n",
    "    else:\n",
    "        plates = sushi[cp1:cp2+1]\n",
    "    cases = set(plates)\n",
    "    if c not in cases:\n",
    "        cases.add(c)\n",
    "    if len(check) < len(cases):\n",
    "        check = cases\n",
    "    cp1 += 1\n",
    "    cp2 += 1\n",
    "print(len(check))"
   ]
  },
  {
   "cell_type": "markdown",
   "metadata": {},
   "source": [
    "2252번 줄세우기 https://www.acmicpc.net/problem/2252"
   ]
  },
  {
   "cell_type": "code",
   "execution_count": 37,
   "metadata": {},
   "outputs": [
    {
     "name": "stdout",
     "output_type": "stream",
     "text": [
      "3 4 1 2\n"
     ]
    }
   ],
   "source": [
    "from collections import deque\n",
    "import sys\n",
    "\n",
    "# input = sys.stdin.readline\n",
    "N, M = map(int, input().split())\n",
    "graph = [[] for _ in range(N+1)]\n",
    "link = [0 for _ in range(N+1)]\n",
    "for _ in range(M):\n",
    "    start, end = map(int, input().split())\n",
    "    graph[start].append(end)\n",
    "    link[end] += 1\n",
    "\n",
    "ans = []\n",
    "queue = deque()\n",
    "for i in range(1, N+1):\n",
    "    if link[i] == 0:\n",
    "        queue.append(i)\n",
    "        link[i] = -1\n",
    "\n",
    "while queue:\n",
    "    cp = queue.popleft()\n",
    "    ans.append(cp)\n",
    "    for number in graph[cp]:\n",
    "        link[number] -= 1\n",
    "        if link[number] == 0:\n",
    "            queue.append(number)\n",
    "print(*ans)"
   ]
  },
  {
   "cell_type": "markdown",
   "metadata": {},
   "source": [
    "1197번 최소 스패닝 트리 https://www.acmicpc.net/problem/1197"
   ]
  },
  {
   "cell_type": "code",
   "execution_count": 14,
   "metadata": {},
   "outputs": [
    {
     "ename": "ValueError",
     "evalue": "0 is not in list",
     "output_type": "error",
     "traceback": [
      "\u001b[1;31m---------------------------------------------------------------------------\u001b[0m",
      "\u001b[1;31mValueError\u001b[0m                                Traceback (most recent call last)",
      "\u001b[1;32m<ipython-input-14-57741d2acd7c>\u001b[0m in \u001b[0;36m<module>\u001b[1;34m\u001b[0m\n\u001b[0;32m      1\u001b[0m \u001b[0mtest\u001b[0m \u001b[1;33m=\u001b[0m \u001b[1;33m[\u001b[0m\u001b[1;36m1\u001b[0m\u001b[1;33m,\u001b[0m\u001b[1;36m2\u001b[0m\u001b[1;33m,\u001b[0m\u001b[1;36m3\u001b[0m\u001b[1;33m]\u001b[0m\u001b[1;33m\u001b[0m\u001b[1;33m\u001b[0m\u001b[0m\n\u001b[1;32m----> 2\u001b[1;33m \u001b[0mtest\u001b[0m\u001b[1;33m.\u001b[0m\u001b[0mindex\u001b[0m\u001b[1;33m(\u001b[0m\u001b[1;36m0\u001b[0m\u001b[1;33m)\u001b[0m\u001b[1;33m\u001b[0m\u001b[1;33m\u001b[0m\u001b[0m\n\u001b[0m",
      "\u001b[1;31mValueError\u001b[0m: 0 is not in list"
     ]
    }
   ],
   "source": [
    "test = [1,2,3]\n",
    "test.index(0)"
   ]
  },
  {
   "cell_type": "code",
   "execution_count": 16,
   "metadata": {},
   "outputs": [
    {
     "name": "stdout",
     "output_type": "stream",
     "text": [
      "3\n"
     ]
    }
   ],
   "source": [
    "# Prim 형태로 해결시도 - 해결\n",
    "from heapq import heappush, heappop\n",
    "import sys\n",
    "\n",
    "V, E = map(int, input().split()) # V: 정점의 개수 / E: 간선의 개수\n",
    "graph = [[] for _ in range(V+1)]\n",
    "for _ in range(E):\n",
    "    cp1, cp2, wei = map(int, input().split())\n",
    "    graph[cp1].append([wei, cp2])\n",
    "    graph[cp2].append([wei, cp1])\n",
    "\n",
    "def MST_Prim(start, graph, V):\n",
    "    heap = []\n",
    "    visited = [False for _ in range(V+1)]\n",
    "    visited[start] = True\n",
    "    for line in graph[start]:\n",
    "        heappush(heap, line)\n",
    "\n",
    "    ans = 0\n",
    "    cnt = 1\n",
    "    while heap:\n",
    "        if cnt == V:\n",
    "            print(ans)\n",
    "            return \n",
    "        wei, cp = heappop(heap)\n",
    "        if visited[cp]:\n",
    "            continue\n",
    "        else:\n",
    "            cnt += 1\n",
    "            visited[cp] = True\n",
    "            ans += wei\n",
    "            for line in graph[cp]:\n",
    "                heappush(heap, line)\n",
    "\n",
    "MST_Prim(1, graph, V)"
   ]
  },
  {
   "cell_type": "code",
   "execution_count": 73,
   "metadata": {},
   "outputs": [
    {
     "name": "stdout",
     "output_type": "stream",
     "text": [
      "[False, False, False, False] 0\n",
      "[False, True, True, False] 1\n",
      "[False, True, True, True] 3\n",
      "3\n"
     ]
    }
   ],
   "source": [
    "# Kruskal 형태로 해결시도 - 시도중\n",
    "from heapq import heappush, heappop\n",
    "import sys\n",
    "\n",
    "# input = sys.stdin.readline\n",
    "V, E = map(int, input().split()) # V: 정점의 개수 / E: 간선의 개수\n",
    "heap = []\n",
    "for _ in range(E):\n",
    "    cp1, cp2, wei = map(int, input().split())\n",
    "    heappush(heap, [wei, cp1, cp2])\n",
    "\n",
    "ans = 0\n",
    "visited = [False for _ in range(V+1)]\n",
    "while heap:\n",
    "    print(visited, ans)\n",
    "    wei, cp1, cp2 = heappop(heap)\n",
    "    if visited[cp1] == False and visited[cp2] == False:\n",
    "        visited[cp1] = True\n",
    "        visited[cp2] = True\n",
    "        ans += wei\n",
    "    elif visited[cp1] == False and visited[cp2] == True:\n",
    "        visited[cp1] = True\n",
    "        ans += wei\n",
    "    elif visited[cp1] == True and visited[cp2] == False:\n",
    "        visited[cp2] = True\n",
    "        ans += wei\n",
    "    else:\n",
    "        pass\n",
    "print(ans)"
   ]
  }
 ],
 "metadata": {
  "interpreter": {
   "hash": "fe3bab233825460445dbfeea6dcd52ef5815a3fa13c858fea07ac830aa383284"
  },
  "kernelspec": {
   "display_name": "Python 3.8.10 ('base')",
   "language": "python",
   "name": "python3"
  },
  "language_info": {
   "codemirror_mode": {
    "name": "ipython",
    "version": 3
   },
   "file_extension": ".py",
   "mimetype": "text/x-python",
   "name": "python",
   "nbconvert_exporter": "python",
   "pygments_lexer": "ipython3",
   "version": "3.8.10"
  },
  "orig_nbformat": 4
 },
 "nbformat": 4,
 "nbformat_minor": 2
}
