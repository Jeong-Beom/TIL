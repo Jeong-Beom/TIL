{
 "cells": [
  {
   "cell_type": "markdown",
   "metadata": {},
   "source": [
    "#### TEST"
   ]
  },
  {
   "cell_type": "code",
   "execution_count": 3,
   "metadata": {},
   "outputs": [
    {
     "name": "stdout",
     "output_type": "stream",
     "text": [
      "5\n"
     ]
    }
   ],
   "source": [
    "import sys\n",
    "a, b = map(int, input().split()) # map(int, sys.stdin.readline().split())\n",
    "print(a + b) "
   ]
  },
  {
   "cell_type": "markdown",
   "metadata": {},
   "source": [
    "#### 백준 10926번"
   ]
  },
  {
   "cell_type": "code",
   "execution_count": 4,
   "metadata": {},
   "outputs": [
    {
     "name": "stdout",
     "output_type": "stream",
     "text": [
      "test??!\n"
     ]
    }
   ],
   "source": [
    "import sys\n",
    "name = input() # sys.stdin.readline().strip()  \n",
    "print(f'{name}??!')"
   ]
  },
  {
   "cell_type": "markdown",
   "metadata": {},
   "source": [
    "#### 백준 25304번"
   ]
  },
  {
   "cell_type": "code",
   "execution_count": 7,
   "metadata": {},
   "outputs": [
    {
     "name": "stdout",
     "output_type": "stream",
     "text": [
      "Yes\n"
     ]
    }
   ],
   "source": [
    "import sys\n",
    "total = int(input()) # int(sys.stdin.readline().strip())\n",
    "n = int(input()) # int(sys.stdin.readline().strip())\n",
    "\n",
    "costs = 0\n",
    "for _ in range(n):\n",
    "    cost, cnt = map(int, input().split()) # map(int, sys.stdin.readline().split())\n",
    "    costs += cost*cnt\n",
    "\n",
    "if total == costs:\n",
    "    print(\"Yes\")\n",
    "else:\n",
    "    print(\"No\")"
   ]
  },
  {
   "cell_type": "markdown",
   "metadata": {},
   "source": [
    "#### 백준 25314번"
   ]
  },
  {
   "cell_type": "code",
   "execution_count": 1,
   "metadata": {},
   "outputs": [
    {
     "name": "stdout",
     "output_type": "stream",
     "text": [
      "long long long long long long long long int\n"
     ]
    }
   ],
   "source": [
    "import sys, math\n",
    "n = int(input()) # int(sys.stdin.readline().strip())\n",
    "print(f'{\"long \"* int(n/4)}int')"
   ]
  },
  {
   "cell_type": "markdown",
   "metadata": {},
   "source": [
    "#### 백준 10807번"
   ]
  },
  {
   "cell_type": "code",
   "execution_count": 16,
   "metadata": {},
   "outputs": [
    {
     "name": "stdout",
     "output_type": "stream",
     "text": [
      "0\n"
     ]
    }
   ],
   "source": [
    "import sys\n",
    "\n",
    "N = int(input()) # int(sys.stdin.readline().strip())\n",
    "arr = list(map(int, input().split())) # list(map(int, sys.stdin.readline().strip().split()))\n",
    "v = int(input()) # int(sys.stdin.readline().strip())\n",
    "dic = dict()\n",
    "\n",
    "for i in range(-100, 101, 1):\n",
    "    dic[i] = 0\n",
    "\n",
    "for num in arr:\n",
    "    dic[num] = dic[num]+1\n",
    "\n",
    "print(dic[v])"
   ]
  },
  {
   "cell_type": "markdown",
   "metadata": {},
   "source": [
    "#### 백준 10810번"
   ]
  },
  {
   "cell_type": "code",
   "execution_count": 20,
   "metadata": {},
   "outputs": [
    {
     "name": "stdout",
     "output_type": "stream",
     "text": [
      "1 2 1 1 0\n"
     ]
    }
   ],
   "source": [
    "import sys\n",
    "\n",
    "N, M = map(int, input().split()) # map(int, sys.stdin.readline().strip().split())\n",
    "dic = dict()\n",
    "\n",
    "for num in range(1, N+1):\n",
    "    dic[num] = 0\n",
    "\n",
    "for _ in range(M):\n",
    "    i, j, k = map(int, input().split()) # map(int, sys.stdin.readline().strip().split())\n",
    "    for t in range(i, j+1):\n",
    "        dic[t] = k\n",
    "\n",
    "for res in range(1, N+1):\n",
    "    if res == N:\n",
    "        print(dic[res])\n",
    "    else:\n",
    "        print(dic[res], end=' ')"
   ]
  },
  {
   "cell_type": "markdown",
   "metadata": {},
   "source": [
    "#### 백준 10813번"
   ]
  },
  {
   "cell_type": "code",
   "execution_count": 7,
   "metadata": {},
   "outputs": [
    {
     "name": "stdout",
     "output_type": "stream",
     "text": [
      "3 1 4 2 5\n"
     ]
    }
   ],
   "source": [
    "import sys\n",
    "\n",
    "N, M = map(int, input().split()) # map(int, sys.stdin.readline().strip().split())\n",
    "\n",
    "baskets = dict()\n",
    "for i in range(1, N+1):\n",
    "    baskets[i] = i\n",
    "\n",
    "for _ in range(M):\n",
    "    bs1, bs2 = map(int, input().split()) # map(int, sys.stdin.readline().strip().split())\n",
    "    b1 = baskets[bs1]\n",
    "    b2 = baskets[bs2]\n",
    "    baskets[bs2] = b1\n",
    "    baskets[bs1] = b2\n",
    "\n",
    "for t in range(1, N+1):\n",
    "    if t == N:\n",
    "        print(baskets[t])\n",
    "    else:\n",
    "        print(baskets[t], end=' ')"
   ]
  },
  {
   "cell_type": "markdown",
   "metadata": {},
   "source": [
    "#### 백준 5597번"
   ]
  },
  {
   "cell_type": "code",
   "execution_count": 16,
   "metadata": {},
   "outputs": [
    {
     "name": "stdout",
     "output_type": "stream",
     "text": [
      "2\n",
      "8\n"
     ]
    }
   ],
   "source": [
    "import sys\n",
    "\n",
    "numbers = [0 for _ in range(31)]\n",
    "\n",
    "for _ in range(28):\n",
    "    num = int(input()) # int(sys.stdin.readline().strip())\n",
    "    numbers[num] = 1\n",
    "\n",
    "for i in range(1, 31):\n",
    "    if numbers[i] == 0:\n",
    "        print(i)\n",
    "    else:\n",
    "        pass"
   ]
  },
  {
   "cell_type": "markdown",
   "metadata": {},
   "source": [
    "#### 백준 10811번"
   ]
  },
  {
   "cell_type": "code",
   "execution_count": 24,
   "metadata": {},
   "outputs": [
    {
     "name": "stdout",
     "output_type": "stream",
     "text": [
      "1 2 3 4\n"
     ]
    }
   ],
   "source": [
    "list = [1, 2, 3, 4]\n",
    "list2 = list.copy()\n",
    "print(*list2)"
   ]
  },
  {
   "cell_type": "code",
   "execution_count": 28,
   "metadata": {},
   "outputs": [
    {
     "name": "stdout",
     "output_type": "stream",
     "text": [
      "3 4 1 2 5\n"
     ]
    }
   ],
   "source": [
    "import sys\n",
    "\n",
    "M, N = map(int, input().split()) # map(int, sys.stdin.readline().strip().split())\n",
    "baskets = [i for i in range(M+1)]\n",
    "tmp_baskets_reverse = []\n",
    "\n",
    "for j in range(N):\n",
    "    bs1, bs2 = map(int, input().split()) # map(int, sys.stdin.readline().strip().split())    \n",
    "    for k in range(bs1, bs2+1):\n",
    "        tmp_baskets_reverse.append(baskets[k])\n",
    "    for t in range(bs1, bs2+1):\n",
    "        baskets[t] = tmp_baskets_reverse.pop()\n",
    "\n",
    "print(*baskets[1:])"
   ]
  },
  {
   "cell_type": "markdown",
   "metadata": {},
   "source": [
    "#### 백준 27866번"
   ]
  },
  {
   "cell_type": "code",
   "execution_count": 1,
   "metadata": {},
   "outputs": [
    {
     "name": "stdout",
     "output_type": "stream",
     "text": [
      "r\n"
     ]
    }
   ],
   "source": [
    "import sys\n",
    "\n",
    "S = input() # sys.stdin.readline().strip()\n",
    "i = int(input()) # int(sys.stdin.readline().strip())\n",
    "\n",
    "print(S[i-1])"
   ]
  },
  {
   "cell_type": "markdown",
   "metadata": {},
   "source": [
    "#### 백준 2743번"
   ]
  },
  {
   "cell_type": "code",
   "execution_count": 2,
   "metadata": {},
   "outputs": [
    {
     "name": "stdout",
     "output_type": "stream",
     "text": [
      "8\n"
     ]
    }
   ],
   "source": [
    "import sys\n",
    "\n",
    "print(len(input())) # print(len(sys.stdin.readline().strip()))"
   ]
  },
  {
   "cell_type": "markdown",
   "metadata": {},
   "source": [
    "#### 백준 9086번"
   ]
  },
  {
   "cell_type": "code",
   "execution_count": 4,
   "metadata": {},
   "outputs": [
    {
     "name": "stdout",
     "output_type": "stream",
     "text": [
      "oo\n"
     ]
    }
   ],
   "source": [
    "import sys\n",
    "\n",
    "T = int(input()) # int(sys.stdin.readline().strip())\n",
    "\n",
    "for _ in range(T):\n",
    "    S = input() # sys.stdin.readline().strip()\n",
    "    print(S[0], S[-1], sep='')"
   ]
  },
  {
   "cell_type": "markdown",
   "metadata": {},
   "source": [
    "#### 백준 11718번"
   ]
  },
  {
   "cell_type": "code",
   "execution_count": null,
   "metadata": {},
   "outputs": [],
   "source": [
    "import sys\n",
    "\n",
    "while True:\n",
    "    try:\n",
    "        S = input()\n",
    "        print(S)\n",
    "    except:\n",
    "        break"
   ]
  },
  {
   "cell_type": "markdown",
   "metadata": {},
   "source": [
    "#### 백준 25083번"
   ]
  },
  {
   "cell_type": "code",
   "execution_count": 22,
   "metadata": {},
   "outputs": [
    {
     "name": "stdout",
     "output_type": "stream",
     "text": [
      "         ,r'\"7\n",
      "r`-_   ,'  ,/\n",
      " \\. \". L_r'\n",
      "   `~\\/\n",
      "      |\n",
      "      |\n"
     ]
    }
   ],
   "source": [
    "print(r\"\"\"         ,r'\"7\n",
    "r`-_   ,'  ,/\n",
    " \\. \". L_r'\n",
    "   `~\\/\n",
    "      |\n",
    "      |\"\"\")"
   ]
  },
  {
   "cell_type": "markdown",
   "metadata": {},
   "source": [
    "#### 백준 3003번"
   ]
  },
  {
   "cell_type": "code",
   "execution_count": 30,
   "metadata": {},
   "outputs": [
    {
     "name": "stdout",
     "output_type": "stream",
     "text": [
      "1 0 0 0 0 1\n"
     ]
    }
   ],
   "source": [
    "import sys\n",
    "\n",
    "r = [1, 1, 2, 2, 2, 8]\n",
    "cp = 0\n",
    "\n",
    "for v in list(map(int, input().split())): # list(map(int, sys.stdin.readline().strip().split()))\n",
    "    r[cp] -= v\n",
    "    cp += 1\n",
    "\n",
    "print(*r)"
   ]
  },
  {
   "cell_type": "markdown",
   "metadata": {},
   "source": [
    "#### 백준 2444번"
   ]
  },
  {
   "cell_type": "code",
   "execution_count": 43,
   "metadata": {},
   "outputs": [
    {
     "name": "stdout",
     "output_type": "stream",
     "text": [
      "    *\n",
      "   ***\n",
      "  *****\n",
      " *******\n",
      "*********\n",
      " *******\n",
      "  *****\n",
      "   ***\n",
      "    *\n"
     ]
    }
   ],
   "source": [
    "import sys\n",
    "\n",
    "N = int(input()) # int(sys.stdin.readline().strip())\n",
    "\n",
    "if N == 1:\n",
    "    print('*')\n",
    "else:\n",
    "    stars_1 = []\n",
    "    stars_2 = []\n",
    "    for i in range(1, N+1):\n",
    "        star1 = (' '*(N-i))+('*'*((i*2)-1))\n",
    "        stars_1.append(star1)\n",
    "        if i != N:\n",
    "            star2 = (' '*(i))+('*'*(((N-i)*2)-1))\n",
    "            stars_2.append(star2)\n",
    "    print(*stars_1, *stars_2, sep='\\n')     "
   ]
  },
  {
   "cell_type": "markdown",
   "metadata": {},
   "source": [
    "#### 백준 10988번"
   ]
  },
  {
   "cell_type": "code",
   "execution_count": 47,
   "metadata": {},
   "outputs": [
    {
     "name": "stdout",
     "output_type": "stream",
     "text": [
      "0\n"
     ]
    }
   ],
   "source": [
    "import sys\n",
    "\n",
    "def check_palindrome(list1, list2):\n",
    "    cp0 = -1\n",
    "    cp1 = 0\n",
    "    cp2 = -1\n",
    "    for _ in range(len(list1)):\n",
    "        if list1[cp1] != list2[cp2]:\n",
    "            cp0 = 0\n",
    "            return cp0\n",
    "        else:\n",
    "            cp0 = 1\n",
    "            cp1 += 1\n",
    "            cp2 -= 1\n",
    "    return cp0\n",
    "\n",
    "S = input() # sys.stdin.readline().strip()\n",
    "length = len(S)\n",
    "\n",
    "if length == 1:\n",
    "    print(1)\n",
    "elif length%2 == 1: # 입력받은 문자열의 길이가 홀수일 경우\n",
    "    l1 = list(S[:length//2]) \n",
    "    l2 = list(S[length//2+1:])\n",
    "    print(check_palindrome(l1, l2))\n",
    "else: # 입력받은 문자열의 길이가 짝수일 경우\n",
    "    l1 = list(S[:length//2]) \n",
    "    l2 = list(S[length//2:])\n",
    "    print(check_palindrome(l1, l2))"
   ]
  },
  {
   "cell_type": "markdown",
   "metadata": {},
   "source": [
    "#### 백준 25206번"
   ]
  },
  {
   "cell_type": "code",
   "execution_count": 4,
   "metadata": {},
   "outputs": [
    {
     "name": "stdout",
     "output_type": "stream",
     "text": [
      "3.2844827586206895\n"
     ]
    }
   ],
   "source": [
    "import sys\n",
    "\n",
    "grades = {\n",
    "    'A+': 4.5\n",
    "  , 'A0': 4.0\n",
    "  , 'B+': 3.5\n",
    "  , 'B0': 3.0\n",
    "  , 'C+': 2.5\n",
    "  , 'C0': 2.0\n",
    "  , 'D+': 1.5\n",
    "  , 'D0': 1.0\n",
    "  , 'F': 0.0\n",
    "}\n",
    "chihoon = []\n",
    "total = 0\n",
    "chi_r = 0\n",
    "\n",
    "for _ in range(20):\n",
    "    S, G, R = input().split() # sys.stdin.readline().strip().split()\n",
    "    if R != 'P':\n",
    "        total += float(G)\n",
    "        chi_r += (float(G)*grades[R])\n",
    "\n",
    "print(chi_r/total)"
   ]
  },
  {
   "cell_type": "markdown",
   "metadata": {},
   "source": [
    "#### 백준 2738번"
   ]
  },
  {
   "cell_type": "code",
   "execution_count": 14,
   "metadata": {},
   "outputs": [
    {
     "name": "stdout",
     "output_type": "stream",
     "text": [
      "[[4, 4, 4], [6, 6, 6], [5, 6, 100]]\n"
     ]
    }
   ],
   "source": [
    "import sys\n",
    "\n",
    "N, M = map(int, input().split()) # map(int, sys.stdin.readline().strip().split())\n",
    "\n",
    "arr = []\n",
    "\n",
    "for i in range(N*2):\n",
    "    if i < N:\n",
    "        arr.append(list(map(int, input().split()))) # arr.append(list(map(int, sys.stdin.readline().strip().split())))\n",
    "\n",
    "    else:\n",
    "        temp = list(map(int, input().split())) # list(map(int, sys.stdin.readline().strip().split()))\n",
    "        for t in range(M):\n",
    "            arr[i-N][t] += temp[t]\n",
    "\n",
    "for arr1 in arr:\n",
    "    print(*arr1)"
   ]
  },
  {
   "cell_type": "markdown",
   "metadata": {},
   "source": [
    "#### 백준 2566번"
   ]
  },
  {
   "cell_type": "code",
   "execution_count": 11,
   "metadata": {},
   "outputs": [
    {
     "name": "stdout",
     "output_type": "stream",
     "text": [
      "0\n",
      "1 1\n"
     ]
    }
   ],
   "source": [
    "import sys\n",
    "\n",
    "arr = []\n",
    "\n",
    "for _ in range(9):\n",
    "    arr.append(list(map(int, input().split()))) # arr.append(list(map(int, sys.stdin.readline().strip().split())))\n",
    "\n",
    "x = 0\n",
    "y = 0\n",
    "r = 0\n",
    "cp = 0\n",
    "\n",
    "for i in range(9):\n",
    "    if cp == 1:\n",
    "        break\n",
    "    for t in range(9):\n",
    "        if arr[i][t] > r:\n",
    "            y = i+1\n",
    "            x = t+1\n",
    "            r = arr[i][t]\n",
    "        if arr[i][t] == 99:\n",
    "            cp = 1\n",
    "            y = i+1\n",
    "            x = t+1\n",
    "            break\n",
    "if r != 0:\n",
    "    print(r)\n",
    "    print(y, x)\n",
    "else:\n",
    "    print(r)\n",
    "    print(1, 1)"
   ]
  },
  {
   "cell_type": "markdown",
   "metadata": {},
   "source": [
    "#### 백준 10798번"
   ]
  },
  {
   "cell_type": "code",
   "execution_count": 25,
   "metadata": {},
   "outputs": [
    {
     "name": "stdout",
     "output_type": "stream",
     "text": [
      "Aa0aPAf985Bz1EhCz2W3D1gkD6x"
     ]
    }
   ],
   "source": [
    "import sys\n",
    "\n",
    "arr1 = []\n",
    "arr2 = [[], [], [], [], [], [], [], [], [], [], [], [], [], [], []]\n",
    "\n",
    "for _ in range(5):\n",
    "    arr1.append(list(input())) # arr1.append(list(sys.stdin.readline().strip()))\n",
    "\n",
    "for arr1_eles in arr1:\n",
    "    for i in range(len(arr1_eles)):\n",
    "        arr2[i].append(arr1_eles[i])\n",
    "\n",
    "for arr2_ele in arr2:\n",
    "    print(*arr2_ele, sep='', end='')"
   ]
  },
  {
   "cell_type": "markdown",
   "metadata": {},
   "source": [
    "#### 백준 2563번"
   ]
  },
  {
   "cell_type": "code",
   "execution_count": 87,
   "metadata": {},
   "outputs": [
    {
     "name": "stdout",
     "output_type": "stream",
     "text": [
      "260\n"
     ]
    }
   ],
   "source": [
    "import sys\n",
    "\n",
    "N = int(input()) # int(sys.stdin.readline().strip())\n",
    "\n",
    "arr = []\n",
    "arr_ele_raw = [0 for _ in range(100)]\n",
    "\n",
    "for _ in range(100):\n",
    "    arr.append(arr_ele_raw.copy())\n",
    "\n",
    "extent = N * 100\n",
    "\n",
    "for i in range(N):\n",
    "    sx, sy = map(int, input().split()) # map(int, sys.stdin.readline().split())\n",
    "    sy = 99 - sy\n",
    "    for y in range(sy, sy-10, -1):\n",
    "        for x in range(sx, sx+10, 1):\n",
    "            if arr[y][x] == 1:\n",
    "                extent -= 1\n",
    "            else:\n",
    "                arr[y][x] = 1\n",
    "\n",
    "print(extent)"
   ]
  },
  {
   "cell_type": "markdown",
   "metadata": {},
   "source": [
    "#### 백준 2745번"
   ]
  },
  {
   "cell_type": "code",
   "execution_count": 8,
   "metadata": {},
   "outputs": [
    {
     "name": "stdout",
     "output_type": "stream",
     "text": [
      "11\n"
     ]
    }
   ],
   "source": [
    "import sys\n",
    "\n",
    "map_dict = {\n",
    "    '0': 0, '1': 1, '2': 2, '3': 3, '4': 4\n",
    "  , '5': 5  , '6': 6, '7': 7, '8': 8, '9': 9\n",
    "  , 'A': 10, 'B': 11, 'C': 12, 'D': 13, 'E': 14\n",
    "  , 'F': 15, 'G': 16, 'H': 17, 'I': 18, 'J': 19\n",
    "  , 'K': 20, 'L': 21, 'M': 22, 'N': 23, 'O': 24\n",
    "  , 'P': 25, 'Q': 26, 'R': 27, 'S': 28, 'T': 29\n",
    "  , 'U': 30, 'V': 31, 'W': 32, 'X': 33, 'Y': 34\n",
    "  , 'Z': 35\n",
    "}\n",
    "\n",
    "N, B = map(str, input().split()) # map(str, sys.stdin.readline().strip().split())\n",
    "n_list = list(N)\n",
    "B = int(B)\n",
    "result = 0\n",
    "num_len = len(n_list)\n",
    "\n",
    "for i in range(num_len):\n",
    "    result += map_dict[n_list[i]]*(B**(num_len-(1+i)))\n",
    "\n",
    "print(result)"
   ]
  },
  {
   "cell_type": "markdown",
   "metadata": {},
   "source": [
    "#### 백준 11005번"
   ]
  },
  {
   "cell_type": "code",
   "execution_count": 25,
   "metadata": {},
   "outputs": [
    {
     "name": "stdout",
     "output_type": "stream",
     "text": [
      "ZZZZZ\n"
     ]
    }
   ],
   "source": [
    "import sys\n",
    "\n",
    "map_dict = {\n",
    "    0: '0', 1: '1', 2: '2', 3: '3', 4: '4'\n",
    "  , 5: '5', 6: '6', 7: '7', 8: '8', 9: '9'\n",
    "  , 10: 'A', 11: 'B', 12: 'C', 13: 'D', 14: 'E'\n",
    "  , 15: 'F', 16: 'G', 17: 'H', 18: 'I', 19: 'J'\n",
    "  , 20: 'K', 21: 'L', 22: 'M', 23: 'N', 24: 'O'\n",
    "  , 25: 'P', 26: 'Q', 27: 'R', 28: 'S', 29: 'T'\n",
    "  , 30: 'U', 31: 'V', 32: 'W', 33: 'X', 34: 'Y'\n",
    "  , 35: 'Z'\n",
    "}\n",
    "\n",
    "N, B = map(int, input().split()) # map(int, sys.stdin.readline().strip().split())\n",
    "cp = 1\n",
    "n_list = []\n",
    "\n",
    "while True:\n",
    "  rmd = N % (B**cp)\n",
    "  n_list = [map_dict[rmd//(B**(cp-1))]] + n_list\n",
    "  N -= rmd\n",
    "  cp += 1\n",
    "  if N == 0:\n",
    "    break\n",
    "\n",
    "print(*n_list, sep='')"
   ]
  },
  {
   "cell_type": "markdown",
   "metadata": {},
   "source": [
    "#### 백준 2720번"
   ]
  },
  {
   "cell_type": "code",
   "execution_count": 26,
   "metadata": {},
   "outputs": [
    {
     "name": "stdout",
     "output_type": "stream",
     "text": [
      "4 2 0 4\n",
      "1 0 0 0\n",
      "7 1 1 4\n"
     ]
    }
   ],
   "source": [
    "import sys\n",
    "\n",
    "T = int(input()) # int(sys.stdin.readline().strip())\n",
    "\n",
    "for _ in range(T):\n",
    "    C = int(input()) # int(sys.stdin.readline().strip())\n",
    "    Quarter = C // 25\n",
    "    C -= 25 * Quarter\n",
    "    Dime = C // 10\n",
    "    C -= 10 * Dime\n",
    "    Nickel = C // 5\n",
    "    C -= 5 * Nickel\n",
    "    print(Quarter, Dime, Nickel, C)"
   ]
  },
  {
   "cell_type": "markdown",
   "metadata": {},
   "source": [
    "#### 백준 2903번"
   ]
  },
  {
   "cell_type": "code",
   "execution_count": 29,
   "metadata": {},
   "outputs": [
    {
     "name": "stdout",
     "output_type": "stream",
     "text": [
      "1089\n"
     ]
    }
   ],
   "source": [
    "import sys\n",
    "\n",
    "N = int(input()) # int(sys.stdin.readline().strip())\n",
    "np = 2\n",
    "\n",
    "for _ in range(N):\n",
    "    np += np-1\n",
    "\n",
    "print(np**2)"
   ]
  },
  {
   "cell_type": "markdown",
   "metadata": {},
   "source": [
    "#### 백준 2501번"
   ]
  },
  {
   "cell_type": "code",
   "execution_count": 23,
   "metadata": {},
   "outputs": [
    {
     "name": "stdout",
     "output_type": "stream",
     "text": [
      "1\n"
     ]
    }
   ],
   "source": [
    "import sys\n",
    "\n",
    "N, K = map(int, input().split()) # map(int, sys.stdin.readline().strip().split())\n",
    "\n",
    "cp = 1\n",
    "\n",
    "for i in range(1, N+1):\n",
    "    if N % i == 0 and cp == K:\n",
    "        print(i)\n",
    "        cp = K+1\n",
    "        break\n",
    "    elif N % i == 0 and cp != K:\n",
    "        cp += 1\n",
    "    else:\n",
    "        pass\n",
    "\n",
    "if cp != K+1:\n",
    "    print(0)"
   ]
  },
  {
   "cell_type": "markdown",
   "metadata": {},
   "source": [
    "#### 백준 9506번"
   ]
  },
  {
   "cell_type": "code",
   "execution_count": 28,
   "metadata": {},
   "outputs": [
    {
     "name": "stdout",
     "output_type": "stream",
     "text": [
      "6 = 1 + 2 + 3\n",
      "12 is NOT perfect.\n",
      "28 = 1 + 2 + 4 + 7 + 14\n"
     ]
    }
   ],
   "source": [
    "import sys\n",
    "\n",
    "while True:\n",
    "    n = int(input()) # int(sys.stdin.readline().strip())\n",
    "    if n == -1:\n",
    "        break\n",
    "    \n",
    "    r_list = ['=']\n",
    "    r = 0\n",
    "    for i in range(1, n//2+1):\n",
    "        if n % i == 0:\n",
    "            r_list.append(i)\n",
    "            r_list.append('+')\n",
    "            r += i\n",
    "    if r == n:\n",
    "        print(n, *r_list[:-1])\n",
    "    else:\n",
    "        print(n, 'is NOT perfect.')        "
   ]
  },
  {
   "cell_type": "markdown",
   "metadata": {},
   "source": [
    "#### 백준 27323번"
   ]
  },
  {
   "cell_type": "code",
   "execution_count": 1,
   "metadata": {},
   "outputs": [
    {
     "name": "stdout",
     "output_type": "stream",
     "text": [
      "6\n"
     ]
    }
   ],
   "source": [
    "import sys\n",
    "\n",
    "# a = int(sys.stdin.readline().strip())\n",
    "# b = int(sys.stdin.readline().strip())\n",
    "# print(a*b)\n",
    "print(int(input())*int(input())) "
   ]
  },
  {
   "cell_type": "markdown",
   "metadata": {},
   "source": [
    "#### 백준 15894번"
   ]
  },
  {
   "cell_type": "code",
   "execution_count": null,
   "metadata": {},
   "outputs": [],
   "source": [
    "import sys\n",
    "\n",
    "print(int(input())*4) \n",
    "# print(int(sys.stdin.readline().strip())*4)"
   ]
  },
  {
   "cell_type": "markdown",
   "metadata": {},
   "source": [
    "#### 백준 9063번"
   ]
  },
  {
   "cell_type": "code",
   "execution_count": 11,
   "metadata": {},
   "outputs": [
    {
     "name": "stdout",
     "output_type": "stream",
     "text": [
      "9\n"
     ]
    }
   ],
   "source": [
    "import sys\n",
    "\n",
    "N = int(input()) # int(sys.stdin.readline().strip())\n",
    "\n",
    "if N == 1:\n",
    "    print(0)\n",
    "else:\n",
    "    for i in range(N):\n",
    "        x, y = map(int, input().split()) # map(int, sys.stdin.readline().strip().split())\n",
    "        if i == 0:\n",
    "            min_x, max_x, min_y, max_y = x, x, y, y\n",
    "        if min_x > x:\n",
    "            min_x = x\n",
    "        if max_x < x:\n",
    "            max_x = x\n",
    "        if min_y > y:\n",
    "            min_y = y\n",
    "        if max_y < y:\n",
    "            max_y = y\n",
    "        result = (max_x-min_x)*(max_y-min_y)\n",
    "    print(result)"
   ]
  }
 ],
 "metadata": {
  "kernelspec": {
   "display_name": "Python 3",
   "language": "python",
   "name": "python3"
  },
  "language_info": {
   "codemirror_mode": {
    "name": "ipython",
    "version": 3
   },
   "file_extension": ".py",
   "mimetype": "text/x-python",
   "name": "python",
   "nbconvert_exporter": "python",
   "pygments_lexer": "ipython3",
   "version": "3.12.4"
  }
 },
 "nbformat": 4,
 "nbformat_minor": 2
}
