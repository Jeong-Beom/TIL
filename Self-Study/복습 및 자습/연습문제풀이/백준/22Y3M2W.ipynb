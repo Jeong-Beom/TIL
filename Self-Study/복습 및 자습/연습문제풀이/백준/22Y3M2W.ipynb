{
 "cells": [
  {
   "cell_type": "markdown",
   "metadata": {},
   "source": [
    "2589번 보물섬 https://www.acmicpc.net/problem/2589"
   ]
  },
  {
   "cell_type": "code",
   "execution_count": null,
   "metadata": {},
   "outputs": [],
   "source": [
    "from collections import deque\n",
    "import sys\n",
    "\n",
    "# input = sys.stdin.readline\n",
    "N, M = map(int, input().split()) # N: 세로, M: 가로\n",
    "field = []\n",
    "lands = []\n",
    "for y in range(N):\n",
    "    inputValue = list(input().rstrip())\n",
    "    field.append(inputValue)\n",
    "    for x in range(M):\n",
    "        if inputValue[x] == 'L':\n",
    "            lands.append([x, y])\n",
    "\n",
    "dx = [-1, 1, 0, 0]\n",
    "dy = [0, 0, -1, 1]\n",
    "ans = 0\n",
    "\n",
    "def bfs(x, y):\n",
    "    queue = deque()\n",
    "    visited = [[False for _ in range(M)] for _ in range(N)]\n",
    "    visited[y][x] = True\n",
    "    queue.append([x, y, 0])\n",
    "\n",
    "    cnt_time = 0\n",
    "    while queue:\n",
    "        x, y, time = queue.popleft()\n",
    "        if cnt_time < time:\n",
    "            cnt_time = time\n",
    "        for i in range(4):\n",
    "            nx = x + dx[i]\n",
    "            ny = y + dy[i]\n",
    "            if 0 <= nx < M and 0 <= ny < N:\n",
    "                if visited[ny][nx] == False and field[ny][nx] == \"L\":\n",
    "                    queue.append([nx, ny, time+1])\n",
    "                    visited[ny][nx] = True\n",
    "    global ans\n",
    "    if ans < cnt_time:\n",
    "        ans = cnt_time\n",
    "    return \n",
    "\n",
    "for x, y in lands:\n",
    "    bfs(x, y)\n",
    "print(ans)"
   ]
  },
  {
   "cell_type": "markdown",
   "metadata": {},
   "source": [
    "9663번 N-Queen https://www.acmicpc.net/problem/9663"
   ]
  },
  {
   "cell_type": "code",
   "execution_count": 18,
   "metadata": {},
   "outputs": [
    {
     "name": "stdout",
     "output_type": "stream",
     "text": [
      "[0, 2, 3, 0] 4\n",
      "[0, 3, 1, 3] 4\n",
      "[0, 3, 3, 3] 4\n",
      "[0, 3, 3, 3] 4\n",
      "[1, 3, 0, 2] 4\n",
      "[1, 3, 0, 3] 4\n",
      "[1, 3, 3, 3] 4\n",
      "[1, 3, 3, 3] 4\n",
      "[2, 0, 3, 1] 4\n",
      "[2, 0, 3, 3] 4\n",
      "[2, 0, 3, 3] 4\n",
      "[2, 3, 3, 3] 4\n",
      "[3, 0, 2, 3] 4\n",
      "[3, 0, 3, 3] 4\n",
      "[3, 1, 3, 3] 4\n",
      "[3, 3, 3, 3] 4\n",
      "[3, 3, 3, 3] 4\n",
      "2\n"
     ]
    }
   ],
   "source": [
    "n = int(input())\n",
    "\n",
    "ans = 0\n",
    "row = [0] * n\n",
    "\n",
    "def is_promising(x):\n",
    "    for i in range(x):\n",
    "        if row[x] == row[i] or abs(row[x] - row[i]) == abs(x - i):\n",
    "            return False\n",
    "    \n",
    "    return True\n",
    "\n",
    "def n_queens(x):\n",
    "    global ans\n",
    "    if x == n:\n",
    "        ans += 1\n",
    "\n",
    "    else:\n",
    "        for i in range(n):\n",
    "            # [x, i]에 퀸을 놓겠다.\n",
    "            row[x] = i\n",
    "            if is_promising(x):\n",
    "                n_queens(x+1)\n",
    "\n",
    "n_queens(0)\n",
    "print(ans)"
   ]
  }
 ],
 "metadata": {
  "interpreter": {
   "hash": "fe3bab233825460445dbfeea6dcd52ef5815a3fa13c858fea07ac830aa383284"
  },
  "kernelspec": {
   "display_name": "Python 3.8.10 ('base')",
   "language": "python",
   "name": "python3"
  },
  "language_info": {
   "codemirror_mode": {
    "name": "ipython",
    "version": 3
   },
   "file_extension": ".py",
   "mimetype": "text/x-python",
   "name": "python",
   "nbconvert_exporter": "python",
   "pygments_lexer": "ipython3",
   "version": "3.8.10"
  },
  "orig_nbformat": 4
 },
 "nbformat": 4,
 "nbformat_minor": 2
}
