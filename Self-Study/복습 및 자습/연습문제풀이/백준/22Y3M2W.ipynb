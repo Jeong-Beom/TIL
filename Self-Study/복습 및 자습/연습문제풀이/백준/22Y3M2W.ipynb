{
 "cells": [
  {
   "cell_type": "markdown",
   "metadata": {},
   "source": [
    "2589번 보물섬 https://www.acmicpc.net/problem/2589"
   ]
  },
  {
   "cell_type": "code",
   "execution_count": null,
   "metadata": {},
   "outputs": [],
   "source": [
    "from collections import deque\n",
    "import sys\n",
    "\n",
    "# input = sys.stdin.readline\n",
    "N, M = map(int, input().split()) # N: 세로, M: 가로\n",
    "field = []\n",
    "lands = []\n",
    "for y in range(N):\n",
    "    inputValue = list(input().rstrip())\n",
    "    field.append(inputValue)\n",
    "    for x in range(M):\n",
    "        if inputValue[x] == 'L':\n",
    "            lands.append([x, y])\n",
    "\n",
    "dx = [-1, 1, 0, 0]\n",
    "dy = [0, 0, -1, 1]\n",
    "ans = 0\n",
    "\n",
    "def bfs(x, y):\n",
    "    queue = deque()\n",
    "    visited = [[False for _ in range(M)] for _ in range(N)]\n",
    "    visited[y][x] = True\n",
    "    queue.append([x, y, 0])\n",
    "\n",
    "    cnt_time = 0\n",
    "    while queue:\n",
    "        x, y, time = queue.popleft()\n",
    "        if cnt_time < time:\n",
    "            cnt_time = time\n",
    "        for i in range(4):\n",
    "            nx = x + dx[i]\n",
    "            ny = y + dy[i]\n",
    "            if 0 <= nx < M and 0 <= ny < N:\n",
    "                if visited[ny][nx] == False and field[ny][nx] == \"L\":\n",
    "                    queue.append([nx, ny, time+1])\n",
    "                    visited[ny][nx] = True\n",
    "    global ans\n",
    "    if ans < cnt_time:\n",
    "        ans = cnt_time\n",
    "    return \n",
    "\n",
    "for x, y in lands:\n",
    "    bfs(x, y)\n",
    "print(ans)"
   ]
  },
  {
   "cell_type": "markdown",
   "metadata": {},
   "source": [
    "9663번 N-Queen https://www.acmicpc.net/problem/9663"
   ]
  },
  {
   "cell_type": "code",
   "execution_count": 6,
   "metadata": {},
   "outputs": [
    {
     "name": "stdout",
     "output_type": "stream",
     "text": [
      "92\n"
     ]
    }
   ],
   "source": [
    "# 작동원리 : 1차원 배열의 인덱스를 x좌표로, 배열의 값을 y좌표로 구성\n",
    "# 퀸의 동작원리상 1개의 행에 1개의 퀸 밖에 놓을 수 없음.\n",
    "# 1개의 행에 1개의 퀸밖에 들어가지 못하기 때문에 1차원 배열로 구현 가능\n",
    "# PyPy3로만 통과가능\n",
    "N = int(input())\n",
    "\n",
    "ans = 0\n",
    "row = [0] * N\n",
    "\n",
    "def check(y):\n",
    "    for x in range(y):\n",
    "        if row[y] == row[x] or abs(row[y] - row[x]) == abs(y - x): # 같은 열이면 False, 대각선위치에 있으면 False\n",
    "            return False    \n",
    "    return True\n",
    "\n",
    "def check_Q(y):\n",
    "    global ans\n",
    "    if y == N:\n",
    "        ans += 1\n",
    "\n",
    "    else:\n",
    "        for x in range(N):\n",
    "            # [y, x]에 퀸을 놓겠다.(y좌표, x좌표)\n",
    "            row[y] = x\n",
    "            if check(y):\n",
    "                check_Q(y+1)\n",
    "                \n",
    "\n",
    "check_Q(0)\n",
    "print(ans)"
   ]
  },
  {
   "cell_type": "markdown",
   "metadata": {},
   "source": [
    "1946번 신입사원 https://www.acmicpc.net/problem/1946"
   ]
  },
  {
   "cell_type": "code",
   "execution_count": 18,
   "metadata": {},
   "outputs": [
    {
     "name": "stdout",
     "output_type": "stream",
     "text": [
      "4\n",
      "3\n"
     ]
    }
   ],
   "source": [
    "import sys\n",
    "# input = sys.stdin.readline\n",
    "T = int(input())\n",
    "for _ in range(T):\n",
    "    N = int(input())\n",
    "    ranks = []\n",
    "    for _ in range(N):\n",
    "        ranks.append(list(map(int, input().split())))\n",
    "    ranks.sort() # 서류심사 성적을 오름차순으로 정렬\n",
    "    ans = 1\n",
    "    cp_values = [ranks[0][0], ranks[0][1]]\n",
    "    for i in range(1, N): # 서류심사 1등은 조건 체크를 안해도 됨.(무조건 선발)\n",
    "        # 서류심사 성적은 오름차순으로 정렬 후 체크를 하기때문에 무조건 뒤에 나오는 값들은 순위가 낮게 됨.\n",
    "        # 면접심사 성적이 기존의 최고 랭크보다 높으면 선발, 아니면 탈락(선발시, 최고 순위 갱신)\n",
    "        if ranks[i][1] < cp_values[1]:\n",
    "            ans += 1\n",
    "            cp_values[1] = ranks[i][1]\n",
    "    print(ans)  "
   ]
  },
  {
   "cell_type": "code",
   "execution_count": 28,
   "metadata": {},
   "outputs": [
    {
     "name": "stdout",
     "output_type": "stream",
     "text": [
      "4\n",
      "3\n"
     ]
    }
   ],
   "source": [
    "import sys\n",
    "# input = sys.stdin.readline\n",
    "T = int(input())\n",
    "for _ in range(T):\n",
    "    N = int(input())\n",
    "    ranks = [0 for _ in range(N)]\n",
    "    for _ in range(N):\n",
    "        inputValue = list(map(int, input().split()))\n",
    "        ranks[inputValue[0]-1] = inputValue[1]\n",
    "    ans = 1\n",
    "    cp_values = ranks[0]\n",
    "    for i in range(1, N): # 서류심사 1등은 조건 체크를 안해도 됨.(무조건 선발)\n",
    "        # 서류심사 성적은 오름차순으로 정렬 후 체크를 하기때문에 무조건 뒤에 나오는 값들은 순위가 낮게 됨.\n",
    "        # 면접심사 성적이 기존의 최고 랭크보다 높으면 선발, 아니면 탈락(선발시, 최고 순위 갱신)\n",
    "        if ranks[i] < cp_values:\n",
    "            ans += 1\n",
    "            cp_values = ranks[i]\n",
    "    print(ans)  "
   ]
  },
  {
   "cell_type": "markdown",
   "metadata": {},
   "source": [
    "2467번 용액 https://www.acmicpc.net/problem/2467"
   ]
  },
  {
   "cell_type": "code",
   "execution_count": 38,
   "metadata": {},
   "outputs": [
    {
     "name": "stdout",
     "output_type": "stream",
     "text": [
      "-5 10 inf\n",
      "-5 10 5\n",
      "-5 10 5\n",
      "-5 10 5\n",
      "-5 10 5\n",
      "-5 10 5\n",
      "-5 1 5\n",
      "-5 1 4\n",
      "-5 1 4\n",
      "-5 1 4\n",
      "1 1 4\n",
      "1 1 2\n",
      "1 1\n"
     ]
    }
   ],
   "source": [
    "N = int(input())\n",
    "liquids = list(map(int, input().split()))\n",
    "liquids.sort()\n",
    "cp1 = 0\n",
    "cp2 = N-1\n",
    "ans = [float('inf'), float('inf'), float('inf')] # [용액의 특성, 1번째 용액, 2번째 용액]\n",
    "while cp1 < cp2:\n",
    "    cp_value = liquids[cp1] + liquids[cp2]\n",
    "    if abs(cp_value) < ans[0]:\n",
    "        ans[0] = abs(cp_value)\n",
    "        ans[1] = liquids[cp1]\n",
    "        ans[2] = liquids[cp2]\n",
    "    elif cp_value < 0:\n",
    "        cp1 += 1\n",
    "    else:\n",
    "        cp2 -= 1\n",
    "print(ans[1], ans[2])"
   ]
  },
  {
   "cell_type": "markdown",
   "metadata": {},
   "source": [
    "13424번 비밀 모임 https://www.acmicpc.net/problem/13424"
   ]
  },
  {
   "cell_type": "code",
   "execution_count": 63,
   "metadata": {},
   "outputs": [
    {
     "name": "stdout",
     "output_type": "stream",
     "text": [
      "1\n",
      "2\n"
     ]
    }
   ],
   "source": [
    "from heapq import heappush, heappop\n",
    "import sys\n",
    "\n",
    "def dijkstra(numbers):\n",
    "    heap = []\n",
    "    dp = [float('inf') for _ in range(N+1)]\n",
    "    dp[numbers] = 0\n",
    "    heappush(heap, [0, numbers])\n",
    "\n",
    "    while heap:\n",
    "        dt1, r_n1 = heappop(heap)\n",
    "        for dt_s in graph[r_n1]: \n",
    "            dt2, r_n2 = dt_s\n",
    "            if dt1 > dp[r_n1]:\n",
    "                continue\n",
    "            dt3 = dt1 + dt2\n",
    "            if dt3 < dp[r_n2]:\n",
    "                dp[r_n2] = dt3\n",
    "                heappush(heap, [dt3, r_n2])\n",
    "\n",
    "    for i in range(len(dp)):\n",
    "        if ans[i] == float('inf'):\n",
    "            ans[i] = 0\n",
    "            ans[i] += dp[i]\n",
    "        else:\n",
    "            ans[i] += dp[i]\n",
    "\n",
    "# input = sys.stdin.readline\n",
    "T = int(input())\n",
    "for _ in range(T):\n",
    "    N, M = map(int, input().split()) # N: 방의 개수 / M: 통로의 개수\n",
    "    graph = [[] for _ in range(N+1)]\n",
    "    for _ in range(M):\n",
    "        r1, r2, dt = map(int, input().split())\n",
    "        graph[r1].append([dt, r2])\n",
    "        graph[r2].append([dt, r1])\n",
    "    K = int(input()) # K: 친구의 수\n",
    "\n",
    "    loc_f = list(map(int, input().split()))\n",
    "    ans = [float('inf') for _ in range(N+1)]\n",
    "    for number in loc_f:\n",
    "        dijkstra(number)\n",
    "    print(ans.index(min(ans)))"
   ]
  },
  {
   "cell_type": "markdown",
   "metadata": {},
   "source": [
    "2193번 이친수 https://www.acmicpc.net/problem/2193"
   ]
  },
  {
   "cell_type": "code",
   "execution_count": 25,
   "metadata": {},
   "outputs": [
    {
     "name": "stdout",
     "output_type": "stream",
     "text": [
      "13\n"
     ]
    }
   ],
   "source": [
    "# N = 1 - 1개(1) / N = 2 - 1개(10) / N = 3 - 2개(100, 101) / N = 4 - 3개(1000, 1001, 1010)\n",
    "# N = 5 - 5개(10000, 10001, 10100, 10010, 10101) / N = 6 - 개(100000, 101000, 100100, 100010, 100001, 101010, 101001, 100101)\n",
    "# 조건 추론 : (N // 2) + (N % 2) - 1이 최대로 들어갈 수 있는 수 / (N - 1) - 0이 들어갈 수 있는 최대 수\n",
    "N = int(input())\n",
    "dp  = [0 for _ in range(N+1)]\n",
    "for i in range(1, N+1):\n",
    "    if i == 1 or i == 2:\n",
    "        dp[i] = 1\n",
    "    else:\n",
    "        dp[i] = dp[i-2] + dp[i-1] \n",
    "print(dp[N])"
   ]
  },
  {
   "cell_type": "markdown",
   "metadata": {},
   "source": [
    "1520번 내리막길 https://www.acmicpc.net/problem/1520"
   ]
  },
  {
   "cell_type": "code",
   "execution_count": 30,
   "metadata": {},
   "outputs": [
    {
     "name": "stdout",
     "output_type": "stream",
     "text": [
      "3\n"
     ]
    }
   ],
   "source": [
    "# 단순 BFS 시간 초과\n",
    "from collections import deque\n",
    "import sys\n",
    "\n",
    "# input = sys.stdin.readline\n",
    "N, M = map(int, input().split()) # N: 가로의 크기, M: 세로의 크기 \n",
    "field = []\n",
    "for _ in range(N):\n",
    "    field.append(list(map(int, input().split())))\n",
    "\n",
    "dx = [-1, 1, 0, 0]\n",
    "dy = [0, 0, -1, 1]\n",
    "ans = 0\n",
    "\n",
    "def bfs(x, y):\n",
    "    global ans\n",
    "    queue = deque()\n",
    "    queue.append([x, y, field[y][x]])\n",
    "\n",
    "    while queue:\n",
    "        x, y, value = queue.popleft()\n",
    "        for i in range(4):\n",
    "            nx = x + dx[i]\n",
    "            ny = y + dy[i]\n",
    "            if 0 <= nx < M and 0 <= ny < N and field[ny][nx] < value:\n",
    "                if nx == M-1 and ny == N-1:\n",
    "                    ans += 1\n",
    "                queue.append([nx, ny, field[ny][nx]])\n",
    "bfs(0, 0)\n",
    "print(ans)"
   ]
  },
  {
   "cell_type": "code",
   "execution_count": 46,
   "metadata": {},
   "outputs": [
    {
     "name": "stdout",
     "output_type": "stream",
     "text": [
      "3\n"
     ]
    }
   ],
   "source": [
    "# 단순 DFS 시간초과 \n",
    "import sys\n",
    "sys.setrecursionlimit(1500)\n",
    "# input = sys.stdin.readline\n",
    "N, M = map(int, input().split()) # N: 가로의 크기, M: 세로의 크기 \n",
    "field = []\n",
    "for _ in range(N):\n",
    "    field.append(list(map(int, input().split())))\n",
    "\n",
    "dx = [-1, 1, 0, 0]\n",
    "dy = [0, 0, -1, 1]\n",
    "\n",
    "def dfs(x, y, value):\n",
    "    global ans\n",
    "    if x == M-1 and y == N-1:\n",
    "        ans += 1\n",
    "        return\n",
    "\n",
    "    for i in range(4):\n",
    "        nx = x + dx[i]\n",
    "        ny = y + dy[i]\n",
    "        if 0 <= nx < M and 0 <= ny < N and value > field[ny][nx]:\n",
    "            dfs(nx, ny, field[ny][nx])\n",
    "\n",
    "ans = 0\n",
    "dfs(0, 0, field[0][0])\n",
    "print(ans)"
   ]
  },
  {
   "cell_type": "code",
   "execution_count": 13,
   "metadata": {},
   "outputs": [
    {
     "name": "stdout",
     "output_type": "stream",
     "text": [
      "3\n"
     ]
    }
   ],
   "source": [
    "# DP의 개념과 DFS 혼합\n",
    "def dfs(x, y):\n",
    "    if x == M-1 and y == N-1:\n",
    "        return 1\n",
    "    \n",
    "    if dp[y][x] != -1:\n",
    "        return dp[y][x]\n",
    "    \n",
    "    value = 0\n",
    "    for i in range(4):\n",
    "        nx = x + dx[i]\n",
    "        ny = y + dy[i]\n",
    "        if 0 <= nx < M and 0 <= ny < N and field[y][x] > field[ny][nx]:\n",
    "            value += dfs(nx, ny)\n",
    "\n",
    "    dp[y][x] = value\n",
    "    return dp[y][x]\n",
    "import sys\n",
    "sys.setrecursionlimit(1500)\n",
    "# input = sys.stdin.readline\n",
    "N, M = map(int, input().split()) # N: 가로의 크기, M: 세로의 크기 \n",
    "field = [list(map(int, input().split())) for _ in range(N)]\n",
    "\n",
    "dx = [-1, 1, 0, 0]\n",
    "dy = [0, 0, -1, 1]\n",
    "dp = [[-1 for _ in range(M)] for _ in range(N)]\n",
    "print(dfs(0,0))"
   ]
  }
 ],
 "metadata": {
  "interpreter": {
   "hash": "fe3bab233825460445dbfeea6dcd52ef5815a3fa13c858fea07ac830aa383284"
  },
  "kernelspec": {
   "display_name": "Python 3.8.10 ('base')",
   "language": "python",
   "name": "python3"
  },
  "language_info": {
   "codemirror_mode": {
    "name": "ipython",
    "version": 3
   },
   "file_extension": ".py",
   "mimetype": "text/x-python",
   "name": "python",
   "nbconvert_exporter": "python",
   "pygments_lexer": "ipython3",
   "version": "3.8.10"
  },
  "orig_nbformat": 4
 },
 "nbformat": 4,
 "nbformat_minor": 2
}
