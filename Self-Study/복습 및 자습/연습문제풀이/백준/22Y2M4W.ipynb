{
 "cells": [
  {
   "cell_type": "markdown",
   "metadata": {},
   "source": [
    "15686번 치킨배달 https://www.acmicpc.net/problem/15686"
   ]
  },
  {
   "cell_type": "code",
   "execution_count": 33,
   "metadata": {},
   "outputs": [
    {
     "name": "stdout",
     "output_type": "stream",
     "text": [
      "32\n"
     ]
    }
   ],
   "source": [
    "from collections import deque\n",
    "import sys\n",
    "\n",
    "# input = sys.stdin.readline\n",
    "N, M = map(int, input().split())\n",
    "field = []\n",
    "for _ in range(N):\n",
    "    field.append(list(map(int, input().split())))\n",
    "\n",
    "store_loc = []\n",
    "house_loc = []\n",
    "for x in range(N):\n",
    "    for y in range(N):\n",
    "        if field[y][x] == 1:\n",
    "            house_loc.append([x, y])\n",
    "        if field[y][x] == 2:\n",
    "            store_loc.append([x, y])\n",
    "\n",
    "visited = [False for _ in range(len(store_loc))]\n",
    "arr = []\n",
    "cases = []\n",
    "# dfs와 백트래킹으로 치킨집이 있을 수 있는 위치 확인 후 저장\n",
    "def check_cases(start):\n",
    "    if len(arr) == M:\n",
    "        cases.append(arr.copy())\n",
    "        return\n",
    "\n",
    "    for i in range(start, len(store_loc)):\n",
    "        if visited[i]:\n",
    "            continue\n",
    "\n",
    "        arr.append(store_loc[i])\n",
    "        visited[i] = True\n",
    "        check_cases(i+1)\n",
    "        arr.pop()\n",
    "        visited[i] = False\n",
    "\n",
    "check_cases(0)\n",
    "\n",
    "def bfs(case, house_loc, N, M):\n",
    "    dx = [-1, 1, 0, 0]\n",
    "    dy = [0, 0, -1, 1]\n",
    "    test_field = [[0 for _ in range(N)] for _ in range(N)]\n",
    "    queue = deque([])\n",
    "    for i in range(M):\n",
    "        queue.append(case[i])\n",
    "        x, y = case[i]\n",
    "        test_field[y][x] = 2\n",
    "    for house in house_loc:\n",
    "        x, y = house\n",
    "        test_field[y][x] = 1\n",
    "\n",
    "    cnt = 0\n",
    "    distance = 0\n",
    "    while queue:\n",
    "        for _ in range(len(queue)):\n",
    "            x, y = queue.popleft()\n",
    "            for i in range(4):\n",
    "                nx = x + dx[i]\n",
    "                ny = y + dy[i]\n",
    "                if 0 <= nx < N and 0 <= ny < N:\n",
    "                    if test_field[ny][nx] == 1:\n",
    "                        distance += (cnt + 1)\n",
    "                        test_field[ny][nx] = 2\n",
    "                        queue.append([nx, ny])\n",
    "                    if test_field[ny][nx] == 0:\n",
    "                        test_field[ny][nx] = 2\n",
    "                        queue.append([nx, ny])\n",
    "        cnt += 1\n",
    "    \n",
    "    return distance\n",
    "\n",
    "ans = float('inf')\n",
    "for case in cases:\n",
    "    tt_dt = bfs(case, house_loc, N, M)\n",
    "    if ans > tt_dt:\n",
    "        ans = tt_dt\n",
    "print(ans)"
   ]
  },
  {
   "cell_type": "code",
   "execution_count": 1,
   "metadata": {},
   "outputs": [
    {
     "name": "stdout",
     "output_type": "stream",
     "text": [
      "5\n"
     ]
    }
   ],
   "source": [
    "import sys\n",
    "# input = sys.stdin.readline\n",
    "N, M = map(int, input().split())\n",
    "field = []\n",
    "for _ in range(N):\n",
    "    field.append(list(map(int, input().split())))\n",
    "\n",
    "store_loc = []\n",
    "house_loc = []\n",
    "for x in range(N):\n",
    "    for y in range(N):\n",
    "        if field[y][x] == 1:\n",
    "            house_loc.append([x, y])\n",
    "        if field[y][x] == 2:\n",
    "            store_loc.append([x, y])\n",
    "\n",
    "visited = [False for _ in range(len(store_loc))]\n",
    "arr = []\n",
    "cases = []\n",
    "# dfs와 백트래킹으로 치킨집이 있을 수 있는 위치 확인 후 저장\n",
    "def check_cases(start):\n",
    "    if len(arr) == M:\n",
    "        cases.append(arr.copy())\n",
    "        return\n",
    "\n",
    "    for i in range(start, len(store_loc)):\n",
    "        if visited[i]:\n",
    "            continue\n",
    "\n",
    "        arr.append(store_loc[i])\n",
    "        visited[i] = True\n",
    "        check_cases(i+1)\n",
    "        arr.pop()\n",
    "        visited[i] = False\n",
    "\n",
    "check_cases(0)\n",
    "\n",
    "ans = float('inf')\n",
    "for i in range(len(cases)): \n",
    "    dt_cd = 0\n",
    "    for house in house_loc:     \n",
    "        distance = float('inf')  \n",
    "        for case in cases[i]:\n",
    "            tt_dt = abs(house[0] - case[0]) + abs(house[1] - case[1])\n",
    "            if distance > tt_dt:\n",
    "                distance = tt_dt\n",
    "        dt_cd += distance\n",
    "    if ans > dt_cd:\n",
    "        ans = dt_cd\n",
    "print(ans)"
   ]
  },
  {
   "cell_type": "markdown",
   "metadata": {},
   "source": [
    "4485번 녹색 옷 입은 애가 젤다지? https://www.acmicpc.net/problem/4485"
   ]
  },
  {
   "cell_type": "code",
   "execution_count": 12,
   "metadata": {},
   "outputs": [
    {
     "name": "stdout",
     "output_type": "stream",
     "text": [
      "Problem 1: 20\n",
      "Problem 2: 19\n",
      "Problem 3: 36\n"
     ]
    }
   ],
   "source": [
    "from heapq import heappush, heappop\n",
    "import sys\n",
    "\n",
    "def dijkstra(cave, N):\n",
    "    visited = [[False for _ in range(N)] for _ in range(N)]\n",
    "    dx = [-1, 1, 0, 0]\n",
    "    dy = [0, 0, -1, 1]\n",
    "    heap = []\n",
    "    heappush(heap, [0, 0, -1])\n",
    "\n",
    "    while heap:\n",
    "        cost1, x, y = heappop(heap)\n",
    "        for i in range(4):\n",
    "            nx = x + dx[i]\n",
    "            ny = y + dy[i]\n",
    "            if 0 <= nx < N and 0 <= ny < N:\n",
    "                if nx == N-1 and ny == N-1:\n",
    "                    cost2 = cave[ny][nx]\n",
    "                    return cost1 + cost2\n",
    "                elif visited[ny][nx] == False:\n",
    "                    visited[ny][nx] = True\n",
    "                    cost2 = cave[ny][nx]\n",
    "                    heappush(heap, [cost1+cost2, nx, ny])\n",
    "\n",
    "# input = sys.stdin.readline\n",
    "cnt = 0\n",
    "while True:\n",
    "    cnt += 1\n",
    "    N = int(input())\n",
    "    if N == 0:\n",
    "        break\n",
    "    cave = []\n",
    "    for _ in range(N):\n",
    "        cave.append(list(map(int, input().split())))\n",
    "    print(f'Problem {cnt}: {dijkstra(cave, N)}')"
   ]
  },
  {
   "cell_type": "markdown",
   "metadata": {},
   "source": [
    "3273번 두 수의 합 https://www.acmicpc.net/problem/3273"
   ]
  },
  {
   "cell_type": "code",
   "execution_count": 12,
   "metadata": {},
   "outputs": [
    {
     "name": "stdout",
     "output_type": "stream",
     "text": [
      "3\n"
     ]
    }
   ],
   "source": [
    "n = int(input())\n",
    "numbers = list(map(int, input().split()))\n",
    "x = int(input())\n",
    "numbers.sort()\n",
    "cnt = 0\n",
    "cp1 = 0\n",
    "cp2 = n-1\n",
    "\n",
    "cnt = 0\n",
    "while cp1 < cp2:\n",
    "    cp_value = sum([numbers[cp1], numbers[cp2]])\n",
    "    if cp_value == x:\n",
    "        cnt += 1\n",
    "    if cp_value < x:\n",
    "        cp1 += 1\n",
    "    if cp_value >= x:\n",
    "        cp2 -= 1\n",
    "print(cnt)"
   ]
  },
  {
   "cell_type": "markdown",
   "metadata": {},
   "source": [
    "11727번 2xn 타일링 2 https://www.acmicpc.net/problem/11727"
   ]
  },
  {
   "cell_type": "code",
   "execution_count": 13,
   "metadata": {},
   "outputs": [
    {
     "name": "stdout",
     "output_type": "stream",
     "text": [
      "171\n"
     ]
    }
   ],
   "source": [
    "n = int(input())\n",
    "dp = [0, 1, 3]\n",
    "for i in range(3, n+1):\n",
    "    if i >= 3:\n",
    "        dp.append((dp[i-2]*2+dp[i-1])%10007)\n",
    "print(dp[n])    "
   ]
  },
  {
   "cell_type": "markdown",
   "metadata": {},
   "source": [
    "2470번 두 용액 https://www.acmicpc.net/problem/2470"
   ]
  },
  {
   "cell_type": "code",
   "execution_count": 3,
   "metadata": {},
   "outputs": [
    {
     "name": "stdout",
     "output_type": "stream",
     "text": [
      "-1 1\n"
     ]
    }
   ],
   "source": [
    "N = int(input())\n",
    "solutions = list(map(int, input().split()))\n",
    "solutions.sort()\n",
    "cp1 = 0\n",
    "cp2 = N-1\n",
    "\n",
    "ans = [float('inf'), [float('inf'), float('inf')]]\n",
    "while cp1 < cp2:\n",
    "    solution = [solutions[cp1], solutions[cp2]]\n",
    "    check_value = sum(solution)\n",
    "    if abs(check_value) < ans[0]:\n",
    "        ans[0] = abs(check_value)\n",
    "        ans[1] = solution\n",
    "    if check_value < 0:\n",
    "        cp1 += 1\n",
    "    if check_value >= 0:\n",
    "        cp2 -= 1\n",
    "print(*ans[1])"
   ]
  }
 ],
 "metadata": {
  "interpreter": {
   "hash": "fe3bab233825460445dbfeea6dcd52ef5815a3fa13c858fea07ac830aa383284"
  },
  "kernelspec": {
   "display_name": "Python 3.8.10 ('base')",
   "language": "python",
   "name": "python3"
  },
  "language_info": {
   "codemirror_mode": {
    "name": "ipython",
    "version": 3
   },
   "file_extension": ".py",
   "mimetype": "text/x-python",
   "name": "python",
   "nbconvert_exporter": "python",
   "pygments_lexer": "ipython3",
   "version": "3.8.10"
  },
  "orig_nbformat": 4
 },
 "nbformat": 4,
 "nbformat_minor": 2
}
