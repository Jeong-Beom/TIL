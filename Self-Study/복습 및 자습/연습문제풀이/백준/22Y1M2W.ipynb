{
 "cells": [
  {
   "cell_type": "markdown",
   "metadata": {},
   "source": [
    "1697번 숨바꼭질 https://www.acmicpc.net/problem/1697"
   ]
  },
  {
   "cell_type": "code",
   "execution_count": 16,
   "metadata": {},
   "outputs": [
    {
     "name": "stdout",
     "output_type": "stream",
     "text": [
      "4\n"
     ]
    }
   ],
   "source": [
    "from collections import deque\n",
    "\n",
    "def walk_b(loc):\n",
    "    return (loc - 1)\n",
    "\n",
    "def walk_f(loc):\n",
    "    return (loc + 1)\n",
    "\n",
    "def teleport (loc):\n",
    "    return (2 * loc)\n",
    "\n",
    "N, K = map(int, input().split())\n",
    "queue = deque()\n",
    "cnt = 0\n",
    "check = [False] * 100001\n",
    "\n",
    "queue.append(N)\n",
    "\n",
    "def bfs():\n",
    "    for _ in range(len(queue)):\n",
    "        x = queue.popleft()\n",
    "        y1 = walk_b(x)\n",
    "        y2 = walk_f(x)\n",
    "        y3 = teleport(x)\n",
    "        if 0 <= y1 and check[y1] == False and 0 <= y1 <= 100000:\n",
    "            check[y1] = True\n",
    "            queue.append(y1)\n",
    "        if 0 <= y2 and x < K and check[y2] == False and 0 <= y2 <= 100000:\n",
    "            check[y2] = True\n",
    "            queue.append(y2)\n",
    "        if x < K and 0 <= y3 <= 100000:\n",
    "            check[y3] = True\n",
    "            queue.append(y3)\n",
    "\n",
    "while K not in queue:\n",
    "    bfs()\n",
    "    cnt += 1\n",
    "print(cnt)"
   ]
  },
  {
   "cell_type": "markdown",
   "metadata": {},
   "source": [
    "7562번 나이트의 이동 https://www.acmicpc.net/problem/7562"
   ]
  },
  {
   "cell_type": "code",
   "execution_count": 2,
   "metadata": {},
   "outputs": [
    {
     "name": "stdout",
     "output_type": "stream",
     "text": [
      "5\n",
      "28\n",
      "0"
     ]
    }
   ],
   "source": [
    "import sys\n",
    "from collections import deque\n",
    "\n",
    "def bfs(x, y):\n",
    "    cp = 0\n",
    "    for i in range(8):\n",
    "        nx = x + dx[i]\n",
    "        ny = y + dy[i]\n",
    "        if 0 <= nx < T and 0 <= ny < T:\n",
    "            if nx == x2 and ny == y2:\n",
    "                cp += 1\n",
    "                board[ny][nx] = 1\n",
    "                break\n",
    "            if board[ny][nx] == 0:\n",
    "                board[ny][nx] = 1\n",
    "                queue.append([nx, ny])\n",
    "    return cp\n",
    "\n",
    "# input = sys.stdin.readline\n",
    "\n",
    "N = int(input()) # 반복문 횟수\n",
    "for i in range(N):\n",
    "    T = int(input())\n",
    "    board = [[0 for _ in range(T)] for _ in range(T)]\n",
    "    y1, x1 = map(int, input().split())\n",
    "    board[y1][x1] = 1\n",
    "    y2, x2 = map(int, input().split())\n",
    "\n",
    "    if x1 == x2 and y1 == y2:\n",
    "        if i == N-1:\n",
    "            sys.stdout.write(f'{0}')\n",
    "        else:\n",
    "            sys.stdout.write(f'{0}\\n')\n",
    "    else:\n",
    "        dx = [-2, -2, -1, -1, 1, 1, 2, 2]\n",
    "        dy = [-1, 1, -2, 2, -2, 2, -1, 1]\n",
    "        cnt = 0\n",
    "        queue = deque()\n",
    "        queue.append([x1, y1])\n",
    "\n",
    "        while True:\n",
    "            if x1 == x2 and y1 == y2:\n",
    "                print(0)\n",
    "            else:\n",
    "                cnt += 1\n",
    "                for _ in range(len(queue)):\n",
    "                    x, y = queue.popleft()\n",
    "                    check = bfs(x, y)\n",
    "                    if check == 1:\n",
    "                        break\n",
    "                if check == 1:\n",
    "                    break\n",
    "        if i == N-1:\n",
    "            sys.stdout.write(f'{cnt}')\n",
    "        else:\n",
    "            sys.stdout.write(f'{cnt}\\n')"
   ]
  },
  {
   "cell_type": "markdown",
   "metadata": {},
   "source": [
    "2206번 벽 부수고 이동하기 https://www.acmicpc.net/problem/2206"
   ]
  },
  {
   "cell_type": "code",
   "execution_count": 95,
   "metadata": {},
   "outputs": [
    {
     "name": "stdout",
     "output_type": "stream",
     "text": [
      "0 deque([[0, 0, 0]])\n",
      "[1, 1, 0, 1]\n",
      "[0, 1, 0, 1]\n",
      "[0, 0, 0, 1]\n",
      "[1, 1, 1, 0]\n",
      "\n",
      "1 deque([[0, 1, 0], [1, 0, 1]])\n",
      "[1, 2, 0, 1]\n",
      "[2, 1, 0, 1]\n",
      "[0, 0, 0, 1]\n",
      "[1, 1, 1, 0]\n",
      "\n",
      "2 deque([[1, 2, 0], [1, 0, 1], [1, 1, 1], [0, 3, 1]])\n",
      "[1, 2, 0, 1]\n",
      "[2, 3, 0, 1]\n",
      "[3, 3, 0, 1]\n",
      "[3, 1, 1, 0]\n",
      "\n",
      "3 deque([[1, 0, 1], [1, 1, 1], [0, 3, 1], [1, 3, 1], [3, 2, 1], [2, 3, 1], [3, 1, 1], [3, 0, 1]])\n",
      "[1, 2, 4, 4]\n",
      "[2, 3, 4, 4]\n",
      "[3, 3, 4, 4]\n",
      "[3, 4, 4, 0]\n",
      "\n",
      "4 deque([[3, 3, 1]])\n",
      "[1, 2, 4, 4]\n",
      "[2, 3, 4, 4]\n",
      "[3, 3, 4, 4]\n",
      "[3, 4, 4, 5]\n",
      "\n",
      "5\n"
     ]
    }
   ],
   "source": [
    "from collections import deque\n",
    "import sys\n",
    "\n",
    "N, M = map(int, input().split()) # N: 행의 수(y좌표) / M: 열의 수(x좌표)\n",
    "# N, M = map(int, sys.stdin.readline().split())\n",
    "field = []\n",
    "for _ in range(N):\n",
    "    field.append(list(map(int, input())))\n",
    "    # field.append(list(map(int, sys.stdin.readline().rstrip())))\n",
    "visited = [[False for _ in range(M)] for _ in range(N)]\n",
    "\n",
    "def bfs():\n",
    "    for _ in range(len(queue)):\n",
    "        x, y, check = queue.popleft()\n",
    "        for i in range(4):\n",
    "            nx = x + dx[i]\n",
    "            ny = y + dy[i]\n",
    "            if 0 <= nx < M and 0 <= ny < N:\n",
    "                if check == 0 and field[ny][nx] == 0 and visited[ny][nx] == False:\n",
    "                    queue.appendleft([nx, ny, 0])\n",
    "                    visited[ny][nx] = True\n",
    "                    field[ny][nx] = cnt + 1\n",
    "                elif check == 0 and field[ny][nx] == 1 and visited[ny][nx] == False:\n",
    "                    queue.append([nx, ny, 1])\n",
    "                    visited[ny][nx] = True\n",
    "                    field[ny][nx] = cnt + 1\n",
    "                elif check == 1 and field[ny][nx] == 0 and visited[ny][nx] == False:\n",
    "                    queue.append([nx, ny, 1])\n",
    "                    visited[ny][nx] = True\n",
    "                    field[ny][nx] = cnt + 1\n",
    "\n",
    "cnt = 0\n",
    "t = 0\n",
    "queue = deque()\n",
    "dx = [-1, 1, 0, 0]\n",
    "dy = [0, 0, -1, 1]\n",
    "queue.append([-1, 0, 0])\n",
    "\n",
    "while visited[N-1][M-1] == False:\n",
    "    if len(queue) == 0 and visited[N-1][M-1] == False:\n",
    "        t += 1\n",
    "        print(-1)\n",
    "        break\n",
    "    bfs()\n",
    "    print(cnt, queue)\n",
    "    for i in range(N):\n",
    "        print(field[i])\n",
    "    print('')\n",
    "    cnt += 1\n",
    "if t != 1:\n",
    "    print(cnt)"
   ]
  }
 ],
 "metadata": {
  "interpreter": {
   "hash": "fe3bab233825460445dbfeea6dcd52ef5815a3fa13c858fea07ac830aa383284"
  },
  "kernelspec": {
   "display_name": "Python 3.8.10 64-bit ('base': conda)",
   "language": "python",
   "name": "python3"
  },
  "language_info": {
   "codemirror_mode": {
    "name": "ipython",
    "version": 3
   },
   "file_extension": ".py",
   "mimetype": "text/x-python",
   "name": "python",
   "nbconvert_exporter": "python",
   "pygments_lexer": "ipython3",
   "version": "3.8.10"
  },
  "orig_nbformat": 4
 },
 "nbformat": 4,
 "nbformat_minor": 2
}
