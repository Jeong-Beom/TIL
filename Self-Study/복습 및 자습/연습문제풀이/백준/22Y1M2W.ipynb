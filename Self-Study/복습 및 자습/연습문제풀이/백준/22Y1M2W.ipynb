{
 "cells": [
  {
   "cell_type": "markdown",
   "metadata": {},
   "source": [
    "1697번 숨바꼭질 https://www.acmicpc.net/problem/1697"
   ]
  },
  {
   "cell_type": "code",
   "execution_count": 16,
   "metadata": {},
   "outputs": [
    {
     "name": "stdout",
     "output_type": "stream",
     "text": [
      "4\n"
     ]
    }
   ],
   "source": [
    "from collections import deque\n",
    "\n",
    "def walk_b(loc):\n",
    "    return (loc - 1)\n",
    "\n",
    "def walk_f(loc):\n",
    "    return (loc + 1)\n",
    "\n",
    "def teleport (loc):\n",
    "    return (2 * loc)\n",
    "\n",
    "N, K = map(int, input().split())\n",
    "queue = deque()\n",
    "cnt = 0\n",
    "check = [False] * 100001\n",
    "\n",
    "queue.append(N)\n",
    "\n",
    "def bfs():\n",
    "    for _ in range(len(queue)):\n",
    "        x = queue.popleft()\n",
    "        y1 = walk_b(x)\n",
    "        y2 = walk_f(x)\n",
    "        y3 = teleport(x)\n",
    "        if 0 <= y1 and check[y1] == False and 0 <= y1 <= 100000:\n",
    "            check[y1] = True\n",
    "            queue.append(y1)\n",
    "        if 0 <= y2 and x < K and check[y2] == False and 0 <= y2 <= 100000:\n",
    "            check[y2] = True\n",
    "            queue.append(y2)\n",
    "        if x < K and 0 <= y3 <= 100000:\n",
    "            check[y3] = True\n",
    "            queue.append(y3)\n",
    "\n",
    "while K not in queue:\n",
    "    bfs()\n",
    "    cnt += 1\n",
    "print(cnt)"
   ]
  },
  {
   "cell_type": "markdown",
   "metadata": {},
   "source": [
    "7562번 나이트의 이동 https://www.acmicpc.net/problem/7562"
   ]
  },
  {
   "cell_type": "code",
   "execution_count": 2,
   "metadata": {},
   "outputs": [
    {
     "name": "stdout",
     "output_type": "stream",
     "text": [
      "5\n",
      "28\n",
      "0"
     ]
    }
   ],
   "source": [
    "import sys\n",
    "from collections import deque\n",
    "\n",
    "def bfs(x, y):\n",
    "    cp = 0\n",
    "    for i in range(8):\n",
    "        nx = x + dx[i]\n",
    "        ny = y + dy[i]\n",
    "        if 0 <= nx < T and 0 <= ny < T:\n",
    "            if nx == x2 and ny == y2:\n",
    "                cp += 1\n",
    "                board[ny][nx] = 1\n",
    "                break\n",
    "            if board[ny][nx] == 0:\n",
    "                board[ny][nx] = 1\n",
    "                queue.append([nx, ny])\n",
    "    return cp\n",
    "\n",
    "# input = sys.stdin.readline\n",
    "\n",
    "N = int(input()) # 반복문 횟수\n",
    "for i in range(N):\n",
    "    T = int(input())\n",
    "    board = [[0 for _ in range(T)] for _ in range(T)]\n",
    "    y1, x1 = map(int, input().split())\n",
    "    board[y1][x1] = 1\n",
    "    y2, x2 = map(int, input().split())\n",
    "\n",
    "    if x1 == x2 and y1 == y2:\n",
    "        if i == N-1:\n",
    "            sys.stdout.write(f'{0}')\n",
    "        else:\n",
    "            sys.stdout.write(f'{0}\\n')\n",
    "    else:\n",
    "        dx = [-2, -2, -1, -1, 1, 1, 2, 2]\n",
    "        dy = [-1, 1, -2, 2, -2, 2, -1, 1]\n",
    "        cnt = 0\n",
    "        queue = deque()\n",
    "        queue.append([x1, y1])\n",
    "\n",
    "        while True:\n",
    "            if x1 == x2 and y1 == y2:\n",
    "                print(0)\n",
    "            else:\n",
    "                cnt += 1\n",
    "                for _ in range(len(queue)):\n",
    "                    x, y = queue.popleft()\n",
    "                    check = bfs(x, y)\n",
    "                    if check == 1:\n",
    "                        break\n",
    "                if check == 1:\n",
    "                    break\n",
    "        if i == N-1:\n",
    "            sys.stdout.write(f'{cnt}')\n",
    "        else:\n",
    "            sys.stdout.write(f'{cnt}\\n')"
   ]
  },
  {
   "cell_type": "markdown",
   "metadata": {},
   "source": [
    "2206번 벽 부수고 이동하기 https://www.acmicpc.net/problem/2206"
   ]
  },
  {
   "cell_type": "code",
   "execution_count": 140,
   "metadata": {},
   "outputs": [
    {
     "name": "stdout",
     "output_type": "stream",
     "text": [
      "7\n"
     ]
    }
   ],
   "source": [
    "from collections import deque\n",
    "import sys\n",
    "\n",
    "N, M = map(int, input().split()) # N: 행의 수(y좌표) / M: 열의 수(x좌표)\n",
    "# N, M = map(int, sys.stdin.readline().split())\n",
    "field = []\n",
    "for _ in range(N):\n",
    "    field.append(list(map(int, input())))\n",
    "    # field.append(list(map(int, sys.stdin.readline().rstrip())))\n",
    "visited = [[False for _ in range(M)] for _ in range(N)] # 전체적인 방문여부 점검\n",
    "\n",
    "def bfs():\n",
    "    for _ in range(len(queue)):\n",
    "        x, y, check = queue.popleft()\n",
    "        for i in range(4):\n",
    "            nx = x + dx[i]\n",
    "            ny = y + dy[i]\n",
    "            if 0 <= nx < M and 0 <= ny < N:\n",
    "                if check == 0 and field[ny][nx] == 0:\n",
    "                    queue.append([nx, ny, 0])\n",
    "                    field[ny][nx] = 2\n",
    "                    visited[ny][nx] = True\n",
    "                elif check == 0 and field[ny][nx] == 1:\n",
    "                    queue.append([nx, ny, 1])\n",
    "                    field[ny][nx] = 2\n",
    "                    visited[ny][nx] = True\n",
    "                elif check == 1 and field[ny][nx] == 0 and visited[ny][nx] == False:\n",
    "                    queue.append([nx, ny, 1])\n",
    "                    visited[ny][nx] = True\n",
    "\n",
    "cnt = 0\n",
    "t = 0\n",
    "queue = deque()\n",
    "dx = [-1, 1, 0, 0]\n",
    "dy = [0, 0, -1, 1]\n",
    "queue.append([-1, 0, 0])\n",
    "\n",
    "while visited[N-1][M-1] == False:\n",
    "    if len(queue) == 0 and visited[N-1][M-1] == False:\n",
    "        t += 1\n",
    "        print(-1)\n",
    "        break\n",
    "    bfs()\n",
    "    # print(cnt, queue, sep = '\\n')\n",
    "    # for i in range(N):\n",
    "    #     print(field[i])\n",
    "    # for i in range(N):\n",
    "    #     print(visited[i])\n",
    "    # print('')\n",
    "    cnt += 1\n",
    "if t != 1:\n",
    "    print(cnt)"
   ]
  },
  {
   "cell_type": "markdown",
   "metadata": {},
   "source": [
    "1707번 이분그래프 https://www.acmicpc.net/problem/1707"
   ]
  },
  {
   "cell_type": "code",
   "execution_count": 61,
   "metadata": {},
   "outputs": [
    {
     "name": "stdout",
     "output_type": "stream",
     "text": [
      "YES\n",
      "NO"
     ]
    }
   ],
   "source": [
    "from collections import deque\n",
    "import sys\n",
    "\n",
    "# input = sys.stdin.readline\n",
    "K = int(input())\n",
    "for i in range(K):\n",
    "    V, E = map(int, input().split()) # V: 정점의 개수 / E: 간선의 개수\n",
    "    graph = dict()\n",
    "    for _ in range(E):\n",
    "        key, value = map(int, input().split())\n",
    "        if key not in graph:\n",
    "            graph[key] = [value]\n",
    "        else:\n",
    "            graph[key].append(value)\n",
    "        if value not in graph:\n",
    "            graph[value] = [key]\n",
    "        else:\n",
    "            graph[value].append(key)\n",
    "\n",
    "    check = [0 for i in range(1, V+1)]\n",
    "\n",
    "    def bfs(num):\n",
    "        if check[num-1] == 0:\n",
    "            check[num-1] = -1\n",
    "            queue = deque()\n",
    "            queue.extend(graph[num])\n",
    "            cnt = 0\n",
    "            while queue:\n",
    "                if cnt % 2 == 0:\n",
    "                    chp = -1\n",
    "                    ch = 1\n",
    "                else:\n",
    "                    chp = 1\n",
    "                    ch = -1\n",
    "                for _ in range(len(queue)):\n",
    "                    number = queue.popleft() \n",
    "                    if chp == check[number-1]:\n",
    "                        return 0\n",
    "                    elif check[number-1] == 0:\n",
    "                        check[number-1] = ch\n",
    "                        queue.extend(graph[number])\n",
    "                    else:\n",
    "                        pass\n",
    "                cnt += 1\n",
    "        return 1\n",
    "\n",
    "    cp = -1\n",
    "    for key, value in graph.items():\n",
    "        cp = bfs(key)\n",
    "        if cp == 0:\n",
    "            ans = 'NO'\n",
    "            break\n",
    "    if cp == 1:\n",
    "        ans = 'YES'\n",
    "    if i == K-1:\n",
    "        sys.stdout.write(f'{ans}')\n",
    "    else:\n",
    "        sys.stdout.write(f'{ans}\\n')"
   ]
  },
  {
   "cell_type": "markdown",
   "metadata": {},
   "source": [
    "11724번 연결 요소의 개수 https://www.acmicpc.net/problem/11724"
   ]
  },
  {
   "cell_type": "code",
   "execution_count": 64,
   "metadata": {},
   "outputs": [
    {
     "name": "stdout",
     "output_type": "stream",
     "text": [
      "1\n"
     ]
    }
   ],
   "source": [
    "import sys\n",
    "from collections import deque\n",
    "\n",
    "def bfs(number):\n",
    "    queue = deque(graph[number])\n",
    "    check[number] = True\n",
    "    while queue:\n",
    "        check_number = queue.popleft()\n",
    "        if check[check_number] == False:\n",
    "            check[check_number] = True\n",
    "            queue.extend(graph[check_number])\n",
    "\n",
    "# input = sys.stdin.readline\n",
    "N, M = map(int, input().split()) # N :  정점의 개수 / M : 간선의 개수\n",
    "graph = dict()\n",
    "for _ in range(M):\n",
    "    key, value = map(int, input().split())\n",
    "    if key != value:\n",
    "        if key not in graph:\n",
    "            graph[key] = [value]\n",
    "        else:\n",
    "            graph[key].append(value)\n",
    "        if value not in graph:\n",
    "            graph[value] = [key]\n",
    "        else:\n",
    "            graph[value].append(key)\n",
    "\n",
    "check = [False for _ in range(N+1)]\n",
    "cnt = 0\n",
    "for i in range(1, N+1):\n",
    "    if i not in graph:\n",
    "        graph[i] = []\n",
    "for num in graph:\n",
    "    if check[num] == False:\n",
    "        bfs(num)\n",
    "        cnt += 1\n",
    "print(cnt)"
   ]
  },
  {
   "cell_type": "markdown",
   "metadata": {},
   "source": [
    "14502번 연구소 https://www.acmicpc.net/problem/14502"
   ]
  },
  {
   "cell_type": "code",
   "execution_count": 48,
   "metadata": {},
   "outputs": [
    {
     "name": "stdout",
     "output_type": "stream",
     "text": [
      "3\n"
     ]
    }
   ],
   "source": [
    "from collections import deque\n",
    "import sys\n",
    "\n",
    "N, M = map(int, input().split()) # N : 세로크기(y좌표) / M : 가로크기(x좌표)\n",
    "field = []\n",
    "for _ in range(N):\n",
    "    field.append(list(map(int, input().split())))\n",
    "\n",
    "lab_list = []\n",
    "space_list = []\n",
    "wall_num = 0\n",
    "# 바이러스의 위치, 벽의 위치, 빈 공간의 위치의 좌표를 각각 저장\n",
    "for y in range(N):\n",
    "    for x in range(M):\n",
    "        if field[y][x] == 0:\n",
    "            space_list.append([x, y])\n",
    "        if field[y][x] == 2:\n",
    "            lab_list.append([x, y])\n",
    "        if field[y][x] == 1:\n",
    "            wall_num += 1\n",
    "\n",
    "# 벽을 설치할 위치 확인(조합수를 dfs로 확인)\n",
    "check = [False for _ in range(len(space_list))]\n",
    "arr = []\n",
    "com_list = []\n",
    "def dfs(start):\n",
    "    if len(arr) == 3:\n",
    "        com_list.append(arr[:])\n",
    "        return\n",
    "\n",
    "    for i in range(start, len(check)): \n",
    "        if check[i]:\n",
    "            continue\n",
    "        arr.append(space_list[i])\n",
    "        check[i] = True\n",
    "        dfs(i+1)\n",
    "        arr.pop()\n",
    "        check[i] = False\n",
    "dfs(0)\n",
    "\n",
    "# 바이러스가 퍼져나갈 수 있는 상황을 bfs로 작성\n",
    "dx = [-1, 1, 0, 0]\n",
    "dy = [0, 0 , -1, 1] \n",
    "\n",
    "def bfs(lab_list, field):\n",
    "    virus = 0\n",
    "    queue = deque()\n",
    "    for lab in lab_list:\n",
    "        queue.append(lab)\n",
    "    while queue:\n",
    "        virus += 1\n",
    "        x, y = queue.popleft()\n",
    "        for i in range(4):\n",
    "            nx = x + dx[i]\n",
    "            ny = y + dy[i]\n",
    "            if 0 <= nx < M and 0 <= ny < N and field[ny][nx] == 0:\n",
    "                field[ny][nx] = 2\n",
    "                queue.append([nx, ny])\n",
    "    return virus\n",
    "\n",
    "# 벽을 설치한 경우를 배열로 만들어서 저장\n",
    "ans = 0\n",
    "field_size = M * N\n",
    "for i in range(len(com_list)):\n",
    "    cnt = 0\n",
    "    field_sample = []\n",
    "    for t in range(N):\n",
    "        sample = field[t].copy()\n",
    "        field_sample.append(sample)\n",
    "    for k in range(3): # 벽을 반드시 3개를 설치해야함\n",
    "        x, y = com_list[i][k]\n",
    "        field_sample[y][x] = 1\n",
    "    virus = bfs(lab_list, field_sample)\n",
    "\n",
    "    cnt = field_size - (virus + wall_num + 3)\n",
    "    if ans < cnt:\n",
    "        ans = cnt\n",
    "print(ans)"
   ]
  },
  {
   "cell_type": "markdown",
   "metadata": {},
   "source": [
    "18352번 특정 거리의 도시 찾기 https://www.acmicpc.net/problem/18352"
   ]
  },
  {
   "cell_type": "code",
   "execution_count": 41,
   "metadata": {},
   "outputs": [
    {
     "name": "stdout",
     "output_type": "stream",
     "text": [
      "-1"
     ]
    }
   ],
   "source": [
    "from collections import deque\n",
    "import sys \n",
    "\n",
    "N, M, K, X = map(int, input().split())\n",
    "graph = dict()\n",
    "for i in range(M):\n",
    "    city_s, city_e = map(int, input().split())\n",
    "    if city_s not in graph:\n",
    "        graph[city_s] = [city_e]\n",
    "    else:\n",
    "        graph[city_s].append(city_e)\n",
    "\n",
    "for i in range(1, N+1):\n",
    "    if i not in graph:\n",
    "        graph[i] = []\n",
    "        \n",
    "visited = [False for _ in range(N+1)]\n",
    "\n",
    "def bfs(queue):\n",
    "    cities = []\n",
    "    for _ in range(len(queue)):\n",
    "        city = queue.popleft()\n",
    "        if visited[city] == False:\n",
    "            visited[city] = True\n",
    "            queue.extend(graph[city])\n",
    "            cities.append(city)\n",
    "    return cities\n",
    "\n",
    "queue = deque()\n",
    "queue.extend(graph[X])\n",
    "visited[X] = True\n",
    "for _ in range(K):\n",
    "    ans = bfs(queue)\n",
    "if len(ans) == 0:\n",
    "    ans.append(-1)\n",
    "for i in range(len(ans)):\n",
    "    if i == len(ans) - 1:\n",
    "        sys.stdout.write(f'{ans[i]}')\n",
    "    else:\n",
    "        sys.stdout.write(f'{ans[i]}\\n')"
   ]
  },
  {
   "cell_type": "markdown",
   "metadata": {},
   "source": [
    "4963번 섬의 갯수 https://www.acmicpc.net/problem/4963"
   ]
  },
  {
   "cell_type": "code",
   "execution_count": 45,
   "metadata": {},
   "outputs": [],
   "source": []
  },
  {
   "cell_type": "code",
   "execution_count": 59,
   "metadata": {},
   "outputs": [
    {
     "name": "stdout",
     "output_type": "stream",
     "text": [
      "0\n",
      "1\n",
      "1\n",
      "3\n",
      "1\n",
      "9\n"
     ]
    }
   ],
   "source": [
    "from collections import deque\n",
    "import sys\n",
    "\n",
    "while True:\n",
    "    # input = sys.stdin.readline\n",
    "    w, h = map(int, input().split()) # w: x좌표 / h: y좌표\n",
    "    if w == 0 and h == 0:\n",
    "        break\n",
    "    field = []\n",
    "    for _ in range(h):\n",
    "        field.append(list(map(int, input().split())))\n",
    "\n",
    "    dx = [-1, -1, -1, 0, 0, 1, 1, 1]\n",
    "    dy = [-1, 0, 1, -1, 1, -1, 0, 1]\n",
    "\n",
    "    def bfs(x, y):\n",
    "        queue = deque()\n",
    "        queue.append([x, y])\n",
    "        field[y][x] = 2\n",
    "        \n",
    "        while queue:\n",
    "            x, y = queue.popleft()\n",
    "            for i in range(8):\n",
    "                nx = x + dx[i]\n",
    "                ny = y + dy[i]\n",
    "                if 0 <= nx < w and 0 <= ny < h and field[ny][nx] == 1:\n",
    "                    field[ny][nx] = 2\n",
    "                    queue.append([nx, ny]) \n",
    "\n",
    "    cnt = 0\n",
    "    for x in range(w):\n",
    "        for y in range(h):\n",
    "            if field[y][x] == 1:\n",
    "                bfs(x, y)\n",
    "                cnt += 1\n",
    "    print(cnt)"
   ]
  }
 ],
 "metadata": {
  "interpreter": {
   "hash": "fe3bab233825460445dbfeea6dcd52ef5815a3fa13c858fea07ac830aa383284"
  },
  "kernelspec": {
   "display_name": "Python 3.8.10 64-bit ('base': conda)",
   "language": "python",
   "name": "python3"
  },
  "language_info": {
   "codemirror_mode": {
    "name": "ipython",
    "version": 3
   },
   "file_extension": ".py",
   "mimetype": "text/x-python",
   "name": "python",
   "nbconvert_exporter": "python",
   "pygments_lexer": "ipython3",
   "version": "3.8.10"
  },
  "orig_nbformat": 4
 },
 "nbformat": 4,
 "nbformat_minor": 2
}
