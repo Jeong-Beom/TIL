{
 "cells": [
  {
   "cell_type": "markdown",
   "metadata": {},
   "source": [
    "1026번 보물 https://www.acmicpc.net/problem/1026"
   ]
  },
  {
   "cell_type": "code",
   "execution_count": 4,
   "metadata": {},
   "outputs": [
    {
     "name": "stdout",
     "output_type": "stream",
     "text": [
      "528\n"
     ]
    }
   ],
   "source": [
    "N = int(input())\n",
    "a_list = list(map(int, input().split()))\n",
    "b_list = list(map(int, input().split()))\n",
    "a_list.sort()\n",
    "b_list.sort(reverse = True)\n",
    "ans = 0\n",
    "for i in range(N):\n",
    "    ans += a_list[i] * b_list[i]\n",
    "print(ans)"
   ]
  },
  {
   "cell_type": "markdown",
   "metadata": {},
   "source": [
    "6603번 로또 https://www.acmicpc.net/problem/6603"
   ]
  },
  {
   "cell_type": "code",
   "execution_count": null,
   "metadata": {},
   "outputs": [],
   "source": [
    "import sys\n",
    "t = 0\n",
    "while True:\n",
    "    number_list = list(map(int, input().split()))\n",
    "    if number_list[0] == 0 and len(number_list) == 1:\n",
    "        break\n",
    "    if t > 0:\n",
    "        print('')\n",
    "    k = number_list[0]\n",
    "    n_list = number_list[1:]\n",
    "    n_list.sort()\n",
    "    arr = []\n",
    "    check = [False] * k\n",
    "    def dfs(start):\n",
    "        if len(arr) == 6:\n",
    "            print(*arr)\n",
    "            return\n",
    "        \n",
    "        for i in range(start, k):\n",
    "            if check[i]:\n",
    "                continue\n",
    "            \n",
    "            arr.append(n_list[i])\n",
    "            check[i] = True\n",
    "            \n",
    "            dfs(i)\n",
    "            arr.pop()\n",
    "            check[i] = False\n",
    "    dfs(0)\n",
    "    t += 1"
   ]
  },
  {
   "cell_type": "code",
   "execution_count": null,
   "metadata": {},
   "outputs": [],
   "source": [
    "1759번 암호만들기 https://www.acmicpc.net/problem/1759"
   ]
  },
  {
   "cell_type": "code",
   "execution_count": null,
   "metadata": {},
   "outputs": [],
   "source": [
    "L, C = map(int, input().split())\n",
    "alpha = input().split()\n",
    "alpha.sort()\n",
    "check_alpha = ['a', 'e', 'i', 'o', 'u']\n",
    "check = [False] * C\n",
    "arr = []\n",
    "cp_a, cp_b = 0, 0\n",
    "def dfs(start, cp_a, cp_b):\n",
    "    if len(arr) == L:  \n",
    "        if cp_a >= 1 and cp_b >= 2:\n",
    "            print(*arr, sep = '')\n",
    "        return\n",
    "    \n",
    "    for i in range(start, C):\n",
    "        if check[i]:\n",
    "            continue\n",
    "\n",
    "        arr.append(alpha[i])\n",
    "        if alpha[i] in check_alpha:\n",
    "            cp_a += 1\n",
    "        else:\n",
    "            cp_b += 1\n",
    "        check[i] = True\n",
    "\n",
    "        dfs(i, cp_a, cp_b)\n",
    "\n",
    "        t = arr.pop()\n",
    "        if t in check_alpha:\n",
    "            cp_a -= 1\n",
    "        else:\n",
    "            cp_b -= 1\n",
    "        check[i] = False\n",
    "dfs(0, cp_a, cp_b)"
   ]
  },
  {
   "cell_type": "markdown",
   "metadata": {},
   "source": [
    "2217번 로프 https://www.acmicpc.net/problem/2217"
   ]
  },
  {
   "cell_type": "code",
   "execution_count": 12,
   "metadata": {},
   "outputs": [
    {
     "data": {
      "text/plain": [
       "12"
      ]
     },
     "execution_count": 12,
     "metadata": {},
     "output_type": "execute_result"
    }
   ],
   "source": [
    "N = int(input())\n",
    "ropes = []\n",
    "for _ in range(N):\n",
    "    ropes.append(int(input()))\n",
    "ropes.sort()\n",
    "start = ropes[0]\n",
    "end = ropes[-1]\n",
    "value = -1\n",
    "while start <= end:\n",
    "    value_s = 0\n",
    "    for i in range(N):\n",
    "        if ropes[i] >= start:\n",
    "            value_s += start\n",
    "    if value_s > value:\n",
    "        value = value_s\n",
    "    start += 1\n",
    "value"
   ]
  },
  {
   "cell_type": "markdown",
   "metadata": {},
   "source": [
    "1699번 제곱수의 합 https://www.acmicpc.net/problem/1699"
   ]
  },
  {
   "cell_type": "code",
   "execution_count": 49,
   "metadata": {},
   "outputs": [
    {
     "data": {
      "text/plain": [
       "3"
      ]
     },
     "execution_count": 49,
     "metadata": {},
     "output_type": "execute_result"
    }
   ],
   "source": [
    "N = int(input())\n",
    "dp = [0, 1] + [x for x in range(2, N+1)]\n",
    "for i in range(2, N+1):\n",
    "    for k in range(1, int(N**(1/2))+1):\n",
    "        if dp[i] > dp[i - k**2] + 1:\n",
    "            dp[i] = dp[i - k**2] + 1\n",
    "print(dp[N])"
   ]
  },
  {
   "cell_type": "markdown",
   "metadata": {},
   "source": [
    "1260번 DFS와 BFS https://www.acmicpc.net/problem/1260"
   ]
  },
  {
   "cell_type": "code",
   "execution_count": 199,
   "metadata": {},
   "outputs": [
    {
     "name": "stdout",
     "output_type": "stream",
     "text": [
      "1000\n",
      "1000\n"
     ]
    }
   ],
   "source": [
    "N, M, V = map(int, input().split())\n",
    "dic = dict()\n",
    "for _ in range(M):\n",
    "    key, value = map(int, input().split())\n",
    "    if key not in dic:\n",
    "        dic[key] = [value]\n",
    "    else:\n",
    "        dic[key].append(value)\n",
    "    if value not in dic:\n",
    "        dic[value] = [key]\n",
    "    else:\n",
    "        dic[value].append(key)\n",
    "\n",
    "for key, value in dic.items():\n",
    "    dic[key] = sorted(value)\n",
    "# print(dic)\n",
    "visited1 = []\n",
    "visited1.append(V)\n",
    "def dfs(V):\n",
    "    for line in dic[V]:\n",
    "        if line in visited1:\n",
    "            continue\n",
    "        visited1.append(line)\n",
    "        dfs(line)\n",
    "    return\n",
    "# print(dic)\n",
    "visited2 = []\n",
    "visited2.append(V)\n",
    "keys = []\n",
    "keys.append(V)\n",
    "def bfs(keys):\n",
    "    if len(keys) == 0:\n",
    "        return\n",
    "    keys_p = keys[:]\n",
    "    keys = []    \n",
    "    for i in keys_p:\n",
    "        for line in dic[i]:\n",
    "            if line not in visited2:\n",
    "                keys.append(line)\n",
    "            if line in visited2:\n",
    "                continue\n",
    "            visited2.append(line)\n",
    "    bfs(keys)\n",
    "if V not in dic:\n",
    "    print(V)\n",
    "    print(V)\n",
    "    pass\n",
    "else:\n",
    "    dfs(V)\n",
    "    print(*visited1)\n",
    "    bfs(keys)\n",
    "    print(*visited2)"
   ]
  },
  {
   "cell_type": "markdown",
   "metadata": {},
   "source": [
    "2606번 바이러스 https://www.acmicpc.net/problem/2606"
   ]
  },
  {
   "cell_type": "code",
   "execution_count": 209,
   "metadata": {},
   "outputs": [
    {
     "name": "stdout",
     "output_type": "stream",
     "text": [
      "4\n"
     ]
    }
   ],
   "source": [
    "N = int(input())\n",
    "T = int(input())\n",
    "graph = dict()\n",
    "for _ in range(T):\n",
    "    key, value = map(int, input().split())\n",
    "    if key in graph:\n",
    "        graph[key].append(value)\n",
    "    else:\n",
    "        graph[key] = [value]\n",
    "    if value in graph:\n",
    "        graph[value].append(key)\n",
    "    else:\n",
    "        graph[value] = [key]\n",
    "\n",
    "# dfs\n",
    "visited = [1]\n",
    "def dfs(key):\n",
    "    for line in graph[key]:\n",
    "        if line in visited:\n",
    "            continue\n",
    "        visited.append(line)\n",
    "        dfs(line)\n",
    "dfs(1)\n",
    "print(len(visited)-1)"
   ]
  },
  {
   "cell_type": "code",
   "execution_count": 221,
   "metadata": {},
   "outputs": [
    {
     "name": "stdout",
     "output_type": "stream",
     "text": [
      "4\n"
     ]
    }
   ],
   "source": [
    "N = int(input())\n",
    "T = int(input())\n",
    "graph = dict()\n",
    "for _ in range(T):\n",
    "    key, value = map(int, input().split())\n",
    "    if key in graph:\n",
    "        graph[key].append(value)\n",
    "    else:\n",
    "        graph[key] = [value]\n",
    "    if value in graph:\n",
    "        graph[value].append(key)\n",
    "    else:\n",
    "        graph[value] = [key]\n",
    "\n",
    "# bfs\n",
    "from collections import deque\n",
    "def bfs(graph, start):\n",
    "    visit = []\n",
    "    queue = deque([])\n",
    "    queue.append(start)\n",
    "\n",
    "    while queue:\n",
    "        node = queue.popleft()\n",
    "        if node not in visit:\n",
    "            visit.append(node)\n",
    "            queue.extend(graph[node])\n",
    "    return visit\n",
    "print(len(bfs(graph, 1)) -1)"
   ]
  },
  {
   "cell_type": "code",
   "execution_count": 216,
   "metadata": {},
   "outputs": [
    {
     "name": "stdout",
     "output_type": "stream",
     "text": [
      "['A', 'B', 'H', 'M', 'J', 'K', 'L', 'I', 'C', 'D', 'G', 'E', 'F']\n",
      "['A', 'B', 'C', 'H', 'D', 'I', 'J', 'M', 'E', 'G', 'K', 'F', 'L']\n"
     ]
    }
   ],
   "source": [
    "# BFS 구현\n",
    "graph = {\n",
    "    'A': ['B'],\n",
    "    'B': ['A', 'C', 'H'],\n",
    "    'C': ['B', 'D'],\n",
    "    'D': ['C', 'E', 'G'],\n",
    "    'E': ['D', 'F'],\n",
    "    'F': ['E'],\n",
    "    'G': ['D'],\n",
    "    'H': ['B', 'I', 'J', 'M'],\n",
    "    'I': ['H'],\n",
    "    'J': ['H', 'K'],\n",
    "    'K': ['J', 'L'],\n",
    "    'L': ['K'],\n",
    "    'M': ['H']\n",
    "}\n",
    "\n",
    "def dfs(graph, start_node):\n",
    "    visit = []\n",
    "    stack = []\n",
    "    \n",
    "    stack.append(start_node)\n",
    "\n",
    "    while stack:\n",
    "        node = stack.pop()\n",
    "        if node not in visit:\n",
    "            visit.append(node)\n",
    "            stack.extend(graph[node])\n",
    "    return visit\n",
    "\n",
    "from collections import deque\n",
    "def bfs(graph, start_node):\n",
    "    visit = list()\n",
    "    queue = deque([])\n",
    "\n",
    "    queue.append(start_node)\n",
    "\n",
    "    while queue:\n",
    "        node = queue.popleft()\n",
    "        if node not in visit:\n",
    "            visit.append(node)\n",
    "            queue.extend(graph[node])\n",
    "    return visit\n",
    "\n",
    "print(dfs(graph, 'A'))\n",
    "print(bfs(graph, 'A'))"
   ]
  },
  {
   "cell_type": "markdown",
   "metadata": {},
   "source": [
    "2667번 단지번호 붙이기 https://www.acmicpc.net/problem/2667"
   ]
  },
  {
   "cell_type": "code",
   "execution_count": 127,
   "metadata": {},
   "outputs": [
    {
     "name": "stdout",
     "output_type": "stream",
     "text": [
      "3\n",
      "7\n",
      "8\n",
      "9"
     ]
    }
   ],
   "source": [
    "# dfs 풀이\n",
    "import sys\n",
    "N = int(input())\n",
    "apt = []\n",
    "for _ in range(N): \n",
    "    sp = input()\n",
    "    apt_d = []\n",
    "    for num in sp:\n",
    "        apt_d.append(int(num))\n",
    "    apt.append(apt_d)\n",
    "\n",
    "def dfs(x, y, apt_n):\n",
    "    visited[x][y] = True\n",
    "    global nums\n",
    "    if apt[x][y] == 1:\n",
    "        apt[x][y] = apt_n\n",
    "        nums += 1\n",
    "    \n",
    "    for t in range(4):\n",
    "        nx = x + dx[t]\n",
    "        ny = y + dy[t]\n",
    "        if 0 <= nx < N and 0 <= ny < N:\n",
    "            if apt[nx][ny] == 1 and visited[nx][ny] == False:\n",
    "                dfs(nx, ny, apt_n)\n",
    "\n",
    "visited = [[False] * N for _ in range(N)]\n",
    "# apt_dic = dict()\n",
    "house_num = []\n",
    "dx = [-1, 1, 0, 0]\n",
    "dy = [0, 0, 1, -1]\n",
    "apt_n = 1\n",
    "nums = 0\n",
    "for i in range(N):\n",
    "    for k in range(N):\n",
    "        if apt[i][k] == 1 and visited[i][k] == False:\n",
    "            dfs(i, k, apt_n)\n",
    "            # apt_dic[apt_n] = nums\n",
    "            house_num.append(nums)\n",
    "            nums = 0\n",
    "            apt_n += 1\n",
    "house_num.sort()\n",
    "sys.stdout.write(f'{len(house_num)}\\n')\n",
    "for i in range(len(house_num)):\n",
    "    if i == len(house_num) - 1:\n",
    "        sys.stdout.write(f'{house_num[i]}')\n",
    "    else:\n",
    "        sys.stdout.write(f'{house_num[i]}\\n')"
   ]
  },
  {
   "cell_type": "code",
   "execution_count": 145,
   "metadata": {},
   "outputs": [
    {
     "name": "stdout",
     "output_type": "stream",
     "text": [
      "3\n",
      "7\n",
      "8\n",
      "9"
     ]
    }
   ],
   "source": [
    "# bfs 풀이\n",
    "from collections import deque\n",
    "import sys\n",
    "\n",
    "N = int(input())\n",
    "apt = []\n",
    "for _ in range(N): \n",
    "    sp = input()\n",
    "    apt_d = []\n",
    "    for num in sp:\n",
    "        apt_d.append(int(num))\n",
    "    apt.append(apt_d)\n",
    "\n",
    "dx = [-1, 1, 0 , 0]\n",
    "dy = [0, 0, 1, -1]\n",
    "apt_name = []\n",
    "apt_n = -1\n",
    "\n",
    "def bfs(apt, x, y, apt_n):\n",
    "    queue = deque()\n",
    "    queue.append([x,y])\n",
    "    while True:\n",
    "        if apt_n not in apt_name:\n",
    "            apt_name.append(apt_n)\n",
    "            apt[x][y] = apt_n\n",
    "            break\n",
    "        else:\n",
    "            apt_n -= 1\n",
    "    count = 1\n",
    "\n",
    "    while queue:\n",
    "        x, y = queue.popleft()\n",
    "        for i in range(4):\n",
    "            nx = x + dx[i]\n",
    "            ny = y + dy[i]\n",
    "            if 0 <= nx < N and 0 <= ny < N:\n",
    "                if apt[nx][ny] == 1:\n",
    "                    apt[nx][ny] = apt_n\n",
    "                    queue.append([nx, ny])\n",
    "                    count += 1\n",
    "    return count\n",
    "\n",
    "house_num = []\n",
    "for i in range(N):\n",
    "    for k in range(N):\n",
    "        if apt[i][k] == 1:\n",
    "            house_num.append(bfs(apt, i, k, apt_n))\n",
    "\n",
    "house_num.sort()\n",
    "sys.stdout.write(f'{len(house_num)}\\n')\n",
    "for i in range(len(house_num)):\n",
    "    if i == len(house_num) - 1:\n",
    "        sys.stdout.write(f'{house_num[i]}')\n",
    "    else:\n",
    "        sys.stdout.write(f'{house_num[i]}\\n')"
   ]
  },
  {
   "cell_type": "markdown",
   "metadata": {},
   "source": [
    "1012번 유기농 배추 https://www.acmicpc.net/problem/1012"
   ]
  },
  {
   "cell_type": "code",
   "execution_count": 157,
   "metadata": {},
   "outputs": [
    {
     "name": "stdout",
     "output_type": "stream",
     "text": [
      "[1, 1, 0, 0, 0, 0, 0, 0, 0, 0]\n",
      "[0, 1, 0, 0, 0, 0, 0, 0, 0, 0]\n",
      "[0, 0, 0, 0, 1, 0, 0, 0, 0, 0]\n",
      "[0, 0, 0, 0, 1, 0, 0, 0, 0, 0]\n",
      "[0, 0, 1, 1, 0, 0, 0, 1, 1, 1]\n",
      "[0, 0, 0, 0, 1, 0, 0, 1, 1, 1]\n",
      "[0, 0, 0, 0, 0, 0, 0, 1, 1, 1]\n",
      "[0, 0, 0, 0, 0, 0, 0, 0, 0, 0]\n",
      "\n",
      "[0, 0, 0, 0, 0, 0, 0, 0, 0, 0]\n",
      "[0, 0, 0, 0, 0, 0, 0, 0, 0, 0]\n",
      "[0, 0, 0, 0, 0, 0, 0, 0, 0, 0]\n",
      "[0, 0, 0, 0, 0, 0, 0, 0, 0, 0]\n",
      "[0, 0, 0, 0, 0, 0, 0, 0, 0, 0]\n",
      "[0, 0, 0, 0, 0, 1, 0, 0, 0, 0]\n",
      "[0, 0, 0, 0, 0, 0, 0, 0, 0, 0]\n",
      "[0, 0, 0, 0, 0, 0, 0, 0, 0, 0]\n",
      "[0, 0, 0, 0, 0, 0, 0, 0, 0, 0]\n",
      "[0, 0, 0, 0, 0, 0, 0, 0, 0, 0]\n",
      "\n"
     ]
    }
   ],
   "source": [
    "T = int(input())\n",
    "for _ in range(T):\n",
    "    M, N, K = map(int, input().split()) # M : 가로 / N : 세로 / 배추위치\n",
    "    field = [[0 for _ in range(M)] for _ in range(N)]\n",
    "    for _ in range(K):\n",
    "        x, y = map(int, input().split())\n",
    "        field[y][x] = 1\n",
    "    for i in range(N):\n",
    "        print(field[i])\n",
    "    print('')"
   ]
  },
  {
   "cell_type": "code",
   "execution_count": 159,
   "metadata": {},
   "outputs": [],
   "source": [
    "T = int(input())\n",
    "for _ in range(T):\n",
    "    M, N, K = map(int, input().split()) # M : 가로 / N : 세로 / 배추위치\n",
    "    field = [[0 for _ in range(M)] for _ in range(N)]\n",
    "    for _ in range(K):\n",
    "        x, y = map(int, input().split())\n",
    "        field[y][x] = 1"
   ]
  },
  {
   "cell_type": "code",
   "execution_count": 177,
   "metadata": {},
   "outputs": [
    {
     "name": "stdout",
     "output_type": "stream",
     "text": [
      "5 1\n"
     ]
    }
   ],
   "source": [
    "# dfs 풀이\n",
    "# import sys\n",
    "# sys.setrecursionlimit(10**6) # 재귀범위 확장\n",
    "# input = sys.stdin.readlin # 입력값 처리시간 단축을 위한 sys 함수\n",
    "T = int(input())\n",
    "cnt_list = []\n",
    "for _ in range(T):\n",
    "    M, N, K = map(int, input().split()) # M : 가로 / N : 세로 / 배추위치\n",
    "    field = [[0 for _ in range(M)] for _ in range(N)]\n",
    "    for _ in range(K):\n",
    "        x, y = map(int, input().split())\n",
    "        field[y][x] = 1\n",
    "    dx = [-1, 1, 0 , 0]\n",
    "    dy = [0, 0, -1 , 1]\n",
    "    cnt = 0\n",
    "    def dfs(x, y):\n",
    "        field[y][x] = 0\n",
    "        for i in range(4):\n",
    "            nx = x + dx[i]\n",
    "            ny = y + dy[i]\n",
    "            if 0 <= nx < M and 0 <= ny < N:\n",
    "                if field[ny][nx] == 1:\n",
    "                    dfs(nx, ny)\n",
    "    for x in range(M):\n",
    "        for y in range(N):\n",
    "            if field[y][x] == 1:\n",
    "                dfs(x, y)\n",
    "                cnt += 1\n",
    "    cnt_list.append(cnt)\n",
    "print(*cnt_list)"
   ]
  },
  {
   "cell_type": "code",
   "execution_count": 33,
   "metadata": {},
   "outputs": [
    {
     "name": "stdout",
     "output_type": "stream",
     "text": [
      "5 1\n"
     ]
    }
   ],
   "source": [
    "# bfs풀이\n",
    "import sys\n",
    "from collections import deque\n",
    "T = int(input())\n",
    "cnt_list = []\n",
    "for _ in range(T):\n",
    "    M, N, K = map(int, input().split()) # M : 가로 / N : 세로 / 배추위치\n",
    "    field = [[0 for _ in range(M)] for _ in range(N)]\n",
    "    for _ in range(K):\n",
    "        x, y = map(int, input().split())\n",
    "        field[y][x] = 1\n",
    "    dx = [-1, 1, 0, 0]\n",
    "    dy = [0, 0, -1, 1]\n",
    "    cnt = 0\n",
    "\n",
    "    def bfs(field, x, y):\n",
    "        queue = deque()\n",
    "        if field[y][x] == 1:\n",
    "            field[y][x] = 0\n",
    "            queue.append([x, y])\n",
    "        \n",
    "        while queue:\n",
    "            x, y = queue.popleft()\n",
    "            for i in range(4):\n",
    "                nx = x + dx[i]\n",
    "                ny = y + dy[i]\n",
    "                if 0 <= nx < M and 0 <= ny < N:\n",
    "                    if field[ny][nx] == 1:\n",
    "                        field[ny][nx] = 0\n",
    "                        queue.append([nx, ny])\n",
    "        return \n",
    "\n",
    "    for x in range(M):\n",
    "        for y in range(N):\n",
    "            if field[y][x] == 1:\n",
    "                bfs(field, x, y)\n",
    "                cnt += 1\n",
    "    cnt_list.append(cnt)\n",
    "print(*cnt_list)"
   ]
  },
  {
   "cell_type": "markdown",
   "metadata": {},
   "source": [
    "2178번 미로탐색 https://www.acmicpc.net/problem/2178"
   ]
  },
  {
   "cell_type": "code",
   "execution_count": 149,
   "metadata": {},
   "outputs": [
    {
     "name": "stdout",
     "output_type": "stream",
     "text": [
      "[2, 0, 6, 7, 8, 0, 12, 13, 14, 0, 18, 19, 20, 0, 24, 25, 26, 0, 30, 31, 32, 0, 36, 37, 38]\n",
      "[3, 4, 5, 0, 9, 10, 11, 0, 15, 16, 17, 0, 21, 22, 23, 0, 27, 28, 29, 0, 33, 34, 35, 0, 39]\n",
      "38\n"
     ]
    }
   ],
   "source": [
    "from collections import deque\n",
    "import sys\n",
    "\n",
    "N, M = map(int, input().split()) # N: 행의 수(y좌표) / M: 열의 수(x좌표)\n",
    "maze = []\n",
    "for _ in range(N):\n",
    "    maze.append(list(map(int, input())))\n",
    "\n",
    "dx = [-1, 1, 0, 0]\n",
    "dy = [0, 0, -1, 1]\n",
    "cnt = 2\n",
    "\n",
    "def bfs(maze, x, y, cnt):\n",
    "    queue = deque()\n",
    "    if maze[y][x] == 1:\n",
    "        maze[y][x] = cnt\n",
    "        queue.append([x, y])\n",
    "\n",
    "    while queue:\n",
    "        x, y = queue.popleft()\n",
    "        for i in range(4):\n",
    "            nx = x + dx[i]\n",
    "            ny = y + dy[i]\n",
    "            cnt = maze[y][x]\n",
    "            if 0 <= nx < M and 0 <= ny < N:\n",
    "                if maze[ny][nx] == 1 and [nx, ny] == [M-1, N-1]:\n",
    "                    maze[ny][nx] = cnt + 1\n",
    "                    # print(cnt)\n",
    "                    # for i in range(N):\n",
    "                    #     print(maze[i])\n",
    "                    # print('')\n",
    "                    return\n",
    "                elif maze[ny][nx] == 1:\n",
    "                    # print(cnt)\n",
    "                    # for i in range(N):\n",
    "                    #     print(maze[i])\n",
    "                    # print('')\n",
    "                    maze[ny][nx] = cnt + 1\n",
    "                    queue.append([nx, ny])\n",
    "bfs(maze, 0, 0, cnt)\n",
    "for i in range(N):\n",
    "    print(maze[i])\n",
    "print(maze[N-1][M-1] - 1)"
   ]
  },
  {
   "cell_type": "markdown",
   "metadata": {},
   "source": [
    "7576번 토마토 https://www.acmicpc.net/problem/7576"
   ]
  },
  {
   "cell_type": "code",
   "execution_count": 32,
   "metadata": {},
   "outputs": [
    {
     "name": "stdout",
     "output_type": "stream",
     "text": [
      "0"
     ]
    }
   ],
   "source": [
    "from collections import deque\n",
    "import sys\n",
    "import copy\n",
    "\n",
    "def bfs(field, queue):\n",
    "    K = len(queue)    \n",
    "    for _ in range(K):\n",
    "        x, y = queue.popleft()\n",
    "        for i in range(4):\n",
    "            nx = x + dx[i]\n",
    "            ny = y + dy[i]\n",
    "            if 0 <= nx < M and 0 <= ny < N:\n",
    "                if field[ny][nx] == 0:\n",
    "                    field[ny][nx] = 1\n",
    "                    queue.append([nx, ny])\n",
    "\n",
    "M, N = map(int, input().split()) # M : x좌표 / N : y좌표\n",
    "field = []\n",
    "for _ in range(N):\n",
    "    field.append(list(map(int, input().split())))\n",
    "\n",
    "dx = [-1, 1, 0, 0]\n",
    "dy = [0, 0, -1, 1]\n",
    "cnt = -1\n",
    "queue = deque()\n",
    "check0 = 0\n",
    "\n",
    "for x in range(M):\n",
    "    for y in range(N):\n",
    "        if field[y][x] == 1:\n",
    "            queue.append([x, y])\n",
    "check = len(queue)\n",
    "\n",
    "if check == 0:\n",
    "    sys.stdout.write(f'{-1}')\n",
    "else:\n",
    "    while True:\n",
    "        if cnt > -1:\n",
    "            if field == field_test:\n",
    "                break\n",
    "        field_test = copy.deepcopy(field)\n",
    "        bfs(field, queue)\n",
    "        cnt += 1\n",
    "    raw = 0\n",
    "    for i in range(N):\n",
    "        if 0 in field[i]:\n",
    "            raw += 1\n",
    "    if raw > 0:\n",
    "        sys.stdout.write(f'{-1}')\n",
    "    else:        \n",
    "        sys.stdout.write(f'{cnt}')"
   ]
  },
  {
   "cell_type": "code",
   "execution_count": 18,
   "metadata": {},
   "outputs": [
    {
     "name": "stdout",
     "output_type": "stream",
     "text": [
      "0\n",
      "[0, 0, 0, 0, 0, 0]\n",
      "[0, 0, 0, 0, 0, 0]\n",
      "[0, 0, 0, 0, 0, 1]\n",
      "[0, 0, 0, 0, 1, 1]\n",
      "\n",
      "1\n",
      "[0, 0, 0, 0, 0, 0]\n",
      "[0, 0, 0, 0, 0, 1]\n",
      "[0, 0, 0, 0, 1, 1]\n",
      "[0, 0, 0, 1, 1, 1]\n",
      "\n",
      "2\n",
      "[0, 0, 0, 0, 0, 1]\n",
      "[0, 0, 0, 0, 1, 1]\n",
      "[0, 0, 0, 1, 1, 1]\n",
      "[0, 0, 1, 1, 1, 1]\n",
      "\n",
      "3\n",
      "[0, 0, 0, 0, 1, 1]\n",
      "[0, 0, 0, 1, 1, 1]\n",
      "[0, 0, 1, 1, 1, 1]\n",
      "[0, 1, 1, 1, 1, 1]\n",
      "\n",
      "4\n",
      "[0, 0, 0, 1, 1, 1]\n",
      "[0, 0, 1, 1, 1, 1]\n",
      "[0, 1, 1, 1, 1, 1]\n",
      "[1, 1, 1, 1, 1, 1]\n",
      "\n",
      "5\n",
      "[0, 0, 1, 1, 1, 1]\n",
      "[0, 1, 1, 1, 1, 1]\n",
      "[1, 1, 1, 1, 1, 1]\n",
      "[1, 1, 1, 1, 1, 1]\n",
      "\n",
      "6\n",
      "[0, 1, 1, 1, 1, 1]\n",
      "[1, 1, 1, 1, 1, 1]\n",
      "[1, 1, 1, 1, 1, 1]\n",
      "[1, 1, 1, 1, 1, 1]\n",
      "\n",
      "7\n",
      "[1, 1, 1, 1, 1, 1]\n",
      "[1, 1, 1, 1, 1, 1]\n",
      "[1, 1, 1, 1, 1, 1]\n",
      "[1, 1, 1, 1, 1, 1]\n",
      "\n",
      "8\n",
      "[1, 1, 1, 1, 1, 1]\n",
      "[1, 1, 1, 1, 1, 1]\n",
      "[1, 1, 1, 1, 1, 1]\n",
      "[1, 1, 1, 1, 1, 1]\n",
      "\n"
     ]
    }
   ],
   "source": [
    "from collections import deque\n",
    "import sys\n",
    "import copy\n",
    "\n",
    "field = [[0, 0, 0, 0, 0, 0],\n",
    "         [0, 0, 0, 0, 0, 0],\n",
    "         [0, 0, 0, 0, 0, 0],\n",
    "         [0, 0, 0, 0, 0, 1]]\n",
    "\n",
    "dx = [-1, 1, 0, 0]\n",
    "dy = [0, 0, -1, 1]\n",
    "cnt = -1\n",
    "queue = deque()\n",
    "\n",
    "for x in range(M):\n",
    "    for y in range(N):\n",
    "        if field[y][x] == 1:\n",
    "            queue.append([x, y])\n",
    "\n",
    "def bfs(field, queue):\n",
    "    K = len(queue)    \n",
    "    for _ in range(K):\n",
    "        x, y = queue.popleft()\n",
    "        for i in range(4):\n",
    "            nx = x + dx[i]\n",
    "            ny = y + dy[i]\n",
    "            if 0 <= nx < M and 0 <= ny < N:\n",
    "                if field[ny][nx] == 0:\n",
    "                    field[ny][nx] = 1\n",
    "                    queue.append([nx, ny])\n",
    "\n",
    "while True:\n",
    "    if cnt > -1:\n",
    "        if field == field_test:\n",
    "            break\n",
    "    field_test = copy.deepcopy(field)\n",
    "    bfs(field, queue)\n",
    "    cnt += 1\n",
    "    print(cnt)\n",
    "    for i in range(N):\n",
    "        print(field[i])\n",
    "    print('')"
   ]
  }
 ],
 "metadata": {
  "interpreter": {
   "hash": "fe3bab233825460445dbfeea6dcd52ef5815a3fa13c858fea07ac830aa383284"
  },
  "kernelspec": {
   "display_name": "Python 3.8.10 64-bit ('base': conda)",
   "language": "python",
   "name": "python3"
  },
  "language_info": {
   "codemirror_mode": {
    "name": "ipython",
    "version": 3
   },
   "file_extension": ".py",
   "mimetype": "text/x-python",
   "name": "python",
   "nbconvert_exporter": "python",
   "pygments_lexer": "ipython3",
   "version": "3.8.10"
  },
  "orig_nbformat": 4
 },
 "nbformat": 4,
 "nbformat_minor": 2
}
