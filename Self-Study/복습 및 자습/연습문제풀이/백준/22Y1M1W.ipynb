{
 "cells": [
  {
   "cell_type": "markdown",
   "metadata": {},
   "source": [
    "1026번 보물 https://www.acmicpc.net/problem/1026"
   ]
  },
  {
   "cell_type": "code",
   "execution_count": 4,
   "metadata": {},
   "outputs": [
    {
     "name": "stdout",
     "output_type": "stream",
     "text": [
      "528\n"
     ]
    }
   ],
   "source": [
    "N = int(input())\n",
    "a_list = list(map(int, input().split()))\n",
    "b_list = list(map(int, input().split()))\n",
    "a_list.sort()\n",
    "b_list.sort(reverse = True)\n",
    "ans = 0\n",
    "for i in range(N):\n",
    "    ans += a_list[i] * b_list[i]\n",
    "print(ans)"
   ]
  },
  {
   "cell_type": "markdown",
   "metadata": {},
   "source": [
    "6603번 로또 https://www.acmicpc.net/problem/6603"
   ]
  },
  {
   "cell_type": "code",
   "execution_count": null,
   "metadata": {},
   "outputs": [],
   "source": [
    "import sys\n",
    "t = 0\n",
    "while True:\n",
    "    number_list = list(map(int, input().split()))\n",
    "    if number_list[0] == 0 and len(number_list) == 1:\n",
    "        break\n",
    "    if t > 0:\n",
    "        print('')\n",
    "    k = number_list[0]\n",
    "    n_list = number_list[1:]\n",
    "    n_list.sort()\n",
    "    arr = []\n",
    "    check = [False] * k\n",
    "    def dfs(start):\n",
    "        if len(arr) == 6:\n",
    "            print(*arr)\n",
    "            return\n",
    "        \n",
    "        for i in range(start, k):\n",
    "            if check[i]:\n",
    "                continue\n",
    "            \n",
    "            arr.append(n_list[i])\n",
    "            check[i] = True\n",
    "            \n",
    "            dfs(i)\n",
    "            arr.pop()\n",
    "            check[i] = False\n",
    "    dfs(0)\n",
    "    t += 1"
   ]
  },
  {
   "cell_type": "code",
   "execution_count": null,
   "metadata": {},
   "outputs": [],
   "source": [
    "1759번 암호만들기 https://www.acmicpc.net/problem/1759"
   ]
  },
  {
   "cell_type": "code",
   "execution_count": null,
   "metadata": {},
   "outputs": [],
   "source": [
    "L, C = map(int, input().split())\n",
    "alpha = input().split()\n",
    "alpha.sort()\n",
    "check_alpha = ['a', 'e', 'i', 'o', 'u']\n",
    "check = [False] * C\n",
    "arr = []\n",
    "cp_a, cp_b = 0, 0\n",
    "def dfs(start, cp_a, cp_b):\n",
    "    if len(arr) == L:  \n",
    "        if cp_a >= 1 and cp_b >= 2:\n",
    "            print(*arr, sep = '')\n",
    "        return\n",
    "    \n",
    "    for i in range(start, C):\n",
    "        if check[i]:\n",
    "            continue\n",
    "\n",
    "        arr.append(alpha[i])\n",
    "        if alpha[i] in check_alpha:\n",
    "            cp_a += 1\n",
    "        else:\n",
    "            cp_b += 1\n",
    "        check[i] = True\n",
    "\n",
    "        dfs(i, cp_a, cp_b)\n",
    "\n",
    "        t = arr.pop()\n",
    "        if t in check_alpha:\n",
    "            cp_a -= 1\n",
    "        else:\n",
    "            cp_b -= 1\n",
    "        check[i] = False\n",
    "dfs(0, cp_a, cp_b)"
   ]
  },
  {
   "cell_type": "markdown",
   "metadata": {},
   "source": [
    "2217번 로프 https://www.acmicpc.net/problem/2217"
   ]
  },
  {
   "cell_type": "code",
   "execution_count": 12,
   "metadata": {},
   "outputs": [
    {
     "data": {
      "text/plain": [
       "12"
      ]
     },
     "execution_count": 12,
     "metadata": {},
     "output_type": "execute_result"
    }
   ],
   "source": [
    "N = int(input())\n",
    "ropes = []\n",
    "for _ in range(N):\n",
    "    ropes.append(int(input()))\n",
    "ropes.sort()\n",
    "start = ropes[0]\n",
    "end = ropes[-1]\n",
    "value = -1\n",
    "while start <= end:\n",
    "    value_s = 0\n",
    "    for i in range(N):\n",
    "        if ropes[i] >= start:\n",
    "            value_s += start\n",
    "    if value_s > value:\n",
    "        value = value_s\n",
    "    start += 1\n",
    "value"
   ]
  },
  {
   "cell_type": "markdown",
   "metadata": {},
   "source": [
    "1699번 제곱수의 합 https://www.acmicpc.net/problem/1699"
   ]
  },
  {
   "cell_type": "code",
   "execution_count": 49,
   "metadata": {},
   "outputs": [
    {
     "data": {
      "text/plain": [
       "3"
      ]
     },
     "execution_count": 49,
     "metadata": {},
     "output_type": "execute_result"
    }
   ],
   "source": [
    "N = int(input())\n",
    "dp = [0, 1] + [x for x in range(2, N+1)]\n",
    "for i in range(2, N+1):\n",
    "    for k in range(1, int(N**(1/2))+1):\n",
    "        if dp[i] > dp[i - k**2] + 1:\n",
    "            dp[i] = dp[i - k**2] + 1\n",
    "print(dp[N])"
   ]
  }
 ],
 "metadata": {
  "interpreter": {
   "hash": "fe3bab233825460445dbfeea6dcd52ef5815a3fa13c858fea07ac830aa383284"
  },
  "kernelspec": {
   "display_name": "Python 3.8.10 64-bit ('base': conda)",
   "language": "python",
   "name": "python3"
  },
  "language_info": {
   "codemirror_mode": {
    "name": "ipython",
    "version": 3
   },
   "file_extension": ".py",
   "mimetype": "text/x-python",
   "name": "python",
   "nbconvert_exporter": "python",
   "pygments_lexer": "ipython3",
   "version": "3.8.10"
  },
  "orig_nbformat": 4
 },
 "nbformat": 4,
 "nbformat_minor": 2
}
