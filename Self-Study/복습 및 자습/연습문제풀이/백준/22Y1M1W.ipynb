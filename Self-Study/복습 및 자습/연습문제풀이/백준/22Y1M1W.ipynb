{
 "cells": [
  {
   "cell_type": "markdown",
   "metadata": {},
   "source": [
    "1026번 보물 https://www.acmicpc.net/problem/1026"
   ]
  },
  {
   "cell_type": "code",
   "execution_count": 4,
   "metadata": {},
   "outputs": [
    {
     "name": "stdout",
     "output_type": "stream",
     "text": [
      "528\n"
     ]
    }
   ],
   "source": [
    "N = int(input())\n",
    "a_list = list(map(int, input().split()))\n",
    "b_list = list(map(int, input().split()))\n",
    "a_list.sort()\n",
    "b_list.sort(reverse = True)\n",
    "ans = 0\n",
    "for i in range(N):\n",
    "    ans += a_list[i] * b_list[i]\n",
    "print(ans)"
   ]
  },
  {
   "cell_type": "markdown",
   "metadata": {},
   "source": [
    "6603번 로또 https://www.acmicpc.net/problem/6603"
   ]
  },
  {
   "cell_type": "code",
   "execution_count": null,
   "metadata": {},
   "outputs": [],
   "source": [
    "import sys\n",
    "t = 0\n",
    "while True:\n",
    "    number_list = list(map(int, input().split()))\n",
    "    if number_list[0] == 0 and len(number_list) == 1:\n",
    "        break\n",
    "    if t > 0:\n",
    "        print('')\n",
    "    k = number_list[0]\n",
    "    n_list = number_list[1:]\n",
    "    n_list.sort()\n",
    "    arr = []\n",
    "    check = [False] * k\n",
    "    def dfs(start):\n",
    "        if len(arr) == 6:\n",
    "            print(*arr)\n",
    "            return\n",
    "        \n",
    "        for i in range(start, k):\n",
    "            if check[i]:\n",
    "                continue\n",
    "            \n",
    "            arr.append(n_list[i])\n",
    "            check[i] = True\n",
    "            \n",
    "            dfs(i)\n",
    "            arr.pop()\n",
    "            check[i] = False\n",
    "    dfs(0)\n",
    "    t += 1"
   ]
  },
  {
   "cell_type": "code",
   "execution_count": null,
   "metadata": {},
   "outputs": [],
   "source": [
    "1759번 암호만들기 https://www.acmicpc.net/problem/1759"
   ]
  },
  {
   "cell_type": "code",
   "execution_count": null,
   "metadata": {},
   "outputs": [],
   "source": [
    "L, C = map(int, input().split())\n",
    "alpha = input().split()\n",
    "alpha.sort()\n",
    "check_alpha = ['a', 'e', 'i', 'o', 'u']\n",
    "check = [False] * C\n",
    "arr = []\n",
    "cp_a, cp_b = 0, 0\n",
    "def dfs(start, cp_a, cp_b):\n",
    "    if len(arr) == L:  \n",
    "        if cp_a >= 1 and cp_b >= 2:\n",
    "            print(*arr, sep = '')\n",
    "        return\n",
    "    \n",
    "    for i in range(start, C):\n",
    "        if check[i]:\n",
    "            continue\n",
    "\n",
    "        arr.append(alpha[i])\n",
    "        if alpha[i] in check_alpha:\n",
    "            cp_a += 1\n",
    "        else:\n",
    "            cp_b += 1\n",
    "        check[i] = True\n",
    "\n",
    "        dfs(i, cp_a, cp_b)\n",
    "\n",
    "        t = arr.pop()\n",
    "        if t in check_alpha:\n",
    "            cp_a -= 1\n",
    "        else:\n",
    "            cp_b -= 1\n",
    "        check[i] = False\n",
    "dfs(0, cp_a, cp_b)"
   ]
  },
  {
   "cell_type": "markdown",
   "metadata": {},
   "source": [
    "2217번 로프 https://www.acmicpc.net/problem/2217"
   ]
  },
  {
   "cell_type": "code",
   "execution_count": 12,
   "metadata": {},
   "outputs": [
    {
     "data": {
      "text/plain": [
       "12"
      ]
     },
     "execution_count": 12,
     "metadata": {},
     "output_type": "execute_result"
    }
   ],
   "source": [
    "N = int(input())\n",
    "ropes = []\n",
    "for _ in range(N):\n",
    "    ropes.append(int(input()))\n",
    "ropes.sort()\n",
    "start = ropes[0]\n",
    "end = ropes[-1]\n",
    "value = -1\n",
    "while start <= end:\n",
    "    value_s = 0\n",
    "    for i in range(N):\n",
    "        if ropes[i] >= start:\n",
    "            value_s += start\n",
    "    if value_s > value:\n",
    "        value = value_s\n",
    "    start += 1\n",
    "value"
   ]
  },
  {
   "cell_type": "markdown",
   "metadata": {},
   "source": [
    "1699번 제곱수의 합 https://www.acmicpc.net/problem/1699"
   ]
  },
  {
   "cell_type": "code",
   "execution_count": 49,
   "metadata": {},
   "outputs": [
    {
     "data": {
      "text/plain": [
       "3"
      ]
     },
     "execution_count": 49,
     "metadata": {},
     "output_type": "execute_result"
    }
   ],
   "source": [
    "N = int(input())\n",
    "dp = [0, 1] + [x for x in range(2, N+1)]\n",
    "for i in range(2, N+1):\n",
    "    for k in range(1, int(N**(1/2))+1):\n",
    "        if dp[i] > dp[i - k**2] + 1:\n",
    "            dp[i] = dp[i - k**2] + 1\n",
    "print(dp[N])"
   ]
  },
  {
   "cell_type": "markdown",
   "metadata": {},
   "source": [
    "1260번 DFS와 BFS https://www.acmicpc.net/problem/1260"
   ]
  },
  {
   "cell_type": "code",
   "execution_count": 199,
   "metadata": {},
   "outputs": [
    {
     "name": "stdout",
     "output_type": "stream",
     "text": [
      "1000\n",
      "1000\n"
     ]
    }
   ],
   "source": [
    "N, M, V = map(int, input().split())\n",
    "dic = dict()\n",
    "for _ in range(M):\n",
    "    key, value = map(int, input().split())\n",
    "    if key not in dic:\n",
    "        dic[key] = [value]\n",
    "    else:\n",
    "        dic[key].append(value)\n",
    "    if value not in dic:\n",
    "        dic[value] = [key]\n",
    "    else:\n",
    "        dic[value].append(key)\n",
    "\n",
    "for key, value in dic.items():\n",
    "    dic[key] = sorted(value)\n",
    "# print(dic)\n",
    "visited1 = []\n",
    "visited1.append(V)\n",
    "def dfs(V):\n",
    "    for line in dic[V]:\n",
    "        if line in visited1:\n",
    "            continue\n",
    "        visited1.append(line)\n",
    "        dfs(line)\n",
    "    return\n",
    "# print(dic)\n",
    "visited2 = []\n",
    "visited2.append(V)\n",
    "keys = []\n",
    "keys.append(V)\n",
    "def bfs(keys):\n",
    "    if len(keys) == 0:\n",
    "        return\n",
    "    keys_p = keys[:]\n",
    "    keys = []    \n",
    "    for i in keys_p:\n",
    "        for line in dic[i]:\n",
    "            if line not in visited2:\n",
    "                keys.append(line)\n",
    "            if line in visited2:\n",
    "                continue\n",
    "            visited2.append(line)\n",
    "    bfs(keys)\n",
    "if V not in dic:\n",
    "    print(V)\n",
    "    print(V)\n",
    "    pass\n",
    "else:\n",
    "    dfs(V)\n",
    "    print(*visited1)\n",
    "    bfs(keys)\n",
    "    print(*visited2)"
   ]
  },
  {
   "cell_type": "markdown",
   "metadata": {},
   "source": [
    "2606번 바이러스 https://www.acmicpc.net/problem/2606"
   ]
  },
  {
   "cell_type": "code",
   "execution_count": 209,
   "metadata": {},
   "outputs": [
    {
     "name": "stdout",
     "output_type": "stream",
     "text": [
      "4\n"
     ]
    }
   ],
   "source": [
    "N = int(input())\n",
    "T = int(input())\n",
    "graph = dict()\n",
    "for _ in range(T):\n",
    "    key, value = map(int, input().split())\n",
    "    if key in graph:\n",
    "        graph[key].append(value)\n",
    "    else:\n",
    "        graph[key] = [value]\n",
    "    if value in graph:\n",
    "        graph[value].append(key)\n",
    "    else:\n",
    "        graph[value] = [key]\n",
    "\n",
    "# dfs\n",
    "visited = [1]\n",
    "def dfs(key):\n",
    "    for line in graph[key]:\n",
    "        if line in visited:\n",
    "            continue\n",
    "        visited.append(line)\n",
    "        dfs(line)\n",
    "dfs(1)\n",
    "print(len(visited)-1)"
   ]
  },
  {
   "cell_type": "code",
   "execution_count": 221,
   "metadata": {},
   "outputs": [
    {
     "name": "stdout",
     "output_type": "stream",
     "text": [
      "4\n"
     ]
    }
   ],
   "source": [
    "N = int(input())\n",
    "T = int(input())\n",
    "graph = dict()\n",
    "for _ in range(T):\n",
    "    key, value = map(int, input().split())\n",
    "    if key in graph:\n",
    "        graph[key].append(value)\n",
    "    else:\n",
    "        graph[key] = [value]\n",
    "    if value in graph:\n",
    "        graph[value].append(key)\n",
    "    else:\n",
    "        graph[value] = [key]\n",
    "\n",
    "# bfs\n",
    "from collections import deque\n",
    "def bfs(graph, start):\n",
    "    visit = []\n",
    "    queue = deque([])\n",
    "    queue.append(start)\n",
    "\n",
    "    while queue:\n",
    "        node = queue.popleft()\n",
    "        if node not in visit:\n",
    "            visit.append(node)\n",
    "            queue.extend(graph[node])\n",
    "    return visit\n",
    "print(len(bfs(graph, 1)) -1)"
   ]
  },
  {
   "cell_type": "code",
   "execution_count": 216,
   "metadata": {},
   "outputs": [
    {
     "name": "stdout",
     "output_type": "stream",
     "text": [
      "['A', 'B', 'H', 'M', 'J', 'K', 'L', 'I', 'C', 'D', 'G', 'E', 'F']\n",
      "['A', 'B', 'C', 'H', 'D', 'I', 'J', 'M', 'E', 'G', 'K', 'F', 'L']\n"
     ]
    }
   ],
   "source": [
    "# BFS 구현\n",
    "graph = {\n",
    "    'A': ['B'],\n",
    "    'B': ['A', 'C', 'H'],\n",
    "    'C': ['B', 'D'],\n",
    "    'D': ['C', 'E', 'G'],\n",
    "    'E': ['D', 'F'],\n",
    "    'F': ['E'],\n",
    "    'G': ['D'],\n",
    "    'H': ['B', 'I', 'J', 'M'],\n",
    "    'I': ['H'],\n",
    "    'J': ['H', 'K'],\n",
    "    'K': ['J', 'L'],\n",
    "    'L': ['K'],\n",
    "    'M': ['H']\n",
    "}\n",
    "\n",
    "def dfs(graph, start_node):\n",
    "    visit = []\n",
    "    stack = []\n",
    "    \n",
    "    stack.append(start_node)\n",
    "\n",
    "    while stack:\n",
    "        node = stack.pop()\n",
    "        if node not in visit:\n",
    "            visit.append(node)\n",
    "            stack.extend(graph[node])\n",
    "    return visit\n",
    "\n",
    "from collections import deque\n",
    "def bfs(graph, start_node):\n",
    "    visit = list()\n",
    "    queue = deque([])\n",
    "\n",
    "    queue.append(start_node)\n",
    "\n",
    "    while queue:\n",
    "        node = queue.popleft()\n",
    "        if node not in visit:\n",
    "            visit.append(node)\n",
    "            queue.extend(graph[node])\n",
    "    return visit\n",
    "\n",
    "print(dfs(graph, 'A'))\n",
    "print(bfs(graph, 'A'))"
   ]
  },
  {
   "cell_type": "markdown",
   "metadata": {},
   "source": [
    "2667번 단지번호 붙이기 https://www.acmicpc.net/problem/2667\n",
    "0110100\n",
    "0110101\n",
    "1110101\n",
    "0000111\n",
    "0100000\n",
    "0111110\n",
    "0111000"
   ]
  },
  {
   "cell_type": "code",
   "execution_count": 233,
   "metadata": {},
   "outputs": [],
   "source": [
    "N = int(input())\n",
    "arr = []\n",
    "for _ in range(N):\n",
    "    arr.append(input())"
   ]
  },
  {
   "cell_type": "code",
   "execution_count": 235,
   "metadata": {},
   "outputs": [
    {
     "data": {
      "text/plain": [
       "[[False, False, False, False, False, False, False],\n",
       " [False, False, False, False, False, False, False],\n",
       " [False, False, False, False, False, False, False],\n",
       " [False, False, False, False, False, False, False],\n",
       " [False, False, False, False, False, False, False],\n",
       " [False, False, False, False, False, False, False],\n",
       " [False, False, False, False, False, False, False]]"
      ]
     },
     "execution_count": 235,
     "metadata": {},
     "output_type": "execute_result"
    }
   ],
   "source": [
    "start = [0, 0]\n",
    "def dfs(arr, start):\n",
    "    visit = [[False] * (N)] * (N)\n",
    "    stack = []\n",
    "\n",
    "    stack.append(start)\n",
    "    while stack:\n",
    "        cp = stack.pop\n",
    "        if arr[cp[0]][cp[1]] == 1:\n",
    "            if visit[cp[0]][cp[1]]:\n",
    "                continue\n",
    "            visit[cp[0]][cp[1]] = True\n",
    "            if cp[0] != 0 and cp[1] != 0 and cp[0] != N-1 and cp[1] != N-1:\n",
    "                stack.append([cp[0]-1, cp[1]])\n",
    "                stack.append([cp[0]+1, cp[1]])\n",
    "                stack.append([cp[0], cp[1]-1])\n",
    "                stack.append([cp[0], cp[1]+1])\n",
    "            elif cp[0] == 0:\n",
    "                stack    \n"
   ]
  }
 ],
 "metadata": {
  "interpreter": {
   "hash": "fe3bab233825460445dbfeea6dcd52ef5815a3fa13c858fea07ac830aa383284"
  },
  "kernelspec": {
   "display_name": "Python 3.8.10 64-bit ('base': conda)",
   "language": "python",
   "name": "python3"
  },
  "language_info": {
   "codemirror_mode": {
    "name": "ipython",
    "version": 3
   },
   "file_extension": ".py",
   "mimetype": "text/x-python",
   "name": "python",
   "nbconvert_exporter": "python",
   "pygments_lexer": "ipython3",
   "version": "3.8.10"
  },
  "orig_nbformat": 4
 },
 "nbformat": 4,
 "nbformat_minor": 2
}
