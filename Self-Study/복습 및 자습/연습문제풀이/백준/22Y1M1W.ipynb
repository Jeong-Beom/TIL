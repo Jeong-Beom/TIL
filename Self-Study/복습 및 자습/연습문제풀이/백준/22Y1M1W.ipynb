{
 "cells": [
  {
   "cell_type": "markdown",
   "metadata": {},
   "source": [
    "1026번 보물 https://www.acmicpc.net/problem/1026"
   ]
  },
  {
   "cell_type": "code",
   "execution_count": 4,
   "metadata": {},
   "outputs": [
    {
     "name": "stdout",
     "output_type": "stream",
     "text": [
      "528\n"
     ]
    }
   ],
   "source": [
    "N = int(input())\n",
    "a_list = list(map(int, input().split()))\n",
    "b_list = list(map(int, input().split()))\n",
    "a_list.sort()\n",
    "b_list.sort(reverse = True)\n",
    "ans = 0\n",
    "for i in range(N):\n",
    "    ans += a_list[i] * b_list[i]\n",
    "print(ans)"
   ]
  },
  {
   "cell_type": "markdown",
   "metadata": {},
   "source": [
    "6603번 로또 https://www.acmicpc.net/problem/6603"
   ]
  },
  {
   "cell_type": "code",
   "execution_count": null,
   "metadata": {},
   "outputs": [],
   "source": [
    "import sys\n",
    "t = 0\n",
    "while True:\n",
    "    number_list = list(map(int, input().split()))\n",
    "    if number_list[0] == 0 and len(number_list) == 1:\n",
    "        break\n",
    "    if t > 0:\n",
    "        print('')\n",
    "    k = number_list[0]\n",
    "    n_list = number_list[1:]\n",
    "    n_list.sort()\n",
    "    arr = []\n",
    "    check = [False] * k\n",
    "    def dfs(start):\n",
    "        if len(arr) == 6:\n",
    "            print(*arr)\n",
    "            return\n",
    "        \n",
    "        for i in range(start, k):\n",
    "            if check[i]:\n",
    "                continue\n",
    "            \n",
    "            arr.append(n_list[i])\n",
    "            check[i] = True\n",
    "            \n",
    "            dfs(i)\n",
    "            arr.pop()\n",
    "            check[i] = False\n",
    "    dfs(0)\n",
    "    t += 1"
   ]
  },
  {
   "cell_type": "code",
   "execution_count": null,
   "metadata": {},
   "outputs": [],
   "source": [
    "1759번 암호만들기 https://www.acmicpc.net/problem/1759"
   ]
  },
  {
   "cell_type": "markdown",
   "metadata": {},
   "source": [
    "a t c i s w\n",
    "4 6"
   ]
  },
  {
   "cell_type": "code",
   "execution_count": 30,
   "metadata": {},
   "outputs": [
    {
     "name": "stdout",
     "output_type": "stream",
     "text": [
      "a c i s\n",
      "a c i t\n",
      "a c i w\n",
      "a c s t\n",
      "a c s w\n",
      "a c t w\n",
      "a i s t\n",
      "a i s w\n",
      "a i t w\n",
      "a s t w\n",
      "c i s t\n",
      "c i s w\n",
      "c i t w\n",
      "i s t w\n"
     ]
    }
   ],
   "source": [
    "import sys\n",
    "L, C = map(int, input().split())\n",
    "alpha = input().split()\n",
    "alpha.sort()\n",
    "check_alpha = ['a', 'e', 'i', 'o', 'u']\n",
    "check = [False] * C\n",
    "arr = []\n",
    "cp_a, cp_b = 0, 0\n",
    "def dfs(start, cp_a, cp_b):\n",
    "    if len(arr) == L:  \n",
    "        if cp_a >= 1 and cp_b >= 2:\n",
    "            print(*arr)\n",
    "        return\n",
    "    \n",
    "    for i in range(start, C):\n",
    "        if check[i]:\n",
    "            continue\n",
    "\n",
    "        arr.append(alpha[i])\n",
    "        if alpha[i] in check_alpha:\n",
    "            cp_a += 1\n",
    "        else:\n",
    "            cp_b += 1\n",
    "        check[i] = True\n",
    "\n",
    "        dfs(i, cp_a, cp_b)\n",
    "\n",
    "        t = arr.pop()\n",
    "        if t in check_alpha:\n",
    "            cp_a -= 1\n",
    "        else:\n",
    "            cp_b -= 1\n",
    "        check[i] = False\n",
    "dfs(0, cp_a, cp_b)"
   ]
  }
 ],
 "metadata": {
  "interpreter": {
   "hash": "fe3bab233825460445dbfeea6dcd52ef5815a3fa13c858fea07ac830aa383284"
  },
  "kernelspec": {
   "display_name": "Python 3.8.10 64-bit ('base': conda)",
   "language": "python",
   "name": "python3"
  },
  "language_info": {
   "codemirror_mode": {
    "name": "ipython",
    "version": 3
   },
   "file_extension": ".py",
   "mimetype": "text/x-python",
   "name": "python",
   "nbconvert_exporter": "python",
   "pygments_lexer": "ipython3",
   "version": "3.8.10"
  },
  "orig_nbformat": 4
 },
 "nbformat": 4,
 "nbformat_minor": 2
}
