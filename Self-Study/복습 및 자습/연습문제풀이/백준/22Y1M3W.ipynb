{
 "cells": [
  {
   "cell_type": "markdown",
   "metadata": {},
   "source": [
    "9370번 미확인 도착지 https://www.acmicpc.net/problem/9370"
   ]
  },
  {
   "cell_type": "code",
   "execution_count": null,
   "metadata": {},
   "outputs": [],
   "source": [
    "import sys\n",
    "import heapq\n",
    "\n",
    "def dijstra(start):\n",
    "    dp = [float('inf') for _ in range(n+1)]\n",
    "    heap = []\n",
    "    dp[start] = 0\n",
    "    heapq.heappush(heap, [0, start])\n",
    "    \n",
    "    while heap:\n",
    "        wei, cp = heapq.heappop(heap)\n",
    "        for cp_n in graph[cp]:\n",
    "            wei_cp, cp_cp = cp_n[0], cp_n[1]\n",
    "            check_wei = wei + wei_cp\n",
    "            if check_wei < dp[cp_cp]:\n",
    "                dp[cp_cp] = check_wei\n",
    "                heapq.heappush(heap, [dp[cp_cp], cp_cp])\n",
    "\n",
    "    return dp\n",
    "\n",
    "def min_distance(start, cp1, cp2, dt):\n",
    "    distance1 = distance_dic[start][cp1] + distance_dic[cp1][cp2] + distance_dic[cp2][dt]\n",
    "    distance2 = distance_dic[start][cp2] + distance_dic[cp2][cp1] + distance_dic[cp1][dt]\n",
    "    return min(distance1, distance2)\n",
    "\n",
    "T = int(input())\n",
    "# T = int(sys.stdin.readline())\n",
    "for _ in range(T):\n",
    "    n, m, t = map(int, input().split()) # n: 교차로 수(정점) / m: 도로 수(간선) / t: 목적지 후보의 개수\n",
    "    # n, m, t = map(int, sys.stdin.readline().split()) # n: 교차로 수(정점) / m: 도로 수(간선) / t: 목적지 후보의 개수\n",
    "    s, g, h = map(int, input().split()) # s: 출발지점 / g, h : 반드시 지나야하는 경로 \n",
    "    # s, g, h = map(int, sys.stdin.readline().split()) # s: 출발지점 / g, h : 반드시 지나야하는 경로 \n",
    "    graph = [[] for _ in range(n+1)]\n",
    "    for _ in range(m):\n",
    "        a, b, d = map(int, input().split()) # a, b : 서로 이어진 정점(양방향) / d : 간선의 가중치\n",
    "        # a, b, d = map(int, sys.stdin.readline().split()) # a, b : 서로 이어진 정점(양방향) / d : 간선의 가중치\n",
    "        graph[a].append([d, b])\n",
    "        graph[b].append([d, a])\n",
    "\n",
    "    distance_dic = dict()\n",
    "    ans = []\n",
    "    distance_dic[s] = dijstra(s)\n",
    "    distance_dic[g] = dijstra(g)\n",
    "    distance_dic[h] = dijstra(h)\n",
    "    for _ in range(t):\n",
    "        dt = int(input())\n",
    "        # dt = int(sys.stdin.readline())\n",
    "        distance_dic[dt] = dijstra(dt)\n",
    "        if min_distance(s, g, h, dt) == distance_dic[s][dt] and distance_dic[s][dt] != float('inf'):\n",
    "            ans.append(dt)\n",
    "    ans.sort()\n",
    "    print(*ans)"
   ]
  },
  {
   "cell_type": "markdown",
   "metadata": {},
   "source": [
    "2146번 다리만들기 https://www.acmicpc.net/problem/2146"
   ]
  },
  {
   "cell_type": "code",
   "execution_count": 127,
   "metadata": {},
   "outputs": [
    {
     "name": "stdout",
     "output_type": "stream",
     "text": [
      "2\n"
     ]
    }
   ],
   "source": [
    "from collections import deque\n",
    "import sys\n",
    "\n",
    "# input = sys.stdin.readline\n",
    "N = int(input())\n",
    "field = []\n",
    "for _ in range(N):\n",
    "    field.append(list(map(int, input().split())))\n",
    "\n",
    "dx = [-1, 1, 0, 0]\n",
    "dy = [0, 0, -1, 1]\n",
    "visited = [[False for _ in range(N)] for _ in range(N)]\n",
    "length = [[0 for _ in range(N)] for _ in range(N)]\n",
    "queue = deque()\n",
    "\n",
    "def check_island(x, y, island_num):\n",
    "    island = deque()\n",
    "    visited[y][x] = True\n",
    "    island.append([x, y])\n",
    "    field[y][x] = island_num\n",
    "    queue.append([x, y, island_num])\n",
    "\n",
    "    while island:\n",
    "        x, y = island.popleft()\n",
    "        for i in range(4):\n",
    "            nx = x + dx[i]\n",
    "            ny = y + dy[i]\n",
    "            if 0 <= nx < N and 0 <= ny < N:\n",
    "                if field[ny][nx] == 1 and visited[ny][nx] == False:\n",
    "                    field[ny][nx] = island_num\n",
    "                    visited[ny][nx] = True\n",
    "                    island.append([nx, ny])\n",
    "                    queue.append([nx, ny, island_num])\n",
    "\n",
    "def bridge():\n",
    "    ans_list = []\n",
    "    for _ in range(len(queue)):\n",
    "        x, y, island_num = queue.popleft()\n",
    "        for i in range(4):\n",
    "            nx = x + dx[i]\n",
    "            ny = y + dy[i]\n",
    "            if 0 <= nx < N and 0 <= ny < N:\n",
    "                if field[ny][nx] == 0 and visited[ny][nx] == False:\n",
    "                    visited[ny][nx] = True\n",
    "                    field[ny][nx] = island_num\n",
    "                    length[ny][nx] = cnt\n",
    "                    queue.append([nx, ny, island_num])\n",
    "                if field[ny][nx] != 0 and island_num != field[ny][nx]:\n",
    "                    ans_list.append(length[ny][nx] + length[y][x])\n",
    "    if len(ans_list) != 0:\n",
    "        return min(ans_list)\n",
    "    return 0\n",
    "\n",
    "island_num = 1\n",
    "queue = deque()\n",
    "for i in range(N):\n",
    "    for k in range(N):\n",
    "        if field[k][i] == 1 and visited[k][i] == False:\n",
    "            check_island(i, k, island_num)\n",
    "            island_num += 1\n",
    "\n",
    "ans = 0\n",
    "cnt = 0\n",
    "while ans == 0:\n",
    "    cnt += 1\n",
    "    ans = bridge()\n",
    "print(ans)"
   ]
  },
  {
   "cell_type": "markdown",
   "metadata": {},
   "source": [
    "11404번 플로이드 https://www.acmicpc.net/problem/11404"
   ]
  },
  {
   "cell_type": "code",
   "execution_count": 19,
   "metadata": {},
   "outputs": [
    {
     "name": "stdout",
     "output_type": "stream",
     "text": [
      "0 2 3 1 4\n",
      "12 0 15 2 5\n",
      "8 5 0 1 1\n",
      "10 7 13 0 3\n",
      "7 4 10 6 0\n"
     ]
    }
   ],
   "source": [
    "# 다익스트라 알고리즘 이용 - 시간초과\n",
    "import heapq\n",
    "import sys\n",
    "\n",
    "# input = sys.stdin.readline\n",
    "N = int(input())\n",
    "M = int(input())\n",
    "graph = [[] for _ in range(N+1)]\n",
    "\n",
    "for _ in range(M):\n",
    "    a, b, c = map(int, input().split())\n",
    "    graph[a].append([c, b])\n",
    "\n",
    "def dijstra(start):\n",
    "    heap = []\n",
    "    heapq.heappush(heap, [0, start])\n",
    "    dp = [float('inf') for _ in range(N+1)]\n",
    "    dp[start] = 0\n",
    "\n",
    "    while heap:\n",
    "        wei, cp1 = heapq.heappop(heap)\n",
    "        for line in graph[cp1]:\n",
    "            wei_n, cp2 = map(int, line)\n",
    "            if wei + wei_n < dp[cp2]:\n",
    "                dp[cp2] = wei + wei_n\n",
    "                heapq.heappush(heap, [wei + wei_n, cp2])\n",
    "\n",
    "    for i in range(1, N+1):\n",
    "        if dp[i] == float('inf'):\n",
    "            dp[i] = 0\n",
    "\n",
    "    print(*dp[1:])\n",
    "    # return dp[1:]\n",
    "\n",
    "# ans = []\n",
    "for i in range(1, N+1):\n",
    "    dijstra(i))\n",
    "    # ans.append(dijstra(i))"
   ]
  },
  {
   "cell_type": "code",
   "execution_count": 52,
   "metadata": {},
   "outputs": [
    {
     "name": "stdout",
     "output_type": "stream",
     "text": [
      "0 2 3 1 4\n",
      "12 0 15 2 5\n",
      "8 5 0 1 1\n",
      "10 7 13 0 3\n",
      "7 4 10 6 0\n"
     ]
    }
   ],
   "source": [
    "# 플로이드-와샬 알고리즘\n",
    "\n",
    "import sys\n",
    "\n",
    "# input = sys.stdin.readline\n",
    "N = int(input())\n",
    "M = int(input())\n",
    "graph = [[float('inf') for _ in range(N+1)] for _ in range(N+1)]\n",
    "\n",
    "for _ in range(M):\n",
    "    a, b, c = map(int, input().split())\n",
    "    if graph[a][b] > c:\n",
    "        graph[a][b] = c\n",
    "\n",
    "for i in range(1, N+1):\n",
    "    graph[i][i] = 0\n",
    "\n",
    "def Floyd_Warshall(graph):\n",
    "    dp = graph[:]\n",
    "    for cp in range(1, N+1):\n",
    "        for start in range(1, N+1):\n",
    "            for end in range(1, N+1):\n",
    "                if dp[start][end] > dp[start][cp] + dp[cp][end]:\n",
    "                    dp[start][end] =  dp[start][cp] + dp[cp][end]\n",
    "    return dp\n",
    "ans = Floyd_Warshall(graph)\n",
    "for i in range(1, N+1):\n",
    "    print(*ans[i][1:])"
   ]
  }
 ],
 "metadata": {
  "interpreter": {
   "hash": "fe3bab233825460445dbfeea6dcd52ef5815a3fa13c858fea07ac830aa383284"
  },
  "kernelspec": {
   "display_name": "Python 3.8.10 64-bit ('base': conda)",
   "language": "python",
   "name": "python3"
  },
  "language_info": {
   "codemirror_mode": {
    "name": "ipython",
    "version": 3
   },
   "file_extension": ".py",
   "mimetype": "text/x-python",
   "name": "python",
   "nbconvert_exporter": "python",
   "pygments_lexer": "ipython3",
   "version": "3.8.10"
  },
  "orig_nbformat": 4
 },
 "nbformat": 4,
 "nbformat_minor": 2
}
