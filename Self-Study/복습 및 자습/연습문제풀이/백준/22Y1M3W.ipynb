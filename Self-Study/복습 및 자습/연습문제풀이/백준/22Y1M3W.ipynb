{
 "cells": [
  {
   "cell_type": "markdown",
   "metadata": {},
   "source": [
    "9370번 미확인 도착지 https://www.acmicpc.net/problem/9370"
   ]
  },
  {
   "cell_type": "code",
   "execution_count": null,
   "metadata": {},
   "outputs": [],
   "source": [
    "import sys\n",
    "import heapq\n",
    "\n",
    "def dijstra(start):\n",
    "    dp = [float('inf') for _ in range(n+1)]\n",
    "    heap = []\n",
    "    dp[start] = 0\n",
    "    heapq.heappush(heap, [0, start])\n",
    "    \n",
    "    while heap:\n",
    "        wei, cp = heapq.heappop(heap)\n",
    "        for cp_n in graph[cp]:\n",
    "            wei_cp, cp_cp = cp_n[0], cp_n[1]\n",
    "            check_wei = wei + wei_cp\n",
    "            if check_wei < dp[cp_cp]:\n",
    "                dp[cp_cp] = check_wei\n",
    "                heapq.heappush(heap, [dp[cp_cp], cp_cp])\n",
    "\n",
    "    return dp\n",
    "\n",
    "def min_distance(start, cp1, cp2, dt):\n",
    "    distance1 = distance_dic[start][cp1] + distance_dic[cp1][cp2] + distance_dic[cp2][dt]\n",
    "    distance2 = distance_dic[start][cp2] + distance_dic[cp2][cp1] + distance_dic[cp1][dt]\n",
    "    return min(distance1, distance2)\n",
    "\n",
    "T = int(input())\n",
    "# T = int(sys.stdin.readline())\n",
    "for _ in range(T):\n",
    "    n, m, t = map(int, input().split()) # n: 교차로 수(정점) / m: 도로 수(간선) / t: 목적지 후보의 개수\n",
    "    # n, m, t = map(int, sys.stdin.readline().split()) # n: 교차로 수(정점) / m: 도로 수(간선) / t: 목적지 후보의 개수\n",
    "    s, g, h = map(int, input().split()) # s: 출발지점 / g, h : 반드시 지나야하는 경로 \n",
    "    # s, g, h = map(int, sys.stdin.readline().split()) # s: 출발지점 / g, h : 반드시 지나야하는 경로 \n",
    "    graph = [[] for _ in range(n+1)]\n",
    "    for _ in range(m):\n",
    "        a, b, d = map(int, input().split()) # a, b : 서로 이어진 정점(양방향) / d : 간선의 가중치\n",
    "        # a, b, d = map(int, sys.stdin.readline().split()) # a, b : 서로 이어진 정점(양방향) / d : 간선의 가중치\n",
    "        graph[a].append([d, b])\n",
    "        graph[b].append([d, a])\n",
    "\n",
    "    distance_dic = dict()\n",
    "    ans = []\n",
    "    distance_dic[s] = dijstra(s)\n",
    "    distance_dic[g] = dijstra(g)\n",
    "    distance_dic[h] = dijstra(h)\n",
    "    for _ in range(t):\n",
    "        dt = int(input())\n",
    "        # dt = int(sys.stdin.readline())\n",
    "        distance_dic[dt] = dijstra(dt)\n",
    "        if min_distance(s, g, h, dt) == distance_dic[s][dt] and distance_dic[s][dt] != float('inf'):\n",
    "            ans.append(dt)\n",
    "    ans.sort()\n",
    "    print(*ans)"
   ]
  }
 ],
 "metadata": {
  "language_info": {
   "name": "python"
  },
  "orig_nbformat": 4
 },
 "nbformat": 4,
 "nbformat_minor": 2
}
