{
 "cells": [
  {
   "cell_type": "markdown",
   "metadata": {},
   "source": [
    "문제\n",
    "트럭을 타고 이동하던 상근이는 경찰의 검문을 받게 되었다. 경찰은 상근이가 운반하던 화물을 하나하나 모두 확인할 것이기 때문에, 검문하는데 엄청나게 오랜 시간이 걸린다.\n",
    "상근이는 시간을 때우기 위해서 수학 게임을 하기로 했다.\n",
    "먼저 근처에 보이는 숫자 N개를 종이에 적는다. 그 다음, 종이에 적은 수를 M으로 나누었을 때, \n",
    "나머지가 모두 같게 되는 M을 모두 찾으려고 한다. M은 1보다 커야 한다. N개의 수가 주어졌을 때, 가능한 M을 모두 찾는 프로그램을 작성하시오.\n",
    "\n",
    "입력\n",
    "첫째 줄에 종이에 적은 수의 개수 N이 주어진다. (2 ≤ N ≤ 100)\n",
    "\n",
    "다음 줄부터 N개 줄에는 종이에 적은 수가 하나씩 주어진다. 이 수는 모두 1보다 크거나 같고, 1,000,000,000보다 작거나 같은 자연수이다. 같은 수가 두 번 이상 주어지지 않는다.\n",
    "\n",
    "항상 M이 하나 이상 존재하는 경우만 입력으로 주어진다.\n",
    "\n",
    "출력\n",
    "첫째 줄에 가능한 M을 공백으로 구분하여 모두 출력한다. 이때, M은 증가하는 순서이어야 한다."
   ]
  },
  {
   "cell_type": "code",
   "execution_count": 1,
   "metadata": {},
   "outputs": [],
   "source": [
    "N = int(input())\n",
    "number_list = [int(input()) for  _ in range(N)]\n",
    "r_list = []\n",
    "i = 2\n",
    "check_num = max(number_list)\n",
    "while i <= check_num: \n",
    "    value = number_list[0] % i\n",
    "    for k in range(1, N):\n",
    "        if value == (number_list[k] % i):\n",
    "            if k == N-1:\n",
    "                r_list.append(i)\n",
    "        else:\n",
    "            break\n",
    "    i += 1\n",
    "print(*r_list)"
   ]
  },
  {
   "cell_type": "code",
   "execution_count": 259,
   "metadata": {},
   "outputs": [
    {
     "name": "stdout",
     "output_type": "stream",
     "text": [
      "3\n"
     ]
    }
   ],
   "source": [
    "# import sys\n",
    "# input = sys.stdin.readline\n",
    "N = int(input())\n",
    "number_list = [int(input()) for  _ in range(N)]\n",
    "check_list = [False] * N\n",
    "arr = []\n",
    "r_list = []\n",
    "def dfs(start): # dfs를 활용하여 두개의 숫자조합 및 가능한 차이값 추출\n",
    "    if len(arr) == 2:\n",
    "        r_list.append(abs(arr[0]-arr[1]))\n",
    "        return\n",
    "\n",
    "    for i in range(start, N):\n",
    "        if check_list[i]:\n",
    "            continue\n",
    "\n",
    "        arr.append(number_list[i])\n",
    "        check_list[i] = True\n",
    "\n",
    "        dfs(i)\n",
    "\n",
    "        arr.pop()\n",
    "        check_list[i] = False\n",
    "dfs(0)\n",
    "r_list = list(set(r_list)) # 차이값 중 중복되는 값들 제거\n",
    "\n",
    "result = r_list[0]\n",
    "def euclid(num1, num2): # 큰 수, 작은 수 순으로 입력\n",
    "    num3 = num1 % num2\n",
    "    if num3 == 0:\n",
    "        return num2\n",
    "    else:\n",
    "        result = euclid(num2, num3)\n",
    "        return result\n",
    "\n",
    "for i in range(1, len(r_list)): # 유클리드 호제법을 활용하여 최대공약수 추출\n",
    "    if result > r_list[i]:\n",
    "        result = euclid(result, r_list[i])\n",
    "    else:\n",
    "        result = euclid(r_list[i], result)\n",
    "\n",
    "\n",
    "answer = []\n",
    "for check in range(2, int(result**(1/2) + 1)):\n",
    "    if result % check == 0:\n",
    "        answer.append(check)\n",
    "        answer.append(result // check)\n",
    "answer.append(result)\n",
    "answer = list(set(answer))\n",
    "answer.sort()\n",
    "print(*answer)"
   ]
  },
  {
   "cell_type": "code",
   "execution_count": 258,
   "metadata": {},
   "outputs": [
    {
     "name": "stdout",
     "output_type": "stream",
     "text": [
      "2 4\n"
     ]
    }
   ],
   "source": [
    "number_list = [5, 17, 23, 14, 83]\n",
    "number_list = [6, 34, 38]\n",
    "N = len(number_list)\n",
    "check_list = [False] * N\n",
    "arr = []\n",
    "r_list = []\n",
    "def dfs(start): # dfs를 활용하여 두개의 숫자조합 및 가능한 차이값 추출\n",
    "    if len(arr) == 2:\n",
    "        r_list.append(abs(arr[0]-arr[1]))\n",
    "        return\n",
    "\n",
    "    for i in range(start, N):\n",
    "        if check_list[i]:\n",
    "            continue\n",
    "\n",
    "        arr.append(number_list[i])\n",
    "        check_list[i] = True\n",
    "\n",
    "        dfs(i)\n",
    "\n",
    "        arr.pop()\n",
    "        check_list[i] = False\n",
    "dfs(0)\n",
    "r_list = list(set(r_list)) # 차이값 중 중복되는 값들 제거\n",
    "\n",
    "result = r_list[0]\n",
    "def euclid(num1, num2): # 큰 수, 작은 수 순으로 입력\n",
    "    num3 = num1 % num2\n",
    "    if num3 == 0:\n",
    "        return num2\n",
    "    else:\n",
    "        result = euclid(num2, num3)\n",
    "        return result\n",
    "\n",
    "for i in range(1, len(r_list)): # 유클리드 호제법을 활용하여 최대공약수 추출\n",
    "    if result > r_list[i]:\n",
    "        result = euclid(result, r_list[i])\n",
    "    else:\n",
    "        result = euclid(r_list[i], result)\n",
    "\n",
    "\n",
    "answer = []\n",
    "for check in range(2, int(result**(1/2) + 1)):\n",
    "    if result % check == 0:\n",
    "        answer.append(check)\n",
    "        answer.append(result // check)\n",
    "answer.append(result)\n",
    "answer = list(set(answer))\n",
    "answer.sort()\n",
    "print(*answer)"
   ]
  }
 ],
 "metadata": {
  "interpreter": {
   "hash": "fe3bab233825460445dbfeea6dcd52ef5815a3fa13c858fea07ac830aa383284"
  },
  "kernelspec": {
   "display_name": "Python 3.8.10 64-bit ('base': conda)",
   "language": "python",
   "name": "python3"
  },
  "language_info": {
   "codemirror_mode": {
    "name": "ipython",
    "version": 3
   },
   "file_extension": ".py",
   "mimetype": "text/x-python",
   "name": "python",
   "nbconvert_exporter": "python",
   "pygments_lexer": "ipython3",
   "version": "3.8.10"
  },
  "orig_nbformat": 4
 },
 "nbformat": 4,
 "nbformat_minor": 2
}
