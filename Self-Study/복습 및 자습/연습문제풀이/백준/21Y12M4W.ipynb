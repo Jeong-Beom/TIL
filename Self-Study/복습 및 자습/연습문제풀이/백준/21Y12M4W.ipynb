{
 "cells": [
  {
   "cell_type": "markdown",
   "metadata": {},
   "source": [
    "문제\n",
    "트럭을 타고 이동하던 상근이는 경찰의 검문을 받게 되었다. 경찰은 상근이가 운반하던 화물을 하나하나 모두 확인할 것이기 때문에, 검문하는데 엄청나게 오랜 시간이 걸린다.\n",
    "상근이는 시간을 때우기 위해서 수학 게임을 하기로 했다.\n",
    "먼저 근처에 보이는 숫자 N개를 종이에 적는다. 그 다음, 종이에 적은 수를 M으로 나누었을 때, \n",
    "나머지가 모두 같게 되는 M을 모두 찾으려고 한다. M은 1보다 커야 한다. N개의 수가 주어졌을 때, 가능한 M을 모두 찾는 프로그램을 작성하시오.\n",
    "\n",
    "입력\n",
    "첫째 줄에 종이에 적은 수의 개수 N이 주어진다. (2 ≤ N ≤ 100)\n",
    "\n",
    "다음 줄부터 N개 줄에는 종이에 적은 수가 하나씩 주어진다. 이 수는 모두 1보다 크거나 같고, 1,000,000,000보다 작거나 같은 자연수이다. 같은 수가 두 번 이상 주어지지 않는다.\n",
    "\n",
    "항상 M이 하나 이상 존재하는 경우만 입력으로 주어진다.\n",
    "\n",
    "출력\n",
    "첫째 줄에 가능한 M을 공백으로 구분하여 모두 출력한다. 이때, M은 증가하는 순서이어야 한다."
   ]
  },
  {
   "cell_type": "code",
   "execution_count": 1,
   "metadata": {},
   "outputs": [],
   "source": [
    "N = int(input())\n",
    "number_list = [int(input()) for  _ in range(N)]\n",
    "r_list = []\n",
    "i = 2\n",
    "check_num = max(number_list)\n",
    "while i <= check_num: \n",
    "    value = number_list[0] % i\n",
    "    for k in range(1, N):\n",
    "        if value == (number_list[k] % i):\n",
    "            if k == N-1:\n",
    "                r_list.append(i)\n",
    "        else:\n",
    "            break\n",
    "    i += 1\n",
    "print(*r_list)"
   ]
  },
  {
   "cell_type": "code",
   "execution_count": 259,
   "metadata": {},
   "outputs": [
    {
     "name": "stdout",
     "output_type": "stream",
     "text": [
      "3\n"
     ]
    }
   ],
   "source": [
    "# import sys\n",
    "# input = sys.stdin.readline\n",
    "N = int(input())\n",
    "number_list = [int(input()) for  _ in range(N)]\n",
    "check_list = [False] * N\n",
    "arr = []\n",
    "r_list = []\n",
    "def dfs(start): # dfs를 활용하여 두개의 숫자조합 및 가능한 차이값 추출\n",
    "    if len(arr) == 2:\n",
    "        r_list.append(abs(arr[0]-arr[1]))\n",
    "        return\n",
    "\n",
    "    for i in range(start, N):\n",
    "        if check_list[i]:\n",
    "            continue\n",
    "\n",
    "        arr.append(number_list[i])\n",
    "        check_list[i] = True\n",
    "\n",
    "        dfs(i)\n",
    "\n",
    "        arr.pop()\n",
    "        check_list[i] = False\n",
    "dfs(0)\n",
    "r_list = list(set(r_list)) # 차이값 중 중복되는 값들 제거\n",
    "\n",
    "result = r_list[0]\n",
    "def euclid(num1, num2): # 큰 수, 작은 수 순으로 입력\n",
    "    num3 = num1 % num2\n",
    "    if num3 == 0:\n",
    "        return num2\n",
    "    else:\n",
    "        result = euclid(num2, num3)\n",
    "        return result\n",
    "\n",
    "for i in range(1, len(r_list)): # 유클리드 호제법을 활용하여 최대공약수 추출\n",
    "    if result > r_list[i]:\n",
    "        result = euclid(result, r_list[i])\n",
    "    else:\n",
    "        result = euclid(r_list[i], result)\n",
    "\n",
    "\n",
    "answer = []\n",
    "for check in range(2, int(result**(1/2) + 1)):\n",
    "    if result % check == 0:\n",
    "        answer.append(check)\n",
    "        answer.append(result // check)\n",
    "answer.append(result)\n",
    "answer = list(set(answer))\n",
    "answer.sort()\n",
    "print(*answer)"
   ]
  },
  {
   "cell_type": "code",
   "execution_count": 258,
   "metadata": {},
   "outputs": [
    {
     "name": "stdout",
     "output_type": "stream",
     "text": [
      "2 4\n"
     ]
    }
   ],
   "source": [
    "number_list = [5, 17, 23, 14, 83]\n",
    "number_list = [6, 34, 38]\n",
    "N = len(number_list)\n",
    "check_list = [False] * N\n",
    "arr = []\n",
    "r_list = []\n",
    "def dfs(start): # dfs를 활용하여 두개의 숫자조합 및 가능한 차이값 추출\n",
    "    if len(arr) == 2:\n",
    "        r_list.append(abs(arr[0]-arr[1]))\n",
    "        return\n",
    "\n",
    "    for i in range(start, N):\n",
    "        if check_list[i]:\n",
    "            continue\n",
    "\n",
    "        arr.append(number_list[i])\n",
    "        check_list[i] = True\n",
    "\n",
    "        dfs(i)\n",
    "\n",
    "        arr.pop()\n",
    "        check_list[i] = False\n",
    "dfs(0)\n",
    "r_list = list(set(r_list)) # 차이값 중 중복되는 값들 제거\n",
    "\n",
    "result = r_list[0]\n",
    "def euclid(num1, num2): # 큰 수, 작은 수 순으로 입력\n",
    "    num3 = num1 % num2\n",
    "    if num3 == 0:\n",
    "        return num2\n",
    "    else:\n",
    "        result = euclid(num2, num3)\n",
    "        return result\n",
    "\n",
    "for i in range(1, len(r_list)): # 유클리드 호제법을 활용하여 최대공약수 추출\n",
    "    if result > r_list[i]:\n",
    "        result = euclid(result, r_list[i])\n",
    "    else:\n",
    "        result = euclid(r_list[i], result)\n",
    "\n",
    "\n",
    "answer = []\n",
    "for check in range(2, int(result**(1/2) + 1)):\n",
    "    if result % check == 0:\n",
    "        answer.append(check)\n",
    "        answer.append(result // check)\n",
    "answer.append(result)\n",
    "answer = list(set(answer))\n",
    "answer.sort()\n",
    "print(*answer)"
   ]
  },
  {
   "cell_type": "markdown",
   "metadata": {},
   "source": [
    "문제\n",
    "상근이는 창고에서 링 N개를 발견했다. 상근이는 각각의 링이 앞에 있는 링과 뒤에 있는 링과 접하도록 바닥에 내려놓았다. \n",
    "상근이는 첫 번째 링을 돌리기 시작했고, 나머지 링도 같이 돌아간다는 사실을 발견했다. 나머지 링은 첫 번째 링 보다 빠르게 돌아가기도 했고, 느리게 돌아가기도 했다. 이렇게 링을 돌리다 보니 첫 번째 링을 한 바퀴 돌리면, 나머지 링은 몇 바퀴 도는지 궁금해졌다.\n",
    "링의 반지름이 주어진다. 이때, 첫 번째 링을 한 바퀴 돌리면, 나머지 링은 몇 바퀴 돌아가는지 구하는 프로그램을 작성하시오.\n",
    "\n",
    "입력\n",
    "첫째 줄에 링의 개수 N이 주어진다. (3 ≤ N ≤ 100)\n",
    "\n",
    "다음 줄에는 링의 반지름이 상근이가 바닥에 놓은 순서대로 주어진다. 반지름은 1과 1000를 포함하는 사이의 자연수이다.\n",
    "\n",
    "출력\n",
    "출력은 총 N-1줄을 해야 한다. 첫 번째 링을 제외한 각각의 링에 대해서, 첫 번째 링을 한 바퀴 돌리면 그 링은 몇 바퀴 도는지 기약 분수 형태 A/B로 출력한다."
   ]
  },
  {
   "cell_type": "code",
   "execution_count": 32,
   "metadata": {},
   "outputs": [
    {
     "name": "stdout",
     "output_type": "stream",
     "text": [
      "300/1\n",
      "300/1\n",
      "1/1"
     ]
    }
   ],
   "source": [
    "def euclid(num1, num2):\n",
    "    if num1 > num2:\n",
    "        num3 = num1 % num2\n",
    "        if num3 == 0:\n",
    "            return num2\n",
    "        else:\n",
    "            result = euclid(num2, num3)\n",
    "            return result\n",
    "    else:\n",
    "        num3 = num2 % num1\n",
    "        if num3 == 0:\n",
    "            return num1\n",
    "        else:\n",
    "            result = euclid(num1, num3)\n",
    "            return result\n",
    "import sys\n",
    "N = int(input())\n",
    "circle_list = list(map(int, input().split()))\n",
    "for i in range(N):\n",
    "    circle_list[i] = circle_list[i] * 2\n",
    "for i in range(1, N):\n",
    "    gcd = euclid(circle_list[0], circle_list[i])\n",
    "    if i == N-1:\n",
    "        sys.stdout.write(f'{int(circle_list[0]/gcd)}/{int(circle_list[i]/gcd)}')\n",
    "    else:\n",
    "        sys.stdout.write(f'{int(circle_list[0]/gcd)}/{int(circle_list[i]/gcd)}\\n')"
   ]
  },
  {
   "cell_type": "markdown",
   "metadata": {},
   "source": [
    "문제\n",
    "자연수 \\(N\\)과 정수 \\(K\\)가 주어졌을 때 이항 계수 \\(\\binom{N}{K}\\)를 구하는 프로그램을 작성하시오.\n",
    "\n",
    "입력\n",
    "첫째 줄에 \\(N\\)과 \\(K\\)가 주어진다. (1 ≤ \\(N\\) ≤ 10, 0 ≤ \\(K\\) ≤ \\(N\\))\n",
    "\n",
    "출력\n",
    " \n",
    "\\(\\binom{N}{K}\\)를 출력한다."
   ]
  },
  {
   "cell_type": "code",
   "execution_count": 1,
   "metadata": {},
   "outputs": [
    {
     "name": "stdout",
     "output_type": "stream",
     "text": [
      "5 2\n",
      "10\n"
     ]
    }
   ],
   "source": [
    "# n! / (k!(n-k)!)\n",
    "def factorial(number):\n",
    "    if number == 1 or number == 0:\n",
    "        return 1\n",
    "    else:\n",
    "        result = number * factorial(number-1)\n",
    "        return result\n",
    "    \n",
    "N, K = map(int, input().split())\n",
    "print(N, K)\n",
    "answer = int(factorial(N) / (factorial(K)*factorial(N-K)))\n",
    "print(answer)"
   ]
  },
  {
   "cell_type": "code",
   "execution_count": 74,
   "metadata": {},
   "outputs": [
    {
     "name": "stdout",
     "output_type": "stream",
     "text": [
      "9219\n"
     ]
    }
   ],
   "source": [
    "# 메모이제이션 활용 / 출력되는 값이 하나일 때 사용할 수 있음\n",
    "factorial_memo = {}\n",
    "def factorial(number):\n",
    "    r_list = []\n",
    "    if number < 2:\n",
    "        return [1]\n",
    "    if number not in factorial_memo:\n",
    "        r_list = [i for i in range(2, number+1)]\n",
    "        factorial_memo[number] = r_list\n",
    "    return factorial_memo[number]\n",
    "    \n",
    "N, K = map(int, input().split())\n",
    "r_N = factorial(N)[:]\n",
    "r_K = factorial(K)[:] + factorial(N-K)[:]\n",
    "check = 2\n",
    "while check <= len(r_N):\n",
    "    if check in r_N and check in r_K:\n",
    "        r_N.remove(check)\n",
    "        r_K.remove(check)\n",
    "    check += 1\n",
    "value = 1\n",
    "for num in r_N:\n",
    "    value *= num\n",
    "for num in r_K:\n",
    "    value //= num # n!은 k!(n-k)! 정확히 나누어 떨어짐\n",
    "print(value % 10007)"
   ]
  },
  {
   "cell_type": "code",
   "execution_count": null,
   "metadata": {},
   "outputs": [],
   "source": [
    "def factorial(number):\n",
    "    if number < 2:\n",
    "        return 1\n",
    "    else:\n",
    "        result = number * factorial(number-1)\n",
    "        return result\n",
    "\n",
    "T = int(input())\n",
    "for _ in range(T):\n",
    "    K, N = map(int, input().split())\n",
    "    answer = int(factorial(N) / (factorial(K)*factorial(N-K)))\n",
    "    print(answer)"
   ]
  },
  {
   "cell_type": "markdown",
   "metadata": {},
   "source": [
    "문제\n",
    "해빈이는 패션에 매우 민감해서 한번 입었던 옷들의 조합을 절대 다시 입지 않는다. 예를 들어 오늘 해빈이가 안경, 코트, 상의, 신발을 입었다면, 다음날은 바지를 추가로 입거나 안경대신 렌즈를 착용하거나 해야한다. 해빈이가 가진 의상들이 주어졌을때 과연 해빈이는 알몸이 아닌 상태로 며칠동안 밖에 돌아다닐 수 있을까?\n",
    "\n",
    "입력\n",
    "첫째 줄에 테스트 케이스가 주어진다. 테스트 케이스는 최대 100이다.\n",
    "각 테스트 케이스의 첫째 줄에는 해빈이가 가진 의상의 수 n(0 ≤ n ≤ 30)이 주어진다.\n",
    "다음 n개에는 해빈이가 가진 의상의 이름과 의상의 종류가 공백으로 구분되어 주어진다. 같은 종류의 의상은 하나만 입을 수 있다.\n",
    "모든 문자열은 1이상 20이하의 알파벳 소문자로 이루어져있으며 같은 이름을 가진 의상은 존재하지 않는다.\n",
    "\n",
    "출력\n",
    "각 테스트 케이스에 대해 해빈이가 알몸이 아닌 상태로 의상을 입을 수 있는 경우를 출력하시오."
   ]
  },
  {
   "cell_type": "code",
   "execution_count": null,
   "metadata": {},
   "outputs": [],
   "source": [
    "N = int(input())\n",
    "for _ in range(N):\n",
    "    T = int(input())\n",
    "    closet = []\n",
    "    for _ in range(T):\n",
    "        closet.append(input().split()[1])\n",
    "    closet_ct = list(set(closet))\n",
    "    result = 1\n",
    "    for ct in closet_ct:\n",
    "        result *= (closet.count(ct) + 1)\n",
    "    print(result - 1)"
   ]
  },
  {
   "cell_type": "code",
   "execution_count": null,
   "metadata": {},
   "outputs": [],
   "source": []
  }
 ],
 "metadata": {
  "interpreter": {
   "hash": "fe3bab233825460445dbfeea6dcd52ef5815a3fa13c858fea07ac830aa383284"
  },
  "kernelspec": {
   "display_name": "Python 3.8.10 64-bit ('base': conda)",
   "language": "python",
   "name": "python3"
  },
  "language_info": {
   "codemirror_mode": {
    "name": "ipython",
    "version": 3
   },
   "file_extension": ".py",
   "mimetype": "text/x-python",
   "name": "python",
   "nbconvert_exporter": "python",
   "pygments_lexer": "ipython3",
   "version": "3.8.10"
  },
  "orig_nbformat": 4
 },
 "nbformat": 4,
 "nbformat_minor": 2
}
