{
 "cells": [
  {
   "cell_type": "markdown",
   "metadata": {},
   "source": [
    "문제\n",
    "트럭을 타고 이동하던 상근이는 경찰의 검문을 받게 되었다. 경찰은 상근이가 운반하던 화물을 하나하나 모두 확인할 것이기 때문에, 검문하는데 엄청나게 오랜 시간이 걸린다.\n",
    "상근이는 시간을 때우기 위해서 수학 게임을 하기로 했다.\n",
    "먼저 근처에 보이는 숫자 N개를 종이에 적는다. 그 다음, 종이에 적은 수를 M으로 나누었을 때, \n",
    "나머지가 모두 같게 되는 M을 모두 찾으려고 한다. M은 1보다 커야 한다. N개의 수가 주어졌을 때, 가능한 M을 모두 찾는 프로그램을 작성하시오.\n",
    "\n",
    "입력\n",
    "첫째 줄에 종이에 적은 수의 개수 N이 주어진다. (2 ≤ N ≤ 100)\n",
    "\n",
    "다음 줄부터 N개 줄에는 종이에 적은 수가 하나씩 주어진다. 이 수는 모두 1보다 크거나 같고, 1,000,000,000보다 작거나 같은 자연수이다. 같은 수가 두 번 이상 주어지지 않는다.\n",
    "\n",
    "항상 M이 하나 이상 존재하는 경우만 입력으로 주어진다.\n",
    "\n",
    "출력\n",
    "첫째 줄에 가능한 M을 공백으로 구분하여 모두 출력한다. 이때, M은 증가하는 순서이어야 한다."
   ]
  },
  {
   "cell_type": "code",
   "execution_count": 1,
   "metadata": {},
   "outputs": [],
   "source": [
    "N = int(input())\n",
    "number_list = [int(input()) for  _ in range(N)]\n",
    "r_list = []\n",
    "i = 2\n",
    "check_num = max(number_list)\n",
    "while i <= check_num: \n",
    "    value = number_list[0] % i\n",
    "    for k in range(1, N):\n",
    "        if value == (number_list[k] % i):\n",
    "            if k == N-1:\n",
    "                r_list.append(i)\n",
    "        else:\n",
    "            break\n",
    "    i += 1\n",
    "print(*r_list)"
   ]
  },
  {
   "cell_type": "code",
   "execution_count": 259,
   "metadata": {},
   "outputs": [
    {
     "name": "stdout",
     "output_type": "stream",
     "text": [
      "3\n"
     ]
    }
   ],
   "source": [
    "# import sys\n",
    "# input = sys.stdin.readline\n",
    "N = int(input())\n",
    "number_list = [int(input()) for  _ in range(N)]\n",
    "check_list = [False] * N\n",
    "arr = []\n",
    "r_list = []\n",
    "def dfs(start): # dfs를 활용하여 두개의 숫자조합 및 가능한 차이값 추출\n",
    "    if len(arr) == 2:\n",
    "        r_list.append(abs(arr[0]-arr[1]))\n",
    "        return\n",
    "\n",
    "    for i in range(start, N):\n",
    "        if check_list[i]:\n",
    "            continue\n",
    "\n",
    "        arr.append(number_list[i])\n",
    "        check_list[i] = True\n",
    "\n",
    "        dfs(i)\n",
    "\n",
    "        arr.pop()\n",
    "        check_list[i] = False\n",
    "dfs(0)\n",
    "r_list = list(set(r_list)) # 차이값 중 중복되는 값들 제거\n",
    "\n",
    "result = r_list[0]\n",
    "def euclid(num1, num2): # 큰 수, 작은 수 순으로 입력\n",
    "    num3 = num1 % num2\n",
    "    if num3 == 0:\n",
    "        return num2\n",
    "    else:\n",
    "        result = euclid(num2, num3)\n",
    "        return result\n",
    "\n",
    "for i in range(1, len(r_list)): # 유클리드 호제법을 활용하여 최대공약수 추출\n",
    "    if result > r_list[i]:\n",
    "        result = euclid(result, r_list[i])\n",
    "    else:\n",
    "        result = euclid(r_list[i], result)\n",
    "\n",
    "\n",
    "answer = []\n",
    "for check in range(2, int(result**(1/2) + 1)):\n",
    "    if result % check == 0:\n",
    "        answer.append(check)\n",
    "        answer.append(result // check)\n",
    "answer.append(result)\n",
    "answer = list(set(answer))\n",
    "answer.sort()\n",
    "print(*answer)"
   ]
  },
  {
   "cell_type": "code",
   "execution_count": 258,
   "metadata": {},
   "outputs": [
    {
     "name": "stdout",
     "output_type": "stream",
     "text": [
      "2 4\n"
     ]
    }
   ],
   "source": [
    "number_list = [5, 17, 23, 14, 83]\n",
    "number_list = [6, 34, 38]\n",
    "N = len(number_list)\n",
    "check_list = [False] * N\n",
    "arr = []\n",
    "r_list = []\n",
    "def dfs(start): # dfs를 활용하여 두개의 숫자조합 및 가능한 차이값 추출\n",
    "    if len(arr) == 2:\n",
    "        r_list.append(abs(arr[0]-arr[1]))\n",
    "        return\n",
    "\n",
    "    for i in range(start, N):\n",
    "        if check_list[i]:\n",
    "            continue\n",
    "\n",
    "        arr.append(number_list[i])\n",
    "        check_list[i] = True\n",
    "\n",
    "        dfs(i)\n",
    "\n",
    "        arr.pop()\n",
    "        check_list[i] = False\n",
    "dfs(0)\n",
    "r_list = list(set(r_list)) # 차이값 중 중복되는 값들 제거\n",
    "\n",
    "result = r_list[0]\n",
    "def euclid(num1, num2): # 큰 수, 작은 수 순으로 입력\n",
    "    num3 = num1 % num2\n",
    "    if num3 == 0:\n",
    "        return num2\n",
    "    else:\n",
    "        result = euclid(num2, num3)\n",
    "        return result\n",
    "\n",
    "for i in range(1, len(r_list)): # 유클리드 호제법을 활용하여 최대공약수 추출\n",
    "    if result > r_list[i]:\n",
    "        result = euclid(result, r_list[i])\n",
    "    else:\n",
    "        result = euclid(r_list[i], result)\n",
    "\n",
    "\n",
    "answer = []\n",
    "for check in range(2, int(result**(1/2) + 1)):\n",
    "    if result % check == 0:\n",
    "        answer.append(check)\n",
    "        answer.append(result // check)\n",
    "answer.append(result)\n",
    "answer = list(set(answer))\n",
    "answer.sort()\n",
    "print(*answer)"
   ]
  },
  {
   "cell_type": "markdown",
   "metadata": {},
   "source": [
    "문제\n",
    "상근이는 창고에서 링 N개를 발견했다. 상근이는 각각의 링이 앞에 있는 링과 뒤에 있는 링과 접하도록 바닥에 내려놓았다. \n",
    "상근이는 첫 번째 링을 돌리기 시작했고, 나머지 링도 같이 돌아간다는 사실을 발견했다. 나머지 링은 첫 번째 링 보다 빠르게 돌아가기도 했고, 느리게 돌아가기도 했다. 이렇게 링을 돌리다 보니 첫 번째 링을 한 바퀴 돌리면, 나머지 링은 몇 바퀴 도는지 궁금해졌다.\n",
    "링의 반지름이 주어진다. 이때, 첫 번째 링을 한 바퀴 돌리면, 나머지 링은 몇 바퀴 돌아가는지 구하는 프로그램을 작성하시오.\n",
    "\n",
    "입력\n",
    "첫째 줄에 링의 개수 N이 주어진다. (3 ≤ N ≤ 100)\n",
    "\n",
    "다음 줄에는 링의 반지름이 상근이가 바닥에 놓은 순서대로 주어진다. 반지름은 1과 1000를 포함하는 사이의 자연수이다.\n",
    "\n",
    "출력\n",
    "출력은 총 N-1줄을 해야 한다. 첫 번째 링을 제외한 각각의 링에 대해서, 첫 번째 링을 한 바퀴 돌리면 그 링은 몇 바퀴 도는지 기약 분수 형태 A/B로 출력한다."
   ]
  },
  {
   "cell_type": "code",
   "execution_count": 32,
   "metadata": {},
   "outputs": [
    {
     "name": "stdout",
     "output_type": "stream",
     "text": [
      "300/1\n",
      "300/1\n",
      "1/1"
     ]
    }
   ],
   "source": [
    "def euclid(num1, num2):\n",
    "    if num1 > num2:\n",
    "        num3 = num1 % num2\n",
    "        if num3 == 0:\n",
    "            return num2\n",
    "        else:\n",
    "            result = euclid(num2, num3)\n",
    "            return result\n",
    "    else:\n",
    "        num3 = num2 % num1\n",
    "        if num3 == 0:\n",
    "            return num1\n",
    "        else:\n",
    "            result = euclid(num1, num3)\n",
    "            return result\n",
    "import sys\n",
    "N = int(input())\n",
    "circle_list = list(map(int, input().split()))\n",
    "for i in range(N):\n",
    "    circle_list[i] = circle_list[i] * 2\n",
    "for i in range(1, N):\n",
    "    gcd = euclid(circle_list[0], circle_list[i])\n",
    "    if i == N-1:\n",
    "        sys.stdout.write(f'{int(circle_list[0]/gcd)}/{int(circle_list[i]/gcd)}')\n",
    "    else:\n",
    "        sys.stdout.write(f'{int(circle_list[0]/gcd)}/{int(circle_list[i]/gcd)}\\n')"
   ]
  },
  {
   "cell_type": "markdown",
   "metadata": {},
   "source": [
    "문제\n",
    "자연수 \\(N\\)과 정수 \\(K\\)가 주어졌을 때 이항 계수 \\(\\binom{N}{K}\\)를 구하는 프로그램을 작성하시오.\n",
    "\n",
    "입력\n",
    "첫째 줄에 \\(N\\)과 \\(K\\)가 주어진다. (1 ≤ \\(N\\) ≤ 10, 0 ≤ \\(K\\) ≤ \\(N\\))\n",
    "\n",
    "출력\n",
    " \n",
    "\\(\\binom{N}{K}\\)를 출력한다."
   ]
  },
  {
   "cell_type": "code",
   "execution_count": 1,
   "metadata": {},
   "outputs": [
    {
     "name": "stdout",
     "output_type": "stream",
     "text": [
      "5 2\n",
      "10\n"
     ]
    }
   ],
   "source": [
    "# n! / (k!(n-k)!)\n",
    "def factorial(number):\n",
    "    if number == 1 or number == 0:\n",
    "        return 1\n",
    "    else:\n",
    "        result = number * factorial(number-1)\n",
    "        return result\n",
    "    \n",
    "N, K = map(int, input().split())\n",
    "print(N, K)\n",
    "answer = int(factorial(N) / (factorial(K)*factorial(N-K)))\n",
    "print(answer)"
   ]
  },
  {
   "cell_type": "code",
   "execution_count": 74,
   "metadata": {},
   "outputs": [
    {
     "name": "stdout",
     "output_type": "stream",
     "text": [
      "9219\n"
     ]
    }
   ],
   "source": [
    "# 메모이제이션 활용 / 출력되는 값이 하나일 때 사용할 수 있음\n",
    "factorial_memo = {}\n",
    "def factorial(number):\n",
    "    r_list = []\n",
    "    if number < 2:\n",
    "        return [1]\n",
    "    if number not in factorial_memo:\n",
    "        r_list = [i for i in range(2, number+1)]\n",
    "        factorial_memo[number] = r_list\n",
    "    return factorial_memo[number]\n",
    "    \n",
    "N, K = map(int, input().split())\n",
    "r_N = factorial(N)[:]\n",
    "r_K = factorial(K)[:] + factorial(N-K)[:]\n",
    "check = 2\n",
    "while check <= len(r_N):\n",
    "    if check in r_N and check in r_K:\n",
    "        r_N.remove(check)\n",
    "        r_K.remove(check)\n",
    "    check += 1\n",
    "value = 1\n",
    "for num in r_N:\n",
    "    value *= num\n",
    "for num in r_K:\n",
    "    value //= num # n!은 k!(n-k)! 정확히 나누어 떨어짐\n",
    "print(value % 10007)"
   ]
  },
  {
   "cell_type": "code",
   "execution_count": null,
   "metadata": {},
   "outputs": [],
   "source": [
    "def factorial(number):\n",
    "    if number < 2:\n",
    "        return 1\n",
    "    else:\n",
    "        result = number * factorial(number-1)\n",
    "        return result\n",
    "\n",
    "T = int(input())\n",
    "for _ in range(T):\n",
    "    K, N = map(int, input().split())\n",
    "    answer = int(factorial(N) / (factorial(K)*factorial(N-K)))\n",
    "    print(answer)"
   ]
  },
  {
   "cell_type": "markdown",
   "metadata": {},
   "source": [
    "문제\n",
    "해빈이는 패션에 매우 민감해서 한번 입었던 옷들의 조합을 절대 다시 입지 않는다. 예를 들어 오늘 해빈이가 안경, 코트, 상의, 신발을 입었다면, 다음날은 바지를 추가로 입거나 안경대신 렌즈를 착용하거나 해야한다. 해빈이가 가진 의상들이 주어졌을때 과연 해빈이는 알몸이 아닌 상태로 며칠동안 밖에 돌아다닐 수 있을까?\n",
    "\n",
    "입력\n",
    "첫째 줄에 테스트 케이스가 주어진다. 테스트 케이스는 최대 100이다.\n",
    "각 테스트 케이스의 첫째 줄에는 해빈이가 가진 의상의 수 n(0 ≤ n ≤ 30)이 주어진다.\n",
    "다음 n개에는 해빈이가 가진 의상의 이름과 의상의 종류가 공백으로 구분되어 주어진다. 같은 종류의 의상은 하나만 입을 수 있다.\n",
    "모든 문자열은 1이상 20이하의 알파벳 소문자로 이루어져있으며 같은 이름을 가진 의상은 존재하지 않는다.\n",
    "\n",
    "출력\n",
    "각 테스트 케이스에 대해 해빈이가 알몸이 아닌 상태로 의상을 입을 수 있는 경우를 출력하시오."
   ]
  },
  {
   "cell_type": "code",
   "execution_count": null,
   "metadata": {},
   "outputs": [],
   "source": [
    "N = int(input())\n",
    "for _ in range(N):\n",
    "    T = int(input())\n",
    "    closet = []\n",
    "    for _ in range(T):\n",
    "        closet.append(input().split()[1])\n",
    "    closet_ct = list(set(closet))\n",
    "    result = 1\n",
    "    for ct in closet_ct:\n",
    "        result *= (closet.count(ct) + 1)\n",
    "    print(result - 1)"
   ]
  },
  {
   "cell_type": "markdown",
   "metadata": {},
   "source": [
    "문제\n",
    "N!에서 뒤에서부터 처음 0이 아닌 숫자가 나올 때까지 0의 개수를 구하는 프로그램을 작성하시오.\n",
    "\n",
    "입력\n",
    "첫째 줄에 N이 주어진다. (0 ≤ N ≤ 500)\n",
    "\n",
    "출력\n",
    "첫째 줄에 구한 0의 개수를 출력한다."
   ]
  },
  {
   "cell_type": "code",
   "execution_count": 35,
   "metadata": {},
   "outputs": [
    {
     "data": {
      "text/plain": [
       "0"
      ]
     },
     "execution_count": 35,
     "metadata": {},
     "output_type": "execute_result"
    }
   ],
   "source": [
    "def factorial(number):\n",
    "    if number < 2:\n",
    "        return 1\n",
    "    else:\n",
    "        result = number * factorial(number-1)\n",
    "        return result \n",
    "\n",
    "N = int(input())\n",
    "K = str(factorial(N))\n",
    "cnt = 0\n",
    "T = -1\n",
    "while K[T] == '0':\n",
    "    cnt += 1\n",
    "    T -= 1\n",
    "print(cnt)"
   ]
  },
  {
   "cell_type": "code",
   "execution_count": 22,
   "metadata": {},
   "outputs": [
    {
     "name": "stdout",
     "output_type": "stream",
     "text": [
      "0\n"
     ]
    }
   ],
   "source": [
    "N = int(input())\n",
    "# check_list = factorial(10)\n",
    "check_list = [x for x in range(1, N+1)]\n",
    "two_cnt, five_cnt = 0, 0\n",
    "check_point = 0\n",
    "while check_point <= len(check_list)-1:\n",
    "    while check_list[check_point] % 2 == 0:\n",
    "        two_cnt += 1\n",
    "        check_list[check_point] = check_list[check_point] // 2   \n",
    "    while check_list[check_point] % 5 == 0:  \n",
    "        five_cnt += 1\n",
    "        check_list[check_point] = check_list[check_point] // 5\n",
    "    check_point += 1   \n",
    "\n",
    "if two_cnt < five_cnt:\n",
    "    print(two_cnt)\n",
    "else:\n",
    "    print(five_cnt)"
   ]
  },
  {
   "cell_type": "markdown",
   "metadata": {},
   "source": [
    "문제\n",
    " \n",
    "$n \\choose m$의 끝자리 $0$의 개수를 출력하는 프로그램을 작성하시오.\n",
    "\n",
    "입력\n",
    "첫째 줄에 정수 $n$, $m$ ($0 \\le m \\le n \\le 2,000,000,000$, $n \\ne 0$)이 들어온다.\n",
    "\n",
    "출력\n",
    "첫째 줄에 \n",
    "$n \\choose m$의 끝자리 $0$의 개수를 출력한다."
   ]
  },
  {
   "cell_type": "code",
   "execution_count": 34,
   "metadata": {},
   "outputs": [
    {
     "data": {
      "text/plain": [
       "{2: [2, 1],\n",
       " 3: [3, 2, 1],\n",
       " 4: [4, 3, 2, 1],\n",
       " 5: [5, 4, 3, 2, 1],\n",
       " 6: [6, 5, 4, 3, 2, 1],\n",
       " 7: [7, 6, 5, 4, 3, 2, 1],\n",
       " 8: [8, 7, 6, 5, 4, 3, 2, 1],\n",
       " 9: [9, 8, 7, 6, 5, 4, 3, 2, 1],\n",
       " 10: [10, 9, 8, 7, 6, 5, 4, 3, 2, 1]}"
      ]
     },
     "execution_count": 34,
     "metadata": {},
     "output_type": "execute_result"
    }
   ],
   "source": [
    "factorial_memo = {}\n",
    "def factorial(number):\n",
    "    if number < 2:\n",
    "        return [1]\n",
    "    if number not in factorial_memo:\n",
    "        factorial_memo[number] = [number] + factorial(number-1)\n",
    "    return factorial_memo[number]\n",
    "\n",
    "factorial(10)\n",
    "factorial_memo"
   ]
  },
  {
   "cell_type": "code",
   "execution_count": 3,
   "metadata": {},
   "outputs": [
    {
     "name": "stdout",
     "output_type": "stream",
     "text": [
      "25 25\n",
      "2\n"
     ]
    }
   ],
   "source": [
    "# 단순 팩토리얼 함수를 쓰면 런타임에러 / 곱해야할 모든 수를 받아서 하면 메모리초과\n",
    "factorial_memo = {}\n",
    "def factorial(number):\n",
    "    if number < 2:\n",
    "        return [1]\n",
    "    if number not in factorial_memo:\n",
    "        factorial_memo[number] = [number] + factorial(number-1)\n",
    "    return factorial_memo[number]\n",
    "\n",
    "N, K = map(int, input().split())\n",
    "# r_N = factorial(N)\n",
    "r_N = [x for x in range(1, N+1)]\n",
    "# r_K = factorial(K) + factorial(N-K)\n",
    "r_K = [x for x in range(1, K+1)] + [x for x in range(1, N-K+1)]\n",
    "\n",
    "def check_tf(nd_list):\n",
    "    two_cnt, five_cnt = 0, 0\n",
    "    i = 0\n",
    "    while i < len(nd_list):\n",
    "        while nd_list[i] % 2 == 0:\n",
    "            two_cnt += 1\n",
    "            nd_list[i] = nd_list[i] // 2\n",
    "        while nd_list[i] % 5 == 0:\n",
    "            five_cnt += 1\n",
    "            nd_list[i] = nd_list[i] // 5\n",
    "        i += 1\n",
    "    if two_cnt < five_cnt:\n",
    "        return two_cnt\n",
    "    else:\n",
    "        return five_cnt\n",
    "print(len(r_N), len(r_K))\n",
    "print(check_tf(r_N[:]) - check_tf(r_K[:])) "
   ]
  },
  {
   "cell_type": "code",
   "execution_count": 73,
   "metadata": {},
   "outputs": [
    {
     "name": "stdout",
     "output_type": "stream",
     "text": [
      "2\n"
     ]
    }
   ],
   "source": [
    "N, K = map(int, input().split())\n",
    "\n",
    "def two_count(number):\n",
    "    two_cnt = 0\n",
    "    while number != 0:\n",
    "        number = number // 2\n",
    "        two_cnt += number\n",
    "    return two_cnt\n",
    "\n",
    "def five_count(number):\n",
    "    five_cnt = 0\n",
    "    while number != 0:\n",
    "        number = number // 5\n",
    "        five_cnt += number\n",
    "    return five_cnt\n",
    "\n",
    "two_cnt = two_count(N) - two_count(N - K) - two_count(K)\n",
    "five_cnt = five_count(N) - five_count(N - K) - five_count(K)\n",
    "print(min(two_cnt, five_cnt))"
   ]
  },
  {
   "cell_type": "markdown",
   "metadata": {},
   "source": [
    "문제\n",
    "fibonacci(3)은 fibonacci(2)와 fibonacci(1)의 결과를 얻고, 2를 리턴한다.\n",
    "1은 2번 출력되고, 0은 1번 출력된다. N이 주어졌을 때, fibonacci(N)을 호출했을 때, 0과 1이 각각 몇 번 출력되는지 구하는 프로그램을 작성하시오.\n",
    "\n",
    "입력\n",
    "첫째 줄에 테스트 케이스의 개수 T가 주어진다.\n",
    "\n",
    "각 테스트 케이스는 한 줄로 이루어져 있고, N이 주어진다. N은 40보다 작거나 같은 자연수 또는 0이다.\n",
    "\n",
    "출력\n",
    "각 테스트 케이스마다 0이 출력되는 횟수와 1이 출력되는 횟수를 공백으로 구분해서 출력한다."
   ]
  },
  {
   "cell_type": "code",
   "execution_count": 97,
   "metadata": {},
   "outputs": [
    {
     "name": "stdout",
     "output_type": "stream",
     "text": [
      "5 8\n",
      "10946 17711\n"
     ]
    }
   ],
   "source": [
    "fibonacci_zo_memo = {}\n",
    "def fibonacci_zo(number):\n",
    "    if number == 0:\n",
    "        fibonacci_zo_memo[number] = [1, 0]\n",
    "    elif number == 1:\n",
    "        fibonacci_zo_memo[number] = [0, 1]\n",
    "    if number not in fibonacci_zo_memo:\n",
    "        s1 = fibonacci_zo(number-1)\n",
    "        s2 = fibonacci_zo(number-2)\n",
    "        fibonacci_zo_memo[number] = [s1[0] + s2[0], s1[1] + s2[1]]\n",
    "    return fibonacci_zo_memo[number]\n",
    "\n",
    "\n",
    "import sys\n",
    "T = int(input())\n",
    "for _ in range(T):\n",
    "    N = int(input())\n",
    "    print(*fibonacci_zo(N))"
   ]
  },
  {
   "cell_type": "markdown",
   "metadata": {},
   "source": [
    "문제\n",
    "재귀 호출만 생각하면 신이 난다! 아닌가요?\n",
    "다음과 같은 재귀함수 w(a, b, c)가 있다.\n",
    "if a <= 0 or b <= 0 or c <= 0, then w(a, b, c) returns:\n",
    "    1\n",
    "if a > 20 or b > 20 or c > 20, then w(a, b, c) returns:\n",
    "    w(20, 20, 20)\n",
    "if a < b and b < c, then w(a, b, c) returns:\n",
    "    w(a, b, c-1) + w(a, b-1, c-1) - w(a, b-1, c)\n",
    "otherwise it returns:\n",
    "    w(a-1, b, c) + w(a-1, b-1, c) + w(a-1, b, c-1) - w(a-1, b-1, c-1)\n",
    "위의 함수를 구현하는 것은 매우 쉽다. 하지만, 그대로 구현하면 값을 구하는데 매우 오랜 시간이 걸린다. (예를 들면, a=15, b=15, c=15)\n",
    "a, b, c가 주어졌을 때, w(a, b, c)를 출력하는 프로그램을 작성하시오.\n",
    "\n",
    "입력\n",
    "입력은 세 정수 a, b, c로 이루어져 있으며, 한 줄에 하나씩 주어진다. 입력의 마지막은 -1 -1 -1로 나타내며, 세 정수가 모두 -1인 경우는 입력의 마지막을 제외하면 없다.\n",
    "\n",
    "출력\n",
    "입력으로 주어진 각각의 a, b, c에 대해서, w(a, b, c)를 출력한다."
   ]
  },
  {
   "cell_type": "code",
   "execution_count": 151,
   "metadata": {},
   "outputs": [
    {
     "name": "stdout",
     "output_type": "stream",
     "text": [
      "w(1, 1, 1) = 2\n",
      "w(2, 2, 2) = 4\n",
      "w(10, 4, 6) = 523\n",
      "w(50, 50, 50) = 1048576\n",
      "w(-1, 7, 18) = 1\n"
     ]
    }
   ],
   "source": [
    "w_dic = {}\n",
    "def w(a, b, c):\n",
    "    if f'w({a}, {b}, {c})' in w_dic:\n",
    "        return w_dic[f'w({a}, {b}, {c})']\n",
    "    if a <= 0 or b <= 0 or c <= 0:\n",
    "        return 1\n",
    "    if a > 20 or b > 20 or c > 20:\n",
    "        return w(20, 20, 20)\n",
    "    if a < b and b < c: \n",
    "        w_dic[f'w({a}, {b}, {c})'] = w(a, b, c-1) + w(a, b-1, c-1) - w(a, b-1, c)\n",
    "        return w_dic[f'w({a}, {b}, {c})']\n",
    "    else:\n",
    "        w_dic[f'w({a}, {b}, {c})'] = w(a-1, b, c) + w(a-1, b-1, c) + w(a-1, b, c-1) - w(a-1, b-1, c-1)\n",
    "        return w_dic[f'w({a}, {b}, {c})']\n",
    "    \n",
    "while True:\n",
    "    a, b, c = map(int, input().split())\n",
    "    if a == -1 and b == -1 and c == -1:\n",
    "        break\n",
    "    print(f'w({a}, {b}, {c}) = {w(a, b, c)}')"
   ]
  },
  {
   "cell_type": "markdown",
   "metadata": {},
   "source": [
    "문제\n",
    "지원이에게 2진 수열을 가르쳐 주기 위해, 지원이 아버지는 그에게 타일들을 선물해주셨다. 그리고 이 각각의 타일들은 0 또는 1이 쓰여 있는 낱장의 타일들이다.\n",
    "어느 날 짓궂은 동주가 지원이의 공부를 방해하기 위해 0이 쓰여진 낱장의 타일들을 붙여서 한 쌍으로 이루어진 00 타일들을 만들었다. 결국 현재 1 하나만으로 이루어진 타일 또는 0타일을 두 개 붙인 한 쌍의 00타일들만이 남게 되었다.\n",
    "그러므로 지원이는 타일로 더 이상 크기가 N인 모든 2진 수열을 만들 수 없게 되었다. 예를 들어, N=1일 때 1만 만들 수 있고, N=2일 때는 00, 11을 만들 수 있다. (01, 10은 만들 수 없게 되었다.) 또한 N=4일 때는 0011, 0000, 1001, 1100, 1111 등 총 5개의 2진 수열을 만들 수 있다.\n",
    "우리의 목표는 N이 주어졌을 때 지원이가 만들 수 있는 모든 가짓수를 세는 것이다. 단 타일들은 무한히 많은 것으로 가정하자.\n",
    "\n",
    "입력\n",
    "첫 번째 줄에 자연수 N이 주어진다. (1 ≤ N ≤ 1,000,000)\n",
    "\n",
    "출력\n",
    "첫 번째 줄에 지원이가 만들 수 있는 길이가 N인 모든 2진 수열의 개수를 15746으로 나눈 나머지를 출력한다."
   ]
  },
  {
   "cell_type": "code",
   "execution_count": 22,
   "metadata": {},
   "outputs": [
    {
     "name": "stdout",
     "output_type": "stream",
     "text": [
      "5329\n",
      "5329\n"
     ]
    }
   ],
   "source": [
    "# 1 (1) \n",
    "# 00 11 (2) \n",
    "# 001 111 100 (3)\n",
    "# 0000 0011 1100 1111 1001 (5)\n",
    "# 00001 00100 10000 00111 11001 11100 10011 11111 (8)\n",
    "\n",
    "fibo_memo = {}\n",
    "def fibo(number):\n",
    "    if number == 0:\n",
    "        fibo_memo[number] = (1 % 15746)\n",
    "    if number == 1:\n",
    "        fibo_memo[number] = (1 % 15746)\n",
    "    if number not in fibo_memo:\n",
    "        check = 2\n",
    "        while True:\n",
    "            if check > number:\n",
    "                break\n",
    "            fibo_memo[check] = (fibo(check-1) + fibo(check-2)) % 15746\n",
    "            check += 1\n",
    "    return fibo_memo[number]\n",
    "            \n",
    "N = int(input())\n",
    "print(fibo(N))\n",
    "\n",
    "arr = [1 for _ in range(N+1)]\n",
    "for i in range(2, N+1):\n",
    "    arr[i] = (arr[i-1] + arr[i-2]) % 15746 \n",
    "print(arr[N])\n"
   ]
  },
  {
   "cell_type": "markdown",
   "metadata": {},
   "source": [
    "문제\n",
    "오른쪽 그림과 같이 삼각형이 나선 모양으로 놓여져 있다. 첫 삼각형은 정삼각형으로 변의 길이는 1이다. 그 다음에는 다음과 같은 과정으로 정삼각형을 계속 추가한다. 나선에서 가장 긴 변의 길이를 k라 했을 때, 그 변에 길이가 k인 정삼각형을 추가한다.\n",
    "\n",
    "파도반 수열 P(N)은 나선에 있는 정삼각형의 변의 길이이다. P(1)부터 P(10)까지 첫 10개 숫자는 1, 1, 1, 2, 2, 3, 4, 5, 7, 9이다.\n",
    "\n",
    "N이 주어졌을 때, P(N)을 구하는 프로그램을 작성하시오.\n",
    "\n",
    "입력\n",
    "첫째 줄에 테스트 케이스의 개수 T가 주어진다. 각 테스트 케이스는 한 줄로 이루어져 있고, N이 주어진다. (1 ≤ N ≤ 100)\n",
    "\n",
    "출력\n",
    "각 테스트 케이스마다 P(N)을 출력한다."
   ]
  },
  {
   "cell_type": "code",
   "execution_count": 10,
   "metadata": {},
   "outputs": [
    {
     "name": "stdout",
     "output_type": "stream",
     "text": [
      "3\n",
      "16\n"
     ]
    }
   ],
   "source": [
    "T = int(input())\n",
    "for _ in range(T):\n",
    "    N = int(input())\n",
    "    arr = [0 for _ in range(N)]\n",
    "    for i in range(N):\n",
    "        if i < 3:\n",
    "            arr[i] = 1\n",
    "        else:\n",
    "            arr[i] = arr[i-3] + arr[i-2]\n",
    "    print(arr[N-1])"
   ]
  },
  {
   "cell_type": "markdown",
   "metadata": {},
   "source": [
    "문제\n",
    "        7\n",
    "      3   8\n",
    "    8   1   0\n",
    "  2   7   4   4\n",
    "4   5   2   6   5\n",
    "위 그림은 크기가 5인 정수 삼각형의 한 모습이다.\n",
    "맨 위층 7부터 시작해서 아래에 있는 수 중 하나를 선택하여 아래층으로 내려올 때, 이제까지 선택된 수의 합이 최대가 되는 경로를 구하는 프로그램을 작성하라. 아래층에 있는 수는 현재 층에서 선택된 수의 대각선 왼쪽 또는 대각선 오른쪽에 있는 것 중에서만 선택할 수 있다.\n",
    "삼각형의 크기는 1 이상 500 이하이다. 삼각형을 이루고 있는 각 수는 모두 정수이며, 범위는 0 이상 9999 이하이다.\n",
    "\n",
    "입력\n",
    "첫째 줄에 삼각형의 크기 n(1 ≤ n ≤ 500)이 주어지고, 둘째 줄부터 n+1번째 줄까지 정수 삼각형이 주어진다.\n",
    "\n",
    "출력\n",
    "첫째 줄에 합이 최대가 되는 경로에 있는 수의 합을 출력한다."
   ]
  },
  {
   "cell_type": "code",
   "execution_count": null,
   "metadata": {},
   "outputs": [],
   "source": [
    "N = int(input())\n",
    "arr = []\n",
    "for i in range(N):\n",
    "    arr.append(list(map(int, input().split())))\n",
    "for i in range(1, N):\n",
    "    for k in range(i+1):\n",
    "        if k == 0:\n",
    "            arr[i][k] = arr[i][k] + arr[i-1][k]\n",
    "        elif k == i:\n",
    "            arr[i][k] = arr[i][k] + arr[i-1][k-1]\n",
    "        else:\n",
    "            arr[i][k] = arr[i][k] + max(arr[i-1][k-1], arr[i-1][k]) \n",
    "                    \n",
    "if N == 0:\n",
    "    pass\n",
    "else:\n",
    "    print(max(arr[N-1]))       "
   ]
  },
  {
   "cell_type": "markdown",
   "metadata": {},
   "source": [
    "문제\n",
    "RGB거리에는 집이 N개 있다. 거리는 선분으로 나타낼 수 있고, 1번 집부터 N번 집이 순서대로 있다.\n",
    "집은 빨강, 초록, 파랑 중 하나의 색으로 칠해야 한다. 각각의 집을 빨강, 초록, 파랑으로 칠하는 비용이 주어졌을 때, 아래 규칙을 만족하면서 모든 집을 칠하는 비용의 최솟값을 구해보자.\n",
    "1번 집의 색은 2번 집의 색과 같지 않아야 한다.\n",
    "N번 집의 색은 N-1번 집의 색과 같지 않아야 한다.\n",
    "i(2 ≤ i ≤ N-1)번 집의 색은 i-1번, i+1번 집의 색과 같지 않아야 한다.\n",
    "\n",
    "입력\n",
    "첫째 줄에 집의 수 N(2 ≤ N ≤ 1,000)이 주어진다. 둘째 줄부터 N개의 줄에는 각 집을 빨강, 초록, 파랑으로 칠하는 비용이 1번 집부터 한 줄에 하나씩 주어진다. 집을 칠하는 비용은 1,000보다 작거나 같은 자연수이다.\n",
    "\n",
    "출력\n",
    "첫째 줄에 모든 집을 칠하는 비용의 최솟값을 출력한다."
   ]
  },
  {
   "cell_type": "code",
   "execution_count": 52,
   "metadata": {},
   "outputs": [
    {
     "name": "stdout",
     "output_type": "stream",
     "text": [
      "253\n"
     ]
    }
   ],
   "source": [
    "N = int(input())\n",
    "cost_list = [list(map(int, input().split())) for _ in range(N)]\n",
    "for i in range(1, N):\n",
    "    cost_list[i][0] = min([cost_list[i-1][1], cost_list[i-1][2]]) + cost_list[i][0]\n",
    "    cost_list[i][1] = min([cost_list[i-1][0], cost_list[i-1][2]]) + cost_list[i][1]\n",
    "    cost_list[i][2] = min([cost_list[i-1][1], cost_list[i-1][0]]) + cost_list[i][2]\n",
    "print(min(cost_list[N-1]))"
   ]
  },
  {
   "cell_type": "markdown",
   "metadata": {},
   "source": [
    "문제\n",
    "계단 오르기 게임은 계단 아래 시작점부터 계단 꼭대기에 위치한 도착점까지 가는 게임이다. <그림 1>과 같이 각각의 계단에는 일정한 점수가 쓰여 있는데 계단을 밟으면 그 계단에 쓰여 있는 점수를 얻게 된다.\n",
    "예를 들어 <그림 2>와 같이 시작점에서부터 첫 번째, 두 번째, 네 번째, 여섯 번째 계단을 밟아 도착점에 도달하면 총 점수는 10 + 20 + 25 + 20 = 75점이 된다.\n",
    "계단 오르는 데는 다음과 같은 규칙이 있다.\n",
    "계단은 한 번에 한 계단씩 또는 두 계단씩 오를 수 있다. 즉, 한 계단을 밟으면서 이어서 다음 계단이나, 다음 다음 계단으로 오를 수 있다.\n",
    "연속된 세 개의 계단을 모두 밟아서는 안 된다. 단, 시작점은 계단에 포함되지 않는다.\n",
    "마지막 도착 계단은 반드시 밟아야 한다.\n",
    "따라서 첫 번째 계단을 밟고 이어 두 번째 계단이나, 세 번째 계단으로 오를 수 있다. 하지만, 첫 번째 계단을 밟고 이어 네 번째 계단으로 올라가거나, 첫 번째, 두 번째, 세 번째 계단을 연속해서 모두 밟을 수는 없다.\n",
    "각 계단에 쓰여 있는 점수가 주어질 때 이 게임에서 얻을 수 있는 총 점수의 최댓값을 구하는 프로그램을 작성하시오.\n",
    "\n",
    "입력\n",
    "입력의 첫째 줄에 계단의 개수가 주어진다.\n",
    "\n",
    "둘째 줄부터 한 줄에 하나씩 제일 아래에 놓인 계단부터 순서대로 각 계단에 쓰여 있는 점수가 주어진다. 계단의 개수는 300이하의 자연수이고, 계단에 쓰여 있는 점수는 10,000이하의 자연수이다.\n",
    "\n",
    "출력\n",
    "첫째 줄에 계단 오르기 게임에서 얻을 수 있는 총 점수의 최댓값을 출력한다."
   ]
  },
  {
   "cell_type": "code",
   "execution_count": null,
   "metadata": {},
   "outputs": [],
   "source": []
  },
  {
   "cell_type": "markdown",
   "metadata": {},
   "source": [
    "문제\n",
    "정수 X에 사용할 수 있는 연산은 다음과 같이 세 가지 이다.\n",
    "X가 3으로 나누어 떨어지면, 3으로 나눈다.\n",
    "X가 2로 나누어 떨어지면, 2로 나눈다.\n",
    "1을 뺀다.\n",
    "정수 N이 주어졌을 때, 위와 같은 연산 세 개를 적절히 사용해서 1을 만들려고 한다. 연산을 사용하는 횟수의 최솟값을 출력하시오.\n",
    "\n",
    "입력\n",
    "첫째 줄에 1보다 크거나 같고, 106보다 작거나 같은 정수 N이 주어진다.\n",
    "\n",
    "출력\n",
    "첫째 줄에 연산을 하는 횟수의 최솟값을 출력한다."
   ]
  },
  {
   "cell_type": "code",
   "execution_count": 70,
   "metadata": {},
   "outputs": [
    {
     "name": "stdout",
     "output_type": "stream",
     "text": [
      "1\n"
     ]
    }
   ],
   "source": [
    "N = int(input())\n",
    "dp = [[N]]\n",
    "cnt = 0\n",
    "while 1 not in dp[cnt]:\n",
    "    dp_next = []\n",
    "    for dp_past in dp[cnt]:\n",
    "        dp_next.append(dp_past - 1)\n",
    "        if dp_past % 3 == 0:\n",
    "            dp_next.append(dp_past // 3)\n",
    "        if dp_past % 2 == 0:\n",
    "            dp_next.append(dp_past // 2)\n",
    "    dp.append(dp_next)\n",
    "    cnt += 1\n",
    "print(cnt)"
   ]
  },
  {
   "cell_type": "markdown",
   "metadata": {},
   "source": [
    "문제\n",
    "45656이란 수를 보자.\n",
    "이 수는 인접한 모든 자리의 차이가 1이다. 이런 수를 계단 수라고 한다.\n",
    "N이 주어질 때, 길이가 N인 계단 수가 총 몇 개 있는지 구해보자. 0으로 시작하는 수는 계단수가 아니다.\n",
    "\n",
    "입력\n",
    "첫째 줄에 N이 주어진다. N은 1보다 크거나 같고, 100보다 작거나 같은 자연수이다.\n",
    "\n",
    "출력\n",
    "첫째 줄에 정답을 1,000,000,000으로 나눈 나머지를 출력한다."
   ]
  },
  {
   "cell_type": "code",
   "execution_count": 160,
   "metadata": {},
   "outputs": [
    {
     "name": "stdout",
     "output_type": "stream",
     "text": [
      "2017126\n"
     ]
    }
   ],
   "source": [
    "# 단순 메모이제이션을 통해 푸는 방법 # 시간초과\n",
    "N = int(input())\n",
    "dp = [str(i) for i in range(1, 10)]\n",
    "cnt = 1\n",
    "while N > cnt:\n",
    "    dp_next = []\n",
    "    for i in range(len(dp)):\n",
    "        if dp[i][-1] == '9':\n",
    "            dp_next.append(dp[i][-1] + str(int(dp[i][-1]) - 1))\n",
    "        elif dp[i][-1] == '0':\n",
    "            dp_next.append(dp[i][-1] + str(int(dp[i][-1]) + 1))\n",
    "        else:\n",
    "            dp_next.append(dp[i][-1] + str(int(dp[i][-1]) + 1))\n",
    "            dp_next.append(dp[i][-1] + str(int(dp[i][-1]) - 1))\n",
    "    dp = dp_next[:]\n",
    "    cnt += 1\n",
    "\n",
    "# print(dp)\n",
    "print(len(dp) % 1000000000)"
   ]
  },
  {
   "cell_type": "code",
   "execution_count": 162,
   "metadata": {},
   "outputs": [
    {
     "name": "stdout",
     "output_type": "stream",
     "text": [
      "2017126\n"
     ]
    }
   ],
   "source": [
    "# 1~9까지의 숫자가 각각의 자릿수마다 얼마나 올수 있는지를 확인하여 푸는 방법\n",
    "N = int(input())\n",
    "dp = [[0 for i in range(10)] for k in range(101)]\n",
    "for i in range(1, 10):\n",
    "    dp[1][i] = 1\n",
    "for i in range(2, N + 1):\n",
    "    for j in range(10):\n",
    "        if j == 0:\n",
    "            dp[i][j] = dp[i - 1][1]\n",
    "        elif j == 9:\n",
    "            dp[i][j] = dp[i - 1][8]\n",
    "        else:\n",
    "            dp[i][j] = dp[i - 1][j - 1] + dp[i - 1][j + 1]\n",
    "print(sum(dp[N]) % 1000000000)"
   ]
  },
  {
   "cell_type": "markdown",
   "metadata": {},
   "source": [
    "## 백준 11053번 증가하는 부분수열 https://www.acmicpc.net/problem/11053"
   ]
  },
  {
   "cell_type": "code",
   "execution_count": 290,
   "metadata": {},
   "outputs": [
    {
     "name": "stdout",
     "output_type": "stream",
     "text": [
      "3\n"
     ]
    }
   ],
   "source": [
    "N = int(input())\n",
    "num_list = list(map(int, input().split()))\n",
    "dp = [1 for x in range(N)]\n",
    "i = 1\n",
    "while i < N:\n",
    "    check_list = []\n",
    "    for k in range(i):\n",
    "        if num_list[k] < num_list[i]:\n",
    "            check_list.append(dp[k])\n",
    "        else:\n",
    "            check_list.append(0)\n",
    "    dp[i] = max(check_list)+1\n",
    "    i += 1\n",
    "print(max(dp))"
   ]
  },
  {
   "cell_type": "code",
   "execution_count": 287,
   "metadata": {},
   "outputs": [
    {
     "name": "stdout",
     "output_type": "stream",
     "text": [
      "[8, 9, 10, 1, 2, 3, 4]\n",
      "1 9 [1]\n",
      "2 10 [1, 2]\n",
      "3 1 [0, 0, 0]\n",
      "4 2 [0, 0, 0, 1]\n",
      "5 3 [0, 0, 0, 1, 2]\n",
      "6 4 [0, 0, 0, 1, 2, 3]\n",
      "4\n"
     ]
    }
   ],
   "source": [
    "# 가장 기초적인 방법\n",
    "print(num_list)\n",
    "dp = [1 for x in range(N)]\n",
    "i = 1\n",
    "while i < N:\n",
    "    check_list = []\n",
    "    for k in range(i):\n",
    "        if num_list[k] < num_list[i]:\n",
    "            check_list.append(dp[k])\n",
    "        else:\n",
    "            check_list.append(0)\n",
    "    print(i, num_list[i],check_list)\n",
    "    dp[i] = max(check_list)+1\n",
    "    i += 1\n",
    "print(max(dp))"
   ]
  },
  {
   "cell_type": "markdown",
   "metadata": {},
   "source": [
    "## 백준 2579번 계단 오르기 https://www.acmicpc.net/problem/2579"
   ]
  },
  {
   "cell_type": "code",
   "execution_count": 307,
   "metadata": {},
   "outputs": [
    {
     "name": "stdout",
     "output_type": "stream",
     "text": [
      "3\n"
     ]
    }
   ],
   "source": [
    "# dp[1] = 10 / dp[2] = dp[1] + num_list[2] / dp[3] = max(dp[1] + num_list[3], num_list[2] + num_list[3])\n",
    "# dp[4] = max(dp[2] + num_list[4], dp[1] + num_list[3] + num_list[4])\n",
    "# dp[5] = max(dp[3] + num_list[5], dp[2] + num_list[4] + num_list[5])\n",
    "N = int(input())\n",
    "num_list = [int(input()) for _ in range(N)]\n",
    "dp = [0 for _ in range(N)]\n",
    "\n",
    "if N < 2:\n",
    "    dp[0] = num_list[0]\n",
    "elif N < 3:\n",
    "    dp[0] = num_list[0]\n",
    "    dp[1] = num_list[0] + num_list[1]\n",
    "else:\n",
    "    dp[0] = num_list[0]\n",
    "    dp[1] = num_list[0] + num_list[1]\n",
    "    dp[2] = max(dp[0] + num_list[2], num_list[1] + num_list[2])\n",
    "    for i in range(3, N):\n",
    "        dp[i] = max(dp[i-2] + num_list[i], dp[i-3] + num_list[i-1] + num_list[i])\n",
    "print(dp[-1])"
   ]
  },
  {
   "cell_type": "markdown",
   "metadata": {},
   "source": [
    "## 백준 2156번 포도주 https://www.acmicpc.net/problem/2156"
   ]
  },
  {
   "cell_type": "code",
   "execution_count": 339,
   "metadata": {},
   "outputs": [
    {
     "name": "stdout",
     "output_type": "stream",
     "text": [
      "33\n"
     ]
    }
   ],
   "source": [
    "# dp[0] = grape[0] / dp[1] = grape[0] + grape[1] / dp[2] = max(dp[0] + grape[2], grape[1] + grape[2])\n",
    "# dp[3] = max(dp[1] + grape(3), dp[0] + grape[2] + grape[3])\n",
    "N = int(input())\n",
    "grape = [int(input()) for _ in range(N)]\n",
    "dp = [0 for _ in range(N)]\n",
    "if N < 2:\n",
    "    dp[0] = grape[0]\n",
    "elif N < 3:\n",
    "    dp[0] = grape[0]\n",
    "    dp[1] = grape[0] + grape[1]\n",
    "else:\n",
    "    dp[0] = grape[0]\n",
    "    dp[1] = grape[0] + grape[1]\n",
    "    dp[2] = max(dp[0] + grape[2], grape[1] + grape[2])\n",
    "    for i in range(3, N):\n",
    "        dp[i] = max(max(dp[:i-1]) + grape[i], max(dp[:i-2]) + grape[i-1] + grape[i])\n",
    "print(max(dp))"
   ]
  },
  {
   "cell_type": "code",
   "execution_count": 326,
   "metadata": {},
   "outputs": [
    {
     "data": {
      "text/plain": [
       "([100, 100, 1, 1, 100, 100], [100, 200, 101, 201, 301, 301])"
      ]
     },
     "execution_count": 326,
     "metadata": {},
     "output_type": "execute_result"
    }
   ],
   "source": [
    "grape, dp"
   ]
  },
  {
   "cell_type": "code",
   "execution_count": 335,
   "metadata": {},
   "outputs": [
    {
     "name": "stdout",
     "output_type": "stream",
     "text": [
      "400\n"
     ]
    }
   ],
   "source": [
    "dp = [0 for _ in range(N)]\n",
    "if N < 2:\n",
    "    dp[0] = grape[0]\n",
    "elif N < 3:\n",
    "    dp[0] = grape[0]\n",
    "    dp[1] = grape[0] + grape[1]\n",
    "else:\n",
    "    dp[0] = grape[0]\n",
    "    dp[1] = grape[0] + grape[1]\n",
    "    dp[2] = max(dp[0] + grape[2], grape[1] + grape[2])\n",
    "    for i in range(3, N):\n",
    "        dp[i] = max(max(dp[:i-1]) + grape[i], max(dp[:i-2]) + grape[i-1] + grape[i])\n",
    "print(max(dp))"
   ]
  }
 ],
 "metadata": {
  "interpreter": {
   "hash": "fe3bab233825460445dbfeea6dcd52ef5815a3fa13c858fea07ac830aa383284"
  },
  "kernelspec": {
   "display_name": "Python 3.8.10 64-bit ('base': conda)",
   "language": "python",
   "name": "python3"
  },
  "language_info": {
   "codemirror_mode": {
    "name": "ipython",
    "version": 3
   },
   "file_extension": ".py",
   "mimetype": "text/x-python",
   "name": "python",
   "nbconvert_exporter": "python",
   "pygments_lexer": "ipython3",
   "version": "3.8.10"
  },
  "orig_nbformat": 4
 },
 "nbformat": 4,
 "nbformat_minor": 2
}
