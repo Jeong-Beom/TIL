{
 "cells": [
  {
   "cell_type": "markdown",
   "metadata": {},
   "source": [
    "2493번 탑 https://www.acmicpc.net/problem/2493"
   ]
  },
  {
   "cell_type": "code",
   "execution_count": 29,
   "metadata": {},
   "outputs": [
    {
     "name": "stdout",
     "output_type": "stream",
     "text": [
      "0 0 2 2 4\n"
     ]
    }
   ],
   "source": [
    "N = int(input())\n",
    "towers = list(map(int, input().split()))\n",
    "\n",
    "ans = [0 for i in range(N)]\n",
    "stack = []\n",
    "\n",
    "cnt = 0\n",
    "while towers:\n",
    "    t_num, t_index = towers.pop(), (N - cnt)\n",
    "    stack.append([t_num, t_index])\n",
    "    while stack:\n",
    "        ele_num, ele_index = stack[-1]\n",
    "        if len(towers) == 0:\n",
    "            break\n",
    "        elif ele_num <= towers[-1]:\n",
    "            ans[ele_index-1] = len(towers)\n",
    "            stack.pop()\n",
    "        else:\n",
    "            break\n",
    "    cnt += 1\n",
    "print(*ans)"
   ]
  },
  {
   "cell_type": "markdown",
   "metadata": {},
   "source": [
    "16234번 인구이동 https://www.acmicpc.net/problem/16234"
   ]
  },
  {
   "cell_type": "code",
   "execution_count": 34,
   "metadata": {},
   "outputs": [
    {
     "name": "stdout",
     "output_type": "stream",
     "text": [
      "[10, 100, 50, 50]\n",
      "[50, 50, 50, 50]\n",
      "[50, 50, 50, 50]\n",
      "[50, 50, 100, 50]\n",
      "\n",
      "[30, 66, 66, 50]\n",
      "[30, 66, 50, 50]\n",
      "[50, 50, 62, 50]\n",
      "[50, 62, 62, 62]\n",
      "\n",
      "[48, 48, 54, 54]\n",
      "[54, 54, 54, 50]\n",
      "[54, 54, 54, 54]\n",
      "[54, 54, 62, 54]\n",
      "\n",
      "3\n"
     ]
    }
   ],
   "source": [
    "# Pypy3로만 통과가능\n",
    "\n",
    "from collections import deque\n",
    "import sys\n",
    "\n",
    "# input = sys.stdin.readline\n",
    "N, L, R = map(int, input().split()) # N: 행렬의 크기 / L: 최솟값 / R: 최댓값\n",
    "field = [list(map(int, input().split())) for _ in range(N)]\n",
    "\n",
    "dx = [-1, 1, 0, 0]\n",
    "dy = [0, 0, -1, 1]\n",
    "\n",
    "def bfs():\n",
    "    queue = deque()\n",
    "    circulation_cp = False\n",
    "    visited = [[False for _ in range(N)] for _ in range(N)]\n",
    "\n",
    "    for cp_x in range(N):\n",
    "        for cp_y in range(N):\n",
    "            cps_loc = [[cp_x, cp_y]]\n",
    "            cps_ans = field[cp_y][cp_x]\n",
    "            if visited[cp_y][cp_x] == False:\n",
    "                queue.append([cp_x, cp_y])\n",
    "                visited[cp_y][cp_x] = True\n",
    "                while queue:\n",
    "                    x, y = queue.popleft()\n",
    "                    for i in range(4):\n",
    "                        nx = x + dx[i]\n",
    "                        ny = y + dy[i]\n",
    "                        if 0 <= nx < N and 0 <= ny < N:\n",
    "                            check = abs(field[y][x] - field[ny][nx])\n",
    "                            if L <= check <= R and visited[ny][nx] == False:\n",
    "                                 if circulation_cp == False:\n",
    "                                     circulation_cp = True\n",
    "                                 visited[ny][nx] = True\n",
    "                                 queue.append([nx, ny])\n",
    "                                 cps_loc.append([nx, ny])\n",
    "                                 cps_ans += field[ny][nx]\n",
    "                if len(cps_loc ) > 1:\n",
    "                    new_pop = cps_ans // len(cps_loc)\n",
    "                    for x, y in cps_loc:\n",
    "                        field[y][x] = new_pop\n",
    "    return circulation_cp\n",
    "\n",
    "ans = 0\n",
    "while bfs():\n",
    "    for i in range(N):\n",
    "        print(field[i])\n",
    "    print()\n",
    "    ans += 1\n",
    "print(ans)"
   ]
  }
 ],
 "metadata": {
  "interpreter": {
   "hash": "fe3bab233825460445dbfeea6dcd52ef5815a3fa13c858fea07ac830aa383284"
  },
  "kernelspec": {
   "display_name": "Python 3.8.10 ('base')",
   "language": "python",
   "name": "python3"
  },
  "language_info": {
   "codemirror_mode": {
    "name": "ipython",
    "version": 3
   },
   "file_extension": ".py",
   "mimetype": "text/x-python",
   "name": "python",
   "nbconvert_exporter": "python",
   "pygments_lexer": "ipython3",
   "version": "3.8.10"
  },
  "orig_nbformat": 4
 },
 "nbformat": 4,
 "nbformat_minor": 2
}
