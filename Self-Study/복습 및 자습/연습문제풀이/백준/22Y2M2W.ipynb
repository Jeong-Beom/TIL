{
 "cells": [
  {
   "cell_type": "markdown",
   "metadata": {},
   "source": [
    "11057번 오르막 수 https://www.acmicpc.net/problem/11057"
   ]
  },
  {
   "cell_type": "code",
   "execution_count": 49,
   "metadata": {},
   "outputs": [
    {
     "name": "stdout",
     "output_type": "stream",
     "text": [
      "220\n"
     ]
    }
   ],
   "source": [
    "N = int(input())\n",
    "\n",
    "def find(N):\n",
    "    dp = [[1 for _ in range(10)]]\n",
    "    for i in range(N-1):\n",
    "        dp.append([0 for _ in range(10)])\n",
    "\n",
    "    for i in range(1, N):\n",
    "        for k in range(10):\n",
    "            if k == 0:\n",
    "                dp[i][k] = sum(dp[i-1])\n",
    "            else:\n",
    "                dp[i][k] = dp[i][k-1] - dp[i-1][k-1]\n",
    "    ans = sum(dp[N-1]) % 10007\n",
    "    return ans\n",
    "    \n",
    "print(find(N))"
   ]
  }
 ],
 "metadata": {
  "interpreter": {
   "hash": "fe3bab233825460445dbfeea6dcd52ef5815a3fa13c858fea07ac830aa383284"
  },
  "kernelspec": {
   "display_name": "Python 3.8.10 64-bit ('base': conda)",
   "language": "python",
   "name": "python3"
  },
  "language_info": {
   "codemirror_mode": {
    "name": "ipython",
    "version": 3
   },
   "file_extension": ".py",
   "mimetype": "text/x-python",
   "name": "python",
   "nbconvert_exporter": "python",
   "pygments_lexer": "ipython3",
   "version": "3.8.10"
  },
  "orig_nbformat": 4
 },
 "nbformat": 4,
 "nbformat_minor": 2
}
