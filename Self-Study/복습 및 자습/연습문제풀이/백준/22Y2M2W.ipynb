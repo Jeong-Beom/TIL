{
 "cells": [
  {
   "cell_type": "markdown",
   "metadata": {},
   "source": [
    "11057번 오르막 수 https://www.acmicpc.net/problem/11057"
   ]
  },
  {
   "cell_type": "code",
   "execution_count": 52,
   "metadata": {},
   "outputs": [
    {
     "name": "stdout",
     "output_type": "stream",
     "text": [
      "[[1, 1, 1, 1, 1, 1, 1, 1, 1, 1], [10, 9, 8, 7, 6, 5, 4, 3, 2, 1], [55, 45, 36, 28, 21, 15, 10, 6, 3, 1], [220, 165, 120, 84, 56, 35, 20, 10, 4, 1]]\n",
      "715\n"
     ]
    }
   ],
   "source": [
    "N = int(input())\n",
    "\n",
    "def find(N):\n",
    "    dp = [[1 for _ in range(10)]]\n",
    "    for i in range(N-1):\n",
    "        dp.append([0 for _ in range(10)])\n",
    "\n",
    "    for i in range(1, N):\n",
    "        for k in range(10):\n",
    "            if k == 0:\n",
    "                dp[i][k] = sum(dp[i-1])\n",
    "            else:\n",
    "                dp[i][k] = dp[i][k-1] - dp[i-1][k-1]\n",
    "    ans = sum(dp[N-1]) % 10007\n",
    "    print(dp)\n",
    "    return ans\n",
    "\n",
    "print(find(N))"
   ]
  },
  {
   "cell_type": "markdown",
   "metadata": {},
   "source": [
    "2644번 촌수계산 https://www.acmicpc.net/problem/2644"
   ]
  },
  {
   "cell_type": "code",
   "execution_count": 11,
   "metadata": {},
   "outputs": [
    {
     "name": "stdout",
     "output_type": "stream",
     "text": [
      "0\n"
     ]
    }
   ],
   "source": [
    "# 구현에 필요한 패키지 로드\n",
    "from collections import deque\n",
    "import sys\n",
    "\n",
    "# 입력값 저장 및 그래프 구현\n",
    "# input = sys.stdin.readline\n",
    "n = int(input()) \n",
    "p1, p2 = map(int, input().split())\n",
    "m = int(input())\n",
    "line = [[] for _ in range(n+1)]\n",
    "for _ in range(m):\n",
    "    s, e = map(int, input().split())\n",
    "    line[s].append(e)\n",
    "    line[e].append(s)\n",
    "\n",
    "def bfs(p1, p2):\n",
    "    queue = deque() # 그래프를 탐색하고 간선을 갱신할 queue생성\n",
    "    visited = [False for _ in range(n+1)] # 방문여부를 확인할 리스트 생성\n",
    "    relation = [float('inf') for _ in range(n+1)] # 관계차수를 갱신할 리스트 생성\n",
    "    queue.append(p1) # 초기값 입력\n",
    "\n",
    "    cnt = 0\n",
    "    while queue:\n",
    "        for _ in range(len(queue)):\n",
    "            check = queue.popleft()\n",
    "            if visited[check] == False: # 방문하지 않은 정점이 들어올 경우 명령문 실행\n",
    "                relation[check] = cnt\n",
    "                visited[check] = True\n",
    "                queue.extend(line[check]) # 그래프에 리스트형태로 저장했으므로 extend로 값들을 queue에 저장\n",
    "        # 한바퀴 다 돌때마다 촌수 증가명령\n",
    "        cnt += 1\n",
    "    \n",
    "    if relation[p2] == float('inf'):\n",
    "        print(-1)\n",
    "    else:\n",
    "        print(relation[p2])\n",
    "    return\n",
    "\n",
    "bfs(p1, p2)"
   ]
  },
  {
   "cell_type": "markdown",
   "metadata": {},
   "source": [
    "1238번 파티 https://www.acmicpc.net/problem/1238"
   ]
  },
  {
   "cell_type": "code",
   "execution_count": 15,
   "metadata": {},
   "outputs": [
    {
     "name": "stdout",
     "output_type": "stream",
     "text": [
      "inf\n"
     ]
    }
   ],
   "source": [
    "# 조건1: 모든 학생들은 X로 갈 수 있고, X에서 집으로 돌아올 수 있다.\n",
    "from heapq import heappush, heappop\n",
    "import sys\n",
    "\n",
    "# input = sys.stdin.readline\n",
    "N, M, X = map(int, input().split()) # N: 학생의 수 / M: 도로의 수 / X: 소요시간\n",
    "graph = [[] for _ in range(N+1)] # 그래프 구현\n",
    "for _ in range(M):\n",
    "    s, e, t = map(int, input().split())\n",
    "    graph[s].append([t, e])\n",
    "\n",
    "def dijkstra(start):\n",
    "    heap = []\n",
    "    dp = [float('inf') for _ in range(N+1)] # 가중치 갱신을 위한 리스트\n",
    "    heappush(heap, [0, start]) \n",
    "    dp[start] = 0\n",
    "\n",
    "    while heap:\n",
    "        t1, p1 = heappop(heap)\n",
    "        for t2, p2 in graph[p1]:\n",
    "            # X에서 p2로 가는 가중치보다 X에서 p1으로 이동하는 가중치가 크면 명령 미실행\n",
    "            if t1 > dp[p2]: \n",
    "                continue\n",
    "            t3 = t1 + t2\n",
    "            # 기존 가중치보다 작은 값이 나오면 값을 대체하고 해당 가중치와 정점을 자료구조에 저장\n",
    "            if t3 < dp[p2]: \n",
    "                dp[p2] = t3\n",
    "                heappush(heap, [t3, p2]) \n",
    "    return dp\n",
    "\n",
    "# 반복문을 활용한 최단시간 도출\n",
    "time = [0 for _ in range(N+1)]\n",
    "p_h = dijkstra(X)\n",
    "for i in range(1, N+1):\n",
    "    if i != X:\n",
    "        cp1 = dijkstra(i)[X]\n",
    "        time[i] += cp1 + p_h[i]\n",
    "print(max(time))"
   ]
  }
 ],
 "metadata": {
  "interpreter": {
   "hash": "fe3bab233825460445dbfeea6dcd52ef5815a3fa13c858fea07ac830aa383284"
  },
  "kernelspec": {
   "display_name": "Python 3.8.10 64-bit ('base': conda)",
   "language": "python",
   "name": "python3"
  },
  "language_info": {
   "codemirror_mode": {
    "name": "ipython",
    "version": 3
   },
   "file_extension": ".py",
   "mimetype": "text/x-python",
   "name": "python",
   "nbconvert_exporter": "python",
   "pygments_lexer": "ipython3",
   "version": "3.8.10"
  },
  "orig_nbformat": 4
 },
 "nbformat": 4,
 "nbformat_minor": 2
}
