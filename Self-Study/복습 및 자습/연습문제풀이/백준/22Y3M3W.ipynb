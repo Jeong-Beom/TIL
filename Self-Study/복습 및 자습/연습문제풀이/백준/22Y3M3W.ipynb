{
 "cells": [
  {
   "cell_type": "markdown",
   "metadata": {},
   "source": [
    "1743번 음식물 피하기 https://www.acmicpc.net/problem/1743"
   ]
  },
  {
   "cell_type": "code",
   "execution_count": 6,
   "metadata": {},
   "outputs": [
    {
     "name": "stdout",
     "output_type": "stream",
     "text": [
      "4\n"
     ]
    }
   ],
   "source": [
    "from collections import deque\n",
    "import sys\n",
    "\n",
    "N, M, K = map(int, input().split()) # N: 세로길이 / M: 가로길이 / K: 음식물 개수\n",
    "# input = sys.stdin.readline\n",
    "dx = [-1, 1, 0, 0]\n",
    "dy = [0, 0, -1, 1]\n",
    "locs = []\n",
    "field = [[0 for _ in range(M+1)] for _ in range(N+1)]\n",
    "for _ in range(K):\n",
    "    y, x = map(int, input().split())\n",
    "    locs.append([x, y])\n",
    "    field[y][x] = 1\n",
    " \n",
    "def bfs(x, y):\n",
    "    queue = deque()\n",
    "    queue.append([x, y])\n",
    "    field[y][x] = 2\n",
    "\n",
    "    cnt2 = 1\n",
    "    while queue:\n",
    "        x, y = queue.popleft()\n",
    "        for i in range(4):\n",
    "            nx = x + dx[i]\n",
    "            ny = y + dy[i]\n",
    "            if 0 <= nx < M+1 and 0 <= ny < N+1 and field[ny][nx] == 1:\n",
    "                field[ny][nx] = 2\n",
    "                queue.append([nx, ny])\n",
    "                cnt2 += 1\n",
    "            \n",
    "    return cnt2\n",
    "\n",
    "\n",
    "ans = 0\n",
    "for loc in locs:\n",
    "    nx, ny = loc\n",
    "    cnt3 = bfs(nx, ny)\n",
    "    if ans < cnt3:\n",
    "        ans = cnt3\n",
    "print(ans)"
   ]
  },
  {
   "cell_type": "markdown",
   "metadata": {},
   "source": [
    "14501번 퇴사 https://www.acmicpc.net/problem/14501"
   ]
  },
  {
   "cell_type": "code",
   "execution_count": 2,
   "metadata": {},
   "outputs": [
    {
     "name": "stdout",
     "output_type": "stream",
     "text": [
      "45\n"
     ]
    }
   ],
   "source": [
    "n = int(input())\n",
    "times = []\n",
    "prices = []\n",
    "dp = [0 for _ in range(n+1)]\n",
    "for i in range(n):\n",
    "    time, price = map(int, input().split())\n",
    "    times.append(time)\n",
    "    prices.append(price)\n",
    "for i in range(n - 1, -1, -1):\n",
    "    if times[i] + i > n:\n",
    "        dp[i] = dp[i + 1]\n",
    "    else:\n",
    "        dp[i] = max(dp[i + 1], prices[i] + dp[i + times[i]])\n",
    "print(dp[0])"
   ]
  },
  {
   "cell_type": "markdown",
   "metadata": {},
   "source": [
    "2513번 회전초밥 https://www.acmicpc.net/problem/2531"
   ]
  },
  {
   "cell_type": "code",
   "execution_count": 7,
   "metadata": {},
   "outputs": [
    {
     "name": "stdout",
     "output_type": "stream",
     "text": [
      "4\n"
     ]
    }
   ],
   "source": [
    "from collections import deque\n",
    "import sys\n",
    "\n",
    "# input = sys.stdin.readline\n",
    "N, d, k, c = map(int, input().split()) # N: 접시의 수 / d: 초밥의 가짓수 / k: 연속해서 먹는 접시의 수 / c: 쿠폰번호\n",
    "cp1, cp2 = 0, k-1\n",
    "sushi = []\n",
    "for _ in range(N):\n",
    "    sushi.append(int(input()))\n",
    "\n",
    "case = deque(sushi[0:k])\n",
    "ans = len(set(case))\n",
    "while cp2 < N:\n",
    "    if cp2 > k-1:\n",
    "        case.append(sushi[cp2])\n",
    "    else:\n",
    "        pass\n",
    "    case_sample = len(set(case))\n",
    "    if c not in set(case):\n",
    "        case_sample += 1\n",
    "    if ans < case_sample:\n",
    "        ans = case_sample\n",
    "    case.popleft()\n",
    "    cp1 += 1\n",
    "    cp2 += 1\n",
    "print(ans)"
   ]
  }
 ],
 "metadata": {
  "interpreter": {
   "hash": "fe3bab233825460445dbfeea6dcd52ef5815a3fa13c858fea07ac830aa383284"
  },
  "kernelspec": {
   "display_name": "Python 3.8.10 ('base')",
   "language": "python",
   "name": "python3"
  },
  "language_info": {
   "codemirror_mode": {
    "name": "ipython",
    "version": 3
   },
   "file_extension": ".py",
   "mimetype": "text/x-python",
   "name": "python",
   "nbconvert_exporter": "python",
   "pygments_lexer": "ipython3",
   "version": "3.8.10"
  },
  "orig_nbformat": 4
 },
 "nbformat": 4,
 "nbformat_minor": 2
}
