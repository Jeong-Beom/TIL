{
 "cells": [
  {
   "cell_type": "markdown",
   "metadata": {},
   "source": [
    "2225번 합분해 https://www.acmicpc.net/problem/2225"
   ]
  },
  {
   "cell_type": "code",
   "execution_count": 20,
   "metadata": {},
   "outputs": [
    {
     "name": "stdout",
     "output_type": "stream",
     "text": [
      "21\n"
     ]
    }
   ],
   "source": [
    "import sys\n",
    "sys.setrecursionlimit(1000000000)\n",
    "N, K = map(int, input().split())\n",
    "\n",
    "value = [i for i in range(N+1)]\n",
    "arr = []\n",
    "ans = 0\n",
    "def dfs():\n",
    "    global ans\n",
    "    if len(arr) == K:\n",
    "        if sum(arr) == N:\n",
    "            ans += 1\n",
    "            return\n",
    "        else:\n",
    "            return\n",
    "    \n",
    "    for i in range(N+1):\n",
    "        if i > N:\n",
    "            continue\n",
    "        arr.append(value[i])\n",
    "        dfs()\n",
    "        arr.pop()\n",
    "    \n",
    "dfs()\n",
    "print(ans % 1000000000)"
   ]
  },
  {
   "cell_type": "code",
   "execution_count": 23,
   "metadata": {},
   "outputs": [
    {
     "name": "stdout",
     "output_type": "stream",
     "text": [
      "21\n"
     ]
    }
   ],
   "source": [
    "n, k = map(int, input().split())\n",
    "dp = [[0 for _ in range(201)] for i in range(201)]\n",
    "for i in range(201):\n",
    "    dp[i][1] = 1\n",
    "for i in range(1, 201):\n",
    "    for j in range(201):\n",
    "        for l in range(j + 1):\n",
    "            dp[j][i] += dp[l][i - 1]\n",
    "print(dp[n][k] % 1000000000)"
   ]
  },
  {
   "cell_type": "markdown",
   "metadata": {},
   "source": [
    "9095번 1, 2, 3 더하기 https://www.acmicpc.net/problem/9095"
   ]
  },
  {
   "cell_type": "code",
   "execution_count": 21,
   "metadata": {},
   "outputs": [
    {
     "name": "stdout",
     "output_type": "stream",
     "text": [
      "7\n",
      "44\n",
      "274\n"
     ]
    }
   ],
   "source": [
    "# 1일경우: [1] / 2일경우: [1, 1], [2] / 3일경우: [1, 1, 1], [1, 2], [2, 1], [3]\n",
    "# 4일경우: 7개(문제제공) / 5일경우: [1, 1, 1, 1, 1], [1, 1, 1, 2](순서변경으로 4개), [2, 2, 1](3개), [1, 1, 3](3개), [2, 3](2개) = 13개\n",
    "# 점화식 추론 - 4일경우(7개) - 1일경우(1개) + 2일경우(2개) + 3일경우(4개)\n",
    "# 점화식 추론(이어서) - 5일경우(13개) - 2일경우(2개), 3일경우(4개), 4일경우(7개)\n",
    "# 점화식 : f(x) = f(x-1) + f(x-2) + f(x-3)\n",
    "\n",
    "T = int(input())\n",
    "for _ in range(T):\n",
    "    number = int(input())\n",
    "    dp = [0 for _ in range(11)]\n",
    "    dp[1] = 1\n",
    "    dp[2] = 2\n",
    "    dp[3] = 4\n",
    "    for i in range(4, number+1):\n",
    "        dp[i] = dp[i-1] + dp[i-2] + dp[i-3]\n",
    "    print(dp[number])"
   ]
  },
  {
   "cell_type": "markdown",
   "metadata": {},
   "source": [
    "15988번 1, 2, 3 더하기3 https://www.acmicpc.net/problem/15988"
   ]
  },
  {
   "cell_type": "code",
   "execution_count": null,
   "metadata": {},
   "outputs": [],
   "source": [
    "dp = [0 for _ in range(1000001)]\n",
    "dp[1] = 1 \n",
    "dp[2] = 2\n",
    "dp[3] = 4\n",
    "for i in range(4, 1000001):\n",
    "    if dp[i] == 0:\n",
    "        dp[i] = (dp[i-1] + dp[i-2] + dp[i-3]) % 1000000009\n",
    "T = int(input())\n",
    "for _ in range(T):  \n",
    "    number = int(input())\n",
    "    print(dp[number] % 1000000009)"
   ]
  },
  {
   "cell_type": "markdown",
   "metadata": {},
   "source": [
    "11726번 2xn 타일링 https://www.acmicpc.net/problem/11726"
   ]
  },
  {
   "cell_type": "code",
   "execution_count": 17,
   "metadata": {},
   "outputs": [
    {
     "name": "stdout",
     "output_type": "stream",
     "text": [
      "55\n"
     ]
    }
   ],
   "source": [
    "# n = 1 : 1개 / n = 2 : 2개 / n = 3 : 3개 / n = 4 : 5개\n",
    "dp = [0 for _ in range(1001)]\n",
    "dp[1] = 1\n",
    "dp[2] = 2\n",
    "dp[3] = 3\n",
    "for i in range(4, 1001):\n",
    "    dp[i] = (dp[i-1] + dp[i-2]) % 10007\n",
    "print(dp[int(input())])"
   ]
  },
  {
   "cell_type": "code",
   "execution_count": 24,
   "metadata": {},
   "outputs": [
    {
     "name": "stdout",
     "output_type": "stream",
     "text": [
      "55\n"
     ]
    },
    {
     "data": {
      "text/plain": [
       "[0, 1, 2, 3, 5, 8, 13, 21, 34, 55]"
      ]
     },
     "execution_count": 24,
     "metadata": {},
     "output_type": "execute_result"
    }
   ],
   "source": [
    "# n = 1 : 1개 / n = 2 : 2개 / n = 3 : 3개 / n = 4 : 5개\n",
    "N = int(input())\n",
    "if N > 3:\n",
    "    dp = [0 for _ in range(N+1)]\n",
    "else:\n",
    "    dp = [0 for _ in range(4)]\n",
    "dp[1] = 1\n",
    "dp[2] = 2\n",
    "dp[3] = 3\n",
    "for i in range(4, N+1):\n",
    "    dp[i] = (dp[i-1] + dp[i-2]) % 10007\n",
    "print(dp[N])"
   ]
  },
  {
   "cell_type": "markdown",
   "metadata": {},
   "source": [
    "9326번 탈옥 https://www.acmicpc.net/problem/9376"
   ]
  },
  {
   "cell_type": "code",
   "execution_count": 25,
   "metadata": {},
   "outputs": [],
   "source": [
    "h, w = map(int, input().split())\n",
    "jail = []\n",
    "for _ in range(h):\n",
    "    jail.append(list(input()))"
   ]
  },
  {
   "cell_type": "code",
   "execution_count": 1,
   "metadata": {},
   "outputs": [
    {
     "name": "stdout",
     "output_type": "stream",
     "text": [
      "[[0, 0, 1, 3], [1, 0, 7, 3]]\n",
      "['*', '*', '*', '*', '#', '*', '*', '*', '*']\n",
      "['*', '.', '.', '#', '.', '#', '.', '.', '*']\n",
      "['*', '*', '*', '*', '.', '*', '*', '*', '*']\n",
      "['*', '0', '#', '.', '#', '.', '#', '0', '*']\n",
      "['*', '*', '*', '*', '*', '*', '*', '*', '*']\n",
      "\n",
      "[[0, 1, 2, 3], [1, 0, 7, 3]]\n",
      "['*', '*', '*', '*', '#', '*', '*', '*', '*']\n",
      "['*', '.', '.', '#', '.', '#', '.', '.', '*']\n",
      "['*', '*', '*', '*', '.', '*', '*', '*', '*']\n",
      "['*', '0', '#', '.', '#', '.', '#', '0', '*']\n",
      "['*', '*', '*', '*', '*', '*', '*', '*', '*']\n",
      "\n",
      "[[0, 1, 3, 3], [1, 0, 7, 3]]\n",
      "['*', '*', '*', '*', '#', '*', '*', '*', '*']\n",
      "['*', '.', '.', '#', '.', '#', '.', '.', '*']\n",
      "['*', '*', '*', '*', '.', '*', '*', '*', '*']\n",
      "['*', '0', '#', '0', '#', '.', '#', '0', '*']\n",
      "['*', '*', '*', '*', '*', '*', '*', '*', '*']\n",
      "\n",
      "[[0, 2, 2, 3], [1, 0, 7, 3], [0, 2, 4, 3]]\n",
      "['*', '*', '*', '*', '#', '*', '*', '*', '*']\n",
      "['*', '.', '.', '#', '.', '#', '.', '.', '*']\n",
      "['*', '*', '*', '*', '.', '*', '*', '*', '*']\n",
      "['*', '0', '#', '0', '#', '.', '#', '0', '*']\n",
      "['*', '*', '*', '*', '*', '*', '*', '*', '*']\n",
      "\n",
      "[[0, 2, 4, 3], [1, 0, 7, 3]]\n",
      "['*', '*', '*', '*', '#', '*', '*', '*', '*']\n",
      "['*', '.', '.', '#', '.', '#', '.', '.', '*']\n",
      "['*', '*', '*', '*', '.', '*', '*', '*', '*']\n",
      "['*', '0', '#', '0', '#', '.', '#', '0', '*']\n",
      "['*', '*', '*', '*', '*', '*', '*', '*', '*']\n",
      "\n",
      "[[0, 2, 4, 2], [1, 0, 7, 3], [0, 2, 5, 3]]\n",
      "['*', '*', '*', '*', '#', '*', '*', '*', '*']\n",
      "['*', '.', '.', '#', '.', '#', '.', '.', '*']\n",
      "['*', '*', '*', '*', '0', '*', '*', '*', '*']\n",
      "['*', '0', '#', '0', '#', '0', '#', '0', '*']\n",
      "['*', '*', '*', '*', '*', '*', '*', '*', '*']\n",
      "\n",
      "[[0, 2, 4, 1], [0, 3, 4, 3], [0, 2, 5, 3], [1, 0, 7, 3]]\n",
      "['*', '*', '*', '*', '#', '*', '*', '*', '*']\n",
      "['*', '.', '.', '#', '0', '#', '.', '.', '*']\n",
      "['*', '*', '*', '*', '0', '*', '*', '*', '*']\n",
      "['*', '0', '#', '0', '#', '0', '#', '0', '*']\n",
      "['*', '*', '*', '*', '*', '*', '*', '*', '*']\n",
      "\n",
      "5\n"
     ]
    }
   ],
   "source": [
    "# 진행중\n",
    "import sys\n",
    "from heapq import heappush, heappop\n",
    "\n",
    "h, w = 5, 9\n",
    "jail = [['*', '*', '*', '*', '#', '*', '*', '*', '*'],\n",
    "        ['*', '.', '.', '#', '.', '#', '.', '.', '*'],\n",
    "        ['*', '*', '*', '*', '.', '*', '*', '*', '*'],\n",
    "        ['*', '$', '#', '.', '#', '.', '#', '$', '*'],\n",
    "        ['*', '*', '*', '*', '*', '*', '*', '*', '*']]\n",
    "\n",
    "dx = [-1, 1, 0, 0]\n",
    "dy = [0, 0, -1, 1]\n",
    "\n",
    "# 각각의 문별로 열린 횟수 체크 필요\n",
    "def shawshank(jail):\n",
    "    heap = []\n",
    "    # 죄수들의 위치확인 및 좌표저장\n",
    "    pri_num = 0 # 죄수번호 지정 및 저장\n",
    "    for x_pri in range(w):\n",
    "        for y_pri in range(h):\n",
    "            if jail[y_pri][x_pri] == '$':\n",
    "                heappush(heap, [pri_num, 0, x_pri, y_pri]) \n",
    "                # [열은 문의 개수, 죄수번호, x좌표, y좌표]\n",
    "                jail[y_pri][x_pri] = '0'\n",
    "                pri_num += 1\n",
    "    \n",
    "    escape = [False, False] # 죄수 2명의 탈출여부 확인 및 기록\n",
    "    ans = 0\n",
    "    while heap:\n",
    "        print(heap)\n",
    "        for i in range(h):\n",
    "            print(jail[i])\n",
    "        print('')\n",
    "        prisoner, door, x, y = heappop(heap)\n",
    "        for i in range(4):\n",
    "            nx = x + dx[i]\n",
    "            ny = y + dy[i]\n",
    "            if 0 < nx < w-1 and 0 < ny < h-1:\n",
    "                if jail[ny][nx] == '.' or jail[ny][nx] == '0':\n",
    "                    if prisoner == 1:\n",
    "                        heappush(heap, [prisoner, door, nx, ny])\n",
    "                    if prisoner == 0 and jail[ny][nx] == '.':\n",
    "                        heappush(heap, [prisoner, door, nx, ny])\n",
    "                        jail[ny][nx] = '0'\n",
    "                if jail[ny][nx] == '#':\n",
    "                    heappush(heap, [prisoner, door+1, nx, ny])\n",
    "                if jail[ny][nx] != '0' and jail[ny][nx] != '*' and jail[ny][nx] != '#':\n",
    "                    heappush(heap, [prisoner, door, nx, ny])\n",
    "            if nx == 0 or nx == w-1 or ny == 0 or ny == h-1:\n",
    "                if jail[ny][nx] == '.':\n",
    "                    escape[prisoner] == True\n",
    "                    ans += door\n",
    "                    if escape == [True, True]:\n",
    "                        print(ans)\n",
    "                        return\n",
    "                if jail[ny][nx] == '#':\n",
    "                    escape[prisoner] == True\n",
    "                    ans += door + 1\n",
    "                    jail[ny][nx] = str(door+1)\n",
    "                if jail[ny][nx] != '.' and jail[ny][nx] != '*' and jail[ny][nx] != '#':\n",
    "                    escape[prisoner] == True\n",
    "                    ans += door\n",
    "                    print(ans)\n",
    "                    return\n",
    "\n",
    "shawshank(jail)"
   ]
  },
  {
   "cell_type": "markdown",
   "metadata": {},
   "source": [
    "2960번 에라토스테네스의 체 https://www.acmicpc.net/problem/2960 "
   ]
  },
  {
   "cell_type": "code",
   "execution_count": 18,
   "metadata": {},
   "outputs": [
    {
     "name": "stdout",
     "output_type": "stream",
     "text": [
      "6\n"
     ]
    }
   ],
   "source": [
    "N, K = map(int, input().split())\n",
    "\n",
    "def check_number(N, K):\n",
    "    check = [False for _ in range(N+1)]\n",
    "    number = [i for i in range(N+1)]\n",
    "    cnt = 0\n",
    "\n",
    "    for i in range(2, N+1):\n",
    "        if check[i] == False:\n",
    "            for k in range(i, N+1, i):\n",
    "                if check[k] == False:\n",
    "                    cnt += 1\n",
    "                    check[k] = True\n",
    "                    if cnt == K:\n",
    "                        print(k)\n",
    "                        return\n",
    "\n",
    "check_number(N, K)"
   ]
  }
 ],
 "metadata": {
  "interpreter": {
   "hash": "fe3bab233825460445dbfeea6dcd52ef5815a3fa13c858fea07ac830aa383284"
  },
  "kernelspec": {
   "display_name": "Python 3.8.10 64-bit ('base': conda)",
   "language": "python",
   "name": "python3"
  },
  "language_info": {
   "codemirror_mode": {
    "name": "ipython",
    "version": 3
   },
   "file_extension": ".py",
   "mimetype": "text/x-python",
   "name": "python",
   "nbconvert_exporter": "python",
   "pygments_lexer": "ipython3",
   "version": "3.8.10"
  },
  "orig_nbformat": 4
 },
 "nbformat": 4,
 "nbformat_minor": 2
}
