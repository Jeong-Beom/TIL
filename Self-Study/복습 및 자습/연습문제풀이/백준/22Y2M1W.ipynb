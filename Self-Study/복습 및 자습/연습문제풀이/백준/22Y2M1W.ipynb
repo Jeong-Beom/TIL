{
 "cells": [
  {
   "cell_type": "markdown",
   "metadata": {},
   "source": [
    "2225번 합분해 https://www.acmicpc.net/problem/2225"
   ]
  },
  {
   "cell_type": "code",
   "execution_count": 20,
   "metadata": {},
   "outputs": [
    {
     "name": "stdout",
     "output_type": "stream",
     "text": [
      "21\n"
     ]
    }
   ],
   "source": [
    "import sys\n",
    "sys.setrecursionlimit(1000000000)\n",
    "N, K = map(int, input().split())\n",
    "\n",
    "value = [i for i in range(N+1)]\n",
    "arr = []\n",
    "ans = 0\n",
    "def dfs():\n",
    "    global ans\n",
    "    if len(arr) == K:\n",
    "        if sum(arr) == N:\n",
    "            ans += 1\n",
    "            return\n",
    "        else:\n",
    "            return\n",
    "    \n",
    "    for i in range(N+1):\n",
    "        if i > N:\n",
    "            continue\n",
    "        arr.append(value[i])\n",
    "        dfs()\n",
    "        arr.pop()\n",
    "    \n",
    "dfs()\n",
    "print(ans % 1000000000)"
   ]
  },
  {
   "cell_type": "code",
   "execution_count": 23,
   "metadata": {},
   "outputs": [
    {
     "name": "stdout",
     "output_type": "stream",
     "text": [
      "21\n"
     ]
    }
   ],
   "source": [
    "n, k = map(int, input().split())\n",
    "dp = [[0 for _ in range(201)] for i in range(201)]\n",
    "for i in range(201):\n",
    "    dp[i][1] = 1\n",
    "for i in range(1, 201):\n",
    "    for j in range(201):\n",
    "        for l in range(j + 1):\n",
    "            dp[j][i] += dp[l][i - 1]\n",
    "print(dp[n][k] % 1000000000)"
   ]
  }
 ],
 "metadata": {
  "interpreter": {
   "hash": "fe3bab233825460445dbfeea6dcd52ef5815a3fa13c858fea07ac830aa383284"
  },
  "kernelspec": {
   "display_name": "Python 3.8.10 64-bit ('base': conda)",
   "language": "python",
   "name": "python3"
  },
  "language_info": {
   "codemirror_mode": {
    "name": "ipython",
    "version": 3
   },
   "file_extension": ".py",
   "mimetype": "text/x-python",
   "name": "python",
   "nbconvert_exporter": "python",
   "pygments_lexer": "ipython3",
   "version": "3.8.10"
  },
  "orig_nbformat": 4
 },
 "nbformat": 4,
 "nbformat_minor": 2
}
