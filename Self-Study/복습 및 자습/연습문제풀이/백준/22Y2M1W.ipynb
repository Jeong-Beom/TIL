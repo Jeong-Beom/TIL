{
 "cells": [
  {
   "cell_type": "markdown",
   "metadata": {},
   "source": [
    "2225번 합분해 https://www.acmicpc.net/problem/2225"
   ]
  },
  {
   "cell_type": "code",
   "execution_count": 20,
   "metadata": {},
   "outputs": [
    {
     "name": "stdout",
     "output_type": "stream",
     "text": [
      "21\n"
     ]
    }
   ],
   "source": [
    "import sys\n",
    "sys.setrecursionlimit(1000000000)\n",
    "N, K = map(int, input().split())\n",
    "\n",
    "value = [i for i in range(N+1)]\n",
    "arr = []\n",
    "ans = 0\n",
    "def dfs():\n",
    "    global ans\n",
    "    if len(arr) == K:\n",
    "        if sum(arr) == N:\n",
    "            ans += 1\n",
    "            return\n",
    "        else:\n",
    "            return\n",
    "    \n",
    "    for i in range(N+1):\n",
    "        if i > N:\n",
    "            continue\n",
    "        arr.append(value[i])\n",
    "        dfs()\n",
    "        arr.pop()\n",
    "    \n",
    "dfs()\n",
    "print(ans % 1000000000)"
   ]
  },
  {
   "cell_type": "code",
   "execution_count": 23,
   "metadata": {},
   "outputs": [
    {
     "name": "stdout",
     "output_type": "stream",
     "text": [
      "21\n"
     ]
    }
   ],
   "source": [
    "n, k = map(int, input().split())\n",
    "dp = [[0 for _ in range(201)] for i in range(201)]\n",
    "for i in range(201):\n",
    "    dp[i][1] = 1\n",
    "for i in range(1, 201):\n",
    "    for j in range(201):\n",
    "        for l in range(j + 1):\n",
    "            dp[j][i] += dp[l][i - 1]\n",
    "print(dp[n][k] % 1000000000)"
   ]
  },
  {
   "cell_type": "markdown",
   "metadata": {},
   "source": [
    "9095번 1, 2, 3 더하기 https://www.acmicpc.net/problem/9095"
   ]
  },
  {
   "cell_type": "code",
   "execution_count": 21,
   "metadata": {},
   "outputs": [
    {
     "name": "stdout",
     "output_type": "stream",
     "text": [
      "7\n",
      "44\n",
      "274\n"
     ]
    }
   ],
   "source": [
    "# 1일경우: [1] / 2일경우: [1, 1], [2] / 3일경우: [1, 1, 1], [1, 2], [2, 1], [3]\n",
    "# 4일경우: 7개(문제제공) / 5일경우: [1, 1, 1, 1, 1], [1, 1, 1, 2](순서변경으로 4개), [2, 2, 1](3개), [1, 1, 3](3개), [2, 3](2개) = 13개\n",
    "# 점화식 추론 - 4일경우(7개) - 1일경우(1개) + 2일경우(2개) + 3일경우(4개)\n",
    "# 점화식 추론(이어서) - 5일경우(13개) - 2일경우(2개), 3일경우(4개), 4일경우(7개)\n",
    "# 점화식 : f(x) = f(x-1) + f(x-2) + f(x-3)\n",
    "\n",
    "T = int(input())\n",
    "for _ in range(T):\n",
    "    number = int(input())\n",
    "    dp = [0 for _ in range(11)]\n",
    "    dp[1] = 1\n",
    "    dp[2] = 2\n",
    "    dp[3] = 4\n",
    "    for i in range(4, number+1):\n",
    "        dp[i] = dp[i-1] + dp[i-2] + dp[i-3]\n",
    "    print(dp[number])"
   ]
  },
  {
   "cell_type": "markdown",
   "metadata": {},
   "source": [
    "15988번 1, 2, 3 더하기3 https://www.acmicpc.net/problem/15988"
   ]
  },
  {
   "cell_type": "code",
   "execution_count": null,
   "metadata": {},
   "outputs": [],
   "source": [
    "dp = [0 for _ in range(1000001)]\n",
    "dp[1] = 1 \n",
    "dp[2] = 2\n",
    "dp[3] = 4\n",
    "for i in range(4, 1000001):\n",
    "    if dp[i] == 0:\n",
    "        dp[i] = (dp[i-1] + dp[i-2] + dp[i-3]) % 1000000009\n",
    "T = int(input())\n",
    "for _ in range(T):  \n",
    "    number = int(input())\n",
    "    print(dp[number] % 1000000009)"
   ]
  }
 ],
 "metadata": {
  "interpreter": {
   "hash": "fe3bab233825460445dbfeea6dcd52ef5815a3fa13c858fea07ac830aa383284"
  },
  "kernelspec": {
   "display_name": "Python 3.8.10 64-bit ('base': conda)",
   "language": "python",
   "name": "python3"
  },
  "language_info": {
   "codemirror_mode": {
    "name": "ipython",
    "version": 3
   },
   "file_extension": ".py",
   "mimetype": "text/x-python",
   "name": "python",
   "nbconvert_exporter": "python",
   "pygments_lexer": "ipython3",
   "version": "3.8.10"
  },
  "orig_nbformat": 4
 },
 "nbformat": 4,
 "nbformat_minor": 2
}
