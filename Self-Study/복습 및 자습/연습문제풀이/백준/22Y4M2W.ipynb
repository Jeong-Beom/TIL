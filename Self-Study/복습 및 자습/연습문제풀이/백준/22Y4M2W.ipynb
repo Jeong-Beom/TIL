{
 "cells": [
  {
   "cell_type": "markdown",
   "metadata": {},
   "source": [
    "2493번 탑 https://www.acmicpc.net/problem/2493"
   ]
  },
  {
   "cell_type": "code",
   "execution_count": 29,
   "metadata": {},
   "outputs": [
    {
     "name": "stdout",
     "output_type": "stream",
     "text": [
      "0 0 2 2 4\n"
     ]
    }
   ],
   "source": [
    "N = int(input())\n",
    "towers = list(map(int, input().split()))\n",
    "\n",
    "ans = [0 for i in range(N)]\n",
    "stack = []\n",
    "\n",
    "cnt = 0\n",
    "while towers:\n",
    "    t_num, t_index = towers.pop(), (N - cnt)\n",
    "    stack.append([t_num, t_index])\n",
    "    while stack:\n",
    "        ele_num, ele_index = stack[-1]\n",
    "        if len(towers) == 0:\n",
    "            break\n",
    "        elif ele_num <= towers[-1]:\n",
    "            ans[ele_index-1] = len(towers)\n",
    "            stack.pop()\n",
    "        else:\n",
    "            break\n",
    "    cnt += 1\n",
    "print(*ans)"
   ]
  }
 ],
 "metadata": {
  "interpreter": {
   "hash": "fe3bab233825460445dbfeea6dcd52ef5815a3fa13c858fea07ac830aa383284"
  },
  "kernelspec": {
   "display_name": "Python 3.8.10 ('base')",
   "language": "python",
   "name": "python3"
  },
  "language_info": {
   "codemirror_mode": {
    "name": "ipython",
    "version": 3
   },
   "file_extension": ".py",
   "mimetype": "text/x-python",
   "name": "python",
   "nbconvert_exporter": "python",
   "pygments_lexer": "ipython3",
   "version": "3.8.10"
  },
  "orig_nbformat": 4
 },
 "nbformat": 4,
 "nbformat_minor": 2
}
