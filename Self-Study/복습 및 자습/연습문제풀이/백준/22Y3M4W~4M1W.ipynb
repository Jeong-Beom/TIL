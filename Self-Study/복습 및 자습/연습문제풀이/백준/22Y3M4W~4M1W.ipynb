{
 "cells": [
  {
   "cell_type": "markdown",
   "metadata": {},
   "source": [
    "2531번 회전초밥 https://www.acmicpc.net/problem/2531"
   ]
  },
  {
   "cell_type": "code",
   "execution_count": 17,
   "metadata": {},
   "outputs": [
    {
     "name": "stdout",
     "output_type": "stream",
     "text": [
      "4\n"
     ]
    }
   ],
   "source": [
    "import sys\n",
    "N, d, k, c = map(int, input().split()) # N: 접시의 수 / d: 초밥의 가짓수 / k: 연속해서 먹는 접시수 / c: 쿠폰 번호\n",
    "\n",
    "# input = sys.stdin.readline\n",
    "cp1, cp2 = 0, k-1\n",
    "sushi = []\n",
    "for _ in range(N):\n",
    "    sushi.append(int(input()))\n",
    "check = set()\n",
    "\n",
    "while cp1 < N:\n",
    "    if cp2 >= N:\n",
    "        cp2 -= N\n",
    "    if cp2 < cp1:\n",
    "        plates = sushi[cp1:] + sushi[:cp2+1]\n",
    "    else:\n",
    "        plates = sushi[cp1:cp2+1]\n",
    "    cases = set(plates)\n",
    "    if c not in cases:\n",
    "        cases.add(c)\n",
    "    if len(check) < len(cases):\n",
    "        check = cases\n",
    "    cp1 += 1\n",
    "    cp2 += 1\n",
    "print(len(check))"
   ]
  },
  {
   "cell_type": "markdown",
   "metadata": {},
   "source": [
    "2252번 줄세우기 https://www.acmicpc.net/problem/2252"
   ]
  },
  {
   "cell_type": "code",
   "execution_count": 37,
   "metadata": {},
   "outputs": [
    {
     "name": "stdout",
     "output_type": "stream",
     "text": [
      "3 4 1 2\n"
     ]
    }
   ],
   "source": [
    "from collections import deque\n",
    "import sys\n",
    "\n",
    "# input = sys.stdin.readline\n",
    "N, M = map(int, input().split())\n",
    "graph = [[] for _ in range(N+1)]\n",
    "link = [0 for _ in range(N+1)]\n",
    "for _ in range(M):\n",
    "    start, end = map(int, input().split())\n",
    "    graph[start].append(end)\n",
    "    link[end] += 1\n",
    "\n",
    "ans = []\n",
    "queue = deque()\n",
    "for i in range(1, N+1):\n",
    "    if link[i] == 0:\n",
    "        queue.append(i)\n",
    "        link[i] = -1\n",
    "\n",
    "while queue:\n",
    "    cp = queue.popleft()\n",
    "    ans.append(cp)\n",
    "    for number in graph[cp]:\n",
    "        link[number] -= 1\n",
    "        if link[number] == 0:\n",
    "            queue.append(number)\n",
    "print(*ans)"
   ]
  },
  {
   "cell_type": "markdown",
   "metadata": {},
   "source": [
    "1197번 최소 스패닝 트리 https://www.acmicpc.net/problem/1197"
   ]
  },
  {
   "cell_type": "code",
   "execution_count": 16,
   "metadata": {},
   "outputs": [
    {
     "name": "stdout",
     "output_type": "stream",
     "text": [
      "3\n"
     ]
    }
   ],
   "source": [
    "# Prim 형태로 해결시도 - 해결\n",
    "from heapq import heappush, heappop\n",
    "import sys\n",
    "\n",
    "V, E = map(int, input().split()) # V: 정점의 개수 / E: 간선의 개수\n",
    "graph = [[] for _ in range(V+1)]\n",
    "for _ in range(E):\n",
    "    cp1, cp2, wei = map(int, input().split())\n",
    "    graph[cp1].append([wei, cp2])\n",
    "    graph[cp2].append([wei, cp1])\n",
    "\n",
    "def MST_Prim(start, graph, V):\n",
    "    heap = []\n",
    "    visited = [False for _ in range(V+1)]\n",
    "    visited[start] = True\n",
    "    for line in graph[start]:\n",
    "        heappush(heap, line)\n",
    "\n",
    "    ans = 0\n",
    "    cnt = 1\n",
    "    while heap:\n",
    "        if cnt == V:\n",
    "            print(ans)\n",
    "            return \n",
    "        wei, cp = heappop(heap)\n",
    "        if visited[cp]:\n",
    "            continue\n",
    "        else:\n",
    "            cnt += 1\n",
    "            visited[cp] = True\n",
    "            ans += wei\n",
    "            for line in graph[cp]:\n",
    "                heappush(heap, line)\n",
    "\n",
    "MST_Prim(1, graph, V)"
   ]
  },
  {
   "cell_type": "code",
   "execution_count": 4,
   "metadata": {},
   "outputs": [
    {
     "name": "stdout",
     "output_type": "stream",
     "text": [
      "3\n"
     ]
    }
   ],
   "source": [
    "# Kruskal 형태로 해결시도 - 해결\n",
    "from heapq import heappush, heappop\n",
    "import sys\n",
    "\n",
    "# input = sys.stdin.readline\n",
    "V, E = map(int, input().split()) # V: 정점의 개수 / E: 간선의 개수\n",
    "heap = []\n",
    "for _ in range(E):\n",
    "    cp1, cp2, wei = map(int, input().split())\n",
    "    heappush(heap, [wei, cp1, cp2])\n",
    "\n",
    "root = [i for i in range(V+1)] # 각 정점별 노드 기록용도\n",
    "\n",
    "def union(node1, node2):\n",
    "    node1 = find(node1)\n",
    "    node2 = find(node2)\n",
    "\n",
    "    if node1 < node2:\n",
    "        root[node2] = node1\n",
    "    else:\n",
    "        root[node1] = node2\n",
    "\n",
    "def find(node):\n",
    "    if node == root[node]: # 루트노드가 자기자신인 경우\n",
    "        return node\n",
    "    root[node] = find(root[node]) # 루트노드가 자기자신이 아닌 경우\n",
    "    # 자기자신을 루트노드로 가지는 노드를 찾아서 반환\n",
    "    return root[node]\n",
    "\n",
    "def MST_kruskal():\n",
    "    ans = 0\n",
    "    while heap:\n",
    "        wei, node1, node2 = heappop(heap)\n",
    "        if find(node1) != find(node2):\n",
    "            union(node1, node2)\n",
    "            ans += wei\n",
    "    print(ans)\n",
    "    return \n",
    "\n",
    "MST_kruskal()"
   ]
  },
  {
   "cell_type": "markdown",
   "metadata": {},
   "source": [
    "2042번 구간 합 구하기 https://www.acmicpc.net/problem/2042"
   ]
  },
  {
   "cell_type": "code",
   "execution_count": null,
   "metadata": {},
   "outputs": [],
   "source": [
    "# 세그먼트 트리 이용 필요 - 개념이해 및 공부중 \n",
    "import sys\n",
    "N, M, K = map(int, input().split()) # N: 수의 개수 / M: 수의 변경이 일어나는 횟수 / K: 구간의 합을 구하는 횟수\n",
    "numbers = [int(input()) for _ in range(N)]\n",
    "for _ in range(M+K):\n",
    "    a, b, c = map(int, input().split()) # a = 1 : 수 변경 / a = 2 : 구간 합 구하기\n",
    "    if a = "
   ]
  },
  {
   "cell_type": "markdown",
   "metadata": {},
   "source": [
    "세그멘트 트리 공부 https://ojt90902.tistory.com/532"
   ]
  },
  {
   "cell_type": "code",
   "execution_count": null,
   "metadata": {},
   "outputs": [],
   "source": [
    "# 1. 트리의 높이 구하기\n",
    "# 2. 트리의 높이 만큼 리스트 선언, 초기값은 각 노드의 정보에 따라 차등설정\n",
    "# 3. 루트 노드부터 자식노드를 하나씩 호출\n",
    "# 4. 리프 노드(자식노드가 없는 노드)에 도달한 경우 해당 노드에 단일구간의 값을 넣고 리턴\n",
    "# 5. 자식 노드들의 합을 더한 값을 현재 노드에 저장하고 리턴"
   ]
  }
 ],
 "metadata": {
  "interpreter": {
   "hash": "fe3bab233825460445dbfeea6dcd52ef5815a3fa13c858fea07ac830aa383284"
  },
  "kernelspec": {
   "display_name": "Python 3.8.10 ('base')",
   "language": "python",
   "name": "python3"
  },
  "language_info": {
   "codemirror_mode": {
    "name": "ipython",
    "version": 3
   },
   "file_extension": ".py",
   "mimetype": "text/x-python",
   "name": "python",
   "nbconvert_exporter": "python",
   "pygments_lexer": "ipython3",
   "version": "3.8.10"
  },
  "orig_nbformat": 4
 },
 "nbformat": 4,
 "nbformat_minor": 2
}
