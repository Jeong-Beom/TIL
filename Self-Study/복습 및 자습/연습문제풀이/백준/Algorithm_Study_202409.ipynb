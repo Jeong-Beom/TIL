{
 "cells": [
  {
   "cell_type": "markdown",
   "metadata": {},
   "source": [
    "#### 백준 10101번"
   ]
  },
  {
   "cell_type": "code",
   "execution_count": 7,
   "metadata": {},
   "outputs": [
    {
     "name": "stdout",
     "output_type": "stream",
     "text": [
      "Isosceles\n"
     ]
    }
   ],
   "source": [
    "import sys\n",
    "\n",
    "angle1 = int(input()) # int(sys.stdin.readline().strip())\n",
    "angle2 = int(input()) # int(sys.stdin.readline().strip())\n",
    "angle3 = int(input()) # int(sys.stdin.readline().strip())\n",
    "\n",
    "total = angle1 + angle2 + angle3\n",
    "\n",
    "if total == 180:\n",
    "    if angle1 == angle2 and angle2 == angle3:\n",
    "        print('Equilateral')\n",
    "    elif angle1 == angle2 or angle1 == angle3 or angle2 == angle3:     \n",
    "        print('Isosceles')\n",
    "    else:\n",
    "        print('Scalene')\n",
    "else:\n",
    "    print('Error')"
   ]
  },
  {
   "cell_type": "markdown",
   "metadata": {},
   "source": [
    "#### 백준 5073번"
   ]
  },
  {
   "cell_type": "code",
   "execution_count": 18,
   "metadata": {},
   "outputs": [
    {
     "name": "stdout",
     "output_type": "stream",
     "text": [
      "Equilateral\n",
      "Scalene\n",
      "Invalid\n",
      "Isosceles\n"
     ]
    }
   ],
   "source": [
    "import sys\n",
    "\n",
    "while True:\n",
    "    side1, side2, side3 = map(int, input().split()) # map(int, sys.stdin.readline().strip().split())\n",
    "    half_total = (side1 + side2 + side3) / 2 \n",
    "\n",
    "    if side1 == 0 and side2 == 0 and side3 == 0:\n",
    "        break\n",
    "\n",
    "    if half_total <= side1 or half_total <= side2 or half_total <= side3:\n",
    "        print('Invalid')\n",
    "    else:\n",
    "        if side1 == side2 and side2 == side3:\n",
    "            print('Equilateral')\n",
    "        elif side1 == side2 or side1 == side3 or side2 == side3:\n",
    "            print('Isosceles')\n",
    "        else:\n",
    "            print('Scalene')"
   ]
  },
  {
   "cell_type": "markdown",
   "metadata": {},
   "source": [
    "#### 백준 14215번"
   ]
  },
  {
   "cell_type": "code",
   "execution_count": 39,
   "metadata": {},
   "outputs": [
    {
     "name": "stdout",
     "output_type": "stream",
     "text": [
      "113\n"
     ]
    }
   ],
   "source": [
    "import sys\n",
    "\n",
    "side1, side2, side3 = map(int, input().split()) # map(int, sys.stdin.readline().strip().split())\n",
    "tmp = [side1, side2, side3]\n",
    "tmp.sort()\n",
    "\n",
    "two_sides = tmp[0] + tmp[1]\n",
    "long_side = tmp[2]\n",
    "\n",
    "if two_sides <= long_side:\n",
    "    print(two_sides*2-1)\n",
    "else:\n",
    "    print(two_sides+long_side)"
   ]
  },
  {
   "cell_type": "markdown",
   "metadata": {},
   "source": [
    "#### 백준 24262번"
   ]
  },
  {
   "cell_type": "code",
   "execution_count": 41,
   "metadata": {},
   "outputs": [
    {
     "name": "stdout",
     "output_type": "stream",
     "text": [
      "1\n",
      "0\n"
     ]
    }
   ],
   "source": [
    "import sys\n",
    "\n",
    "print(1, 0, sep='\\n')"
   ]
  },
  {
   "cell_type": "markdown",
   "metadata": {},
   "source": [
    "#### 백준 24263번"
   ]
  },
  {
   "cell_type": "code",
   "execution_count": 42,
   "metadata": {},
   "outputs": [
    {
     "name": "stdout",
     "output_type": "stream",
     "text": [
      "7\n",
      "1\n"
     ]
    }
   ],
   "source": [
    "import sys\n",
    "\n",
    "n = int(input()) # int(sys.stdin.readline().strip())\n",
    "print(n, 1, sep='\\n')"
   ]
  },
  {
   "cell_type": "markdown",
   "metadata": {},
   "source": [
    "#### 백준 24264번"
   ]
  },
  {
   "cell_type": "code",
   "execution_count": 43,
   "metadata": {},
   "outputs": [
    {
     "name": "stdout",
     "output_type": "stream",
     "text": [
      "49\n",
      "2\n"
     ]
    }
   ],
   "source": [
    "import sys\n",
    "\n",
    "n = int(input()) # int(sys.stdin.readline().strip())\n",
    "print(n**2, 2, sep='\\n')"
   ]
  },
  {
   "cell_type": "markdown",
   "metadata": {},
   "source": [
    "#### 백준 24265번"
   ]
  },
  {
   "cell_type": "code",
   "execution_count": 26,
   "metadata": {},
   "outputs": [
    {
     "name": "stdout",
     "output_type": "stream",
     "text": [
      "0 2\n"
     ]
    }
   ],
   "source": [
    "import sys\n",
    "\n",
    "n = int(input())-1 # int(sys.stdin.readline().strip())-1\n",
    "print((n**2+n)//2, 2)"
   ]
  },
  {
   "cell_type": "markdown",
   "metadata": {},
   "source": [
    "#### 백준 24266번"
   ]
  },
  {
   "cell_type": "code",
   "execution_count": 16,
   "metadata": {},
   "outputs": [
    {
     "name": "stdout",
     "output_type": "stream",
     "text": [
      "343\n",
      "3\n"
     ]
    }
   ],
   "source": [
    "import sys\n",
    "\n",
    "n = int(input()) # int(sys.stdin.readline().strip())\n",
    "print(n**3, 3, sep='\\n')"
   ]
  },
  {
   "cell_type": "markdown",
   "metadata": {},
   "source": [
    "#### 백준 24267번"
   ]
  },
  {
   "cell_type": "code",
   "execution_count": 40,
   "metadata": {},
   "outputs": [
    {
     "name": "stdout",
     "output_type": "stream",
     "text": [
      "35\n",
      "3\n"
     ]
    }
   ],
   "source": [
    "import sys\n",
    "\n",
    "n = int(input()) # int(sys.stdin.readline().strip())\n",
    "print((n*(n-1)*(n-2))//6, 3, sep='\\n')"
   ]
  },
  {
   "cell_type": "markdown",
   "metadata": {},
   "source": [
    "#### 백준 24313번"
   ]
  },
  {
   "cell_type": "code",
   "execution_count": 64,
   "metadata": {},
   "outputs": [
    {
     "name": "stdout",
     "output_type": "stream",
     "text": [
      "0\n"
     ]
    }
   ],
   "source": [
    "import sys\n",
    "\n",
    "a1, a0 = map(int, input().split()) # map(int, sys.stdin.readline().strip().split())\n",
    "c = int(input()) # int(sys.stdin.readline().strip())\n",
    "n0 = int(input()) # int(sys.stdin.readline().strip())\n",
    "\n",
    "if a1*n0 + a0 <= c*n0 and a1*99999 + a0 <= c*99999:\n",
    "    print(1)\n",
    "else:\n",
    "    print(0)"
   ]
  },
  {
   "cell_type": "markdown",
   "metadata": {},
   "source": [
    "#### 백준 19532번"
   ]
  },
  {
   "cell_type": "code",
   "execution_count": 11,
   "metadata": {},
   "outputs": [
    {
     "name": "stdout",
     "output_type": "stream",
     "text": [
      "-1 2\n"
     ]
    }
   ],
   "source": [
    "import sys\n",
    "\n",
    "a, b, c, d, e, f = map(int, input().split()) # map(int, sys.stdin.readline().strip().split())\n",
    "cp = 0\n",
    "\n",
    "for x in range(-999, 1000):\n",
    "    if cp == 1:\n",
    "        break\n",
    "    for y in range(-999, 1000):\n",
    "        if a*x+b*y-c == 0 and d*x+e*y-f == 0:\n",
    "            rx = x\n",
    "            ry = y\n",
    "            cp = 1\n",
    "            break\n",
    "\n",
    "print(rx, ry)"
   ]
  },
  {
   "cell_type": "markdown",
   "metadata": {},
   "source": [
    "#### 백준 2587번"
   ]
  },
  {
   "cell_type": "code",
   "execution_count": 17,
   "metadata": {},
   "outputs": [
    {
     "name": "stdout",
     "output_type": "stream",
     "text": [
      "34.0 30\n"
     ]
    }
   ],
   "source": [
    "import sys\n",
    "\n",
    "sum = 0\n",
    "arr1 = []\n",
    "\n",
    "for i in range(5):\n",
    "    n = int(input()) # int(sys.stdin.readline().strip())\n",
    "    sum += n\n",
    "    arr1.append(n)\n",
    "\n",
    "arr1.sort()\n",
    "\n",
    "print(sum//5, arr1[2])"
   ]
  },
  {
   "cell_type": "markdown",
   "metadata": {},
   "source": [
    "#### 백준 25305번"
   ]
  },
  {
   "cell_type": "code",
   "execution_count": 20,
   "metadata": {},
   "outputs": [
    {
     "name": "stdout",
     "output_type": "stream",
     "text": [
      "98\n"
     ]
    }
   ],
   "source": [
    "import sys\n",
    "\n",
    "N, k = map(int, input().split()) # map(int, sys.stdin.readline().strip().split())\n",
    "arr1 = list(map(int, input().split())) # list(map(int, sys.stdin.readline().strip().split()))\n",
    "arr1.sort(reverse=True)\n",
    "\n",
    "print(arr1[k-1])"
   ]
  },
  {
   "cell_type": "markdown",
   "metadata": {},
   "source": [
    "#### 백준 10815번"
   ]
  },
  {
   "cell_type": "code",
   "execution_count": 24,
   "metadata": {},
   "outputs": [
    {
     "name": "stdout",
     "output_type": "stream",
     "text": [
      "1 0 0 1 1 0 0 1\n"
     ]
    }
   ],
   "source": [
    "import sys\n",
    "\n",
    "N = int(input()) # int(sys.stdin.readline())\n",
    "card_list1 = list(map(int, input().split())) # list(map(int, sys.stdin.readline().strip().split()))\n",
    "M = int(input()) # int(sys.stdin.readline())\n",
    "card_list2 = list(map(int, input().split())) # list(map(int, sys.stdin.readline().strip().split()))\n",
    "result = [-1 for _ in range(len(card_list2))]\n",
    "\n",
    "card_dict = {}\n",
    "for i in range(len(card_list2)):\n",
    "    card_dict[card_list2[i]] = i\n",
    "\n",
    "card_list1.sort()\n",
    "card_list2.sort()\n",
    "\n",
    "\n",
    "cp = 0\n",
    "for card in card_list2:\n",
    "    while True:\n",
    "        if cp > len(card_list1)-1:\n",
    "            result[card_dict[card]] = 0\n",
    "            break\n",
    "        elif card > card_list1[cp]:\n",
    "            cp += 1\n",
    "        elif card == card_list1[cp]:\n",
    "            cp += 1\n",
    "            result[card_dict[card]] = 1\n",
    "            break\n",
    "        else:\n",
    "            result[card_dict[card]] = 0\n",
    "            break\n",
    "\n",
    "print(*result)"
   ]
  },
  {
   "cell_type": "markdown",
   "metadata": {},
   "source": [
    "#### 백준 14425번"
   ]
  },
  {
   "cell_type": "code",
   "execution_count": 28,
   "metadata": {},
   "outputs": [],
   "source": [
    "import sys\n",
    "\n",
    "N, M = map(int, input().split()) # map(int, sys.stdin.readline().strip().split())\n",
    "words_dict = {}\n",
    "\n",
    "for i in range(1, 501):\n",
    "    words_dict[i] = []\n",
    "\n",
    "for _ in range(N):\n",
    "    word = input() # sys.stdin.readline().strip()\n",
    "    words_dict[len(word)].append(word)\n",
    "\n",
    "\n",
    "arr = [input() for _ in range(M)] # [sys.stdin.readline().strip() for _ in range(M)]\n",
    "result = 0\n",
    "\n",
    "for tword in arr:\n",
    "    if tword in words_dict[len(tword)]:\n",
    "        result += 1\n",
    "\n",
    "print(result)"
   ]
  },
  {
   "cell_type": "code",
   "execution_count": null,
   "metadata": {},
   "outputs": [],
   "source": [
    "import sys\n",
    "\n",
    "N, M = map(int, input().split()) # map(int, sys.stdin.readline().strip().split())\n",
    "\n",
    "arr1 = [input() for _ in range(N)] # [sys.stdin.readline().strip() for _ in range(N)]\n",
    "arr2 = [input() for _ in range(M)] # [sys.stdin.readline().strip() for _ in range(M)]\n",
    "result = 0\n",
    "\n",
    "for tword in arr2:\n",
    "    if tword in arr1:\n",
    "        result += 1\n",
    "\n",
    "print(result)"
   ]
  },
  {
   "cell_type": "code",
   "execution_count": 38,
   "metadata": {},
   "outputs": [
    {
     "name": "stdout",
     "output_type": "stream",
     "text": [
      "4\n"
     ]
    }
   ],
   "source": [
    "import sys\n",
    "\n",
    "N, M = map(int, input().split()) # map(int, sys.stdin.readline().strip().split())\n",
    "\n",
    "arr1 = set(input() for _ in range(N)) # set(sys.stdin.readline().strip() for _ in range(N))\n",
    "arr2 = [input() for _ in range(M)] # [sys.stdin.readline().strip() for _ in range(M)]\n",
    "result = 0\n",
    "\n",
    "for tword in arr2:\n",
    "    if tword in arr1:\n",
    "        result += 1\n",
    "\n",
    "print(result)"
   ]
  },
  {
   "cell_type": "markdown",
   "metadata": {},
   "source": [
    "#### 백준 7785번"
   ]
  },
  {
   "cell_type": "code",
   "execution_count": 75,
   "metadata": {},
   "outputs": [
    {
     "name": "stdout",
     "output_type": "stream",
     "text": [
      "a\n",
      "A\n"
     ]
    }
   ],
   "source": [
    "import sys\n",
    "\n",
    "n = int(input()) # int(sys.stdin.readline().strip())\n",
    "\n",
    "company = set()\n",
    "\n",
    "for _ in range(n):\n",
    "    name, status = map(str, input().split()) # map(str, sys.stdin.readline().strip().split())\n",
    "    if status == 'enter':\n",
    "        company.add(name)\n",
    "    elif status == 'leave' and name in company:\n",
    "        company.remove(name)\n",
    "    else:\n",
    "        pass\n",
    "\n",
    "result = sorted(company, reverse=True)\n",
    "\n",
    "print(*result, sep='\\n')"
   ]
  }
 ],
 "metadata": {
  "kernelspec": {
   "display_name": "Python 3",
   "language": "python",
   "name": "python3"
  },
  "language_info": {
   "codemirror_mode": {
    "name": "ipython",
    "version": 3
   },
   "file_extension": ".py",
   "mimetype": "text/x-python",
   "name": "python",
   "nbconvert_exporter": "python",
   "pygments_lexer": "ipython3",
   "version": "3.12.4"
  }
 },
 "nbformat": 4,
 "nbformat_minor": 2
}
