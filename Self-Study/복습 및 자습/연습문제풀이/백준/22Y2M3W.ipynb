{
 "cells": [
  {
   "cell_type": "markdown",
   "metadata": {},
   "source": [
    "5014번 스타트링크 https://www.acmicpc.net/problem/5014"
   ]
  },
  {
   "cell_type": "code",
   "execution_count": 19,
   "metadata": {},
   "outputs": [
    {
     "name": "stdout",
     "output_type": "stream",
     "text": [
      "use the stairs\n"
     ]
    }
   ],
   "source": [
    "from collections import deque\n",
    "\n",
    "F, S, G, U, D = map(int, input().split()) # F: 총 건물의 층수 / S: 출발위치 / G: 가야하는 층수 \n",
    "# U:한번에 올라갈 수 있는 층수 / D: 한번에 내려갈 수 있는 층수\n",
    "\n",
    "def bfs(F, S, G, U, D):\n",
    "    queue = deque()\n",
    "    visited = [False for _ in range(F+1)]\n",
    "    queue.append(S)\n",
    "    visited[S] = True\n",
    "    if S == G: # 출발점과 목표점이 같을 때는 0을 출력\n",
    "        return 0\n",
    "\n",
    "    cnt = 0\n",
    "    while queue:\n",
    "        for _ in range(len(queue)):\n",
    "            floor = queue.popleft()\n",
    "            floor_up = floor + U # 올라가는 경우의 수 체크\n",
    "            floor_down = floor - D # # 내려가는 경우의 수 체크\n",
    "            if floor_up == G or floor_down == G:\n",
    "                return cnt + 1\n",
    "            if 0 < floor_up <= F and visited[floor_up] == False: # 조건만족시 queue에 추가 및 방문기록\n",
    "                queue.append(floor_up)\n",
    "                visited[floor_up] = True\n",
    "            if 0 < floor_down <= F and visited[floor_down] == False: # 조건만족시 queue에 추가 및 방문기록\n",
    "                queue.append(floor_down)\n",
    "                visited[floor_down] = True\n",
    "        cnt += 1\n",
    "\n",
    "    return 'use the stairs' # 탐색을 완료하고도 목표점에 도달 불가시 출력\n",
    "\n",
    "ans = bfs(F, S, G, U, D)\n",
    "print(ans)     "
   ]
  },
  {
   "cell_type": "markdown",
   "metadata": {},
   "source": [
    "1182번 부분수열의 합 https://www.acmicpc.net/problem/1182"
   ]
  },
  {
   "cell_type": "code",
   "execution_count": 14,
   "metadata": {},
   "outputs": [
    {
     "name": "stdout",
     "output_type": "stream",
     "text": [
      "[-3, -2, 5]\n",
      "1\n"
     ]
    }
   ],
   "source": [
    "N, S = map(int, input().split())\n",
    "numbers = list(map(int, input().split()))\n",
    "\n",
    "arr = []\n",
    "visited = [False for _ in range(N)]\n",
    "ans = 0\n",
    "def dfs(start):\n",
    "    global ans\n",
    "    if sum(arr) == S and len(arr) != 0:\n",
    "        ans += 1\n",
    "    \n",
    "    for i in range(start, N):\n",
    "        if visited[i]:\n",
    "            continue\n",
    "\n",
    "        arr.append(numbers[i])\n",
    "        visited[i] = True\n",
    "        dfs(i+1)\n",
    "        arr.pop()\n",
    "        visited[i] = False\n",
    "    \n",
    "    return\n",
    "\n",
    "dfs(0)\n",
    "print(ans)"
   ]
  },
  {
   "cell_type": "markdown",
   "metadata": {},
   "source": [
    "2003번 수들의 합2 https://www.acmicpc.net/problem/2003"
   ]
  },
  {
   "cell_type": "code",
   "execution_count": 15,
   "metadata": {},
   "outputs": [
    {
     "data": {
      "text/plain": [
       "[1, 2, 3, 4, 5]"
      ]
     },
     "execution_count": 15,
     "metadata": {},
     "output_type": "execute_result"
    }
   ],
   "source": [
    "a = [1, 2, 3, 4, 5]\n",
    "a[:5]"
   ]
  },
  {
   "cell_type": "code",
   "execution_count": 32,
   "metadata": {},
   "outputs": [
    {
     "name": "stdout",
     "output_type": "stream",
     "text": [
      "[1] 0 1\n",
      "[1, 1] 0 2\n",
      "[1, 1, 1] 0 3\n",
      "[1, 1] 1 3\n",
      "[1, 1, 1] 1 4\n",
      "[1, 1] 2 4\n",
      "[1] 3 4\n",
      "[] 4 4\n",
      "3\n"
     ]
    }
   ],
   "source": [
    "N, M = map(int, input().split())\n",
    "numbers = list(map(int, input().split()))\n",
    "cp1, cp2 = 0, 1 # cp1 < cp2\n",
    "cnt = 0\n",
    "while cp1 <= N:\n",
    "    check = sum(numbers[cp1:cp2])\n",
    "    print(numbers[cp1:cp2], cp1, cp2)\n",
    "    if check <= M and cp2 < N:\n",
    "        cp2 += 1\n",
    "    else:\n",
    "        cp1 += 1\n",
    "    if check == M:\n",
    "        cnt += 1\n",
    "print(cnt)"
   ]
  },
  {
   "cell_type": "markdown",
   "metadata": {},
   "source": [
    "14225번 부분수열의 합 https://www.acmicpc.net/problem/14225"
   ]
  },
  {
   "cell_type": "code",
   "execution_count": 17,
   "metadata": {},
   "outputs": [
    {
     "name": "stdout",
     "output_type": "stream",
     "text": [
      "4\n"
     ]
    }
   ],
   "source": [
    "N = int(input())\n",
    "S = list(map(int, input().split()))\n",
    "result = [0] + [-1 for _ in range(2000000)]\n",
    "arr = []\n",
    "visited = [False for _ in range(N+1)]\n",
    "\n",
    "def dfs(start):\n",
    "    check = sum(arr)\n",
    "    result[check] = check\n",
    "\n",
    "    for i in range(start, N):\n",
    "        if visited[i]:\n",
    "            continue\n",
    "\n",
    "        arr.append(S[i])\n",
    "        visited[i] = True\n",
    "        dfs(i)\n",
    "        arr.pop()\n",
    "        visited[i] = False\n",
    "    return\n",
    "\n",
    "dfs(0)\n",
    "print(result.index(-1))"
   ]
  }
 ],
 "metadata": {
  "interpreter": {
   "hash": "fe3bab233825460445dbfeea6dcd52ef5815a3fa13c858fea07ac830aa383284"
  },
  "kernelspec": {
   "display_name": "Python 3.8.10 ('base')",
   "language": "python",
   "name": "python3"
  },
  "language_info": {
   "codemirror_mode": {
    "name": "ipython",
    "version": 3
   },
   "file_extension": ".py",
   "mimetype": "text/x-python",
   "name": "python",
   "nbconvert_exporter": "python",
   "pygments_lexer": "ipython3",
   "version": "3.8.10"
  },
  "orig_nbformat": 4
 },
 "nbformat": 4,
 "nbformat_minor": 2
}
