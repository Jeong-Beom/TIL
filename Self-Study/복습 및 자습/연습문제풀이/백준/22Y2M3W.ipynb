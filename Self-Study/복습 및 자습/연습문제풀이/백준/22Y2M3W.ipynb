{
 "cells": [
  {
   "cell_type": "markdown",
   "metadata": {},
   "source": [
    "5014번 스타트링크 https://www.acmicpc.net/problem/5014"
   ]
  },
  {
   "cell_type": "code",
   "execution_count": 19,
   "metadata": {},
   "outputs": [
    {
     "name": "stdout",
     "output_type": "stream",
     "text": [
      "use the stairs\n"
     ]
    }
   ],
   "source": [
    "from collections import deque\n",
    "\n",
    "F, S, G, U, D = map(int, input().split()) # F: 총 건물의 층수 / S: 출발위치 / G: 가야하는 층수 \n",
    "# U:한번에 올라갈 수 있는 층수 / D: 한번에 내려갈 수 있는 층수\n",
    "\n",
    "def bfs(F, S, G, U, D):\n",
    "    queue = deque()\n",
    "    visited = [False for _ in range(F+1)]\n",
    "    queue.append(S)\n",
    "    visited[S] = True\n",
    "    if S == G: # 출발점과 목표점이 같을 때는 0을 출력\n",
    "        return 0\n",
    "\n",
    "    cnt = 0\n",
    "    while queue:\n",
    "        for _ in range(len(queue)):\n",
    "            floor = queue.popleft()\n",
    "            floor_up = floor + U # 올라가는 경우의 수 체크\n",
    "            floor_down = floor - D # # 내려가는 경우의 수 체크\n",
    "            if floor_up == G or floor_down == G:\n",
    "                return cnt + 1\n",
    "            if 0 < floor_up <= F and visited[floor_up] == False: # 조건만족시 queue에 추가 및 방문기록\n",
    "                queue.append(floor_up)\n",
    "                visited[floor_up] = True\n",
    "            if 0 < floor_down <= F and visited[floor_down] == False: # 조건만족시 queue에 추가 및 방문기록\n",
    "                queue.append(floor_down)\n",
    "                visited[floor_down] = True\n",
    "        cnt += 1\n",
    "\n",
    "    return 'use the stairs' # 탐색을 완료하고도 목표점에 도달 불가시 출력\n",
    "\n",
    "ans = bfs(F, S, G, U, D)\n",
    "print(ans)     "
   ]
  }
 ],
 "metadata": {
  "interpreter": {
   "hash": "fe3bab233825460445dbfeea6dcd52ef5815a3fa13c858fea07ac830aa383284"
  },
  "kernelspec": {
   "display_name": "Python 3.8.10 ('base')",
   "language": "python",
   "name": "python3"
  },
  "language_info": {
   "codemirror_mode": {
    "name": "ipython",
    "version": 3
   },
   "file_extension": ".py",
   "mimetype": "text/x-python",
   "name": "python",
   "nbconvert_exporter": "python",
   "pygments_lexer": "ipython3",
   "version": "3.8.10"
  },
  "orig_nbformat": 4
 },
 "nbformat": 4,
 "nbformat_minor": 2
}
