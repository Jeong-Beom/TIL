{
 "cells": [
  {
   "cell_type": "markdown",
   "metadata": {},
   "source": [
    "1644번 소수의 연속합 https://data-is-power.tistory.com/105"
   ]
  },
  {
   "cell_type": "code",
   "execution_count": null,
   "metadata": {},
   "outputs": [],
   "source": [
    "def sosu_list(limit):\n",
    "    checked = [True] + [False for _ in range(limit)]\n",
    "    checked[1] = True\n",
    "    numbers = []\n",
    "    for i in range(len(checked)):\n",
    "        if checked[i] == False:\n",
    "            numbers.append(i)\n",
    "            for k in range(i, len(checked), i):\n",
    "                checked[k] = True\n",
    "    return numbers\n",
    "\n",
    "N = int(input())\n",
    "numbers = sosu_list(N)\n",
    "cp1, cp2 = 0, 0\n",
    "K = len(numbers)\n",
    "\n",
    "if N == 1:\n",
    "    print(0)\n",
    "else:\n",
    "    cnt = 0\n",
    "    check_value = 2\n",
    "    while cp1 < K and cp2 < K:\n",
    "        if check_value == N:\n",
    "            cnt += 1\n",
    "        if check_value < N and cp2 < K-1:\n",
    "            cp2 += 1\n",
    "            check_value += numbers[cp2]\n",
    "        else:\n",
    "            check_value -= numbers[cp1]\n",
    "            cp1 += 1\n",
    "    print(cnt)"
   ]
  },
  {
   "cell_type": "markdown",
   "metadata": {},
   "source": [
    "1987번 알파벳 https://www.acmicpc.net/problem/1987"
   ]
  },
  {
   "cell_type": "code",
   "execution_count": 32,
   "metadata": {},
   "outputs": [
    {
     "data": {
      "text/plain": [
       "1"
      ]
     },
     "execution_count": 32,
     "metadata": {},
     "output_type": "execute_result"
    }
   ],
   "source": [
    "# BFS 시간초과\n",
    "from collections import deque\n",
    "import sys\n",
    "\n",
    "# R, C = map(int, sys.stdin.readline().split())\n",
    "R, C = map(int, input().split()) # R: 가로 / C: 세로\n",
    "field = []\n",
    "for _ in range(R):\n",
    "    field.append(list(input()))\n",
    "    # field.append(list(sys.stdin.readline().rstrip()))\n",
    "\n",
    "def bfs():\n",
    "    queue = deque()\n",
    "    dx = [-1, 1, 0, 0]\n",
    "    dy = [0, 0, -1, 1]\n",
    "    queue.append([0, 0, field[0][0]])\n",
    "    cnt = 0\n",
    "\n",
    "    while queue:\n",
    "        x, y, alpha = queue.popleft()\n",
    "        if cnt < len(alpha):\n",
    "            cnt = len(alpha)\n",
    "        for i in range(4):\n",
    "            nx = x + dx[i]\n",
    "            ny = y + dy[i]\n",
    "            if 0 <= nx < C and 0 <= ny < R:\n",
    "                if field[ny][nx] not in alpha:\n",
    "                    alpha_next = alpha + field[ny][nx]\n",
    "                    queue.append([nx, ny, alpha_next])\n",
    "    return cnt\n",
    "\n",
    "print(bfs())"
   ]
  },
  {
   "cell_type": "code",
   "execution_count": 78,
   "metadata": {},
   "outputs": [
    {
     "name": "stdout",
     "output_type": "stream",
     "text": [
      "10\n"
     ]
    }
   ],
   "source": [
    "import sys\n",
    "\n",
    "# R, C = map(int, sys.stdin.readline().split())\n",
    "R, C = map(int, input().split()) # R: 가로 / C: 세로\n",
    "field = []\n",
    "for _ in range(R):\n",
    "    field.append(list(input()))\n",
    "    # field.append(list(sys.stdin.readline().rstrip()))\n",
    "\n",
    "def bfs():\n",
    "    queue = set()\n",
    "    # dx = [-1, 1, 0, 0]\n",
    "    dx = [0, 0, -1, 1]\n",
    "    # dy = [0, 0, -1, 1]\n",
    "    dy = [-1, 1, 0, 0]\n",
    "    cnt = 0\n",
    "    queue.add((0, 0, field[0][0]))\n",
    "\n",
    "    while queue:\n",
    "        x, y, alpha = queue.pop()\n",
    "        if cnt < len(alpha):\n",
    "            cnt = len(alpha)\n",
    "        for i in range(4):\n",
    "            nx = x + dx[i]\n",
    "            ny = y + dy[i]\n",
    "            if 0 <= nx < C and 0 <= ny < R and field[ny][nx] not in alpha:\n",
    "                queue.add((nx, ny, alpha + field[ny][nx]))\n",
    "    print(cnt)\n",
    "    return\n",
    "\n",
    "bfs()"
   ]
  },
  {
   "cell_type": "code",
   "execution_count": 32,
   "metadata": {},
   "outputs": [
    {
     "data": {
      "text/plain": [
       "3"
      ]
     },
     "execution_count": 32,
     "metadata": {},
     "output_type": "execute_result"
    }
   ],
   "source": [
    "# 단순 DFS 시간초과\n",
    "# R, C = map(int, sys.stdin.readline().split())\n",
    "R, C = map(int, input().split()) # R: 가로 / C: 세로\n",
    "field = []\n",
    "for _ in range(R):\n",
    "    field.append(list(input()))\n",
    "    # field.append(list(sys.stdin.readline().rstrip()))\n",
    "visited = [[False for _ in range(C)] for _ in range(R)]\n",
    "\n",
    "ans = 1\n",
    "def dfs(x, y, alpha):\n",
    "    global ans\n",
    "    if ans < len(alpha):\n",
    "        ans = len(alpha)\n",
    "    visited[y][x] = True\n",
    "    dx = [-1, 1, 0, 0]\n",
    "    dy = [0, 0, -1, 1]\n",
    "\n",
    "    for i in range(4):\n",
    "        nx = x + dx[i]\n",
    "        ny = y + dy[i]\n",
    "        if 0 <= nx < C and 0 <= ny < R:\n",
    "            if visited[ny][nx]:\n",
    "                continue\n",
    "            if field[ny][nx] not in alpha:\n",
    "                alpha_next = alpha + [field[ny][nx]]\n",
    "                dfs(nx, ny, alpha_next)\n",
    "                visited[ny][nx] = False\n",
    "\n",
    "\n",
    "dfs(0, 0, [field[0][0]])\n",
    "print(ans)"
   ]
  },
  {
   "cell_type": "code",
   "execution_count": 41,
   "metadata": {},
   "outputs": [
    {
     "name": "stdout",
     "output_type": "stream",
     "text": [
      "6\n"
     ]
    }
   ],
   "source": [
    "# set자료형과 DFS를 사용한 결과(상하를 먼저 탐색하면 통과, 좌우를 먼저탐색하면 불합격임.)\n",
    "import sys\n",
    "\n",
    "# R, C = map(int, sys.stdin.readline().split())\n",
    "R, C = map(int, input().split()) # R: 가로 / C: 세로\n",
    "field = []\n",
    "for _ in range(R):\n",
    "    field.append(list(input()))\n",
    "    # field.append(list(sys.stdin.readline().rstrip()))\n",
    "\n",
    "dx = [0, 0, -1, 1]\n",
    "dy = [-1, 1, 0, 0]\n",
    "ans = 0\n",
    "alpha = set()\n",
    "alpha.add(field[0][0])\n",
    "def dfs(x, y, cnt):\n",
    "    global ans\n",
    "    ans = max(ans, cnt)\n",
    "\n",
    "    for i in range(4):\n",
    "        nx = x + dx[i]\n",
    "        ny = y + dy[i]\n",
    "        if 0 <= nx < C and 0 <= ny < R and not field[ny][nx] in alpha:\n",
    "            alpha.add(field[ny][nx])\n",
    "            dfs(nx, ny, cnt+1)\n",
    "            alpha.remove(field[ny][nx])\n",
    "\n",
    "dfs(0, 0, 1)\n",
    "print(ans)"
   ]
  },
  {
   "cell_type": "markdown",
   "metadata": {},
   "source": [
    "1339번 단어 수학 https://www.acmicpc.net/problem/1339"
   ]
  },
  {
   "cell_type": "code",
   "execution_count": 11,
   "metadata": {},
   "outputs": [
    {
     "data": {
      "text/plain": [
       "0"
      ]
     },
     "execution_count": 11,
     "metadata": {},
     "output_type": "execute_result"
    }
   ],
   "source": [
    "test = ['a', 'b', 'c']\n",
    "test.index('a')"
   ]
  },
  {
   "cell_type": "code",
   "execution_count": 76,
   "metadata": {},
   "outputs": [
    {
     "name": "stdout",
     "output_type": "stream",
     "text": [
      "45\n"
     ]
    }
   ],
   "source": [
    "import sys\n",
    "\n",
    "alpha_cases = []\n",
    "# input = sys.stdin.readline\n",
    "N = int(input())\n",
    "alphas = []\n",
    "alphas_order = []\n",
    "for _ in range(N):\n",
    "    inputValue = list(input())\n",
    "    # inputValue = list(input().rstrip())\n",
    "    alpha_cases.append(inputValue)\n",
    "    alphaCheck = set(inputValue)\n",
    "    for alpha in alphaCheck:\n",
    "        if alpha not in alphas_order:\n",
    "            alphas.append([alpha, 0, 0])\n",
    "            alphas_order.append(alpha)\n",
    "    for i in range(1, len(inputValue)+1):\n",
    "        alphas[alphas_order.index(inputValue[-i])][1] += 10**(i-1)\n",
    "\n",
    "alphas.sort(key = lambda x: x[1], reverse=True)\n",
    "alphas_order = [] # alphas와 순서를 맞춰주기 위해 새로 작성\n",
    "for alpha in alphas:\n",
    "    alphas_order.append(alpha[0])\n",
    "    \n",
    "for i in range(len(alphas)):\n",
    "    alphas[i][2] = 9 - i\n",
    "\n",
    "ans = 0\n",
    "for alpha_case in alpha_cases:\n",
    "    r1 = ''\n",
    "    for alpha in alpha_case: \n",
    "        r1 += str(alphas[alphas_order.index(alpha)][2])\n",
    "    ans += int(r1)\n",
    "print(ans) "
   ]
  },
  {
   "cell_type": "markdown",
   "metadata": {},
   "source": [
    "9663번 N-Queen https://www.acmicpc.net/problem/9663"
   ]
  },
  {
   "cell_type": "code",
   "execution_count": 40,
   "metadata": {},
   "outputs": [
    {
     "name": "stdout",
     "output_type": "stream",
     "text": [
      "2\n"
     ]
    }
   ],
   "source": [
    "# 풀이방법 : 사방위, 대각선을 탐색할 수 있는 로직 작성\n",
    "# 체스판의 모든 좌표에 하나하나씩 넣어보면서 가능한 위치 확인, 불가능할 시 백트래킹 형식으로 뒤로 돌아가며 탐색\n",
    "# 대각선좌표 추출법 : abs(x-dx) == abs(y-dy)\n",
    "# 해결중..\n",
    "\n",
    "import sys\n",
    "# sys.setrecursionlimit(2500)\n",
    "\n",
    "N = int(input())\n",
    "field = [[0 for _ in range(N)] for _ in range(N)]\n",
    "\n",
    "x, y = 0, 0\n",
    "ans = 0\n",
    "loc_group = [] # 새로 작성된 불가능 좌표 저장\n",
    "check_group = [] # 사용가능한 좌표 저장\n",
    "use_group = []\n",
    "\n",
    "def check(x, y): # 사방위, 대각선 좌표 확인\n",
    "    add_loc = []\n",
    "    for dy in range(N):\n",
    "        for dx in range(N):\n",
    "            if field[y][dx] == 0:\n",
    "                field[y][dx] = 1\n",
    "                add_loc.append([dx, y])\n",
    "            elif field[dy][x] == 0:\n",
    "                field[dy][x] = 1\n",
    "                add_loc.append([x, dy])\n",
    "            elif abs(x-dx) == abs(y-dy) and field[dy][dx] == 0:\n",
    "                field[dy][dx] = 1\n",
    "                add_loc.append([dx, dy])\n",
    "            elif field[dy][dx] == 0 and len(loc_group) == 0:\n",
    "                check_group.append([dx, dy])\n",
    "    loc_group.append(add_loc)\n",
    "\n",
    "def dfs(x, y, start):\n",
    "    global ans\n",
    "    use_group.append([x, y])\n",
    "    check(x, y)\n",
    "\n",
    "    if len(use_group) == N:\n",
    "        ans += 1\n",
    "        return\n",
    "    \n",
    "    for i in range(start, len(check_group)):\n",
    "        if len(use_group) + len(check_group) - i < N:\n",
    "            continue\n",
    "        \n",
    "        nx, ny = check_group[i]\n",
    "        if field[ny][nx]:\n",
    "            continue\n",
    "        \n",
    "        dfs(nx, ny, i+1)\n",
    "        use_group.pop()\n",
    "        locs = loc_group.pop()\n",
    "        for cpx, cpy in locs:\n",
    "            field[cpy][cpx] = 0\n",
    "\n",
    "for y in range(N):\n",
    "    for x in range(N):\n",
    "        dfs(x, y, 0)\n",
    "        # 초기화 \n",
    "        use_group.pop()\n",
    "        locs = loc_group.pop()\n",
    "        for cpx, cpy in locs:\n",
    "            field[cpy][cpx] = 0\n",
    "        field[y][x] = 1\n",
    "\n",
    "print(ans)"
   ]
  },
  {
   "cell_type": "markdown",
   "metadata": {},
   "source": [
    "15654번 N과 M(5) https://www.acmicpc.net/problem/15654"
   ]
  },
  {
   "cell_type": "code",
   "execution_count": 59,
   "metadata": {},
   "outputs": [
    {
     "name": "stdout",
     "output_type": "stream",
     "text": [
      "1 7\n",
      "1 8\n",
      "1 9\n",
      "7 1\n",
      "7 8\n",
      "7 9\n",
      "8 1\n",
      "8 7\n",
      "8 9\n",
      "9 1\n",
      "9 7\n",
      "9 8\n"
     ]
    }
   ],
   "source": [
    "N, M = map(int, input().split())\n",
    "numbers = list(map(int, input().split()))\n",
    "numbers.sort()\n",
    "visited = [False for _ in range(N)]\n",
    "arr = []\n",
    "def dfs():\n",
    "    if len(arr) == M:\n",
    "        print(*arr)\n",
    "        return\n",
    "    for i in range(N):\n",
    "        if visited[i]:\n",
    "            continue\n",
    "\n",
    "        visited[i] = True\n",
    "        arr.append(numbers[i])\n",
    "        dfs()\n",
    "        arr.pop()\n",
    "        visited[i] = False\n",
    "dfs()"
   ]
  }
 ],
 "metadata": {
  "interpreter": {
   "hash": "fe3bab233825460445dbfeea6dcd52ef5815a3fa13c858fea07ac830aa383284"
  },
  "kernelspec": {
   "display_name": "Python 3.8.10 ('base')",
   "language": "python",
   "name": "python3"
  },
  "language_info": {
   "codemirror_mode": {
    "name": "ipython",
    "version": 3
   },
   "file_extension": ".py",
   "mimetype": "text/x-python",
   "name": "python",
   "nbconvert_exporter": "python",
   "pygments_lexer": "ipython3",
   "version": "3.8.10"
  },
  "orig_nbformat": 4
 },
 "nbformat": 4,
 "nbformat_minor": 2
}
