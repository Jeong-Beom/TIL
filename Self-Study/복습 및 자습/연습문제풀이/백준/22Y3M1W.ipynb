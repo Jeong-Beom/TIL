{
 "cells": [
  {
   "cell_type": "markdown",
   "metadata": {},
   "source": [
    "1644번 소수의 연속합 https://data-is-power.tistory.com/105"
   ]
  },
  {
   "cell_type": "code",
   "execution_count": null,
   "metadata": {},
   "outputs": [],
   "source": [
    "def sosu_list(limit):\n",
    "    checked = [True] + [False for _ in range(limit)]\n",
    "    checked[1] = True\n",
    "    numbers = []\n",
    "    for i in range(len(checked)):\n",
    "        if checked[i] == False:\n",
    "            numbers.append(i)\n",
    "            for k in range(i, len(checked), i):\n",
    "                checked[k] = True\n",
    "    return numbers\n",
    "\n",
    "N = int(input())\n",
    "numbers = sosu_list(N)\n",
    "cp1, cp2 = 0, 0\n",
    "K = len(numbers)\n",
    "\n",
    "if N == 1:\n",
    "    print(0)\n",
    "else:\n",
    "    cnt = 0\n",
    "    check_value = 2\n",
    "    while cp1 < K and cp2 < K:\n",
    "        if check_value == N:\n",
    "            cnt += 1\n",
    "        if check_value < N and cp2 < K-1:\n",
    "            cp2 += 1\n",
    "            check_value += numbers[cp2]\n",
    "        else:\n",
    "            check_value -= numbers[cp1]\n",
    "            cp1 += 1\n",
    "    print(cnt)"
   ]
  },
  {
   "cell_type": "markdown",
   "metadata": {},
   "source": [
    "1987번 알파벳 https://www.acmicpc.net/problem/1987"
   ]
  },
  {
   "cell_type": "code",
   "execution_count": 32,
   "metadata": {},
   "outputs": [
    {
     "data": {
      "text/plain": [
       "1"
      ]
     },
     "execution_count": 32,
     "metadata": {},
     "output_type": "execute_result"
    }
   ],
   "source": [
    "# BFS 시간초과\n",
    "from collections import deque\n",
    "import sys\n",
    "\n",
    "# R, C = map(int, sys.stdin.readline().split())\n",
    "R, C = map(int, input().split()) # R: 가로 / C: 세로\n",
    "field = []\n",
    "for _ in range(R):\n",
    "    field.append(list(input()))\n",
    "    # field.append(list(sys.stdin.readline().rstrip()))\n",
    "\n",
    "def bfs():\n",
    "    queue = deque()\n",
    "    dx = [-1, 1, 0, 0]\n",
    "    dy = [0, 0, -1, 1]\n",
    "    queue.append([0, 0, field[0][0]])\n",
    "    cnt = 0\n",
    "\n",
    "    while queue:\n",
    "        x, y, alpha = queue.popleft()\n",
    "        if cnt < len(alpha):\n",
    "            cnt = len(alpha)\n",
    "        for i in range(4):\n",
    "            nx = x + dx[i]\n",
    "            ny = y + dy[i]\n",
    "            if 0 <= nx < C and 0 <= ny < R:\n",
    "                if field[ny][nx] not in alpha:\n",
    "                    alpha_next = alpha + field[ny][nx]\n",
    "                    queue.append([nx, ny, alpha_next])\n",
    "    return cnt\n",
    "\n",
    "print(bfs())"
   ]
  },
  {
   "cell_type": "code",
   "execution_count": 32,
   "metadata": {},
   "outputs": [
    {
     "data": {
      "text/plain": [
       "3"
      ]
     },
     "execution_count": 32,
     "metadata": {},
     "output_type": "execute_result"
    }
   ],
   "source": [
    "# R, C = map(int, sys.stdin.readline().split())\n",
    "R, C = map(int, input().split()) # R: 가로 / C: 세로\n",
    "field = []\n",
    "for _ in range(R):\n",
    "    field.append(list(input()))\n",
    "    # field.append(list(sys.stdin.readline().rstrip()))\n",
    "visited = [[False for _ in range(C)] for _ in range(R)]\n",
    "\n",
    "ans = 1\n",
    "def dfs(x, y, alpha):\n",
    "    global ans\n",
    "    if ans < len(alpha):\n",
    "        ans = len(alpha)\n",
    "    visited[y][x] = True\n",
    "    dx = [-1, 1, 0, 0]\n",
    "    dy = [0, 0, -1, 1]\n",
    "\n",
    "    for i in range(4):\n",
    "        nx = x + dx[i]\n",
    "        ny = y + dy[i]\n",
    "        if 0 <= nx < C and 0 <= ny < R:\n",
    "            if visited[ny][nx]:\n",
    "                continue\n",
    "            if field[ny][nx] not in alpha:\n",
    "                alpha_next = alpha + [field[ny][nx]]\n",
    "                dfs(nx, ny, alpha_next)\n",
    "                visited[ny][nx] = False\n",
    "\n",
    "\n",
    "dfs(0, 0, [field[0][0]])\n",
    "print(ans)"
   ]
  }
 ],
 "metadata": {
  "interpreter": {
   "hash": "fe3bab233825460445dbfeea6dcd52ef5815a3fa13c858fea07ac830aa383284"
  },
  "kernelspec": {
   "display_name": "Python 3.8.10 ('base')",
   "language": "python",
   "name": "python3"
  },
  "language_info": {
   "codemirror_mode": {
    "name": "ipython",
    "version": 3
   },
   "file_extension": ".py",
   "mimetype": "text/x-python",
   "name": "python",
   "nbconvert_exporter": "python",
   "pygments_lexer": "ipython3",
   "version": "3.8.10"
  },
  "orig_nbformat": 4
 },
 "nbformat": 4,
 "nbformat_minor": 2
}
