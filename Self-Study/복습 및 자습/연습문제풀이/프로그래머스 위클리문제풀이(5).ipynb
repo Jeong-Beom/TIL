{
 "cells": [
  {
   "cell_type": "code",
   "execution_count": 75,
   "source": [
    "# 7주차 코로나입실명부 시간초과로 인한 다른 코드로 작성"
   ],
   "outputs": [],
   "metadata": {}
  },
  {
   "cell_type": "code",
   "execution_count": 76,
   "source": [
    "enter = [1, 2, 3, 4, 5]\r\n",
    "leave = [5, 3, 1, 2, 4]\r\n",
    "enter_dict = dict(zip([i for i in range(1, len(enter)+1)], [[enter.index(i), leave.index(i)] for i in range(1, len(enter)+1)]))\r\n",
    "enter_dict"
   ],
   "outputs": [
    {
     "output_type": "execute_result",
     "data": {
      "text/plain": [
       "{1: [0, 2], 2: [1, 3], 3: [2, 1], 4: [3, 4], 5: [4, 0]}"
      ]
     },
     "metadata": {},
     "execution_count": 76
    }
   ],
   "metadata": {}
  },
  {
   "cell_type": "code",
   "execution_count": 104,
   "source": [
    "enter = [3,2,1]\r\n",
    "leave = [2,1,3]\r\n",
    "answer = []\r\n",
    "\r\n",
    "answer, room, origin_entry_list, entry_list, check_list = [], [], [], [], []\r\n",
    "n = 0\r\n",
    "\r\n",
    "while leave != []:\r\n",
    "    if n < len(enter) and enter[n] in leave:\r\n",
    "        room.append(enter[n])\r\n",
    "        n += 1\r\n",
    "    elif n >= len(enter):\r\n",
    "        n -= 1\r\n",
    "    copy_room = room[:]\r\n",
    "    if len(copy_room) >= 2:\r\n",
    "        origin_entry_list.append(copy_room)\r\n",
    "    if leave[0] in room:\r\n",
    "        del room[room.index(leave[0])]\r\n",
    "        del leave[0] \r\n",
    "\r\n",
    "for v in origin_entry_list:\r\n",
    "    if v not in entry_list:\r\n",
    "        entry_list.append(v)\r\n",
    "\r\n",
    "for i in range(1, len(enter)+1):\r\n",
    "    for k in range(len(entry_list)):\r\n",
    "        if i in entry_list[k]:\r\n",
    "            check_list.extend(entry_list[k])\r\n",
    "            print(i, check_list)\r\n",
    "    check_list = []\r\n",
    "    # try:\r\n",
    "    #     answer.append(max(check_list))\r\n",
    "    #     check_list = []\r\n",
    "    # except:\r\n",
    "    #     answer.append(0)\r\n",
    "    #     check_list = []"
   ],
   "outputs": [
    {
     "output_type": "stream",
     "name": "stdout",
     "text": [
      "1 [3, 1]\n",
      "2 [3, 2]\n",
      "3 [3, 2]\n",
      "3 [3, 2, 3, 1]\n"
     ]
    }
   ],
   "metadata": {}
  }
 ],
 "metadata": {
  "orig_nbformat": 4,
  "language_info": {
   "name": "python",
   "version": "3.8.10",
   "mimetype": "text/x-python",
   "codemirror_mode": {
    "name": "ipython",
    "version": 3
   },
   "pygments_lexer": "ipython3",
   "nbconvert_exporter": "python",
   "file_extension": ".py"
  },
  "kernelspec": {
   "name": "python3",
   "display_name": "Python 3.8.10 64-bit ('base': conda)"
  },
  "interpreter": {
   "hash": "fe3bab233825460445dbfeea6dcd52ef5815a3fa13c858fea07ac830aa383284"
  }
 },
 "nbformat": 4,
 "nbformat_minor": 2
}