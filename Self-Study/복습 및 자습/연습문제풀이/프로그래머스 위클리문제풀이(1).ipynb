{
 "cells": [
  {
   "cell_type": "markdown",
   "source": [
    "테이블 위에 놓인 퍼즐 조각을 게임 보드의 빈 공간에 적절히 올려놓으려 합니다. \r\n",
    "게임 보드와 테이블은 모두 각 칸이 1x1 크기인 정사각 격자 모양입니다. 이때, 다음 규칙에 따라 테이블 위에 놓인 퍼즐 조각을 게임 보드의 빈칸에 채우면 됩니다.\r\n",
    "\r\n",
    "조각은 한 번에 하나씩 채워 넣습니다.\r\n",
    "조각을 회전시킬 수 있습니다.\r\n",
    "조각을 뒤집을 수는 없습니다.\r\n",
    "게임 보드에 새로 채워 넣은 퍼즐 조각과 인접한 칸이 비어있으면 안 됩니다.\r\n",
    "다음은 퍼즐 조각을 채우는 예시입니다.\r\n",
    "\r\n",
    "위 그림에서 왼쪽은 현재 게임 보드의 상태를, 오른쪽은 테이블 위에 놓인 퍼즐 조각들을 나타냅니다. \r\n",
    "테이블 위에 놓인 퍼즐 조각들 또한 마찬가지로 [상,하,좌,우]로 인접해 붙어있는 경우는 없으며, \r\n",
    "흰 칸은 퍼즐이 놓이지 않은 빈 공간을 나타냅니다. 모든 퍼즐 조각은 격자 칸에 딱 맞게 놓여있으며, \r\n",
    "격자 칸을 벗어나거나, 걸쳐 있는 등 잘못 놓인 경우는 없습니다.\r\n",
    "\r\n",
    "이때, 아래 그림과 같이 3,4,5번 조각을 격자 칸에 놓으면 규칙에 어긋나므로 불가능한 경우입니다.\r\n",
    "3번 조각을 놓고 4번 조각을 놓기 전에 위쪽으로 인접한 칸에 빈칸이 생깁니다.\r\n",
    "5번 조각의 양 옆으로 인접한 칸에 빈칸이 생깁니다.\r\n",
    "다음은 규칙에 맞게 최대한 많은 조각을 게임 보드에 채워 넣은 모습입니다.\r\n",
    "\r\n",
    "최대한 많은 조각을 채워 넣으면 총 14칸을 채울 수 있습니다.\r\n",
    "현재 게임 보드의 상태 game_board, 테이블 위에 놓인 퍼즐 조각의 상태 table이 매개변수로 주어집니다. \r\n",
    "규칙에 맞게 최대한 많은 퍼즐 조각을 채워 넣을 경우, 총 몇 칸을 채울 수 있는지 return 하도록 solution 함수를 완성해주세요.\r\n",
    "\r\n",
    "제한사항\r\n",
    "3 ≤ game_board의 행 길이 ≤ 50\r\n",
    "game_board의 각 열 길이 = game_board의 행 길이\r\n",
    "즉, 게임 보드는 정사각 격자 모양입니다.\r\n",
    "game_board의 모든 원소는 0 또는 1입니다.\r\n",
    "0은 빈칸, 1은 이미 채워진 칸을 나타냅니다.\r\n",
    "퍼즐 조각이 놓일 빈칸은 1 x 1 크기 정사각형이 최소 1개에서 최대 6개까지 연결된 형태로만 주어집니다.\r\n",
    "table의 행 길이 = game_board의 행 길이\r\n",
    "table의 각 열 길이 = table의 행 길이\r\n",
    "즉, 테이블은 game_board와 같은 크기의 정사각 격자 모양입니다.\r\n",
    "table의 모든 원소는 0 또는 1입니다.\r\n",
    "0은 빈칸, 1은 조각이 놓인 칸을 나타냅니다.\r\n",
    "퍼즐 조각은 1 x 1 크기 정사각형이 최소 1개에서 최대 6개까지 연결된 형태로만 주어집니다.\r\n",
    "game_board에는 반드시 하나 이상의 빈칸이 있습니다.\r\n",
    "table에는 반드시 하나 이상의 블록이 놓여 있습니다."
   ],
   "metadata": {}
  },
  {
   "cell_type": "code",
   "execution_count": 2,
   "source": [
    "def solution(game_board, table):\r\n",
    "    answer = -1\r\n",
    "    return answer"
   ],
   "outputs": [
    {
     "output_type": "execute_result",
     "data": {
      "text/plain": [
       "10"
      ]
     },
     "metadata": {},
     "execution_count": 2
    }
   ],
   "metadata": {}
  },
  {
   "cell_type": "code",
   "execution_count": 75,
   "source": [
    "game_board = [[1,1,0,0,1,0],[0,0,1,0,1,0],[0,1,1,0,0,1],[1,1,0,1,1,1],[1,0,0,0,1,0],[0,1,1,1,0,0]]\r\n",
    "table = [[1,0,0,1,1,0],[1,0,1,0,1,0],[0,1,1,0,1,1],[0,0,1,0,0,0],[1,1,0,1,1,0],[0,1,0,0,0,0]]\r\n",
    "# game_board = [[0,0,0],[1,1,0],[1,1,1]]\r\n",
    "# table = [[1,1,1],[1,0,0],[0,0,0]]\r\n",
    "game_board, table"
   ],
   "outputs": [
    {
     "output_type": "execute_result",
     "data": {
      "text/plain": [
       "([[1, 1, 0, 0, 1, 0],\n",
       "  [0, 0, 1, 0, 1, 0],\n",
       "  [0, 1, 1, 0, 0, 1],\n",
       "  [1, 1, 0, 1, 1, 1],\n",
       "  [1, 0, 0, 0, 1, 0],\n",
       "  [0, 1, 1, 1, 0, 0]],\n",
       " [[1, 0, 0, 1, 1, 0],\n",
       "  [1, 0, 1, 0, 1, 0],\n",
       "  [0, 1, 1, 0, 1, 1],\n",
       "  [0, 0, 1, 0, 0, 0],\n",
       "  [1, 1, 0, 1, 1, 0],\n",
       "  [0, 1, 0, 0, 0, 0]])"
      ]
     },
     "metadata": {},
     "execution_count": 75
    }
   ],
   "metadata": {}
  },
  {
   "cell_type": "code",
   "execution_count": 76,
   "source": [
    "game_board = [[1] * (len(game_board)+2)] + game_board\r\n",
    "table = [[0] * (len(table)+2)] + table\r\n",
    "for i in range(len(game_board[1])):\r\n",
    "    game_board[i+1] = [1] + game_board[i+1] + [1]\r\n",
    "for k in range(len(table[1])):\r\n",
    "    table[k+1] = [0] + table[k+1] + [0]\r\n",
    "game_board = game_board + [[1] * (len(game_board)+1)]\r\n",
    "table = table + [[0] * (len(table)+1)]\r\n",
    "game_board, table"
   ],
   "outputs": [
    {
     "output_type": "execute_result",
     "data": {
      "text/plain": [
       "([[1, 1, 1, 1, 1, 1, 1, 1],\n",
       "  [1, 1, 1, 0, 0, 1, 0, 1],\n",
       "  [1, 0, 0, 1, 0, 1, 0, 1],\n",
       "  [1, 0, 1, 1, 0, 0, 1, 1],\n",
       "  [1, 1, 1, 0, 1, 1, 1, 1],\n",
       "  [1, 1, 0, 0, 0, 1, 0, 1],\n",
       "  [1, 0, 1, 1, 1, 0, 0, 1],\n",
       "  [1, 1, 1, 1, 1, 1, 1, 1]],\n",
       " [[0, 0, 0, 0, 0, 0, 0, 0],\n",
       "  [0, 1, 0, 0, 1, 1, 0, 0],\n",
       "  [0, 1, 0, 1, 0, 1, 0, 0],\n",
       "  [0, 0, 1, 1, 0, 1, 1, 0],\n",
       "  [0, 0, 0, 1, 0, 0, 0, 0],\n",
       "  [0, 1, 1, 0, 1, 1, 0, 0],\n",
       "  [0, 0, 1, 0, 0, 0, 0, 0],\n",
       "  [0, 0, 0, 0, 0, 0, 0, 0]])"
      ]
     },
     "metadata": {},
     "execution_count": 76
    }
   ],
   "metadata": {}
  },
  {
   "cell_type": "code",
   "execution_count": 111,
   "source": [
    "game_board + table"
   ],
   "outputs": [
    {
     "output_type": "execute_result",
     "data": {
      "text/plain": [
       "[[1, 1, 1, 1, 1, 1, 1, 1],\n",
       " [1, 1, 1, 0, 0, 1, 0, 1],\n",
       " [1, 0, 0, 1, 0, 1, 0, 1],\n",
       " [1, 0, 1, 1, 0, 0, 1, 1],\n",
       " [1, 1, 1, 0, 1, 1, 1, 1],\n",
       " [1, 1, 0, 0, 0, 1, 0, 1],\n",
       " [1, 0, 1, 1, 1, 0, 0, 1],\n",
       " [1, 1, 1, 1, 1, 1, 1, 1],\n",
       " [0, 0, 0, 0, 0, 0, 0, 0],\n",
       " [0, 1, 0, 0, 1, 1, 0, 0],\n",
       " [0, 1, 0, 1, 0, 1, 0, 0],\n",
       " [0, 0, 1, 1, 0, 1, 1, 0],\n",
       " [0, 0, 0, 1, 0, 0, 0, 0],\n",
       " [0, 1, 1, 0, 1, 1, 0, 0],\n",
       " [0, 0, 1, 0, 0, 0, 0, 0],\n",
       " [0, 0, 0, 0, 0, 0, 0, 0]]"
      ]
     },
     "metadata": {},
     "execution_count": 111
    }
   ],
   "metadata": {}
  },
  {
   "cell_type": "code",
   "execution_count": 110,
   "source": [
    "for i in range(1, len(game_board)-1):\r\n",
    "    for k in range(1, len(game_board)-1):\r\n",
    "        print(game_board[i][k], end = ' ')\r\n",
    "    print('\\n')"
   ],
   "outputs": [
    {
     "output_type": "stream",
     "name": "stdout",
     "text": [
      "1 1 0 0 1 0 \n",
      "\n",
      "0 0 1 0 1 0 \n",
      "\n",
      "0 1 1 0 0 1 \n",
      "\n",
      "1 1 0 1 1 1 \n",
      "\n",
      "1 0 0 0 1 0 \n",
      "\n",
      "0 1 1 1 0 0 \n",
      "\n"
     ]
    }
   ],
   "metadata": {}
  }
 ],
 "metadata": {
  "orig_nbformat": 4,
  "language_info": {
   "name": "python",
   "version": "3.8.10",
   "mimetype": "text/x-python",
   "codemirror_mode": {
    "name": "ipython",
    "version": 3
   },
   "pygments_lexer": "ipython3",
   "nbconvert_exporter": "python",
   "file_extension": ".py"
  },
  "kernelspec": {
   "name": "python3",
   "display_name": "Python 3.8.10 64-bit ('base': conda)"
  },
  "interpreter": {
   "hash": "fe3bab233825460445dbfeea6dcd52ef5815a3fa13c858fea07ac830aa383284"
  }
 },
 "nbformat": 4,
 "nbformat_minor": 2
}