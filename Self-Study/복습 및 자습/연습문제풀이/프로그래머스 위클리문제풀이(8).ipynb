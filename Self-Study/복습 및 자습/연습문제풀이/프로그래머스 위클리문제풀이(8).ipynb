{
 "cells": [
  {
   "cell_type": "markdown",
   "metadata": {},
   "source": [
    "문제 설명\n",
    "Ax + By + C = 0으로 표현할 수 있는 n개의 직선이 주어질 때, 이 직선의 교점 중 정수 좌표에 별을 그리려 합니다.\n",
    "\n",
    "예를 들어, 다음과 같은 직선 5개를\n",
    "\n",
    "2x - y + 4 = 0\n",
    "-2x - y + 4 = 0\n",
    "-y + 1 = 0\n",
    "5x - 8y - 12 = 0\n",
    "5x + 8y + 12 = 0\n",
    "\n",
    "이때, 모든 교점의 좌표는 (4, 1), (4, -4), (-4, -4), (-4, 1), (0, 4), (1.5, 1.0), (2.1, -0.19), (0, -1.5), (-2.1, -0.19), (-1.5, 1.0)입니다. 이 중 정수로만 표현되는 좌표는 (4, 1), (4, -4), (-4, -4), (-4, 1), (0, 4)입니다.\n",
    "위의 그림을 문자열로 나타낼 때, 별이 그려진 부분은 *, 빈 공간(격자선이 교차하는 지점)은 .으로 표현하면 다음과 같습니다.\n",
    "이때 격자판은 무한히 넓으니 모든 별을 포함하는 최소한의 크기만 나타내면 됩니다.\n",
    "직선 A, B, C에 대한 정보가 담긴 배열 line이 매개변수로 주어집니다. 이때 모든 별을 포함하는 최소 사각형을 return 하도록 solution 함수를 완성해주세요.\n",
    "\n",
    "제한사항\n",
    "line의 세로(행) 길이는 2 이상 1,000 이하인 자연수입니다.\n",
    "line의 가로(열) 길이는 3입니다.\n",
    "line의 각 원소는 [A, B, C] 형태입니다.\n",
    "A, B, C는 -100,000 이상 100,000 이하인 정수입니다.\n",
    "무수히 많은 교점이 생기는 직선 쌍은 주어지지 않습니다.\n",
    "A = 0이면서 B = 0인 경우는 주어지지 않습니다.\n",
    "정답은 1,000 * 1,000 크기 이내에서 표현됩니다.\n",
    "별이 한 개 이상 그려지는 입력만 주어집니다."
   ]
  },
  {
   "cell_type": "code",
   "execution_count": 44,
   "metadata": {},
   "outputs": [],
   "source": [
    "# 연립방적식 해를 구하는 함수 만들기\n",
    "def find_equations(list1, list2):\n",
    "    for i in range(-500, 501):\n",
    "        for k in range(-500, 501):\n",
    "            if i == (-list1[1] * k - list1[2]) / list1[0] if list1[0] != 0 else k == (-list1[0] - list1[2]) / list1[1]:\n",
    "                if i == (-list2[1] * k - list2[2]) / list2[0] if list2[0] != 0 else k == (-list2[0] - list2[2]) / list2[1]:\n",
    "                    return [i, k]\n",
    "                    # break"
   ]
  },
  {
   "cell_type": "code",
   "execution_count": 2,
   "metadata": {},
   "outputs": [],
   "source": [
    "# Ax + By + C = A'x + B'y + C'"
   ]
  },
  {
   "cell_type": "code",
   "execution_count": 45,
   "metadata": {},
   "outputs": [
    {
     "name": "stdout",
     "output_type": "stream",
     "text": [
      "0 4\n"
     ]
    }
   ],
   "source": [
    "# Ax + By + C = 0 -> x =   (-By - C) / A &  y = (-Ax - C) / B\n",
    "line = [[2, -1, 4], [-2, -1, 4], [0, -1, 1], [5, -8, -12], [5, 8, 12]]\n",
    "for i in range(1000):\n",
    "    for k in range(1000):\n",
    "            if i == (-line[0][1] * k - line[0][2]) / line[0][0]:\n",
    "                if i == (-line[1][1] * k - line[1][2]) / line[1][0]:\n",
    "                    print(i, k)"
   ]
  },
  {
   "cell_type": "code",
   "execution_count": 42,
   "metadata": {},
   "outputs": [],
   "source": [
    "a1 = line[0][0]\n",
    "b1 = line[0][1]\n",
    "c1 = line[0][2]\n",
    "a2 = line[1][0]\n",
    "b2 = line[1][1]\n",
    "c2 = line[1][2]\n",
    "\n",
    "x = ((-b2*c1) + (b1*c2)) / ((a1*b2) + (-b1*a2))\n",
    "y = ((a2*c1) + (-a1*c2)) / ((a1*b2) + (-b1*a2))"
   ]
  },
  {
   "cell_type": "code",
   "execution_count": 59,
   "metadata": {},
   "outputs": [],
   "source": []
  },
  {
   "cell_type": "code",
   "execution_count": 46,
   "metadata": {},
   "outputs": [
    {
     "data": {
      "text/plain": [
       "[[0, 4], [-4, -4], [4, -4], [4, 1], [-4, 1]]"
      ]
     },
     "execution_count": 46,
     "metadata": {},
     "output_type": "execute_result"
    }
   ],
   "source": [
    "line = [[2, -1, 4], [-2, -1, 4], [0, -1, 1], [5, -8, -12], [5, 8, 12]]\n",
    "sol_list = []\n",
    "n = 0\n",
    "for i in range(len(line)):\n",
    "    for k in range(n + 1, len(line)):\n",
    "        if find_equations(line[i], line[k]) != None:\n",
    "            sol_list.append(find_equations(line[i], line[k]))\n",
    "    n += 1\n",
    "sol_list"
   ]
  },
  {
   "cell_type": "code",
   "execution_count": 5,
   "metadata": {},
   "outputs": [
    {
     "data": {
      "text/plain": [
       "(9, 9)"
      ]
     },
     "execution_count": 5,
     "metadata": {},
     "output_type": "execute_result"
    }
   ],
   "source": [
    "r = max([sol_list[i][1] for i in range(len(sol_list))]) - min([sol_list[i][1] for i in range(len(sol_list))]) + 1\n",
    "c = max([sol_list[i][0] for i in range(len(sol_list))]) - min([sol_list[i][0] for i in range(len(sol_list))]) + 1\n",
    "r, c"
   ]
  },
  {
   "cell_type": "code",
   "execution_count": 96,
   "metadata": {},
   "outputs": [
    {
     "data": {
      "text/plain": [
       "([2, 0], [0, 0])"
      ]
     },
     "execution_count": 96,
     "metadata": {},
     "output_type": "execute_result"
    }
   ],
   "source": [
    "sol_list1 = sol_list.copy()\n",
    "x_list = [sol_list[i][0] for i in range(len(sol_list))]\n",
    "y_list = [sol_list[i][1] for i in range(len(sol_list))]\n",
    "x_list, y_list"
   ]
  },
  {
   "cell_type": "code",
   "execution_count": 7,
   "metadata": {},
   "outputs": [
    {
     "data": {
      "text/plain": [
       "[[4, 0], [0, 8], [8, 8], [8, 3], [0, 3]]"
      ]
     },
     "execution_count": 7,
     "metadata": {},
     "output_type": "execute_result"
    }
   ],
   "source": [
    "for i in range(len(sol_list)):\n",
    "    sol_list[i][0] += abs(min(x_list))\n",
    "    sol_list[i][1] -= abs(max(y_list))\n",
    "    sol_list[i][1] = abs(sol_list[i][1])\n",
    "sol_list"
   ]
  },
  {
   "cell_type": "code",
   "execution_count": 8,
   "metadata": {},
   "outputs": [],
   "source": [
    "check_list = [['.'] * c for _ in range(r)]"
   ]
  },
  {
   "cell_type": "code",
   "execution_count": 9,
   "metadata": {},
   "outputs": [
    {
     "data": {
      "text/plain": [
       "'.'"
      ]
     },
     "execution_count": 9,
     "metadata": {},
     "output_type": "execute_result"
    }
   ],
   "source": [
    "check_list[sol_list[0][1]][sol_list[0][0]]"
   ]
  },
  {
   "cell_type": "code",
   "execution_count": 10,
   "metadata": {},
   "outputs": [],
   "source": [
    "for i in range(len(sol_list)):\n",
    "    check_list[sol_list[i][1]][sol_list[i][0]] = '*'"
   ]
  },
  {
   "cell_type": "code",
   "execution_count": 89,
   "metadata": {},
   "outputs": [
    {
     "data": {
      "text/plain": [
       "['*.*', '*.*']"
      ]
     },
     "execution_count": 89,
     "metadata": {},
     "output_type": "execute_result"
    }
   ],
   "source": [
    "for i in range(len(check_list)):\n",
    "    answer.append(''.join(check_list[i]))\n",
    "answer"
   ]
  },
  {
   "cell_type": "code",
   "execution_count": 97,
   "metadata": {},
   "outputs": [],
   "source": [
    "def find_equations2(list1, list2):\n",
    "    a1, b1, c1, a2, b2, c2 = list1[0], list1[1], list1[2], list2[0], list2[1], list2[2]\n",
    "    if ((a1*b2) + (-b1*a2)) != 0:\n",
    "        x = ((-b2*c1) + (b1*c2)) / ((a1*b2) + (-b1*a2))\n",
    "        y = ((a2*c1) + (-a1*c2)) / ((a1*b2) + (-b1*a2))\n",
    "        if x % 1 == 0 and y % 1 == 0:\n",
    "            return [int(x), int(y)]\n",
    "    else:\n",
    "        pass"
   ]
  },
  {
   "cell_type": "code",
   "execution_count": 116,
   "metadata": {},
   "outputs": [
    {
     "data": {
      "text/plain": [
       "[[0, 4], [-4, -4], [4, -4], [4, 1], [-4, 1]]"
      ]
     },
     "execution_count": 116,
     "metadata": {},
     "output_type": "execute_result"
    }
   ],
   "source": [
    "line =[[2, -1, 4], [-2, -1, 4], [0, -1, 1], [5, -8, -12], [5, 8, 12]]\n",
    "\n",
    "sol_list2 = []\n",
    "n = 0\n",
    "for i in range(len(line)):\n",
    "    for k in range(n + 1, len(line)):\n",
    "        if find_equations2(line[i], line[k]) != None:\n",
    "            sol_list2.append(find_equations2(line[i], line[k]))\n",
    "    n += 1\n",
    "sol_list2"
   ]
  },
  {
   "cell_type": "code",
   "execution_count": 117,
   "metadata": {},
   "outputs": [
    {
     "data": {
      "text/plain": [
       "(9, 9)"
      ]
     },
     "execution_count": 117,
     "metadata": {},
     "output_type": "execute_result"
    }
   ],
   "source": [
    "r = max([sol_list2[i][1] for i in range(len(sol_list2))]) - min([sol_list2[i][1] for i in range(len(sol_list2))]) + 1\n",
    "c = max([sol_list2[i][0] for i in range(len(sol_list2))]) - min([sol_list2[i][0] for i in range(len(sol_list2))]) + 1\n",
    "r, c"
   ]
  },
  {
   "cell_type": "code",
   "execution_count": 118,
   "metadata": {},
   "outputs": [
    {
     "data": {
      "text/plain": [
       "([0, -4, 4, 4, -4], [4, -4, -4, 1, 1])"
      ]
     },
     "execution_count": 118,
     "metadata": {},
     "output_type": "execute_result"
    }
   ],
   "source": [
    "sol_list1 = sol_list2.copy()\n",
    "x_list2 = [sol_list2[i][0] for i in range(len(sol_list2))]\n",
    "y_list2 = [sol_list2[i][1] for i in range(len(sol_list2))]\n",
    "x_list2, y_list2"
   ]
  },
  {
   "cell_type": "code",
   "execution_count": 126,
   "metadata": {},
   "outputs": [
    {
     "data": {
      "text/plain": [
       "[[4, 0], [0, 8], [8, 8], [8, 3], [0, 3]]"
      ]
     },
     "execution_count": 126,
     "metadata": {},
     "output_type": "execute_result"
    }
   ],
   "source": [
    "sol_list3 = [[0, 0] for _ in range(len(sol_list2))]\n",
    "for i in range(len(sol_list2)):\n",
    "    sol_list3[i][0] = sol_list2[i][0] - min(x_list2)\n",
    "    sol_list3[i][1] = max(y_list2) - sol_list2[i][1] \n",
    "sol_list3"
   ]
  },
  {
   "cell_type": "code",
   "execution_count": 65,
   "metadata": {},
   "outputs": [
    {
     "data": {
      "text/plain": [
       "['....*....',\n",
       " '.........',\n",
       " '.........',\n",
       " '*.......*',\n",
       " '.........',\n",
       " '.........',\n",
       " '.........',\n",
       " '.........',\n",
       " '*.......*']"
      ]
     },
     "execution_count": 65,
     "metadata": {},
     "output_type": "execute_result"
    }
   ],
   "source": [
    "# line = [[0, 1, -1], [1, 0, -1], [1, 0, 1]]\n",
    "def find_equations(list1, list2):\n",
    "    for i in range(-500, 501):\n",
    "        for k in range(-500, 501):\n",
    "            if i == (-list1[1] * k - list1[2]) / list1[0] if list1[0] != 0 else k == (-list1[0] - list1[2]) / list1[1]:\n",
    "                if i == (-list2[1] * k - list2[2]) / list2[0] if list2[0] != 0 else k == (-list2[0] - list2[2]) / list2[1]:\n",
    "                    return [i, k]\n",
    "sol_list = []\n",
    "answer = []\n",
    "n = 0\n",
    "for i in range(len(line)):\n",
    "    for k in range(n + 1, len(line)):\n",
    "        if find_equations(line[i], line[k]) != None:\n",
    "            sol_list.append(find_equations(line[i], line[k]))\n",
    "    n += 1\n",
    "\n",
    "r = max([sol_list[i][1] for i in range(len(sol_list))]) - min([sol_list[i][1] for i in range(len(sol_list))]) + 1\n",
    "c = max([sol_list[i][0] for i in range(len(sol_list))]) - min([sol_list[i][0] for i in range(len(sol_list))]) + 1\n",
    "\n",
    "x_list = [sol_list[i][0] for i in range(len(sol_list))]\n",
    "y_list = [sol_list[i][1] for i in range(len(sol_list))]\n",
    "\n",
    "for i in range(len(sol_list)):\n",
    "    sol_list[i][0] += abs(min(x_list))\n",
    "    sol_list[i][1] -= abs(max(y_list))\n",
    "    sol_list[i][1] = abs(sol_list[i][1])\n",
    "\n",
    "check_list = [['.'] * c for _ in range(r)]\n",
    "for i in range(len(sol_list)):\n",
    "    check_list[sol_list[i][1]][sol_list[i][0]] = '*'\n",
    "\n",
    "for i in range(len(check_list)):\n",
    "    answer.append(''.join(check_list[i]))\n",
    "answer"
   ]
  },
  {
   "cell_type": "code",
   "execution_count": 127,
   "metadata": {},
   "outputs": [
    {
     "data": {
      "text/plain": [
       "['*.*']"
      ]
     },
     "execution_count": 127,
     "metadata": {},
     "output_type": "execute_result"
    }
   ],
   "source": [
    "line = [[0, 1, -1], [1, 0, -1], [1, 0, 1]]\n",
    "\n",
    "def find_equations2(list1, list2):\n",
    "    a1, b1, c1, a2, b2, c2 = list1[0], list1[1], list1[2], list2[0], list2[1], list2[2]\n",
    "    if ((a1*b2) + (-b1*a2)) != 0: # 해당식이 0이면 해가 무수히 많거나 없음.(문제조건에서 해가 일치하는 경우는 없다고 하였음.)\n",
    "        x = ((-b2*c1) + (b1*c2)) / ((a1*b2) + (-b1*a2))\n",
    "        y = ((a2*c1) + (-a1*c2)) / ((a1*b2) + (-b1*a2))\n",
    "        if x % 1 == 0 and y % 1 == 0:\n",
    "            return [int(x), int(y)]\n",
    "    else:\n",
    "        pass\n",
    "\n",
    "sol_list = []\n",
    "answer = []\n",
    "n = 0\n",
    "for i in range(len(line)):\n",
    "    for k in range(n + 1, len(line)):\n",
    "        if find_equations2(line[i], line[k]) != None:\n",
    "            sol_list.append(find_equations2(line[i], line[k]))\n",
    "    n += 1\n",
    "\n",
    "r = max([sol_list[i][1] for i in range(len(sol_list))]) - min([sol_list[i][1] for i in range(len(sol_list))]) + 1\n",
    "c = max([sol_list[i][0] for i in range(len(sol_list))]) - min([sol_list[i][0] for i in range(len(sol_list))]) + 1\n",
    "\n",
    "x_list = [sol_list[i][0] for i in range(len(sol_list))]\n",
    "y_list = [sol_list[i][1] for i in range(len(sol_list))]\n",
    "\n",
    "sol_list1 = [[0, 0] for _ in range(len(sol_list))]\n",
    "\n",
    "for i in range(len(sol_list)):\n",
    "    sol_list1[i][0] = sol_list[i][0] - min(x_list)\n",
    "    sol_list1[i][1] = max(y_list) - sol_list[i][1]\n",
    "\n",
    "check_list = [['.'] * c for _ in range(r)]\n",
    "for i in range(len(sol_list1)):\n",
    "    check_list[sol_list1[i][1]][sol_list1[i][0]] = '*'\n",
    "\n",
    "for i in range(len(check_list)):\n",
    "    answer.append(''.join(check_list[i]))\n",
    "answer"
   ]
  },
  {
   "cell_type": "code",
   "execution_count": 80,
   "metadata": {},
   "outputs": [
    {
     "data": {
      "text/plain": [
       "inf"
      ]
     },
     "execution_count": 80,
     "metadata": {},
     "output_type": "execute_result"
    }
   ],
   "source": []
  }
 ],
 "metadata": {
  "interpreter": {
   "hash": "fe3bab233825460445dbfeea6dcd52ef5815a3fa13c858fea07ac830aa383284"
  },
  "kernelspec": {
   "display_name": "Python 3.8.10 64-bit ('base': conda)",
   "name": "python3"
  },
  "language_info": {
   "codemirror_mode": {
    "name": "ipython",
    "version": 3
   },
   "file_extension": ".py",
   "mimetype": "text/x-python",
   "name": "python",
   "nbconvert_exporter": "python",
   "pygments_lexer": "ipython3",
   "version": "3.8.10"
  },
  "orig_nbformat": 4
 },
 "nbformat": 4,
 "nbformat_minor": 2
}
