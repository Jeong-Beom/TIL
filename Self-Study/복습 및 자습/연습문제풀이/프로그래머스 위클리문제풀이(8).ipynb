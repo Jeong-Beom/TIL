{
 "cells": [
  {
   "cell_type": "markdown",
   "metadata": {},
   "source": [
    "문제 설명\n",
    "Ax + By + C = 0으로 표현할 수 있는 n개의 직선이 주어질 때, 이 직선의 교점 중 정수 좌표에 별을 그리려 합니다.\n",
    "\n",
    "예를 들어, 다음과 같은 직선 5개를\n",
    "\n",
    "2x - y + 4 = 0\n",
    "-2x - y + 4 = 0\n",
    "-y + 1 = 0\n",
    "5x - 8y - 12 = 0\n",
    "5x + 8y + 12 = 0\n",
    "\n",
    "이때, 모든 교점의 좌표는 (4, 1), (4, -4), (-4, -4), (-4, 1), (0, 4), (1.5, 1.0), (2.1, -0.19), (0, -1.5), (-2.1, -0.19), (-1.5, 1.0)입니다. 이 중 정수로만 표현되는 좌표는 (4, 1), (4, -4), (-4, -4), (-4, 1), (0, 4)입니다.\n",
    "위의 그림을 문자열로 나타낼 때, 별이 그려진 부분은 *, 빈 공간(격자선이 교차하는 지점)은 .으로 표현하면 다음과 같습니다.\n",
    "이때 격자판은 무한히 넓으니 모든 별을 포함하는 최소한의 크기만 나타내면 됩니다.\n",
    "직선 A, B, C에 대한 정보가 담긴 배열 line이 매개변수로 주어집니다. 이때 모든 별을 포함하는 최소 사각형을 return 하도록 solution 함수를 완성해주세요.\n",
    "\n",
    "제한사항\n",
    "line의 세로(행) 길이는 2 이상 1,000 이하인 자연수입니다.\n",
    "line의 가로(열) 길이는 3입니다.\n",
    "line의 각 원소는 [A, B, C] 형태입니다.\n",
    "A, B, C는 -100,000 이상 100,000 이하인 정수입니다.\n",
    "무수히 많은 교점이 생기는 직선 쌍은 주어지지 않습니다.\n",
    "A = 0이면서 B = 0인 경우는 주어지지 않습니다.\n",
    "정답은 1,000 * 1,000 크기 이내에서 표현됩니다.\n",
    "별이 한 개 이상 그려지는 입력만 주어집니다."
   ]
  },
  {
   "cell_type": "code",
   "execution_count": 111,
   "metadata": {},
   "outputs": [],
   "source": [
    "# 연립방적식 해를 구하는 함수 만들기\n",
    "def find_equations(list1, list2):\n",
    "    for i in range(-500, 501):\n",
    "        for k in range(-500, 501):\n",
    "            if i == (-list1[1] * k - list1[2]) / list1[0] if list1[0] != 0 else k == (-list1[0] - list1[2]) / list1[1]:\n",
    "                if i == (-list2[1] * k - list2[2]) / list2[0] if list2[0] != 0 else k == (-list2[0] - list2[2]) / list2[1]:\n",
    "                    return [i, k]"
   ]
  },
  {
   "cell_type": "code",
   "execution_count": 89,
   "metadata": {},
   "outputs": [
    {
     "name": "stdout",
     "output_type": "stream",
     "text": [
      "0 4\n"
     ]
    }
   ],
   "source": [
    "# Ax + By + C = 0 -> x =   (-By - C) / A &  y = (-Ax - C) / B\n",
    "line = [[2, -1, 4], [-2, -1, 4], [0, -1, 1], [5, -8, -12], [5, 8, 12]]\n",
    "for i in range(1000):\n",
    "    for k in range(1000):\n",
    "            if i == (-line[0][1] * k - line[0][2]) / line[0][0]:\n",
    "                if i == (-line[1][1] * k - line[1][2]) / line[1][0]:\n",
    "                    print(i, k)"
   ]
  },
  {
   "cell_type": "code",
   "execution_count": 113,
   "metadata": {},
   "outputs": [
    {
     "data": {
      "text/plain": [
       "[[0, 4], [-4, -4], [4, -4], [4, 1], [-4, 1]]"
      ]
     },
     "execution_count": 113,
     "metadata": {},
     "output_type": "execute_result"
    }
   ],
   "source": [
    "line = [[2, -1, 4], [-2, -1, 4], [0, -1, 1], [5, -8, -12], [5, 8, 12]]\n",
    "sol_list = []\n",
    "n = 0\n",
    "for i in range(len(line)):\n",
    "    for k in range(n + 1, len(line)):\n",
    "        if find_equations(line[i], line[k]) != None:\n",
    "            sol_list.append(find_equations(line[i], line[k]))\n",
    "    n += 1\n",
    "sol_list"
   ]
  },
  {
   "cell_type": "code",
   "execution_count": 114,
   "metadata": {},
   "outputs": [
    {
     "data": {
      "text/plain": [
       "[0, 4]"
      ]
     },
     "execution_count": 114,
     "metadata": {},
     "output_type": "execute_result"
    }
   ],
   "source": [
    "sol_list[0]"
   ]
  }
 ],
 "metadata": {
  "interpreter": {
   "hash": "fe3bab233825460445dbfeea6dcd52ef5815a3fa13c858fea07ac830aa383284"
  },
  "kernelspec": {
   "display_name": "Python 3.8.10 64-bit ('base': conda)",
   "name": "python3"
  },
  "language_info": {
   "codemirror_mode": {
    "name": "ipython",
    "version": 3
   },
   "file_extension": ".py",
   "mimetype": "text/x-python",
   "name": "python",
   "nbconvert_exporter": "python",
   "pygments_lexer": "ipython3",
   "version": "3.8.10"
  },
  "orig_nbformat": 4
 },
 "nbformat": 4,
 "nbformat_minor": 2
}
