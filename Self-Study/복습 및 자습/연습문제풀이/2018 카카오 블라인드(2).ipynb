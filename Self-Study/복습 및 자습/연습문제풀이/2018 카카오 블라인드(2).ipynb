{
 "cells": [
  {
   "cell_type": "markdown",
   "source": [
    "카카오톡 게임별의 하반기 신규 서비스로 다트 게임을 출시하기로 했다. 다트 게임은 다트판에 다트를 세 차례 던져 그 점수의 합계로 실력을 겨루는 게임으로, 모두가 간단히 즐길 수 있다.\r\n",
    "갓 입사한 무지는 코딩 실력을 인정받아 게임의 핵심 부분인 점수 계산 로직을 맡게 되었다. 다트 게임의 점수 계산 로직은 아래와 같다.\r\n",
    "\r\n",
    "다트 게임은 총 3번의 기회로 구성된다.\r\n",
    "각 기회마다 얻을 수 있는 점수는 0점에서 10점까지이다.\r\n",
    "점수와 함께 Single(S), Double(D), Triple(T) 영역이 존재하고 각 영역 당첨 시 점수에서 1제곱, 2제곱, 3제곱 (점수1 , 점수2 , 점수3 )으로 계산된다.\r\n",
    "옵션으로 스타상(*) , 아차상(#)이 존재하며 스타상(*) 당첨 시 해당 점수와 바로 전에 얻은 점수를 각 2배로 만든다. 아차상(#) 당첨 시 해당 점수는 마이너스된다.\r\n",
    "스타상(*)은 첫 번째 기회에서도 나올 수 있다. 이 경우 첫 번째 스타상(*)의 점수만 2배가 된다. (예제 4번 참고)\r\n",
    "스타상(*)의 효과는 다른 스타상(*)의 효과와 중첩될 수 있다. 이 경우 중첩된 스타상(*) 점수는 4배가 된다. (예제 4번 참고)\r\n",
    "스타상(*)의 효과는 아차상(#)의 효과와 중첩될 수 있다. 이 경우 중첩된 아차상(#)의 점수는 -2배가 된다. (예제 5번 참고)\r\n",
    "Single(S), Double(D), Triple(T)은 점수마다 하나씩 존재한다.\r\n",
    "스타상(*), 아차상(#)은 점수마다 둘 중 하나만 존재할 수 있으며, 존재하지 않을 수도 있다.\r\n",
    "0~10의 정수와 문자 S, D, T, *, #로 구성된 문자열이 입력될 시 총점수를 반환하는 함수를 작성하라.\r\n",
    "\r\n",
    "입력 형식\r\n",
    "\"점수|보너스|[옵션]\"으로 이루어진 문자열 3세트.\r\n",
    "예) 1S2D*3T\r\n",
    "\r\n",
    "점수는 0에서 10 사이의 정수이다.\r\n",
    "보너스는 S, D, T 중 하나이다.\r\n",
    "옵선은 *이나 # 중 하나이며, 없을 수도 있다."
   ],
   "metadata": {}
  },
  {
   "cell_type": "code",
   "execution_count": 156,
   "source": [
    "# 기회 : 3회 / 0 ~ 10 / S, D, T / 옵션 : 아차상(해당 점수 마이너스), 스타상(현재 및 이전 점수 2배, 중첩가능)\r\n",
    "dartResult = '1S2D*3T'\r\n",
    "dart_list = []\r\n",
    "fir, sec, trd, n = 0, 0, 0, 1\r\n",
    "\r\n",
    "x = str()\r\n",
    "for i in range(len(dartResult)):\r\n",
    "    if dartResult[i] in ['S', 'D', 'T', '*', '#']:\r\n",
    "        if x != str():\r\n",
    "            dart_list.append(x)\r\n",
    "        dart_list.append(dartResult[i])\r\n",
    "        x = str()\r\n",
    "    else:\r\n",
    "        x += dartResult[i]\r\n",
    "\r\n",
    "for i in range(len(dart_list)):\r\n",
    "    if dart_list[i] in ['#', '*']:\r\n",
    "        if dart_list[i] == '*' and (n-1) == 1:\r\n",
    "            fir = fir * 2\r\n",
    "        elif dart_list[i] == '#' and (n-1) == 1:\r\n",
    "            fir = -fir\r\n",
    "        if dart_list[i] == '*' and (n-1) == 2:\r\n",
    "            fir, sec = fir * 2, sec * 2\r\n",
    "        elif dart_list[i] == '#' and (n-1) == 2:\r\n",
    "            sec = -sec\r\n",
    "        if dart_list[i] == '*' and (n-1) == 3:\r\n",
    "            sec, trd = sec * 2, trd * 2\r\n",
    "        elif dart_list[i] == '#' and (n-1) == 3:\r\n",
    "            trd = -trd\r\n",
    "    elif dart_list[i] in ['S', 'D', 'T']:\r\n",
    "        if n == 1:     \r\n",
    "            fir = fir ** 1 if dart_list[i] == 'S' else fir ** 2 if dart_list[i] == 'D' else fir ** 3 if dart_list[i] == 'T' else 0\r\n",
    "        elif n == 2:\r\n",
    "            sec = sec ** 1 if dart_list[i] == 'S' else sec ** 2 if dart_list[i] == 'D' else sec ** 3 if dart_list[i] == 'T' else 0\r\n",
    "        elif n == 3:\r\n",
    "            trd = trd ** 1 if dart_list[i] == 'S' else trd ** 2 if dart_list[i] == 'D' else trd ** 3 if dart_list[i] == 'T' else 0\r\n",
    "        n += 1\r\n",
    "    else:\r\n",
    "        if n == 1:\r\n",
    "            fir = int(dart_list[i])\r\n",
    "        elif n == 2:\r\n",
    "            sec = int(dart_list[i])\r\n",
    "        elif n == 3:\r\n",
    "            trd = int(dart_list[i])\r\n",
    "answer = fir + sec + trd\r\n",
    "answer"
   ],
   "outputs": [
    {
     "output_type": "execute_result",
     "data": {
      "text/plain": [
       "37"
      ]
     },
     "metadata": {},
     "execution_count": 156
    }
   ],
   "metadata": {}
  }
 ],
 "metadata": {
  "orig_nbformat": 4,
  "language_info": {
   "name": "python",
   "version": "3.8.10",
   "mimetype": "text/x-python",
   "codemirror_mode": {
    "name": "ipython",
    "version": 3
   },
   "pygments_lexer": "ipython3",
   "nbconvert_exporter": "python",
   "file_extension": ".py"
  },
  "kernelspec": {
   "name": "python3",
   "display_name": "Python 3.8.10 64-bit ('base': conda)"
  },
  "interpreter": {
   "hash": "fe3bab233825460445dbfeea6dcd52ef5815a3fa13c858fea07ac830aa383284"
  }
 },
 "nbformat": 4,
 "nbformat_minor": 2
}