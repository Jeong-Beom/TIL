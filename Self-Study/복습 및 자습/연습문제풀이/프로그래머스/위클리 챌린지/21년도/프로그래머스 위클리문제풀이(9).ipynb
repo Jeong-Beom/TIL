{
 "cells": [
  {
   "cell_type": "markdown",
   "metadata": {},
   "source": [
    "문제 설명\n",
    "XX게임에는 피로도 시스템(0 이상의 정수로 표현합니다)이 있으며, 일정 피로도를 사용해서 던전을 탐험할 수 있습니다. 이때, 각 던전마다 탐험을 시작하기 위해 필요한 \"최소 필요 피로도\"와 던전 탐험을 마쳤을 때 소모되는 \"소모 피로도\"가 있습니다. \"최소 필요 피로도\"는 해당 던전을 탐험하기 위해 가지고 있어야 하는 최소한의 피로도를 나타내며, \"소모 피로도\"는 던전을 탐험한 후 소모되는 피로도를 나타냅니다. 예를 들어 \"최소 필요 피로도\"가 80, \"소모 피로도\"가 20인 던전을 탐험하기 위해서는 유저의 현재 남은 피로도는 80 이상 이어야 하며, 던전을 탐험한 후에는 피로도 20이 소모됩니다.\n",
    "\n",
    "이 게임에는 하루에 한 번씩 탐험할 수 있는 던전이 여러개 있는데, 한 유저가 오늘 이 던전들을 최대한 많이 탐험하려 합니다. 유저의 현재 피로도 k와 각 던전별 \"최소 필요 피로도\", \"소모 피로도\"가 담긴 2차원 배열 dungeons 가 매개변수로 주어질 때, 유저가 탐험할수 있는 최대 던전 수를 return 하도록 solution 함수를 완성해주세요.\n",
    "\n",
    "제한사항\n",
    "k는 1 이상 5,000 이하인 자연수입니다.\n",
    "dungeons의 세로(행) 길이(즉, 던전의 개수)는 1 이상 8 이하입니다.\n",
    "dungeons의 가로(열) 길이는 2 입니다.\n",
    "dungeons의 각 행은 각 던전의 [\"최소 필요 피로도\", \"소모 피로도\"] 입니다.\n",
    "\"최소 필요 피로도\"는 항상 \"소모 피로도\"보다 크거나 같습니다.\n",
    "\"최소 필요 피로도\"와 \"소모 피로도\"는 1 이상 1,000 이하인 자연수입니다.\n",
    "서로 다른 던전의 [\"최소 필요 피로도\", \"소모 피로도\"]가 서로 같을 수 있습니다."
   ]
  },
  {
   "cell_type": "code",
   "execution_count": 130,
   "metadata": {},
   "outputs": [
    {
     "data": {
      "text/plain": [
       "3"
      ]
     },
     "execution_count": 130,
     "metadata": {},
     "output_type": "execute_result"
    }
   ],
   "source": [
    "k = 80\n",
    "dungeons = [[80,20], [50,40], [30,10]]\n",
    "from itertools import permutations\n",
    "permutation_list = []\n",
    "for i in permutations(dungeons, 3):\n",
    "    permutation_list.append(i)\n",
    "permutation_list[0][0][0]\n",
    "result_list = []\n",
    "for i in range(len(permutation_list)):\n",
    "    k = 80\n",
    "    result = 0\n",
    "    for t in range(len(dungeons)):\n",
    "        if k >= permutation_list[i][t][0] and k >= permutation_list[i][t][1]:\n",
    "            result += 1\n",
    "            k -= permutation_list[i][t][1]\n",
    "    result_list.append(result)\n",
    "max(result_list)"
   ]
  }
 ],
 "metadata": {
  "interpreter": {
   "hash": "fe3bab233825460445dbfeea6dcd52ef5815a3fa13c858fea07ac830aa383284"
  },
  "kernelspec": {
   "display_name": "Python 3.8.10 64-bit ('base': conda)",
   "name": "python3"
  },
  "language_info": {
   "codemirror_mode": {
    "name": "ipython",
    "version": 3
   },
   "file_extension": ".py",
   "mimetype": "text/x-python",
   "name": "python",
   "nbconvert_exporter": "python",
   "pygments_lexer": "ipython3",
   "version": "3.8.10"
  },
  "orig_nbformat": 4
 },
 "nbformat": 4,
 "nbformat_minor": 2
}
