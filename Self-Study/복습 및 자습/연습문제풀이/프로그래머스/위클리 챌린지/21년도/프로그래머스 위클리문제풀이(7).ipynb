{
 "cells": [
  {
   "cell_type": "markdown",
   "metadata": {},
   "source": [
    "n개의 송전탑이 전선을 통해 하나의 트리 형태로 연결되어 있습니다. 당신은 이 전선들 중 하나를 끊어서 현재의 전력망 네트워크를 2개로 분할하려고 합니다. 이때, 두 전력망이 갖게 되는 송전탑의 개수를 최대한 비슷하게 맞추고자 합니다.\n",
    "\n",
    "송전탑의 개수 n, 그리고 전선 정보 wires가 매개변수로 주어집니다. 전선들 중 하나를 끊어서 송전탑 개수가 가능한 비슷하도록 두 전력망으로 나누었을 때, 두 전력망이 가지고 있는 송전탑 개수의 차이(절대값)를 return 하도록 solution 함수를 완성해주세요.\n",
    "\n",
    "제한사항\n",
    "n은 2 이상 100 이하인 자연수입니다.\n",
    "wires는 길이가 n-1인 정수형 2차원 배열입니다.\n",
    "wires의 각 원소는 [v1, v2] 2개의 자연수로 이루어져 있으며, 이는 전력망의 v1번 송전탑과 v2번 송전탑이 전선으로 연결되어 있다는 것을 의미합니다.\n",
    "1 ≤ v1 < v2 ≤ n 입니다.\n",
    "전력망 네트워크가 하나의 트리 형태가 아닌 경우는 입력으로 주어지지 않습니다."
   ]
  },
  {
   "cell_type": "code",
   "execution_count": 81,
   "metadata": {},
   "outputs": [
    {
     "data": {
      "text/plain": [
       "<__main__.TreeNode at 0x1f7102bfb80>"
      ]
     },
     "execution_count": 81,
     "metadata": {},
     "output_type": "execute_result"
    }
   ],
   "source": [
    "n = 9\n",
    "wires = [[1,3],[2,3],[3,4],[4,5],[4,6],[4,7],[7,8],[7,9]]\n",
    "\n",
    "class TreeNode():\n",
    "    def __init__(self):\n",
    "        self.data = None\n",
    "        for i in range(1, n):\n",
    "            self.i = None\n",
    "\n",
    "node_list = [TreeNode() for _ in range(n)]\n",
    "\n",
    "node_list[0]\n",
    "# for i in range(n-1):\n",
    "#     node_list[i].data = i + 1\n",
    "#     if node_list[min(wires[i])-1]. == None:\n",
    "#         node_list[min(wires[i])-1].left = node_list[max(wires[i])-1]\n",
    "#         node_list[max(wires[i])-1].upper = node_list[min(wires[i])-1]\n",
    "#     else:\n",
    "#         node_list[min(wires[i])-1].right = node_list[max(wires[i])-1]\n",
    "#         node_list[max(wires[i])-1].upper = node_list[min(wires[i])-1]\n",
    "\n",
    "# for i in range(n):\n",
    "#     k = 0\n",
    "#     if node_list[i].upper != None:\n",
    "#         k += 1\n",
    "#     if node_list[i].left != None:\n",
    "#         k += 1\n",
    "#     if node_list[i].right != None:\n",
    "#         k += 1\n",
    "#     print(f'{i+1}번째 송전탑이 연결된 상태 : {k}')\n"
   ]
  },
  {
   "cell_type": "code",
   "execution_count": 141,
   "metadata": {},
   "outputs": [
    {
     "data": {
      "text/plain": [
       "{0: [2],\n",
       " 1: [2],\n",
       " 2: [0, 1, 3],\n",
       " 3: [2, 4, 5, 6],\n",
       " 4: [3],\n",
       " 5: [3],\n",
       " 6: [3, 7, 8],\n",
       " 7: [6],\n",
       " 8: [6]}"
      ]
     },
     "execution_count": 141,
     "metadata": {},
     "output_type": "execute_result"
    }
   ],
   "source": [
    "from collections import deque\n",
    "n = 9\n",
    "wires = [[1,3],[2,3],[3,4],[4,5],[4,6],[4,7],[7,8],[7,9]]\n",
    "ary = deque([[0 for _ in range(n-1)] for _ in range(n)])\n",
    "test_wires = wires[:]\n",
    "# min(wires[i]) - 1\n",
    "\n",
    "del test_wires[0]\n",
    "# for i in range(n-2):\n",
    "#     ary[max(wires[i]) - 1][min(wires[i]) - 1], ary[min(wires[i]) - 1][max(wires[i]) - 1]   = 1, 1\n",
    "for i in range(len(wires)):\n",
    "    wires[i][0] = wires[i][0] - 1\n",
    "    wires[i][1] = wires[i][1] - 1\n",
    "wires\n",
    "graph_list = [[] for _ in range(n)]\n",
    "for i in range(n-1):\n",
    "    graph_list[min(wires[i])].append(max(wires[i]))\n",
    "    graph_list[max(wires[i])].append(min(wires[i]))\n",
    "\n",
    "dict(zip([i for i in range(n)], graph_list))\n",
    "# graph_list\n",
    "\n",
    "# def dfs(graph, v, visited):\n",
    "#     visited[v] = True\n",
    "#     print(v, graph_list[v], sep = ' : ', end='  ')\n",
    "    \n",
    "#     for i in graph[v]:\n",
    "#         if not visited[i]:\n",
    "#             dfs(graph, i, visited)\n",
    "\n",
    "# visited = [False] * len(graph_list)\n",
    "# # dfs(graph_list, 0, visited)\n"
   ]
  },
  {
   "cell_type": "code",
   "execution_count": 196,
   "metadata": {},
   "outputs": [
    {
     "data": {
      "text/plain": [
       "0"
      ]
     },
     "execution_count": 196,
     "metadata": {},
     "output_type": "execute_result"
    }
   ],
   "source": [
    "n = 4\n",
    "wires = [[1,2],[2,3],[3,4]]\n",
    "ary = deque([[0 for _ in range(n-1)] for _ in range(n)])\n",
    "\n",
    "for i in range(len(wires)):\n",
    "    wires[i][0] = wires[i][0] - 1\n",
    "    wires[i][1] = wires[i][1] - 1\n",
    "test_wires = wires[:]\n",
    "answer_list = []\n",
    "for num in range(len(test_wires)):\n",
    "    test_wires = wires[:]\n",
    "    del test_wires[num]\n",
    "\n",
    "    graph_list = [[] for _ in range(len(wires)+1)]\n",
    "    for i in range(len(test_wires)):\n",
    "        graph_list[min(test_wires[i])].append(max(test_wires[i]))\n",
    "        graph_list[max(test_wires[i])].append(min(test_wires[i]))\n",
    "\n",
    "    dict(zip([i for i in range(n)], graph_list))\n",
    "\n",
    "    def dfs(graph, v, visited):\n",
    "        visited[v] = True\n",
    "        # print(v, graph_list[v], sep = ' : ', end='  ')\n",
    "        for i in graph[v]:\n",
    "            if not visited[i]:\n",
    "                dfs(graph, i, visited)\n",
    "    check_list = []\n",
    "\n",
    "    for k in range(len(graph_list)):\n",
    "        visited = [False] * len(graph_list)\n",
    "        dfs(graph_list, k, visited)\n",
    "        check_list.append(visited.count(True))\n",
    "\n",
    "    answer_list.append(max(set(check_list)) - min(set(check_list)))\n",
    "    # print(f'송전탑{num+1}에서 전선을 끊었을 때 연결된 송전탑 수 : {set(check_list)} / answer : {max(set(check_list)) - min(set(check_list))}')\n",
    "min(answer_list)"
   ]
  },
  {
   "cell_type": "code",
   "execution_count": 197,
   "metadata": {},
   "outputs": [],
   "source": [
    "def solution(n, wires):\n",
    "    for i in range(len(wires)):\n",
    "        wires[i][0] = wires[i][0] - 1\n",
    "        wires[i][1] = wires[i][1] - 1\n",
    "    test_wires = wires[:]\n",
    "    answer_list = []\n",
    "    for num in range(len(test_wires)):\n",
    "        test_wires = wires[:]\n",
    "        del test_wires[num]\n",
    "\n",
    "        graph_list = [[] for _ in range(len(wires)+1)]\n",
    "        for i in range(len(test_wires)):\n",
    "            graph_list[min(test_wires[i])].append(max(test_wires[i]))\n",
    "            graph_list[max(test_wires[i])].append(min(test_wires[i]))\n",
    "\n",
    "        dict(zip([i for i in range(n)], graph_list))\n",
    "\n",
    "        def dfs(graph, v, visited):\n",
    "            visited[v] = True\n",
    "            for i in graph[v]:\n",
    "                if not visited[i]:\n",
    "                    dfs(graph, i, visited)\n",
    "        check_list = []\n",
    "\n",
    "        for k in range(len(graph_list)):\n",
    "            visited = [False] * len(graph_list)\n",
    "            dfs(graph_list, k, visited)\n",
    "            check_list.append(visited.count(True))\n",
    "\n",
    "        answer_list.append(max(set(check_list)) - min(set(check_list)))\n",
    "    answer = min(answer_list)\n",
    "    return answer"
   ]
  },
  {
   "cell_type": "code",
   "execution_count": null,
   "metadata": {},
   "outputs": [],
   "source": []
  }
 ],
 "metadata": {
  "interpreter": {
   "hash": "fe3bab233825460445dbfeea6dcd52ef5815a3fa13c858fea07ac830aa383284"
  },
  "kernelspec": {
   "display_name": "Python 3.8.10 64-bit ('base': conda)",
   "name": "python3"
  },
  "language_info": {
   "codemirror_mode": {
    "name": "ipython",
    "version": 3
   },
   "file_extension": ".py",
   "mimetype": "text/x-python",
   "name": "python",
   "nbconvert_exporter": "python",
   "pygments_lexer": "ipython3",
   "version": "3.8.10"
  },
  "orig_nbformat": 4
 },
 "nbformat": 4,
 "nbformat_minor": 2
}
