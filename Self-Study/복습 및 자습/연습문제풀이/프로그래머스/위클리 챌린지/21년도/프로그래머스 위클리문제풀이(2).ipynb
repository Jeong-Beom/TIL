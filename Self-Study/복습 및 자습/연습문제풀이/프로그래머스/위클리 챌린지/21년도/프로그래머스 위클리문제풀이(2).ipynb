{
 "cells": [
  {
   "cell_type": "markdown",
   "source": [
    "개발자가 사용하는 언어와 언어 선호도를 입력하면 그에 맞는 직업군을 추천해주는 알고리즘을 개발하려고 합니다.\r\n",
    "예를 들면, SQL의 SI 직업군 언어 점수는 3점이지만 CONTENTS 직업군 언어 점수는 2점입니다. SQL의 HARDWARE, PORTAL, GAME 직업군 언어 점수는 0점입니다.\r\n",
    "\r\n",
    "직업군 언어 점수를 정리한 문자열 배열 table, 개발자가 사용하는 언어를 담은 문자열 배열 languages, 언어 선호도를 담은 정수 배열 preference가 매개변수로 주어집니다. 개발자가 사용하는 언어의 언어 선호도 x 직업군 언어 점수의 총합이 가장 높은 직업군을 return 하도록 solution 함수를 완성해주세요. 총합이 같은 직업군이 여러 개일 경우, 이름이 사전 순으로 가장 빠른 직업군을 return 해주세요.\r\n",
    "\r\n",
    "제한사항\r\n",
    "table의 길이 = 5\r\n",
    "table의 원소는 \"직업군 5점언어 4점언어 3점언어 2점언어 1점언어\"형식의 문자열입니다. 직업군, 5점언어, 4언어, 3점언어, 2점언어, 1점언어는 하나의 공백으로 구분되어 있습니다.\r\n",
    "table은 모든 테스트케이스에서 동일합니다.\r\n",
    "1 ≤ languages의 길이 ≤ 9\r\n",
    "languages의 원소는 \"JAVA\", \"JAVASCRIPT\", \"C\", \"C++\" ,\"C#\" , \"SQL\", \"PYTHON\", \"KOTLIN\", \"PHP\" 중 한 개 이상으로 이루어져 있습니다.\r\n",
    "languages의 원소는 중복되지 않습니다.\r\n",
    "preference의 길이 = languages의 길이\r\n",
    "1 ≤ preference의 원소 ≤ 10\r\n",
    "preference의 i번째 원소는 languages의 i번째 원소의 언어 선호도입니다.\r\n",
    "return 할 문자열은 \"SI\", \"CONTENTS\", \"HARDWARE\", \"PORTAL\", \"GAME\" 중 하나입니다."
   ],
   "metadata": {}
  },
  {
   "cell_type": "code",
   "execution_count": null,
   "source": [
    "def solution(table, languages, preference):\r\n",
    "    def cal_preference(op_name):\r\n",
    "        total_score = 0    \r\n",
    "        for i in range(len(language)):\r\n",
    "            score = 0\r\n",
    "            try:\r\n",
    "                score = table_dict[op_name][language[i]] * preferences[i]\r\n",
    "                total_score += score\r\n",
    "            except:\r\n",
    "                total_score += score\r\n",
    "        preferences_dict[op_name] = total_score\r\n",
    "        return total_score\r\n",
    "    \r\n",
    "    table = [i.split() for i in table]\r\n",
    "    list1 = [table[x][0] for x in range(len(table))]\r\n",
    "    list2 = [[table[x][y] for y in range(1, len(table[1]))] for x in range(len(table))]\r\n",
    "    list3 = [5, 4, 3, 2, 1]\r\n",
    "    table_dict = dict(zip(list1, [dict(zip(list2[i], list3)) for i in range(len(table))]))\r\n",
    "    score_list = []\r\n",
    "    preferences_dict = {}    \r\n",
    "    [cal_preference(op_name) for op_name in list1] \r\n",
    "    answer = max(preferences_dict, key = preferences_dict.get)\r\n",
    "    return answer"
   ],
   "outputs": [],
   "metadata": {}
  },
  {
   "cell_type": "code",
   "execution_count": 203,
   "source": [
    "table = [\"SI JAVA JAVASCRIPT SQL PYTHON C#\", \r\n",
    "         \"CONTENTS JAVASCRIPT JAVA PYTHON SQL C++\", \r\n",
    "         \"HARDWARE C C++ PYTHON JAVA JAVASCRIPT\", \r\n",
    "         \"PORTAL JAVA JAVASCRIPT PYTHON KOTLIN PHP\", \r\n",
    "         \"GAME C++ C# JAVASCRIPT C JAVA\"]\r\n",
    "# language = [\"PYTHON\", \"C++\", \"SQL\"]; preferences = [7, 5, 5]\r\n",
    "language = [\"JAVA\", \"JAVASCRIPT\"]; preferences = [7, 5]\r\n",
    "table = [i.split() for i in table]\r\n",
    "list1 = [table[x][0] for x in range(len(table))]\r\n",
    "list2 = [[table[x][y] for y in range(1, len(table[1]))] for x in range(len(table))]\r\n",
    "list3 = [5, 4, 3, 2, 1]\r\n",
    "table_dict = dict(zip(list1, [dict(zip(list2[i], list3)) for i in range(len(table))]))\r\n",
    "score_list = []\r\n",
    "preferences_dict = {}\r\n",
    "def cal_preference(op_name):\r\n",
    "    total_score = 0    \r\n",
    "    for i in range(len(language)):\r\n",
    "        score = 0\r\n",
    "        try:\r\n",
    "            score = table_dict[op_name][language[i]] * preferences[i]\r\n",
    "            total_score += score\r\n",
    "        except:\r\n",
    "            total_score += score\r\n",
    "    preferences_dict[op_name] = total_score\r\n",
    "    return total_score\r\n",
    "[cal_preference(op_name) for op_name in list1] \r\n",
    "sorted([k for k,v in preferences_dict.items() if max(preferences_dict.values()) == v])[0]"
   ],
   "outputs": [
    {
     "output_type": "execute_result",
     "data": {
      "text/plain": [
       "'PORTAL'"
      ]
     },
     "metadata": {},
     "execution_count": 203
    }
   ],
   "metadata": {}
  },
  {
   "cell_type": "markdown",
   "source": [
    "사전에 알파벳 모음 'A', 'E', 'I', 'O', 'U'만을 사용하여 만들 수 있는, 길이 5 이하의 모든 단어가 수록되어 있습니다. 사전에서 첫 번째 단어는 \"A\"이고, 그다음은 \"AA\"이며, 마지막 단어는 \"UUUUU\"입니다.\r\n",
    "\r\n",
    "단어 하나 word가 매개변수로 주어질 때, 이 단어가 사전에서 몇 번째 단어인지 return 하도록 solution 함수를 완성해주세요.\r\n",
    "\r\n",
    "제한사항\r\n",
    "word의 길이는 1 이상 5 이하입니다.\r\n",
    "word는 알파벳 대문자 'A', 'E', 'I', 'O', 'U'로만 이루어져 있습니다.\r\n",
    "입출력 예\r\n",
    "word\tresult\r\n",
    "\"AAAAE\"\t6\r\n",
    "\"AAAE\"\t10\r\n",
    "\"I\"\t1563\r\n",
    "\"EIO\"\t1189\r\n",
    "입출력 예 설명\r\n",
    "입출력 예 #1\r\n",
    "\r\n",
    "사전에서 첫 번째 단어는 \"A\"이고, 그다음은 \"AA\", \"AAA\", \"AAAA\", \"AAAAA\", \"AAAAE\", ... 와 같습니다. \"AAAAE\"는 사전에서 6번째 단어입니다.\r\n",
    "\r\n",
    "입출력 예 #2\r\n",
    "\r\n",
    "\"AAAE\"는 \"A\", \"AA\", \"AAA\", \"AAAA\", \"AAAAA\", \"AAAAE\", \"AAAAI\", \"AAAAO\", \"AAAAU\"의 다음인 10번째 단어입니다.\r\n",
    "\r\n",
    "입출력 예 #3\r\n",
    "\r\n",
    "\"I\"는 1563번째 단어입니다.\r\n",
    "\r\n",
    "입출력 예 #4\r\n",
    "\r\n",
    "\"EIO\"는 1189번째 단어입니다."
   ],
   "metadata": {}
  },
  {
   "cell_type": "code",
   "execution_count": 204,
   "source": [
    "def solution(word):\r\n",
    "    answer = 0\r\n",
    "    return answer"
   ],
   "outputs": [],
   "metadata": {}
  },
  {
   "cell_type": "code",
   "execution_count": 73,
   "source": [
    "list = [x for x in 'AEIOU']\r\n",
    "list\r\n",
    "table = ['0' for _ in range(5)]\r\n",
    "dict(zip(list, [str(i) for i in range(1,6)]))\r\n",
    "# 10000 11000 11100 11110 11111 11112 11113 11114 11115 11120 11121\r\n",
    "# A0000 AA000 AAA00 AAAA0 AAAAA AAAAE AAAAI AAAAO AAAAU AAAE0 AAAEA"
   ],
   "outputs": [
    {
     "output_type": "execute_result",
     "data": {
      "text/plain": [
       "{'A': '1', 'E': '2', 'I': '3', 'O': '4', 'U': '5'}"
      ]
     },
     "metadata": {},
     "execution_count": 73
    }
   ],
   "metadata": {}
  },
  {
   "cell_type": "code",
   "execution_count": 77,
   "source": [
    "table[1:] = ['1' for _ in range(4)]\r\n",
    "table"
   ],
   "outputs": [
    {
     "output_type": "execute_result",
     "data": {
      "text/plain": [
       "['0', '1', '1', '1', '1']"
      ]
     },
     "metadata": {},
     "execution_count": 77
    }
   ],
   "metadata": {}
  },
  {
   "cell_type": "code",
   "execution_count": 153,
   "source": [
    "value_list = []\r\n",
    "for i in range(1, 6):\r\n",
    "    table = ['0' for _ in range(5)]\r\n",
    "    table[0] = str(i); x1, x2, x3, x4, x5 = table \r\n",
    "    value = x1 + x2 + x3 + x4 + x5; value_list.append(value)\r\n",
    "    for k in range(1, 6):\r\n",
    "        table[1:] = ['0' for _ in range(4)]\r\n",
    "        table[1] = str(k); x1, x2, x3, x4, x5 = table\r\n",
    "        value = x1 + x2 + x3 + x4 + x5; value_list.append(value)\r\n",
    "        for t in range(1, 6):\r\n",
    "            table[2:] = ['0' for _ in range(3)]\r\n",
    "            table[2] = str(t); x1, x2, x3, x4, x5 = table\r\n",
    "            value = x1 + x2 + x3 + x4 + x5; value_list.append(value)\r\n",
    "            for a in range(1, 6):\r\n",
    "                table[3:] = ['0' for _ in range(2)]\r\n",
    "                table[3] = str(a); x1, x2, x3, x4, x5 = table\r\n",
    "                value = x1 + x2 + x3 + x4 + x5; value_list.append(value)\r\n",
    "                for b in range(1, 6):\r\n",
    "                    table[4] = '0'\r\n",
    "                    table[4] = str(b); x1, x2, x3, x4, x5 = table\r\n",
    "                    value = x1 + x2 + x3 + x4 + x5; value_list.append(value)\r\n",
    "                    \r\n",
    "for i in range(len(value_list)):\r\n",
    "    value_list[i] = int(value_list[i])\r\n",
    "value_list = sorted(value_list)\r\n",
    "value_list[5]"
   ],
   "outputs": [
    {
     "output_type": "execute_result",
     "data": {
      "text/plain": [
       "11112"
      ]
     },
     "metadata": {},
     "execution_count": 153
    }
   ],
   "metadata": {}
  },
  {
   "cell_type": "code",
   "execution_count": 156,
   "source": [
    "word = \"EIO\"\r\n",
    "answer_list = [word[i] for i in range(len(word))]\r\n",
    "def word_key(value):\r\n",
    "    key = '1' if value == 'A' else '2' if value == 'E' else '3' if value == 'I' else '4' if value == 'O' else '5' \r\n",
    "    return key\r\n",
    "for i in range(len(word)):\r\n",
    "    answer_list[i] = word_key(answer_list[i])\r\n",
    "raw_answer = answer_list[0]\r\n",
    "for k in range(1, len(answer_list)):\r\n",
    "    raw_answer += answer_list[k]\r\n",
    "while True:\r\n",
    "    if len(raw_answer) < 5:\r\n",
    "        raw_answer += '0'\r\n",
    "    elif len(raw_answer) >= 5:\r\n",
    "        break\r\n",
    "\r\n",
    "answer = value_list.index(int(raw_answer)) + 1\r\n",
    "answer"
   ],
   "outputs": [
    {
     "output_type": "execute_result",
     "data": {
      "text/plain": [
       "1189"
      ]
     },
     "metadata": {},
     "execution_count": 156
    }
   ],
   "metadata": {}
  },
  {
   "cell_type": "code",
   "execution_count": 161,
   "source": [
    "word = \"EIO\"\r\n",
    "def solution(word):   \r\n",
    "    value_list = []\r\n",
    "    for i in range(1, 6):\r\n",
    "        table = ['0' for _ in range(5)]\r\n",
    "        table[0] = str(i); x1, x2, x3, x4, x5 = table \r\n",
    "        value = x1 + x2 + x3 + x4 + x5; value_list.append(value)\r\n",
    "        for k in range(1, 6):\r\n",
    "            table[1:] = ['0' for _ in range(4)]\r\n",
    "            table[1] = str(k); x1, x2, x3, x4, x5 = table\r\n",
    "            value = x1 + x2 + x3 + x4 + x5; value_list.append(value)\r\n",
    "            for t in range(1, 6):\r\n",
    "                table[2:] = ['0' for _ in range(3)]\r\n",
    "                table[2] = str(t); x1, x2, x3, x4, x5 = table\r\n",
    "                value = x1 + x2 + x3 + x4 + x5; value_list.append(value)\r\n",
    "                for a in range(1, 6):\r\n",
    "                    table[3:] = ['0' for _ in range(2)]\r\n",
    "                    table[3] = str(a); x1, x2, x3, x4, x5 = table\r\n",
    "                    value = x1 + x2 + x3 + x4 + x5; value_list.append(value)\r\n",
    "                    for b in range(1, 6):\r\n",
    "                        table[4] = '0'\r\n",
    "                        table[4] = str(b); x1, x2, x3, x4, x5 = table\r\n",
    "                        value = x1 + x2 + x3 + x4 + x5; value_list.append(value)\r\n",
    "\r\n",
    "    for i in range(len(value_list)):\r\n",
    "        value_list[i] = int(value_list[i])\r\n",
    "    value_list = sorted(value_list)\r\n",
    "        \r\n",
    "    answer_list = [word[i] for i in range(len(word))]\r\n",
    "    \r\n",
    "    def word_key(value):\r\n",
    "        key = '1' if value == 'A' else '2' if value == 'E' else '3' if value == 'I' \\\r\n",
    "              else '4' if value == 'O' else '5' \r\n",
    "        return key\r\n",
    "    \r\n",
    "    for i in range(len(word)):\r\n",
    "        answer_list[i] = word_key(answer_list[i])\r\n",
    "        \r\n",
    "    raw_answer = answer_list[0]\r\n",
    "    \r\n",
    "    for k in range(1, len(answer_list)):\r\n",
    "        raw_answer += answer_list[k]\r\n",
    "        \r\n",
    "    while True:\r\n",
    "        if len(raw_answer) < 5:\r\n",
    "            raw_answer += '0'\r\n",
    "        elif len(raw_answer) >= 5:\r\n",
    "            break\r\n",
    "            \r\n",
    "    answer = value_list.index(int(raw_answer)) + 1\r\n",
    "    answer\r\n",
    "    return answer\r\n",
    "solution(word)"
   ],
   "outputs": [
    {
     "output_type": "execute_result",
     "data": {
      "text/plain": [
       "1189"
      ]
     },
     "metadata": {},
     "execution_count": 161
    }
   ],
   "metadata": {}
  }
 ],
 "metadata": {
  "orig_nbformat": 4,
  "language_info": {
   "name": "python",
   "version": "3.8.10",
   "mimetype": "text/x-python",
   "codemirror_mode": {
    "name": "ipython",
    "version": 3
   },
   "pygments_lexer": "ipython3",
   "nbconvert_exporter": "python",
   "file_extension": ".py"
  },
  "kernelspec": {
   "name": "python3",
   "display_name": "Python 3.8.10 64-bit ('base': conda)"
  },
  "interpreter": {
   "hash": "fe3bab233825460445dbfeea6dcd52ef5815a3fa13c858fea07ac830aa383284"
  }
 },
 "nbformat": 4,
 "nbformat_minor": 2
}