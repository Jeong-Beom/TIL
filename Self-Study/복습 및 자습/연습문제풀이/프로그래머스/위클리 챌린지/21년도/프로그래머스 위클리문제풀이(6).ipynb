{
 "cells": [
  {
   "cell_type": "markdown",
   "source": [
    "문제 설명\r\n",
    "명함 지갑을 만드는 회사에서 지갑의 크기를 정하려고 합니다. 다양한 모양과 크기의 명함들을 모두 수납할 수 있으면서, 작아서 들고 다니기 편한 지갑을 만들어야 합니다. 이러한 요건을 만족하는 지갑을 만들기 위해 디자인팀은 모든 명함의 가로 길이와 세로 길이를 조사했습니다.\r\n",
    "\r\n",
    "아래 표는 4가지 명함의 가로 길이와 세로 길이를 나타냅니다.\r\n",
    "\r\n",
    "명함 번호\t가로 길이\t세로 길이\r\n",
    "1\t60\t50\r\n",
    "2\t30\t70\r\n",
    "3\t60\t30\r\n",
    "4\t80\t40\r\n",
    "가장 긴 가로 길이와 세로 길이가 각각 80, 70이기 때문에 80(가로) x 70(세로) 크기의 지갑을 만들면 모든 명함들을 수납할 수 있습니다. 하지만 2번 명함을 가로로 눕혀 수납한다면 80(가로) x 50(세로) 크기의 지갑으로 모든 명함들을 수납할 수 있습니다. 이때의 지갑 크기는 4000(=80 x 50)입니다.\r\n",
    "\r\n",
    "모든 명함의 가로 길이와 세로 길이를 나타내는 2차원 배열 sizes가 매개변수로 주어집니다. 모든 명함을 수납할 수 있는 가장 작은 지갑을 만들 때, 지갑의 크기를 return 하도록 solution 함수를 완성해주세요.\r\n",
    "\r\n",
    "제한사항\r\n",
    "sizes의 길이는 1 이상 10,000 이하입니다.\r\n",
    "sizes의 원소는 [w, h] 형식입니다.\r\n",
    "w는 명함의 가로 길이를 나타냅니다.\r\n",
    "h는 명함의 세로 길이를 나타냅니다.\r\n",
    "w와 h는 1 이상 1,000 이하인 자연수입니다.\r\n"
   ],
   "metadata": {}
  },
  {
   "cell_type": "code",
   "execution_count": 1,
   "source": [
    "def solution(sizes):\r\n",
    "    answer = 0\r\n",
    "    return answer"
   ],
   "outputs": [],
   "metadata": {}
  },
  {
   "cell_type": "code",
   "execution_count": 25,
   "source": [
    "sizes = [[14, 4], [19, 6], [6, 16], [18, 7], [7, 11]] # w,h\r\n",
    "\r\n",
    "answer = max([max(sizes[i]) for i in range(len(sizes))]) * max([min(sizes[i]) for i in range(len(sizes))])"
   ],
   "outputs": [
    {
     "output_type": "execute_result",
     "data": {
      "text/plain": [
       "133"
      ]
     },
     "metadata": {},
     "execution_count": 25
    }
   ],
   "metadata": {}
  }
 ],
 "metadata": {
  "orig_nbformat": 4,
  "language_info": {
   "name": "python",
   "version": "3.8.10",
   "mimetype": "text/x-python",
   "codemirror_mode": {
    "name": "ipython",
    "version": 3
   },
   "pygments_lexer": "ipython3",
   "nbconvert_exporter": "python",
   "file_extension": ".py"
  },
  "kernelspec": {
   "name": "python3",
   "display_name": "Python 3.8.10 64-bit ('base': conda)"
  },
  "interpreter": {
   "hash": "fe3bab233825460445dbfeea6dcd52ef5815a3fa13c858fea07ac830aa383284"
  }
 },
 "nbformat": 4,
 "nbformat_minor": 2
}