{
 "cells": [
  {
   "cell_type": "code",
   "execution_count": 57,
   "metadata": {},
   "outputs": [
    {
     "data": {
      "text/plain": [
       "['#####', '# # #', '### #', '#  ##', '#####']"
      ]
     },
     "execution_count": 57,
     "metadata": {},
     "output_type": "execute_result"
    }
   ],
   "source": [
    "n = 5\n",
    "arr1 = [9, 20, 28, 18, 11]\n",
    "arr2 = [30, 1, 21, 17, 28]\n",
    "for i in range(n):\n",
    "    arr1[i] = format(arr1[i], 'b')\n",
    "    arr2[i] = format(arr2[i], 'b')\n",
    "map = ['' for _ in range(n)]\n",
    "for index, arr1_value in enumerate(arr1):\n",
    "    if len(arr1_value) < 5:\n",
    "        arr1[index] = ('0'*(5-len(arr1_value))) + arr1_value\n",
    "for index, arr2_value in enumerate(arr2):\n",
    "    if len(arr2_value) < 5:\n",
    "        arr2[index] = ('0'*(5-len(arr2_value))) + arr2_value\n",
    "for i in range(n):\n",
    "    for k in range(n):\n",
    "        if arr1[i][k] == '0' and arr2[i][k] == '0':\n",
    "            map[i] = map[i] + ' '\n",
    "        else:  \n",
    "            map[i] = map[i] + '#'\n",
    "map"
   ]
  },
  {
   "cell_type": "code",
   "execution_count": 58,
   "metadata": {},
   "outputs": [],
   "source": [
    "def solution(n, arr1, arr2):\n",
    "    answer = ['' for _ in range(n)]\n",
    "    for i in range(n):\n",
    "        arr1[i] = format(arr1[i], 'b')\n",
    "        arr2[i] = format(arr2[i], 'b')\n",
    "    for index, arr1_value in enumerate(arr1):\n",
    "        if len(arr1_value) < n:\n",
    "            arr1[index] = ('0'*(n-len(arr1_value))) + arr1_value\n",
    "    for index, arr2_value in enumerate(arr2):\n",
    "        if len(arr2_value) < n:\n",
    "            arr2[index] = ('0'*(n-len(arr2_value))) + arr2_value\n",
    "    for i in range(n):\n",
    "        for k in range(n):\n",
    "            if arr1[i][k] == '0' and arr2[i][k] == '0':\n",
    "                answer[i] = answer[i] + ' '\n",
    "            else:  \n",
    "                answer[i] = answer[i] + '#'\n",
    "    return answer"
   ]
  },
  {
   "cell_type": "code",
   "execution_count": 59,
   "metadata": {},
   "outputs": [
    {
     "data": {
      "text/plain": [
       "['#####', '# # #', '### #', '#  ##', '#####']"
      ]
     },
     "execution_count": 59,
     "metadata": {},
     "output_type": "execute_result"
    }
   ],
   "source": [
    "n = 5\n",
    "arr1 = [9, 20, 28, 18, 11]\n",
    "arr2 = [30, 1, 21, 17, 28]\n",
    "solution(n, arr1, arr2)"
   ]
  },
  {
   "cell_type": "code",
   "execution_count": 71,
   "metadata": {},
   "outputs": [
    {
     "name": "stdout",
     "output_type": "stream",
     "text": [
      "[60, 70, 60, 80]\n",
      "[50, 30, 30, 40]\n"
     ]
    },
    {
     "data": {
      "text/plain": [
       "4000"
      ]
     },
     "execution_count": 71,
     "metadata": {},
     "output_type": "execute_result"
    }
   ],
   "source": [
    "sizes = [[60, 50], [30, 70], [60, 30], [80, 40]]\n",
    "print([max(sizes[i]) for i in range(len(sizes))])\n",
    "print([min(sizes[i]) for i in range(len(sizes))])\n",
    "max([max(sizes[i]) for i in range(len(sizes))]) * max([min(sizes[i]) for i in range(len(sizes))])"
   ]
  }
 ],
 "metadata": {
  "interpreter": {
   "hash": "fe3bab233825460445dbfeea6dcd52ef5815a3fa13c858fea07ac830aa383284"
  },
  "kernelspec": {
   "display_name": "Python 3.8.10 64-bit ('base': conda)",
   "language": "python",
   "name": "python3"
  },
  "language_info": {
   "codemirror_mode": {
    "name": "ipython",
    "version": 3
   },
   "file_extension": ".py",
   "mimetype": "text/x-python",
   "name": "python",
   "nbconvert_exporter": "python",
   "pygments_lexer": "ipython3",
   "version": "3.8.10"
  },
  "orig_nbformat": 4
 },
 "nbformat": 4,
 "nbformat_minor": 2
}
