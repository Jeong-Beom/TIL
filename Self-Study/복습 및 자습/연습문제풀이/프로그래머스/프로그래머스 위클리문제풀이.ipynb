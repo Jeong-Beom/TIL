{
 "cells": [
  {
   "cell_type": "code",
   "execution_count": 10,
   "source": [
    "# 새로 생긴 놀이기구는 인기가 매우 많아 줄이 끊이질 않습니다. \r\n",
    "# 이 놀이기구의 원래 이용료는 price원 인데, 놀이기구를 N 번 째 이용한다면 원래 이용료의 N배를 받기로 하였습니다. \r\n",
    "# 즉, 처음 이용료가 100이었다면 2번째에는 200, 3번째에는 300으로 요금이 인상됩니다.\r\n",
    "# 놀이기구를 count번 타게 되면 현재 자신이 가지고 있는 금액에서 얼마가 모자라는지를 return 하도록 solution 함수를 완성하세요.\r\n",
    "# 단, 금액이 부족하지 않으면 0을 return 하세요.\r\n",
    "\r\n",
    "# 제한사항\r\n",
    "# 놀이기구의 이용료 price : 1 ≤ price ≤ 2,500, price는 자연수\r\n",
    "# 처음 가지고 있던 금액 money : 1 ≤ money ≤ 1,000,000,000, money는 자연수\r\n",
    "# 놀이기구의 이용 횟수 count : 1 ≤ count ≤ 2,500, count는 자연수\r\n",
    "\r\n",
    "# 입출력 예\r\n",
    "# 이용금액이 3인 놀이기구를 4번 타고 싶은 고객이 현재 가진 금액이 20이라면, \r\n",
    "# 총 필요한 놀이기구의 이용 금액은 30 (= 3+6+9+12) 이 되어 10만큼 부족하므로 10을 return 합니다.\r\n",
    "\r\n",
    "def solution(price, money, count):\r\n",
    "    answer = -1\r\n",
    "    total_price = 0\r\n",
    "    for i in range(count): \r\n",
    "        changed_price = price * (i + 1)\r\n",
    "        total_price += changed_price \r\n",
    "    if total_price > money:\r\n",
    "        answer = total_price - money\r\n",
    "    else:\r\n",
    "        answer = 0\r\n",
    "    return answer\r\n",
    "solution(3, 20, 4)"
   ],
   "outputs": [
    {
     "output_type": "execute_result",
     "data": {
      "text/plain": [
       "10"
      ]
     },
     "metadata": {},
     "execution_count": 10
    }
   ],
   "metadata": {}
  },
  {
   "cell_type": "code",
   "execution_count": 18,
   "source": [
    "# 대학 교수인 당신은, 상호평가를 통하여 학생들이 제출한 과제물에 학점을 부여하려고 합니다. \r\n",
    "# 아래는 0번부터 4번까지 번호가 매겨진 5명의 학생들이 자신과 다른 학생의 과제를 평가한 점수표입니다.\r\n",
    "\r\n",
    "# No. 0\t 1\t 2\t 3 \t 4\r\n",
    "# 0\t 100 90\t98\t88\t65\r\n",
    "# 1\t 50\t45\t99\t85\t77\r\n",
    "# 2\t 47\t88\t95\t80\t67\r\n",
    "# 3\t 61\t57\t100\t80\t65\r\n",
    "# 4\t 24\t90\t94\t75\t65\r\n",
    "\r\n",
    "# 평균\t45.5\t81.25\t97.2\t81.6\t67.8\r\n",
    "# 학점   F\t      B\t     A\t     B\t     D\r\n",
    "# 위의 점수표에서, i행 j열의 값은 i번 학생이 평가한 j번 학생의 과제 점수입니다.\r\n",
    "\r\n",
    "# 0번 학생이 평가한 점수는 0번 행에담긴 [100, 90, 98, 88, 65]입니다.\r\n",
    "# 0번 학생은 자기 자신에게 100점, 1번 학생에게 90점, 2번 학생에게 98점, 3번 학생에게 88점, 4번 학생에게 65점을 부여했습니다.\r\n",
    "# 2번 학생이 평가한 점수는 2번 행에담긴 [47, 88, 95, 80, 67]입니다.\r\n",
    "# 2번 학생은 0번 학생에게 47점, 1번 학생에게 88점, 자기 자신에게 95점, 3번 학생에게 80점, 4번 학생에게 67점을 부여했습니다.\r\n",
    "# 당신은 각 학생들이 받은 점수의 평균을 구하여, 기준에 따라 학점을 부여하려고 합니다.\r\n",
    "# 만약, 학생들이 자기 자신을 평가한 점수가 유일한 최고점 또는 유일한 최저점이라면 그 점수는 제외하고 평균을 구합니다.\r\n",
    "\r\n",
    "# 0번 학생이 받은 점수는 0번 열에 담긴 [100, 50, 47, 61, 24]입니다. \r\n",
    "# 자기 자신을 평가한 100점은 자신이 받은 점수 중에서 유일한 최고점이므로, 평균을 구할 때 제외합니다.\r\n",
    "# 0번 학생의 평균 점수는 (50+47+61+24) / 4 = 45.5입니다.\r\n",
    "# 4번 학생이 받은 점수는 4번 열에 담긴 [65, 77, 67, 65, 65]입니다. \r\n",
    "# 자기 자신을 평가한 65점은 자신이 받은 점수 중에서 최저점이지만 같은 점수가 2개 더 있으므로, 유일한 최저점이 아닙니다. \r\n",
    "# 따라서, 평균을 구할 때 제외하지 않습니다.\r\n",
    "# 4번 학생의 평균 점수는 (65+77+67+65+65) / 5 = 67.8입니다.\r\n",
    "# 제외할 점수는 제외하고 평균을 구한 후, 아래 기준에 따라 학점을 부여합니다.\r\n",
    "\r\n",
    "# 평균\t학점\r\n",
    "# 90점 이상\tA\r\n",
    "# 80점 이상 90점 미만\tB\r\n",
    "# 70점 이상 80점 미만\tC\r\n",
    "# 50점 이상 70점 미만\tD\r\n",
    "# 50점 미만\tF\r\n",
    "# 학생들의 점수가 담긴 정수형 2차원 배열 scores가 매개변수로 주어집니다. \r\n",
    "# 이때, 학생들의 학점을 구하여 하나의 문자열로 만들어서 return 하도록 solution 함수를 완성해주세요.\r\n",
    "\r\n",
    "# 제한사항\r\n",
    "# 2 ≤ scores의 행의 길이(학생 수) ≤ 10\r\n",
    "# scores의 열의 길이 = scores의 행의 길이\r\n",
    "# 즉, scores는 행과 열의 길이가 같은 2차원 배열입니다.\r\n",
    "# 0 ≤ scores의 원소 ≤ 100\r\n",
    "# return 값 형식\r\n",
    "# 0번 학생의 학점부터 차례대로 이어 붙인 하나의 문자열을 return 합니다.\r\n",
    "\r\n",
    "def solution(scores):\r\n",
    "    answer = ''\r\n",
    "    score_list = [[] for _ in range(len(scores))]\r\n",
    "    mean_list = []\r\n",
    "    for i in range(len(scores)):\r\n",
    "        for k in range(len(scores[i])):\r\n",
    "            score_list[k].append(scores[i][k])\r\n",
    "    for i in range(len(score_list)):\r\n",
    "        if (min(score_list[i]) == score_list[i][i] and score_list[i].count(min(score_list[i])) == 1) \\\r\n",
    "        or (max(score_list[i]) == score_list[i][i] and score_list[i].count(max(score_list[i])) == 1):\r\n",
    "            del score_list[i][i]\r\n",
    "    for i in range(len(score_list)):\r\n",
    "        mean_list.append(sum(score_list[i]) / len(score_list[i]))\r\n",
    "    for i in range(len(mean_list)):\r\n",
    "        if mean_list[i] >= 90:\r\n",
    "            answer += 'A'\r\n",
    "        elif mean_list[i] < 90 and mean_list[i] >= 80:\r\n",
    "            answer += 'B'\r\n",
    "        elif mean_list[i] < 80 and mean_list[i] >= 70:\r\n",
    "            answer += 'C'\r\n",
    "        elif mean_list[i] < 70 and mean_list[i] >= 50:\r\n",
    "            answer += 'D'\r\n",
    "        else:\r\n",
    "            answer += 'F'\r\n",
    "    return answer"
   ],
   "outputs": [],
   "metadata": {}
  }
 ],
 "metadata": {
  "orig_nbformat": 4,
  "language_info": {
   "name": "python",
   "version": "3.8.10",
   "mimetype": "text/x-python",
   "codemirror_mode": {
    "name": "ipython",
    "version": 3
   },
   "pygments_lexer": "ipython3",
   "nbconvert_exporter": "python",
   "file_extension": ".py"
  },
  "kernelspec": {
   "name": "python3",
   "display_name": "Python 3.8.10 64-bit ('base': conda)"
  },
  "interpreter": {
   "hash": "fe3bab233825460445dbfeea6dcd52ef5815a3fa13c858fea07ac830aa383284"
  }
 },
 "nbformat": 4,
 "nbformat_minor": 2
}