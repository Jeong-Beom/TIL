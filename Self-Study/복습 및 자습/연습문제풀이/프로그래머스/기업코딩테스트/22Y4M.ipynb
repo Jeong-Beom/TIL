{
 "cells": [
  {
   "cell_type": "markdown",
   "metadata": {},
   "source": [
    "2022 KAKAO BLIND RECRUITMENT / 신고결과 받기"
   ]
  },
  {
   "cell_type": "code",
   "execution_count": 17,
   "metadata": {},
   "outputs": [
    {
     "data": {
      "text/plain": [
       "[0, 0]"
      ]
     },
     "execution_count": 17,
     "metadata": {},
     "output_type": "execute_result"
    }
   ],
   "source": [
    "# 샘플 1\n",
    "id_list = [\"muzi\", \"frodo\", \"apeach\", \"neo\"]\n",
    "report = [\"muzi frodo\",\"apeach frodo\",\"frodo neo\",\"muzi neo\",\"apeach muzi\"]\n",
    "k = 2\n",
    "\n",
    "# 샘플 2\n",
    "id_list = [\"con\", \"ryan\"]\n",
    "report = [\"ryan con\", \"ryan con\", \"ryan con\", \"ryan con\"]\n",
    "k = 3\n",
    "\n",
    "def solution(id_list, report, k):\n",
    "    report = list(set(report))\n",
    "    cp_list1 = [0 for _ in range(len(id_list))]\n",
    "    cp_list2 = [[] for _ in range(len(id_list))] \n",
    "    answer = []\n",
    "    for arr1 in report:\n",
    "        p1, p2 = arr1.split()\n",
    "        cp_list2[id_list.index(p1)].append(id_list.index(p2))\n",
    "        cp_list1[id_list.index(p2)] += 1\n",
    "    for arr2 in cp_list2:\n",
    "        cnt = 0\n",
    "        for number in arr2:\n",
    "            if cp_list1[number] >= k:\n",
    "                cnt += 1\n",
    "        answer.append(cnt)   \n",
    "    return answer\n",
    "solution(id_list, report, k)"
   ]
  }
 ],
 "metadata": {
  "interpreter": {
   "hash": "fe3bab233825460445dbfeea6dcd52ef5815a3fa13c858fea07ac830aa383284"
  },
  "kernelspec": {
   "display_name": "Python 3.8.10 ('base')",
   "language": "python",
   "name": "python3"
  },
  "language_info": {
   "codemirror_mode": {
    "name": "ipython",
    "version": 3
   },
   "file_extension": ".py",
   "mimetype": "text/x-python",
   "name": "python",
   "nbconvert_exporter": "python",
   "pygments_lexer": "ipython3",
   "version": "3.8.10"
  },
  "orig_nbformat": 4
 },
 "nbformat": 4,
 "nbformat_minor": 2
}
