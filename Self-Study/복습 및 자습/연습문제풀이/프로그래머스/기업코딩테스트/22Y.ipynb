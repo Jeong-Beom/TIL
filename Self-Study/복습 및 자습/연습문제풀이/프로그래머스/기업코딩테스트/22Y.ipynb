{
 "cells": [
  {
   "cell_type": "markdown",
   "metadata": {},
   "source": [
    "2022 KAKAO BLIND RECRUITMENT / 신고결과 받기"
   ]
  },
  {
   "cell_type": "code",
   "execution_count": 17,
   "metadata": {},
   "outputs": [
    {
     "data": {
      "text/plain": [
       "[0, 0]"
      ]
     },
     "execution_count": 17,
     "metadata": {},
     "output_type": "execute_result"
    }
   ],
   "source": [
    "# 샘플 1\n",
    "id_list = [\"muzi\", \"frodo\", \"apeach\", \"neo\"]\n",
    "report = [\"muzi frodo\",\"apeach frodo\",\"frodo neo\",\"muzi neo\",\"apeach muzi\"]\n",
    "k = 2\n",
    "\n",
    "# 샘플 2\n",
    "id_list = [\"con\", \"ryan\"]\n",
    "report = [\"ryan con\", \"ryan con\", \"ryan con\", \"ryan con\"]\n",
    "k = 3\n",
    "\n",
    "def solution(id_list, report, k):\n",
    "    report = list(set(report))\n",
    "    cp_list1 = [0 for _ in range(len(id_list))]\n",
    "    cp_list2 = [[] for _ in range(len(id_list))] \n",
    "    answer = []\n",
    "    for arr1 in report:\n",
    "        p1, p2 = arr1.split()\n",
    "        cp_list2[id_list.index(p1)].append(id_list.index(p2))\n",
    "        cp_list1[id_list.index(p2)] += 1\n",
    "    for arr2 in cp_list2:\n",
    "        cnt = 0\n",
    "        for number in arr2:\n",
    "            if cp_list1[number] >= k:\n",
    "                cnt += 1\n",
    "        answer.append(cnt)   \n",
    "    return answer\n",
    "solution(id_list, report, k)"
   ]
  },
  {
   "cell_type": "markdown",
   "metadata": {},
   "source": [
    "2022 KAKAO BLIND RECRUITMENT / 신규아이디 추천"
   ]
  },
  {
   "cell_type": "code",
   "execution_count": 6,
   "metadata": {},
   "outputs": [
    {
     "name": "stdout",
     "output_type": "stream",
     "text": [
      "bat.y.abcdefghi\n",
      "z--\n",
      "aaa\n",
      "123_.def\n",
      "abcdefghijklmn\n"
     ]
    }
   ],
   "source": [
    "# 1단계 new_id의 모든 대문자를 대응되는 소문자로 치환합니다. → lower함수 이용\n",
    "# 2단계 new_id에서 알파벳 소문자, 숫자, 빼기(-), 밑줄(_), 마침표(.)를 제외한 모든 문자를 제거합니다. → 정규표현식 및 re.sub함수이용 \n",
    "# 3단계 new_id에서 마침표(.)가 2번 이상 연속된 부분을 하나의 마침표(.)로 치환합니다. → 조건문 및 반복문 사용\n",
    "# 4단계 new_id에서 마침표(.)가 처음이나 끝에 위치한다면 제거합니다. → 조건문 사용\n",
    "# 5단계 new_id가 빈 문자열이라면, new_id에 \"a\"를 대입합니다. → 조건문 사용\n",
    "# 6단계 new_id의 길이가 16자 이상이면, new_id의 첫 15개의 문자를 제외한 나머지 문자들을 모두 제거합니다.\n",
    "#      만약 제거 후 마침표(.)가 new_id의 끝에 위치한다면 끝에 위치한 마침표(.) 문자를 제거합니다. → 조건문 사용\n",
    "# 7단계 new_id의 길이가 2자 이하라면, new_id의 마지막 문자를 new_id의 길이가 3이 될 때까지 반복해서 끝에 붙입니다. → 조건문 사용\n",
    "import re\n",
    "def solution(new_id): \n",
    "    # 1단계\n",
    "    new_id = new_id.lower() \n",
    "    # 2단계\n",
    "    new_id = re.sub('[^0-9a-z._-]', '', new_id) \n",
    "    # [^0-9a-z.-_]은 안됨 마지막에 underscore를 쓰면 모든언어의 표현가능문자를 가져와서 @를 삭제하지 않음\n",
    "    # 3단계\n",
    "    r = True \n",
    "    while r:\n",
    "        new_id = new_id.replace('..', '.')\n",
    "        try :\n",
    "            new_id.index('..')\n",
    "            r = True\n",
    "        except:\n",
    "            r = False\n",
    "    # 4단계\n",
    "    if len(new_id) > 0:\n",
    "        if new_id[0] == '.':\n",
    "            new_id = new_id[1:]\n",
    "    if len(new_id) > 0:\n",
    "        if new_id[-1] == '.':\n",
    "            new_id = new_id[:-1]\n",
    "    # 5단계\n",
    "    if len(new_id) == 0:\n",
    "        new_id = 'a'\n",
    "    # 6단계\n",
    "    new_id = new_id[:15]\n",
    "    if new_id[-1] == '.':\n",
    "        new_id = new_id[:-1]\n",
    "    # 7단계\n",
    "    while len(new_id) < 3:\n",
    "        new_id += new_id[-1]\n",
    "    answer = new_id\n",
    "    return answer\n",
    "    \n",
    "new_id = '...!@BaT#*..y.abcdefghijklm'\n",
    "print(solution(new_id))\n",
    "new_id = \"z-+.^.\"\n",
    "print(solution(new_id))\n",
    "new_id = \"=.=\"\n",
    "print(solution(new_id))\n",
    "new_id = \"123_.def\"\n",
    "print(solution(new_id))\n",
    "new_id = \"abcdefghijklmn.p\"\n",
    "print(solution(new_id))"
   ]
  },
  {
   "cell_type": "markdown",
   "metadata": {},
   "source": [
    "2021 Dev-Matching / 로또의 최고 순위와 최저 순위"
   ]
  },
  {
   "cell_type": "code",
   "execution_count": 9,
   "metadata": {},
   "outputs": [
    {
     "data": {
      "text/plain": [
       "[0, 6]"
      ]
     },
     "execution_count": 9,
     "metadata": {},
     "output_type": "execute_result"
    }
   ],
   "source": [
    "# 수정중\n",
    "def solution(lottos, win_nums):\n",
    "    lottos.sort()\n",
    "    win_nums.sort()\n",
    "    min_rank, max_rank = 6, 6\n",
    "    for i in range(6):\n",
    "        cp = win_nums.pop()\n",
    "        for number in lottos:\n",
    "            if number < \n",
    "        if cp1 == cp2:\n",
    "            min_rank -= 1\n",
    "            max_rank -= 1\n",
    "        elif cp1 == 0:\n",
    "            max_rank -= 1\n",
    "        else:\n",
    "            pass\n",
    "    answer = [max_rank, min_rank]\n",
    "    return answer\n",
    "\n",
    "lottos = [44, 1, 0, 0, 31, 25]\n",
    "win_nums = [31, 10, 45, 1, 6, 19]\n",
    "solution(lottos, win_nums)"
   ]
  }
 ],
 "metadata": {
  "interpreter": {
   "hash": "c7344ef82abd63d022c2c377f56f9fd8e0c367b82c5dbec334952875519c7220"
  },
  "kernelspec": {
   "display_name": "Python 3.8.10 ('base')",
   "language": "python",
   "name": "python3"
  },
  "language_info": {
   "codemirror_mode": {
    "name": "ipython",
    "version": 3
   },
   "file_extension": ".py",
   "mimetype": "text/x-python",
   "name": "python",
   "nbconvert_exporter": "python",
   "pygments_lexer": "ipython3",
   "version": "3.8.10"
  },
  "orig_nbformat": 4
 },
 "nbformat": 4,
 "nbformat_minor": 2
}
