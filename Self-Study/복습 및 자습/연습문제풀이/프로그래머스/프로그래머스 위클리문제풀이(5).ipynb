{
 "cells": [
  {
   "cell_type": "code",
   "execution_count": 75,
   "source": [
    "# 7주차 코로나입실명부 시간초과로 인한 다른 코드로 작성"
   ],
   "outputs": [],
   "metadata": {}
  },
  {
   "cell_type": "code",
   "execution_count": 76,
   "source": [
    "enter = [1, 2, 3, 4, 5]\r\n",
    "leave = [5, 3, 1, 2, 4]\r\n",
    "enter_dict = dict(zip([i for i in range(1, len(enter)+1)], [[enter.index(i), leave.index(i)] for i in range(1, len(enter)+1)]))\r\n",
    "enter_dict"
   ],
   "outputs": [
    {
     "output_type": "execute_result",
     "data": {
      "text/plain": [
       "{1: [0, 2], 2: [1, 3], 3: [2, 1], 4: [3, 4], 5: [4, 0]}"
      ]
     },
     "metadata": {},
     "execution_count": 76
    }
   ],
   "metadata": {}
  },
  {
   "cell_type": "code",
   "execution_count": 142,
   "source": [
    "enter = [1,4,2,3]\r\n",
    "leave = [2,1,3,4]\r\n",
    "answer = []\r\n",
    "\r\n",
    "answer, room, entry_list, origin_check_list, check_list = [], [], [], [], []\r\n",
    "n = 0\r\n",
    "\r\n",
    "while leave != []:\r\n",
    "    copy_room = room[:]\r\n",
    "    if len(copy_room) >= 2:\r\n",
    "        entry_list.append(copy_room) \r\n",
    "    for _ in range(len(room)):\r\n",
    "        if leave[0] in room:\r\n",
    "            del room[room.index(leave[0])]\r\n",
    "            del leave[0]\r\n",
    "    if n < len(enter) and enter[n] in leave:\r\n",
    "        room.append(enter[n])\r\n",
    "        n += 1\r\n",
    "    elif n >= len(enter):\r\n",
    "        n -= 1\r\n",
    "\r\n",
    "print(entry_list)\r\n",
    "for i in range(1, len(enter)+1):\r\n",
    "    for k in range(len(entry_list)):\r\n",
    "        if i in entry_list[k]:\r\n",
    "            origin_check_list.extend(entry_list[k])\r\n",
    "    for v in origin_check_list:\r\n",
    "        if v not in check_list:\r\n",
    "            check_list.append(v)\r\n",
    "    print(check_list)\r\n",
    "    answer.append(len(check_list)-1) if len(check_list) >= 2 else  answer.append(0)\r\n",
    "    origin_check_list, check_list = [], []\r\n",
    "answer"
   ],
   "outputs": [
    {
     "output_type": "stream",
     "name": "stdout",
     "text": [
      "[[1, 4], [1, 4, 2], [4, 3]]\n",
      "[1, 4, 2]\n",
      "[1, 4, 2]\n",
      "[4, 3]\n",
      "[1, 4, 2, 3]\n"
     ]
    },
    {
     "output_type": "execute_result",
     "data": {
      "text/plain": [
       "[2, 2, 1, 3]"
      ]
     },
     "metadata": {},
     "execution_count": 142
    }
   ],
   "metadata": {}
  },
  {
   "cell_type": "code",
   "execution_count": 145,
   "source": [
    "enter = [1,4,2,3]\r\n",
    "leave = [2,1,3,4]\r\n",
    "answer = []\r\n",
    "\r\n",
    "answer, room, entry_list, check = [], [], [], []\r\n",
    "n = 0\r\n",
    "\r\n",
    "while leave != []:\r\n",
    "    copy_room = room[:]\r\n",
    "    if len(copy_room) >= 2:\r\n",
    "        entry_list.append(copy_room) \r\n",
    "    for _ in range(len(room)):\r\n",
    "        if leave[0] in room:\r\n",
    "            del room[room.index(leave[0])]\r\n",
    "            del leave[0]\r\n",
    "    if n < len(enter) and enter[n] in leave:\r\n",
    "        room.append(enter[n])\r\n",
    "        n += 1\r\n",
    "    elif n >= len(enter):\r\n",
    "        n -= 1\r\n",
    "\r\n",
    "# print(entry_list)\r\n",
    "for i in range(1, len(enter)+1):\r\n",
    "    for k in range(len(entry_list)):\r\n",
    "        if i in entry_list[k]:\r\n",
    "            check.extend(entry_list[k])\r\n",
    "    check = set(check)\r\n",
    "    answer.append(len(check)-1) if len(check) >= 2 else  answer.append(0)\r\n",
    "    check = []\r\n",
    "answer"
   ],
   "outputs": [
    {
     "output_type": "stream",
     "name": "stdout",
     "text": [
      "[[1, 4], [1, 4, 2], [4, 3]]\n"
     ]
    },
    {
     "output_type": "execute_result",
     "data": {
      "text/plain": [
       "[2, 2, 1, 3]"
      ]
     },
     "metadata": {},
     "execution_count": 145
    }
   ],
   "metadata": {}
  },
  {
   "cell_type": "code",
   "execution_count": 139,
   "source": [
    "my_list = ['A', 'B', 'C', 'D', 'B', 'D', 'E']\r\n",
    "my_set = set(my_list) #집합set으로 변환\r\n",
    "print(my_set, len(my_set))\r\n",
    "my_list = list(my_set) #list로 변환\r\n",
    "print(my_list)\r\n",
    "\r\n",
    "origin_check_list"
   ],
   "outputs": [
    {
     "output_type": "stream",
     "name": "stdout",
     "text": [
      "{'C', 'D', 'A', 'B', 'E'} 5\n",
      "['C', 'D', 'A', 'B', 'E']\n"
     ]
    },
    {
     "output_type": "execute_result",
     "data": {
      "text/plain": [
       "[]"
      ]
     },
     "metadata": {},
     "execution_count": 139
    }
   ],
   "metadata": {}
  }
 ],
 "metadata": {
  "orig_nbformat": 4,
  "language_info": {
   "name": "python",
   "version": "3.8.10",
   "mimetype": "text/x-python",
   "codemirror_mode": {
    "name": "ipython",
    "version": 3
   },
   "pygments_lexer": "ipython3",
   "nbconvert_exporter": "python",
   "file_extension": ".py"
  },
  "kernelspec": {
   "name": "python3",
   "display_name": "Python 3.8.10 64-bit ('base': conda)"
  },
  "interpreter": {
   "hash": "fe3bab233825460445dbfeea6dcd52ef5815a3fa13c858fea07ac830aa383284"
  }
 },
 "nbformat": 4,
 "nbformat_minor": 2
}