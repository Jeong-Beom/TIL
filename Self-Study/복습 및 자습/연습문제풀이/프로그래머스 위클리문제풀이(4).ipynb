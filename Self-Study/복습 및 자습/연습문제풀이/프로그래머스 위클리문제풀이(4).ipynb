{
 "cells": [
  {
   "cell_type": "markdown",
   "source": [
    "사회적 거리두기를 위해 회의실에 출입할 때 명부에 이름을 적어야 합니다. 입실과 퇴실이 동시에 이뤄지는 경우는 없으며, 입실 시각과 퇴실 시각은 따로 기록하지 않습니다.\r\n",
    "\r\n",
    "오늘 회의실에는 총 n명이 입실 후 퇴실했습니다. 편의상 사람들은 1부터 n까지 번호가 하나씩 붙어있으며, 두 번 이상 회의실에 들어온 사람은 없습니다. 이때, 각 사람별로 반드시 만난 사람은 몇 명인지 구하려 합니다.\r\n",
    "\r\n",
    "예를 들어 입실 명부에 기재된 순서가 [1, 3, 2], 퇴실 명부에 기재된 순서가 [1, 2, 3]인 경우,\r\n",
    "\r\n",
    "1번과 2번은 만났는지 알 수 없습니다.\r\n",
    "1번과 3번은 만났는지 알 수 없습니다.\r\n",
    "2번과 3번은 반드시 만났습니다.\r\n",
    "또 다른 예로 입실 순서가 [1, 4, 2, 3], 퇴실 순서가 [2, 1, 3, 4]인 경우,\r\n",
    "\r\n",
    "1번과 2번은 반드시 만났습니다.\r\n",
    "1번과 3번은 만났는지 알 수 없습니다.\r\n",
    "1번과 4번은 반드시 만났습니다.\r\n",
    "2번과 3번은 만났는지 알 수 없습니다.\r\n",
    "2번과 4번은 반드시 만났습니다.\r\n",
    "3번과 4번은 반드시 만났습니다.\r\n",
    "회의실에 입실한 순서가 담긴 정수 배열 enter, 퇴실한 순서가 담긴 정수 배열 leave가 매개변수로 주어질 때, 각 사람별로 반드시 만난 사람은 몇 명인지 번호 순서대로 배열에 담아 return 하도록 solution 함수를 완성해주세요.\r\n",
    "\r\n",
    "제한사항\r\n",
    "1 ≤ enter의 길이 ≤ 1,000\r\n",
    "1 ≤ enter의 원소 ≤ enter의 길이\r\n",
    "모든 사람의 번호가 중복없이 하나씩 들어있습니다.\r\n",
    "leave의 길이 = enter의 길이\r\n",
    "1 ≤ leave의 원소 ≤ leave의 길이\r\n",
    "모든 사람의 번호가 중복없이 하나씩 들어있습니다."
   ],
   "metadata": {}
  },
  {
   "cell_type": "code",
   "execution_count": 43,
   "source": [
    "def solution(enter, leave):\r\n",
    "    peoples = [i for i in range(1, len(enter)+1)]\r\n",
    "    entry_dict = dict(zip(peoples,[[enter.index(i), leave.index(i)] for i in range(1, len(enter)+1)]))\r\n",
    "    all_case = []\r\n",
    "\r\n",
    "    for check_num in peoples:\r\n",
    "        case1, case2, case3, case4, case5, case6 = [], [], [], [], [], []\r\n",
    "        for people in peoples:\r\n",
    "            if entry_dict[check_num][0] > entry_dict[people][0] and entry_dict[check_num][0] != entry_dict[people][0] and \\\r\n",
    "            entry_dict[check_num][1] < entry_dict[people][1] and entry_dict[check_num][1] != entry_dict[people][1]:\r\n",
    "                case1.append(people)\r\n",
    "        for people in peoples:\r\n",
    "            if entry_dict[check_num][0] < entry_dict[people][0] and entry_dict[check_num][0] != entry_dict[people][0] and \\\r\n",
    "            entry_dict[check_num][1] > entry_dict[people][1] and entry_dict[check_num][1] != entry_dict[people][1]:\r\n",
    "                case2.append(people)\r\n",
    "        for people in peoples:\r\n",
    "            if entry_dict[check_num][0] < entry_dict[people][0] and entry_dict[check_num][0] != entry_dict[people][0] and \\\r\n",
    "            entry_dict[check_num][1] < entry_dict[people][1] and entry_dict[check_num][1] != entry_dict[people][1]:\r\n",
    "                case3.append(people)\r\n",
    "        for i in range(len(case2)):\r\n",
    "            for k in range(len(case3)):\r\n",
    "                if entry_dict[case2[i]][0] > entry_dict[case3[k]][0]:\r\n",
    "                    case4.append(case3[k])\r\n",
    "        for people in peoples:\r\n",
    "            if entry_dict[check_num][0] > entry_dict[people][0] and entry_dict[check_num][0] != entry_dict[people][0] and \\\r\n",
    "            entry_dict[check_num][1] > entry_dict[people][1] and entry_dict[check_num][1] != entry_dict[people][1]:\r\n",
    "                case5.append(people)\r\n",
    "        for i in range(len(case2)):\r\n",
    "            for k in range(len(case5)):\r\n",
    "                if entry_dict[case2[i]][1] > entry_dict[case5[k]][1]:\r\n",
    "                    case6.append(case5[k])\r\n",
    "        case = case1 + case2 + case4 + case6\r\n",
    "        all_case.append(len(case))\r\n",
    "    answer = all_case\r\n",
    "    return answer"
   ],
   "outputs": [],
   "metadata": {}
  },
  {
   "cell_type": "code",
   "execution_count": 154,
   "source": [
    "# 0. 한번이라도 마주치지 않는 경우의 수가 있으면 만남여부를 알 수 없는 것으로 취급한다.\r\n",
    "# 1. 출입을 먼저하고 퇴실은 나중에 한 경우 : 자신보다 출입이 늦고 퇴실이 빠른 인원과는 무조건 만난다.\r\n",
    "# 2. 출입을 나중에 하고 퇴실은 먼저 한 경우 : 자신보다 늦게 퇴실한 모든 사람들과는 무조건 만난다.\r\n",
    "# 3. 자신보다 입출입이 모두 늦은 경우에 자신보다 먼저 퇴실한 사람과 입실기록이 자신사이에 위치하면 무조건 만난다.\r\n",
    "# 4. 자신보다 입출입이 모두 빠른 경우에는 자신보다 늦게 입실한 사람의 퇴실기록이 해당사람보다 빠르면 무조건 만난다.\r\n",
    "# 5. 자신보다 입출입이 모두 늦고, 위의 조건에 만족하지 않으면 만났는지 알 수 없다.\r\n",
    "enter = [1,3,2]\t\r\n",
    "leave = [1,2,3]\r\n",
    "peoples = [i for i in range(1, len(enter)+1)]\r\n",
    "\r\n",
    "entry_dict = dict(zip(peoples,[[enter.index(i), leave.index(i)] for i in range(1, len(enter)+1)]))\r\n",
    "entry_dict"
   ],
   "outputs": [
    {
     "output_type": "execute_result",
     "data": {
      "text/plain": [
       "{1: [0, 0], 2: [2, 1], 3: [1, 2]}"
      ]
     },
     "metadata": {},
     "execution_count": 154
    }
   ],
   "metadata": {}
  },
  {
   "cell_type": "code",
   "execution_count": 155,
   "source": [
    "# [k for k,v in entry_dict.items() if v == [2,0]] / dict의 value로 key값 호출하기\r\n",
    "# entry_dict[i]의 i는 딕셔너리에서 i와 일치하는 키를 가진 value를 호출\r\n",
    "# 자신보다 입실을 먼저한 사람들을 구하는 방법\r\n",
    "list1 = []\r\n",
    "for people in peoples:\r\n",
    "    if entry_dict[1][0] > entry_dict[people][0] and entry_dict[1][0] != entry_dict[people][0]:\r\n",
    "        list.append(people)\r\n",
    "list1"
   ],
   "outputs": [
    {
     "output_type": "execute_result",
     "data": {
      "text/plain": [
       "[]"
      ]
     },
     "metadata": {},
     "execution_count": 155
    }
   ],
   "metadata": {}
  },
  {
   "cell_type": "code",
   "execution_count": 156,
   "source": [
    "# 자신보다 입실을 나중에 한 사람들을 구하는 방법\r\n",
    "list2 = []\r\n",
    "for people in peoples:\r\n",
    "    if entry_dict[1][0] < entry_dict[people][0] and entry_dict[1][0] != entry_dict[people][0]:\r\n",
    "        list2.append(people)\r\n",
    "list2"
   ],
   "outputs": [
    {
     "output_type": "execute_result",
     "data": {
      "text/plain": [
       "[2, 3]"
      ]
     },
     "metadata": {},
     "execution_count": 156
    }
   ],
   "metadata": {}
  },
  {
   "cell_type": "code",
   "execution_count": 157,
   "source": [
    "# 자신보다 퇴실을 나중에 한 사람을 구하는 방법\r\n",
    "list3 = []\r\n",
    "for people in peoples:\r\n",
    "    if entry_dict[1][1] < entry_dict[people][1] and entry_dict[1][1] != entry_dict[people][1]:\r\n",
    "        list3.append(people)\r\n",
    "list3"
   ],
   "outputs": [
    {
     "output_type": "execute_result",
     "data": {
      "text/plain": [
       "[2, 3]"
      ]
     },
     "metadata": {},
     "execution_count": 157
    }
   ],
   "metadata": {}
  },
  {
   "cell_type": "code",
   "execution_count": 158,
   "source": [
    "# 자신보다 퇴실을 먼저 한 사람을 구하는 방법\r\n",
    "list4 = []\r\n",
    "for people in peoples:\r\n",
    "    if entry_dict[1][1] > entry_dict[people][1] and entry_dict[1][1] != entry_dict[people][1]:\r\n",
    "        list4.append(people)\r\n",
    "list4"
   ],
   "outputs": [
    {
     "output_type": "execute_result",
     "data": {
      "text/plain": [
       "[]"
      ]
     },
     "metadata": {},
     "execution_count": 158
    }
   ],
   "metadata": {}
  },
  {
   "cell_type": "code",
   "execution_count": 160,
   "source": [
    "check_num = 3\r\n",
    "case1 = []\r\n",
    "for people in peoples:\r\n",
    "    if entry_dict[check_num][0] > entry_dict[people][0] and entry_dict[check_num][0] != entry_dict[people][0] and \\\r\n",
    "       entry_dict[check_num][1] < entry_dict[people][1] and entry_dict[check_num][1] != entry_dict[people][1]:\r\n",
    "       case1.append(people)\r\n",
    "print(f'{check_num}번보다 입실을 먼저하고 퇴실은 나중에 한 사람들 : {case1}')"
   ],
   "outputs": [
    {
     "output_type": "stream",
     "name": "stdout",
     "text": [
      "3번보다 입실을 먼저하고 퇴실은 나중에 한 사람들 : []\n"
     ]
    }
   ],
   "metadata": {}
  },
  {
   "cell_type": "code",
   "execution_count": 161,
   "source": [
    "case2 = []\r\n",
    "for people in peoples:\r\n",
    "    if entry_dict[check_num][0] < entry_dict[people][0] and entry_dict[check_num][0] != entry_dict[people][0] and \\\r\n",
    "       entry_dict[check_num][1] > entry_dict[people][1] and entry_dict[check_num][1] != entry_dict[people][1]:\r\n",
    "       case2.append(people)\r\n",
    "print(f'{check_num}번보다 입실을 나중에 하고 퇴실은 먼저 한 사람들 : {case2}')"
   ],
   "outputs": [
    {
     "output_type": "stream",
     "name": "stdout",
     "text": [
      "3번보다 입실을 나중에 하고 퇴실은 먼저 한 사람들 : [2]\n"
     ]
    }
   ],
   "metadata": {}
  },
  {
   "cell_type": "code",
   "execution_count": 162,
   "source": [
    "case3 = []\r\n",
    "for people in peoples:\r\n",
    "    if entry_dict[check_num][0] < entry_dict[people][0] and entry_dict[check_num][0] != entry_dict[people][0] and \\\r\n",
    "       entry_dict[check_num][1] < entry_dict[people][1] and entry_dict[check_num][1] != entry_dict[people][1]:\r\n",
    "       case3.append(people)\r\n",
    "print(f'{check_num}번보다 입퇴실 모두 나중에 한 사람들 : {case3}')"
   ],
   "outputs": [
    {
     "output_type": "stream",
     "name": "stdout",
     "text": [
      "3번보다 입퇴실 모두 나중에 한 사람들 : []\n"
     ]
    }
   ],
   "metadata": {}
  },
  {
   "cell_type": "code",
   "execution_count": 163,
   "source": [
    "case4 = []\r\n",
    "for i in range(len(case2)):\r\n",
    "    for k in range(len(case3)):\r\n",
    "        if entry_dict[case2[i]][0] > entry_dict[case3[k]][0]:\r\n",
    "            case4.append(case3[k])\r\n",
    "print(f'{check_num}번보다 입출입이 모두 늦고, {check_num}번보다 먼저 퇴실한 사람과 입실기록이 {check_num}사이에 위치하는 사람 : {case4}')"
   ],
   "outputs": [
    {
     "output_type": "stream",
     "name": "stdout",
     "text": [
      "3번보다 입출입이 모두 늦고, 3번보다 먼저 퇴실한 사람과 입실기록이 3사이에 위치하는 사람 : []\n"
     ]
    }
   ],
   "metadata": {}
  },
  {
   "cell_type": "code",
   "execution_count": 164,
   "source": [
    "case5 = []\r\n",
    "for people in peoples:\r\n",
    "    if entry_dict[check_num][0] > entry_dict[people][0] and entry_dict[check_num][0] != entry_dict[people][0] and \\\r\n",
    "       entry_dict[check_num][1] > entry_dict[people][1] and entry_dict[check_num][1] != entry_dict[people][1]:\r\n",
    "       case5.append(people)\r\n",
    "print(f'{check_num}번보다 입퇴실 모두 먼저 한 사람들 : {case5}')"
   ],
   "outputs": [
    {
     "output_type": "stream",
     "name": "stdout",
     "text": [
      "3번보다 입퇴실 모두 먼저 한 사람들 : [1]\n"
     ]
    }
   ],
   "metadata": {}
  },
  {
   "cell_type": "code",
   "execution_count": 173,
   "source": [
    "case6 = []\r\n",
    "for i in range(len(case2)):\r\n",
    "    for k in range(len(case5)):\r\n",
    "        if entry_dict[case2[i]][1] < entry_dict[case5[k]][1]:\r\n",
    "            case6.append(case5[k])\r\n",
    "print(f'{check_num}번보다 입출입이 모두 빠르고, {check_num}번보다 먼저 퇴실한 사람과 퇴실기록이 {check_num}번사이에 위치하는 사람 : {case6}')"
   ],
   "outputs": [
    {
     "output_type": "stream",
     "name": "stdout",
     "text": [
      "3번보다 입출입이 모두 빠르고, 3번보다 먼저 퇴실한 사람과 퇴실기록이 3번사이에 위치하는 사람 : []\n"
     ]
    }
   ],
   "metadata": {}
  },
  {
   "cell_type": "code",
   "execution_count": 143,
   "source": [
    "case1 + case2 + case4 + case6"
   ],
   "outputs": [
    {
     "output_type": "execute_result",
     "data": {
      "text/plain": [
       "[2, 3, 1]"
      ]
     },
     "metadata": {},
     "execution_count": 143
    }
   ],
   "metadata": {}
  },
  {
   "cell_type": "code",
   "execution_count": 181,
   "source": [
    "entry_list = [[enter.index(i), leave.index(i)] for i in range(1, len(enter)+1)]\r\n",
    "entry_list[0][1]"
   ],
   "outputs": [
    {
     "output_type": "execute_result",
     "data": {
      "text/plain": [
       "2"
      ]
     },
     "metadata": {},
     "execution_count": 181
    }
   ],
   "metadata": {}
  },
  {
   "cell_type": "code",
   "execution_count": 40,
   "source": [
    "import random\r\n",
    "random.seed(100)\r\n",
    "enter = [_ for _ in range(1, 101)]\r\n",
    "leave = [_ for _ in range(1, 101)]\r\n",
    "random.shuffle(enter)\r\n",
    "random.shuffle(leave)"
   ],
   "outputs": [],
   "metadata": {}
  },
  {
   "cell_type": "code",
   "execution_count": 95,
   "source": [
    "enter = [1, 2, 3, 4, 5]\r\n",
    "leave = [5, 3, 1, 2, 4]\r\n",
    "peoples = [i for i in range(1, len(enter)+1)]\r\n",
    "entry_list = [[enter.index(i), leave.index(i)] for i in range(1, len(enter)+1)]\r\n",
    "all_case = []\r\n",
    "\r\n",
    "for i in range(len(enter)):\r\n",
    "    case1, case2, case3, case4, case5, case6 = [], [], [], [], [], []\r\n",
    "    for k in range(len(enter)):\r\n",
    "        if entry_list[i][0] > entry_list[k][0] and entry_list[i][0] != entry_list[k][0] and entry_list[i][1] < entry_list[k][1]:\r\n",
    "            case1.append(peoples[k])\r\n",
    "    for k in range(len(enter)):\r\n",
    "        if entry_list[i][0] < entry_list[k][0] and entry_list[i][0] != entry_list[k][0] and entry_list[i][1] > entry_list[k][1]:\r\n",
    "            case2.append(peoples[k])\r\n",
    "    for k in range(len(enter)):\r\n",
    "        if entry_list[i][0] < entry_list[k][0] and entry_list[i][0] != entry_list[k][0] and entry_list[i][1] < entry_list[k][1]:\r\n",
    "            case3.append(peoples[k])\r\n",
    "    if len(case3) != 0:\r\n",
    "        for x in range(len(case2)):\r\n",
    "            for y in range(len(case3)):\r\n",
    "                if entry_list[case2[x]-1][0] > entry_list[case3[y]-1][0]:\r\n",
    "                    case4.append(case3[y])\r\n",
    "    for k in range(len(enter)):\r\n",
    "        if entry_list[i][0] >entry_list[k][0] and entry_list[i][0] != entry_list[k][0] and entry_list[i][1] > entry_list[k][1]:\r\n",
    "            case5.append(peoples[k])\r\n",
    "    if len(case5) != 0:\r\n",
    "        for x in range(len(case2)):\r\n",
    "            for y in range(len(case5)):\r\n",
    "                if entry_list[case2[x]-1][1] < entry_list[case5[y]-1][1]:\r\n",
    "                    case6.append(case5[y])\r\n",
    "    case = case1 + case2 + case4 + case6\r\n",
    "    new_case = []\r\n",
    "    for v in case:\r\n",
    "        if v not in new_case:\r\n",
    "            new_case.append(v)\r\n",
    "    all_case.append(len(new_case))\r\n",
    "all_case"
   ],
   "outputs": [
    {
     "output_type": "execute_result",
     "data": {
      "text/plain": [
       "[4, 4, 4, 4, 4]"
      ]
     },
     "metadata": {},
     "execution_count": 95
    }
   ],
   "metadata": {}
  },
  {
   "cell_type": "code",
   "execution_count": 96,
   "source": [
    "entry_list[:]"
   ],
   "outputs": [
    {
     "output_type": "execute_result",
     "data": {
      "text/plain": [
       "[[0, 2], [1, 3], [2, 1], [3, 4], [4, 0]]"
      ]
     },
     "metadata": {},
     "execution_count": 96
    }
   ],
   "metadata": {}
  },
  {
   "cell_type": "code",
   "execution_count": 94,
   "source": [
    "enter = [1, 2, 3, 4, 5]\r\n",
    "leave = [5, 3, 1, 2, 4]\r\n",
    "entry_list_origin = [[enter.index(i), leave.index(i)] for i in range(1, len(enter)+1)]\r\n",
    "all_case = []\r\n",
    "\r\n",
    "for i in range(len(enter)-1):\r\n",
    "    case1, case2, case3, case4, case5, case6 = [], [], [], [], [], []\r\n",
    "    entry_list = entry_list_origin[:]\r\n",
    "    # del entry_list[i]\r\n",
    "    for k in range(len(enter)-1):\r\n",
    "        if entry_list[i][0] > entry_list[k][0] and entry_list[i][1] < entry_list[k][1]:\r\n",
    "            case1.append(k+1)\r\n",
    "    for k in range(len(enter)-1):\r\n",
    "        if entry_list[i][0] < entry_list[k][0] and entry_list[i][1] > entry_list[k][1]:\r\n",
    "            case2.append(k+1)\r\n",
    "    for k in range(len(enter)-1):\r\n",
    "        if entry_list[i][0] < entry_list[k][0] and entry_list[i][1] < entry_list[k][1]:\r\n",
    "            case3.append(k+1)\r\n",
    "    if len(case3) != 0:\r\n",
    "        for x in range(len(case2)):\r\n",
    "            for y in range(len(case3)):\r\n",
    "                if entry_list[case2[x]-1][0] > entry_list[case3[y]-1][0]:\r\n",
    "                    case4.append(case3[y])\r\n",
    "    for k in range(len(enter)-1):\r\n",
    "        if entry_list[i][0] >entry_list[k][0] and entry_list[i][1] > entry_list[k][1]:\r\n",
    "            case5.append(k+1)\r\n",
    "    if len(case5) != 0:\r\n",
    "        for x in range(len(case2)):\r\n",
    "            for y in range(len(case5)):\r\n",
    "                if entry_list[case2[x]-1][1] < entry_list[case5[y]-1][1]:\r\n",
    "                    case6.append(case5[y])\r\n",
    "    case = case1 + case2 + case4 + case6\r\n",
    "    new_case = []\r\n",
    "    for v in case:\r\n",
    "        if v not in new_case:\r\n",
    "            new_case.append(v)\r\n",
    "    all_case.append(len(new_case))\r\n",
    "all_case"
   ],
   "outputs": [
    {
     "output_type": "execute_result",
     "data": {
      "text/plain": [
       "[2, 2, 2, 0]"
      ]
     },
     "metadata": {},
     "execution_count": 94
    }
   ],
   "metadata": {}
  }
 ],
 "metadata": {
  "orig_nbformat": 4,
  "language_info": {
   "name": "python",
   "version": "3.8.10",
   "mimetype": "text/x-python",
   "codemirror_mode": {
    "name": "ipython",
    "version": 3
   },
   "pygments_lexer": "ipython3",
   "nbconvert_exporter": "python",
   "file_extension": ".py"
  },
  "kernelspec": {
   "name": "python3",
   "display_name": "Python 3.8.10 64-bit ('base': conda)"
  },
  "interpreter": {
   "hash": "fe3bab233825460445dbfeea6dcd52ef5815a3fa13c858fea07ac830aa383284"
  }
 },
 "nbformat": 4,
 "nbformat_minor": 2
}