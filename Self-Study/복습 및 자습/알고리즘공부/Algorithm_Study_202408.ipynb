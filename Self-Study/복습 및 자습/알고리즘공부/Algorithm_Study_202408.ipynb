{
 "cells": [
  {
   "cell_type": "markdown",
   "metadata": {},
   "source": [
    "#### TEST"
   ]
  },
  {
   "cell_type": "code",
   "execution_count": 3,
   "metadata": {},
   "outputs": [
    {
     "name": "stdout",
     "output_type": "stream",
     "text": [
      "5\n"
     ]
    }
   ],
   "source": [
    "import sys\n",
    "a, b = map(int, input().split()) # map(int, sys.stdin.readline().split())\n",
    "print(a + b) "
   ]
  },
  {
   "cell_type": "markdown",
   "metadata": {},
   "source": [
    "#### 백준 10926번"
   ]
  },
  {
   "cell_type": "code",
   "execution_count": 4,
   "metadata": {},
   "outputs": [
    {
     "name": "stdout",
     "output_type": "stream",
     "text": [
      "test??!\n"
     ]
    }
   ],
   "source": [
    "import sys\n",
    "name = input() # sys.stdin.readline().strip()  \n",
    "print(f'{name}??!')"
   ]
  },
  {
   "cell_type": "markdown",
   "metadata": {},
   "source": [
    "#### 백준 25304번"
   ]
  },
  {
   "cell_type": "code",
   "execution_count": 7,
   "metadata": {},
   "outputs": [
    {
     "name": "stdout",
     "output_type": "stream",
     "text": [
      "Yes\n"
     ]
    }
   ],
   "source": [
    "import sys\n",
    "total = int(input()) # int(sys.stdin.readline().strip())\n",
    "n = int(input()) # int(sys.stdin.readline().strip())\n",
    "\n",
    "costs = 0\n",
    "for _ in range(n):\n",
    "    cost, cnt = map(int, input().split()) # map(int, sys.stdin.readline().split())\n",
    "    costs += cost*cnt\n",
    "\n",
    "if total == costs:\n",
    "    print(\"Yes\")\n",
    "else:\n",
    "    print(\"No\")"
   ]
  },
  {
   "cell_type": "markdown",
   "metadata": {},
   "source": [
    "#### 백준 25314번"
   ]
  },
  {
   "cell_type": "code",
   "execution_count": 1,
   "metadata": {},
   "outputs": [
    {
     "name": "stdout",
     "output_type": "stream",
     "text": [
      "long long long long long long long long int\n"
     ]
    }
   ],
   "source": [
    "import sys, math\n",
    "n = int(input()) # int(sys.stdin.readline().strip())\n",
    "print(f'{\"long \"* int(n/4)}int')"
   ]
  },
  {
   "cell_type": "markdown",
   "metadata": {},
   "source": [
    "#### 백준 10807번"
   ]
  },
  {
   "cell_type": "code",
   "execution_count": 16,
   "metadata": {},
   "outputs": [
    {
     "name": "stdout",
     "output_type": "stream",
     "text": [
      "0\n"
     ]
    }
   ],
   "source": [
    "import sys\n",
    "\n",
    "N = int(input()) # int(sys.stdin.readline().strip())\n",
    "arr = list(map(int, input().split())) # list(map(int, sys.stdin.readline().strip().split()))\n",
    "v = int(input()) # int(sys.stdin.readline().strip())\n",
    "dic = dict()\n",
    "\n",
    "for i in range(-100, 101, 1):\n",
    "    dic[i] = 0\n",
    "\n",
    "for num in arr:\n",
    "    dic[num] = dic[num]+1\n",
    "\n",
    "print(dic[v])"
   ]
  },
  {
   "cell_type": "markdown",
   "metadata": {},
   "source": [
    "#### 백준 10810번"
   ]
  },
  {
   "cell_type": "code",
   "execution_count": 20,
   "metadata": {},
   "outputs": [
    {
     "name": "stdout",
     "output_type": "stream",
     "text": [
      "1 2 1 1 0\n"
     ]
    }
   ],
   "source": [
    "import sys\n",
    "\n",
    "N, M = map(int, input().split()) # map(int, sys.stdin.readline().strip().split())\n",
    "dic = dict()\n",
    "\n",
    "for num in range(1, N+1):\n",
    "    dic[num] = 0\n",
    "\n",
    "for _ in range(M):\n",
    "    i, j, k = map(int, input().split()) # map(int, sys.stdin.readline().strip().split())\n",
    "    for t in range(i, j+1):\n",
    "        dic[t] = k\n",
    "\n",
    "for res in range(1, N+1):\n",
    "    if res == N:\n",
    "        print(dic[res])\n",
    "    else:\n",
    "        print(dic[res], end=' ')"
   ]
  },
  {
   "cell_type": "markdown",
   "metadata": {},
   "source": [
    "#### 백준 10813번"
   ]
  },
  {
   "cell_type": "code",
   "execution_count": 7,
   "metadata": {},
   "outputs": [
    {
     "name": "stdout",
     "output_type": "stream",
     "text": [
      "3 1 4 2 5\n"
     ]
    }
   ],
   "source": [
    "import sys\n",
    "\n",
    "N, M = map(int, input().split()) # map(int, sys.stdin.readline().strip().split())\n",
    "\n",
    "baskets = dict()\n",
    "for i in range(1, N+1):\n",
    "    baskets[i] = i\n",
    "\n",
    "for _ in range(M):\n",
    "    bs1, bs2 = map(int, input().split()) # map(int, sys.stdin.readline().strip().split())\n",
    "    b1 = baskets[bs1]\n",
    "    b2 = baskets[bs2]\n",
    "    baskets[bs2] = b1\n",
    "    baskets[bs1] = b2\n",
    "\n",
    "for t in range(1, N+1):\n",
    "    if t == N:\n",
    "        print(baskets[t])\n",
    "    else:\n",
    "        print(baskets[t], end=' ')"
   ]
  },
  {
   "cell_type": "markdown",
   "metadata": {},
   "source": [
    "#### 백준 5597번"
   ]
  },
  {
   "cell_type": "code",
   "execution_count": 16,
   "metadata": {},
   "outputs": [
    {
     "name": "stdout",
     "output_type": "stream",
     "text": [
      "2\n",
      "8\n"
     ]
    }
   ],
   "source": [
    "import sys\n",
    "\n",
    "numbers = [0 for _ in range(31)]\n",
    "\n",
    "for _ in range(28):\n",
    "    num = int(input()) # int(sys.stdin.readline().strip())\n",
    "    numbers[num] = 1\n",
    "\n",
    "for i in range(1, 31):\n",
    "    if numbers[i] == 0:\n",
    "        print(i)\n",
    "    else:\n",
    "        pass"
   ]
  },
  {
   "cell_type": "markdown",
   "metadata": {},
   "source": [
    "#### 백준 10811번"
   ]
  },
  {
   "cell_type": "code",
   "execution_count": 24,
   "metadata": {},
   "outputs": [
    {
     "name": "stdout",
     "output_type": "stream",
     "text": [
      "1 2 3 4\n"
     ]
    }
   ],
   "source": [
    "list = [1, 2, 3, 4]\n",
    "list2 = list.copy()\n",
    "print(*list2)"
   ]
  },
  {
   "cell_type": "code",
   "execution_count": 28,
   "metadata": {},
   "outputs": [
    {
     "name": "stdout",
     "output_type": "stream",
     "text": [
      "3 4 1 2 5\n"
     ]
    }
   ],
   "source": [
    "import sys\n",
    "\n",
    "M, N = map(int, input().split()) # map(int, sys.stdin.readline().strip().split())\n",
    "baskets = [i for i in range(M+1)]\n",
    "tmp_baskets_reverse = []\n",
    "\n",
    "for j in range(N):\n",
    "    bs1, bs2 = map(int, input().split()) # map(int, sys.stdin.readline().strip().split())    \n",
    "    for k in range(bs1, bs2+1):\n",
    "        tmp_baskets_reverse.append(baskets[k])\n",
    "    for t in range(bs1, bs2+1):\n",
    "        baskets[t] = tmp_baskets_reverse.pop()\n",
    "\n",
    "print(*baskets[1:])"
   ]
  },
  {
   "cell_type": "markdown",
   "metadata": {},
   "source": [
    "#### 백준 27866번"
   ]
  },
  {
   "cell_type": "code",
   "execution_count": 1,
   "metadata": {},
   "outputs": [
    {
     "name": "stdout",
     "output_type": "stream",
     "text": [
      "r\n"
     ]
    }
   ],
   "source": [
    "import sys\n",
    "\n",
    "S = input() # sys.stdin.readline().strip()\n",
    "i = int(input()) # int(sys.stdin.readline().strip())\n",
    "\n",
    "print(S[i-1])"
   ]
  },
  {
   "cell_type": "markdown",
   "metadata": {},
   "source": [
    "#### 백준 2743번"
   ]
  },
  {
   "cell_type": "code",
   "execution_count": 2,
   "metadata": {},
   "outputs": [
    {
     "name": "stdout",
     "output_type": "stream",
     "text": [
      "8\n"
     ]
    }
   ],
   "source": [
    "import sys\n",
    "\n",
    "print(len(input())) # print(len(sys.stdin.readline().strip()))"
   ]
  },
  {
   "cell_type": "markdown",
   "metadata": {},
   "source": [
    "#### 백준 9086번"
   ]
  },
  {
   "cell_type": "code",
   "execution_count": 4,
   "metadata": {},
   "outputs": [
    {
     "name": "stdout",
     "output_type": "stream",
     "text": [
      "oo\n"
     ]
    }
   ],
   "source": [
    "import sys\n",
    "\n",
    "T = int(input()) # int(sys.stdin.readline().strip())\n",
    "\n",
    "for _ in range(T):\n",
    "    S = input() # sys.stdin.readline().strip()\n",
    "    print(S[0], S[-1], sep='')"
   ]
  },
  {
   "cell_type": "markdown",
   "metadata": {},
   "source": [
    "#### 백준 11718번"
   ]
  },
  {
   "cell_type": "code",
   "execution_count": null,
   "metadata": {},
   "outputs": [],
   "source": [
    "import sys\n",
    "\n",
    "while True:\n",
    "    try:\n",
    "        S = input()\n",
    "        print(S)\n",
    "    except:\n",
    "        break"
   ]
  },
  {
   "cell_type": "markdown",
   "metadata": {},
   "source": [
    "#### 백준 25083번"
   ]
  },
  {
   "cell_type": "code",
   "execution_count": 22,
   "metadata": {},
   "outputs": [
    {
     "name": "stdout",
     "output_type": "stream",
     "text": [
      "         ,r'\"7\n",
      "r`-_   ,'  ,/\n",
      " \\. \". L_r'\n",
      "   `~\\/\n",
      "      |\n",
      "      |\n"
     ]
    }
   ],
   "source": [
    "print(r\"\"\"         ,r'\"7\n",
    "r`-_   ,'  ,/\n",
    " \\. \". L_r'\n",
    "   `~\\/\n",
    "      |\n",
    "      |\"\"\")"
   ]
  },
  {
   "cell_type": "markdown",
   "metadata": {},
   "source": [
    "#### 백준 3003번"
   ]
  },
  {
   "cell_type": "code",
   "execution_count": 30,
   "metadata": {},
   "outputs": [
    {
     "name": "stdout",
     "output_type": "stream",
     "text": [
      "1 0 0 0 0 1\n"
     ]
    }
   ],
   "source": [
    "import sys\n",
    "\n",
    "r = [1, 1, 2, 2, 2, 8]\n",
    "cp = 0\n",
    "\n",
    "for v in list(map(int, input().split())): # list(map(int, sys.stdin.readline().strip().split()))\n",
    "    r[cp] -= v\n",
    "    cp += 1\n",
    "\n",
    "print(*r)"
   ]
  },
  {
   "cell_type": "markdown",
   "metadata": {},
   "source": [
    "#### 백준 2444번"
   ]
  },
  {
   "cell_type": "code",
   "execution_count": 43,
   "metadata": {},
   "outputs": [
    {
     "name": "stdout",
     "output_type": "stream",
     "text": [
      "    *\n",
      "   ***\n",
      "  *****\n",
      " *******\n",
      "*********\n",
      " *******\n",
      "  *****\n",
      "   ***\n",
      "    *\n"
     ]
    }
   ],
   "source": [
    "import sys\n",
    "\n",
    "N = int(input()) # int(sys.stdin.readline().strip())\n",
    "\n",
    "if N == 1:\n",
    "    print('*')\n",
    "else:\n",
    "    stars_1 = []\n",
    "    stars_2 = []\n",
    "    for i in range(1, N+1):\n",
    "        star1 = (' '*(N-i))+('*'*((i*2)-1))\n",
    "        stars_1.append(star1)\n",
    "        if i != N:\n",
    "            star2 = (' '*(i))+('*'*(((N-i)*2)-1))\n",
    "            stars_2.append(star2)\n",
    "    print(*stars_1, *stars_2, sep='\\n')     "
   ]
  },
  {
   "cell_type": "markdown",
   "metadata": {},
   "source": [
    "#### 백준 10988번"
   ]
  },
  {
   "cell_type": "code",
   "execution_count": 47,
   "metadata": {},
   "outputs": [
    {
     "name": "stdout",
     "output_type": "stream",
     "text": [
      "0\n"
     ]
    }
   ],
   "source": [
    "import sys\n",
    "\n",
    "def check_palindrome(list1, list2):\n",
    "    cp0 = -1\n",
    "    cp1 = 0\n",
    "    cp2 = -1\n",
    "    for _ in range(len(list1)):\n",
    "        if list1[cp1] != list2[cp2]:\n",
    "            cp0 = 0\n",
    "            return cp0\n",
    "        else:\n",
    "            cp0 = 1\n",
    "            cp1 += 1\n",
    "            cp2 -= 1\n",
    "    return cp0\n",
    "\n",
    "S = input() # sys.stdin.readline().strip()\n",
    "length = len(S)\n",
    "\n",
    "if length == 1:\n",
    "    print(1)\n",
    "elif length%2 == 1: # 입력받은 문자열의 길이가 홀수일 경우\n",
    "    l1 = list(S[:length//2]) \n",
    "    l2 = list(S[length//2+1:])\n",
    "    print(check_palindrome(l1, l2))\n",
    "else: # 입력받은 문자열의 길이가 짝수일 경우\n",
    "    l1 = list(S[:length//2]) \n",
    "    l2 = list(S[length//2:])\n",
    "    print(check_palindrome(l1, l2))"
   ]
  },
  {
   "cell_type": "markdown",
   "metadata": {},
   "source": [
    "#### 백준 25206번"
   ]
  },
  {
   "cell_type": "code",
   "execution_count": 4,
   "metadata": {},
   "outputs": [
    {
     "name": "stdout",
     "output_type": "stream",
     "text": [
      "3.2844827586206895\n"
     ]
    }
   ],
   "source": [
    "import sys\n",
    "\n",
    "grades = {\n",
    "    'A+': 4.5\n",
    "  , 'A0': 4.0\n",
    "  , 'B+': 3.5\n",
    "  , 'B0': 3.0\n",
    "  , 'C+': 2.5\n",
    "  , 'C0': 2.0\n",
    "  , 'D+': 1.5\n",
    "  , 'D0': 1.0\n",
    "  , 'F': 0.0\n",
    "}\n",
    "chihoon = []\n",
    "total = 0\n",
    "chi_r = 0\n",
    "\n",
    "for _ in range(20):\n",
    "    S, G, R = input().split() # sys.stdin.readline().strip().split()\n",
    "    if R != 'P':\n",
    "        total += float(G)\n",
    "        chi_r += (float(G)*grades[R])\n",
    "\n",
    "print(chi_r/total)"
   ]
  },
  {
   "cell_type": "markdown",
   "metadata": {},
   "source": [
    "#### 백준 2738번"
   ]
  },
  {
   "cell_type": "code",
   "execution_count": 14,
   "metadata": {},
   "outputs": [
    {
     "name": "stdout",
     "output_type": "stream",
     "text": [
      "[[4, 4, 4], [6, 6, 6], [5, 6, 100]]\n"
     ]
    }
   ],
   "source": [
    "import sys\n",
    "\n",
    "N, M = map(int, input().split()) # map(int, sys.stdin.readline().strip().split())\n",
    "\n",
    "arr = []\n",
    "\n",
    "for i in range(N*2):\n",
    "    if i < N:\n",
    "        arr.append(list(map(int, input().split()))) # arr.append(list(map(int, sys.stdin.readline().strip().split())))\n",
    "\n",
    "    else:\n",
    "        temp = list(map(int, input().split())) # list(map(int, sys.stdin.readline().strip().split()))\n",
    "        for t in range(M):\n",
    "            arr[i-N][t] += temp[t]\n",
    "\n",
    "for arr1 in arr:\n",
    "    print(*arr1)"
   ]
  },
  {
   "cell_type": "code",
   "execution_count": 18,
   "metadata": {},
   "outputs": [
    {
     "name": "stdout",
     "output_type": "stream",
     "text": [
      "4 4 4\n",
      "6 6 6\n",
      "5 6 100\n"
     ]
    }
   ],
   "source": []
  }
 ],
 "metadata": {
  "kernelspec": {
   "display_name": "Python 3",
   "language": "python",
   "name": "python3"
  },
  "language_info": {
   "codemirror_mode": {
    "name": "ipython",
    "version": 3
   },
   "file_extension": ".py",
   "mimetype": "text/x-python",
   "name": "python",
   "nbconvert_exporter": "python",
   "pygments_lexer": "ipython3",
   "version": "3.12.4"
  }
 },
 "nbformat": 4,
 "nbformat_minor": 2
}
