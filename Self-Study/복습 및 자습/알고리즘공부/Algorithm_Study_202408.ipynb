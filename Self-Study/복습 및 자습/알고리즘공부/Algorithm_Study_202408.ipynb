{
 "cells": [
  {
   "cell_type": "markdown",
   "metadata": {},
   "source": [
    "#### TEST"
   ]
  },
  {
   "cell_type": "code",
   "execution_count": 3,
   "metadata": {},
   "outputs": [
    {
     "name": "stdout",
     "output_type": "stream",
     "text": [
      "5\n"
     ]
    }
   ],
   "source": [
    "import sys\n",
    "a, b = map(int, input().split()) # map(int, sys.stdin.readline().split())\n",
    "print(a + b) "
   ]
  },
  {
   "cell_type": "markdown",
   "metadata": {},
   "source": [
    "#### 백준 10926번"
   ]
  },
  {
   "cell_type": "code",
   "execution_count": 4,
   "metadata": {},
   "outputs": [
    {
     "name": "stdout",
     "output_type": "stream",
     "text": [
      "test??!\n"
     ]
    }
   ],
   "source": [
    "import sys\n",
    "name = input() # sys.stdin.readline().strip()  \n",
    "print(f'{name}??!')"
   ]
  },
  {
   "cell_type": "markdown",
   "metadata": {},
   "source": [
    "#### 백준 25304번"
   ]
  },
  {
   "cell_type": "code",
   "execution_count": 7,
   "metadata": {},
   "outputs": [
    {
     "name": "stdout",
     "output_type": "stream",
     "text": [
      "Yes\n"
     ]
    }
   ],
   "source": [
    "import sys\n",
    "total = int(input()) # int(sys.stdin.readline().strip())\n",
    "n = int(input()) # int(sys.stdin.readline().strip())\n",
    "\n",
    "costs = 0\n",
    "for _ in range(n):\n",
    "    cost, cnt = map(int, input().split()) # map(int, sys.stdin.readline().split())\n",
    "    costs += cost*cnt\n",
    "\n",
    "if total == costs:\n",
    "    print(\"Yes\")\n",
    "else:\n",
    "    print(\"No\")"
   ]
  },
  {
   "cell_type": "markdown",
   "metadata": {},
   "source": [
    "#### 백준 25314번"
   ]
  },
  {
   "cell_type": "code",
   "execution_count": 1,
   "metadata": {},
   "outputs": [
    {
     "name": "stdout",
     "output_type": "stream",
     "text": [
      "long long long long long long long long int\n"
     ]
    }
   ],
   "source": [
    "import sys, math\n",
    "n = int(input()) # int(sys.stdin.readline().strip())\n",
    "print(f'{\"long \"* int(n/4)}int')"
   ]
  },
  {
   "cell_type": "markdown",
   "metadata": {},
   "source": [
    "#### 백준 10807번"
   ]
  },
  {
   "cell_type": "code",
   "execution_count": 16,
   "metadata": {},
   "outputs": [
    {
     "name": "stdout",
     "output_type": "stream",
     "text": [
      "0\n"
     ]
    }
   ],
   "source": [
    "import sys\n",
    "\n",
    "N = int(input()) # int(sys.stdin.readline().strip())\n",
    "arr = list(map(int, input().split())) # list(map(int, sys.stdin.readline().strip().split()))\n",
    "v = int(input()) # int(sys.stdin.readline().strip())\n",
    "dic = dict()\n",
    "\n",
    "for i in range(-100, 101, 1):\n",
    "    dic[i] = 0\n",
    "\n",
    "for num in arr:\n",
    "    dic[num] = dic[num]+1\n",
    "\n",
    "print(dic[v])"
   ]
  },
  {
   "cell_type": "markdown",
   "metadata": {},
   "source": [
    "#### 백준 10810번"
   ]
  },
  {
   "cell_type": "code",
   "execution_count": 20,
   "metadata": {},
   "outputs": [
    {
     "name": "stdout",
     "output_type": "stream",
     "text": [
      "1 2 1 1 0\n"
     ]
    }
   ],
   "source": [
    "import sys\n",
    "\n",
    "N, M = map(int, input().split()) # map(int, sys.stdin.readline().strip().split())\n",
    "dic = dict()\n",
    "\n",
    "for num in range(1, N+1):\n",
    "    dic[num] = 0\n",
    "\n",
    "for _ in range(M):\n",
    "    i, j, k = map(int, input().split()) # map(int, sys.stdin.readline().strip().split())\n",
    "    for t in range(i, j+1):\n",
    "        dic[t] = k\n",
    "\n",
    "for res in range(1, N+1):\n",
    "    if res == N:\n",
    "        print(dic[res])\n",
    "    else:\n",
    "        print(dic[res], end=' ')"
   ]
  },
  {
   "cell_type": "markdown",
   "metadata": {},
   "source": [
    "#### 백준 10813번"
   ]
  },
  {
   "cell_type": "code",
   "execution_count": 7,
   "metadata": {},
   "outputs": [
    {
     "name": "stdout",
     "output_type": "stream",
     "text": [
      "3 1 4 2 5\n"
     ]
    }
   ],
   "source": [
    "import sys\n",
    "\n",
    "N, M = map(int, input().split()) # map(int, sys.stdin.readline().strip().split())\n",
    "\n",
    "baskets = dict()\n",
    "for i in range(1, N+1):\n",
    "    baskets[i] = i\n",
    "\n",
    "for _ in range(M):\n",
    "    bs1, bs2 = map(int, input().split()) # map(int, sys.stdin.readline().strip().split())\n",
    "    b1 = baskets[bs1]\n",
    "    b2 = baskets[bs2]\n",
    "    baskets[bs2] = b1\n",
    "    baskets[bs1] = b2\n",
    "\n",
    "for t in range(1, N+1):\n",
    "    if t == N:\n",
    "        print(baskets[t])\n",
    "    else:\n",
    "        print(baskets[t], end=' ')"
   ]
  },
  {
   "cell_type": "markdown",
   "metadata": {},
   "source": [
    "#### 백준 5597번"
   ]
  },
  {
   "cell_type": "code",
   "execution_count": 16,
   "metadata": {},
   "outputs": [
    {
     "name": "stdout",
     "output_type": "stream",
     "text": [
      "2\n",
      "8\n"
     ]
    }
   ],
   "source": [
    "import sys\n",
    "\n",
    "numbers = [0 for _ in range(31)]\n",
    "\n",
    "for _ in range(28):\n",
    "    num = int(input()) # int(sys.stdin.readline().strip())\n",
    "    numbers[num] = 1\n",
    "\n",
    "for i in range(1, 31):\n",
    "    if numbers[i] == 0:\n",
    "        print(i)\n",
    "    else:\n",
    "        pass"
   ]
  },
  {
   "cell_type": "markdown",
   "metadata": {},
   "source": [
    "#### 백준 10811번"
   ]
  },
  {
   "cell_type": "code",
   "execution_count": 24,
   "metadata": {},
   "outputs": [
    {
     "name": "stdout",
     "output_type": "stream",
     "text": [
      "1 2 3 4\n"
     ]
    }
   ],
   "source": [
    "list = [1, 2, 3, 4]\n",
    "list2 = list.copy()\n",
    "print(*list2)"
   ]
  },
  {
   "cell_type": "code",
   "execution_count": 28,
   "metadata": {},
   "outputs": [
    {
     "name": "stdout",
     "output_type": "stream",
     "text": [
      "3 4 1 2 5\n"
     ]
    }
   ],
   "source": [
    "import sys\n",
    "\n",
    "M, N = map(int, input().split()) # map(int, sys.stdin.readline().strip().split())\n",
    "baskets = [i for i in range(M+1)]\n",
    "tmp_baskets_reverse = []\n",
    "\n",
    "for j in range(N):\n",
    "    bs1, bs2 = map(int, input().split()) # map(int, sys.stdin.readline().strip().split())    \n",
    "    for k in range(bs1, bs2+1):\n",
    "        tmp_baskets_reverse.append(baskets[k])\n",
    "    for t in range(bs1, bs2+1):\n",
    "        baskets[t] = tmp_baskets_reverse.pop()\n",
    "\n",
    "print(*baskets[1:])"
   ]
  }
 ],
 "metadata": {
  "kernelspec": {
   "display_name": "Python 3",
   "language": "python",
   "name": "python3"
  },
  "language_info": {
   "codemirror_mode": {
    "name": "ipython",
    "version": 3
   },
   "file_extension": ".py",
   "mimetype": "text/x-python",
   "name": "python",
   "nbconvert_exporter": "python",
   "pygments_lexer": "ipython3",
   "version": "3.12.4"
  }
 },
 "nbformat": 4,
 "nbformat_minor": 2
}
