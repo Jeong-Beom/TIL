{
 "cells": [
  {
   "cell_type": "markdown",
   "metadata": {},
   "source": [
    "#### TEST"
   ]
  },
  {
   "cell_type": "code",
   "execution_count": 3,
   "metadata": {},
   "outputs": [
    {
     "name": "stdout",
     "output_type": "stream",
     "text": [
      "5\n"
     ]
    }
   ],
   "source": [
    "import sys\n",
    "a, b = map(int, input().split()) # map(int, sys.stdin.readline().split())\n",
    "print(a + b) "
   ]
  },
  {
   "cell_type": "markdown",
   "metadata": {},
   "source": [
    "#### 백준 10926번"
   ]
  },
  {
   "cell_type": "code",
   "execution_count": 4,
   "metadata": {},
   "outputs": [
    {
     "name": "stdout",
     "output_type": "stream",
     "text": [
      "test??!\n"
     ]
    }
   ],
   "source": [
    "import sys\n",
    "name = input() # sys.stdin.readline().strip()  \n",
    "print(f'{name}??!')"
   ]
  },
  {
   "cell_type": "markdown",
   "metadata": {},
   "source": [
    "#### 백준 25304번"
   ]
  },
  {
   "cell_type": "code",
   "execution_count": 7,
   "metadata": {},
   "outputs": [
    {
     "name": "stdout",
     "output_type": "stream",
     "text": [
      "Yes\n"
     ]
    }
   ],
   "source": [
    "import sys\n",
    "total = int(input()) # int(sys.stdin.readline().strip())\n",
    "n = int(input()) # int(sys.stdin.readline().strip())\n",
    "\n",
    "costs = 0\n",
    "for _ in range(n):\n",
    "    cost, cnt = map(int, input().split()) # map(int, sys.stdin.readline().split())\n",
    "    costs += cost*cnt\n",
    "\n",
    "if total == costs:\n",
    "    print(\"Yes\")\n",
    "else:\n",
    "    print(\"No\")"
   ]
  },
  {
   "cell_type": "markdown",
   "metadata": {},
   "source": [
    "#### 백준 25314번"
   ]
  },
  {
   "cell_type": "code",
   "execution_count": 1,
   "metadata": {},
   "outputs": [
    {
     "name": "stdout",
     "output_type": "stream",
     "text": [
      "long long long long long long long long int\n"
     ]
    }
   ],
   "source": [
    "import sys, math\n",
    "n = int(input()) # int(sys.stdin.readline().strip())\n",
    "print(f'{\"long \"* int(n/4)}int')"
   ]
  },
  {
   "cell_type": "markdown",
   "metadata": {},
   "source": [
    "#### 백준 10807번"
   ]
  },
  {
   "cell_type": "code",
   "execution_count": 16,
   "metadata": {},
   "outputs": [
    {
     "name": "stdout",
     "output_type": "stream",
     "text": [
      "0\n"
     ]
    }
   ],
   "source": [
    "import sys\n",
    "\n",
    "N = int(input()) # int(sys.stdin.readline().strip())\n",
    "arr = list(map(int, input().split())) # list(map(int, sys.stdin.readline().strip().split()))\n",
    "v = int(input()) # int(sys.stdin.readline().strip())\n",
    "dic = dict()\n",
    "\n",
    "for i in range(-100, 101, 1):\n",
    "    dic[i] = 0\n",
    "\n",
    "for num in arr:\n",
    "    dic[num] = dic[num]+1\n",
    "\n",
    "print(dic[v])"
   ]
  },
  {
   "cell_type": "markdown",
   "metadata": {},
   "source": [
    "#### 백준 10810번"
   ]
  },
  {
   "cell_type": "code",
   "execution_count": 20,
   "metadata": {},
   "outputs": [
    {
     "name": "stdout",
     "output_type": "stream",
     "text": [
      "1 2 1 1 0\n"
     ]
    }
   ],
   "source": [
    "import sys\n",
    "\n",
    "N, M = map(int, input().split()) # map(int, sys.stdin.readline().strip().split())\n",
    "dic = dict()\n",
    "\n",
    "for num in range(1, N+1):\n",
    "    dic[num] = 0\n",
    "\n",
    "for _ in range(M):\n",
    "    i, j, k = map(int, input().split()) # map(int, sys.stdin.readline().strip().split())\n",
    "    for t in range(i, j+1):\n",
    "        dic[t] = k\n",
    "\n",
    "for res in range(1, N+1):\n",
    "    if res == N:\n",
    "        print(dic[res])\n",
    "    else:\n",
    "        print(dic[res], end=' ')"
   ]
  }
 ],
 "metadata": {
  "kernelspec": {
   "display_name": "Python 3",
   "language": "python",
   "name": "python3"
  },
  "language_info": {
   "codemirror_mode": {
    "name": "ipython",
    "version": 3
   },
   "file_extension": ".py",
   "mimetype": "text/x-python",
   "name": "python",
   "nbconvert_exporter": "python",
   "pygments_lexer": "ipython3",
   "version": "3.12.4"
  }
 },
 "nbformat": 4,
 "nbformat_minor": 2
}
