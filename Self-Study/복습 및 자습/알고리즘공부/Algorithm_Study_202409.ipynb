{
 "cells": [
  {
   "cell_type": "markdown",
   "metadata": {},
   "source": [
    "#### 백준 10101번"
   ]
  },
  {
   "cell_type": "code",
   "execution_count": 7,
   "metadata": {},
   "outputs": [
    {
     "name": "stdout",
     "output_type": "stream",
     "text": [
      "Isosceles\n"
     ]
    }
   ],
   "source": [
    "import sys\n",
    "\n",
    "angle1 = int(input()) # int(sys.stdin.readline().strip())\n",
    "angle2 = int(input()) # int(sys.stdin.readline().strip())\n",
    "angle3 = int(input()) # int(sys.stdin.readline().strip())\n",
    "\n",
    "total = angle1 + angle2 + angle3\n",
    "\n",
    "if total == 180:\n",
    "    if angle1 == angle2 and angle2 == angle3:\n",
    "        print('Equilateral')\n",
    "    elif angle1 == angle2 or angle1 == angle3 or angle2 == angle3:     \n",
    "        print('Isosceles')\n",
    "    else:\n",
    "        print('Scalene')\n",
    "else:\n",
    "    print('Error')"
   ]
  },
  {
   "cell_type": "markdown",
   "metadata": {},
   "source": [
    "#### 백준 5073번"
   ]
  },
  {
   "cell_type": "code",
   "execution_count": 18,
   "metadata": {},
   "outputs": [
    {
     "name": "stdout",
     "output_type": "stream",
     "text": [
      "Equilateral\n",
      "Scalene\n",
      "Invalid\n",
      "Isosceles\n"
     ]
    }
   ],
   "source": [
    "import sys\n",
    "\n",
    "while True:\n",
    "    side1, side2, side3 = map(int, input().split()) # map(int, sys.stdin.readline().strip().split())\n",
    "    half_total = (side1 + side2 + side3) / 2 \n",
    "\n",
    "    if side1 == 0 and side2 == 0 and side3 == 0:\n",
    "        break\n",
    "\n",
    "    if half_total <= side1 or half_total <= side2 or half_total <= side3:\n",
    "        print('Invalid')\n",
    "    else:\n",
    "        if side1 == side2 and side2 == side3:\n",
    "            print('Equilateral')\n",
    "        elif side1 == side2 or side1 == side3 or side2 == side3:\n",
    "            print('Isosceles')\n",
    "        else:\n",
    "            print('Scalene')"
   ]
  },
  {
   "cell_type": "markdown",
   "metadata": {},
   "source": [
    "#### 백준 14215번"
   ]
  },
  {
   "cell_type": "code",
   "execution_count": 39,
   "metadata": {},
   "outputs": [
    {
     "name": "stdout",
     "output_type": "stream",
     "text": [
      "113\n"
     ]
    }
   ],
   "source": [
    "import sys\n",
    "\n",
    "side1, side2, side3 = map(int, input().split()) # map(int, sys.stdin.readline().strip().split())\n",
    "tmp = [side1, side2, side3]\n",
    "tmp.sort()\n",
    "\n",
    "two_sides = tmp[0] + tmp[1]\n",
    "long_side = tmp[2]\n",
    "\n",
    "if two_sides <= long_side:\n",
    "    print(two_sides*2-1)\n",
    "else:\n",
    "    print(two_sides+long_side)"
   ]
  }
 ],
 "metadata": {
  "kernelspec": {
   "display_name": "Python 3",
   "language": "python",
   "name": "python3"
  },
  "language_info": {
   "codemirror_mode": {
    "name": "ipython",
    "version": 3
   },
   "file_extension": ".py",
   "mimetype": "text/x-python",
   "name": "python",
   "nbconvert_exporter": "python",
   "pygments_lexer": "ipython3",
   "version": "3.12.4"
  }
 },
 "nbformat": 4,
 "nbformat_minor": 2
}
