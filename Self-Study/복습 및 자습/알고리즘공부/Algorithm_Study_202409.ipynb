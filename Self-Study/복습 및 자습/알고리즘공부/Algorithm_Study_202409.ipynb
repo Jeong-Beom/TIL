{
 "cells": [
  {
   "cell_type": "markdown",
   "metadata": {},
   "source": [
    "#### 백준 10101번"
   ]
  },
  {
   "cell_type": "code",
   "execution_count": 7,
   "metadata": {},
   "outputs": [
    {
     "name": "stdout",
     "output_type": "stream",
     "text": [
      "Isosceles\n"
     ]
    }
   ],
   "source": [
    "import sys\n",
    "\n",
    "angle1 = int(input()) # int(sys.stdin.readline().strip())\n",
    "angle2 = int(input()) # int(sys.stdin.readline().strip())\n",
    "angle3 = int(input()) # int(sys.stdin.readline().strip())\n",
    "\n",
    "total = angle1 + angle2 + angle3\n",
    "\n",
    "if total == 180:\n",
    "    if angle1 == angle2 and angle2 == angle3:\n",
    "        print('Equilateral')\n",
    "    elif angle1 == angle2 or angle1 == angle3 or angle2 == angle3:     \n",
    "        print('Isosceles')\n",
    "    else:\n",
    "        print('Scalene')\n",
    "else:\n",
    "    print('Error')"
   ]
  },
  {
   "cell_type": "markdown",
   "metadata": {},
   "source": [
    "#### 백준 5073번"
   ]
  },
  {
   "cell_type": "code",
   "execution_count": 18,
   "metadata": {},
   "outputs": [
    {
     "name": "stdout",
     "output_type": "stream",
     "text": [
      "Equilateral\n",
      "Scalene\n",
      "Invalid\n",
      "Isosceles\n"
     ]
    }
   ],
   "source": [
    "import sys\n",
    "\n",
    "while True:\n",
    "    side1, side2, side3 = map(int, input().split()) # map(int, sys.stdin.readline().strip().split())\n",
    "    half_total = (side1 + side2 + side3) / 2 \n",
    "\n",
    "    if side1 == 0 and side2 == 0 and side3 == 0:\n",
    "        break\n",
    "\n",
    "    if half_total <= side1 or half_total <= side2 or half_total <= side3:\n",
    "        print('Invalid')\n",
    "    else:\n",
    "        if side1 == side2 and side2 == side3:\n",
    "            print('Equilateral')\n",
    "        elif side1 == side2 or side1 == side3 or side2 == side3:\n",
    "            print('Isosceles')\n",
    "        else:\n",
    "            print('Scalene')"
   ]
  },
  {
   "cell_type": "markdown",
   "metadata": {},
   "source": [
    "#### 백준 14215번"
   ]
  },
  {
   "cell_type": "code",
   "execution_count": 39,
   "metadata": {},
   "outputs": [
    {
     "name": "stdout",
     "output_type": "stream",
     "text": [
      "113\n"
     ]
    }
   ],
   "source": [
    "import sys\n",
    "\n",
    "side1, side2, side3 = map(int, input().split()) # map(int, sys.stdin.readline().strip().split())\n",
    "tmp = [side1, side2, side3]\n",
    "tmp.sort()\n",
    "\n",
    "two_sides = tmp[0] + tmp[1]\n",
    "long_side = tmp[2]\n",
    "\n",
    "if two_sides <= long_side:\n",
    "    print(two_sides*2-1)\n",
    "else:\n",
    "    print(two_sides+long_side)"
   ]
  },
  {
   "cell_type": "markdown",
   "metadata": {},
   "source": [
    "#### 백준 24262번"
   ]
  },
  {
   "cell_type": "code",
   "execution_count": 41,
   "metadata": {},
   "outputs": [
    {
     "name": "stdout",
     "output_type": "stream",
     "text": [
      "1\n",
      "0\n"
     ]
    }
   ],
   "source": [
    "import sys\n",
    "\n",
    "print(1, 0, sep='\\n')"
   ]
  },
  {
   "cell_type": "markdown",
   "metadata": {},
   "source": [
    "#### 백준 24263번"
   ]
  },
  {
   "cell_type": "code",
   "execution_count": 42,
   "metadata": {},
   "outputs": [
    {
     "name": "stdout",
     "output_type": "stream",
     "text": [
      "7\n",
      "1\n"
     ]
    }
   ],
   "source": [
    "import sys\n",
    "\n",
    "n = int(input()) # int(sys.stdin.readline().strip())\n",
    "print(n, 1, sep='\\n')"
   ]
  },
  {
   "cell_type": "markdown",
   "metadata": {},
   "source": [
    "#### 백준 24264번"
   ]
  },
  {
   "cell_type": "code",
   "execution_count": 43,
   "metadata": {},
   "outputs": [
    {
     "name": "stdout",
     "output_type": "stream",
     "text": [
      "49\n",
      "2\n"
     ]
    }
   ],
   "source": [
    "import sys\n",
    "\n",
    "n = int(input()) # int(sys.stdin.readline().strip())\n",
    "print(n**2, 2, sep='\\n')"
   ]
  },
  {
   "cell_type": "markdown",
   "metadata": {},
   "source": [
    "#### 백준 24265번"
   ]
  },
  {
   "cell_type": "code",
   "execution_count": 26,
   "metadata": {},
   "outputs": [
    {
     "name": "stdout",
     "output_type": "stream",
     "text": [
      "0 2\n"
     ]
    }
   ],
   "source": [
    "import sys\n",
    "\n",
    "n = int(input())-1 # int(sys.stdin.readline().strip())-1\n",
    "print((n**2+n)//2, 2)"
   ]
  },
  {
   "cell_type": "markdown",
   "metadata": {},
   "source": [
    "#### 백준 24266번"
   ]
  },
  {
   "cell_type": "code",
   "execution_count": 16,
   "metadata": {},
   "outputs": [
    {
     "name": "stdout",
     "output_type": "stream",
     "text": [
      "343\n",
      "3\n"
     ]
    }
   ],
   "source": [
    "import sys\n",
    "\n",
    "n = int(input()) # int(sys.stdin.readline().strip())\n",
    "print(n**3, 3, sep='\\n')"
   ]
  },
  {
   "cell_type": "markdown",
   "metadata": {},
   "source": [
    "#### 백준 24267번"
   ]
  },
  {
   "cell_type": "code",
   "execution_count": 40,
   "metadata": {},
   "outputs": [
    {
     "name": "stdout",
     "output_type": "stream",
     "text": [
      "35\n",
      "3\n"
     ]
    }
   ],
   "source": [
    "import sys\n",
    "\n",
    "n = int(input()) # int(sys.stdin.readline().strip())\n",
    "print((n*(n-1)*(n-2))//6, 3, sep='\\n')"
   ]
  },
  {
   "cell_type": "markdown",
   "metadata": {},
   "source": [
    "#### 백준 24313번"
   ]
  },
  {
   "cell_type": "code",
   "execution_count": 64,
   "metadata": {},
   "outputs": [
    {
     "name": "stdout",
     "output_type": "stream",
     "text": [
      "0\n"
     ]
    }
   ],
   "source": [
    "import sys\n",
    "\n",
    "a1, a0 = map(int, input().split()) # map(int, sys.stdin.readline().strip().split())\n",
    "c = int(input()) # int(sys.stdin.readline().strip())\n",
    "n0 = int(input()) # int(sys.stdin.readline().strip())\n",
    "\n",
    "if a1*n0 + a0 <= c*n0 and a1*99999 + a0 <= c*99999:\n",
    "    print(1)\n",
    "else:\n",
    "    print(0)"
   ]
  }
 ],
 "metadata": {
  "kernelspec": {
   "display_name": "Python 3",
   "language": "python",
   "name": "python3"
  },
  "language_info": {
   "codemirror_mode": {
    "name": "ipython",
    "version": 3
   },
   "file_extension": ".py",
   "mimetype": "text/x-python",
   "name": "python",
   "nbconvert_exporter": "python",
   "pygments_lexer": "ipython3",
   "version": "3.12.4"
  }
 },
 "nbformat": 4,
 "nbformat_minor": 2
}
