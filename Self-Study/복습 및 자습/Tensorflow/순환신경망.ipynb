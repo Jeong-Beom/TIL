{
 "cells": [
  {
   "cell_type": "markdown",
   "metadata": {},
   "source": [
    "순환신경망(RNN: Recurrent Neural Network)\n",
    "음성인식 또는 문장번역시 사용가능 / 시계열데이터 예측 가능\n",
    "주요개념 : Embedding, SimpleRNN, LSTM, Conv1D"
   ]
  },
  {
   "cell_type": "code",
   "execution_count": 1,
   "metadata": {},
   "outputs": [
    {
     "name": "stdout",
     "output_type": "stream",
     "text": [
      "{'<OOV>': 1, 'you': 2, 'are': 3, 'the': 4, 'best': 5, 'nice': 6}\n",
      "------------------------------------------------------------------\n",
      "sequences: [[2, 3, 4, 5], [2, 3, 4, 6]]\n",
      "\n",
      "binary_vectors:\n",
      " [[0. 0. 1. 1. 1. 1. 0. 0. 0. 0.]\n",
      " [0. 0. 1. 1. 1. 0. 1. 0. 0. 0.]]\n",
      "\n",
      "test sequences: [[2, 3, 4, 1]]\n"
     ]
    }
   ],
   "source": [
    "# Embedding층 : 단어(또는 데이터)를 벡터형태로 표현할 수 있음 -> 텍스트 분류의 가장 기본적인 층\n",
    "from tensorflow.keras.preprocessing.text import Tokenizer\n",
    "from tensorflow.keras.utils import to_categorical\n",
    "\n",
    "texts = ['You are the Best', 'You are the Nice']\n",
    "tokenizer = Tokenizer(num_words = 10, oov_token = '<OOV>')\n",
    "tokenizer.fit_on_texts(texts)\n",
    "\n",
    "# 텍스트 데이터를 정수 인덱스 형태로 변환\n",
    "sequences = tokenizer.texts_to_sequences(texts)\n",
    "\n",
    "# 이진형태로 인코딩\n",
    "binary_results = tokenizer.sequences_to_matrix(sequences, mode = 'binary')\n",
    "\n",
    "print(tokenizer.word_index)\n",
    "print('------------------------------------------------------------------')\n",
    "\n",
    "print(f'sequences: {sequences}\\n')\n",
    "print((f'binary_vectors:\\n {binary_results}\\n'))\n",
    "\n",
    "test_text = ['You are the One']\n",
    "test_sq = tokenizer.texts_to_sequences(test_text)\n",
    "\n",
    "print(f'test sequences: {test_sq}')"
   ]
  },
  {
   "cell_type": "code",
   "execution_count": 2,
   "metadata": {},
   "outputs": [
    {
     "name": "stderr",
     "output_type": "stream",
     "text": [
      "<__array_function__ internals>:5: VisibleDeprecationWarning: Creating an ndarray from ragged nested sequences (which is a list-or-tuple of lists-or-tuples-or ndarrays with different lengths or shapes) is deprecated. If you meant to do this, you must specify 'dtype=object' when creating the ndarray\n",
      "C:\\Users\\Bestc\\AppData\\Roaming\\Python\\Python38\\site-packages\\tensorflow\\python\\keras\\datasets\\imdb.py:159: VisibleDeprecationWarning: Creating an ndarray from ragged nested sequences (which is a list-or-tuple of lists-or-tuples-or ndarrays with different lengths or shapes) is deprecated. If you meant to do this, you must specify 'dtype=object' when creating the ndarray\n",
      "  x_train, y_train = np.array(xs[:idx]), np.array(labels[:idx])\n",
      "C:\\Users\\Bestc\\AppData\\Roaming\\Python\\Python38\\site-packages\\tensorflow\\python\\keras\\datasets\\imdb.py:160: VisibleDeprecationWarning: Creating an ndarray from ragged nested sequences (which is a list-or-tuple of lists-or-tuples-or ndarrays with different lengths or shapes) is deprecated. If you meant to do this, you must specify 'dtype=object' when creating the ndarray\n",
      "  x_test, y_test = np.array(xs[idx:]), np.array(labels[idx:])\n"
     ]
    }
   ],
   "source": [
    "from tensorflow.keras.datasets import imdb\n",
    "\n",
    "num_words = 10000\n",
    "(X_train, y_train), (X_test, y_test) = imdb.load_data(num_words = num_words)"
   ]
  },
  {
   "cell_type": "code",
   "execution_count": 3,
   "metadata": {},
   "outputs": [
    {
     "name": "stdout",
     "output_type": "stream",
     "text": [
      "(25000,) (25000,)\n",
      "(25000,) (25000,)\n"
     ]
    }
   ],
   "source": [
    "# 데이터 형태확인\n",
    "print(X_train.shape, y_train.shape)\n",
    "print(X_test.shape, y_test.shape)"
   ]
  },
  {
   "cell_type": "code",
   "execution_count": 4,
   "metadata": {},
   "outputs": [
    {
     "name": "stdout",
     "output_type": "stream",
     "text": [
      "Before pad_sequences:  218\n",
      "After pad_sequences:  500\n"
     ]
    }
   ],
   "source": [
    "# imdb데이터는 이미 인코딩이 완료되어 있음.\n",
    "# 데이터를 동일한 길이로 맞추기\n",
    "from tensorflow.keras.preprocessing.sequence import pad_sequences\n",
    "max_len = 500\n",
    "print('Before pad_sequences: ', len(X_train[0]))\n",
    "\n",
    "pad_X_train = pad_sequences(X_train, maxlen = max_len, padding = 'pre')\n",
    "pad_X_test = pad_sequences(X_test, maxlen = max_len, padding = 'pre')\n",
    "\n",
    "print('After pad_sequences: ', len(pad_X_train[0]))"
   ]
  },
  {
   "cell_type": "code",
   "execution_count": 5,
   "metadata": {},
   "outputs": [
    {
     "name": "stdout",
     "output_type": "stream",
     "text": [
      "Model: \"sequential\"\n",
      "_________________________________________________________________\n",
      "Layer (type)                 Output Shape              Param #   \n",
      "=================================================================\n",
      "embedding (Embedding)        (None, 500, 32)           320000    \n",
      "_________________________________________________________________\n",
      "flatten (Flatten)            (None, 16000)             0         \n",
      "_________________________________________________________________\n",
      "dense (Dense)                (None, 1)                 16001     \n",
      "=================================================================\n",
      "Total params: 336,001\n",
      "Trainable params: 336,001\n",
      "Non-trainable params: 0\n",
      "_________________________________________________________________\n"
     ]
    }
   ],
   "source": [
    "# 모델 구성하기\n",
    "from tensorflow.keras.models import Sequential\n",
    "from tensorflow.keras.layers import Dense, Embedding, Flatten\n",
    "\n",
    "model = Sequential()\n",
    "# 해당층은 모델의 첫번째 층으로만 사용가능\n",
    "# Flatten층을 사용하기 위해 input_length를 전달\n",
    "# input_dim의 인자는 학습 데이터 셋에 사용한 단어의 개수\n",
    "# output_dim의 인자는 임베딩 벡터의 크기 - 임베딩 벡터란 -> 하나의 토큰을 해당 개수의 차원의 텐서로 변환한 것\n",
    "model.add(Embedding(input_dim = num_words, output_dim = 32, input_length = max_len))\n",
    "model.add(Flatten())\n",
    "model.add(Dense(1, activation = 'sigmoid'))\n",
    "model.compile(optimizer = 'adam', loss = 'binary_crossentropy', metrics = ['acc'])\n",
    "model.summary()"
   ]
  },
  {
   "cell_type": "code",
   "execution_count": 6,
   "metadata": {},
   "outputs": [
    {
     "name": "stdout",
     "output_type": "stream",
     "text": [
      "Epoch 1/5\n",
      "625/625 [==============================] - 3s 5ms/step - loss: 0.4689 - acc: 0.7716 - val_loss: 0.3004 - val_acc: 0.8750\n",
      "Epoch 2/5\n",
      "625/625 [==============================] - 4s 7ms/step - loss: 0.2012 - acc: 0.9253 - val_loss: 0.2746 - val_acc: 0.8922\n",
      "Epoch 3/5\n",
      "625/625 [==============================] - 4s 7ms/step - loss: 0.1058 - acc: 0.9701 - val_loss: 0.2888 - val_acc: 0.8848\n",
      "Epoch 4/5\n",
      "625/625 [==============================] - 4s 7ms/step - loss: 0.0508 - acc: 0.9904 - val_loss: 0.3180 - val_acc: 0.8826\n",
      "Epoch 5/5\n",
      "625/625 [==============================] - 4s 7ms/step - loss: 0.0234 - acc: 0.9978 - val_loss: 0.3408 - val_acc: 0.8812\n"
     ]
    }
   ],
   "source": [
    "history = model.fit(pad_X_train, y_train, batch_size = 32, epochs = 5, validation_split = 0.2)"
   ]
  },
  {
   "cell_type": "code",
   "execution_count": 7,
   "metadata": {},
   "outputs": [
    {
     "name": "stdout",
     "output_type": "stream",
     "text": [
      "782/782 [==============================] - 1s 2ms/step - loss: 0.3449 - acc: 0.8758\n"
     ]
    },
    {
     "data": {
      "text/plain": [
       "[0.3448750674724579, 0.8758400082588196]"
      ]
     },
     "execution_count": 7,
     "metadata": {},
     "output_type": "execute_result"
    }
   ],
   "source": [
    "model.evaluate(pad_X_test, y_test)"
   ]
  },
  {
   "cell_type": "markdown",
   "metadata": {},
   "source": [
    "Embedding층은 단순하게 데이터의 표현을 학습해 데이터 사전을 구축하는 것\n",
    "즉, 유사한 의미의 단어를 비슷한 공간에 매핑은 가능하지만 순서와 맥락은 고려하지 않음\n",
    "RNN(Recurrent Neural Network - 순환신경망)은 이 문제를 해결하기 위해 고안된 층\n",
    "순환 신경망은 각 층의 결괏값이 출력층을 향하면서도 동시에 현재 층의 다음계산에 사용됨"
   ]
  },
  {
   "cell_type": "code",
   "execution_count": 12,
   "metadata": {},
   "outputs": [
    {
     "data": {
      "text/plain": [
       "[<matplotlib.lines.Line2D at 0x21b3f847280>]"
      ]
     },
     "execution_count": 12,
     "metadata": {},
     "output_type": "execute_result"
    },
    {
     "data": {
      "image/png": "[encoded data removed]",
      "text/plain": [
       "<Figure size 720x360 with 1 Axes>"
      ]
     },
     "metadata": {
      "needs_background": "light"
     },
     "output_type": "display_data"
    }
   ],
   "source": [
    "import numpy as np\n",
    "import matplotlib.pyplot as plt\n",
    "\n",
    "np.random.seed(2020)\n",
    "\n",
    "time = np.arange(30*12+1)\n",
    "month_time = (time % 30) / 30\n",
    "time_series = 20 * np.where(month_time < 0.5, np.cos(2*np.pi*month_time),\n",
    "                            np.cos(2*np.pi*month_time) + np.random.random(361))\n",
    "plt.figure(figsize = (10, 5))\n",
    "plt.xlabel('Time')\n",
    "plt.ylabel('Value')\n",
    "plt.plot(np.arange(0, 30*11+1), time_series[:30*11+1], color = 'black', alpha = 0.7)\n",
    "\n",
    "plt.plot(np.arange(30*11, 30*12+1), time_series[30*11:], color = 'orange')"
   ]
  },
  {
   "cell_type": "code",
   "execution_count": 14,
   "metadata": {},
   "outputs": [
    {
     "name": "stdout",
     "output_type": "stream",
     "text": [
      "train: (330, 10, 1) (330, 1)\n",
      "test: (21, 10, 1) (21, 1)\n"
     ]
    }
   ],
   "source": [
    "def make_sequence(time_series, n):\n",
    "    x_train, y_train = list(), list()\n",
    "\n",
    "    for i in range(len(time_series)):\n",
    "        x = time_series[i:(i+n)]\n",
    "        if (i+n) < len(time_series):\n",
    "            x_train.append(x)\n",
    "            y_train.append(time_series[i+n])\n",
    "        else:\n",
    "            break\n",
    "    return np.array(x_train), np.array(y_train)\n",
    "\n",
    "n = 10\n",
    "x_train, y_train = make_sequence(time_series, n)\n",
    "\n",
    "x_train = x_train.reshape(-1, n, 1)\n",
    "y_train = y_train.reshape(-1, 1)\n",
    "\n",
    "from sklearn.model_selection import train_test_split\n",
    "\n",
    "partial_x_train = x_train[:30*11]\n",
    "partial_y_train = y_train[:30*11]\n",
    "x_test = x_train[30*11:]\n",
    "y_test = y_train[30*11:]\n",
    "\n",
    "print('train:', partial_x_train.shape, partial_y_train.shape)\n",
    "print('test:', x_test.shape, y_test.shape)"
   ]
  },
  {
   "cell_type": "code",
   "execution_count": 15,
   "metadata": {},
   "outputs": [
    {
     "name": "stdout",
     "output_type": "stream",
     "text": [
      "[ 1  2  3  4  5  6  7  8  9 10] | 11\n",
      "[ 2  3  4  5  6  7  8  9 10 11] | 12\n",
      "[ 3  4  5  6  7  8  9 10 11 12] | 13\n"
     ]
    }
   ],
   "source": [
    "test_arr = np.arange(100)\n",
    "a, b = make_sequence(test_arr, 10)\n",
    "\n",
    "for i in range(1, 4):\n",
    "    print(a[i], '|', b[i])"
   ]
  },
  {
   "cell_type": "code",
   "execution_count": 18,
   "metadata": {},
   "outputs": [
    {
     "name": "stdout",
     "output_type": "stream",
     "text": [
      "Model: \"sequential_3\"\n",
      "_________________________________________________________________\n",
      "Layer (type)                 Output Shape              Param #   \n",
      "=================================================================\n",
      "simple_rnn_2 (SimpleRNN)     (None, 32)                1088      \n",
      "_________________________________________________________________\n",
      "dense_3 (Dense)              (None, 1)                 33        \n",
      "=================================================================\n",
      "Total params: 1,121\n",
      "Trainable params: 1,121\n",
      "Non-trainable params: 0\n",
      "_________________________________________________________________\n",
      "Epoch 1/100\n",
      "30/30 [==============================] - 0s 2ms/step - loss: 235.1219\n",
      "Epoch 2/100\n",
      "30/30 [==============================] - 0s 2ms/step - loss: 201.2361\n",
      "Epoch 3/100\n",
      "30/30 [==============================] - 0s 2ms/step - loss: 170.9228\n",
      "Epoch 4/100\n",
      "30/30 [==============================] - 0s 2ms/step - loss: 150.1680\n",
      "Epoch 5/100\n",
      "30/30 [==============================] - 0s 2ms/step - loss: 134.7253\n",
      "Epoch 6/100\n",
      "30/30 [==============================] - 0s 2ms/step - loss: 122.7748\n",
      "Epoch 7/100\n",
      "30/30 [==============================] - 0s 2ms/step - loss: 113.1297\n",
      "Epoch 8/100\n",
      "30/30 [==============================] - 0s 2ms/step - loss: 104.9026\n",
      "Epoch 9/100\n",
      "30/30 [==============================] - 0s 2ms/step - loss: 97.8896\n",
      "Epoch 10/100\n",
      "30/30 [==============================] - 0s 2ms/step - loss: 91.6652\n",
      "Epoch 11/100\n",
      "30/30 [==============================] - 0s 1ms/step - loss: 86.1067\n",
      "Epoch 12/100\n",
      "30/30 [==============================] - 0s 1ms/step - loss: 81.5354\n",
      "Epoch 13/100\n",
      "30/30 [==============================] - 0s 1ms/step - loss: 77.2241\n",
      "Epoch 14/100\n",
      "30/30 [==============================] - 0s 2ms/step - loss: 73.6172\n",
      "Epoch 15/100\n",
      "30/30 [==============================] - 0s 2ms/step - loss: 70.4401\n",
      "Epoch 16/100\n",
      "30/30 [==============================] - 0s 2ms/step - loss: 67.3994\n",
      "Epoch 17/100\n",
      "30/30 [==============================] - 0s 1ms/step - loss: 64.7475\n",
      "Epoch 18/100\n",
      "30/30 [==============================] - 0s 1ms/step - loss: 62.4758\n",
      "Epoch 19/100\n",
      "30/30 [==============================] - 0s 1ms/step - loss: 60.2079\n",
      "Epoch 20/100\n",
      "30/30 [==============================] - 0s 1ms/step - loss: 58.1733\n",
      "Epoch 21/100\n",
      "30/30 [==============================] - 0s 2ms/step - loss: 56.2233\n",
      "Epoch 22/100\n",
      "30/30 [==============================] - 0s 2ms/step - loss: 54.4079\n",
      "Epoch 23/100\n",
      "30/30 [==============================] - 0s 2ms/step - loss: 52.7594\n",
      "Epoch 24/100\n",
      "30/30 [==============================] - 0s 2ms/step - loss: 50.8046\n",
      "Epoch 25/100\n",
      "30/30 [==============================] - 0s 2ms/step - loss: 49.2405\n",
      "Epoch 26/100\n",
      "30/30 [==============================] - 0s 2ms/step - loss: 47.7715\n",
      "Epoch 27/100\n",
      "30/30 [==============================] - 0s 2ms/step - loss: 46.2401\n",
      "Epoch 28/100\n",
      "30/30 [==============================] - 0s 2ms/step - loss: 44.8128\n",
      "Epoch 29/100\n",
      "30/30 [==============================] - 0s 2ms/step - loss: 43.2082\n",
      "Epoch 30/100\n",
      "30/30 [==============================] - 0s 2ms/step - loss: 41.9360\n",
      "Epoch 31/100\n",
      "30/30 [==============================] - 0s 1ms/step - loss: 40.7526\n",
      "Epoch 32/100\n",
      "30/30 [==============================] - 0s 1ms/step - loss: 39.5453\n",
      "Epoch 33/100\n",
      "30/30 [==============================] - 0s 1ms/step - loss: 38.6191\n",
      "Epoch 34/100\n",
      "30/30 [==============================] - 0s 1ms/step - loss: 37.8766\n",
      "Epoch 35/100\n",
      "30/30 [==============================] - 0s 1ms/step - loss: 36.6708\n",
      "Epoch 36/100\n",
      "30/30 [==============================] - 0s 1ms/step - loss: 35.8936\n",
      "Epoch 37/100\n",
      "30/30 [==============================] - 0s 1ms/step - loss: 35.5825\n",
      "Epoch 38/100\n",
      "30/30 [==============================] - 0s 1ms/step - loss: 34.5014\n",
      "Epoch 39/100\n",
      "30/30 [==============================] - 0s 1ms/step - loss: 35.4001\n",
      "Epoch 40/100\n",
      "30/30 [==============================] - 0s 1ms/step - loss: 34.0035\n",
      "Epoch 41/100\n",
      "30/30 [==============================] - 0s 1ms/step - loss: 33.4416\n",
      "Epoch 42/100\n",
      "30/30 [==============================] - 0s 1ms/step - loss: 32.7678\n",
      "Epoch 43/100\n",
      "30/30 [==============================] - 0s 1ms/step - loss: 32.5681\n",
      "Epoch 44/100\n",
      "30/30 [==============================] - 0s 1ms/step - loss: 31.7669\n",
      "Epoch 45/100\n",
      "30/30 [==============================] - 0s 1ms/step - loss: 30.7371\n",
      "Epoch 46/100\n",
      "30/30 [==============================] - 0s 1ms/step - loss: 30.0325\n",
      "Epoch 47/100\n",
      "30/30 [==============================] - 0s 2ms/step - loss: 29.2084\n",
      "Epoch 48/100\n",
      "30/30 [==============================] - 0s 2ms/step - loss: 28.4649\n",
      "Epoch 49/100\n",
      "30/30 [==============================] - 0s 2ms/step - loss: 27.8065\n",
      "Epoch 50/100\n",
      "30/30 [==============================] - 0s 1ms/step - loss: 27.2540\n",
      "Epoch 51/100\n",
      "30/30 [==============================] - 0s 1ms/step - loss: 27.3041\n",
      "Epoch 52/100\n",
      "30/30 [==============================] - 0s 1ms/step - loss: 26.5560\n",
      "Epoch 53/100\n",
      "30/30 [==============================] - 0s 1ms/step - loss: 25.5820\n",
      "Epoch 54/100\n",
      "30/30 [==============================] - 0s 1ms/step - loss: 24.9396\n",
      "Epoch 55/100\n",
      "30/30 [==============================] - 0s 1ms/step - loss: 25.3044\n",
      "Epoch 56/100\n",
      "30/30 [==============================] - 0s 1ms/step - loss: 24.8517\n",
      "Epoch 57/100\n",
      "30/30 [==============================] - 0s 1ms/step - loss: 23.9195\n",
      "Epoch 58/100\n",
      "30/30 [==============================] - 0s 1ms/step - loss: 23.4283\n",
      "Epoch 59/100\n",
      "30/30 [==============================] - 0s 1ms/step - loss: 22.8275\n",
      "Epoch 60/100\n",
      "30/30 [==============================] - 0s 1ms/step - loss: 22.3939\n",
      "Epoch 61/100\n",
      "30/30 [==============================] - 0s 1ms/step - loss: 22.1774\n",
      "Epoch 62/100\n",
      "30/30 [==============================] - 0s 1ms/step - loss: 21.7113\n",
      "Epoch 63/100\n",
      "30/30 [==============================] - 0s 1ms/step - loss: 21.4265\n",
      "Epoch 64/100\n",
      "30/30 [==============================] - 0s 1ms/step - loss: 21.2458\n",
      "Epoch 65/100\n",
      "30/30 [==============================] - 0s 1ms/step - loss: 20.6741\n",
      "Epoch 66/100\n",
      "30/30 [==============================] - 0s 1ms/step - loss: 22.0655\n",
      "Epoch 67/100\n",
      "30/30 [==============================] - 0s 1ms/step - loss: 20.5736\n",
      "Epoch 68/100\n",
      "30/30 [==============================] - 0s 1ms/step - loss: 20.3284\n",
      "Epoch 69/100\n",
      "30/30 [==============================] - 0s 1ms/step - loss: 20.0086\n",
      "Epoch 70/100\n",
      "30/30 [==============================] - 0s 1ms/step - loss: 19.7372\n",
      "Epoch 71/100\n",
      "30/30 [==============================] - 0s 1ms/step - loss: 19.2913\n",
      "Epoch 72/100\n",
      "30/30 [==============================] - 0s 1ms/step - loss: 19.1805\n",
      "Epoch 73/100\n",
      "30/30 [==============================] - 0s 1ms/step - loss: 19.0462\n",
      "Epoch 74/100\n",
      "30/30 [==============================] - 0s 1ms/step - loss: 19.2703\n",
      "Epoch 75/100\n",
      "30/30 [==============================] - 0s 1ms/step - loss: 18.6210\n",
      "Epoch 76/100\n",
      "30/30 [==============================] - 0s 1ms/step - loss: 18.4782\n",
      "Epoch 77/100\n",
      "30/30 [==============================] - 0s 1ms/step - loss: 18.5273\n",
      "Epoch 78/100\n",
      "30/30 [==============================] - 0s 1ms/step - loss: 18.3203\n",
      "Epoch 79/100\n",
      "30/30 [==============================] - 0s 1ms/step - loss: 18.0558\n",
      "Epoch 80/100\n",
      "30/30 [==============================] - 0s 1ms/step - loss: 18.1678\n",
      "Epoch 81/100\n",
      "30/30 [==============================] - 0s 1ms/step - loss: 17.8981\n",
      "Epoch 82/100\n",
      "30/30 [==============================] - 0s 1ms/step - loss: 17.8932\n",
      "Epoch 83/100\n",
      "30/30 [==============================] - 0s 1ms/step - loss: 17.4020\n",
      "Epoch 84/100\n",
      "30/30 [==============================] - 0s 2ms/step - loss: 17.1276\n",
      "Epoch 85/100\n",
      "30/30 [==============================] - 0s 1ms/step - loss: 16.8987\n",
      "Epoch 86/100\n",
      "30/30 [==============================] - 0s 1ms/step - loss: 16.6705\n",
      "Epoch 87/100\n",
      "30/30 [==============================] - 0s 1ms/step - loss: 16.5796\n",
      "Epoch 88/100\n",
      "30/30 [==============================] - 0s 1ms/step - loss: 16.8189\n",
      "Epoch 89/100\n",
      "30/30 [==============================] - 0s 3ms/step - loss: 16.2567\n",
      "Epoch 90/100\n",
      "30/30 [==============================] - 0s 2ms/step - loss: 16.2713\n",
      "Epoch 91/100\n",
      "30/30 [==============================] - 0s 2ms/step - loss: 15.8736\n",
      "Epoch 92/100\n",
      "30/30 [==============================] - 0s 2ms/step - loss: 15.9788\n",
      "Epoch 93/100\n",
      "30/30 [==============================] - 0s 2ms/step - loss: 15.8283\n",
      "Epoch 94/100\n",
      "30/30 [==============================] - 0s 1ms/step - loss: 15.8453\n",
      "Epoch 95/100\n",
      "30/30 [==============================] - 0s 1ms/step - loss: 15.8146\n",
      "Epoch 96/100\n",
      "30/30 [==============================] - 0s 2ms/step - loss: 15.8274\n",
      "Epoch 97/100\n",
      "30/30 [==============================] - 0s 1ms/step - loss: 15.3066\n",
      "Epoch 98/100\n",
      "30/30 [==============================] - 0s 1ms/step - loss: 15.4298\n",
      "Epoch 99/100\n",
      "30/30 [==============================] - 0s 1ms/step - loss: 15.1273\n",
      "Epoch 100/100\n",
      "30/30 [==============================] - 0s 1ms/step - loss: 15.0975\n"
     ]
    },
    {
     "data": {
      "text/plain": [
       "<tensorflow.python.keras.callbacks.History at 0x21b412d09a0>"
      ]
     },
     "execution_count": 18,
     "metadata": {},
     "output_type": "execute_result"
    }
   ],
   "source": [
    "from tensorflow.keras.layers import SimpleRNN, Flatten, Dense\n",
    "from tensorflow.keras.models import Sequential\n",
    "# Flatten층은 다차원 배열을 1차원으로 변경해주는 층\n",
    "\n",
    "model = Sequential()\n",
    "# SimpleRNN층을 첫번째 층으로 사용하는 경우, 반드시 input.shape를 명시해주어야 함\n",
    "model.add(SimpleRNN(units = 32, activation = 'tanh', input_shape = (n,1)))\n",
    "model.add(Dense(1, activation = 'linear'))\n",
    "model.compile(optimizer = 'adam', loss = 'mse')\n",
    "model.summary()\n",
    "model.fit(x_train, y_train, epochs = 100, batch_size = 12)"
   ]
  },
  {
   "cell_type": "code",
   "execution_count": 21,
   "metadata": {},
   "outputs": [
    {
     "data": {
      "image/png": "[encoded data removed]",
      "text/plain": [
       "<Figure size 1080x360 with 1 Axes>"
      ]
     },
     "metadata": {
      "needs_background": "light"
     },
     "output_type": "display_data"
    }
   ],
   "source": [
    "pred = model.predict(x_test)\n",
    "pred_range = np.arange(len(y_train), len(y_train) + len(pred))\n",
    "\n",
    "plt.figure(figsize = (15, 5))\n",
    "plt.xlabel('Time')\n",
    "plt.ylabel('Value')\n",
    "plt.plot(pred_range, y_test.reshape(-1,), color = 'orange', label = 'ground-truth')\n",
    "plt.plot(pred_range, pred.reshape(-1,), color = 'blue', label = 'prediction')\n",
    "plt.legend()\n",
    "plt.show()"
   ]
  },
  {
   "cell_type": "code",
   "execution_count": 24,
   "metadata": {},
   "outputs": [
    {
     "name": "stderr",
     "output_type": "stream",
     "text": [
      "<__array_function__ internals>:5: VisibleDeprecationWarning: Creating an ndarray from ragged nested sequences (which is a list-or-tuple of lists-or-tuples-or ndarrays with different lengths or shapes) is deprecated. If you meant to do this, you must specify 'dtype=object' when creating the ndarray\n",
      "C:\\Users\\Bestc\\AppData\\Roaming\\Python\\Python38\\site-packages\\tensorflow\\python\\keras\\datasets\\imdb.py:159: VisibleDeprecationWarning: Creating an ndarray from ragged nested sequences (which is a list-or-tuple of lists-or-tuples-or ndarrays with different lengths or shapes) is deprecated. If you meant to do this, you must specify 'dtype=object' when creating the ndarray\n",
      "  x_train, y_train = np.array(xs[:idx]), np.array(labels[:idx])\n",
      "C:\\Users\\Bestc\\AppData\\Roaming\\Python\\Python38\\site-packages\\tensorflow\\python\\keras\\datasets\\imdb.py:160: VisibleDeprecationWarning: Creating an ndarray from ragged nested sequences (which is a list-or-tuple of lists-or-tuples-or ndarrays with different lengths or shapes) is deprecated. If you meant to do this, you must specify 'dtype=object' when creating the ndarray\n",
      "  x_test, y_test = np.array(xs[idx:]), np.array(labels[idx:])\n"
     ]
    },
    {
     "name": "stdout",
     "output_type": "stream",
     "text": [
      "Model: \"sequential_4\"\n",
      "_________________________________________________________________\n",
      "Layer (type)                 Output Shape              Param #   \n",
      "=================================================================\n",
      "embedding_1 (Embedding)      (None, None, 32)          320000    \n",
      "_________________________________________________________________\n",
      "simple_rnn_3 (SimpleRNN)     (None, None, 32)          2080      \n",
      "_________________________________________________________________\n",
      "simple_rnn_4 (SimpleRNN)     (None, 32)                2080      \n",
      "_________________________________________________________________\n",
      "dense_4 (Dense)              (None, 1)                 33        \n",
      "=================================================================\n",
      "Total params: 324,193\n",
      "Trainable params: 324,193\n",
      "Non-trainable params: 0\n",
      "_________________________________________________________________\n",
      "Epoch 1/15\n",
      "625/625 [==============================] - 102s 164ms/step - loss: 0.7004 - acc: 0.5056 - val_loss: 0.6936 - val_acc: 0.5090\n",
      "Epoch 2/15\n",
      "625/625 [==============================] - 104s 166ms/step - loss: 0.6936 - acc: 0.5219 - val_loss: 0.6977 - val_acc: 0.5216\n",
      "Epoch 3/15\n",
      "625/625 [==============================] - 102s 163ms/step - loss: 0.6903 - acc: 0.5296 - val_loss: 0.6912 - val_acc: 0.5092\n",
      "Epoch 4/15\n",
      "625/625 [==============================] - 102s 163ms/step - loss: 0.6792 - acc: 0.5546 - val_loss: 0.6674 - val_acc: 0.5822\n",
      "Epoch 5/15\n",
      "625/625 [==============================] - 102s 164ms/step - loss: 0.6527 - acc: 0.6058 - val_loss: 0.5971 - val_acc: 0.6970\n",
      "Epoch 6/15\n",
      "625/625 [==============================] - 100s 160ms/step - loss: 0.6129 - acc: 0.6571 - val_loss: 0.6052 - val_acc: 0.6586\n",
      "Epoch 7/15\n",
      "625/625 [==============================] - 113s 181ms/step - loss: 0.5949 - acc: 0.6755 - val_loss: 0.6419 - val_acc: 0.6026\n",
      "Epoch 8/15\n",
      "625/625 [==============================] - 109s 175ms/step - loss: 0.5822 - acc: 0.6819 - val_loss: 0.5832 - val_acc: 0.6850\n",
      "Epoch 9/15\n",
      "625/625 [==============================] - 96s 154ms/step - loss: 0.5386 - acc: 0.7199 - val_loss: 0.5734 - val_acc: 0.6922\n",
      "Epoch 10/15\n",
      "625/625 [==============================] - 95s 153ms/step - loss: 0.4964 - acc: 0.7605 - val_loss: 0.4613 - val_acc: 0.7956\n",
      "Epoch 11/15\n",
      "625/625 [==============================] - 101s 161ms/step - loss: 0.4697 - acc: 0.7797 - val_loss: 0.5805 - val_acc: 0.7570\n",
      "Epoch 12/15\n",
      "625/625 [==============================] - 95s 152ms/step - loss: 0.4330 - acc: 0.8067 - val_loss: 0.4412 - val_acc: 0.8080\n",
      "Epoch 13/15\n",
      "625/625 [==============================] - 105s 168ms/step - loss: 0.4243 - acc: 0.8140 - val_loss: 0.5944 - val_acc: 0.6802\n",
      "Epoch 14/15\n",
      "625/625 [==============================] - 114s 182ms/step - loss: 0.4082 - acc: 0.8212 - val_loss: 0.4446 - val_acc: 0.8152\n",
      "Epoch 15/15\n",
      "625/625 [==============================] - 112s 179ms/step - loss: 0.4053 - acc: 0.8222 - val_loss: 0.4609 - val_acc: 0.8172\n"
     ]
    }
   ],
   "source": [
    "# IMDB데이터셋 활용\n",
    "from tensorflow.keras.datasets import imdb\n",
    "\n",
    "num_words = 10000\n",
    "(X_train, y_train), (X_test, y_test) = imdb.load_data(num_words = num_words)\n",
    "\n",
    "from tensorflow.keras.preprocessing.sequence import pad_sequences\n",
    "max_len = 500\n",
    "pad_X_train = pad_sequences(X_train, maxlen = max_len)\n",
    "pad_X_test = pad_sequences(X_test, maxlen = max_len)\n",
    "\n",
    "from tensorflow.keras.models import Sequential\n",
    "from tensorflow.keras.layers import SimpleRNN, Dense, Embedding\n",
    "model = Sequential()\n",
    "model.add(Embedding(input_dim = num_words, output_dim = 32))\n",
    "model.add(SimpleRNN(32, return_sequences = True, dropout = 0.15, recurrent_dropout = 0.15))\n",
    "model.add(SimpleRNN(32))\n",
    "model.add(Dense(1, activation = 'sigmoid'))\n",
    "\n",
    "model.compile(optimizer = 'adam', loss = 'binary_crossentropy', metrics = ['acc'])\n",
    "model.summary()\n",
    "history = model.fit(pad_X_train, y_train, batch_size = 32, epochs = 15, validation_split = 0.2)"
   ]
  },
  {
   "cell_type": "code",
   "execution_count": 25,
   "metadata": {},
   "outputs": [
    {
     "name": "stdout",
     "output_type": "stream",
     "text": [
      "Model: \"sequential_5\"\n",
      "_________________________________________________________________\n",
      "Layer (type)                 Output Shape              Param #   \n",
      "=================================================================\n",
      "embedding_2 (Embedding)      (None, None, 32)          320000    \n",
      "_________________________________________________________________\n",
      "lstm (LSTM)                  (None, None, 64)          24832     \n",
      "_________________________________________________________________\n",
      "lstm_1 (LSTM)                (None, 32)                12416     \n",
      "_________________________________________________________________\n",
      "dense_5 (Dense)              (None, 1)                 33        \n",
      "=================================================================\n",
      "Total params: 357,281\n",
      "Trainable params: 357,281\n",
      "Non-trainable params: 0\n",
      "_________________________________________________________________\n",
      "Epoch 1/15\n",
      "625/625 [==============================] - 176s 281ms/step - loss: 0.4805 - acc: 0.7619 - val_loss: 0.3669 - val_acc: 0.8418\n",
      "Epoch 2/15\n",
      "625/625 [==============================] - 179s 287ms/step - loss: 0.2914 - acc: 0.8861 - val_loss: 0.3598 - val_acc: 0.8580\n",
      "Epoch 3/15\n",
      "625/625 [==============================] - 180s 287ms/step - loss: 0.2083 - acc: 0.9225 - val_loss: 0.3272 - val_acc: 0.8782\n",
      "Epoch 4/15\n",
      "625/625 [==============================] - 181s 290ms/step - loss: 0.1467 - acc: 0.9502 - val_loss: 0.3499 - val_acc: 0.8570\n",
      "Epoch 5/15\n",
      "625/625 [==============================] - 179s 287ms/step - loss: 0.1077 - acc: 0.9634 - val_loss: 0.3968 - val_acc: 0.8668\n",
      "Epoch 6/15\n",
      "625/625 [==============================] - 178s 285ms/step - loss: 0.0804 - acc: 0.9735 - val_loss: 0.5098 - val_acc: 0.8574\n",
      "Epoch 7/15\n",
      "625/625 [==============================] - 177s 283ms/step - loss: 0.0658 - acc: 0.9794 - val_loss: 0.5111 - val_acc: 0.8554\n",
      "Epoch 8/15\n",
      "625/625 [==============================] - 184s 294ms/step - loss: 0.0657 - acc: 0.9774 - val_loss: 0.5747 - val_acc: 0.8624\n",
      "Epoch 9/15\n",
      "625/625 [==============================] - 181s 289ms/step - loss: 0.0507 - acc: 0.9840 - val_loss: 0.5927 - val_acc: 0.8478\n",
      "Epoch 10/15\n",
      "625/625 [==============================] - 182s 291ms/step - loss: 0.0369 - acc: 0.9888 - val_loss: 0.6717 - val_acc: 0.8600\n",
      "Epoch 11/15\n",
      "625/625 [==============================] - 177s 283ms/step - loss: 0.0306 - acc: 0.9913 - val_loss: 0.6768 - val_acc: 0.8506\n",
      "Epoch 12/15\n",
      "625/625 [==============================] - 181s 290ms/step - loss: 0.0295 - acc: 0.9905 - val_loss: 0.8382 - val_acc: 0.8356\n",
      "Epoch 13/15\n",
      "625/625 [==============================] - 178s 285ms/step - loss: 0.0685 - acc: 0.9782 - val_loss: 0.6373 - val_acc: 0.8492\n",
      "Epoch 14/15\n",
      "625/625 [==============================] - 180s 288ms/step - loss: 0.0288 - acc: 0.9919 - val_loss: 0.6853 - val_acc: 0.8452\n",
      "Epoch 15/15\n",
      "625/625 [==============================] - 178s 285ms/step - loss: 0.0252 - acc: 0.9934 - val_loss: 0.7033 - val_acc: 0.8478\n"
     ]
    }
   ],
   "source": [
    "# LSTM\n",
    "from tensorflow.keras.models import Sequential\n",
    "from tensorflow.keras.layers import LSTM, Dense, Embedding\n",
    "\n",
    "model = Sequential()\n",
    "model.add(Embedding(input_dim = num_words, output_dim = 32))\n",
    "model.add(LSTM(64, return_sequences = True))\n",
    "model.add(LSTM(32))\n",
    "model.add(Dense(1, activation = 'sigmoid'))\n",
    "\n",
    "model.compile(optimizer = 'adam', loss = 'binary_crossentropy', metrics = ['acc'])\n",
    "model.summary()\n",
    "history = model.fit(pad_X_train, y_train, batch_size = 32, epochs = 15, validation_split = 0.2)"
   ]
  }
 ],
 "metadata": {
  "interpreter": {
   "hash": "fe3bab233825460445dbfeea6dcd52ef5815a3fa13c858fea07ac830aa383284"
  },
  "kernelspec": {
   "display_name": "Python 3.8.10 64-bit ('base': conda)",
   "language": "python",
   "name": "python3"
  },
  "language_info": {
   "codemirror_mode": {
    "name": "ipython",
    "version": 3
   },
   "file_extension": ".py",
   "mimetype": "text/x-python",
   "name": "python",
   "nbconvert_exporter": "python",
   "pygments_lexer": "ipython3",
   "version": "3.8.10"
  },
  "orig_nbformat": 4
 },
 "nbformat": 4,
 "nbformat_minor": 2
}
