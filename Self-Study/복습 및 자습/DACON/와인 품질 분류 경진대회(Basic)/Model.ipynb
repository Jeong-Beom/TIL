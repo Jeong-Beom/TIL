{
 "cells": [
  {
   "cell_type": "code",
   "execution_count": 1,
   "metadata": {},
   "outputs": [],
   "source": [
    "# 필요 패키지 로드\n",
    "import pandas as pd\n",
    "import matplotlib.pyplot as plt\n",
    "import seaborn as sns\n",
    "from matplotlib import patches\n",
    "%matplotlib inline\n",
    "import os\n",
    "import numpy as np\n",
    "from sklearn.linear_model import LinearRegression\n",
    "from statsmodels.formula.api import ols \n",
    "from statsmodels.api import OLS, add_constant"
   ]
  },
  {
   "cell_type": "code",
   "execution_count": 3,
   "metadata": {},
   "outputs": [
    {
     "data": {
      "text/plain": [
       "['sample_submission.csv', 'test.csv', 'train.csv']"
      ]
     },
     "execution_count": 3,
     "metadata": {},
     "output_type": "execute_result"
    }
   ],
   "source": [
    "Basic_dir = os.path.dirname(os.path.dirname(os.path.realpath('EDA.ipynb')))\n",
    "PATH = Basic_dir + '\\\\Data\\\\Data(WineQ_B)'\n",
    "os.listdir(PATH)"
   ]
  },
  {
   "cell_type": "code",
   "execution_count": 56,
   "metadata": {},
   "outputs": [
    {
     "name": "stdout",
     "output_type": "stream",
     "text": [
      "Index(['id', 'fixed acidity', 'volatile acidity', 'citric acid',\n",
      "       'residual sugar', 'chlorides', 'free sulfur dioxide',\n",
      "       'total sulfur dioxide', 'density', 'pH', 'sulphates', 'alcohol', 'type',\n",
      "       'quality'],\n",
      "      dtype='object')\n"
     ]
    },
    {
     "data": {
      "text/html": [
       "<div>\n",
       "<style scoped>\n",
       "    .dataframe tbody tr th:only-of-type {\n",
       "        vertical-align: middle;\n",
       "    }\n",
       "\n",
       "    .dataframe tbody tr th {\n",
       "        vertical-align: top;\n",
       "    }\n",
       "\n",
       "    .dataframe thead th {\n",
       "        text-align: right;\n",
       "    }\n",
       "</style>\n",
       "<table border=\"1\" class=\"dataframe\">\n",
       "  <thead>\n",
       "    <tr style=\"text-align: right;\">\n",
       "      <th></th>\n",
       "      <th>id</th>\n",
       "      <th>fixed acidity</th>\n",
       "      <th>volatile acidity</th>\n",
       "      <th>citric acid</th>\n",
       "      <th>residual sugar</th>\n",
       "      <th>chlorides</th>\n",
       "      <th>free sulfur dioxide</th>\n",
       "      <th>total sulfur dioxide</th>\n",
       "      <th>density</th>\n",
       "      <th>pH</th>\n",
       "      <th>sulphates</th>\n",
       "      <th>alcohol</th>\n",
       "      <th>type</th>\n",
       "      <th>quality</th>\n",
       "    </tr>\n",
       "  </thead>\n",
       "  <tbody>\n",
       "    <tr>\n",
       "      <th>0</th>\n",
       "      <td>1</td>\n",
       "      <td>8.0</td>\n",
       "      <td>0.18</td>\n",
       "      <td>0.37</td>\n",
       "      <td>1.3</td>\n",
       "      <td>0.040</td>\n",
       "      <td>15.0</td>\n",
       "      <td>96.0</td>\n",
       "      <td>0.99120</td>\n",
       "      <td>3.06</td>\n",
       "      <td>0.61</td>\n",
       "      <td>12.1</td>\n",
       "      <td>white</td>\n",
       "      <td>6</td>\n",
       "    </tr>\n",
       "    <tr>\n",
       "      <th>1</th>\n",
       "      <td>2</td>\n",
       "      <td>7.5</td>\n",
       "      <td>0.38</td>\n",
       "      <td>0.29</td>\n",
       "      <td>4.9</td>\n",
       "      <td>0.021</td>\n",
       "      <td>38.0</td>\n",
       "      <td>113.0</td>\n",
       "      <td>0.99026</td>\n",
       "      <td>3.08</td>\n",
       "      <td>0.48</td>\n",
       "      <td>13.0</td>\n",
       "      <td>white</td>\n",
       "      <td>7</td>\n",
       "    </tr>\n",
       "    <tr>\n",
       "      <th>2</th>\n",
       "      <td>3</td>\n",
       "      <td>6.1</td>\n",
       "      <td>0.27</td>\n",
       "      <td>0.33</td>\n",
       "      <td>2.2</td>\n",
       "      <td>0.021</td>\n",
       "      <td>26.0</td>\n",
       "      <td>117.0</td>\n",
       "      <td>0.98860</td>\n",
       "      <td>3.12</td>\n",
       "      <td>0.30</td>\n",
       "      <td>12.5</td>\n",
       "      <td>white</td>\n",
       "      <td>6</td>\n",
       "    </tr>\n",
       "    <tr>\n",
       "      <th>3</th>\n",
       "      <td>4</td>\n",
       "      <td>6.4</td>\n",
       "      <td>0.32</td>\n",
       "      <td>0.50</td>\n",
       "      <td>10.7</td>\n",
       "      <td>0.047</td>\n",
       "      <td>57.0</td>\n",
       "      <td>206.0</td>\n",
       "      <td>0.99680</td>\n",
       "      <td>3.08</td>\n",
       "      <td>0.60</td>\n",
       "      <td>9.4</td>\n",
       "      <td>white</td>\n",
       "      <td>5</td>\n",
       "    </tr>\n",
       "    <tr>\n",
       "      <th>4</th>\n",
       "      <td>5</td>\n",
       "      <td>8.4</td>\n",
       "      <td>0.37</td>\n",
       "      <td>0.43</td>\n",
       "      <td>2.3</td>\n",
       "      <td>0.063</td>\n",
       "      <td>12.0</td>\n",
       "      <td>19.0</td>\n",
       "      <td>0.99550</td>\n",
       "      <td>3.17</td>\n",
       "      <td>0.81</td>\n",
       "      <td>11.2</td>\n",
       "      <td>red</td>\n",
       "      <td>7</td>\n",
       "    </tr>\n",
       "  </tbody>\n",
       "</table>\n",
       "</div>"
      ],
      "text/plain": [
       "   id  fixed acidity  volatile acidity  citric acid  residual sugar  \\\n",
       "0   1            8.0              0.18         0.37             1.3   \n",
       "1   2            7.5              0.38         0.29             4.9   \n",
       "2   3            6.1              0.27         0.33             2.2   \n",
       "3   4            6.4              0.32         0.50            10.7   \n",
       "4   5            8.4              0.37         0.43             2.3   \n",
       "\n",
       "   chlorides  free sulfur dioxide  total sulfur dioxide  density    pH  \\\n",
       "0      0.040                 15.0                  96.0  0.99120  3.06   \n",
       "1      0.021                 38.0                 113.0  0.99026  3.08   \n",
       "2      0.021                 26.0                 117.0  0.98860  3.12   \n",
       "3      0.047                 57.0                 206.0  0.99680  3.08   \n",
       "4      0.063                 12.0                  19.0  0.99550  3.17   \n",
       "\n",
       "   sulphates  alcohol   type  quality  \n",
       "0       0.61     12.1  white        6  \n",
       "1       0.48     13.0  white        7  \n",
       "2       0.30     12.5  white        6  \n",
       "3       0.60      9.4  white        5  \n",
       "4       0.81     11.2    red        7  "
      ]
     },
     "execution_count": 56,
     "metadata": {},
     "output_type": "execute_result"
    }
   ],
   "source": [
    "# 데이터 로드\n",
    "train = pd.read_csv(PATH + '\\\\train.csv')\n",
    "test = pd.read_csv(PATH + '\\\\test.csv')\n",
    "print(train.columns)\n",
    "train.head()"
   ]
  },
  {
   "cell_type": "code",
   "execution_count": 10,
   "metadata": {},
   "outputs": [
    {
     "data": {
      "text/plain": [
       "Index(['fixed acidity', 'volatile acidity', 'citric acid', 'residual sugar',\n",
       "       'chlorides', 'free sulfur dioxide', 'total sulfur dioxide', 'density',\n",
       "       'pH', 'sulphates', 'alcohol', 'type', 'quality'],\n",
       "      dtype='object')"
      ]
     },
     "execution_count": 10,
     "metadata": {},
     "output_type": "execute_result"
    }
   ],
   "source": [
    "df = train.drop(['id'], axis = 1).copy()\n",
    "# 범주형 변수 인코딩 : 와인 종류 - 0 : 화이트, 1: 레드\n",
    "df.type = np.where(df.type == 'white', 0, 1)\n",
    "df.columns"
   ]
  },
  {
   "cell_type": "code",
   "execution_count": 11,
   "metadata": {},
   "outputs": [],
   "source": [
    "x_list = ['fixed acidity', 'volatile acidity', 'citric acid', 'residual sugar',\n",
    "          'chlorides', 'free sulfur dioxide', 'total sulfur dioxide', 'density',\n",
    "          'pH', 'sulphates', 'alcohol']\n",
    "df"
   ]
  },
  {
   "cell_type": "code",
   "execution_count": 41,
   "metadata": {},
   "outputs": [
    {
     "name": "stdout",
     "output_type": "stream",
     "text": [
      "fixed acidity : -0.109, 0.0\n",
      "volatile acidity : -0.254, 0.0\n",
      "citric acid : 0.08, 1e-05\n",
      "chlorides : -0.286, 0.0\n",
      "free sulfur dioxide : 0.082, 0.0\n",
      "total sulfur dioxide : -0.058, 0.00092\n",
      "density : -0.329, 0.0\n",
      "pH : 0.044, 0.01194\n",
      "alcohol : 0.449, 0.0\n"
     ]
    }
   ],
   "source": [
    "# 순위변수(품질)와 연속형변수(x_list에 해당하는 자료들)을 분석하기 위해 스피어만 상관계수 사용\n",
    "# 품질을 연속형으로 보면 회귀 및 피어슨 상관계수분석 가능\n",
    "# p-value가 0.05 이하인 변수들은 제외\n",
    "from scipy import stats\n",
    "val_list = []\n",
    "for col in x_list:\n",
    "    if stats.spearmanr(df[col], df.quality)[1] < 0.05:\n",
    "        val_list.append(col)\n",
    "        print(f'{col} : {round(stats.spearmanr(df[col], df.quality)[0], 3)}, {round(stats.spearmanr(df[col], df.quality)[1], 5)}')\n",
    "val_list = val_list + ['type']"
   ]
  },
  {
   "cell_type": "code",
   "execution_count": 42,
   "metadata": {},
   "outputs": [
    {
     "data": {
      "text/html": [
       "<div>\n",
       "<style scoped>\n",
       "    .dataframe tbody tr th:only-of-type {\n",
       "        vertical-align: middle;\n",
       "    }\n",
       "\n",
       "    .dataframe tbody tr th {\n",
       "        vertical-align: top;\n",
       "    }\n",
       "\n",
       "    .dataframe thead th {\n",
       "        text-align: right;\n",
       "    }\n",
       "</style>\n",
       "<table border=\"1\" class=\"dataframe\">\n",
       "  <thead>\n",
       "    <tr style=\"text-align: right;\">\n",
       "      <th></th>\n",
       "      <th>fixed acidity</th>\n",
       "      <th>volatile acidity</th>\n",
       "      <th>citric acid</th>\n",
       "      <th>chlorides</th>\n",
       "      <th>free sulfur dioxide</th>\n",
       "      <th>total sulfur dioxide</th>\n",
       "      <th>density</th>\n",
       "      <th>pH</th>\n",
       "      <th>alcohol</th>\n",
       "      <th>type</th>\n",
       "      <th>quality</th>\n",
       "    </tr>\n",
       "  </thead>\n",
       "  <tbody>\n",
       "    <tr>\n",
       "      <th>0</th>\n",
       "      <td>8.0</td>\n",
       "      <td>0.18</td>\n",
       "      <td>0.37</td>\n",
       "      <td>0.040</td>\n",
       "      <td>15.0</td>\n",
       "      <td>96.0</td>\n",
       "      <td>0.99120</td>\n",
       "      <td>3.06</td>\n",
       "      <td>12.1</td>\n",
       "      <td>0</td>\n",
       "      <td>6</td>\n",
       "    </tr>\n",
       "    <tr>\n",
       "      <th>1</th>\n",
       "      <td>7.5</td>\n",
       "      <td>0.38</td>\n",
       "      <td>0.29</td>\n",
       "      <td>0.021</td>\n",
       "      <td>38.0</td>\n",
       "      <td>113.0</td>\n",
       "      <td>0.99026</td>\n",
       "      <td>3.08</td>\n",
       "      <td>13.0</td>\n",
       "      <td>0</td>\n",
       "      <td>7</td>\n",
       "    </tr>\n",
       "    <tr>\n",
       "      <th>2</th>\n",
       "      <td>6.1</td>\n",
       "      <td>0.27</td>\n",
       "      <td>0.33</td>\n",
       "      <td>0.021</td>\n",
       "      <td>26.0</td>\n",
       "      <td>117.0</td>\n",
       "      <td>0.98860</td>\n",
       "      <td>3.12</td>\n",
       "      <td>12.5</td>\n",
       "      <td>0</td>\n",
       "      <td>6</td>\n",
       "    </tr>\n",
       "    <tr>\n",
       "      <th>3</th>\n",
       "      <td>6.4</td>\n",
       "      <td>0.32</td>\n",
       "      <td>0.50</td>\n",
       "      <td>0.047</td>\n",
       "      <td>57.0</td>\n",
       "      <td>206.0</td>\n",
       "      <td>0.99680</td>\n",
       "      <td>3.08</td>\n",
       "      <td>9.4</td>\n",
       "      <td>0</td>\n",
       "      <td>5</td>\n",
       "    </tr>\n",
       "    <tr>\n",
       "      <th>4</th>\n",
       "      <td>8.4</td>\n",
       "      <td>0.37</td>\n",
       "      <td>0.43</td>\n",
       "      <td>0.063</td>\n",
       "      <td>12.0</td>\n",
       "      <td>19.0</td>\n",
       "      <td>0.99550</td>\n",
       "      <td>3.17</td>\n",
       "      <td>11.2</td>\n",
       "      <td>1</td>\n",
       "      <td>7</td>\n",
       "    </tr>\n",
       "  </tbody>\n",
       "</table>\n",
       "</div>"
      ],
      "text/plain": [
       "   fixed acidity  volatile acidity  citric acid  chlorides  \\\n",
       "0            8.0              0.18         0.37      0.040   \n",
       "1            7.5              0.38         0.29      0.021   \n",
       "2            6.1              0.27         0.33      0.021   \n",
       "3            6.4              0.32         0.50      0.047   \n",
       "4            8.4              0.37         0.43      0.063   \n",
       "\n",
       "   free sulfur dioxide  total sulfur dioxide  density    pH  alcohol  type  \\\n",
       "0                 15.0                  96.0  0.99120  3.06     12.1     0   \n",
       "1                 38.0                 113.0  0.99026  3.08     13.0     0   \n",
       "2                 26.0                 117.0  0.98860  3.12     12.5     0   \n",
       "3                 57.0                 206.0  0.99680  3.08      9.4     0   \n",
       "4                 12.0                  19.0  0.99550  3.17     11.2     1   \n",
       "\n",
       "   quality  \n",
       "0        6  \n",
       "1        7  \n",
       "2        6  \n",
       "3        5  \n",
       "4        7  "
      ]
     },
     "execution_count": 42,
     "metadata": {},
     "output_type": "execute_result"
    }
   ],
   "source": [
    "df_train01 = df[val_list + ['quality']].copy()\n",
    "df_train01.head()"
   ]
  },
  {
   "cell_type": "code",
   "execution_count": 43,
   "metadata": {},
   "outputs": [
    {
     "data": {
      "text/plain": [
       "(3231, 7090)"
      ]
     },
     "execution_count": 43,
     "metadata": {},
     "output_type": "execute_result"
    }
   ],
   "source": [
    "# 로지스틱 회귀분석 테스트\n",
    "from sklearn.model_selection import train_test_split\n",
    "from sklearn.metrics import classification_report, confusion_matrix\n",
    "# 클래스 불균형 처리를 해주는 imbalanced-learn를 호출\n",
    "# 오버 샘플링 시행\n",
    "from imblearn.over_sampling import RandomOverSampler\n",
    "from imblearn.under_sampling import RandomUnderSampler\n",
    "ros = RandomOverSampler()\n",
    "ov_data, ov_label = ros.fit_resample(df_train01[val_list].copy(), df_train01[['quality']].copy())\n",
    "ov_data = pd.DataFrame(ov_data, columns = val_list)\n",
    "ov_data['quality'] = ov_label\n",
    "len(df_train01), len(ov_data)"
   ]
  },
  {
   "cell_type": "code",
   "execution_count": 44,
   "metadata": {},
   "outputs": [
    {
     "data": {
      "text/plain": [
       "6    1418\n",
       "7    1418\n",
       "5    1418\n",
       "8    1418\n",
       "4    1418\n",
       "Name: quality, dtype: int64"
      ]
     },
     "execution_count": 44,
     "metadata": {},
     "output_type": "execute_result"
    }
   ],
   "source": [
    "ov_data.quality.value_counts()"
   ]
  },
  {
   "cell_type": "code",
   "execution_count": 49,
   "metadata": {},
   "outputs": [],
   "source": [
    "# 모델 로드 / 데이터 분할\n",
    "from sklearn.linear_model import LogisticRegression\n",
    "lr = LogisticRegression()\n",
    "X_train, X_test, y_train, y_test = train_test_split(ov_data[val_list], ov_data[['quality']], test_size = 0.2, stratify = ov_data.quality, random_state = 7)"
   ]
  },
  {
   "cell_type": "code",
   "execution_count": 52,
   "metadata": {},
   "outputs": [
    {
     "name": "stderr",
     "output_type": "stream",
     "text": [
      "C:\\Users\\Bestc\\anaconda3\\lib\\site-packages\\sklearn\\utils\\validation.py:63: DataConversionWarning: A column-vector y was passed when a 1d array was expected. Please change the shape of y to (n_samples, ), for example using ravel().\n",
      "  return f(*args, **kwargs)\n",
      "C:\\Users\\Bestc\\anaconda3\\lib\\site-packages\\sklearn\\linear_model\\_logistic.py:763: ConvergenceWarning: lbfgs failed to converge (status=1):\n",
      "STOP: TOTAL NO. of ITERATIONS REACHED LIMIT.\n",
      "\n",
      "Increase the number of iterations (max_iter) or scale the data as shown in:\n",
      "    https://scikit-learn.org/stable/modules/preprocessing.html\n",
      "Please also refer to the documentation for alternative solver options:\n",
      "    https://scikit-learn.org/stable/modules/linear_model.html#logistic-regression\n",
      "  n_iter_i = _check_optimize_result(\n"
     ]
    },
    {
     "data": {
      "text/plain": [
       "LogisticRegression()"
      ]
     },
     "execution_count": 52,
     "metadata": {},
     "output_type": "execute_result"
    }
   ],
   "source": [
    "lr.fit(X_train, y_train)"
   ]
  },
  {
   "cell_type": "code",
   "execution_count": 55,
   "metadata": {},
   "outputs": [
    {
     "name": "stdout",
     "output_type": "stream",
     "text": [
      "[[157  63  24  25  14]\n",
      " [ 98 100  44  15  27]\n",
      " [ 69  57  48  41  69]\n",
      " [ 54  35  32  69  93]\n",
      " [ 38  32  38  50 126]]\n",
      "              precision    recall  f1-score   support\n",
      "\n",
      "           4       0.38      0.55      0.45       283\n",
      "           5       0.35      0.35      0.35       284\n",
      "           6       0.26      0.17      0.20       284\n",
      "           7       0.34      0.24      0.29       283\n",
      "           8       0.38      0.44      0.41       284\n",
      "\n",
      "    accuracy                           0.35      1418\n",
      "   macro avg       0.34      0.35      0.34      1418\n",
      "weighted avg       0.34      0.35      0.34      1418\n",
      "\n"
     ]
    }
   ],
   "source": [
    "# 성능평가\n",
    "print(confusion_matrix(y_test, lr.predict(X_test)))\n",
    "print(classification_report(y_test, lr.predict(X_test)))"
   ]
  },
  {
   "cell_type": "code",
   "execution_count": null,
   "metadata": {},
   "outputs": [],
   "source": [
    "# 성능평가(테스트데이터 셋)\n",
    "print(confusion_matrix(y_test, lr.predict(X_test)))\n",
    "print(classification_report(y_test, lr.predict(X_test)))"
   ]
  }
 ],
 "metadata": {
  "interpreter": {
   "hash": "fe3bab233825460445dbfeea6dcd52ef5815a3fa13c858fea07ac830aa383284"
  },
  "kernelspec": {
   "display_name": "Python 3.8.10 64-bit ('base': conda)",
   "language": "python",
   "name": "python3"
  },
  "language_info": {
   "codemirror_mode": {
    "name": "ipython",
    "version": 3
   },
   "file_extension": ".py",
   "mimetype": "text/x-python",
   "name": "python",
   "nbconvert_exporter": "python",
   "pygments_lexer": "ipython3",
   "version": "3.8.10"
  },
  "orig_nbformat": 4
 },
 "nbformat": 4,
 "nbformat_minor": 2
}
