{
 "cells": [
  {
   "cell_type": "code",
   "execution_count": 409,
   "metadata": {},
   "outputs": [],
   "source": [
    "# 필요 패키지 로드\n",
    "import pandas as pd\n",
    "import matplotlib.pyplot as plt\n",
    "import seaborn as sns\n",
    "from matplotlib import patches\n",
    "%matplotlib inline\n",
    "import os\n",
    "import numpy as np\n",
    "from sklearn.linear_model import LinearRegression\n",
    "from statsmodels.formula.api import ols \n",
    "from statsmodels.api import OLS, add_constant"
   ]
  },
  {
   "cell_type": "code",
   "execution_count": 410,
   "metadata": {},
   "outputs": [
    {
     "data": {
      "text/plain": [
       "['sample_submission(KNN01).csv',\n",
       " 'sample_submission(로지스틱 회귀).csv',\n",
       " 'sample_submission.csv',\n",
       " 'test.csv',\n",
       " 'train.csv']"
      ]
     },
     "execution_count": 410,
     "metadata": {},
     "output_type": "execute_result"
    }
   ],
   "source": [
    "Basic_dir = os.path.dirname(os.path.dirname(os.path.realpath('EDA.ipynb')))\n",
    "PATH = Basic_dir + '\\\\Data\\\\Data(WineQ_B)\\\\'\n",
    "os.listdir(PATH)"
   ]
  },
  {
   "cell_type": "code",
   "execution_count": 411,
   "metadata": {},
   "outputs": [
    {
     "name": "stdout",
     "output_type": "stream",
     "text": [
      "Index(['id', 'fixed acidity', 'volatile acidity', 'citric acid',\n",
      "       'residual sugar', 'chlorides', 'free sulfur dioxide',\n",
      "       'total sulfur dioxide', 'density', 'pH', 'sulphates', 'alcohol', 'type',\n",
      "       'quality'],\n",
      "      dtype='object')\n"
     ]
    },
    {
     "data": {
      "text/html": [
       "<div>\n",
       "<style scoped>\n",
       "    .dataframe tbody tr th:only-of-type {\n",
       "        vertical-align: middle;\n",
       "    }\n",
       "\n",
       "    .dataframe tbody tr th {\n",
       "        vertical-align: top;\n",
       "    }\n",
       "\n",
       "    .dataframe thead th {\n",
       "        text-align: right;\n",
       "    }\n",
       "</style>\n",
       "<table border=\"1\" class=\"dataframe\">\n",
       "  <thead>\n",
       "    <tr style=\"text-align: right;\">\n",
       "      <th></th>\n",
       "      <th>id</th>\n",
       "      <th>fixed acidity</th>\n",
       "      <th>volatile acidity</th>\n",
       "      <th>citric acid</th>\n",
       "      <th>residual sugar</th>\n",
       "      <th>chlorides</th>\n",
       "      <th>free sulfur dioxide</th>\n",
       "      <th>total sulfur dioxide</th>\n",
       "      <th>density</th>\n",
       "      <th>pH</th>\n",
       "      <th>sulphates</th>\n",
       "      <th>alcohol</th>\n",
       "      <th>type</th>\n",
       "      <th>quality</th>\n",
       "    </tr>\n",
       "  </thead>\n",
       "  <tbody>\n",
       "    <tr>\n",
       "      <th>0</th>\n",
       "      <td>1</td>\n",
       "      <td>8.0</td>\n",
       "      <td>0.18</td>\n",
       "      <td>0.37</td>\n",
       "      <td>1.3</td>\n",
       "      <td>0.040</td>\n",
       "      <td>15.0</td>\n",
       "      <td>96.0</td>\n",
       "      <td>0.99120</td>\n",
       "      <td>3.06</td>\n",
       "      <td>0.61</td>\n",
       "      <td>12.1</td>\n",
       "      <td>white</td>\n",
       "      <td>6</td>\n",
       "    </tr>\n",
       "    <tr>\n",
       "      <th>1</th>\n",
       "      <td>2</td>\n",
       "      <td>7.5</td>\n",
       "      <td>0.38</td>\n",
       "      <td>0.29</td>\n",
       "      <td>4.9</td>\n",
       "      <td>0.021</td>\n",
       "      <td>38.0</td>\n",
       "      <td>113.0</td>\n",
       "      <td>0.99026</td>\n",
       "      <td>3.08</td>\n",
       "      <td>0.48</td>\n",
       "      <td>13.0</td>\n",
       "      <td>white</td>\n",
       "      <td>7</td>\n",
       "    </tr>\n",
       "    <tr>\n",
       "      <th>2</th>\n",
       "      <td>3</td>\n",
       "      <td>6.1</td>\n",
       "      <td>0.27</td>\n",
       "      <td>0.33</td>\n",
       "      <td>2.2</td>\n",
       "      <td>0.021</td>\n",
       "      <td>26.0</td>\n",
       "      <td>117.0</td>\n",
       "      <td>0.98860</td>\n",
       "      <td>3.12</td>\n",
       "      <td>0.30</td>\n",
       "      <td>12.5</td>\n",
       "      <td>white</td>\n",
       "      <td>6</td>\n",
       "    </tr>\n",
       "    <tr>\n",
       "      <th>3</th>\n",
       "      <td>4</td>\n",
       "      <td>6.4</td>\n",
       "      <td>0.32</td>\n",
       "      <td>0.50</td>\n",
       "      <td>10.7</td>\n",
       "      <td>0.047</td>\n",
       "      <td>57.0</td>\n",
       "      <td>206.0</td>\n",
       "      <td>0.99680</td>\n",
       "      <td>3.08</td>\n",
       "      <td>0.60</td>\n",
       "      <td>9.4</td>\n",
       "      <td>white</td>\n",
       "      <td>5</td>\n",
       "    </tr>\n",
       "    <tr>\n",
       "      <th>4</th>\n",
       "      <td>5</td>\n",
       "      <td>8.4</td>\n",
       "      <td>0.37</td>\n",
       "      <td>0.43</td>\n",
       "      <td>2.3</td>\n",
       "      <td>0.063</td>\n",
       "      <td>12.0</td>\n",
       "      <td>19.0</td>\n",
       "      <td>0.99550</td>\n",
       "      <td>3.17</td>\n",
       "      <td>0.81</td>\n",
       "      <td>11.2</td>\n",
       "      <td>red</td>\n",
       "      <td>7</td>\n",
       "    </tr>\n",
       "  </tbody>\n",
       "</table>\n",
       "</div>"
      ],
      "text/plain": [
       "   id  fixed acidity  volatile acidity  citric acid  residual sugar  \\\n",
       "0   1            8.0              0.18         0.37             1.3   \n",
       "1   2            7.5              0.38         0.29             4.9   \n",
       "2   3            6.1              0.27         0.33             2.2   \n",
       "3   4            6.4              0.32         0.50            10.7   \n",
       "4   5            8.4              0.37         0.43             2.3   \n",
       "\n",
       "   chlorides  free sulfur dioxide  total sulfur dioxide  density    pH  \\\n",
       "0      0.040                 15.0                  96.0  0.99120  3.06   \n",
       "1      0.021                 38.0                 113.0  0.99026  3.08   \n",
       "2      0.021                 26.0                 117.0  0.98860  3.12   \n",
       "3      0.047                 57.0                 206.0  0.99680  3.08   \n",
       "4      0.063                 12.0                  19.0  0.99550  3.17   \n",
       "\n",
       "   sulphates  alcohol   type  quality  \n",
       "0       0.61     12.1  white        6  \n",
       "1       0.48     13.0  white        7  \n",
       "2       0.30     12.5  white        6  \n",
       "3       0.60      9.4  white        5  \n",
       "4       0.81     11.2    red        7  "
      ]
     },
     "execution_count": 411,
     "metadata": {},
     "output_type": "execute_result"
    }
   ],
   "source": [
    "# 데이터 로드\n",
    "train = pd.read_csv(PATH + '\\\\train.csv')\n",
    "test = pd.read_csv(PATH + '\\\\test.csv')\n",
    "print(train.columns)\n",
    "train.head()"
   ]
  },
  {
   "cell_type": "code",
   "execution_count": 412,
   "metadata": {},
   "outputs": [
    {
     "data": {
      "text/plain": [
       "Index(['fixed acidity', 'volatile acidity', 'citric acid', 'residual sugar',\n",
       "       'chlorides', 'free sulfur dioxide', 'total sulfur dioxide', 'density',\n",
       "       'pH', 'sulphates', 'alcohol', 'type', 'quality'],\n",
       "      dtype='object')"
      ]
     },
     "execution_count": 412,
     "metadata": {},
     "output_type": "execute_result"
    }
   ],
   "source": [
    "df = train.drop(['id'], axis = 1).copy()\n",
    "# 범주형 변수 인코딩 : 와인 종류 - 0 : 화이트, 1: 레드\n",
    "df.type = np.where(df.type == 'white', 0, 1)\n",
    "test.type = np.where(test.type == 'white', 0, 1)\n",
    "df.columns"
   ]
  },
  {
   "cell_type": "code",
   "execution_count": 413,
   "metadata": {},
   "outputs": [
    {
     "data": {
      "text/html": [
       "<div>\n",
       "<style scoped>\n",
       "    .dataframe tbody tr th:only-of-type {\n",
       "        vertical-align: middle;\n",
       "    }\n",
       "\n",
       "    .dataframe tbody tr th {\n",
       "        vertical-align: top;\n",
       "    }\n",
       "\n",
       "    .dataframe thead th {\n",
       "        text-align: right;\n",
       "    }\n",
       "</style>\n",
       "<table border=\"1\" class=\"dataframe\">\n",
       "  <thead>\n",
       "    <tr style=\"text-align: right;\">\n",
       "      <th></th>\n",
       "      <th>fixed acidity</th>\n",
       "      <th>volatile acidity</th>\n",
       "      <th>citric acid</th>\n",
       "      <th>residual sugar</th>\n",
       "      <th>chlorides</th>\n",
       "      <th>free sulfur dioxide</th>\n",
       "      <th>total sulfur dioxide</th>\n",
       "      <th>density</th>\n",
       "      <th>pH</th>\n",
       "      <th>sulphates</th>\n",
       "      <th>alcohol</th>\n",
       "      <th>type</th>\n",
       "      <th>quality</th>\n",
       "    </tr>\n",
       "  </thead>\n",
       "  <tbody>\n",
       "    <tr>\n",
       "      <th>0</th>\n",
       "      <td>8.0</td>\n",
       "      <td>0.18</td>\n",
       "      <td>0.37</td>\n",
       "      <td>1.30</td>\n",
       "      <td>0.040</td>\n",
       "      <td>15.0</td>\n",
       "      <td>96.0</td>\n",
       "      <td>0.99120</td>\n",
       "      <td>3.06</td>\n",
       "      <td>0.61</td>\n",
       "      <td>12.1</td>\n",
       "      <td>0</td>\n",
       "      <td>6</td>\n",
       "    </tr>\n",
       "    <tr>\n",
       "      <th>1</th>\n",
       "      <td>7.5</td>\n",
       "      <td>0.38</td>\n",
       "      <td>0.29</td>\n",
       "      <td>4.90</td>\n",
       "      <td>0.021</td>\n",
       "      <td>38.0</td>\n",
       "      <td>113.0</td>\n",
       "      <td>0.99026</td>\n",
       "      <td>3.08</td>\n",
       "      <td>0.48</td>\n",
       "      <td>13.0</td>\n",
       "      <td>0</td>\n",
       "      <td>7</td>\n",
       "    </tr>\n",
       "    <tr>\n",
       "      <th>2</th>\n",
       "      <td>6.1</td>\n",
       "      <td>0.27</td>\n",
       "      <td>0.33</td>\n",
       "      <td>2.20</td>\n",
       "      <td>0.021</td>\n",
       "      <td>26.0</td>\n",
       "      <td>117.0</td>\n",
       "      <td>0.98860</td>\n",
       "      <td>3.12</td>\n",
       "      <td>0.30</td>\n",
       "      <td>12.5</td>\n",
       "      <td>0</td>\n",
       "      <td>6</td>\n",
       "    </tr>\n",
       "    <tr>\n",
       "      <th>3</th>\n",
       "      <td>6.4</td>\n",
       "      <td>0.32</td>\n",
       "      <td>0.50</td>\n",
       "      <td>10.70</td>\n",
       "      <td>0.047</td>\n",
       "      <td>57.0</td>\n",
       "      <td>206.0</td>\n",
       "      <td>0.99680</td>\n",
       "      <td>3.08</td>\n",
       "      <td>0.60</td>\n",
       "      <td>9.4</td>\n",
       "      <td>0</td>\n",
       "      <td>5</td>\n",
       "    </tr>\n",
       "    <tr>\n",
       "      <th>4</th>\n",
       "      <td>8.4</td>\n",
       "      <td>0.37</td>\n",
       "      <td>0.43</td>\n",
       "      <td>2.30</td>\n",
       "      <td>0.063</td>\n",
       "      <td>12.0</td>\n",
       "      <td>19.0</td>\n",
       "      <td>0.99550</td>\n",
       "      <td>3.17</td>\n",
       "      <td>0.81</td>\n",
       "      <td>11.2</td>\n",
       "      <td>1</td>\n",
       "      <td>7</td>\n",
       "    </tr>\n",
       "    <tr>\n",
       "      <th>...</th>\n",
       "      <td>...</td>\n",
       "      <td>...</td>\n",
       "      <td>...</td>\n",
       "      <td>...</td>\n",
       "      <td>...</td>\n",
       "      <td>...</td>\n",
       "      <td>...</td>\n",
       "      <td>...</td>\n",
       "      <td>...</td>\n",
       "      <td>...</td>\n",
       "      <td>...</td>\n",
       "      <td>...</td>\n",
       "      <td>...</td>\n",
       "    </tr>\n",
       "    <tr>\n",
       "      <th>3226</th>\n",
       "      <td>6.4</td>\n",
       "      <td>0.16</td>\n",
       "      <td>0.31</td>\n",
       "      <td>5.30</td>\n",
       "      <td>0.043</td>\n",
       "      <td>42.0</td>\n",
       "      <td>157.0</td>\n",
       "      <td>0.99455</td>\n",
       "      <td>3.35</td>\n",
       "      <td>0.47</td>\n",
       "      <td>10.5</td>\n",
       "      <td>0</td>\n",
       "      <td>5</td>\n",
       "    </tr>\n",
       "    <tr>\n",
       "      <th>3227</th>\n",
       "      <td>6.4</td>\n",
       "      <td>0.18</td>\n",
       "      <td>0.28</td>\n",
       "      <td>17.05</td>\n",
       "      <td>0.047</td>\n",
       "      <td>53.0</td>\n",
       "      <td>139.0</td>\n",
       "      <td>0.99724</td>\n",
       "      <td>3.25</td>\n",
       "      <td>0.35</td>\n",
       "      <td>10.5</td>\n",
       "      <td>0</td>\n",
       "      <td>6</td>\n",
       "    </tr>\n",
       "    <tr>\n",
       "      <th>3228</th>\n",
       "      <td>6.0</td>\n",
       "      <td>0.28</td>\n",
       "      <td>0.25</td>\n",
       "      <td>1.80</td>\n",
       "      <td>0.042</td>\n",
       "      <td>8.0</td>\n",
       "      <td>108.0</td>\n",
       "      <td>0.99290</td>\n",
       "      <td>3.08</td>\n",
       "      <td>0.55</td>\n",
       "      <td>9.0</td>\n",
       "      <td>0</td>\n",
       "      <td>5</td>\n",
       "    </tr>\n",
       "    <tr>\n",
       "      <th>3229</th>\n",
       "      <td>7.7</td>\n",
       "      <td>0.28</td>\n",
       "      <td>0.29</td>\n",
       "      <td>6.90</td>\n",
       "      <td>0.041</td>\n",
       "      <td>29.0</td>\n",
       "      <td>163.0</td>\n",
       "      <td>0.99520</td>\n",
       "      <td>3.44</td>\n",
       "      <td>0.60</td>\n",
       "      <td>10.5</td>\n",
       "      <td>0</td>\n",
       "      <td>6</td>\n",
       "    </tr>\n",
       "    <tr>\n",
       "      <th>3230</th>\n",
       "      <td>7.1</td>\n",
       "      <td>0.15</td>\n",
       "      <td>0.34</td>\n",
       "      <td>5.30</td>\n",
       "      <td>0.034</td>\n",
       "      <td>33.0</td>\n",
       "      <td>104.0</td>\n",
       "      <td>0.99530</td>\n",
       "      <td>3.37</td>\n",
       "      <td>0.52</td>\n",
       "      <td>9.3</td>\n",
       "      <td>0</td>\n",
       "      <td>7</td>\n",
       "    </tr>\n",
       "  </tbody>\n",
       "</table>\n",
       "<p>3231 rows × 13 columns</p>\n",
       "</div>"
      ],
      "text/plain": [
       "      fixed acidity  volatile acidity  citric acid  residual sugar  chlorides  \\\n",
       "0               8.0              0.18         0.37            1.30      0.040   \n",
       "1               7.5              0.38         0.29            4.90      0.021   \n",
       "2               6.1              0.27         0.33            2.20      0.021   \n",
       "3               6.4              0.32         0.50           10.70      0.047   \n",
       "4               8.4              0.37         0.43            2.30      0.063   \n",
       "...             ...               ...          ...             ...        ...   \n",
       "3226            6.4              0.16         0.31            5.30      0.043   \n",
       "3227            6.4              0.18         0.28           17.05      0.047   \n",
       "3228            6.0              0.28         0.25            1.80      0.042   \n",
       "3229            7.7              0.28         0.29            6.90      0.041   \n",
       "3230            7.1              0.15         0.34            5.30      0.034   \n",
       "\n",
       "      free sulfur dioxide  total sulfur dioxide  density    pH  sulphates  \\\n",
       "0                    15.0                  96.0  0.99120  3.06       0.61   \n",
       "1                    38.0                 113.0  0.99026  3.08       0.48   \n",
       "2                    26.0                 117.0  0.98860  3.12       0.30   \n",
       "3                    57.0                 206.0  0.99680  3.08       0.60   \n",
       "4                    12.0                  19.0  0.99550  3.17       0.81   \n",
       "...                   ...                   ...      ...   ...        ...   \n",
       "3226                 42.0                 157.0  0.99455  3.35       0.47   \n",
       "3227                 53.0                 139.0  0.99724  3.25       0.35   \n",
       "3228                  8.0                 108.0  0.99290  3.08       0.55   \n",
       "3229                 29.0                 163.0  0.99520  3.44       0.60   \n",
       "3230                 33.0                 104.0  0.99530  3.37       0.52   \n",
       "\n",
       "      alcohol  type  quality  \n",
       "0        12.1     0        6  \n",
       "1        13.0     0        7  \n",
       "2        12.5     0        6  \n",
       "3         9.4     0        5  \n",
       "4        11.2     1        7  \n",
       "...       ...   ...      ...  \n",
       "3226     10.5     0        5  \n",
       "3227     10.5     0        6  \n",
       "3228      9.0     0        5  \n",
       "3229     10.5     0        6  \n",
       "3230      9.3     0        7  \n",
       "\n",
       "[3231 rows x 13 columns]"
      ]
     },
     "execution_count": 413,
     "metadata": {},
     "output_type": "execute_result"
    }
   ],
   "source": [
    "x_list = ['fixed acidity', 'volatile acidity', 'citric acid', 'residual sugar',\n",
    "          'chlorides', 'free sulfur dioxide', 'total sulfur dioxide', 'density',\n",
    "          'pH', 'sulphates', 'alcohol']\n",
    "df"
   ]
  },
  {
   "cell_type": "code",
   "execution_count": 414,
   "metadata": {},
   "outputs": [
    {
     "name": "stdout",
     "output_type": "stream",
     "text": [
      "fixed acidity : -0.109, 0.0\n",
      "volatile acidity : -0.254, 0.0\n",
      "citric acid : 0.08, 1e-05\n",
      "chlorides : -0.286, 0.0\n",
      "free sulfur dioxide : 0.082, 0.0\n",
      "total sulfur dioxide : -0.058, 0.00092\n",
      "density : -0.329, 0.0\n",
      "pH : 0.044, 0.01194\n",
      "alcohol : 0.449, 0.0\n"
     ]
    }
   ],
   "source": [
    "# 순위변수(품질)와 연속형변수(x_list에 해당하는 자료들)을 분석하기 위해 스피어만 상관계수 사용\n",
    "# 품질을 연속형으로 보면 회귀 및 피어슨 상관계수분석 가능\n",
    "# p-value가 0.05 이하인 변수들은 제외\n",
    "from scipy import stats\n",
    "val_list = []\n",
    "for col in x_list:\n",
    "    if stats.spearmanr(df[col], df.quality)[1] < 0.05:\n",
    "        val_list.append(col)\n",
    "        print(f'{col} : {round(stats.spearmanr(df[col], df.quality)[0], 3)}, {round(stats.spearmanr(df[col], df.quality)[1], 5)}')\n",
    "val_list = val_list + ['type']"
   ]
  },
  {
   "cell_type": "code",
   "execution_count": 415,
   "metadata": {},
   "outputs": [
    {
     "name": "stdout",
     "output_type": "stream",
     "text": [
      "['fixed acidity', 'volatile acidity', 'chlorides', 'density', 'alcohol', 'type']\n"
     ]
    }
   ],
   "source": [
    "# 변형 - 낮은 상관계수를 가진 변수들 제거\n",
    "val_list.remove('citric acid')\n",
    "val_list.remove('free sulfur dioxide')\n",
    "val_list.remove('total sulfur dioxide')\n",
    "val_list.remove('pH')\n",
    "print(val_list)"
   ]
  },
  {
   "cell_type": "code",
   "execution_count": 416,
   "metadata": {},
   "outputs": [
    {
     "data": {
      "text/html": [
       "<div>\n",
       "<style scoped>\n",
       "    .dataframe tbody tr th:only-of-type {\n",
       "        vertical-align: middle;\n",
       "    }\n",
       "\n",
       "    .dataframe tbody tr th {\n",
       "        vertical-align: top;\n",
       "    }\n",
       "\n",
       "    .dataframe thead th {\n",
       "        text-align: right;\n",
       "    }\n",
       "</style>\n",
       "<table border=\"1\" class=\"dataframe\">\n",
       "  <thead>\n",
       "    <tr style=\"text-align: right;\">\n",
       "      <th></th>\n",
       "      <th>fixed acidity</th>\n",
       "      <th>volatile acidity</th>\n",
       "      <th>chlorides</th>\n",
       "      <th>density</th>\n",
       "      <th>alcohol</th>\n",
       "      <th>type</th>\n",
       "      <th>quality</th>\n",
       "    </tr>\n",
       "  </thead>\n",
       "  <tbody>\n",
       "    <tr>\n",
       "      <th>0</th>\n",
       "      <td>8.0</td>\n",
       "      <td>0.18</td>\n",
       "      <td>0.040</td>\n",
       "      <td>0.99120</td>\n",
       "      <td>12.1</td>\n",
       "      <td>0</td>\n",
       "      <td>6</td>\n",
       "    </tr>\n",
       "    <tr>\n",
       "      <th>1</th>\n",
       "      <td>7.5</td>\n",
       "      <td>0.38</td>\n",
       "      <td>0.021</td>\n",
       "      <td>0.99026</td>\n",
       "      <td>13.0</td>\n",
       "      <td>0</td>\n",
       "      <td>7</td>\n",
       "    </tr>\n",
       "    <tr>\n",
       "      <th>2</th>\n",
       "      <td>6.1</td>\n",
       "      <td>0.27</td>\n",
       "      <td>0.021</td>\n",
       "      <td>0.98860</td>\n",
       "      <td>12.5</td>\n",
       "      <td>0</td>\n",
       "      <td>6</td>\n",
       "    </tr>\n",
       "    <tr>\n",
       "      <th>3</th>\n",
       "      <td>6.4</td>\n",
       "      <td>0.32</td>\n",
       "      <td>0.047</td>\n",
       "      <td>0.99680</td>\n",
       "      <td>9.4</td>\n",
       "      <td>0</td>\n",
       "      <td>5</td>\n",
       "    </tr>\n",
       "    <tr>\n",
       "      <th>4</th>\n",
       "      <td>8.4</td>\n",
       "      <td>0.37</td>\n",
       "      <td>0.063</td>\n",
       "      <td>0.99550</td>\n",
       "      <td>11.2</td>\n",
       "      <td>1</td>\n",
       "      <td>7</td>\n",
       "    </tr>\n",
       "  </tbody>\n",
       "</table>\n",
       "</div>"
      ],
      "text/plain": [
       "   fixed acidity  volatile acidity  chlorides  density  alcohol  type  quality\n",
       "0            8.0              0.18      0.040  0.99120     12.1     0        6\n",
       "1            7.5              0.38      0.021  0.99026     13.0     0        7\n",
       "2            6.1              0.27      0.021  0.98860     12.5     0        6\n",
       "3            6.4              0.32      0.047  0.99680      9.4     0        5\n",
       "4            8.4              0.37      0.063  0.99550     11.2     1        7"
      ]
     },
     "execution_count": 416,
     "metadata": {},
     "output_type": "execute_result"
    }
   ],
   "source": [
    "df_train01 = df[val_list + ['quality']].copy()\n",
    "df_train01.head()"
   ]
  },
  {
   "cell_type": "code",
   "execution_count": 417,
   "metadata": {},
   "outputs": [
    {
     "data": {
      "text/html": [
       "<div>\n",
       "<style scoped>\n",
       "    .dataframe tbody tr th:only-of-type {\n",
       "        vertical-align: middle;\n",
       "    }\n",
       "\n",
       "    .dataframe tbody tr th {\n",
       "        vertical-align: top;\n",
       "    }\n",
       "\n",
       "    .dataframe thead th {\n",
       "        text-align: right;\n",
       "    }\n",
       "</style>\n",
       "<table border=\"1\" class=\"dataframe\">\n",
       "  <thead>\n",
       "    <tr style=\"text-align: right;\">\n",
       "      <th></th>\n",
       "      <th>fixed acidity</th>\n",
       "      <th>volatile acidity</th>\n",
       "      <th>chlorides</th>\n",
       "      <th>density</th>\n",
       "      <th>alcohol</th>\n",
       "      <th>type</th>\n",
       "    </tr>\n",
       "  </thead>\n",
       "  <tbody>\n",
       "    <tr>\n",
       "      <th>0</th>\n",
       "      <td>7.3</td>\n",
       "      <td>0.31</td>\n",
       "      <td>0.032</td>\n",
       "      <td>0.99244</td>\n",
       "      <td>11.1</td>\n",
       "      <td>0</td>\n",
       "    </tr>\n",
       "    <tr>\n",
       "      <th>1</th>\n",
       "      <td>8.7</td>\n",
       "      <td>0.70</td>\n",
       "      <td>0.226</td>\n",
       "      <td>0.99910</td>\n",
       "      <td>9.0</td>\n",
       "      <td>1</td>\n",
       "    </tr>\n",
       "    <tr>\n",
       "      <th>2</th>\n",
       "      <td>6.9</td>\n",
       "      <td>0.63</td>\n",
       "      <td>0.076</td>\n",
       "      <td>0.99522</td>\n",
       "      <td>10.8</td>\n",
       "      <td>1</td>\n",
       "    </tr>\n",
       "    <tr>\n",
       "      <th>3</th>\n",
       "      <td>6.3</td>\n",
       "      <td>0.23</td>\n",
       "      <td>0.043</td>\n",
       "      <td>0.99542</td>\n",
       "      <td>9.1</td>\n",
       "      <td>0</td>\n",
       "    </tr>\n",
       "    <tr>\n",
       "      <th>4</th>\n",
       "      <td>6.9</td>\n",
       "      <td>0.54</td>\n",
       "      <td>0.077</td>\n",
       "      <td>0.99870</td>\n",
       "      <td>9.4</td>\n",
       "      <td>1</td>\n",
       "    </tr>\n",
       "    <tr>\n",
       "      <th>...</th>\n",
       "      <td>...</td>\n",
       "      <td>...</td>\n",
       "      <td>...</td>\n",
       "      <td>...</td>\n",
       "      <td>...</td>\n",
       "      <td>...</td>\n",
       "    </tr>\n",
       "    <tr>\n",
       "      <th>3226</th>\n",
       "      <td>7.1</td>\n",
       "      <td>0.32</td>\n",
       "      <td>0.050</td>\n",
       "      <td>0.99800</td>\n",
       "      <td>8.8</td>\n",
       "      <td>0</td>\n",
       "    </tr>\n",
       "    <tr>\n",
       "      <th>3227</th>\n",
       "      <td>5.6</td>\n",
       "      <td>0.28</td>\n",
       "      <td>0.034</td>\n",
       "      <td>0.99144</td>\n",
       "      <td>12.1</td>\n",
       "      <td>0</td>\n",
       "    </tr>\n",
       "    <tr>\n",
       "      <th>3228</th>\n",
       "      <td>7.3</td>\n",
       "      <td>0.31</td>\n",
       "      <td>0.041</td>\n",
       "      <td>0.99770</td>\n",
       "      <td>8.6</td>\n",
       "      <td>0</td>\n",
       "    </tr>\n",
       "    <tr>\n",
       "      <th>3229</th>\n",
       "      <td>5.2</td>\n",
       "      <td>0.34</td>\n",
       "      <td>0.031</td>\n",
       "      <td>0.99076</td>\n",
       "      <td>12.5</td>\n",
       "      <td>0</td>\n",
       "    </tr>\n",
       "    <tr>\n",
       "      <th>3230</th>\n",
       "      <td>6.9</td>\n",
       "      <td>0.20</td>\n",
       "      <td>0.031</td>\n",
       "      <td>0.99310</td>\n",
       "      <td>11.0</td>\n",
       "      <td>0</td>\n",
       "    </tr>\n",
       "  </tbody>\n",
       "</table>\n",
       "<p>3231 rows × 6 columns</p>\n",
       "</div>"
      ],
      "text/plain": [
       "      fixed acidity  volatile acidity  chlorides  density  alcohol  type\n",
       "0               7.3              0.31      0.032  0.99244     11.1     0\n",
       "1               8.7              0.70      0.226  0.99910      9.0     1\n",
       "2               6.9              0.63      0.076  0.99522     10.8     1\n",
       "3               6.3              0.23      0.043  0.99542      9.1     0\n",
       "4               6.9              0.54      0.077  0.99870      9.4     1\n",
       "...             ...               ...        ...      ...      ...   ...\n",
       "3226            7.1              0.32      0.050  0.99800      8.8     0\n",
       "3227            5.6              0.28      0.034  0.99144     12.1     0\n",
       "3228            7.3              0.31      0.041  0.99770      8.6     0\n",
       "3229            5.2              0.34      0.031  0.99076     12.5     0\n",
       "3230            6.9              0.20      0.031  0.99310     11.0     0\n",
       "\n",
       "[3231 rows x 6 columns]"
      ]
     },
     "execution_count": 417,
     "metadata": {},
     "output_type": "execute_result"
    }
   ],
   "source": [
    "df_test01 = test[val_list].copy()\n",
    "df_test01"
   ]
  },
  {
   "cell_type": "code",
   "execution_count": 418,
   "metadata": {},
   "outputs": [
    {
     "data": {
      "text/html": [
       "<div>\n",
       "<style scoped>\n",
       "    .dataframe tbody tr th:only-of-type {\n",
       "        vertical-align: middle;\n",
       "    }\n",
       "\n",
       "    .dataframe tbody tr th {\n",
       "        vertical-align: top;\n",
       "    }\n",
       "\n",
       "    .dataframe thead th {\n",
       "        text-align: right;\n",
       "    }\n",
       "</style>\n",
       "<table border=\"1\" class=\"dataframe\">\n",
       "  <thead>\n",
       "    <tr style=\"text-align: right;\">\n",
       "      <th></th>\n",
       "      <th>fixed acidity</th>\n",
       "      <th>volatile acidity</th>\n",
       "      <th>chlorides</th>\n",
       "      <th>density</th>\n",
       "      <th>alcohol</th>\n",
       "      <th>type</th>\n",
       "    </tr>\n",
       "  </thead>\n",
       "  <tbody>\n",
       "    <tr>\n",
       "      <th>0</th>\n",
       "      <td>0.306306</td>\n",
       "      <td>0.184</td>\n",
       "      <td>0.038270</td>\n",
       "      <td>0.229176</td>\n",
       "      <td>0.516667</td>\n",
       "      <td>0</td>\n",
       "    </tr>\n",
       "    <tr>\n",
       "      <th>1</th>\n",
       "      <td>0.432432</td>\n",
       "      <td>0.496</td>\n",
       "      <td>0.361065</td>\n",
       "      <td>0.516616</td>\n",
       "      <td>0.166667</td>\n",
       "      <td>1</td>\n",
       "    </tr>\n",
       "    <tr>\n",
       "      <th>2</th>\n",
       "      <td>0.270270</td>\n",
       "      <td>0.440</td>\n",
       "      <td>0.111481</td>\n",
       "      <td>0.349158</td>\n",
       "      <td>0.466667</td>\n",
       "      <td>1</td>\n",
       "    </tr>\n",
       "    <tr>\n",
       "      <th>3</th>\n",
       "      <td>0.216216</td>\n",
       "      <td>0.120</td>\n",
       "      <td>0.056572</td>\n",
       "      <td>0.357790</td>\n",
       "      <td>0.183333</td>\n",
       "      <td>0</td>\n",
       "    </tr>\n",
       "    <tr>\n",
       "      <th>4</th>\n",
       "      <td>0.270270</td>\n",
       "      <td>0.368</td>\n",
       "      <td>0.113145</td>\n",
       "      <td>0.499353</td>\n",
       "      <td>0.233333</td>\n",
       "      <td>1</td>\n",
       "    </tr>\n",
       "    <tr>\n",
       "      <th>...</th>\n",
       "      <td>...</td>\n",
       "      <td>...</td>\n",
       "      <td>...</td>\n",
       "      <td>...</td>\n",
       "      <td>...</td>\n",
       "      <td>...</td>\n",
       "    </tr>\n",
       "    <tr>\n",
       "      <th>3226</th>\n",
       "      <td>0.288288</td>\n",
       "      <td>0.192</td>\n",
       "      <td>0.068220</td>\n",
       "      <td>0.469141</td>\n",
       "      <td>0.133333</td>\n",
       "      <td>0</td>\n",
       "    </tr>\n",
       "    <tr>\n",
       "      <th>3227</th>\n",
       "      <td>0.153153</td>\n",
       "      <td>0.160</td>\n",
       "      <td>0.041597</td>\n",
       "      <td>0.186016</td>\n",
       "      <td>0.683333</td>\n",
       "      <td>0</td>\n",
       "    </tr>\n",
       "    <tr>\n",
       "      <th>3228</th>\n",
       "      <td>0.306306</td>\n",
       "      <td>0.184</td>\n",
       "      <td>0.053245</td>\n",
       "      <td>0.456193</td>\n",
       "      <td>0.100000</td>\n",
       "      <td>0</td>\n",
       "    </tr>\n",
       "    <tr>\n",
       "      <th>3229</th>\n",
       "      <td>0.117117</td>\n",
       "      <td>0.208</td>\n",
       "      <td>0.036606</td>\n",
       "      <td>0.156668</td>\n",
       "      <td>0.750000</td>\n",
       "      <td>0</td>\n",
       "    </tr>\n",
       "    <tr>\n",
       "      <th>3230</th>\n",
       "      <td>0.270270</td>\n",
       "      <td>0.096</td>\n",
       "      <td>0.036606</td>\n",
       "      <td>0.257661</td>\n",
       "      <td>0.500000</td>\n",
       "      <td>0</td>\n",
       "    </tr>\n",
       "  </tbody>\n",
       "</table>\n",
       "<p>3231 rows × 6 columns</p>\n",
       "</div>"
      ],
      "text/plain": [
       "      fixed acidity  volatile acidity  chlorides   density   alcohol  type\n",
       "0          0.306306             0.184   0.038270  0.229176  0.516667     0\n",
       "1          0.432432             0.496   0.361065  0.516616  0.166667     1\n",
       "2          0.270270             0.440   0.111481  0.349158  0.466667     1\n",
       "3          0.216216             0.120   0.056572  0.357790  0.183333     0\n",
       "4          0.270270             0.368   0.113145  0.499353  0.233333     1\n",
       "...             ...               ...        ...       ...       ...   ...\n",
       "3226       0.288288             0.192   0.068220  0.469141  0.133333     0\n",
       "3227       0.153153             0.160   0.041597  0.186016  0.683333     0\n",
       "3228       0.306306             0.184   0.053245  0.456193  0.100000     0\n",
       "3229       0.117117             0.208   0.036606  0.156668  0.750000     0\n",
       "3230       0.270270             0.096   0.036606  0.257661  0.500000     0\n",
       "\n",
       "[3231 rows x 6 columns]"
      ]
     },
     "execution_count": 418,
     "metadata": {},
     "output_type": "execute_result"
    }
   ],
   "source": [
    "# 데이터 스케일링(정규화)\n",
    "from sklearn.preprocessing import MinMaxScaler\n",
    "scaler = MinMaxScaler()\n",
    "df_train01.iloc[:, :5] = scaler.fit_transform(df_train01.iloc[:, :5])\n",
    "df_train01\n",
    "df_test01.iloc[:, :5] = scaler.fit_transform(df_test01.iloc[:, :5])\n",
    "df_test01"
   ]
  },
  {
   "cell_type": "code",
   "execution_count": 419,
   "metadata": {},
   "outputs": [
    {
     "name": "stdout",
     "output_type": "stream",
     "text": [
      "(0.8806405067443848, 6.8211285607631986e-40)\n",
      "(0.8489985466003418, 1.3885939491592415e-26)\n",
      "LeveneResult(statistic=2.2844341277661093, pvalue=0.13077564881090867)\n",
      "ANOVA 결과\n",
      "              df       sum_sq    mean_sq          F        PR(>F)\n",
      "type         1.0    37.628243  37.628243  52.917308  4.345939e-13\n",
      "Residual  3229.0  2296.065350   0.711076        NaN           NaN\n"
     ]
    },
    {
     "data": {
      "text/plain": [
       "KruskalResult(statistic=54.912671932245594, pvalue=1.260059601804536e-13)"
      ]
     },
     "execution_count": 419,
     "metadata": {},
     "output_type": "execute_result"
    }
   ],
   "source": [
    "# 품질과 와인종류간 연관성 테스트 \n",
    "# 크루스칼 왈리스(독립변수 집단 중 하나라도 정규성 가정이 깨질때 사용 / 비모수적 방법) / ANOVA 분산분석(모수적 방법)\n",
    "import statsmodels.api as sm\n",
    "from statsmodels.formula.api import ols\n",
    "# 분산분석시 하는 것들\n",
    "# 1. 정규성 검정\n",
    "# p-value가 0.05보다 작으므로 귀무가설 기각 - 정규분포를 따르지 않는다. - 크루스칼 왈리스 사용\n",
    "print(stats.shapiro(df_train01[df_train01['type'] == 0].quality)) # 앞의 값이 통계량 / 뒤의 값이 p-value(0.05보다 크면 귀무가설[정규분포를 따른다] 기각)\n",
    "print(stats.shapiro(df_train01[df_train01['type'] == 1].quality)) # 앞의 값이 통계량 / 뒤의 값이 p-value(0.05보다 크면 귀무가설[정규분포를 따른다] 기각)\n",
    "\n",
    "# 2. 등분산성 검정\n",
    "# p-value가 0.05보다 작으므로 귀무가설 기각불가 - 등분산이다 \n",
    "print(stats.levene(df_train01[df_train01['type'] == 0].quality,\\\n",
    "                   df_train01[df_train01['type'] == 1].quality)) # 앞의 값이 통계량 / 뒤의 값이 p-value(0.05보다 크면 귀무가설[등분산이다] 기각)\n",
    "\n",
    "# ANOVA 분산분석\n",
    "formula = 'quality~type'\n",
    "model = ols(formula, data = df_train01[['type', 'quality']]).fit()\n",
    "print('ANOVA 결과', sm.stats.anova_lm(model), sep = '\\n')\n",
    "\n",
    "# 크루스칼 왈리스 순위합 검정\n",
    "# p-value가 0.05이하이므로 귀무가설(관계가 없다)기각\n",
    "stats.kruskal(df_train01[df_train01['type'] == 0].quality,\\\n",
    "              df_train01[df_train01['type'] == 1].quality)\n",
    "\n",
    "# + 이분산을 고려한 분산분석은 welch_anova를 사용한다.\n",
    "# 독립변수로 1. fixed acidity 2. volatile acidity 3. chlorides 4. density 5. alcohol 6. type만 사용"
   ]
  },
  {
   "cell_type": "code",
   "execution_count": 420,
   "metadata": {},
   "outputs": [
    {
     "data": {
      "text/plain": [
       "(3231, 7090)"
      ]
     },
     "execution_count": 420,
     "metadata": {},
     "output_type": "execute_result"
    }
   ],
   "source": [
    "# 클래스 불균형 처리를 해주는 imbalanced-learn를 호출\n",
    "# 오버 샘플링 시행\n",
    "from imblearn.over_sampling import RandomOverSampler\n",
    "from imblearn.under_sampling import RandomUnderSampler\n",
    "ros = RandomOverSampler()\n",
    "ov_data, ov_label = ros.fit_resample(df_train01[val_list].copy(), df_train01[['quality']].copy())\n",
    "ov_data = pd.DataFrame(ov_data, columns = val_list)\n",
    "ov_data['quality'] = ov_label\n",
    "len(df_train01), len(ov_data)"
   ]
  },
  {
   "cell_type": "code",
   "execution_count": 421,
   "metadata": {},
   "outputs": [
    {
     "data": {
      "text/plain": [
       "6    1418\n",
       "7    1418\n",
       "5    1418\n",
       "8    1418\n",
       "4    1418\n",
       "Name: quality, dtype: int64"
      ]
     },
     "execution_count": 421,
     "metadata": {},
     "output_type": "execute_result"
    }
   ],
   "source": [
    "ov_data.quality.value_counts()"
   ]
  },
  {
   "cell_type": "code",
   "execution_count": 422,
   "metadata": {},
   "outputs": [],
   "source": [
    "# 데이터 분할\n",
    "X_train, X_test, y_train, y_test = train_test_split(ov_data[val_list], ov_data[['quality']], test_size = 0.1, stratify = ov_data.quality, random_state = 7)"
   ]
  },
  {
   "cell_type": "code",
   "execution_count": 423,
   "metadata": {},
   "outputs": [
    {
     "name": "stderr",
     "output_type": "stream",
     "text": [
      "C:\\Users\\Bestc\\anaconda3\\lib\\site-packages\\sklearn\\utils\\validation.py:63: DataConversionWarning: A column-vector y was passed when a 1d array was expected. Please change the shape of y to (n_samples, ), for example using ravel().\n",
      "  return f(*args, **kwargs)\n",
      "C:\\Users\\Bestc\\anaconda3\\lib\\site-packages\\sklearn\\linear_model\\_logistic.py:763: ConvergenceWarning: lbfgs failed to converge (status=1):\n",
      "STOP: TOTAL NO. of ITERATIONS REACHED LIMIT.\n",
      "\n",
      "Increase the number of iterations (max_iter) or scale the data as shown in:\n",
      "    https://scikit-learn.org/stable/modules/preprocessing.html\n",
      "Please also refer to the documentation for alternative solver options:\n",
      "    https://scikit-learn.org/stable/modules/linear_model.html#logistic-regression\n",
      "  n_iter_i = _check_optimize_result(\n"
     ]
    },
    {
     "data": {
      "text/plain": [
       "LogisticRegression()"
      ]
     },
     "execution_count": 423,
     "metadata": {},
     "output_type": "execute_result"
    }
   ],
   "source": [
    "# 로지스틱 회귀분석 테스트\n",
    "from sklearn.model_selection import train_test_split\n",
    "from sklearn.metrics import classification_report, confusion_matrix\n",
    "from sklearn.linear_model import LogisticRegression\n",
    "lr = LogisticRegression()\n",
    "lr.fit(X_train, y_train)"
   ]
  },
  {
   "cell_type": "code",
   "execution_count": 424,
   "metadata": {},
   "outputs": [
    {
     "name": "stdout",
     "output_type": "stream",
     "text": [
      "[[631 279 178  98  91]\n",
      " [255 688 183  81  69]\n",
      " [109 371 312 200 284]\n",
      " [ 58 156 135 346 581]\n",
      " [ 76 129 174 233 664]]\n",
      "              precision    recall  f1-score   support\n",
      "\n",
      "           4       0.56      0.49      0.52      1277\n",
      "           5       0.42      0.54      0.47      1276\n",
      "           6       0.32      0.24      0.28      1276\n",
      "           7       0.36      0.27      0.31      1276\n",
      "           8       0.39      0.52      0.45      1276\n",
      "\n",
      "    accuracy                           0.41      6381\n",
      "   macro avg       0.41      0.41      0.41      6381\n",
      "weighted avg       0.41      0.41      0.41      6381\n",
      "\n"
     ]
    }
   ],
   "source": [
    "# 성능평가(훈련)\n",
    "print(confusion_matrix(y_train, lr.predict(X_train)))\n",
    "print(classification_report(y_train, lr.predict(X_train)))"
   ]
  },
  {
   "cell_type": "code",
   "execution_count": 425,
   "metadata": {},
   "outputs": [
    {
     "name": "stdout",
     "output_type": "stream",
     "text": [
      "Accuracy : 41.889985895627646\n",
      "[[69 37 15 10 10]\n",
      " [30 75 22  7  8]\n",
      " [12 41 29 28 32]\n",
      " [10 20 19 40 53]\n",
      " [ 9 15 16 18 84]]\n",
      "              precision    recall  f1-score   support\n",
      "\n",
      "           4       0.53      0.49      0.51       141\n",
      "           5       0.40      0.53      0.45       142\n",
      "           6       0.29      0.20      0.24       142\n",
      "           7       0.39      0.28      0.33       142\n",
      "           8       0.45      0.59      0.51       142\n",
      "\n",
      "    accuracy                           0.42       709\n",
      "   macro avg       0.41      0.42      0.41       709\n",
      "weighted avg       0.41      0.42      0.41       709\n",
      "\n"
     ]
    }
   ],
   "source": [
    "# 성능평가(테스트)\n",
    "from sklearn.metrics import accuracy_score\n",
    "y_pred = lr.predict(X_test)\n",
    "accuracy = accuracy_score(y_test, y_pred)\n",
    "# print(classification_report(y_test, y_pred))\n",
    "print(f'Accuracy : {accuracy*100}')\n",
    "print(confusion_matrix(y_test, lr.predict(X_test)))\n",
    "print(classification_report(y_test, lr.predict(X_test)))"
   ]
  },
  {
   "cell_type": "code",
   "execution_count": 426,
   "metadata": {},
   "outputs": [
    {
     "data": {
      "text/plain": [
       "array([8, 5, 6, ..., 5, 8, 8], dtype=int64)"
      ]
     },
     "execution_count": 426,
     "metadata": {},
     "output_type": "execute_result"
    }
   ],
   "source": [
    "lr.predict(df_test01)"
   ]
  },
  {
   "cell_type": "code",
   "execution_count": 427,
   "metadata": {},
   "outputs": [
    {
     "data": {
      "text/html": [
       "<div>\n",
       "<style scoped>\n",
       "    .dataframe tbody tr th:only-of-type {\n",
       "        vertical-align: middle;\n",
       "    }\n",
       "\n",
       "    .dataframe tbody tr th {\n",
       "        vertical-align: top;\n",
       "    }\n",
       "\n",
       "    .dataframe thead th {\n",
       "        text-align: right;\n",
       "    }\n",
       "</style>\n",
       "<table border=\"1\" class=\"dataframe\">\n",
       "  <thead>\n",
       "    <tr style=\"text-align: right;\">\n",
       "      <th></th>\n",
       "      <th>id</th>\n",
       "      <th>quality</th>\n",
       "    </tr>\n",
       "  </thead>\n",
       "  <tbody>\n",
       "    <tr>\n",
       "      <th>0</th>\n",
       "      <td>1</td>\n",
       "      <td>8</td>\n",
       "    </tr>\n",
       "    <tr>\n",
       "      <th>1</th>\n",
       "      <td>2</td>\n",
       "      <td>5</td>\n",
       "    </tr>\n",
       "    <tr>\n",
       "      <th>2</th>\n",
       "      <td>3</td>\n",
       "      <td>6</td>\n",
       "    </tr>\n",
       "    <tr>\n",
       "      <th>3</th>\n",
       "      <td>4</td>\n",
       "      <td>6</td>\n",
       "    </tr>\n",
       "    <tr>\n",
       "      <th>4</th>\n",
       "      <td>5</td>\n",
       "      <td>5</td>\n",
       "    </tr>\n",
       "  </tbody>\n",
       "</table>\n",
       "</div>"
      ],
      "text/plain": [
       "   id  quality\n",
       "0   1        8\n",
       "1   2        5\n",
       "2   3        6\n",
       "3   4        6\n",
       "4   5        5"
      ]
     },
     "execution_count": 427,
     "metadata": {},
     "output_type": "execute_result"
    }
   ],
   "source": [
    "# 정답파일 작성\n",
    "predict = pd.read_csv(PATH + '\\\\sample_submission.csv')\n",
    "len(predict), len(test)\n",
    "predict.quality = lr.predict(df_test01)\n",
    "predict.to_csv(PATH + 'sample_submission(로지스틱 회귀).csv', index = False)\n",
    "pd.read_csv(PATH + 'sample_submission(로지스틱 회귀).csv').head()"
   ]
  },
  {
   "cell_type": "markdown",
   "metadata": {},
   "source": [
    "# ------------------------------------------------------------------------------"
   ]
  },
  {
   "cell_type": "code",
   "execution_count": 428,
   "metadata": {},
   "outputs": [],
   "source": [
    "# 데이터 분할\n",
    "X_train, X_test, y_train, y_test = train_test_split(ov_data[val_list], ov_data[['quality']], test_size = 0.1, stratify = ov_data.quality, random_state = 7)"
   ]
  },
  {
   "cell_type": "code",
   "execution_count": 429,
   "metadata": {},
   "outputs": [
    {
     "data": {
      "text/plain": [
       "['fixed acidity',\n",
       " 'volatile acidity',\n",
       " 'chlorides',\n",
       " 'density',\n",
       " 'alcohol',\n",
       " 'type']"
      ]
     },
     "execution_count": 429,
     "metadata": {},
     "output_type": "execute_result"
    }
   ],
   "source": [
    "val_list"
   ]
  },
  {
   "cell_type": "code",
   "execution_count": 430,
   "metadata": {},
   "outputs": [],
   "source": [
    "# KNN 모델\n",
    "from sklearn.neighbors import KNeighborsClassifier\n",
    "from sklearn.model_selection import train_test_split\n",
    "from sklearn.metrics import classification_report, confusion_matrix"
   ]
  },
  {
   "cell_type": "code",
   "execution_count": 431,
   "metadata": {},
   "outputs": [
    {
     "name": "stdout",
     "output_type": "stream",
     "text": [
      "              precision    recall  f1-score   support\n",
      "\n",
      "           4       1.00      1.00      1.00      1277\n",
      "           5       1.00      1.00      1.00      1276\n",
      "           6       1.00      1.00      1.00      1276\n",
      "           7       1.00      1.00      1.00      1276\n",
      "           8       1.00      1.00      1.00      1276\n",
      "\n",
      "    accuracy                           1.00      6381\n",
      "   macro avg       1.00      1.00      1.00      6381\n",
      "weighted avg       1.00      1.00      1.00      6381\n",
      "\n",
      "Accuracy : 100.0\n"
     ]
    }
   ],
   "source": [
    "# 정확도 테스트(훈련데이터 셋)\n",
    "from sklearn.metrics import accuracy_score\n",
    "n = 7\n",
    "neigh_n = KNeighborsClassifier(n_neighbors = n, weights = 'distance')\n",
    "neigh_n.fit(X_train, list(y_train.quality))\n",
    "y_pred = neigh_n.predict(X_train)\n",
    "accuracy = accuracy_score(y_train, y_pred)\n",
    "print(classification_report(y_train, y_pred))\n",
    "print(f'Accuracy : {accuracy*100}')"
   ]
  },
  {
   "cell_type": "code",
   "execution_count": 432,
   "metadata": {},
   "outputs": [
    {
     "name": "stdout",
     "output_type": "stream",
     "text": [
      "              precision    recall  f1-score   support\n",
      "\n",
      "           4       0.88      1.00      0.94       141\n",
      "           5       0.78      0.82      0.80       142\n",
      "           6       0.78      0.42      0.55       142\n",
      "           7       0.77      0.92      0.84       142\n",
      "           8       0.92      1.00      0.96       142\n",
      "\n",
      "    accuracy                           0.83       709\n",
      "   macro avg       0.83      0.83      0.82       709\n",
      "weighted avg       0.83      0.83      0.82       709\n",
      "\n",
      "Accuracy : 83.07475317348378\n"
     ]
    }
   ],
   "source": [
    "# 정확도 테스트(테스트데이터 셋)\n",
    "from sklearn.metrics import accuracy_score\n",
    "n = 7\n",
    "neigh_n = KNeighborsClassifier(n_neighbors = n, weights = 'distance')\n",
    "neigh_n.fit(X_train, list(y_train.quality))\n",
    "y_pred = neigh_n.predict(X_test)\n",
    "accuracy = accuracy_score(y_test, y_pred)\n",
    "print(classification_report(y_test, y_pred))\n",
    "print(f'Accuracy : {accuracy*100}')"
   ]
  },
  {
   "cell_type": "code",
   "execution_count": 439,
   "metadata": {},
   "outputs": [
    {
     "data": {
      "text/plain": [
       "array([7, 5, 4, ..., 5, 8, 4])"
      ]
     },
     "execution_count": 439,
     "metadata": {},
     "output_type": "execute_result"
    }
   ],
   "source": [
    "neigh_n.predict(df_test01)"
   ]
  },
  {
   "cell_type": "code",
   "execution_count": 441,
   "metadata": {},
   "outputs": [
    {
     "data": {
      "text/html": [
       "<div>\n",
       "<style scoped>\n",
       "    .dataframe tbody tr th:only-of-type {\n",
       "        vertical-align: middle;\n",
       "    }\n",
       "\n",
       "    .dataframe tbody tr th {\n",
       "        vertical-align: top;\n",
       "    }\n",
       "\n",
       "    .dataframe thead th {\n",
       "        text-align: right;\n",
       "    }\n",
       "</style>\n",
       "<table border=\"1\" class=\"dataframe\">\n",
       "  <thead>\n",
       "    <tr style=\"text-align: right;\">\n",
       "      <th></th>\n",
       "      <th>id</th>\n",
       "      <th>quality</th>\n",
       "    </tr>\n",
       "  </thead>\n",
       "  <tbody>\n",
       "    <tr>\n",
       "      <th>0</th>\n",
       "      <td>1</td>\n",
       "      <td>7</td>\n",
       "    </tr>\n",
       "    <tr>\n",
       "      <th>1</th>\n",
       "      <td>2</td>\n",
       "      <td>5</td>\n",
       "    </tr>\n",
       "    <tr>\n",
       "      <th>2</th>\n",
       "      <td>3</td>\n",
       "      <td>4</td>\n",
       "    </tr>\n",
       "    <tr>\n",
       "      <th>3</th>\n",
       "      <td>4</td>\n",
       "      <td>6</td>\n",
       "    </tr>\n",
       "    <tr>\n",
       "      <th>4</th>\n",
       "      <td>5</td>\n",
       "      <td>6</td>\n",
       "    </tr>\n",
       "  </tbody>\n",
       "</table>\n",
       "</div>"
      ],
      "text/plain": [
       "   id  quality\n",
       "0   1        7\n",
       "1   2        5\n",
       "2   3        4\n",
       "3   4        6\n",
       "4   5        6"
      ]
     },
     "execution_count": 441,
     "metadata": {},
     "output_type": "execute_result"
    }
   ],
   "source": [
    "# 정답파일 작성\n",
    "predict = pd.read_csv(PATH + '\\\\sample_submission.csv')\n",
    "len(predict), len(test)\n",
    "predict.quality = neigh_n.predict(df_test01)\n",
    "predict.to_csv(PATH + 'sample_submission(KNN01).csv', index = False)\n",
    "pd.read_csv(PATH + 'sample_submission(KNN01).csv').head()"
   ]
  },
  {
   "cell_type": "code",
   "execution_count": 448,
   "metadata": {},
   "outputs": [
    {
     "name": "stdout",
     "output_type": "stream",
     "text": [
      "              precision    recall  f1-score   support\n",
      "\n",
      "           4       1.00      1.00      1.00      1418\n",
      "           5       1.00      1.00      1.00      1418\n",
      "           6       1.00      1.00      1.00      1418\n",
      "           7       1.00      1.00      1.00      1418\n",
      "           8       1.00      1.00      1.00      1418\n",
      "\n",
      "    accuracy                           1.00      7090\n",
      "   macro avg       1.00      1.00      1.00      7090\n",
      "weighted avg       1.00      1.00      1.00      7090\n",
      "\n",
      "Accuracy : 99.98589562764457\n"
     ]
    }
   ],
   "source": [
    "# 실제 데이콘 데이터는 훈련셋과 테스트 셋이 미리 나뉘어져 있음. --> 데이터 분할없이 모델 학습 실시후 정확도 예측 실시\n",
    "# 정확도 테스트\n",
    "from sklearn.metrics import accuracy_score\n",
    "n = 7\n",
    "neigh_n = KNeighborsClassifier(n_neighbors = n, weights = 'distance')\n",
    "neigh_n.fit(ov_data[val_list], list(ov_label.quality))\n",
    "y_pred = neigh_n.predict(ov_data[val_list])\n",
    "accuracy = accuracy_score(ov_label, y_pred)\n",
    "print(classification_report(ov_label, y_pred))\n",
    "print(f'Accuracy : {accuracy*100}')"
   ]
  },
  {
   "cell_type": "code",
   "execution_count": 449,
   "metadata": {},
   "outputs": [
    {
     "data": {
      "text/plain": [
       "array([7, 5, 4, ..., 5, 7, 4])"
      ]
     },
     "execution_count": 449,
     "metadata": {},
     "output_type": "execute_result"
    }
   ],
   "source": [
    "neigh_n.predict(df_test01)"
   ]
  },
  {
   "cell_type": "code",
   "execution_count": 450,
   "metadata": {},
   "outputs": [
    {
     "data": {
      "text/html": [
       "<div>\n",
       "<style scoped>\n",
       "    .dataframe tbody tr th:only-of-type {\n",
       "        vertical-align: middle;\n",
       "    }\n",
       "\n",
       "    .dataframe tbody tr th {\n",
       "        vertical-align: top;\n",
       "    }\n",
       "\n",
       "    .dataframe thead th {\n",
       "        text-align: right;\n",
       "    }\n",
       "</style>\n",
       "<table border=\"1\" class=\"dataframe\">\n",
       "  <thead>\n",
       "    <tr style=\"text-align: right;\">\n",
       "      <th></th>\n",
       "      <th>id</th>\n",
       "      <th>quality</th>\n",
       "    </tr>\n",
       "  </thead>\n",
       "  <tbody>\n",
       "    <tr>\n",
       "      <th>0</th>\n",
       "      <td>1</td>\n",
       "      <td>7</td>\n",
       "    </tr>\n",
       "    <tr>\n",
       "      <th>1</th>\n",
       "      <td>2</td>\n",
       "      <td>5</td>\n",
       "    </tr>\n",
       "    <tr>\n",
       "      <th>2</th>\n",
       "      <td>3</td>\n",
       "      <td>4</td>\n",
       "    </tr>\n",
       "    <tr>\n",
       "      <th>3</th>\n",
       "      <td>4</td>\n",
       "      <td>6</td>\n",
       "    </tr>\n",
       "    <tr>\n",
       "      <th>4</th>\n",
       "      <td>5</td>\n",
       "      <td>6</td>\n",
       "    </tr>\n",
       "  </tbody>\n",
       "</table>\n",
       "</div>"
      ],
      "text/plain": [
       "   id  quality\n",
       "0   1        7\n",
       "1   2        5\n",
       "2   3        4\n",
       "3   4        6\n",
       "4   5        6"
      ]
     },
     "execution_count": 450,
     "metadata": {},
     "output_type": "execute_result"
    }
   ],
   "source": [
    "# 정답파일 작성\n",
    "predict = pd.read_csv(PATH + '\\\\sample_submission.csv')\n",
    "len(predict), len(test)\n",
    "predict.quality = neigh_n.predict(df_test01)\n",
    "predict.to_csv(PATH + 'sample_submission(KNN02).csv', index = False)\n",
    "pd.read_csv(PATH + 'sample_submission(KNN02).csv').head()"
   ]
  },
  {
   "cell_type": "code",
   "execution_count": 454,
   "metadata": {},
   "outputs": [
    {
     "data": {
      "text/plain": [
       "234"
      ]
     },
     "execution_count": 454,
     "metadata": {},
     "output_type": "execute_result"
    }
   ],
   "source": [
    "df1 = pd.read_csv(PATH + 'sample_submission(KNN01).csv')\n",
    "df2 = pd.read_csv(PATH + 'sample_submission(KNN02).csv')\n",
    "n = 0\n",
    "for i in range(len(df1)):\n",
    "    if df1.quality[i] != df2.quality[i]:\n",
    "        n += 1\n",
    "n"
   ]
  },
  {
   "cell_type": "markdown",
   "metadata": {},
   "source": [
    "# ------------------------------------------------------------------------------"
   ]
  },
  {
   "cell_type": "code",
   "execution_count": 635,
   "metadata": {},
   "outputs": [],
   "source": [
    "# 데이터 분할\n",
    "X_train, X_test, y_train, y_test = train_test_split(ov_data[val_list], ov_data[['quality']], test_size = 0.1, stratify = ov_data.quality, random_state = 7)"
   ]
  },
  {
   "cell_type": "code",
   "execution_count": 636,
   "metadata": {},
   "outputs": [
    {
     "data": {
      "text/plain": [
       "array([4, 8, 7, ..., 5, 6, 4], dtype=int64)"
      ]
     },
     "execution_count": 636,
     "metadata": {},
     "output_type": "execute_result"
    }
   ],
   "source": [
    "y_train.quality.to_numpy()"
   ]
  },
  {
   "cell_type": "code",
   "execution_count": 637,
   "metadata": {},
   "outputs": [
    {
     "name": "stdout",
     "output_type": "stream",
     "text": [
      "(6381, 6) (6381, 6) (709, 6) (709, 6)\n"
     ]
    }
   ],
   "source": [
    "# 학습데이터로 사용하기 위해 pandas파일을 numpy파일로 변환\n",
    "print(X_train.shape, X_train.to_numpy().shape, X_test.shape, X_test.to_numpy().shape)\n",
    "X_train = X_train.to_numpy()\n",
    "X_test = X_test.to_numpy()\n",
    "y_train = y_train.quality.to_numpy()\n",
    "y_test = y_test.quality.to_numpy()"
   ]
  },
  {
   "cell_type": "code",
   "execution_count": 638,
   "metadata": {},
   "outputs": [
    {
     "name": "stdout",
     "output_type": "stream",
     "text": [
      "(6381, 6)\n"
     ]
    }
   ],
   "source": [
    "# 신경망 분류모델 작성\n",
    "import tensorflow as tf\n",
    "from tensorflow.keras.models import Sequential\n",
    "from tensorflow.keras.layers import Dense\n",
    "from tensorflow.keras.utils import to_categorical\n",
    "\n",
    "# quality가 범주형이므로 범주형으로 변환\n",
    "y_train = to_categorical(y_train)\n",
    "y_test = to_categorical(y_test)\n",
    "\n",
    "print(X_train.shape) "
   ]
  },
  {
   "cell_type": "code",
   "execution_count": 639,
   "metadata": {},
   "outputs": [
    {
     "data": {
      "text/plain": [
       "(6381, 9)"
      ]
     },
     "execution_count": 639,
     "metadata": {},
     "output_type": "execute_result"
    }
   ],
   "source": [
    "y_train.shape"
   ]
  },
  {
   "cell_type": "code",
   "execution_count": null,
   "metadata": {},
   "outputs": [],
   "source": [
    "# 입력데이터의 형태를 반드시 입력해주어야 함\n",
    "# 차원이 6개 -> input값 일치화\n",
    "model = Sequential()\n",
    "model.add(Dense(64, activation = 'relu', input_shape = (6, ))) # 6차원의 데이터를 입력으로 받고, 64개의 출력 가지는 첫번째 Dense층\n",
    "model.add(Dense(32, activation = 'relu')) # 32개의 출력을 가지는 Dense층\n",
    "model.add(Dense(9, activation = 'softmax')) # 9개의 출력을 가지는 신경망(마지막은 반드시 y의 변수 종류수와 일치시켜줄 것)\n",
    "\n",
    "# 학습과정 설정하기\n",
    "# 옵티마이저 : Adam, 손실함수 : categorical_crossentropy, 모니터링할 평가지표 : acc\n",
    "model.compile(optimizer=tf.keras.optimizers.Adam(), loss = 'categorical_crossentropy', metrics=[tf.keras.metrics.CategoricalAccuracy()])\n",
    "model.summary()\n",
    "# 모델학습하기\n",
    "history = model.fit(X_train, y_train, epochs = 10000, batch_size = 128, validation_data = (X_test, y_test))"
   ]
  },
  {
   "cell_type": "code",
   "execution_count": 645,
   "metadata": {},
   "outputs": [
    {
     "data": {
      "text/plain": [
       "dict_keys(['loss', 'categorical_accuracy', 'val_loss', 'val_categorical_accuracy'])"
      ]
     },
     "execution_count": 645,
     "metadata": {},
     "output_type": "execute_result"
    }
   ],
   "source": [
    "history_dict = history.history\n",
    "history_dict.keys()"
   ]
  },
  {
   "cell_type": "code",
   "execution_count": 643,
   "metadata": {},
   "outputs": [
    {
     "data": {
      "image/png": "[encoded data removed]",
      "text/plain": [
       "<Figure size 1152x864 with 1 Axes>"
      ]
     },
     "metadata": {
      "needs_background": "light"
     },
     "output_type": "display_data"
    }
   ],
   "source": [
    "import matplotlib.pyplot as plt\n",
    "history_dict = history.history\n",
    "loss = history_dict['loss']\n",
    "val_loss = history_dict['val_loss']\n",
    "epochs = range(1, len(loss)+1)\n",
    "plt.figure(figsize = (16, 12))\n",
    "plt.plot(epochs, loss, 'bo', label = 'Training loss')\n",
    "plt.plot(epochs, val_loss, 'b', label = 'Validation loss')\n",
    "plt.title('Training and validation loss')\n",
    "plt.xlabel('Epochs')\n",
    "plt.ylabel('loss')\n",
    "plt.legend()\n",
    "plt.show()"
   ]
  },
  {
   "cell_type": "code",
   "execution_count": 646,
   "metadata": {},
   "outputs": [
    {
     "data": {
      "text/plain": [
       "<Figure size 432x288 with 0 Axes>"
      ]
     },
     "metadata": {},
     "output_type": "display_data"
    },
    {
     "data": {
      "image/png": "[encoded data removed]",
      "text/plain": [
       "<Figure size 1152x864 with 1 Axes>"
      ]
     },
     "metadata": {
      "needs_background": "light"
     },
     "output_type": "display_data"
    }
   ],
   "source": [
    "plt.clf()\n",
    "acc = history_dict['categorical_accuracy']\n",
    "val_acc = history_dict['val_categorical_accuracy']\n",
    "\n",
    "plt.figure(figsize = (16, 12))\n",
    "plt.plot(epochs, acc, 'bo', label = 'Training acc')\n",
    "plt.plot(epochs, val_acc, 'b', label = 'Validation acc')\n",
    "plt.title('Training and validation accuracy')\n",
    "plt.xlabel('Epochs')\n",
    "plt.ylabel('Accuracy')\n",
    "plt.legend()\n",
    "plt.show()"
   ]
  },
  {
   "cell_type": "code",
   "execution_count": 660,
   "metadata": {},
   "outputs": [
    {
     "name": "stdout",
     "output_type": "stream",
     "text": [
      "23/23 [==============================] - 0s 694us/step - loss: 0.8494 - categorical_accuracy: 0.7038\n"
     ]
    },
    {
     "data": {
      "text/plain": [
       "[0.8493741750717163, 0.7038081884384155]"
      ]
     },
     "execution_count": 660,
     "metadata": {},
     "output_type": "execute_result"
    }
   ],
   "source": [
    "# 학습한 모델 평가\n",
    "model.evaluate(X_test, y_test)"
   ]
  },
  {
   "cell_type": "code",
   "execution_count": 661,
   "metadata": {},
   "outputs": [
    {
     "data": {
      "image/png": "[encoded data removed]",
      "text/plain": [
       "<Figure size 504x504 with 2 Axes>"
      ]
     },
     "metadata": {
      "needs_background": "light"
     },
     "output_type": "display_data"
    }
   ],
   "source": [
    "# 모델 평가\n",
    "from sklearn.metrics import classification_report, confusion_matrix\n",
    "import matplotlib.pyplot as plt\n",
    "import seaborn as sns\n",
    "\n",
    "results = model.predict(X_test)\n",
    "plt.figure(figsize = (7, 7))\n",
    "cm = confusion_matrix(np.argmax(y_test, axis = -1), np.argmax(results, axis = -1))\n",
    "sns.heatmap(cm, annot = True, fmt = 'd', cmap = 'Blues')\n",
    "plt.xlabel('predicted label')\n",
    "plt.ylabel('true label')\n",
    "plt.show()"
   ]
  },
  {
   "cell_type": "code",
   "execution_count": 663,
   "metadata": {},
   "outputs": [
    {
     "name": "stdout",
     "output_type": "stream",
     "text": [
      "              precision    recall  f1-score   support\n",
      "\n",
      "           4       0.91      0.92      0.92       141\n",
      "           5       0.70      0.70      0.70       142\n",
      "           6       0.48      0.21      0.29       142\n",
      "           7       0.54      0.78      0.64       142\n",
      "           8       0.83      0.90      0.86       142\n",
      "\n",
      "    accuracy                           0.70       709\n",
      "   macro avg       0.69      0.70      0.68       709\n",
      "weighted avg       0.69      0.70      0.68       709\n",
      "\n"
     ]
    }
   ],
   "source": [
    "print(classification_report(np.argmax(y_test, axis = -1), np.argmax(results, axis = -1)))"
   ]
  },
  {
   "cell_type": "code",
   "execution_count": 679,
   "metadata": {},
   "outputs": [
    {
     "name": "stdout",
     "output_type": "stream",
     "text": [
      "(6381, 6)\n"
     ]
    }
   ],
   "source": [
    "print(X_train.shape)"
   ]
  },
  {
   "cell_type": "code",
   "execution_count": 689,
   "metadata": {},
   "outputs": [
    {
     "name": "stdout",
     "output_type": "stream",
     "text": [
      "(3231, 6)\n",
      "(3231, 9)\n"
     ]
    },
    {
     "data": {
      "text/plain": [
       "array([5, 5, 6, ..., 5, 5, 6], dtype=int64)"
      ]
     },
     "execution_count": 689,
     "metadata": {},
     "output_type": "execute_result"
    }
   ],
   "source": [
    "# 학습한 모델로 예측하기\n",
    "import numpy as np\n",
    "df_test01 = test[val_list].copy()\n",
    "df_test01.iloc[:, :5] = scaler.fit_transform(df_test01.iloc[:, :5])\n",
    "df_test01 = df_test01.to_numpy()\n",
    "print(df_test01.shape)\n",
    "result = model.predict(df_test01)\n",
    "print(result.shape)\n",
    "arg_result = np.argmax(result, axis = -1)\n",
    "arg_result"
   ]
  },
  {
   "cell_type": "code",
   "execution_count": 690,
   "metadata": {},
   "outputs": [
    {
     "data": {
      "text/html": [
       "<div>\n",
       "<style scoped>\n",
       "    .dataframe tbody tr th:only-of-type {\n",
       "        vertical-align: middle;\n",
       "    }\n",
       "\n",
       "    .dataframe tbody tr th {\n",
       "        vertical-align: top;\n",
       "    }\n",
       "\n",
       "    .dataframe thead th {\n",
       "        text-align: right;\n",
       "    }\n",
       "</style>\n",
       "<table border=\"1\" class=\"dataframe\">\n",
       "  <thead>\n",
       "    <tr style=\"text-align: right;\">\n",
       "      <th></th>\n",
       "      <th>id</th>\n",
       "      <th>quality</th>\n",
       "    </tr>\n",
       "  </thead>\n",
       "  <tbody>\n",
       "    <tr>\n",
       "      <th>0</th>\n",
       "      <td>1</td>\n",
       "      <td>5</td>\n",
       "    </tr>\n",
       "    <tr>\n",
       "      <th>1</th>\n",
       "      <td>2</td>\n",
       "      <td>5</td>\n",
       "    </tr>\n",
       "    <tr>\n",
       "      <th>2</th>\n",
       "      <td>3</td>\n",
       "      <td>6</td>\n",
       "    </tr>\n",
       "    <tr>\n",
       "      <th>3</th>\n",
       "      <td>4</td>\n",
       "      <td>6</td>\n",
       "    </tr>\n",
       "    <tr>\n",
       "      <th>4</th>\n",
       "      <td>5</td>\n",
       "      <td>5</td>\n",
       "    </tr>\n",
       "  </tbody>\n",
       "</table>\n",
       "</div>"
      ],
      "text/plain": [
       "   id  quality\n",
       "0   1        5\n",
       "1   2        5\n",
       "2   3        6\n",
       "3   4        6\n",
       "4   5        5"
      ]
     },
     "execution_count": 690,
     "metadata": {},
     "output_type": "execute_result"
    }
   ],
   "source": [
    "# 정답파일 작성\n",
    "predict = pd.read_csv(PATH + '\\\\sample_submission.csv')\n",
    "len(predict), len(test)\n",
    "predict.quality = arg_result\n",
    "predict.to_csv(PATH + 'sample_submission(NT01).csv', index = False)\n",
    "pd.read_csv(PATH + 'sample_submission(NT01).csv').head()"
   ]
  },
  {
   "cell_type": "code",
   "execution_count": 691,
   "metadata": {},
   "outputs": [
    {
     "data": {
      "text/plain": [
       "1732"
      ]
     },
     "execution_count": 691,
     "metadata": {},
     "output_type": "execute_result"
    }
   ],
   "source": [
    "# KNN 모델과 다른 값 개수 확인\n",
    "df1 = pd.read_csv(PATH + 'sample_submission(KNN02).csv')\n",
    "df2 = pd.read_csv(PATH + 'sample_submission(NT01).csv')\n",
    "n = 0\n",
    "for i in range(len(df1)):\n",
    "    if df1.quality[i] != df2.quality[i]:\n",
    "        n += 1\n",
    "n"
   ]
  }
 ],
 "metadata": {
  "interpreter": {
   "hash": "fe3bab233825460445dbfeea6dcd52ef5815a3fa13c858fea07ac830aa383284"
  },
  "kernelspec": {
   "display_name": "Python 3.8.10 64-bit ('base': conda)",
   "language": "python",
   "name": "python3"
  },
  "language_info": {
   "codemirror_mode": {
    "name": "ipython",
    "version": 3
   },
   "file_extension": ".py",
   "mimetype": "text/x-python",
   "name": "python",
   "nbconvert_exporter": "python",
   "pygments_lexer": "ipython3",
   "version": "3.8.10"
  },
  "orig_nbformat": 4
 },
 "nbformat": 4,
 "nbformat_minor": 2
}
