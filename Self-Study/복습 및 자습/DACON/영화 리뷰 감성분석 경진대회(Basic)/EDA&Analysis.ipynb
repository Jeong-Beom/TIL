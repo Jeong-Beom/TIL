{
 "cells": [
  {
   "cell_type": "code",
   "execution_count": 33,
   "metadata": {},
   "outputs": [],
   "source": [
    "import pandas as pd\n",
    "import matplotlib.pyplot as plt\n",
    "import seaborn as sns\n",
    "from matplotlib import patches\n",
    "%matplotlib inline\n",
    "import os\n",
    "import numpy as np\n",
    "import matplotlib as mpl\n",
    "import matplotlib.pyplot as plt\n",
    "import matplotlib.font_manager as fonm\n",
    "from matplotlib import font_manager, rc\n",
    "mpl.rcParams['axes.unicode_minus'] = False\n",
    "font_path = \"C:/Windows/Fonts/HMKMRHD.ttf\"\n",
    "font = fonm.FontProperties(fname=font_path).get_name()\n",
    "rc('font', family=font)"
   ]
  },
  {
   "cell_type": "code",
   "execution_count": 34,
   "metadata": {},
   "outputs": [
    {
     "data": {
      "text/plain": [
       "['sample_submission(lr).csv', 'sample_submission.csv', 'test.csv', 'train.csv']"
      ]
     },
     "execution_count": 34,
     "metadata": {},
     "output_type": "execute_result"
    }
   ],
   "source": [
    "Basic_dir = os.path.dirname(os.path.dirname(os.path.realpath('EDA.ipynb')))\n",
    "PATH = Basic_dir + '\\\\Data\\\\Data(MovieReview_B)'\n",
    "os.listdir(PATH)"
   ]
  },
  {
   "cell_type": "code",
   "execution_count": 35,
   "metadata": {},
   "outputs": [
    {
     "name": "stdout",
     "output_type": "stream",
     "text": [
      "Index(['id', 'document', 'label'], dtype='object')\n",
      "<class 'pandas.core.frame.DataFrame'>\n",
      "RangeIndex: 5000 entries, 0 to 4999\n",
      "Data columns (total 3 columns):\n",
      " #   Column    Non-Null Count  Dtype \n",
      "---  ------    --------------  ----- \n",
      " 0   id        5000 non-null   int64 \n",
      " 1   document  5000 non-null   object\n",
      " 2   label     5000 non-null   int64 \n",
      "dtypes: int64(2), object(1)\n",
      "memory usage: 117.3+ KB\n"
     ]
    }
   ],
   "source": [
    "train = pd.read_csv(PATH + '\\\\train.csv')\n",
    "print(train.columns)\n",
    "train.info()"
   ]
  },
  {
   "cell_type": "code",
   "execution_count": 36,
   "metadata": {},
   "outputs": [
    {
     "name": "stdout",
     "output_type": "stream",
     "text": [
      "0\n",
      "5000\n",
      "Index(['id', 'document', 'label'], dtype='object')\n"
     ]
    },
    {
     "data": {
      "text/plain": [
       "0    2564\n",
       "1    2436\n",
       "Name: label, dtype: int64"
      ]
     },
     "execution_count": 36,
     "metadata": {},
     "output_type": "execute_result"
    }
   ],
   "source": [
    "print(train.isna().sum().sum()) # 결측값 확인 - 결측값 없음\n",
    "print(train.document.nunique()) # 중복 여부 확인 - 중복값 없음\n",
    "print(train.columns)\n",
    "train['label'].value_counts()"
   ]
  },
  {
   "cell_type": "code",
   "execution_count": 37,
   "metadata": {},
   "outputs": [
    {
     "name": "stdout",
     "output_type": "stream",
     "text": [
      "Index(['id', 'document'], dtype='object')\n",
      "<class 'pandas.core.frame.DataFrame'>\n",
      "RangeIndex: 5000 entries, 0 to 4999\n",
      "Data columns (total 2 columns):\n",
      " #   Column    Non-Null Count  Dtype \n",
      "---  ------    --------------  ----- \n",
      " 0   id        5000 non-null   int64 \n",
      " 1   document  5000 non-null   object\n",
      "dtypes: int64(1), object(1)\n",
      "memory usage: 78.2+ KB\n"
     ]
    }
   ],
   "source": [
    "test = pd.read_csv(PATH + '\\\\test.csv')\n",
    "print(test.columns)\n",
    "test.info()"
   ]
  },
  {
   "cell_type": "code",
   "execution_count": 38,
   "metadata": {},
   "outputs": [
    {
     "name": "stdout",
     "output_type": "stream",
     "text": [
      "0\n",
      "4999\n",
      "Index(['id', 'document'], dtype='object')\n"
     ]
    }
   ],
   "source": [
    "print(test.isna().sum().sum()) # 결측값 확인 - 결측값 없음\n",
    "print(test.document.nunique()) # 중복 여부 확인 - 중복값 있음\n",
    "print(test.columns)"
   ]
  },
  {
   "cell_type": "code",
   "execution_count": 39,
   "metadata": {},
   "outputs": [
    {
     "data": {
      "image/png": "[encoded data removed]",
      "text/plain": [
       "<Figure size 432x288 with 1 Axes>"
      ]
     },
     "metadata": {},
     "output_type": "display_data"
    }
   ],
   "source": [
    "# 파이차트 : 카테고리별 값의 상대적인 비교를 해야할 때 사용\n",
    "labels = list(train['label'].unique())\n",
    "sizes = train['label'].value_counts()\n",
    "colors = ['red', 'lightskyblue']\n",
    "explode = (0, 0.1)\n",
    "plt.title('Label Distribution')\n",
    "plt.pie(sizes, explode = explode, labels = labels, colors = colors,\n",
    "        autopct = '%1.1f%%', shadow = True, startangle = 90)\n",
    "plt.axis('equal')\n",
    "plt.show()"
   ]
  },
  {
   "cell_type": "code",
   "execution_count": 40,
   "metadata": {},
   "outputs": [
    {
     "data": {
      "text/html": [
       "<div>\n",
       "<style scoped>\n",
       "    .dataframe tbody tr th:only-of-type {\n",
       "        vertical-align: middle;\n",
       "    }\n",
       "\n",
       "    .dataframe tbody tr th {\n",
       "        vertical-align: top;\n",
       "    }\n",
       "\n",
       "    .dataframe thead th {\n",
       "        text-align: right;\n",
       "    }\n",
       "</style>\n",
       "<table border=\"1\" class=\"dataframe\">\n",
       "  <thead>\n",
       "    <tr style=\"text-align: right;\">\n",
       "      <th></th>\n",
       "      <th>document</th>\n",
       "      <th>label</th>\n",
       "    </tr>\n",
       "  </thead>\n",
       "  <tbody>\n",
       "    <tr>\n",
       "      <th>0</th>\n",
       "      <td>영상이나 음악이 이쁘다 해도 미화시킨 불륜일뿐</td>\n",
       "      <td>0</td>\n",
       "    </tr>\n",
       "    <tr>\n",
       "      <th>1</th>\n",
       "      <td>히치콕이 이 영화를 봤다면 분명 박수를 쳤을듯...</td>\n",
       "      <td>1</td>\n",
       "    </tr>\n",
       "    <tr>\n",
       "      <th>2</th>\n",
       "      <td>괜찮은 음악영화가 또 나왔군요!!! 따뜻한 겨울이 될 것 같아요~</td>\n",
       "      <td>1</td>\n",
       "    </tr>\n",
       "    <tr>\n",
       "      <th>3</th>\n",
       "      <td>아무래도 20년도지난작품이라 지금보기는너무유치하다</td>\n",
       "      <td>0</td>\n",
       "    </tr>\n",
       "    <tr>\n",
       "      <th>4</th>\n",
       "      <td>지금까지의 영화들이 그랬듯. 이 영화역시 일본에 대한 미화는 여전하다.</td>\n",
       "      <td>0</td>\n",
       "    </tr>\n",
       "    <tr>\n",
       "      <th>...</th>\n",
       "      <td>...</td>\n",
       "      <td>...</td>\n",
       "    </tr>\n",
       "    <tr>\n",
       "      <th>4995</th>\n",
       "      <td>좋은 배우들로 3류영화를 찍은 안타까운 영화</td>\n",
       "      <td>0</td>\n",
       "    </tr>\n",
       "    <tr>\n",
       "      <th>4996</th>\n",
       "      <td>진짜 드럽게 재미없다 에드워드 호퍼 그림에 배경 빼고는 볼게 아닌영화</td>\n",
       "      <td>0</td>\n",
       "    </tr>\n",
       "    <tr>\n",
       "      <th>4997</th>\n",
       "      <td>가장 실망스러운 영화.. 지금까지 본영화중..</td>\n",
       "      <td>0</td>\n",
       "    </tr>\n",
       "    <tr>\n",
       "      <th>4998</th>\n",
       "      <td>이런 평점 테러, 네이버에서 좀 막아야 하는 것 아닌가?</td>\n",
       "      <td>1</td>\n",
       "    </tr>\n",
       "    <tr>\n",
       "      <th>4999</th>\n",
       "      <td>여주인공이 전작에서는 귀여웠는데, 여기선 완전 망했네, 실망이다</td>\n",
       "      <td>0</td>\n",
       "    </tr>\n",
       "  </tbody>\n",
       "</table>\n",
       "<p>5000 rows × 2 columns</p>\n",
       "</div>"
      ],
      "text/plain": [
       "                                     document  label\n",
       "0                   영상이나 음악이 이쁘다 해도 미화시킨 불륜일뿐      0\n",
       "1                히치콕이 이 영화를 봤다면 분명 박수를 쳤을듯...      1\n",
       "2        괜찮은 음악영화가 또 나왔군요!!! 따뜻한 겨울이 될 것 같아요~      1\n",
       "3                 아무래도 20년도지난작품이라 지금보기는너무유치하다      0\n",
       "4     지금까지의 영화들이 그랬듯. 이 영화역시 일본에 대한 미화는 여전하다.      0\n",
       "...                                       ...    ...\n",
       "4995                 좋은 배우들로 3류영화를 찍은 안타까운 영화      0\n",
       "4996   진짜 드럽게 재미없다 에드워드 호퍼 그림에 배경 빼고는 볼게 아닌영화      0\n",
       "4997                가장 실망스러운 영화.. 지금까지 본영화중..      0\n",
       "4998          이런 평점 테러, 네이버에서 좀 막아야 하는 것 아닌가?      1\n",
       "4999      여주인공이 전작에서는 귀여웠는데, 여기선 완전 망했네, 실망이다      0\n",
       "\n",
       "[5000 rows x 2 columns]"
      ]
     },
     "execution_count": 40,
     "metadata": {},
     "output_type": "execute_result"
    }
   ],
   "source": [
    "df_train = train.drop(['id'], axis = 1).copy()\n",
    "df_train"
   ]
  },
  {
   "cell_type": "code",
   "execution_count": 41,
   "metadata": {},
   "outputs": [
    {
     "name": "stderr",
     "output_type": "stream",
     "text": [
      "<ipython-input-41-d6dde21cf3f3>:2: FutureWarning: The default value of regex will change from True to False in a future version.\n",
      "  df_train['document'] = df_train['document'].str.replace('[^ㄱ-하-ㅣ가-힣0-9 ]', ' ')\n"
     ]
    },
    {
     "data": {
      "text/html": [
       "<div>\n",
       "<style scoped>\n",
       "    .dataframe tbody tr th:only-of-type {\n",
       "        vertical-align: middle;\n",
       "    }\n",
       "\n",
       "    .dataframe tbody tr th {\n",
       "        vertical-align: top;\n",
       "    }\n",
       "\n",
       "    .dataframe thead th {\n",
       "        text-align: right;\n",
       "    }\n",
       "</style>\n",
       "<table border=\"1\" class=\"dataframe\">\n",
       "  <thead>\n",
       "    <tr style=\"text-align: right;\">\n",
       "      <th></th>\n",
       "      <th>document</th>\n",
       "      <th>label</th>\n",
       "    </tr>\n",
       "  </thead>\n",
       "  <tbody>\n",
       "    <tr>\n",
       "      <th>0</th>\n",
       "      <td>영상이나 음악이 이쁘다 해도 미화시킨 불륜일뿐</td>\n",
       "      <td>0</td>\n",
       "    </tr>\n",
       "    <tr>\n",
       "      <th>1</th>\n",
       "      <td>히치콕이 이 영화를 봤다면 분명 박수를 쳤을듯</td>\n",
       "      <td>1</td>\n",
       "    </tr>\n",
       "    <tr>\n",
       "      <th>2</th>\n",
       "      <td>괜찮은 음악영화가 또 나왔군요    따뜻한 겨울이 될 것 같아요</td>\n",
       "      <td>1</td>\n",
       "    </tr>\n",
       "    <tr>\n",
       "      <th>3</th>\n",
       "      <td>아무래도 20년도지난작품이라 지금보기는너무유치하다</td>\n",
       "      <td>0</td>\n",
       "    </tr>\n",
       "    <tr>\n",
       "      <th>4</th>\n",
       "      <td>지금까지의 영화들이 그랬듯  이 영화역시 일본에 대한 미화는 여전하다</td>\n",
       "      <td>0</td>\n",
       "    </tr>\n",
       "  </tbody>\n",
       "</table>\n",
       "</div>"
      ],
      "text/plain": [
       "                                  document  label\n",
       "0                영상이나 음악이 이쁘다 해도 미화시킨 불륜일뿐      0\n",
       "1             히치콕이 이 영화를 봤다면 분명 박수를 쳤을듯         1\n",
       "2     괜찮은 음악영화가 또 나왔군요    따뜻한 겨울이 될 것 같아요       1\n",
       "3              아무래도 20년도지난작품이라 지금보기는너무유치하다      0\n",
       "4  지금까지의 영화들이 그랬듯  이 영화역시 일본에 대한 미화는 여전하다       0"
      ]
     },
     "execution_count": 41,
     "metadata": {},
     "output_type": "execute_result"
    }
   ],
   "source": [
    "# 한글과 숫자를 제외하고 전부 삭제\n",
    "df_train['document'] = df_train['document'].str.replace('[^ㄱ-하-ㅣ가-힣0-9 ]', ' ')\n",
    "df_train.head()"
   ]
  },
  {
   "cell_type": "code",
   "execution_count": 42,
   "metadata": {},
   "outputs": [
    {
     "name": "stderr",
     "output_type": "stream",
     "text": [
      "<ipython-input-42-d0c6393feba3>:3: FutureWarning: The default value of regex will change from True to False in a future version.\n",
      "  df_test['document'] = df_test['document'].str.replace('[^a-zA-zㄱ-하-ㅣ가-힣0-9 ]', ' ')\n"
     ]
    },
    {
     "data": {
      "text/html": [
       "<div>\n",
       "<style scoped>\n",
       "    .dataframe tbody tr th:only-of-type {\n",
       "        vertical-align: middle;\n",
       "    }\n",
       "\n",
       "    .dataframe tbody tr th {\n",
       "        vertical-align: top;\n",
       "    }\n",
       "\n",
       "    .dataframe thead th {\n",
       "        text-align: right;\n",
       "    }\n",
       "</style>\n",
       "<table border=\"1\" class=\"dataframe\">\n",
       "  <thead>\n",
       "    <tr style=\"text-align: right;\">\n",
       "      <th></th>\n",
       "      <th>id</th>\n",
       "      <th>document</th>\n",
       "    </tr>\n",
       "  </thead>\n",
       "  <tbody>\n",
       "    <tr>\n",
       "      <th>0</th>\n",
       "      <td>1</td>\n",
       "      <td>시간 때우기 좋은 영화 지루함</td>\n",
       "    </tr>\n",
       "    <tr>\n",
       "      <th>1</th>\n",
       "      <td>2</td>\n",
       "      <td>훈훈한 정이 느껴지는 영화  가족끼리 드라마 보듯이 보면 딱</td>\n",
       "    </tr>\n",
       "    <tr>\n",
       "      <th>2</th>\n",
       "      <td>3</td>\n",
       "      <td>Childhood fantasy</td>\n",
       "    </tr>\n",
       "    <tr>\n",
       "      <th>3</th>\n",
       "      <td>4</td>\n",
       "      <td>멋있는 영화입니다  잊을 수 없는</td>\n",
       "    </tr>\n",
       "    <tr>\n",
       "      <th>4</th>\n",
       "      <td>5</td>\n",
       "      <td>너무 감동적이네요 펑펑 울었습니다</td>\n",
       "    </tr>\n",
       "  </tbody>\n",
       "</table>\n",
       "</div>"
      ],
      "text/plain": [
       "   id                             document\n",
       "0   1                     시간 때우기 좋은 영화 지루함\n",
       "1   2  훈훈한 정이 느껴지는 영화  가족끼리 드라마 보듯이 보면 딱  \n",
       "2   3                    Childhood fantasy\n",
       "3   4                  멋있는 영화입니다  잊을 수 없는 \n",
       "4   5                   너무 감동적이네요 펑펑 울었습니다"
      ]
     },
     "execution_count": 42,
     "metadata": {},
     "output_type": "execute_result"
    }
   ],
   "source": [
    "# 한글과 숫자를 제외하고 전부 삭제\n",
    "df_test = test.copy()\n",
    "df_test['document'] = df_test['document'].str.replace('[^a-zA-zㄱ-하-ㅣ가-힣0-9 ]', ' ')\n",
    "df_test.head()"
   ]
  },
  {
   "cell_type": "code",
   "execution_count": 43,
   "metadata": {},
   "outputs": [],
   "source": [
    "# 한글 처리\n",
    "from konlpy.tag import Okt\n",
    "okt = Okt()"
   ]
  },
  {
   "cell_type": "code",
   "execution_count": 44,
   "metadata": {},
   "outputs": [],
   "source": [
    "word_dict = dict()\n",
    "for review in df_train.document:\n",
    "    word_list = okt.morphs(review)\n",
    "    for word in word_list:\n",
    "        if word not in word_dict:\n",
    "            word_dict[word] = 1\n",
    "        else:\n",
    "            word_dict[word] += 1"
   ]
  },
  {
   "cell_type": "code",
   "execution_count": 45,
   "metadata": {},
   "outputs": [
    {
     "name": "stdout",
     "output_type": "stream",
     "text": [
      "10554\n"
     ]
    }
   ],
   "source": [
    "# operator를 사용한 단어사전 정렬(빈도수 기준 내림차순 정렬)\n",
    "import operator\n",
    "\n",
    "# key=operator.itemgetter(0) - 키 값으로 정렬 / key=operator.itemgetter(1) value 값으로 정렬\n",
    "words = sorted(word_dict.items(), key=operator.itemgetter(1), reverse = True)\n",
    "print(len(words))\n",
    "# 각 단어별로 인덱스 번호 부여\n",
    "word_index = dict()\n",
    "word_index['NA'] = 0\n",
    "cnt = 1\n",
    "for word in words:\n",
    "    word = word[0]\n",
    "    word_index[word] = cnt\n",
    "    cnt += 1 "
   ]
  },
  {
   "cell_type": "code",
   "execution_count": 46,
   "metadata": {},
   "outputs": [
    {
     "data": {
      "text/html": [
       "<div>\n",
       "<style scoped>\n",
       "    .dataframe tbody tr th:only-of-type {\n",
       "        vertical-align: middle;\n",
       "    }\n",
       "\n",
       "    .dataframe tbody tr th {\n",
       "        vertical-align: top;\n",
       "    }\n",
       "\n",
       "    .dataframe thead th {\n",
       "        text-align: right;\n",
       "    }\n",
       "</style>\n",
       "<table border=\"1\" class=\"dataframe\">\n",
       "  <thead>\n",
       "    <tr style=\"text-align: right;\">\n",
       "      <th></th>\n",
       "      <th>document</th>\n",
       "      <th>label</th>\n",
       "      <th>token</th>\n",
       "    </tr>\n",
       "  </thead>\n",
       "  <tbody>\n",
       "    <tr>\n",
       "      <th>0</th>\n",
       "      <td>영상이나 음악이 이쁘다 해도 미화시킨 불륜일뿐</td>\n",
       "      <td>0</td>\n",
       "      <td>[영상, 이나, 음악, 이, 이쁘다, 해도, 미화, 시킨, 불륜, 일, 뿐]</td>\n",
       "    </tr>\n",
       "    <tr>\n",
       "      <th>1</th>\n",
       "      <td>히치콕이 이 영화를 봤다면 분명 박수를 쳤을듯</td>\n",
       "      <td>1</td>\n",
       "      <td>[히치콕, 이, 이, 영화, 를, 봤다면, 분명, 박수, 를, 쳤을듯]</td>\n",
       "    </tr>\n",
       "    <tr>\n",
       "      <th>2</th>\n",
       "      <td>괜찮은 음악영화가 또 나왔군요    따뜻한 겨울이 될 것 같아요</td>\n",
       "      <td>1</td>\n",
       "      <td>[괜찮은, 음악, 영화, 가, 또, 나왔군요, 따뜻한, 겨울, 이, 될, 것, 같아요]</td>\n",
       "    </tr>\n",
       "    <tr>\n",
       "      <th>3</th>\n",
       "      <td>아무래도 20년도지난작품이라 지금보기는너무유치하다</td>\n",
       "      <td>0</td>\n",
       "      <td>[아무래도, 20년, 도지난작품이라, 지금, 보기, 는, 너무, 유치하다]</td>\n",
       "    </tr>\n",
       "    <tr>\n",
       "      <th>4</th>\n",
       "      <td>지금까지의 영화들이 그랬듯  이 영화역시 일본에 대한 미화는 여전하다</td>\n",
       "      <td>0</td>\n",
       "      <td>[지금, 까지의, 영화, 들, 이, 그랬듯, 이, 영화, 역시, 일본, 에, 대한,...</td>\n",
       "    </tr>\n",
       "  </tbody>\n",
       "</table>\n",
       "</div>"
      ],
      "text/plain": [
       "                                  document  label  \\\n",
       "0                영상이나 음악이 이쁘다 해도 미화시킨 불륜일뿐      0   \n",
       "1             히치콕이 이 영화를 봤다면 분명 박수를 쳤을듯         1   \n",
       "2     괜찮은 음악영화가 또 나왔군요    따뜻한 겨울이 될 것 같아요       1   \n",
       "3              아무래도 20년도지난작품이라 지금보기는너무유치하다      0   \n",
       "4  지금까지의 영화들이 그랬듯  이 영화역시 일본에 대한 미화는 여전하다       0   \n",
       "\n",
       "                                               token  \n",
       "0         [영상, 이나, 음악, 이, 이쁘다, 해도, 미화, 시킨, 불륜, 일, 뿐]  \n",
       "1            [히치콕, 이, 이, 영화, 를, 봤다면, 분명, 박수, 를, 쳤을듯]  \n",
       "2   [괜찮은, 음악, 영화, 가, 또, 나왔군요, 따뜻한, 겨울, 이, 될, 것, 같아요]  \n",
       "3          [아무래도, 20년, 도지난작품이라, 지금, 보기, 는, 너무, 유치하다]  \n",
       "4  [지금, 까지의, 영화, 들, 이, 그랬듯, 이, 영화, 역시, 일본, 에, 대한,...  "
      ]
     },
     "execution_count": 46,
     "metadata": {},
     "output_type": "execute_result"
    }
   ],
   "source": [
    "df_train['token'] = df_train.document.apply(lambda x: okt.morphs(x))\n",
    "df_train.head()"
   ]
  },
  {
   "cell_type": "code",
   "execution_count": 47,
   "metadata": {},
   "outputs": [
    {
     "data": {
      "text/html": [
       "<div>\n",
       "<style scoped>\n",
       "    .dataframe tbody tr th:only-of-type {\n",
       "        vertical-align: middle;\n",
       "    }\n",
       "\n",
       "    .dataframe tbody tr th {\n",
       "        vertical-align: top;\n",
       "    }\n",
       "\n",
       "    .dataframe thead th {\n",
       "        text-align: right;\n",
       "    }\n",
       "</style>\n",
       "<table border=\"1\" class=\"dataframe\">\n",
       "  <thead>\n",
       "    <tr style=\"text-align: right;\">\n",
       "      <th></th>\n",
       "      <th>id</th>\n",
       "      <th>document</th>\n",
       "      <th>token</th>\n",
       "    </tr>\n",
       "  </thead>\n",
       "  <tbody>\n",
       "    <tr>\n",
       "      <th>0</th>\n",
       "      <td>1</td>\n",
       "      <td>시간 때우기 좋은 영화 지루함</td>\n",
       "      <td>[시간, 때우기, 좋은, 영화, 지루함]</td>\n",
       "    </tr>\n",
       "    <tr>\n",
       "      <th>1</th>\n",
       "      <td>2</td>\n",
       "      <td>훈훈한 정이 느껴지는 영화  가족끼리 드라마 보듯이 보면 딱</td>\n",
       "      <td>[훈훈한, 정이, 느껴지는, 영화, 가족, 끼리, 드라마, 보듯이, 보면, 딱]</td>\n",
       "    </tr>\n",
       "    <tr>\n",
       "      <th>2</th>\n",
       "      <td>3</td>\n",
       "      <td>Childhood fantasy</td>\n",
       "      <td>[Childhood, fantasy]</td>\n",
       "    </tr>\n",
       "    <tr>\n",
       "      <th>3</th>\n",
       "      <td>4</td>\n",
       "      <td>멋있는 영화입니다  잊을 수 없는</td>\n",
       "      <td>[멋있는, 영화, 입니다, 잊을, 수, 없는]</td>\n",
       "    </tr>\n",
       "    <tr>\n",
       "      <th>4</th>\n",
       "      <td>5</td>\n",
       "      <td>너무 감동적이네요 펑펑 울었습니다</td>\n",
       "      <td>[너무, 감동, 적이네요, 펑펑, 울었습니다]</td>\n",
       "    </tr>\n",
       "  </tbody>\n",
       "</table>\n",
       "</div>"
      ],
      "text/plain": [
       "   id                             document  \\\n",
       "0   1                     시간 때우기 좋은 영화 지루함   \n",
       "1   2  훈훈한 정이 느껴지는 영화  가족끼리 드라마 보듯이 보면 딱     \n",
       "2   3                    Childhood fantasy   \n",
       "3   4                  멋있는 영화입니다  잊을 수 없는    \n",
       "4   5                   너무 감동적이네요 펑펑 울었습니다   \n",
       "\n",
       "                                          token  \n",
       "0                        [시간, 때우기, 좋은, 영화, 지루함]  \n",
       "1  [훈훈한, 정이, 느껴지는, 영화, 가족, 끼리, 드라마, 보듯이, 보면, 딱]  \n",
       "2                          [Childhood, fantasy]  \n",
       "3                     [멋있는, 영화, 입니다, 잊을, 수, 없는]  \n",
       "4                     [너무, 감동, 적이네요, 펑펑, 울었습니다]  "
      ]
     },
     "execution_count": 47,
     "metadata": {},
     "output_type": "execute_result"
    }
   ],
   "source": [
    "df_test['token'] = df_test.document.apply(lambda x: okt.morphs(x))\n",
    "df_test.head()"
   ]
  },
  {
   "cell_type": "code",
   "execution_count": 48,
   "metadata": {},
   "outputs": [
    {
     "data": {
      "text/plain": [
       "23"
      ]
     },
     "execution_count": 48,
     "metadata": {},
     "output_type": "execute_result"
    }
   ],
   "source": [
    "max_length = 0\n",
    "for token_list in df_train.token:\n",
    "    sample = len(token_list)\n",
    "    if max_length < sample:\n",
    "        max_length = sample\n",
    "max_length"
   ]
  },
  {
   "cell_type": "code",
   "execution_count": 49,
   "metadata": {},
   "outputs": [
    {
     "data": {
      "text/html": [
       "<div>\n",
       "<style scoped>\n",
       "    .dataframe tbody tr th:only-of-type {\n",
       "        vertical-align: middle;\n",
       "    }\n",
       "\n",
       "    .dataframe tbody tr th {\n",
       "        vertical-align: top;\n",
       "    }\n",
       "\n",
       "    .dataframe thead th {\n",
       "        text-align: right;\n",
       "    }\n",
       "</style>\n",
       "<table border=\"1\" class=\"dataframe\">\n",
       "  <thead>\n",
       "    <tr style=\"text-align: right;\">\n",
       "      <th></th>\n",
       "      <th>document</th>\n",
       "      <th>label</th>\n",
       "      <th>token</th>\n",
       "      <th>vectorization</th>\n",
       "    </tr>\n",
       "  </thead>\n",
       "  <tbody>\n",
       "    <tr>\n",
       "      <th>0</th>\n",
       "      <td>영상이나 음악이 이쁘다 해도 미화시킨 불륜일뿐</td>\n",
       "      <td>0</td>\n",
       "      <td>[영상, 이나, 음악, 이, 이쁘다, 해도, 미화, 시킨, 불륜, 일, 뿐]</td>\n",
       "      <td>[256, 181, 171, 2, 1405, 373, 973, 1406, 974, ...</td>\n",
       "    </tr>\n",
       "    <tr>\n",
       "      <th>1</th>\n",
       "      <td>히치콕이 이 영화를 봤다면 분명 박수를 쳤을듯</td>\n",
       "      <td>1</td>\n",
       "      <td>[히치콕, 이, 이, 영화, 를, 봤다면, 분명, 박수, 를, 쳤을듯]</td>\n",
       "      <td>[2414, 2, 2, 1, 9, 1806, 766, 1151, 9, 3847, 0...</td>\n",
       "    </tr>\n",
       "    <tr>\n",
       "      <th>2</th>\n",
       "      <td>괜찮은 음악영화가 또 나왔군요    따뜻한 겨울이 될 것 같아요</td>\n",
       "      <td>1</td>\n",
       "      <td>[괜찮은, 음악, 영화, 가, 또, 나왔군요, 따뜻한, 겨울, 이, 될, 것, 같아요]</td>\n",
       "      <td>[416, 171, 1, 4, 120, 2415, 622, 1807, 2, 439,...</td>\n",
       "    </tr>\n",
       "    <tr>\n",
       "      <th>3</th>\n",
       "      <td>아무래도 20년도지난작품이라 지금보기는너무유치하다</td>\n",
       "      <td>0</td>\n",
       "      <td>[아무래도, 20년, 도지난작품이라, 지금, 보기, 는, 너무, 유치하다]</td>\n",
       "      <td>[3848, 854, 3849, 131, 186, 8, 10, 975, 0, 0, ...</td>\n",
       "    </tr>\n",
       "    <tr>\n",
       "      <th>4</th>\n",
       "      <td>지금까지의 영화들이 그랬듯  이 영화역시 일본에 대한 미화는 여전하다</td>\n",
       "      <td>0</td>\n",
       "      <td>[지금, 까지의, 영화, 들, 이, 그랬듯, 이, 영화, 역시, 일본, 에, 대한,...</td>\n",
       "      <td>[131, 2416, 1, 11, 2, 3850, 2, 1, 123, 279, 5,...</td>\n",
       "    </tr>\n",
       "  </tbody>\n",
       "</table>\n",
       "</div>"
      ],
      "text/plain": [
       "                                  document  label  \\\n",
       "0                영상이나 음악이 이쁘다 해도 미화시킨 불륜일뿐      0   \n",
       "1             히치콕이 이 영화를 봤다면 분명 박수를 쳤을듯         1   \n",
       "2     괜찮은 음악영화가 또 나왔군요    따뜻한 겨울이 될 것 같아요       1   \n",
       "3              아무래도 20년도지난작품이라 지금보기는너무유치하다      0   \n",
       "4  지금까지의 영화들이 그랬듯  이 영화역시 일본에 대한 미화는 여전하다       0   \n",
       "\n",
       "                                               token  \\\n",
       "0         [영상, 이나, 음악, 이, 이쁘다, 해도, 미화, 시킨, 불륜, 일, 뿐]   \n",
       "1            [히치콕, 이, 이, 영화, 를, 봤다면, 분명, 박수, 를, 쳤을듯]   \n",
       "2   [괜찮은, 음악, 영화, 가, 또, 나왔군요, 따뜻한, 겨울, 이, 될, 것, 같아요]   \n",
       "3          [아무래도, 20년, 도지난작품이라, 지금, 보기, 는, 너무, 유치하다]   \n",
       "4  [지금, 까지의, 영화, 들, 이, 그랬듯, 이, 영화, 역시, 일본, 에, 대한,...   \n",
       "\n",
       "                                       vectorization  \n",
       "0  [256, 181, 171, 2, 1405, 373, 973, 1406, 974, ...  \n",
       "1  [2414, 2, 2, 1, 9, 1806, 766, 1151, 9, 3847, 0...  \n",
       "2  [416, 171, 1, 4, 120, 2415, 622, 1807, 2, 439,...  \n",
       "3  [3848, 854, 3849, 131, 186, 8, 10, 975, 0, 0, ...  \n",
       "4  [131, 2416, 1, 11, 2, 3850, 2, 1, 123, 279, 5,...  "
      ]
     },
     "execution_count": 49,
     "metadata": {},
     "output_type": "execute_result"
    }
   ],
   "source": [
    "def tk_vect(token_list, max_length):\n",
    "    vector_list = []\n",
    "    for token in token_list:\n",
    "        if token in word_index:\n",
    "            vector_list.append(word_index[token])\n",
    "        else:\n",
    "            vector_list.append(word_index['NA'])\n",
    "    if len(vector_list) != max_length:\n",
    "        for _ in range(len(vector_list), max_length):\n",
    "            vector_list.append(word_index['NA'])\n",
    "    return vector_list\n",
    "\n",
    "df_train['vectorization'] = df_train['token'].apply(lambda x: tk_vect(x, max_length))\n",
    "df_train.head()"
   ]
  },
  {
   "cell_type": "code",
   "execution_count": 50,
   "metadata": {},
   "outputs": [
    {
     "data": {
      "text/html": [
       "<div>\n",
       "<style scoped>\n",
       "    .dataframe tbody tr th:only-of-type {\n",
       "        vertical-align: middle;\n",
       "    }\n",
       "\n",
       "    .dataframe tbody tr th {\n",
       "        vertical-align: top;\n",
       "    }\n",
       "\n",
       "    .dataframe thead th {\n",
       "        text-align: right;\n",
       "    }\n",
       "</style>\n",
       "<table border=\"1\" class=\"dataframe\">\n",
       "  <thead>\n",
       "    <tr style=\"text-align: right;\">\n",
       "      <th></th>\n",
       "      <th>id</th>\n",
       "      <th>document</th>\n",
       "      <th>token</th>\n",
       "      <th>vectorization</th>\n",
       "    </tr>\n",
       "  </thead>\n",
       "  <tbody>\n",
       "    <tr>\n",
       "      <th>0</th>\n",
       "      <td>1</td>\n",
       "      <td>시간 때우기 좋은 영화 지루함</td>\n",
       "      <td>[시간, 때우기, 좋은, 영화, 지루함]</td>\n",
       "      <td>[53, 3352, 92, 1, 314, 0, 0, 0, 0, 0, 0, 0, 0,...</td>\n",
       "    </tr>\n",
       "    <tr>\n",
       "      <th>1</th>\n",
       "      <td>2</td>\n",
       "      <td>훈훈한 정이 느껴지는 영화  가족끼리 드라마 보듯이 보면 딱</td>\n",
       "      <td>[훈훈한, 정이, 느껴지는, 영화, 가족, 끼리, 드라마, 보듯이, 보면, 딱]</td>\n",
       "      <td>[1790, 1333, 1707, 1, 460, 1954, 47, 0, 145, 3...</td>\n",
       "    </tr>\n",
       "    <tr>\n",
       "      <th>2</th>\n",
       "      <td>3</td>\n",
       "      <td>Childhood fantasy</td>\n",
       "      <td>[Childhood, fantasy]</td>\n",
       "      <td>[0, 0, 0, 0, 0, 0, 0, 0, 0, 0, 0, 0, 0, 0, 0, ...</td>\n",
       "    </tr>\n",
       "    <tr>\n",
       "      <th>3</th>\n",
       "      <td>4</td>\n",
       "      <td>멋있는 영화입니다  잊을 수 없는</td>\n",
       "      <td>[멋있는, 영화, 입니다, 잊을, 수, 없는]</td>\n",
       "      <td>[1752, 1, 90, 2403, 75, 63, 0, 0, 0, 0, 0, 0, ...</td>\n",
       "    </tr>\n",
       "    <tr>\n",
       "      <th>4</th>\n",
       "      <td>5</td>\n",
       "      <td>너무 감동적이네요 펑펑 울었습니다</td>\n",
       "      <td>[너무, 감동, 적이네요, 펑펑, 울었습니다]</td>\n",
       "      <td>[10, 29, 3409, 2479, 10192, 0, 0, 0, 0, 0, 0, ...</td>\n",
       "    </tr>\n",
       "  </tbody>\n",
       "</table>\n",
       "</div>"
      ],
      "text/plain": [
       "   id                             document  \\\n",
       "0   1                     시간 때우기 좋은 영화 지루함   \n",
       "1   2  훈훈한 정이 느껴지는 영화  가족끼리 드라마 보듯이 보면 딱     \n",
       "2   3                    Childhood fantasy   \n",
       "3   4                  멋있는 영화입니다  잊을 수 없는    \n",
       "4   5                   너무 감동적이네요 펑펑 울었습니다   \n",
       "\n",
       "                                          token  \\\n",
       "0                        [시간, 때우기, 좋은, 영화, 지루함]   \n",
       "1  [훈훈한, 정이, 느껴지는, 영화, 가족, 끼리, 드라마, 보듯이, 보면, 딱]   \n",
       "2                          [Childhood, fantasy]   \n",
       "3                     [멋있는, 영화, 입니다, 잊을, 수, 없는]   \n",
       "4                     [너무, 감동, 적이네요, 펑펑, 울었습니다]   \n",
       "\n",
       "                                       vectorization  \n",
       "0  [53, 3352, 92, 1, 314, 0, 0, 0, 0, 0, 0, 0, 0,...  \n",
       "1  [1790, 1333, 1707, 1, 460, 1954, 47, 0, 145, 3...  \n",
       "2  [0, 0, 0, 0, 0, 0, 0, 0, 0, 0, 0, 0, 0, 0, 0, ...  \n",
       "3  [1752, 1, 90, 2403, 75, 63, 0, 0, 0, 0, 0, 0, ...  \n",
       "4  [10, 29, 3409, 2479, 10192, 0, 0, 0, 0, 0, 0, ...  "
      ]
     },
     "execution_count": 50,
     "metadata": {},
     "output_type": "execute_result"
    }
   ],
   "source": [
    "df_test['vectorization'] = df_test['token'].apply(lambda x: tk_vect(x, max_length))\n",
    "df_test.head()"
   ]
  },
  {
   "cell_type": "code",
   "execution_count": 51,
   "metadata": {},
   "outputs": [
    {
     "data": {
      "text/plain": [
       "0.5354"
      ]
     },
     "execution_count": 51,
     "metadata": {},
     "output_type": "execute_result"
    }
   ],
   "source": [
    "from sklearn.linear_model import LogisticRegression #모델 불러오기\n",
    "from sklearn.metrics import accuracy_score \n",
    "\n",
    "lr = LogisticRegression(max_iter = 500) #객체에 모델 할당\n",
    "lr.fit(list(df_train.vectorization), list(df_train.label)) #모델 학습\n",
    "pred = lr.predict(list(df_train.vectorization))\n",
    "accuracy_score(df_train.label, pred)"
   ]
  },
  {
   "cell_type": "code",
   "execution_count": 52,
   "metadata": {},
   "outputs": [
    {
     "data": {
      "text/html": [
       "<div>\n",
       "<style scoped>\n",
       "    .dataframe tbody tr th:only-of-type {\n",
       "        vertical-align: middle;\n",
       "    }\n",
       "\n",
       "    .dataframe tbody tr th {\n",
       "        vertical-align: top;\n",
       "    }\n",
       "\n",
       "    .dataframe thead th {\n",
       "        text-align: right;\n",
       "    }\n",
       "</style>\n",
       "<table border=\"1\" class=\"dataframe\">\n",
       "  <thead>\n",
       "    <tr style=\"text-align: right;\">\n",
       "      <th></th>\n",
       "      <th>id</th>\n",
       "      <th>label</th>\n",
       "    </tr>\n",
       "  </thead>\n",
       "  <tbody>\n",
       "    <tr>\n",
       "      <th>0</th>\n",
       "      <td>1</td>\n",
       "      <td>1</td>\n",
       "    </tr>\n",
       "    <tr>\n",
       "      <th>1</th>\n",
       "      <td>2</td>\n",
       "      <td>1</td>\n",
       "    </tr>\n",
       "    <tr>\n",
       "      <th>2</th>\n",
       "      <td>3</td>\n",
       "      <td>0</td>\n",
       "    </tr>\n",
       "    <tr>\n",
       "      <th>3</th>\n",
       "      <td>4</td>\n",
       "      <td>1</td>\n",
       "    </tr>\n",
       "    <tr>\n",
       "      <th>4</th>\n",
       "      <td>5</td>\n",
       "      <td>0</td>\n",
       "    </tr>\n",
       "  </tbody>\n",
       "</table>\n",
       "</div>"
      ],
      "text/plain": [
       "   id  label\n",
       "0   1      1\n",
       "1   2      1\n",
       "2   3      0\n",
       "3   4      1\n",
       "4   5      0"
      ]
     },
     "execution_count": 52,
     "metadata": {},
     "output_type": "execute_result"
    }
   ],
   "source": [
    "# 정답파일 작성\n",
    "predict = pd.read_csv(PATH + '\\\\sample_submission.csv')\n",
    "len(predict), len(test)\n",
    "pred = lr.predict(list(df_test.vectorization))\n",
    "predict.label = pred\n",
    "predict.to_csv(PATH + '\\\\sample_submission(lr).csv', index = False)\n",
    "pd.read_csv(PATH + '\\\\sample_submission(lr).csv').head()"
   ]
  },
  {
   "cell_type": "code",
   "execution_count": 115,
   "metadata": {},
   "outputs": [],
   "source": [
    "deep_train = df_train[['vectorization', 'label']].copy()\n",
    "for i in range(max_length):\n",
    "    deep_train[f'{i}'] = deep_train.vectorization.apply(lambda x: x[i]) \n",
    "deep_train.drop(['vectorization'], axis = 1, inplace = True)"
   ]
  },
  {
   "cell_type": "code",
   "execution_count": 116,
   "metadata": {},
   "outputs": [],
   "source": [
    "from sklearn.model_selection import train_test_split\n",
    "X_train, X_test, y_train, y_test = train_test_split(deep_train.drop(['label'], axis = 1), deep_train[['label']], \\\n",
    "                                                    test_size = 0.2, stratify =deep_train[['label']], random_state = 7)"
   ]
  },
  {
   "cell_type": "code",
   "execution_count": 117,
   "metadata": {},
   "outputs": [
    {
     "name": "stdout",
     "output_type": "stream",
     "text": [
      "(4000, 23) (4000, 23) (1000, 23) (1000, 23)\n"
     ]
    }
   ],
   "source": [
    "# 학습데이터로 사용하기 위해 pandas파일을 numpy파일로 변환\n",
    "print(X_train.shape, X_train.to_numpy().shape, X_test.shape, X_test.to_numpy().shape)\n",
    "X_train = X_train.to_numpy()\n",
    "X_test = X_test.to_numpy()\n",
    "y_train = y_train.label.to_numpy()\n",
    "y_test = y_test.label.to_numpy()"
   ]
  },
  {
   "cell_type": "code",
   "execution_count": 119,
   "metadata": {},
   "outputs": [
    {
     "name": "stdout",
     "output_type": "stream",
     "text": [
      "(4000, 23)\n"
     ]
    }
   ],
   "source": [
    "# 신경망 분류모델 작성\n",
    "import tensorflow as tf\n",
    "from tensorflow.keras.models import Sequential\n",
    "from tensorflow.keras.layers import Dense, Embedding, Flatten\n",
    "from tensorflow.keras.utils import to_categorical\n",
    "\n",
    "# quality가 범주형이므로 범주형으로 변환\n",
    "y_train = to_categorical(y_train)\n",
    "y_test = to_categorical(y_test)\n",
    "\n",
    "print(X_train.shape) "
   ]
  },
  {
   "cell_type": "code",
   "execution_count": 142,
   "metadata": {},
   "outputs": [
    {
     "name": "stdout",
     "output_type": "stream",
     "text": [
      "Model: \"sequential_5\"\n",
      "_________________________________________________________________\n",
      "Layer (type)                 Output Shape              Param #   \n",
      "=================================================================\n",
      "embedding_5 (Embedding)      (None, 23, 16)            168880    \n",
      "_________________________________________________________________\n",
      "flatten_5 (Flatten)          (None, 368)               0         \n",
      "_________________________________________________________________\n",
      "dense_5 (Dense)              (None, 2)                 738       \n",
      "=================================================================\n",
      "Total params: 169,618\n",
      "Trainable params: 169,618\n",
      "Non-trainable params: 0\n",
      "_________________________________________________________________\n",
      "Epoch 1/30\n",
      "63/63 [==============================] - 0s 6ms/step - loss: 0.6906 - acc: 0.5228 - val_loss: 0.6884 - val_acc: 0.5580\n",
      "Epoch 2/30\n",
      "63/63 [==============================] - 0s 2ms/step - loss: 0.6652 - acc: 0.7390 - val_loss: 0.6641 - val_acc: 0.7360\n",
      "Epoch 3/30\n",
      "63/63 [==============================] - 0s 2ms/step - loss: 0.5935 - acc: 0.9120 - val_loss: 0.6033 - val_acc: 0.7790\n",
      "Epoch 4/30\n",
      "63/63 [==============================] - 0s 1ms/step - loss: 0.4728 - acc: 0.9333 - val_loss: 0.5274 - val_acc: 0.8050\n",
      "Epoch 5/30\n",
      "63/63 [==============================] - 0s 2ms/step - loss: 0.3500 - acc: 0.9545 - val_loss: 0.4685 - val_acc: 0.8130\n",
      "Epoch 6/30\n",
      "63/63 [==============================] - 0s 2ms/step - loss: 0.2554 - acc: 0.9690 - val_loss: 0.4300 - val_acc: 0.8220\n",
      "Epoch 7/30\n",
      "63/63 [==============================] - 0s 2ms/step - loss: 0.1884 - acc: 0.9818 - val_loss: 0.4059 - val_acc: 0.8260\n",
      "Epoch 8/30\n",
      "63/63 [==============================] - 0s 2ms/step - loss: 0.1417 - acc: 0.9893 - val_loss: 0.3907 - val_acc: 0.8300\n",
      "Epoch 9/30\n",
      "63/63 [==============================] - 0s 2ms/step - loss: 0.1082 - acc: 0.9940 - val_loss: 0.3813 - val_acc: 0.8300\n",
      "Epoch 10/30\n",
      "63/63 [==============================] - 0s 2ms/step - loss: 0.0842 - acc: 0.9965 - val_loss: 0.3751 - val_acc: 0.8320\n",
      "Epoch 11/30\n",
      "63/63 [==============================] - 0s 1ms/step - loss: 0.0667 - acc: 0.9975 - val_loss: 0.3711 - val_acc: 0.8310\n",
      "Epoch 12/30\n",
      "63/63 [==============================] - 0s 1ms/step - loss: 0.0535 - acc: 0.9983 - val_loss: 0.3689 - val_acc: 0.8330\n",
      "Epoch 13/30\n",
      "63/63 [==============================] - 0s 1ms/step - loss: 0.0436 - acc: 0.9987 - val_loss: 0.3678 - val_acc: 0.8300\n",
      "Epoch 14/30\n",
      "63/63 [==============================] - 0s 1ms/step - loss: 0.0362 - acc: 0.9995 - val_loss: 0.3679 - val_acc: 0.8300\n",
      "Epoch 15/30\n",
      "63/63 [==============================] - 0s 2ms/step - loss: 0.0303 - acc: 0.9995 - val_loss: 0.3683 - val_acc: 0.8300\n",
      "Epoch 16/30\n",
      "63/63 [==============================] - 0s 2ms/step - loss: 0.0256 - acc: 0.9995 - val_loss: 0.3695 - val_acc: 0.8280\n",
      "Epoch 17/30\n",
      "63/63 [==============================] - 0s 2ms/step - loss: 0.0219 - acc: 1.0000 - val_loss: 0.3705 - val_acc: 0.8260\n",
      "Epoch 18/30\n",
      "63/63 [==============================] - 0s 2ms/step - loss: 0.0189 - acc: 1.0000 - val_loss: 0.3722 - val_acc: 0.8260\n",
      "Epoch 19/30\n",
      "63/63 [==============================] - 0s 2ms/step - loss: 0.0164 - acc: 1.0000 - val_loss: 0.3739 - val_acc: 0.8240\n",
      "Epoch 20/30\n",
      "63/63 [==============================] - 0s 1ms/step - loss: 0.0144 - acc: 1.0000 - val_loss: 0.3756 - val_acc: 0.8220\n",
      "Epoch 21/30\n",
      "63/63 [==============================] - 0s 2ms/step - loss: 0.0126 - acc: 1.0000 - val_loss: 0.3774 - val_acc: 0.8250\n",
      "Epoch 22/30\n",
      "63/63 [==============================] - 0s 1ms/step - loss: 0.0112 - acc: 1.0000 - val_loss: 0.3796 - val_acc: 0.8240\n",
      "Epoch 23/30\n",
      "63/63 [==============================] - 0s 1ms/step - loss: 0.0100 - acc: 1.0000 - val_loss: 0.3813 - val_acc: 0.8220\n",
      "Epoch 24/30\n",
      "63/63 [==============================] - 0s 1ms/step - loss: 0.0089 - acc: 1.0000 - val_loss: 0.3834 - val_acc: 0.8250\n",
      "Epoch 25/30\n",
      "63/63 [==============================] - 0s 1ms/step - loss: 0.0080 - acc: 1.0000 - val_loss: 0.3855 - val_acc: 0.8220\n",
      "Epoch 26/30\n",
      "63/63 [==============================] - 0s 1ms/step - loss: 0.0073 - acc: 1.0000 - val_loss: 0.3875 - val_acc: 0.8240\n",
      "Epoch 27/30\n",
      "63/63 [==============================] - 0s 1ms/step - loss: 0.0066 - acc: 1.0000 - val_loss: 0.3897 - val_acc: 0.8240\n",
      "Epoch 28/30\n",
      "63/63 [==============================] - 0s 2ms/step - loss: 0.0060 - acc: 1.0000 - val_loss: 0.3918 - val_acc: 0.8240\n",
      "Epoch 29/30\n",
      "63/63 [==============================] - 0s 2ms/step - loss: 0.0055 - acc: 1.0000 - val_loss: 0.3938 - val_acc: 0.8220\n",
      "Epoch 30/30\n",
      "63/63 [==============================] - 0s 2ms/step - loss: 0.0050 - acc: 1.0000 - val_loss: 0.3959 - val_acc: 0.8230\n"
     ]
    }
   ],
   "source": [
    "model = Sequential()\n",
    "model.add(Embedding(input_dim = len(word_index), output_dim = 16, input_length = 23))\n",
    "model.add(Flatten())\n",
    "model.add(Dense(2, activation = 'sigmoid'))\n",
    "model.compile(optimizer = 'adam', loss = 'binary_crossentropy', metrics = ['acc'])\n",
    "model.summary()\n",
    "history = model.fit(X_train, y_train, batch_size = 64, epochs = 30, validation_data = (X_test, y_test))"
   ]
  },
  {
   "cell_type": "code",
   "execution_count": 143,
   "metadata": {},
   "outputs": [
    {
     "data": {
      "text/plain": [
       "dict_keys(['loss', 'acc', 'val_loss', 'val_acc'])"
      ]
     },
     "execution_count": 143,
     "metadata": {},
     "output_type": "execute_result"
    }
   ],
   "source": [
    "history_dict = history.history\n",
    "history_dict.keys()"
   ]
  },
  {
   "cell_type": "code",
   "execution_count": 144,
   "metadata": {},
   "outputs": [
    {
     "data": {
      "image/png": "[encoded data removed]",
      "text/plain": [
       "<Figure size 1440x576 with 1 Axes>"
      ]
     },
     "metadata": {
      "needs_background": "light"
     },
     "output_type": "display_data"
    }
   ],
   "source": [
    "import matplotlib.pyplot as plt\n",
    "history_dict = history.history\n",
    "loss = history_dict['loss']\n",
    "val_loss = history_dict['val_loss']\n",
    "epochs = range(1, len(loss)+1)\n",
    "plt.figure(figsize = (20, 8))\n",
    "plt.plot(epochs, loss, 'r', label = 'Training loss')\n",
    "plt.plot(epochs, val_loss, 'b', label = 'Validation loss')\n",
    "plt.title('Training and validation loss')\n",
    "plt.xlabel('Epochs')\n",
    "plt.ylabel('loss')\n",
    "plt.legend()\n",
    "plt.show()"
   ]
  },
  {
   "cell_type": "code",
   "execution_count": 145,
   "metadata": {},
   "outputs": [
    {
     "data": {
      "text/plain": [
       "<Figure size 432x288 with 0 Axes>"
      ]
     },
     "metadata": {},
     "output_type": "display_data"
    },
    {
     "data": {
      "image/png": "[encoded data removed]",
      "text/plain": [
       "<Figure size 1440x576 with 1 Axes>"
      ]
     },
     "metadata": {
      "needs_background": "light"
     },
     "output_type": "display_data"
    }
   ],
   "source": [
    "plt.clf()\n",
    "acc = history_dict['acc']\n",
    "val_acc = history_dict['val_acc']\n",
    "\n",
    "plt.figure(figsize = (20, 8))\n",
    "plt.plot(epochs, acc, 'r', label = 'Training acc')\n",
    "plt.plot(epochs, val_acc, 'b', label = 'Validation acc')\n",
    "plt.title('Training and validation accuracy')\n",
    "plt.xlabel('Epochs')\n",
    "plt.ylabel('Accuracy')\n",
    "plt.legend()\n",
    "plt.show()"
   ]
  },
  {
   "cell_type": "code",
   "execution_count": 146,
   "metadata": {},
   "outputs": [
    {
     "name": "stdout",
     "output_type": "stream",
     "text": [
      "32/32 [==============================] - 0s 654us/step - loss: 0.3959 - acc: 0.8230\n"
     ]
    },
    {
     "data": {
      "text/plain": [
       "[0.3958640992641449, 0.8230000138282776]"
      ]
     },
     "execution_count": 146,
     "metadata": {},
     "output_type": "execute_result"
    }
   ],
   "source": [
    "model.evaluate(X_test, y_test)"
   ]
  },
  {
   "cell_type": "code",
   "execution_count": 152,
   "metadata": {},
   "outputs": [
    {
     "data": {
      "text/plain": [
       "array([[  53, 3352,   92, ...,    0,    0,    0],\n",
       "       [1790, 1333, 1707, ...,    0,    0,    0],\n",
       "       [   0,    0,    0, ...,    0,    0,    0],\n",
       "       ...,\n",
       "       [ 131,   66,  606, ...,    0,    0,    0],\n",
       "       [   1, 1429,   28, ...,    0,    0,    0],\n",
       "       [ 843,  157, 6938, ...,    0,    0,    0]], dtype=int64)"
      ]
     },
     "execution_count": 152,
     "metadata": {},
     "output_type": "execute_result"
    }
   ],
   "source": [
    "deep_test = df_test[['vectorization']].copy()\n",
    "for i in range(max_length):\n",
    "    deep_test[f'{i}'] = deep_test.vectorization.apply(lambda x: x[i]) \n",
    "deep_test.drop(['vectorization'], axis = 1, inplace = True)\n",
    "deep_test.to_numpy()"
   ]
  },
  {
   "cell_type": "code",
   "execution_count": 154,
   "metadata": {},
   "outputs": [
    {
     "name": "stdout",
     "output_type": "stream",
     "text": [
      "[[  53 3352   92 ...    0    0    0]\n",
      " [1790 1333 1707 ...    0    0    0]\n",
      " [   0    0    0 ...    0    0    0]\n",
      " ...\n",
      " [ 131   66  606 ...    0    0    0]\n",
      " [   1 1429   28 ...    0    0    0]\n",
      " [ 843  157 6938 ...    0    0    0]]\n",
      "(5000, 2)\n"
     ]
    }
   ],
   "source": [
    "# 학습한 모델로 예측하기\n",
    "print(deep_test.to_numpy())\n",
    "result = model.predict(deep_test.to_numpy())\n",
    "print(result.shape)\n",
    "arg_result = np.argmax(result, axis = -1)"
   ]
  },
  {
   "cell_type": "code",
   "execution_count": 157,
   "metadata": {},
   "outputs": [
    {
     "data": {
      "text/html": [
       "<div>\n",
       "<style scoped>\n",
       "    .dataframe tbody tr th:only-of-type {\n",
       "        vertical-align: middle;\n",
       "    }\n",
       "\n",
       "    .dataframe tbody tr th {\n",
       "        vertical-align: top;\n",
       "    }\n",
       "\n",
       "    .dataframe thead th {\n",
       "        text-align: right;\n",
       "    }\n",
       "</style>\n",
       "<table border=\"1\" class=\"dataframe\">\n",
       "  <thead>\n",
       "    <tr style=\"text-align: right;\">\n",
       "      <th></th>\n",
       "      <th>id</th>\n",
       "      <th>label</th>\n",
       "    </tr>\n",
       "  </thead>\n",
       "  <tbody>\n",
       "    <tr>\n",
       "      <th>0</th>\n",
       "      <td>1</td>\n",
       "      <td>0</td>\n",
       "    </tr>\n",
       "    <tr>\n",
       "      <th>1</th>\n",
       "      <td>2</td>\n",
       "      <td>1</td>\n",
       "    </tr>\n",
       "    <tr>\n",
       "      <th>2</th>\n",
       "      <td>3</td>\n",
       "      <td>1</td>\n",
       "    </tr>\n",
       "    <tr>\n",
       "      <th>3</th>\n",
       "      <td>4</td>\n",
       "      <td>1</td>\n",
       "    </tr>\n",
       "    <tr>\n",
       "      <th>4</th>\n",
       "      <td>5</td>\n",
       "      <td>1</td>\n",
       "    </tr>\n",
       "  </tbody>\n",
       "</table>\n",
       "</div>"
      ],
      "text/plain": [
       "   id  label\n",
       "0   1      0\n",
       "1   2      1\n",
       "2   3      1\n",
       "3   4      1\n",
       "4   5      1"
      ]
     },
     "execution_count": 157,
     "metadata": {},
     "output_type": "execute_result"
    }
   ],
   "source": [
    "# 정답파일 작성\n",
    "predict = pd.read_csv(PATH + '\\\\sample_submission.csv')\n",
    "predict.label = arg_result\n",
    "predict.to_csv(PATH + '\\\\sample_submission(Tensor_Basic).csv', index = False)\n",
    "pd.read_csv(PATH + '\\\\sample_submission(Tensor_Basic).csv').head()"
   ]
  }
 ],
 "metadata": {
  "interpreter": {
   "hash": "fe3bab233825460445dbfeea6dcd52ef5815a3fa13c858fea07ac830aa383284"
  },
  "kernelspec": {
   "display_name": "Python 3.8.10 64-bit ('base': conda)",
   "language": "python",
   "name": "python3"
  },
  "language_info": {
   "codemirror_mode": {
    "name": "ipython",
    "version": 3
   },
   "file_extension": ".py",
   "mimetype": "text/x-python",
   "name": "python",
   "nbconvert_exporter": "python",
   "pygments_lexer": "ipython3",
   "version": "3.8.10"
  },
  "orig_nbformat": 4
 },
 "nbformat": 4,
 "nbformat_minor": 2
}
