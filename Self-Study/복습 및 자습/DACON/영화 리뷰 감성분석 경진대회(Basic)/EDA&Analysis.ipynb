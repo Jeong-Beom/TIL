{
 "cells": [
  {
   "cell_type": "code",
   "execution_count": 1,
   "metadata": {},
   "outputs": [],
   "source": [
    "import pandas as pd\n",
    "import matplotlib.pyplot as plt\n",
    "import seaborn as sns\n",
    "from matplotlib import patches\n",
    "%matplotlib inline\n",
    "import os\n",
    "import numpy as np\n",
    "import matplotlib as mpl\n",
    "import matplotlib.pyplot as plt\n",
    "import matplotlib.font_manager as fonm\n",
    "from matplotlib import font_manager, rc\n",
    "mpl.rcParams['axes.unicode_minus'] = False\n",
    "font_path = \"C:/Windows/Fonts/HMKMRHD.ttf\"\n",
    "font = fonm.FontProperties(fname=font_path).get_name()\n",
    "rc('font', family=font)"
   ]
  },
  {
   "cell_type": "code",
   "execution_count": 2,
   "metadata": {},
   "outputs": [
    {
     "data": {
      "text/plain": [
       "['sample_submission(lr).csv',\n",
       " 'sample_submission(Tensor_Basic).csv',\n",
       " 'sample_submission.csv',\n",
       " 'test.csv',\n",
       " 'train.csv']"
      ]
     },
     "execution_count": 2,
     "metadata": {},
     "output_type": "execute_result"
    }
   ],
   "source": [
    "Basic_dir = os.path.dirname(os.path.dirname(os.path.realpath('EDA.ipynb')))\n",
    "PATH = Basic_dir + '\\\\Data\\\\Data(MovieReview_B)'\n",
    "os.listdir(PATH)"
   ]
  },
  {
   "cell_type": "code",
   "execution_count": 3,
   "metadata": {},
   "outputs": [
    {
     "name": "stdout",
     "output_type": "stream",
     "text": [
      "Index(['id', 'document', 'label'], dtype='object')\n",
      "<class 'pandas.core.frame.DataFrame'>\n",
      "RangeIndex: 5000 entries, 0 to 4999\n",
      "Data columns (total 3 columns):\n",
      " #   Column    Non-Null Count  Dtype \n",
      "---  ------    --------------  ----- \n",
      " 0   id        5000 non-null   int64 \n",
      " 1   document  5000 non-null   object\n",
      " 2   label     5000 non-null   int64 \n",
      "dtypes: int64(2), object(1)\n",
      "memory usage: 117.3+ KB\n"
     ]
    }
   ],
   "source": [
    "train = pd.read_csv(PATH + '\\\\train.csv')\n",
    "print(train.columns)\n",
    "train.info()"
   ]
  },
  {
   "cell_type": "code",
   "execution_count": 4,
   "metadata": {},
   "outputs": [
    {
     "name": "stdout",
     "output_type": "stream",
     "text": [
      "0\n",
      "5000\n",
      "Index(['id', 'document', 'label'], dtype='object')\n"
     ]
    },
    {
     "data": {
      "text/plain": [
       "0    2564\n",
       "1    2436\n",
       "Name: label, dtype: int64"
      ]
     },
     "execution_count": 4,
     "metadata": {},
     "output_type": "execute_result"
    }
   ],
   "source": [
    "print(train.isna().sum().sum()) # 결측값 확인 - 결측값 없음\n",
    "print(train.document.nunique()) # 중복 여부 확인 - 중복값 없음\n",
    "print(train.columns)\n",
    "train['label'].value_counts()"
   ]
  },
  {
   "cell_type": "code",
   "execution_count": 5,
   "metadata": {},
   "outputs": [
    {
     "name": "stdout",
     "output_type": "stream",
     "text": [
      "Index(['id', 'document'], dtype='object')\n",
      "<class 'pandas.core.frame.DataFrame'>\n",
      "RangeIndex: 5000 entries, 0 to 4999\n",
      "Data columns (total 2 columns):\n",
      " #   Column    Non-Null Count  Dtype \n",
      "---  ------    --------------  ----- \n",
      " 0   id        5000 non-null   int64 \n",
      " 1   document  5000 non-null   object\n",
      "dtypes: int64(1), object(1)\n",
      "memory usage: 78.2+ KB\n"
     ]
    }
   ],
   "source": [
    "test = pd.read_csv(PATH + '\\\\test.csv')\n",
    "print(test.columns)\n",
    "test.info()"
   ]
  },
  {
   "cell_type": "code",
   "execution_count": 6,
   "metadata": {},
   "outputs": [
    {
     "name": "stdout",
     "output_type": "stream",
     "text": [
      "0\n",
      "4999\n",
      "Index(['id', 'document'], dtype='object')\n"
     ]
    }
   ],
   "source": [
    "print(test.isna().sum().sum()) # 결측값 확인 - 결측값 없음\n",
    "print(test.document.nunique()) # 중복 여부 확인 - 중복값 있음\n",
    "print(test.columns)"
   ]
  },
  {
   "cell_type": "code",
   "execution_count": 7,
   "metadata": {},
   "outputs": [
    {
     "data": {
      "image/png": "[encoded data removed]",
      "text/plain": [
       "<Figure size 432x288 with 1 Axes>"
      ]
     },
     "metadata": {},
     "output_type": "display_data"
    }
   ],
   "source": [
    "# 파이차트 : 카테고리별 값의 상대적인 비교를 해야할 때 사용\n",
    "labels = list(train['label'].unique())\n",
    "sizes = train['label'].value_counts()\n",
    "colors = ['red', 'lightskyblue']\n",
    "explode = (0, 0.1)\n",
    "plt.title('Label Distribution')\n",
    "plt.pie(sizes, explode = explode, labels = labels, colors = colors,\n",
    "        autopct = '%1.1f%%', shadow = True, startangle = 90)\n",
    "plt.axis('equal')\n",
    "plt.show()"
   ]
  },
  {
   "cell_type": "code",
   "execution_count": 8,
   "metadata": {},
   "outputs": [
    {
     "data": {
      "text/html": [
       "<div>\n",
       "<style scoped>\n",
       "    .dataframe tbody tr th:only-of-type {\n",
       "        vertical-align: middle;\n",
       "    }\n",
       "\n",
       "    .dataframe tbody tr th {\n",
       "        vertical-align: top;\n",
       "    }\n",
       "\n",
       "    .dataframe thead th {\n",
       "        text-align: right;\n",
       "    }\n",
       "</style>\n",
       "<table border=\"1\" class=\"dataframe\">\n",
       "  <thead>\n",
       "    <tr style=\"text-align: right;\">\n",
       "      <th></th>\n",
       "      <th>document</th>\n",
       "      <th>label</th>\n",
       "    </tr>\n",
       "  </thead>\n",
       "  <tbody>\n",
       "    <tr>\n",
       "      <th>0</th>\n",
       "      <td>영상이나 음악이 이쁘다 해도 미화시킨 불륜일뿐</td>\n",
       "      <td>0</td>\n",
       "    </tr>\n",
       "    <tr>\n",
       "      <th>1</th>\n",
       "      <td>히치콕이 이 영화를 봤다면 분명 박수를 쳤을듯...</td>\n",
       "      <td>1</td>\n",
       "    </tr>\n",
       "    <tr>\n",
       "      <th>2</th>\n",
       "      <td>괜찮은 음악영화가 또 나왔군요!!! 따뜻한 겨울이 될 것 같아요~</td>\n",
       "      <td>1</td>\n",
       "    </tr>\n",
       "    <tr>\n",
       "      <th>3</th>\n",
       "      <td>아무래도 20년도지난작품이라 지금보기는너무유치하다</td>\n",
       "      <td>0</td>\n",
       "    </tr>\n",
       "    <tr>\n",
       "      <th>4</th>\n",
       "      <td>지금까지의 영화들이 그랬듯. 이 영화역시 일본에 대한 미화는 여전하다.</td>\n",
       "      <td>0</td>\n",
       "    </tr>\n",
       "    <tr>\n",
       "      <th>...</th>\n",
       "      <td>...</td>\n",
       "      <td>...</td>\n",
       "    </tr>\n",
       "    <tr>\n",
       "      <th>4995</th>\n",
       "      <td>좋은 배우들로 3류영화를 찍은 안타까운 영화</td>\n",
       "      <td>0</td>\n",
       "    </tr>\n",
       "    <tr>\n",
       "      <th>4996</th>\n",
       "      <td>진짜 드럽게 재미없다 에드워드 호퍼 그림에 배경 빼고는 볼게 아닌영화</td>\n",
       "      <td>0</td>\n",
       "    </tr>\n",
       "    <tr>\n",
       "      <th>4997</th>\n",
       "      <td>가장 실망스러운 영화.. 지금까지 본영화중..</td>\n",
       "      <td>0</td>\n",
       "    </tr>\n",
       "    <tr>\n",
       "      <th>4998</th>\n",
       "      <td>이런 평점 테러, 네이버에서 좀 막아야 하는 것 아닌가?</td>\n",
       "      <td>1</td>\n",
       "    </tr>\n",
       "    <tr>\n",
       "      <th>4999</th>\n",
       "      <td>여주인공이 전작에서는 귀여웠는데, 여기선 완전 망했네, 실망이다</td>\n",
       "      <td>0</td>\n",
       "    </tr>\n",
       "  </tbody>\n",
       "</table>\n",
       "<p>5000 rows × 2 columns</p>\n",
       "</div>"
      ],
      "text/plain": [
       "                                     document  label\n",
       "0                   영상이나 음악이 이쁘다 해도 미화시킨 불륜일뿐      0\n",
       "1                히치콕이 이 영화를 봤다면 분명 박수를 쳤을듯...      1\n",
       "2        괜찮은 음악영화가 또 나왔군요!!! 따뜻한 겨울이 될 것 같아요~      1\n",
       "3                 아무래도 20년도지난작품이라 지금보기는너무유치하다      0\n",
       "4     지금까지의 영화들이 그랬듯. 이 영화역시 일본에 대한 미화는 여전하다.      0\n",
       "...                                       ...    ...\n",
       "4995                 좋은 배우들로 3류영화를 찍은 안타까운 영화      0\n",
       "4996   진짜 드럽게 재미없다 에드워드 호퍼 그림에 배경 빼고는 볼게 아닌영화      0\n",
       "4997                가장 실망스러운 영화.. 지금까지 본영화중..      0\n",
       "4998          이런 평점 테러, 네이버에서 좀 막아야 하는 것 아닌가?      1\n",
       "4999      여주인공이 전작에서는 귀여웠는데, 여기선 완전 망했네, 실망이다      0\n",
       "\n",
       "[5000 rows x 2 columns]"
      ]
     },
     "execution_count": 8,
     "metadata": {},
     "output_type": "execute_result"
    }
   ],
   "source": [
    "df_train = train.drop(['id'], axis = 1).copy()\n",
    "df_train"
   ]
  },
  {
   "cell_type": "code",
   "execution_count": 9,
   "metadata": {},
   "outputs": [
    {
     "name": "stderr",
     "output_type": "stream",
     "text": [
      "<ipython-input-9-d6dde21cf3f3>:2: FutureWarning: The default value of regex will change from True to False in a future version.\n",
      "  df_train['document'] = df_train['document'].str.replace('[^ㄱ-하-ㅣ가-힣0-9 ]', ' ')\n"
     ]
    },
    {
     "data": {
      "text/html": [
       "<div>\n",
       "<style scoped>\n",
       "    .dataframe tbody tr th:only-of-type {\n",
       "        vertical-align: middle;\n",
       "    }\n",
       "\n",
       "    .dataframe tbody tr th {\n",
       "        vertical-align: top;\n",
       "    }\n",
       "\n",
       "    .dataframe thead th {\n",
       "        text-align: right;\n",
       "    }\n",
       "</style>\n",
       "<table border=\"1\" class=\"dataframe\">\n",
       "  <thead>\n",
       "    <tr style=\"text-align: right;\">\n",
       "      <th></th>\n",
       "      <th>document</th>\n",
       "      <th>label</th>\n",
       "    </tr>\n",
       "  </thead>\n",
       "  <tbody>\n",
       "    <tr>\n",
       "      <th>0</th>\n",
       "      <td>영상이나 음악이 이쁘다 해도 미화시킨 불륜일뿐</td>\n",
       "      <td>0</td>\n",
       "    </tr>\n",
       "    <tr>\n",
       "      <th>1</th>\n",
       "      <td>히치콕이 이 영화를 봤다면 분명 박수를 쳤을듯</td>\n",
       "      <td>1</td>\n",
       "    </tr>\n",
       "    <tr>\n",
       "      <th>2</th>\n",
       "      <td>괜찮은 음악영화가 또 나왔군요    따뜻한 겨울이 될 것 같아요</td>\n",
       "      <td>1</td>\n",
       "    </tr>\n",
       "    <tr>\n",
       "      <th>3</th>\n",
       "      <td>아무래도 20년도지난작품이라 지금보기는너무유치하다</td>\n",
       "      <td>0</td>\n",
       "    </tr>\n",
       "    <tr>\n",
       "      <th>4</th>\n",
       "      <td>지금까지의 영화들이 그랬듯  이 영화역시 일본에 대한 미화는 여전하다</td>\n",
       "      <td>0</td>\n",
       "    </tr>\n",
       "  </tbody>\n",
       "</table>\n",
       "</div>"
      ],
      "text/plain": [
       "                                  document  label\n",
       "0                영상이나 음악이 이쁘다 해도 미화시킨 불륜일뿐      0\n",
       "1             히치콕이 이 영화를 봤다면 분명 박수를 쳤을듯         1\n",
       "2     괜찮은 음악영화가 또 나왔군요    따뜻한 겨울이 될 것 같아요       1\n",
       "3              아무래도 20년도지난작품이라 지금보기는너무유치하다      0\n",
       "4  지금까지의 영화들이 그랬듯  이 영화역시 일본에 대한 미화는 여전하다       0"
      ]
     },
     "execution_count": 9,
     "metadata": {},
     "output_type": "execute_result"
    }
   ],
   "source": [
    "# 한글과 숫자를 제외하고 전부 삭제\n",
    "df_train['document'] = df_train['document'].str.replace('[^ㄱ-하-ㅣ가-힣0-9 ]', ' ')\n",
    "df_train.head()"
   ]
  },
  {
   "cell_type": "code",
   "execution_count": 10,
   "metadata": {},
   "outputs": [
    {
     "name": "stderr",
     "output_type": "stream",
     "text": [
      "<ipython-input-10-d0c6393feba3>:3: FutureWarning: The default value of regex will change from True to False in a future version.\n",
      "  df_test['document'] = df_test['document'].str.replace('[^a-zA-zㄱ-하-ㅣ가-힣0-9 ]', ' ')\n"
     ]
    },
    {
     "data": {
      "text/html": [
       "<div>\n",
       "<style scoped>\n",
       "    .dataframe tbody tr th:only-of-type {\n",
       "        vertical-align: middle;\n",
       "    }\n",
       "\n",
       "    .dataframe tbody tr th {\n",
       "        vertical-align: top;\n",
       "    }\n",
       "\n",
       "    .dataframe thead th {\n",
       "        text-align: right;\n",
       "    }\n",
       "</style>\n",
       "<table border=\"1\" class=\"dataframe\">\n",
       "  <thead>\n",
       "    <tr style=\"text-align: right;\">\n",
       "      <th></th>\n",
       "      <th>id</th>\n",
       "      <th>document</th>\n",
       "    </tr>\n",
       "  </thead>\n",
       "  <tbody>\n",
       "    <tr>\n",
       "      <th>0</th>\n",
       "      <td>1</td>\n",
       "      <td>시간 때우기 좋은 영화 지루함</td>\n",
       "    </tr>\n",
       "    <tr>\n",
       "      <th>1</th>\n",
       "      <td>2</td>\n",
       "      <td>훈훈한 정이 느껴지는 영화  가족끼리 드라마 보듯이 보면 딱</td>\n",
       "    </tr>\n",
       "    <tr>\n",
       "      <th>2</th>\n",
       "      <td>3</td>\n",
       "      <td>Childhood fantasy</td>\n",
       "    </tr>\n",
       "    <tr>\n",
       "      <th>3</th>\n",
       "      <td>4</td>\n",
       "      <td>멋있는 영화입니다  잊을 수 없는</td>\n",
       "    </tr>\n",
       "    <tr>\n",
       "      <th>4</th>\n",
       "      <td>5</td>\n",
       "      <td>너무 감동적이네요 펑펑 울었습니다</td>\n",
       "    </tr>\n",
       "  </tbody>\n",
       "</table>\n",
       "</div>"
      ],
      "text/plain": [
       "   id                             document\n",
       "0   1                     시간 때우기 좋은 영화 지루함\n",
       "1   2  훈훈한 정이 느껴지는 영화  가족끼리 드라마 보듯이 보면 딱  \n",
       "2   3                    Childhood fantasy\n",
       "3   4                  멋있는 영화입니다  잊을 수 없는 \n",
       "4   5                   너무 감동적이네요 펑펑 울었습니다"
      ]
     },
     "execution_count": 10,
     "metadata": {},
     "output_type": "execute_result"
    }
   ],
   "source": [
    "# 한글과 숫자를 제외하고 전부 삭제\n",
    "df_test = test.copy()\n",
    "df_test['document'] = df_test['document'].str.replace('[^a-zA-zㄱ-하-ㅣ가-힣0-9 ]', ' ')\n",
    "df_test.head()"
   ]
  },
  {
   "cell_type": "code",
   "execution_count": 11,
   "metadata": {},
   "outputs": [],
   "source": [
    "# 한글 처리\n",
    "from konlpy.tag import Okt\n",
    "okt = Okt()"
   ]
  },
  {
   "cell_type": "code",
   "execution_count": 12,
   "metadata": {},
   "outputs": [],
   "source": [
    "word_dict = dict()\n",
    "for review in df_train.document:\n",
    "    word_list = okt.morphs(review)\n",
    "    for word in word_list:\n",
    "        if word not in word_dict:\n",
    "            word_dict[word] = 1\n",
    "        else:\n",
    "            word_dict[word] += 1"
   ]
  },
  {
   "cell_type": "code",
   "execution_count": 13,
   "metadata": {},
   "outputs": [
    {
     "name": "stdout",
     "output_type": "stream",
     "text": [
      "10554\n"
     ]
    }
   ],
   "source": [
    "# operator를 사용한 단어사전 정렬(빈도수 기준 내림차순 정렬)\n",
    "import operator\n",
    "\n",
    "# key=operator.itemgetter(0) - 키 값으로 정렬 / key=operator.itemgetter(1) value 값으로 정렬\n",
    "words = sorted(word_dict.items(), key=operator.itemgetter(1), reverse = True)\n",
    "print(len(words))\n",
    "# 각 단어별로 인덱스 번호 부여\n",
    "word_index = dict()\n",
    "word_index['NA'] = 0\n",
    "cnt = 1\n",
    "for word in words:\n",
    "    word = word[0]\n",
    "    word_index[word] = cnt\n",
    "    cnt += 1 "
   ]
  },
  {
   "cell_type": "code",
   "execution_count": 14,
   "metadata": {},
   "outputs": [
    {
     "data": {
      "text/html": [
       "<div>\n",
       "<style scoped>\n",
       "    .dataframe tbody tr th:only-of-type {\n",
       "        vertical-align: middle;\n",
       "    }\n",
       "\n",
       "    .dataframe tbody tr th {\n",
       "        vertical-align: top;\n",
       "    }\n",
       "\n",
       "    .dataframe thead th {\n",
       "        text-align: right;\n",
       "    }\n",
       "</style>\n",
       "<table border=\"1\" class=\"dataframe\">\n",
       "  <thead>\n",
       "    <tr style=\"text-align: right;\">\n",
       "      <th></th>\n",
       "      <th>document</th>\n",
       "      <th>label</th>\n",
       "      <th>token</th>\n",
       "    </tr>\n",
       "  </thead>\n",
       "  <tbody>\n",
       "    <tr>\n",
       "      <th>0</th>\n",
       "      <td>영상이나 음악이 이쁘다 해도 미화시킨 불륜일뿐</td>\n",
       "      <td>0</td>\n",
       "      <td>[영상, 이나, 음악, 이, 이쁘다, 해도, 미화, 시킨, 불륜, 일, 뿐]</td>\n",
       "    </tr>\n",
       "    <tr>\n",
       "      <th>1</th>\n",
       "      <td>히치콕이 이 영화를 봤다면 분명 박수를 쳤을듯</td>\n",
       "      <td>1</td>\n",
       "      <td>[히치콕, 이, 이, 영화, 를, 봤다면, 분명, 박수, 를, 쳤을듯]</td>\n",
       "    </tr>\n",
       "    <tr>\n",
       "      <th>2</th>\n",
       "      <td>괜찮은 음악영화가 또 나왔군요    따뜻한 겨울이 될 것 같아요</td>\n",
       "      <td>1</td>\n",
       "      <td>[괜찮은, 음악, 영화, 가, 또, 나왔군요, 따뜻한, 겨울, 이, 될, 것, 같아요]</td>\n",
       "    </tr>\n",
       "    <tr>\n",
       "      <th>3</th>\n",
       "      <td>아무래도 20년도지난작품이라 지금보기는너무유치하다</td>\n",
       "      <td>0</td>\n",
       "      <td>[아무래도, 20년, 도지난작품이라, 지금, 보기, 는, 너무, 유치하다]</td>\n",
       "    </tr>\n",
       "    <tr>\n",
       "      <th>4</th>\n",
       "      <td>지금까지의 영화들이 그랬듯  이 영화역시 일본에 대한 미화는 여전하다</td>\n",
       "      <td>0</td>\n",
       "      <td>[지금, 까지의, 영화, 들, 이, 그랬듯, 이, 영화, 역시, 일본, 에, 대한,...</td>\n",
       "    </tr>\n",
       "  </tbody>\n",
       "</table>\n",
       "</div>"
      ],
      "text/plain": [
       "                                  document  label  \\\n",
       "0                영상이나 음악이 이쁘다 해도 미화시킨 불륜일뿐      0   \n",
       "1             히치콕이 이 영화를 봤다면 분명 박수를 쳤을듯         1   \n",
       "2     괜찮은 음악영화가 또 나왔군요    따뜻한 겨울이 될 것 같아요       1   \n",
       "3              아무래도 20년도지난작품이라 지금보기는너무유치하다      0   \n",
       "4  지금까지의 영화들이 그랬듯  이 영화역시 일본에 대한 미화는 여전하다       0   \n",
       "\n",
       "                                               token  \n",
       "0         [영상, 이나, 음악, 이, 이쁘다, 해도, 미화, 시킨, 불륜, 일, 뿐]  \n",
       "1            [히치콕, 이, 이, 영화, 를, 봤다면, 분명, 박수, 를, 쳤을듯]  \n",
       "2   [괜찮은, 음악, 영화, 가, 또, 나왔군요, 따뜻한, 겨울, 이, 될, 것, 같아요]  \n",
       "3          [아무래도, 20년, 도지난작품이라, 지금, 보기, 는, 너무, 유치하다]  \n",
       "4  [지금, 까지의, 영화, 들, 이, 그랬듯, 이, 영화, 역시, 일본, 에, 대한,...  "
      ]
     },
     "execution_count": 14,
     "metadata": {},
     "output_type": "execute_result"
    }
   ],
   "source": [
    "df_train['token'] = df_train.document.apply(lambda x: okt.morphs(x))\n",
    "df_train.head()"
   ]
  },
  {
   "cell_type": "code",
   "execution_count": 15,
   "metadata": {},
   "outputs": [
    {
     "data": {
      "text/html": [
       "<div>\n",
       "<style scoped>\n",
       "    .dataframe tbody tr th:only-of-type {\n",
       "        vertical-align: middle;\n",
       "    }\n",
       "\n",
       "    .dataframe tbody tr th {\n",
       "        vertical-align: top;\n",
       "    }\n",
       "\n",
       "    .dataframe thead th {\n",
       "        text-align: right;\n",
       "    }\n",
       "</style>\n",
       "<table border=\"1\" class=\"dataframe\">\n",
       "  <thead>\n",
       "    <tr style=\"text-align: right;\">\n",
       "      <th></th>\n",
       "      <th>id</th>\n",
       "      <th>document</th>\n",
       "      <th>token</th>\n",
       "    </tr>\n",
       "  </thead>\n",
       "  <tbody>\n",
       "    <tr>\n",
       "      <th>0</th>\n",
       "      <td>1</td>\n",
       "      <td>시간 때우기 좋은 영화 지루함</td>\n",
       "      <td>[시간, 때우기, 좋은, 영화, 지루함]</td>\n",
       "    </tr>\n",
       "    <tr>\n",
       "      <th>1</th>\n",
       "      <td>2</td>\n",
       "      <td>훈훈한 정이 느껴지는 영화  가족끼리 드라마 보듯이 보면 딱</td>\n",
       "      <td>[훈훈한, 정이, 느껴지는, 영화, 가족, 끼리, 드라마, 보듯이, 보면, 딱]</td>\n",
       "    </tr>\n",
       "    <tr>\n",
       "      <th>2</th>\n",
       "      <td>3</td>\n",
       "      <td>Childhood fantasy</td>\n",
       "      <td>[Childhood, fantasy]</td>\n",
       "    </tr>\n",
       "    <tr>\n",
       "      <th>3</th>\n",
       "      <td>4</td>\n",
       "      <td>멋있는 영화입니다  잊을 수 없는</td>\n",
       "      <td>[멋있는, 영화, 입니다, 잊을, 수, 없는]</td>\n",
       "    </tr>\n",
       "    <tr>\n",
       "      <th>4</th>\n",
       "      <td>5</td>\n",
       "      <td>너무 감동적이네요 펑펑 울었습니다</td>\n",
       "      <td>[너무, 감동, 적이네요, 펑펑, 울었습니다]</td>\n",
       "    </tr>\n",
       "  </tbody>\n",
       "</table>\n",
       "</div>"
      ],
      "text/plain": [
       "   id                             document  \\\n",
       "0   1                     시간 때우기 좋은 영화 지루함   \n",
       "1   2  훈훈한 정이 느껴지는 영화  가족끼리 드라마 보듯이 보면 딱     \n",
       "2   3                    Childhood fantasy   \n",
       "3   4                  멋있는 영화입니다  잊을 수 없는    \n",
       "4   5                   너무 감동적이네요 펑펑 울었습니다   \n",
       "\n",
       "                                          token  \n",
       "0                        [시간, 때우기, 좋은, 영화, 지루함]  \n",
       "1  [훈훈한, 정이, 느껴지는, 영화, 가족, 끼리, 드라마, 보듯이, 보면, 딱]  \n",
       "2                          [Childhood, fantasy]  \n",
       "3                     [멋있는, 영화, 입니다, 잊을, 수, 없는]  \n",
       "4                     [너무, 감동, 적이네요, 펑펑, 울었습니다]  "
      ]
     },
     "execution_count": 15,
     "metadata": {},
     "output_type": "execute_result"
    }
   ],
   "source": [
    "df_test['token'] = df_test.document.apply(lambda x: okt.morphs(x))\n",
    "df_test.head()"
   ]
  },
  {
   "cell_type": "code",
   "execution_count": 16,
   "metadata": {},
   "outputs": [
    {
     "data": {
      "text/plain": [
       "23"
      ]
     },
     "execution_count": 16,
     "metadata": {},
     "output_type": "execute_result"
    }
   ],
   "source": [
    "max_length = 0\n",
    "for token_list in df_train.token:\n",
    "    sample = len(token_list)\n",
    "    if max_length < sample:\n",
    "        max_length = sample\n",
    "max_length"
   ]
  },
  {
   "cell_type": "code",
   "execution_count": 17,
   "metadata": {},
   "outputs": [
    {
     "data": {
      "text/html": [
       "<div>\n",
       "<style scoped>\n",
       "    .dataframe tbody tr th:only-of-type {\n",
       "        vertical-align: middle;\n",
       "    }\n",
       "\n",
       "    .dataframe tbody tr th {\n",
       "        vertical-align: top;\n",
       "    }\n",
       "\n",
       "    .dataframe thead th {\n",
       "        text-align: right;\n",
       "    }\n",
       "</style>\n",
       "<table border=\"1\" class=\"dataframe\">\n",
       "  <thead>\n",
       "    <tr style=\"text-align: right;\">\n",
       "      <th></th>\n",
       "      <th>document</th>\n",
       "      <th>label</th>\n",
       "      <th>token</th>\n",
       "      <th>vectorization</th>\n",
       "    </tr>\n",
       "  </thead>\n",
       "  <tbody>\n",
       "    <tr>\n",
       "      <th>0</th>\n",
       "      <td>영상이나 음악이 이쁘다 해도 미화시킨 불륜일뿐</td>\n",
       "      <td>0</td>\n",
       "      <td>[영상, 이나, 음악, 이, 이쁘다, 해도, 미화, 시킨, 불륜, 일, 뿐]</td>\n",
       "      <td>[256, 181, 171, 2, 1405, 373, 973, 1406, 974, ...</td>\n",
       "    </tr>\n",
       "    <tr>\n",
       "      <th>1</th>\n",
       "      <td>히치콕이 이 영화를 봤다면 분명 박수를 쳤을듯</td>\n",
       "      <td>1</td>\n",
       "      <td>[히치콕, 이, 이, 영화, 를, 봤다면, 분명, 박수, 를, 쳤을듯]</td>\n",
       "      <td>[2414, 2, 2, 1, 9, 1806, 766, 1151, 9, 3847, 0...</td>\n",
       "    </tr>\n",
       "    <tr>\n",
       "      <th>2</th>\n",
       "      <td>괜찮은 음악영화가 또 나왔군요    따뜻한 겨울이 될 것 같아요</td>\n",
       "      <td>1</td>\n",
       "      <td>[괜찮은, 음악, 영화, 가, 또, 나왔군요, 따뜻한, 겨울, 이, 될, 것, 같아요]</td>\n",
       "      <td>[416, 171, 1, 4, 120, 2415, 622, 1807, 2, 439,...</td>\n",
       "    </tr>\n",
       "    <tr>\n",
       "      <th>3</th>\n",
       "      <td>아무래도 20년도지난작품이라 지금보기는너무유치하다</td>\n",
       "      <td>0</td>\n",
       "      <td>[아무래도, 20년, 도지난작품이라, 지금, 보기, 는, 너무, 유치하다]</td>\n",
       "      <td>[3848, 854, 3849, 131, 186, 8, 10, 975, 0, 0, ...</td>\n",
       "    </tr>\n",
       "    <tr>\n",
       "      <th>4</th>\n",
       "      <td>지금까지의 영화들이 그랬듯  이 영화역시 일본에 대한 미화는 여전하다</td>\n",
       "      <td>0</td>\n",
       "      <td>[지금, 까지의, 영화, 들, 이, 그랬듯, 이, 영화, 역시, 일본, 에, 대한,...</td>\n",
       "      <td>[131, 2416, 1, 11, 2, 3850, 2, 1, 123, 279, 5,...</td>\n",
       "    </tr>\n",
       "  </tbody>\n",
       "</table>\n",
       "</div>"
      ],
      "text/plain": [
       "                                  document  label  \\\n",
       "0                영상이나 음악이 이쁘다 해도 미화시킨 불륜일뿐      0   \n",
       "1             히치콕이 이 영화를 봤다면 분명 박수를 쳤을듯         1   \n",
       "2     괜찮은 음악영화가 또 나왔군요    따뜻한 겨울이 될 것 같아요       1   \n",
       "3              아무래도 20년도지난작품이라 지금보기는너무유치하다      0   \n",
       "4  지금까지의 영화들이 그랬듯  이 영화역시 일본에 대한 미화는 여전하다       0   \n",
       "\n",
       "                                               token  \\\n",
       "0         [영상, 이나, 음악, 이, 이쁘다, 해도, 미화, 시킨, 불륜, 일, 뿐]   \n",
       "1            [히치콕, 이, 이, 영화, 를, 봤다면, 분명, 박수, 를, 쳤을듯]   \n",
       "2   [괜찮은, 음악, 영화, 가, 또, 나왔군요, 따뜻한, 겨울, 이, 될, 것, 같아요]   \n",
       "3          [아무래도, 20년, 도지난작품이라, 지금, 보기, 는, 너무, 유치하다]   \n",
       "4  [지금, 까지의, 영화, 들, 이, 그랬듯, 이, 영화, 역시, 일본, 에, 대한,...   \n",
       "\n",
       "                                       vectorization  \n",
       "0  [256, 181, 171, 2, 1405, 373, 973, 1406, 974, ...  \n",
       "1  [2414, 2, 2, 1, 9, 1806, 766, 1151, 9, 3847, 0...  \n",
       "2  [416, 171, 1, 4, 120, 2415, 622, 1807, 2, 439,...  \n",
       "3  [3848, 854, 3849, 131, 186, 8, 10, 975, 0, 0, ...  \n",
       "4  [131, 2416, 1, 11, 2, 3850, 2, 1, 123, 279, 5,...  "
      ]
     },
     "execution_count": 17,
     "metadata": {},
     "output_type": "execute_result"
    }
   ],
   "source": [
    "def tk_vect(token_list, max_length):\n",
    "    vector_list = []\n",
    "    for token in token_list:\n",
    "        if token in word_index:\n",
    "            vector_list.append(word_index[token])\n",
    "        else:\n",
    "            vector_list.append(word_index['NA'])\n",
    "    if len(vector_list) != max_length:\n",
    "        for _ in range(len(vector_list), max_length):\n",
    "            vector_list.append(word_index['NA'])\n",
    "    return vector_list\n",
    "\n",
    "df_train['vectorization'] = df_train['token'].apply(lambda x: tk_vect(x, max_length))\n",
    "df_train.head()"
   ]
  },
  {
   "cell_type": "code",
   "execution_count": 18,
   "metadata": {},
   "outputs": [
    {
     "data": {
      "text/html": [
       "<div>\n",
       "<style scoped>\n",
       "    .dataframe tbody tr th:only-of-type {\n",
       "        vertical-align: middle;\n",
       "    }\n",
       "\n",
       "    .dataframe tbody tr th {\n",
       "        vertical-align: top;\n",
       "    }\n",
       "\n",
       "    .dataframe thead th {\n",
       "        text-align: right;\n",
       "    }\n",
       "</style>\n",
       "<table border=\"1\" class=\"dataframe\">\n",
       "  <thead>\n",
       "    <tr style=\"text-align: right;\">\n",
       "      <th></th>\n",
       "      <th>id</th>\n",
       "      <th>document</th>\n",
       "      <th>token</th>\n",
       "      <th>vectorization</th>\n",
       "    </tr>\n",
       "  </thead>\n",
       "  <tbody>\n",
       "    <tr>\n",
       "      <th>0</th>\n",
       "      <td>1</td>\n",
       "      <td>시간 때우기 좋은 영화 지루함</td>\n",
       "      <td>[시간, 때우기, 좋은, 영화, 지루함]</td>\n",
       "      <td>[53, 3352, 92, 1, 314, 0, 0, 0, 0, 0, 0, 0, 0,...</td>\n",
       "    </tr>\n",
       "    <tr>\n",
       "      <th>1</th>\n",
       "      <td>2</td>\n",
       "      <td>훈훈한 정이 느껴지는 영화  가족끼리 드라마 보듯이 보면 딱</td>\n",
       "      <td>[훈훈한, 정이, 느껴지는, 영화, 가족, 끼리, 드라마, 보듯이, 보면, 딱]</td>\n",
       "      <td>[1790, 1333, 1707, 1, 460, 1954, 47, 0, 145, 3...</td>\n",
       "    </tr>\n",
       "    <tr>\n",
       "      <th>2</th>\n",
       "      <td>3</td>\n",
       "      <td>Childhood fantasy</td>\n",
       "      <td>[Childhood, fantasy]</td>\n",
       "      <td>[0, 0, 0, 0, 0, 0, 0, 0, 0, 0, 0, 0, 0, 0, 0, ...</td>\n",
       "    </tr>\n",
       "    <tr>\n",
       "      <th>3</th>\n",
       "      <td>4</td>\n",
       "      <td>멋있는 영화입니다  잊을 수 없는</td>\n",
       "      <td>[멋있는, 영화, 입니다, 잊을, 수, 없는]</td>\n",
       "      <td>[1752, 1, 90, 2403, 75, 63, 0, 0, 0, 0, 0, 0, ...</td>\n",
       "    </tr>\n",
       "    <tr>\n",
       "      <th>4</th>\n",
       "      <td>5</td>\n",
       "      <td>너무 감동적이네요 펑펑 울었습니다</td>\n",
       "      <td>[너무, 감동, 적이네요, 펑펑, 울었습니다]</td>\n",
       "      <td>[10, 29, 3409, 2479, 10192, 0, 0, 0, 0, 0, 0, ...</td>\n",
       "    </tr>\n",
       "  </tbody>\n",
       "</table>\n",
       "</div>"
      ],
      "text/plain": [
       "   id                             document  \\\n",
       "0   1                     시간 때우기 좋은 영화 지루함   \n",
       "1   2  훈훈한 정이 느껴지는 영화  가족끼리 드라마 보듯이 보면 딱     \n",
       "2   3                    Childhood fantasy   \n",
       "3   4                  멋있는 영화입니다  잊을 수 없는    \n",
       "4   5                   너무 감동적이네요 펑펑 울었습니다   \n",
       "\n",
       "                                          token  \\\n",
       "0                        [시간, 때우기, 좋은, 영화, 지루함]   \n",
       "1  [훈훈한, 정이, 느껴지는, 영화, 가족, 끼리, 드라마, 보듯이, 보면, 딱]   \n",
       "2                          [Childhood, fantasy]   \n",
       "3                     [멋있는, 영화, 입니다, 잊을, 수, 없는]   \n",
       "4                     [너무, 감동, 적이네요, 펑펑, 울었습니다]   \n",
       "\n",
       "                                       vectorization  \n",
       "0  [53, 3352, 92, 1, 314, 0, 0, 0, 0, 0, 0, 0, 0,...  \n",
       "1  [1790, 1333, 1707, 1, 460, 1954, 47, 0, 145, 3...  \n",
       "2  [0, 0, 0, 0, 0, 0, 0, 0, 0, 0, 0, 0, 0, 0, 0, ...  \n",
       "3  [1752, 1, 90, 2403, 75, 63, 0, 0, 0, 0, 0, 0, ...  \n",
       "4  [10, 29, 3409, 2479, 10192, 0, 0, 0, 0, 0, 0, ...  "
      ]
     },
     "execution_count": 18,
     "metadata": {},
     "output_type": "execute_result"
    }
   ],
   "source": [
    "df_test['vectorization'] = df_test['token'].apply(lambda x: tk_vect(x, max_length))\n",
    "df_test.head()"
   ]
  },
  {
   "cell_type": "code",
   "execution_count": 19,
   "metadata": {},
   "outputs": [
    {
     "data": {
      "text/plain": [
       "0.5354"
      ]
     },
     "execution_count": 19,
     "metadata": {},
     "output_type": "execute_result"
    }
   ],
   "source": [
    "from sklearn.linear_model import LogisticRegression #모델 불러오기\n",
    "from sklearn.metrics import accuracy_score \n",
    "\n",
    "lr = LogisticRegression(max_iter = 500) #객체에 모델 할당\n",
    "lr.fit(list(df_train.vectorization), list(df_train.label)) #모델 학습\n",
    "pred = lr.predict(list(df_train.vectorization))\n",
    "accuracy_score(df_train.label, pred)"
   ]
  },
  {
   "cell_type": "code",
   "execution_count": 20,
   "metadata": {},
   "outputs": [
    {
     "data": {
      "text/html": [
       "<div>\n",
       "<style scoped>\n",
       "    .dataframe tbody tr th:only-of-type {\n",
       "        vertical-align: middle;\n",
       "    }\n",
       "\n",
       "    .dataframe tbody tr th {\n",
       "        vertical-align: top;\n",
       "    }\n",
       "\n",
       "    .dataframe thead th {\n",
       "        text-align: right;\n",
       "    }\n",
       "</style>\n",
       "<table border=\"1\" class=\"dataframe\">\n",
       "  <thead>\n",
       "    <tr style=\"text-align: right;\">\n",
       "      <th></th>\n",
       "      <th>id</th>\n",
       "      <th>label</th>\n",
       "    </tr>\n",
       "  </thead>\n",
       "  <tbody>\n",
       "    <tr>\n",
       "      <th>0</th>\n",
       "      <td>1</td>\n",
       "      <td>1</td>\n",
       "    </tr>\n",
       "    <tr>\n",
       "      <th>1</th>\n",
       "      <td>2</td>\n",
       "      <td>1</td>\n",
       "    </tr>\n",
       "    <tr>\n",
       "      <th>2</th>\n",
       "      <td>3</td>\n",
       "      <td>0</td>\n",
       "    </tr>\n",
       "    <tr>\n",
       "      <th>3</th>\n",
       "      <td>4</td>\n",
       "      <td>1</td>\n",
       "    </tr>\n",
       "    <tr>\n",
       "      <th>4</th>\n",
       "      <td>5</td>\n",
       "      <td>0</td>\n",
       "    </tr>\n",
       "  </tbody>\n",
       "</table>\n",
       "</div>"
      ],
      "text/plain": [
       "   id  label\n",
       "0   1      1\n",
       "1   2      1\n",
       "2   3      0\n",
       "3   4      1\n",
       "4   5      0"
      ]
     },
     "execution_count": 20,
     "metadata": {},
     "output_type": "execute_result"
    }
   ],
   "source": [
    "# 정답파일 작성\n",
    "predict = pd.read_csv(PATH + '\\\\sample_submission.csv')\n",
    "len(predict), len(test)\n",
    "pred = lr.predict(list(df_test.vectorization))\n",
    "predict.label = pred\n",
    "predict.to_csv(PATH + '\\\\sample_submission(lr).csv', index = False)\n",
    "pd.read_csv(PATH + '\\\\sample_submission(lr).csv').head()"
   ]
  },
  {
   "cell_type": "code",
   "execution_count": 21,
   "metadata": {},
   "outputs": [],
   "source": [
    "deep_train = df_train[['vectorization', 'label']].copy()\n",
    "for i in range(max_length):\n",
    "    deep_train[f'{i}'] = deep_train.vectorization.apply(lambda x: x[i]) \n",
    "deep_train.drop(['vectorization'], axis = 1, inplace = True)"
   ]
  },
  {
   "cell_type": "code",
   "execution_count": 22,
   "metadata": {},
   "outputs": [],
   "source": [
    "from sklearn.model_selection import train_test_split\n",
    "X_train, X_test, y_train, y_test = train_test_split(deep_train.drop(['label'], axis = 1), deep_train[['label']], \\\n",
    "                                                    test_size = 0.2, stratify =deep_train[['label']], random_state = 7)"
   ]
  },
  {
   "cell_type": "code",
   "execution_count": 23,
   "metadata": {},
   "outputs": [
    {
     "name": "stdout",
     "output_type": "stream",
     "text": [
      "(4000, 23) (4000, 23) (1000, 23) (1000, 23)\n"
     ]
    }
   ],
   "source": [
    "# 학습데이터로 사용하기 위해 pandas파일을 numpy파일로 변환\n",
    "print(X_train.shape, X_train.to_numpy().shape, X_test.shape, X_test.to_numpy().shape)\n",
    "X_train = X_train.to_numpy()\n",
    "X_test = X_test.to_numpy()\n",
    "y_train = y_train.label.to_numpy()\n",
    "y_test = y_test.label.to_numpy()"
   ]
  },
  {
   "cell_type": "code",
   "execution_count": 24,
   "metadata": {},
   "outputs": [
    {
     "name": "stdout",
     "output_type": "stream",
     "text": [
      "(4000, 23)\n"
     ]
    }
   ],
   "source": [
    "# 신경망 분류모델 작성\n",
    "import tensorflow as tf\n",
    "from tensorflow.keras.models import Sequential\n",
    "from tensorflow.keras.layers import Dense, Embedding, Flatten\n",
    "from tensorflow.keras.utils import to_categorical\n",
    "\n",
    "# quality가 범주형이므로 범주형으로 변환\n",
    "y_train = to_categorical(y_train)\n",
    "y_test = to_categorical(y_test)\n",
    "\n",
    "print(X_train.shape) "
   ]
  },
  {
   "cell_type": "code",
   "execution_count": 27,
   "metadata": {},
   "outputs": [
    {
     "name": "stdout",
     "output_type": "stream",
     "text": [
      "Model: \"sequential_2\"\n",
      "_________________________________________________________________\n",
      "Layer (type)                 Output Shape              Param #   \n",
      "=================================================================\n",
      "embedding_2 (Embedding)      (None, 23, 1)             10555     \n",
      "_________________________________________________________________\n",
      "flatten_2 (Flatten)          (None, 23)                0         \n",
      "_________________________________________________________________\n",
      "dense_2 (Dense)              (None, 2)                 48        \n",
      "=================================================================\n",
      "Total params: 10,603\n",
      "Trainable params: 10,603\n",
      "Non-trainable params: 0\n",
      "_________________________________________________________________\n",
      "Epoch 1/100\n",
      "63/63 [==============================] - 0s 7ms/step - loss: 0.6926 - acc: 0.5232 - val_loss: 0.6916 - val_acc: 0.5660\n",
      "Epoch 2/100\n",
      "63/63 [==============================] - 0s 1ms/step - loss: 0.6874 - acc: 0.6470 - val_loss: 0.6877 - val_acc: 0.6110\n",
      "Epoch 3/100\n",
      "63/63 [==============================] - 0s 982us/step - loss: 0.6780 - acc: 0.7385 - val_loss: 0.6800 - val_acc: 0.6710\n",
      "Epoch 4/100\n",
      "63/63 [==============================] - 0s 1ms/step - loss: 0.6621 - acc: 0.8067 - val_loss: 0.6668 - val_acc: 0.7150\n",
      "Epoch 5/100\n",
      "63/63 [==============================] - 0s 1ms/step - loss: 0.6389 - acc: 0.8480 - val_loss: 0.6485 - val_acc: 0.7480\n",
      "Epoch 6/100\n",
      "63/63 [==============================] - 0s 1ms/step - loss: 0.6086 - acc: 0.8777 - val_loss: 0.6256 - val_acc: 0.7660\n",
      "Epoch 7/100\n",
      "63/63 [==============================] - 0s 1ms/step - loss: 0.5731 - acc: 0.8928 - val_loss: 0.5999 - val_acc: 0.7760\n",
      "Epoch 8/100\n",
      "63/63 [==============================] - 0s 1ms/step - loss: 0.5347 - acc: 0.9003 - val_loss: 0.5732 - val_acc: 0.7950\n",
      "Epoch 9/100\n",
      "63/63 [==============================] - 0s 1ms/step - loss: 0.4955 - acc: 0.9087 - val_loss: 0.5471 - val_acc: 0.8070\n",
      "Epoch 10/100\n",
      "63/63 [==============================] - 0s 1ms/step - loss: 0.4575 - acc: 0.9178 - val_loss: 0.5227 - val_acc: 0.8150\n",
      "Epoch 11/100\n",
      "63/63 [==============================] - 0s 1ms/step - loss: 0.4215 - acc: 0.9255 - val_loss: 0.5006 - val_acc: 0.8190\n",
      "Epoch 12/100\n",
      "63/63 [==============================] - 0s 1ms/step - loss: 0.3882 - acc: 0.9335 - val_loss: 0.4807 - val_acc: 0.8250\n",
      "Epoch 13/100\n",
      "63/63 [==============================] - 0s 1ms/step - loss: 0.3580 - acc: 0.9402 - val_loss: 0.4627 - val_acc: 0.8190\n",
      "Epoch 14/100\n",
      "63/63 [==============================] - 0s 1ms/step - loss: 0.3301 - acc: 0.9460 - val_loss: 0.4470 - val_acc: 0.8210\n",
      "Epoch 15/100\n",
      "63/63 [==============================] - 0s 1ms/step - loss: 0.3051 - acc: 0.9490 - val_loss: 0.4333 - val_acc: 0.8260\n",
      "Epoch 16/100\n",
      "63/63 [==============================] - 0s 1ms/step - loss: 0.2824 - acc: 0.9548 - val_loss: 0.4211 - val_acc: 0.8290\n",
      "Epoch 17/100\n",
      "63/63 [==============================] - 0s 1ms/step - loss: 0.2619 - acc: 0.9590 - val_loss: 0.4107 - val_acc: 0.8340\n",
      "Epoch 18/100\n",
      "63/63 [==============================] - 0s 1ms/step - loss: 0.2434 - acc: 0.9610 - val_loss: 0.4013 - val_acc: 0.8330\n",
      "Epoch 19/100\n",
      "63/63 [==============================] - 0s 1ms/step - loss: 0.2265 - acc: 0.9660 - val_loss: 0.3932 - val_acc: 0.8350\n",
      "Epoch 20/100\n",
      "63/63 [==============================] - 0s 1ms/step - loss: 0.2111 - acc: 0.9700 - val_loss: 0.3860 - val_acc: 0.8370\n",
      "Epoch 21/100\n",
      "63/63 [==============================] - 0s 1ms/step - loss: 0.1972 - acc: 0.9722 - val_loss: 0.3798 - val_acc: 0.8420\n",
      "Epoch 22/100\n",
      "63/63 [==============================] - 0s 1ms/step - loss: 0.1842 - acc: 0.9755 - val_loss: 0.3738 - val_acc: 0.8380\n",
      "Epoch 23/100\n",
      "63/63 [==============================] - 0s 1ms/step - loss: 0.1724 - acc: 0.9778 - val_loss: 0.3688 - val_acc: 0.8410\n",
      "Epoch 24/100\n",
      "63/63 [==============================] - 0s 1ms/step - loss: 0.1616 - acc: 0.9810 - val_loss: 0.3645 - val_acc: 0.8440\n",
      "Epoch 25/100\n",
      "63/63 [==============================] - 0s 1ms/step - loss: 0.1516 - acc: 0.9827 - val_loss: 0.3610 - val_acc: 0.8420\n",
      "Epoch 26/100\n",
      "63/63 [==============================] - 0s 1ms/step - loss: 0.1425 - acc: 0.9845 - val_loss: 0.3574 - val_acc: 0.8440\n",
      "Epoch 27/100\n",
      "63/63 [==============================] - 0s 1ms/step - loss: 0.1339 - acc: 0.9858 - val_loss: 0.3546 - val_acc: 0.8430\n",
      "Epoch 28/100\n",
      "63/63 [==============================] - 0s 1ms/step - loss: 0.1259 - acc: 0.9872 - val_loss: 0.3520 - val_acc: 0.8380\n",
      "Epoch 29/100\n",
      "63/63 [==============================] - 0s 1ms/step - loss: 0.1186 - acc: 0.9887 - val_loss: 0.3496 - val_acc: 0.8390\n",
      "Epoch 30/100\n",
      "63/63 [==============================] - 0s 1ms/step - loss: 0.1119 - acc: 0.9893 - val_loss: 0.3478 - val_acc: 0.8360\n",
      "Epoch 31/100\n",
      "63/63 [==============================] - 0s 1ms/step - loss: 0.1056 - acc: 0.9902 - val_loss: 0.3464 - val_acc: 0.8370\n",
      "Epoch 32/100\n",
      "63/63 [==============================] - 0s 1ms/step - loss: 0.0997 - acc: 0.9910 - val_loss: 0.3448 - val_acc: 0.8390\n",
      "Epoch 33/100\n",
      "63/63 [==============================] - 0s 1ms/step - loss: 0.0943 - acc: 0.9912 - val_loss: 0.3434 - val_acc: 0.8380\n",
      "Epoch 34/100\n",
      "63/63 [==============================] - 0s 1ms/step - loss: 0.0891 - acc: 0.9923 - val_loss: 0.3424 - val_acc: 0.8390\n",
      "Epoch 35/100\n",
      "63/63 [==============================] - 0s 1ms/step - loss: 0.0843 - acc: 0.9925 - val_loss: 0.3417 - val_acc: 0.8400\n",
      "Epoch 36/100\n",
      "63/63 [==============================] - 0s 1ms/step - loss: 0.0798 - acc: 0.9937 - val_loss: 0.3410 - val_acc: 0.8370\n",
      "Epoch 37/100\n",
      "63/63 [==============================] - 0s 1ms/step - loss: 0.0756 - acc: 0.9940 - val_loss: 0.3406 - val_acc: 0.8370\n",
      "Epoch 38/100\n",
      "63/63 [==============================] - 0s 2ms/step - loss: 0.0717 - acc: 0.9945 - val_loss: 0.3400 - val_acc: 0.8360\n",
      "Epoch 39/100\n",
      "63/63 [==============================] - 0s 1ms/step - loss: 0.0680 - acc: 0.9950 - val_loss: 0.3398 - val_acc: 0.8370\n",
      "Epoch 40/100\n",
      "63/63 [==============================] - 0s 1ms/step - loss: 0.0646 - acc: 0.9962 - val_loss: 0.3397 - val_acc: 0.8390\n",
      "Epoch 41/100\n",
      "63/63 [==============================] - 0s 1ms/step - loss: 0.0613 - acc: 0.9962 - val_loss: 0.3399 - val_acc: 0.8370\n",
      "Epoch 42/100\n",
      "63/63 [==============================] - 0s 1ms/step - loss: 0.0582 - acc: 0.9973 - val_loss: 0.3400 - val_acc: 0.8390\n",
      "Epoch 43/100\n",
      "63/63 [==============================] - 0s 1ms/step - loss: 0.0555 - acc: 0.9975 - val_loss: 0.3402 - val_acc: 0.8390\n",
      "Epoch 44/100\n",
      "63/63 [==============================] - 0s 1ms/step - loss: 0.0526 - acc: 0.9975 - val_loss: 0.3403 - val_acc: 0.8380\n",
      "Epoch 45/100\n",
      "63/63 [==============================] - 0s 1ms/step - loss: 0.0500 - acc: 0.9975 - val_loss: 0.3407 - val_acc: 0.8390\n",
      "Epoch 46/100\n",
      "63/63 [==============================] - 0s 1ms/step - loss: 0.0476 - acc: 0.9975 - val_loss: 0.3412 - val_acc: 0.8370\n",
      "Epoch 47/100\n",
      "63/63 [==============================] - 0s 1ms/step - loss: 0.0453 - acc: 0.9975 - val_loss: 0.3417 - val_acc: 0.8360\n",
      "Epoch 48/100\n",
      "63/63 [==============================] - 0s 2ms/step - loss: 0.0432 - acc: 0.9977 - val_loss: 0.3422 - val_acc: 0.8360\n",
      "Epoch 49/100\n",
      "63/63 [==============================] - 0s 2ms/step - loss: 0.0413 - acc: 0.9977 - val_loss: 0.3429 - val_acc: 0.8340\n",
      "Epoch 50/100\n",
      "63/63 [==============================] - 0s 2ms/step - loss: 0.0392 - acc: 0.9977 - val_loss: 0.3436 - val_acc: 0.8350\n",
      "Epoch 51/100\n",
      "63/63 [==============================] - 0s 1ms/step - loss: 0.0374 - acc: 0.9980 - val_loss: 0.3444 - val_acc: 0.8330\n",
      "Epoch 52/100\n",
      "63/63 [==============================] - 0s 1ms/step - loss: 0.0357 - acc: 0.9983 - val_loss: 0.3451 - val_acc: 0.8310\n",
      "Epoch 53/100\n",
      "63/63 [==============================] - 0s 1ms/step - loss: 0.0340 - acc: 0.9983 - val_loss: 0.3462 - val_acc: 0.8320\n",
      "Epoch 54/100\n",
      "63/63 [==============================] - 0s 1ms/step - loss: 0.0325 - acc: 0.9983 - val_loss: 0.3472 - val_acc: 0.8310\n",
      "Epoch 55/100\n",
      "63/63 [==============================] - 0s 1ms/step - loss: 0.0310 - acc: 0.9983 - val_loss: 0.3481 - val_acc: 0.8300\n",
      "Epoch 56/100\n",
      "63/63 [==============================] - 0s 2ms/step - loss: 0.0296 - acc: 0.9983 - val_loss: 0.3491 - val_acc: 0.8330\n",
      "Epoch 57/100\n",
      "63/63 [==============================] - 0s 2ms/step - loss: 0.0283 - acc: 0.9985 - val_loss: 0.3501 - val_acc: 0.8310\n",
      "Epoch 58/100\n",
      "63/63 [==============================] - 0s 2ms/step - loss: 0.0270 - acc: 0.9990 - val_loss: 0.3514 - val_acc: 0.8290\n",
      "Epoch 59/100\n",
      "63/63 [==============================] - 0s 2ms/step - loss: 0.0259 - acc: 0.9990 - val_loss: 0.3525 - val_acc: 0.8300\n",
      "Epoch 60/100\n",
      "63/63 [==============================] - 0s 2ms/step - loss: 0.0247 - acc: 0.9992 - val_loss: 0.3537 - val_acc: 0.8300\n",
      "Epoch 61/100\n",
      "63/63 [==============================] - 0s 2ms/step - loss: 0.0237 - acc: 0.9992 - val_loss: 0.3549 - val_acc: 0.8300\n",
      "Epoch 62/100\n",
      "63/63 [==============================] - 0s 2ms/step - loss: 0.0226 - acc: 0.9995 - val_loss: 0.3562 - val_acc: 0.8310\n",
      "Epoch 63/100\n",
      "63/63 [==============================] - 0s 2ms/step - loss: 0.0216 - acc: 0.9995 - val_loss: 0.3572 - val_acc: 0.8290\n",
      "Epoch 64/100\n",
      "63/63 [==============================] - 0s 1ms/step - loss: 0.0207 - acc: 0.9995 - val_loss: 0.3588 - val_acc: 0.8290\n",
      "Epoch 65/100\n",
      "63/63 [==============================] - 0s 981us/step - loss: 0.0198 - acc: 0.9995 - val_loss: 0.3601 - val_acc: 0.8310\n",
      "Epoch 66/100\n",
      "63/63 [==============================] - 0s 966us/step - loss: 0.0190 - acc: 0.9995 - val_loss: 0.3613 - val_acc: 0.8280\n",
      "Epoch 67/100\n",
      "63/63 [==============================] - 0s 981us/step - loss: 0.0182 - acc: 0.9995 - val_loss: 0.3627 - val_acc: 0.8300\n",
      "Epoch 68/100\n",
      "63/63 [==============================] - 0s 1ms/step - loss: 0.0175 - acc: 0.9995 - val_loss: 0.3643 - val_acc: 0.8310\n",
      "Epoch 69/100\n",
      "63/63 [==============================] - 0s 1ms/step - loss: 0.0168 - acc: 0.9995 - val_loss: 0.3657 - val_acc: 0.8320\n",
      "Epoch 70/100\n",
      "63/63 [==============================] - 0s 1ms/step - loss: 0.0160 - acc: 0.9998 - val_loss: 0.3668 - val_acc: 0.8310\n",
      "Epoch 71/100\n",
      "63/63 [==============================] - 0s 1ms/step - loss: 0.0154 - acc: 0.9998 - val_loss: 0.3686 - val_acc: 0.8320\n",
      "Epoch 72/100\n",
      "63/63 [==============================] - 0s 1ms/step - loss: 0.0148 - acc: 0.9998 - val_loss: 0.3703 - val_acc: 0.8320\n",
      "Epoch 73/100\n",
      "63/63 [==============================] - 0s 1ms/step - loss: 0.0142 - acc: 0.9998 - val_loss: 0.3716 - val_acc: 0.8320\n",
      "Epoch 74/100\n",
      "63/63 [==============================] - 0s 1ms/step - loss: 0.0136 - acc: 0.9998 - val_loss: 0.3730 - val_acc: 0.8310\n",
      "Epoch 75/100\n",
      "63/63 [==============================] - 0s 1ms/step - loss: 0.0130 - acc: 0.9998 - val_loss: 0.3746 - val_acc: 0.8310\n",
      "Epoch 76/100\n",
      "63/63 [==============================] - 0s 1ms/step - loss: 0.0125 - acc: 0.9998 - val_loss: 0.3765 - val_acc: 0.8320\n",
      "Epoch 77/100\n",
      "63/63 [==============================] - 0s 1ms/step - loss: 0.0120 - acc: 0.9998 - val_loss: 0.3777 - val_acc: 0.8310\n",
      "Epoch 78/100\n",
      "63/63 [==============================] - 0s 1ms/step - loss: 0.0116 - acc: 1.0000 - val_loss: 0.3793 - val_acc: 0.8320\n",
      "Epoch 79/100\n",
      "63/63 [==============================] - 0s 1ms/step - loss: 0.0111 - acc: 1.0000 - val_loss: 0.3810 - val_acc: 0.8320\n",
      "Epoch 80/100\n",
      "63/63 [==============================] - 0s 1ms/step - loss: 0.0106 - acc: 1.0000 - val_loss: 0.3827 - val_acc: 0.8310\n",
      "Epoch 81/100\n",
      "63/63 [==============================] - 0s 1ms/step - loss: 0.0102 - acc: 1.0000 - val_loss: 0.3843 - val_acc: 0.8320\n",
      "Epoch 82/100\n",
      "63/63 [==============================] - 0s 1ms/step - loss: 0.0098 - acc: 1.0000 - val_loss: 0.3862 - val_acc: 0.8310\n",
      "Epoch 83/100\n",
      "63/63 [==============================] - 0s 1ms/step - loss: 0.0095 - acc: 1.0000 - val_loss: 0.3879 - val_acc: 0.8310\n",
      "Epoch 84/100\n",
      "63/63 [==============================] - 0s 1ms/step - loss: 0.0091 - acc: 1.0000 - val_loss: 0.3897 - val_acc: 0.8310\n",
      "Epoch 85/100\n",
      "63/63 [==============================] - 0s 1ms/step - loss: 0.0087 - acc: 1.0000 - val_loss: 0.3915 - val_acc: 0.8290\n",
      "Epoch 86/100\n",
      "63/63 [==============================] - 0s 997us/step - loss: 0.0084 - acc: 1.0000 - val_loss: 0.3934 - val_acc: 0.8300\n",
      "Epoch 87/100\n",
      "63/63 [==============================] - 0s 1ms/step - loss: 0.0081 - acc: 1.0000 - val_loss: 0.3950 - val_acc: 0.8290\n",
      "Epoch 88/100\n",
      "63/63 [==============================] - 0s 1ms/step - loss: 0.0077 - acc: 1.0000 - val_loss: 0.3969 - val_acc: 0.8300\n",
      "Epoch 89/100\n",
      "63/63 [==============================] - 0s 1ms/step - loss: 0.0075 - acc: 1.0000 - val_loss: 0.3987 - val_acc: 0.8300\n",
      "Epoch 90/100\n",
      "63/63 [==============================] - 0s 1ms/step - loss: 0.0072 - acc: 1.0000 - val_loss: 0.4006 - val_acc: 0.8320\n",
      "Epoch 91/100\n",
      "63/63 [==============================] - 0s 1ms/step - loss: 0.0069 - acc: 1.0000 - val_loss: 0.4023 - val_acc: 0.8290\n",
      "Epoch 92/100\n",
      "63/63 [==============================] - 0s 1ms/step - loss: 0.0066 - acc: 1.0000 - val_loss: 0.4042 - val_acc: 0.8320\n",
      "Epoch 93/100\n",
      "63/63 [==============================] - 0s 1ms/step - loss: 0.0064 - acc: 1.0000 - val_loss: 0.4061 - val_acc: 0.8300\n",
      "Epoch 94/100\n",
      "63/63 [==============================] - 0s 1ms/step - loss: 0.0062 - acc: 1.0000 - val_loss: 0.4079 - val_acc: 0.8300\n",
      "Epoch 95/100\n",
      "63/63 [==============================] - 0s 1ms/step - loss: 0.0059 - acc: 1.0000 - val_loss: 0.4100 - val_acc: 0.8320\n",
      "Epoch 96/100\n",
      "63/63 [==============================] - 0s 1ms/step - loss: 0.0057 - acc: 1.0000 - val_loss: 0.4117 - val_acc: 0.8320\n",
      "Epoch 97/100\n",
      "63/63 [==============================] - 0s 1ms/step - loss: 0.0055 - acc: 1.0000 - val_loss: 0.4138 - val_acc: 0.8320\n",
      "Epoch 98/100\n",
      "63/63 [==============================] - 0s 1ms/step - loss: 0.0053 - acc: 1.0000 - val_loss: 0.4160 - val_acc: 0.8320\n",
      "Epoch 99/100\n",
      "63/63 [==============================] - 0s 1ms/step - loss: 0.0051 - acc: 1.0000 - val_loss: 0.4177 - val_acc: 0.8320\n",
      "Epoch 100/100\n",
      "63/63 [==============================] - 0s 1ms/step - loss: 0.0049 - acc: 1.0000 - val_loss: 0.4201 - val_acc: 0.8320\n"
     ]
    }
   ],
   "source": [
    "model = Sequential()\n",
    "model.add(Embedding(input_dim = len(word_index), output_dim = 32, input_length = 23))\n",
    "model.add(Flatten())\n",
    "model.add(Dense(2, activation = 'sigmoid'))\n",
    "model.compile(optimizer = 'adam', loss = 'binary_crossentropy', metrics = ['acc'])\n",
    "model.summary()\n",
    "history = model.fit(X_train, y_train, batch_size = 64, epochs = 100, validation_data = (X_test, y_test))"
   ]
  },
  {
   "cell_type": "code",
   "execution_count": 143,
   "metadata": {},
   "outputs": [
    {
     "data": {
      "text/plain": [
       "dict_keys(['loss', 'acc', 'val_loss', 'val_acc'])"
      ]
     },
     "execution_count": 143,
     "metadata": {},
     "output_type": "execute_result"
    }
   ],
   "source": [
    "history_dict = history.history\n",
    "history_dict.keys()"
   ]
  },
  {
   "cell_type": "code",
   "execution_count": 28,
   "metadata": {},
   "outputs": [
    {
     "data": {
      "image/png": "[encoded data removed]",
      "text/plain": [
       "<Figure size 1440x576 with 1 Axes>"
      ]
     },
     "metadata": {
      "needs_background": "light"
     },
     "output_type": "display_data"
    }
   ],
   "source": [
    "import matplotlib.pyplot as plt\n",
    "history_dict = history.history\n",
    "loss = history_dict['loss']\n",
    "val_loss = history_dict['val_loss']\n",
    "epochs = range(1, len(loss)+1)\n",
    "plt.figure(figsize = (20, 8))\n",
    "plt.plot(epochs, loss, 'r', label = 'Training loss')\n",
    "plt.plot(epochs, val_loss, 'b', label = 'Validation loss')\n",
    "plt.title('Training and validation loss')\n",
    "plt.xlabel('Epochs')\n",
    "plt.ylabel('loss')\n",
    "plt.legend()\n",
    "plt.show()"
   ]
  },
  {
   "cell_type": "code",
   "execution_count": 29,
   "metadata": {},
   "outputs": [
    {
     "data": {
      "text/plain": [
       "<Figure size 432x288 with 0 Axes>"
      ]
     },
     "metadata": {},
     "output_type": "display_data"
    },
    {
     "data": {
      "image/png": "[encoded data removed]",
      "text/plain": [
       "<Figure size 1440x576 with 1 Axes>"
      ]
     },
     "metadata": {
      "needs_background": "light"
     },
     "output_type": "display_data"
    }
   ],
   "source": [
    "plt.clf()\n",
    "acc = history_dict['acc']\n",
    "val_acc = history_dict['val_acc']\n",
    "\n",
    "plt.figure(figsize = (20, 8))\n",
    "plt.plot(epochs, acc, 'r', label = 'Training acc')\n",
    "plt.plot(epochs, val_acc, 'b', label = 'Validation acc')\n",
    "plt.title('Training and validation accuracy')\n",
    "plt.xlabel('Epochs')\n",
    "plt.ylabel('Accuracy')\n",
    "plt.legend()\n",
    "plt.show()"
   ]
  },
  {
   "cell_type": "code",
   "execution_count": 146,
   "metadata": {},
   "outputs": [
    {
     "name": "stdout",
     "output_type": "stream",
     "text": [
      "32/32 [==============================] - 0s 654us/step - loss: 0.3959 - acc: 0.8230\n"
     ]
    },
    {
     "data": {
      "text/plain": [
       "[0.3958640992641449, 0.8230000138282776]"
      ]
     },
     "execution_count": 146,
     "metadata": {},
     "output_type": "execute_result"
    }
   ],
   "source": [
    "model.evaluate(X_test, y_test)"
   ]
  },
  {
   "cell_type": "code",
   "execution_count": 152,
   "metadata": {},
   "outputs": [
    {
     "data": {
      "text/plain": [
       "array([[  53, 3352,   92, ...,    0,    0,    0],\n",
       "       [1790, 1333, 1707, ...,    0,    0,    0],\n",
       "       [   0,    0,    0, ...,    0,    0,    0],\n",
       "       ...,\n",
       "       [ 131,   66,  606, ...,    0,    0,    0],\n",
       "       [   1, 1429,   28, ...,    0,    0,    0],\n",
       "       [ 843,  157, 6938, ...,    0,    0,    0]], dtype=int64)"
      ]
     },
     "execution_count": 152,
     "metadata": {},
     "output_type": "execute_result"
    }
   ],
   "source": [
    "deep_test = df_test[['vectorization']].copy()\n",
    "for i in range(max_length):\n",
    "    deep_test[f'{i}'] = deep_test.vectorization.apply(lambda x: x[i]) \n",
    "deep_test.drop(['vectorization'], axis = 1, inplace = True)\n",
    "deep_test.to_numpy()"
   ]
  },
  {
   "cell_type": "code",
   "execution_count": 154,
   "metadata": {},
   "outputs": [
    {
     "name": "stdout",
     "output_type": "stream",
     "text": [
      "[[  53 3352   92 ...    0    0    0]\n",
      " [1790 1333 1707 ...    0    0    0]\n",
      " [   0    0    0 ...    0    0    0]\n",
      " ...\n",
      " [ 131   66  606 ...    0    0    0]\n",
      " [   1 1429   28 ...    0    0    0]\n",
      " [ 843  157 6938 ...    0    0    0]]\n",
      "(5000, 2)\n"
     ]
    }
   ],
   "source": [
    "# 학습한 모델로 예측하기\n",
    "print(deep_test.to_numpy())\n",
    "result = model.predict(deep_test.to_numpy())\n",
    "print(result.shape)\n",
    "arg_result = np.argmax(result, axis = -1)"
   ]
  },
  {
   "cell_type": "code",
   "execution_count": 157,
   "metadata": {},
   "outputs": [
    {
     "data": {
      "text/html": [
       "<div>\n",
       "<style scoped>\n",
       "    .dataframe tbody tr th:only-of-type {\n",
       "        vertical-align: middle;\n",
       "    }\n",
       "\n",
       "    .dataframe tbody tr th {\n",
       "        vertical-align: top;\n",
       "    }\n",
       "\n",
       "    .dataframe thead th {\n",
       "        text-align: right;\n",
       "    }\n",
       "</style>\n",
       "<table border=\"1\" class=\"dataframe\">\n",
       "  <thead>\n",
       "    <tr style=\"text-align: right;\">\n",
       "      <th></th>\n",
       "      <th>id</th>\n",
       "      <th>label</th>\n",
       "    </tr>\n",
       "  </thead>\n",
       "  <tbody>\n",
       "    <tr>\n",
       "      <th>0</th>\n",
       "      <td>1</td>\n",
       "      <td>0</td>\n",
       "    </tr>\n",
       "    <tr>\n",
       "      <th>1</th>\n",
       "      <td>2</td>\n",
       "      <td>1</td>\n",
       "    </tr>\n",
       "    <tr>\n",
       "      <th>2</th>\n",
       "      <td>3</td>\n",
       "      <td>1</td>\n",
       "    </tr>\n",
       "    <tr>\n",
       "      <th>3</th>\n",
       "      <td>4</td>\n",
       "      <td>1</td>\n",
       "    </tr>\n",
       "    <tr>\n",
       "      <th>4</th>\n",
       "      <td>5</td>\n",
       "      <td>1</td>\n",
       "    </tr>\n",
       "  </tbody>\n",
       "</table>\n",
       "</div>"
      ],
      "text/plain": [
       "   id  label\n",
       "0   1      0\n",
       "1   2      1\n",
       "2   3      1\n",
       "3   4      1\n",
       "4   5      1"
      ]
     },
     "execution_count": 157,
     "metadata": {},
     "output_type": "execute_result"
    }
   ],
   "source": [
    "# 정답파일 작성\n",
    "predict = pd.read_csv(PATH + '\\\\sample_submission.csv')\n",
    "predict.label = arg_result\n",
    "predict.to_csv(PATH + '\\\\sample_submission(Tensor_Basic).csv', index = False)\n",
    "pd.read_csv(PATH + '\\\\sample_submission(Tensor_Basic).csv').head()"
   ]
  }
 ],
 "metadata": {
  "interpreter": {
   "hash": "fe3bab233825460445dbfeea6dcd52ef5815a3fa13c858fea07ac830aa383284"
  },
  "kernelspec": {
   "display_name": "Python 3.8.10 64-bit ('base': conda)",
   "language": "python",
   "name": "python3"
  },
  "language_info": {
   "codemirror_mode": {
    "name": "ipython",
    "version": 3
   },
   "file_extension": ".py",
   "mimetype": "text/x-python",
   "name": "python",
   "nbconvert_exporter": "python",
   "pygments_lexer": "ipython3",
   "version": "3.8.10"
  },
  "orig_nbformat": 4
 },
 "nbformat": 4,
 "nbformat_minor": 2
}
