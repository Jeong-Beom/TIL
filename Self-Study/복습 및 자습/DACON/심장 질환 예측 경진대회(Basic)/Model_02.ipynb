{
 "cells": [
  {
   "cell_type": "code",
   "execution_count": 41,
   "metadata": {},
   "outputs": [],
   "source": [
    "# 사용할 기본 패키지 로드\n",
    "import pandas as pd\n",
    "import matplotlib.pyplot as plt\n",
    "import seaborn as sns\n",
    "from matplotlib import patches\n",
    "%matplotlib inline\n",
    "import os\n",
    "import numpy as np"
   ]
  },
  {
   "cell_type": "code",
   "execution_count": 42,
   "metadata": {},
   "outputs": [
    {
     "data": {
      "text/plain": [
       "['sample_submission(DT).csv',\n",
       " 'sample_submission(KNN).csv',\n",
       " 'sample_submission(LR).csv',\n",
       " 'sample_submission(LR_6Factor).csv',\n",
       " 'sample_submission(LR_CH).csv',\n",
       " 'sample_submission(LR_CH1).csv',\n",
       " 'sample_submission(LR_CH2).csv',\n",
       " 'sample_submission(LR_CH3).csv',\n",
       " 'sample_submission(LR_CH4).csv',\n",
       " 'sample_submission(LR_PCA7).csv',\n",
       " 'sample_submission(LR_slope&ageET).csv',\n",
       " 'sample_submission(LR_slopeET).csv',\n",
       " 'sample_submission(NB).csv',\n",
       " 'sample_submission(NT).csv',\n",
       " 'sample_submission(SVM).csv',\n",
       " 'sample_submission(SVM_CH).csv',\n",
       " 'sample_submission(SVM_CH1).csv',\n",
       " 'sample_submission(SVM_CH2).csv',\n",
       " 'sample_submission(SVM_slope&ageET).csv',\n",
       " 'sample_submission(SVM_slopeET).csv',\n",
       " 'sample_submission.csv',\n",
       " 'test.csv',\n",
       " 'train.csv']"
      ]
     },
     "execution_count": 42,
     "metadata": {},
     "output_type": "execute_result"
    }
   ],
   "source": [
    "Basic_dir = os.path.dirname(os.path.dirname(os.path.realpath('EDA.ipynb')))\n",
    "PATH = Basic_dir + '\\\\Data\\\\Data(HeartD_B)'\n",
    "os.listdir(PATH)"
   ]
  },
  {
   "cell_type": "code",
   "execution_count": 43,
   "metadata": {},
   "outputs": [
    {
     "data": {
      "text/html": [
       "<div>\n",
       "<style scoped>\n",
       "    .dataframe tbody tr th:only-of-type {\n",
       "        vertical-align: middle;\n",
       "    }\n",
       "\n",
       "    .dataframe tbody tr th {\n",
       "        vertical-align: top;\n",
       "    }\n",
       "\n",
       "    .dataframe thead th {\n",
       "        text-align: right;\n",
       "    }\n",
       "</style>\n",
       "<table border=\"1\" class=\"dataframe\">\n",
       "  <thead>\n",
       "    <tr style=\"text-align: right;\">\n",
       "      <th></th>\n",
       "      <th>sex</th>\n",
       "      <th>cp</th>\n",
       "      <th>trestbps</th>\n",
       "      <th>chol</th>\n",
       "      <th>fbs</th>\n",
       "      <th>restecg</th>\n",
       "      <th>thalach</th>\n",
       "      <th>exang</th>\n",
       "      <th>oldpeak</th>\n",
       "      <th>slope</th>\n",
       "      <th>ca</th>\n",
       "      <th>thal</th>\n",
       "      <th>target</th>\n",
       "      <th>age_gr</th>\n",
       "    </tr>\n",
       "  </thead>\n",
       "  <tbody>\n",
       "    <tr>\n",
       "      <th>0</th>\n",
       "      <td>1</td>\n",
       "      <td>2</td>\n",
       "      <td>130</td>\n",
       "      <td>197</td>\n",
       "      <td>1</td>\n",
       "      <td>0</td>\n",
       "      <td>152</td>\n",
       "      <td>0</td>\n",
       "      <td>1.2</td>\n",
       "      <td>0</td>\n",
       "      <td>0</td>\n",
       "      <td>2</td>\n",
       "      <td>1</td>\n",
       "      <td>50</td>\n",
       "    </tr>\n",
       "    <tr>\n",
       "      <th>1</th>\n",
       "      <td>1</td>\n",
       "      <td>3</td>\n",
       "      <td>152</td>\n",
       "      <td>298</td>\n",
       "      <td>1</td>\n",
       "      <td>1</td>\n",
       "      <td>178</td>\n",
       "      <td>0</td>\n",
       "      <td>1.2</td>\n",
       "      <td>1</td>\n",
       "      <td>0</td>\n",
       "      <td>3</td>\n",
       "      <td>1</td>\n",
       "      <td>50</td>\n",
       "    </tr>\n",
       "    <tr>\n",
       "      <th>2</th>\n",
       "      <td>1</td>\n",
       "      <td>1</td>\n",
       "      <td>192</td>\n",
       "      <td>283</td>\n",
       "      <td>0</td>\n",
       "      <td>0</td>\n",
       "      <td>195</td>\n",
       "      <td>0</td>\n",
       "      <td>0.0</td>\n",
       "      <td>2</td>\n",
       "      <td>1</td>\n",
       "      <td>3</td>\n",
       "      <td>0</td>\n",
       "      <td>50</td>\n",
       "    </tr>\n",
       "    <tr>\n",
       "      <th>3</th>\n",
       "      <td>0</td>\n",
       "      <td>0</td>\n",
       "      <td>138</td>\n",
       "      <td>236</td>\n",
       "      <td>0</td>\n",
       "      <td>0</td>\n",
       "      <td>152</td>\n",
       "      <td>1</td>\n",
       "      <td>0.2</td>\n",
       "      <td>1</td>\n",
       "      <td>0</td>\n",
       "      <td>2</td>\n",
       "      <td>1</td>\n",
       "      <td>40</td>\n",
       "    </tr>\n",
       "    <tr>\n",
       "      <th>4</th>\n",
       "      <td>1</td>\n",
       "      <td>1</td>\n",
       "      <td>122</td>\n",
       "      <td>192</td>\n",
       "      <td>0</td>\n",
       "      <td>1</td>\n",
       "      <td>174</td>\n",
       "      <td>0</td>\n",
       "      <td>0.0</td>\n",
       "      <td>2</td>\n",
       "      <td>0</td>\n",
       "      <td>2</td>\n",
       "      <td>1</td>\n",
       "      <td>30</td>\n",
       "    </tr>\n",
       "  </tbody>\n",
       "</table>\n",
       "</div>"
      ],
      "text/plain": [
       "   sex  cp  trestbps  chol  fbs  restecg  thalach  exang  oldpeak  slope  ca  \\\n",
       "0    1   2       130   197    1        0      152      0      1.2      0   0   \n",
       "1    1   3       152   298    1        1      178      0      1.2      1   0   \n",
       "2    1   1       192   283    0        0      195      0      0.0      2   1   \n",
       "3    0   0       138   236    0        0      152      1      0.2      1   0   \n",
       "4    1   1       122   192    0        1      174      0      0.0      2   0   \n",
       "\n",
       "   thal  target  age_gr  \n",
       "0     2       1      50  \n",
       "1     3       1      50  \n",
       "2     3       0      50  \n",
       "3     2       1      40  \n",
       "4     2       1      30  "
      ]
     },
     "execution_count": 43,
     "metadata": {},
     "output_type": "execute_result"
    }
   ],
   "source": [
    "# 결측값 없음 / 15개의 열과 151개의 행으로 이루어진 데이터 구조\n",
    "df_train = pd.read_csv(PATH + '\\\\train.csv')\n",
    "df_test = pd.read_csv(PATH + '\\\\test.csv')\n",
    "df_train['age_gr'] = np.where(df_train.age < 20, 10, \n",
    "                     np.where(df_train.age < 30, 20, \n",
    "                     np.where(df_train.age < 40, 30, \n",
    "                     np.where(df_train.age < 50, 40,\n",
    "                     np.where(df_train.age < 60, 50,\n",
    "                     np.where(df_train.age < 70, 60, 70))))))\n",
    "df_test['age_gr'] = np.where(df_test.age < 20, 10, \n",
    "                     np.where(df_test.age < 30, 20, \n",
    "                     np.where(df_test.age < 40, 30, \n",
    "                     np.where(df_test.age < 50, 40,\n",
    "                     np.where(df_test.age < 60, 50,\n",
    "                     np.where(df_test.age < 70, 60, 70))))))\n",
    "df_train.drop(['id', 'age'], axis = 1, inplace = True)\n",
    "df_test.drop(['id', 'age'], axis = 1, inplace = True)\n",
    "df_train.head()"
   ]
  },
  {
   "cell_type": "code",
   "execution_count": 44,
   "metadata": {},
   "outputs": [
    {
     "data": {
      "text/plain": [
       "0    80\n",
       "1    34\n",
       "2    23\n",
       "3    10\n",
       "4     5\n",
       "Name: ca, dtype: int64"
      ]
     },
     "execution_count": 44,
     "metadata": {},
     "output_type": "execute_result"
    }
   ],
   "source": [
    "# ca가 영향력이 제일 큼\n",
    "# ca에서 null 값은 1으로 변환 후 분석 40, 45, 79, 80, 95 # 어떤것으로 변환하느냐에 따라서 예측결과가 달라짐\n",
    "# df_test[df_test.ca == 4] = df_test[df_test.ca == 4].apply(lambda x: 2)\n",
    "# df_test.ca[95] \n",
    "df_test.ca.value_counts()"
   ]
  },
  {
   "cell_type": "code",
   "execution_count": 45,
   "metadata": {},
   "outputs": [
    {
     "data": {
      "text/html": [
       "<div>\n",
       "<style scoped>\n",
       "    .dataframe tbody tr th:only-of-type {\n",
       "        vertical-align: middle;\n",
       "    }\n",
       "\n",
       "    .dataframe tbody tr th {\n",
       "        vertical-align: top;\n",
       "    }\n",
       "\n",
       "    .dataframe thead th {\n",
       "        text-align: right;\n",
       "    }\n",
       "</style>\n",
       "<table border=\"1\" class=\"dataframe\">\n",
       "  <thead>\n",
       "    <tr style=\"text-align: right;\">\n",
       "      <th></th>\n",
       "      <th>thalach</th>\n",
       "      <th>oldpeak</th>\n",
       "      <th>slope</th>\n",
       "      <th>ca</th>\n",
       "      <th>sex</th>\n",
       "      <th>cp</th>\n",
       "      <th>exang</th>\n",
       "      <th>thal</th>\n",
       "      <th>age_gr</th>\n",
       "    </tr>\n",
       "  </thead>\n",
       "  <tbody>\n",
       "    <tr>\n",
       "      <th>0</th>\n",
       "      <td>0.058612</td>\n",
       "      <td>0.206190</td>\n",
       "      <td>-2.158717</td>\n",
       "      <td>-0.659316</td>\n",
       "      <td>0.682656</td>\n",
       "      <td>0.887021</td>\n",
       "      <td>-0.693103</td>\n",
       "      <td>-0.527951</td>\n",
       "      <td>0.000000</td>\n",
       "    </tr>\n",
       "    <tr>\n",
       "      <th>1</th>\n",
       "      <td>1.170264</td>\n",
       "      <td>0.206190</td>\n",
       "      <td>-0.591572</td>\n",
       "      <td>-0.659316</td>\n",
       "      <td>0.682656</td>\n",
       "      <td>1.836950</td>\n",
       "      <td>-0.693103</td>\n",
       "      <td>1.132895</td>\n",
       "      <td>0.000000</td>\n",
       "    </tr>\n",
       "    <tr>\n",
       "      <th>2</th>\n",
       "      <td>1.897112</td>\n",
       "      <td>-0.902462</td>\n",
       "      <td>0.975574</td>\n",
       "      <td>0.434714</td>\n",
       "      <td>0.682656</td>\n",
       "      <td>-0.062909</td>\n",
       "      <td>-0.693103</td>\n",
       "      <td>1.132895</td>\n",
       "      <td>0.000000</td>\n",
       "    </tr>\n",
       "    <tr>\n",
       "      <th>3</th>\n",
       "      <td>0.058612</td>\n",
       "      <td>-0.717686</td>\n",
       "      <td>-0.591572</td>\n",
       "      <td>-0.659316</td>\n",
       "      <td>-1.464866</td>\n",
       "      <td>-1.012839</td>\n",
       "      <td>1.442786</td>\n",
       "      <td>-0.527951</td>\n",
       "      <td>-1.086134</td>\n",
       "    </tr>\n",
       "    <tr>\n",
       "      <th>4</th>\n",
       "      <td>0.999240</td>\n",
       "      <td>-0.902462</td>\n",
       "      <td>0.975574</td>\n",
       "      <td>-0.659316</td>\n",
       "      <td>0.682656</td>\n",
       "      <td>-0.062909</td>\n",
       "      <td>-0.693103</td>\n",
       "      <td>-0.527951</td>\n",
       "      <td>-2.172268</td>\n",
       "    </tr>\n",
       "  </tbody>\n",
       "</table>\n",
       "</div>"
      ],
      "text/plain": [
       "    thalach   oldpeak     slope        ca       sex        cp     exang  \\\n",
       "0  0.058612  0.206190 -2.158717 -0.659316  0.682656  0.887021 -0.693103   \n",
       "1  1.170264  0.206190 -0.591572 -0.659316  0.682656  1.836950 -0.693103   \n",
       "2  1.897112 -0.902462  0.975574  0.434714  0.682656 -0.062909 -0.693103   \n",
       "3  0.058612 -0.717686 -0.591572 -0.659316 -1.464866 -1.012839  1.442786   \n",
       "4  0.999240 -0.902462  0.975574 -0.659316  0.682656 -0.062909 -0.693103   \n",
       "\n",
       "       thal    age_gr  \n",
       "0 -0.527951  0.000000  \n",
       "1  1.132895  0.000000  \n",
       "2  1.132895  0.000000  \n",
       "3 -0.527951 -1.086134  \n",
       "4 -0.527951 -2.172268  "
      ]
     },
     "execution_count": 45,
     "metadata": {},
     "output_type": "execute_result"
    }
   ],
   "source": [
    "x_list = ['thalach', 'oldpeak', 'slope', 'ca', 'sex', 'cp', 'exang', 'thal', 'age_gr']\n",
    "transform_data1 = df_train[x_list]\n",
    "transform_data2 = df_test[x_list] \n",
    "\n",
    "# 가장 일반적인 StandardScaler를 사용해서 정규화\n",
    "from sklearn.preprocessing import StandardScaler\n",
    "from sklearn.preprocessing import MinMaxScaler \n",
    "# scaler = MinMaxScaler()\n",
    "scaler = StandardScaler()\n",
    "\n",
    "std_transform_data1 = scaler.fit_transform(transform_data1)\n",
    "std_transform_data2 = scaler.fit_transform(transform_data2)\n",
    "\n",
    "df_train[transform_data1.columns] = std_transform_data1\n",
    "df_test[transform_data2.columns] = std_transform_data2\n",
    "\n",
    "df_train[x_list].head()"
   ]
  },
  {
   "cell_type": "code",
   "execution_count": 46,
   "metadata": {},
   "outputs": [
    {
     "name": "stdout",
     "output_type": "stream",
     "text": [
      "[0.30608205 0.14816272 0.11874532 0.10737341 0.09098099 0.08404527]\n"
     ]
    },
    {
     "data": {
      "text/plain": [
       "0.8553897452067849"
      ]
     },
     "execution_count": 46,
     "metadata": {},
     "output_type": "execute_result"
    }
   ],
   "source": [
    "# 다중공선성 축소를 위한 PCA진행\n",
    "from sklearn.decomposition import PCA\n",
    "pca = PCA(n_components = 6) # 주성분을 몇개로 할지 결정\n",
    "train_target = list(df_train['target'])\n",
    "printcipalComponents1 = pca.fit_transform(df_train[x_list])\n",
    "printcipalComponents2 = pca.fit_transform(df_test[x_list])\n",
    "train = pd.DataFrame(data=printcipalComponents1, columns = [f'{i+1}'for i in range(6)])\n",
    "train['target'] = train_target\n",
    "test = pd.DataFrame(data=printcipalComponents2, columns = [f'{i+1}'for i in range(6)])\n",
    "val_list = [f'{i+1}'for i in range(6)]\n",
    "print(pca.explained_variance_ratio_) # 각각의 설명력을 표현\n",
    "sum(pca.explained_variance_ratio_)"
   ]
  },
  {
   "cell_type": "code",
   "execution_count": 47,
   "metadata": {},
   "outputs": [
    {
     "name": "stdout",
     "output_type": "stream",
     "text": [
      "              precision    recall  f1-score   support\n",
      "\n",
      "           0       0.90      0.81      0.85        68\n",
      "           1       0.86      0.93      0.89        83\n",
      "\n",
      "    accuracy                           0.87       151\n",
      "   macro avg       0.88      0.87      0.87       151\n",
      "weighted avg       0.88      0.87      0.87       151\n",
      "\n"
     ]
    }
   ],
   "source": [
    "# 로지스틱 회귀분석 테스트\n",
    "from sklearn.metrics import classification_report, confusion_matrix\n",
    "from sklearn.linear_model import LogisticRegression\n",
    "lr = LogisticRegression()\n",
    "lr.fit(train[val_list], train.target)\n",
    "print(classification_report(train.target, lr.predict(train[val_list])))"
   ]
  },
  {
   "cell_type": "code",
   "execution_count": 48,
   "metadata": {},
   "outputs": [
    {
     "data": {
      "text/html": [
       "<div>\n",
       "<style scoped>\n",
       "    .dataframe tbody tr th:only-of-type {\n",
       "        vertical-align: middle;\n",
       "    }\n",
       "\n",
       "    .dataframe tbody tr th {\n",
       "        vertical-align: top;\n",
       "    }\n",
       "\n",
       "    .dataframe thead th {\n",
       "        text-align: right;\n",
       "    }\n",
       "</style>\n",
       "<table border=\"1\" class=\"dataframe\">\n",
       "  <thead>\n",
       "    <tr style=\"text-align: right;\">\n",
       "      <th></th>\n",
       "      <th>id</th>\n",
       "      <th>target</th>\n",
       "    </tr>\n",
       "  </thead>\n",
       "  <tbody>\n",
       "    <tr>\n",
       "      <th>0</th>\n",
       "      <td>1</td>\n",
       "      <td>1</td>\n",
       "    </tr>\n",
       "    <tr>\n",
       "      <th>1</th>\n",
       "      <td>2</td>\n",
       "      <td>1</td>\n",
       "    </tr>\n",
       "    <tr>\n",
       "      <th>2</th>\n",
       "      <td>3</td>\n",
       "      <td>1</td>\n",
       "    </tr>\n",
       "    <tr>\n",
       "      <th>3</th>\n",
       "      <td>4</td>\n",
       "      <td>0</td>\n",
       "    </tr>\n",
       "    <tr>\n",
       "      <th>4</th>\n",
       "      <td>5</td>\n",
       "      <td>1</td>\n",
       "    </tr>\n",
       "  </tbody>\n",
       "</table>\n",
       "</div>"
      ],
      "text/plain": [
       "   id  target\n",
       "0   1       1\n",
       "1   2       1\n",
       "2   3       1\n",
       "3   4       0\n",
       "4   5       1"
      ]
     },
     "execution_count": 48,
     "metadata": {},
     "output_type": "execute_result"
    }
   ],
   "source": [
    "# 정답파일 작성\n",
    "predict = pd.read_csv(PATH + '\\\\sample_submission.csv')\n",
    "predict.target = lr.predict(test[val_list])\n",
    "predict.to_csv(PATH + '\\\\sample_submission(LR_PCA7).csv', index = False)\n",
    "pd.read_csv(PATH + '\\\\sample_submission(LR_PCA7).csv').head()"
   ]
  },
  {
   "cell_type": "code",
   "execution_count": 49,
   "metadata": {},
   "outputs": [
    {
     "name": "stdout",
     "output_type": "stream",
     "text": [
      "0\n",
      "9\n",
      "23\n",
      "34\n",
      "62\n",
      "63\n",
      "72\n",
      "77\n",
      "87\n",
      "90\n",
      "104\n",
      "108\n",
      "132\n",
      "137\n"
     ]
    }
   ],
   "source": [
    "check1 = pd.read_csv(PATH + '\\\\sample_submission(LR_PCA7).csv')\n",
    "check2 = pd.read_csv(PATH + '\\\\sample_submission(LR).csv')\n",
    "for i in range(len(check1)):\n",
    "    if check1.target[i] != check2.target[i]:\n",
    "        print(i)"
   ]
  },
  {
   "cell_type": "code",
   "execution_count": 56,
   "metadata": {},
   "outputs": [
    {
     "name": "stdout",
     "output_type": "stream",
     "text": [
      "              precision    recall  f1-score   support\n",
      "\n",
      "           0       0.91      0.87      0.89        68\n",
      "           1       0.90      0.93      0.91        83\n",
      "\n",
      "    accuracy                           0.90       151\n",
      "   macro avg       0.90      0.90      0.90       151\n",
      "weighted avg       0.90      0.90      0.90       151\n",
      "\n"
     ]
    }
   ],
   "source": [
    "# 로지스틱 회귀분석 테스트\n",
    "x_list = ['oldpeak', 'ca', 'cp', 'thal', 'sex', 'exang']\n",
    "# 추가제거 : slope(oldpeak와 연관성이 높음)\n",
    "# 추가제거 : thalach(oldpeak와 ca와의 연관성이 높음)\n",
    "x_list = ['thalach', 'oldpeak', 'ca', 'sex', 'cp', 'thal']\n",
    "# x_list = ['thalach', 'oldpeak', 'slope', 'ca', 'sex', 'cp', 'exang', 'thal', 'age_gr']\n",
    "from sklearn.metrics import classification_report, confusion_matrix\n",
    "from sklearn.linear_model import LogisticRegression\n",
    "lr = LogisticRegression()\n",
    "lr.fit(df_train[x_list], df_train.target)\n",
    "print(classification_report(df_train.target, lr.predict(df_train[x_list])))"
   ]
  },
  {
   "cell_type": "code",
   "execution_count": 57,
   "metadata": {},
   "outputs": [
    {
     "data": {
      "text/html": [
       "<div>\n",
       "<style scoped>\n",
       "    .dataframe tbody tr th:only-of-type {\n",
       "        vertical-align: middle;\n",
       "    }\n",
       "\n",
       "    .dataframe tbody tr th {\n",
       "        vertical-align: top;\n",
       "    }\n",
       "\n",
       "    .dataframe thead th {\n",
       "        text-align: right;\n",
       "    }\n",
       "</style>\n",
       "<table border=\"1\" class=\"dataframe\">\n",
       "  <thead>\n",
       "    <tr style=\"text-align: right;\">\n",
       "      <th></th>\n",
       "      <th>id</th>\n",
       "      <th>target</th>\n",
       "    </tr>\n",
       "  </thead>\n",
       "  <tbody>\n",
       "    <tr>\n",
       "      <th>0</th>\n",
       "      <td>1</td>\n",
       "      <td>1</td>\n",
       "    </tr>\n",
       "    <tr>\n",
       "      <th>1</th>\n",
       "      <td>2</td>\n",
       "      <td>1</td>\n",
       "    </tr>\n",
       "    <tr>\n",
       "      <th>2</th>\n",
       "      <td>3</td>\n",
       "      <td>1</td>\n",
       "    </tr>\n",
       "    <tr>\n",
       "      <th>3</th>\n",
       "      <td>4</td>\n",
       "      <td>0</td>\n",
       "    </tr>\n",
       "    <tr>\n",
       "      <th>4</th>\n",
       "      <td>5</td>\n",
       "      <td>1</td>\n",
       "    </tr>\n",
       "  </tbody>\n",
       "</table>\n",
       "</div>"
      ],
      "text/plain": [
       "   id  target\n",
       "0   1       1\n",
       "1   2       1\n",
       "2   3       1\n",
       "3   4       0\n",
       "4   5       1"
      ]
     },
     "execution_count": 57,
     "metadata": {},
     "output_type": "execute_result"
    }
   ],
   "source": [
    "# 정답파일 작성\n",
    "predict = pd.read_csv(PATH + '\\\\sample_submission.csv')\n",
    "predict.target = lr.predict(df_test[x_list])\n",
    "predict.to_csv(PATH + '\\\\sample_submission(LR_CH5).csv', index = False)\n",
    "pd.read_csv(PATH + '\\\\sample_submission(LR_CH5).csv').head()"
   ]
  },
  {
   "cell_type": "code",
   "execution_count": 58,
   "metadata": {},
   "outputs": [
    {
     "name": "stdout",
     "output_type": "stream",
     "text": [
      "0\n",
      "84\n",
      "118\n",
      "129\n"
     ]
    }
   ],
   "source": [
    "check1 = pd.read_csv(PATH + '\\\\sample_submission(LR_CH5).csv')\n",
    "check2 = pd.read_csv(PATH + '\\\\sample_submission(LR).csv')\n",
    "for i in range(len(check1)):\n",
    "    if check1.target[i] != check2.target[i]:\n",
    "        print(i)"
   ]
  },
  {
   "cell_type": "code",
   "execution_count": 53,
   "metadata": {},
   "outputs": [
    {
     "name": "stdout",
     "output_type": "stream",
     "text": [
      "              precision    recall  f1-score   support\n",
      "\n",
      "           0       0.89      0.84      0.86        68\n",
      "           1       0.87      0.92      0.89        83\n",
      "\n",
      "    accuracy                           0.88       151\n",
      "   macro avg       0.88      0.88      0.88       151\n",
      "weighted avg       0.88      0.88      0.88       151\n",
      "\n"
     ]
    }
   ],
   "source": [
    "# SVM 테스트\n",
    "x_list = ['thalach', 'oldpeak', 'ca', 'sex', 'cp', 'thal']\n",
    "# 추가제거 : slope(oldpeak와 중복해서 가중치가 들어갈 확률이 높음) / age_gr 제거\n",
    "from sklearn.metrics import classification_report, confusion_matrix\n",
    "from sklearn import svm\n",
    "svm = svm.SVC(kernel = \"linear\", C = 10)\n",
    "svm.fit(df_train[x_list], df_train.target)\n",
    "print(classification_report(df_train.target, svm.predict(df_train[x_list])))"
   ]
  },
  {
   "cell_type": "code",
   "execution_count": 54,
   "metadata": {},
   "outputs": [
    {
     "data": {
      "text/html": [
       "<div>\n",
       "<style scoped>\n",
       "    .dataframe tbody tr th:only-of-type {\n",
       "        vertical-align: middle;\n",
       "    }\n",
       "\n",
       "    .dataframe tbody tr th {\n",
       "        vertical-align: top;\n",
       "    }\n",
       "\n",
       "    .dataframe thead th {\n",
       "        text-align: right;\n",
       "    }\n",
       "</style>\n",
       "<table border=\"1\" class=\"dataframe\">\n",
       "  <thead>\n",
       "    <tr style=\"text-align: right;\">\n",
       "      <th></th>\n",
       "      <th>id</th>\n",
       "      <th>target</th>\n",
       "    </tr>\n",
       "  </thead>\n",
       "  <tbody>\n",
       "    <tr>\n",
       "      <th>0</th>\n",
       "      <td>1</td>\n",
       "      <td>1</td>\n",
       "    </tr>\n",
       "    <tr>\n",
       "      <th>1</th>\n",
       "      <td>2</td>\n",
       "      <td>1</td>\n",
       "    </tr>\n",
       "    <tr>\n",
       "      <th>2</th>\n",
       "      <td>3</td>\n",
       "      <td>1</td>\n",
       "    </tr>\n",
       "    <tr>\n",
       "      <th>3</th>\n",
       "      <td>4</td>\n",
       "      <td>0</td>\n",
       "    </tr>\n",
       "    <tr>\n",
       "      <th>4</th>\n",
       "      <td>5</td>\n",
       "      <td>1</td>\n",
       "    </tr>\n",
       "  </tbody>\n",
       "</table>\n",
       "</div>"
      ],
      "text/plain": [
       "   id  target\n",
       "0   1       1\n",
       "1   2       1\n",
       "2   3       1\n",
       "3   4       0\n",
       "4   5       1"
      ]
     },
     "execution_count": 54,
     "metadata": {},
     "output_type": "execute_result"
    }
   ],
   "source": [
    "# 정답파일 작성\n",
    "predict = pd.read_csv(PATH + '\\\\sample_submission.csv')\n",
    "predict.target = svm.predict(df_test[x_list])\n",
    "predict.to_csv(PATH + '\\\\sample_submission(SVM_CH2).csv', index = False)\n",
    "pd.read_csv(PATH + '\\\\sample_submission(SVM_CH2).csv').head()"
   ]
  },
  {
   "cell_type": "code",
   "execution_count": 55,
   "metadata": {},
   "outputs": [
    {
     "name": "stdout",
     "output_type": "stream",
     "text": [
      "0\n",
      "11\n",
      "25\n",
      "84\n",
      "99\n",
      "114\n",
      "118\n",
      "129\n"
     ]
    }
   ],
   "source": [
    "check1 = pd.read_csv(PATH + '\\\\sample_submission(SVM_CH2).csv')\n",
    "check2 = pd.read_csv(PATH + '\\\\sample_submission(LR).csv')\n",
    "for i in range(len(check1)):\n",
    "    if check1.target[i] != check2.target[i]:\n",
    "        print(i)"
   ]
  }
 ],
 "metadata": {
  "interpreter": {
   "hash": "fe3bab233825460445dbfeea6dcd52ef5815a3fa13c858fea07ac830aa383284"
  },
  "kernelspec": {
   "display_name": "Python 3.8.10 64-bit ('base': conda)",
   "language": "python",
   "name": "python3"
  },
  "language_info": {
   "codemirror_mode": {
    "name": "ipython",
    "version": 3
   },
   "file_extension": ".py",
   "mimetype": "text/x-python",
   "name": "python",
   "nbconvert_exporter": "python",
   "pygments_lexer": "ipython3",
   "version": "3.8.10"
  },
  "orig_nbformat": 4
 },
 "nbformat": 4,
 "nbformat_minor": 2
}
