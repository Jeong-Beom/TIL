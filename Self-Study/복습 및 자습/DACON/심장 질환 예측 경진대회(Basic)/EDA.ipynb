{
 "cells": [
  {
   "cell_type": "code",
   "execution_count": 2,
   "metadata": {},
   "outputs": [],
   "source": [
    "import pandas as pd\n",
    "import matplotlib.pyplot as plt\n",
    "import seaborn as sns\n",
    "from matplotlib import patches\n",
    "%matplotlib inline\n",
    "import os\n",
    "import numpy as np"
   ]
  },
  {
   "cell_type": "code",
   "execution_count": 3,
   "metadata": {},
   "outputs": [
    {
     "data": {
      "text/plain": [
       "['sample_submission.csv', 'test.csv', 'train.csv']"
      ]
     },
     "execution_count": 3,
     "metadata": {},
     "output_type": "execute_result"
    }
   ],
   "source": [
    "Basic_dir = os.path.dirname(os.path.dirname(os.path.realpath('EDA.ipynb')))\n",
    "PATH = Basic_dir + '\\\\Data\\\\Data(HeartD_B)'\n",
    "os.listdir(PATH)"
   ]
  },
  {
   "cell_type": "code",
   "execution_count": 4,
   "metadata": {},
   "outputs": [
    {
     "name": "stdout",
     "output_type": "stream",
     "text": [
      "<class 'pandas.core.frame.DataFrame'>\n",
      "RangeIndex: 151 entries, 0 to 150\n",
      "Data columns (total 15 columns):\n",
      " #   Column    Non-Null Count  Dtype  \n",
      "---  ------    --------------  -----  \n",
      " 0   id        151 non-null    int64  \n",
      " 1   age       151 non-null    int64  \n",
      " 2   sex       151 non-null    int64  \n",
      " 3   cp        151 non-null    int64  \n",
      " 4   trestbps  151 non-null    int64  \n",
      " 5   chol      151 non-null    int64  \n",
      " 6   fbs       151 non-null    int64  \n",
      " 7   restecg   151 non-null    int64  \n",
      " 8   thalach   151 non-null    int64  \n",
      " 9   exang     151 non-null    int64  \n",
      " 10  oldpeak   151 non-null    float64\n",
      " 11  slope     151 non-null    int64  \n",
      " 12  ca        151 non-null    int64  \n",
      " 13  thal      151 non-null    int64  \n",
      " 14  target    151 non-null    int64  \n",
      "dtypes: float64(1), int64(14)\n",
      "memory usage: 17.8 KB\n"
     ]
    }
   ],
   "source": [
    "# 결측값 없음 / 15개의 열과 151개의 행으로 이루어진 데이터 구조\n",
    "df_train = pd.read_csv(PATH + '\\\\train.csv')\n",
    "df_train.info()"
   ]
  },
  {
   "cell_type": "code",
   "execution_count": 5,
   "metadata": {},
   "outputs": [
    {
     "data": {
      "text/plain": [
       "id            int64\n",
       "age           int64\n",
       "sex           int64\n",
       "cp            int64\n",
       "trestbps      int64\n",
       "chol          int64\n",
       "fbs           int64\n",
       "restecg       int64\n",
       "thalach       int64\n",
       "exang         int64\n",
       "oldpeak     float64\n",
       "slope         int64\n",
       "ca            int64\n",
       "thal          int64\n",
       "target        int64\n",
       "dtype: object"
      ]
     },
     "execution_count": 5,
     "metadata": {},
     "output_type": "execute_result"
    }
   ],
   "source": [
    "# 데이터의 형태확인\n",
    "df_train.dtypes"
   ]
  },
  {
   "cell_type": "code",
   "execution_count": 6,
   "metadata": {},
   "outputs": [
    {
     "data": {
      "text/html": [
       "<div>\n",
       "<style scoped>\n",
       "    .dataframe tbody tr th:only-of-type {\n",
       "        vertical-align: middle;\n",
       "    }\n",
       "\n",
       "    .dataframe tbody tr th {\n",
       "        vertical-align: top;\n",
       "    }\n",
       "\n",
       "    .dataframe thead th {\n",
       "        text-align: right;\n",
       "    }\n",
       "</style>\n",
       "<table border=\"1\" class=\"dataframe\">\n",
       "  <thead>\n",
       "    <tr style=\"text-align: right;\">\n",
       "      <th></th>\n",
       "      <th>age</th>\n",
       "      <th>sex</th>\n",
       "      <th>cp</th>\n",
       "      <th>trestbps</th>\n",
       "      <th>chol</th>\n",
       "      <th>fbs</th>\n",
       "      <th>restecg</th>\n",
       "      <th>thalach</th>\n",
       "      <th>exang</th>\n",
       "      <th>oldpeak</th>\n",
       "      <th>slope</th>\n",
       "      <th>ca</th>\n",
       "      <th>thal</th>\n",
       "      <th>target</th>\n",
       "    </tr>\n",
       "  </thead>\n",
       "  <tbody>\n",
       "    <tr>\n",
       "      <th>0</th>\n",
       "      <td>53</td>\n",
       "      <td>1</td>\n",
       "      <td>2</td>\n",
       "      <td>130</td>\n",
       "      <td>197</td>\n",
       "      <td>1</td>\n",
       "      <td>0</td>\n",
       "      <td>152</td>\n",
       "      <td>0</td>\n",
       "      <td>1.2</td>\n",
       "      <td>0</td>\n",
       "      <td>0</td>\n",
       "      <td>2</td>\n",
       "      <td>1</td>\n",
       "    </tr>\n",
       "    <tr>\n",
       "      <th>1</th>\n",
       "      <td>52</td>\n",
       "      <td>1</td>\n",
       "      <td>3</td>\n",
       "      <td>152</td>\n",
       "      <td>298</td>\n",
       "      <td>1</td>\n",
       "      <td>1</td>\n",
       "      <td>178</td>\n",
       "      <td>0</td>\n",
       "      <td>1.2</td>\n",
       "      <td>1</td>\n",
       "      <td>0</td>\n",
       "      <td>3</td>\n",
       "      <td>1</td>\n",
       "    </tr>\n",
       "    <tr>\n",
       "      <th>2</th>\n",
       "      <td>54</td>\n",
       "      <td>1</td>\n",
       "      <td>1</td>\n",
       "      <td>192</td>\n",
       "      <td>283</td>\n",
       "      <td>0</td>\n",
       "      <td>0</td>\n",
       "      <td>195</td>\n",
       "      <td>0</td>\n",
       "      <td>0.0</td>\n",
       "      <td>2</td>\n",
       "      <td>1</td>\n",
       "      <td>3</td>\n",
       "      <td>0</td>\n",
       "    </tr>\n",
       "    <tr>\n",
       "      <th>3</th>\n",
       "      <td>45</td>\n",
       "      <td>0</td>\n",
       "      <td>0</td>\n",
       "      <td>138</td>\n",
       "      <td>236</td>\n",
       "      <td>0</td>\n",
       "      <td>0</td>\n",
       "      <td>152</td>\n",
       "      <td>1</td>\n",
       "      <td>0.2</td>\n",
       "      <td>1</td>\n",
       "      <td>0</td>\n",
       "      <td>2</td>\n",
       "      <td>1</td>\n",
       "    </tr>\n",
       "    <tr>\n",
       "      <th>4</th>\n",
       "      <td>35</td>\n",
       "      <td>1</td>\n",
       "      <td>1</td>\n",
       "      <td>122</td>\n",
       "      <td>192</td>\n",
       "      <td>0</td>\n",
       "      <td>1</td>\n",
       "      <td>174</td>\n",
       "      <td>0</td>\n",
       "      <td>0.0</td>\n",
       "      <td>2</td>\n",
       "      <td>0</td>\n",
       "      <td>2</td>\n",
       "      <td>1</td>\n",
       "    </tr>\n",
       "  </tbody>\n",
       "</table>\n",
       "</div>"
      ],
      "text/plain": [
       "   age  sex  cp  trestbps  chol  fbs  restecg  thalach  exang  oldpeak  slope  \\\n",
       "0   53    1   2       130   197    1        0      152      0      1.2      0   \n",
       "1   52    1   3       152   298    1        1      178      0      1.2      1   \n",
       "2   54    1   1       192   283    0        0      195      0      0.0      2   \n",
       "3   45    0   0       138   236    0        0      152      1      0.2      1   \n",
       "4   35    1   1       122   192    0        1      174      0      0.0      2   \n",
       "\n",
       "   ca  thal  target  \n",
       "0   0     2       1  \n",
       "1   0     3       1  \n",
       "2   1     3       0  \n",
       "3   0     2       1  \n",
       "4   0     2       1  "
      ]
     },
     "execution_count": 6,
     "metadata": {},
     "output_type": "execute_result"
    }
   ],
   "source": [
    "# 데이터에 대한 간략한 설명(DACON 제공)\n",
    "# id: 데이터 고유 id\n",
    "# age: 나이 \n",
    "# sex: 성별 (여자 = 0, 남자 = 1) \n",
    "# cp: 가슴 통증(chest pain) 종류 \n",
    "# 0 : asymptomatic 무증상 / 1 : atypical angina 일반적이지 않은 협심증\n",
    "# 2 : non-anginal pain 협심증이 아닌 통증 / 3 : typical angina 일반적인 협심증\n",
    "# trestbps: (resting blood pressure) 휴식 중 혈압(mmHg)\n",
    "# chol: (serum cholestoral) 혈중 콜레스테롤 (mg/dl)\n",
    "# fbs: (fasting blood sugar) 공복 중 혈당 (120 mg/dl 이하일 시 = 0, 초과일 시 = 1)\n",
    "# restecg: (resting electrocardiographic) 휴식 중 심전도 결과 \n",
    "# 0: showing probable or definite left ventricular hypertrophy by Estes' criteria\n",
    "# 1: 정상\n",
    "# 2: having ST-T wave abnormality (T wave inversions and/or ST elevation or depression of > 0.05 mV)\n",
    "# thalach: (maximum heart rate achieved) 최대 심박수\n",
    "# exang: (exercise induced angina) 활동으로 인한  협심증 여부 (없음 = 0, 있음 = 1)\n",
    "# oldpeak: (ST depression induced by exercise relative to rest) 휴식 대비 운동으로 인한 ST 하강\n",
    "# slope: (the slope of the peak exercise ST segment) 활동 ST 분절 피크의 기울기\n",
    "# 0: downsloping 하강 / 1: flat 평탄 / 2: upsloping 상승\n",
    "# ca: number of major vessels colored by flouroscopy 형광 투시로 확인된 주요 혈관 수 (0~3 개) \n",
    "# Null 값은 숫자 4로 인코딩됨 \n",
    "# thal: thalassemia 지중해빈혈 여부\n",
    "# 0 = Null \n",
    "# 1 = normal 정상\n",
    "# 2 = fixed defect 고정 결함\n",
    "# 3 = reversable defect 가역 결함\n",
    "# target: 심장 질환 진단 여부\n",
    "# 0: < 50% diameter narrowing\n",
    "# 1: > 50% diameter narrowing\n",
    "# 불필요한 컬럼삭제(id)\n",
    "df_train = df_train.iloc[:, 1:]\n",
    "df_train.head()"
   ]
  },
  {
   "cell_type": "code",
   "execution_count": 9,
   "metadata": {},
   "outputs": [
    {
     "data": {
      "text/plain": [
       "1    83\n",
       "0    68\n",
       "Name: target, dtype: int64"
      ]
     },
     "execution_count": 9,
     "metadata": {},
     "output_type": "execute_result"
    }
   ],
   "source": [
    "# 타겟 변수의 균형성 확인(83 : 68 - 균형적)\n",
    "df_train.target.value_counts()"
   ]
  },
  {
   "cell_type": "code",
   "execution_count": 18,
   "metadata": {},
   "outputs": [
    {
     "data": {
      "text/html": [
       "<div>\n",
       "<style scoped>\n",
       "    .dataframe tbody tr th:only-of-type {\n",
       "        vertical-align: middle;\n",
       "    }\n",
       "\n",
       "    .dataframe tbody tr th {\n",
       "        vertical-align: top;\n",
       "    }\n",
       "\n",
       "    .dataframe thead th {\n",
       "        text-align: right;\n",
       "    }\n",
       "</style>\n",
       "<table border=\"1\" class=\"dataframe\">\n",
       "  <thead>\n",
       "    <tr style=\"text-align: right;\">\n",
       "      <th></th>\n",
       "      <th>age</th>\n",
       "      <th>sex</th>\n",
       "      <th>cp</th>\n",
       "      <th>trestbps</th>\n",
       "      <th>chol</th>\n",
       "      <th>fbs</th>\n",
       "      <th>restecg</th>\n",
       "      <th>thalach</th>\n",
       "      <th>exang</th>\n",
       "      <th>oldpeak</th>\n",
       "      <th>slope</th>\n",
       "      <th>ca</th>\n",
       "      <th>thal</th>\n",
       "      <th>target</th>\n",
       "      <th>age_gr</th>\n",
       "    </tr>\n",
       "  </thead>\n",
       "  <tbody>\n",
       "    <tr>\n",
       "      <th>0</th>\n",
       "      <td>53</td>\n",
       "      <td>1</td>\n",
       "      <td>2</td>\n",
       "      <td>130</td>\n",
       "      <td>197</td>\n",
       "      <td>1</td>\n",
       "      <td>0</td>\n",
       "      <td>152</td>\n",
       "      <td>0</td>\n",
       "      <td>1.2</td>\n",
       "      <td>0</td>\n",
       "      <td>0</td>\n",
       "      <td>2</td>\n",
       "      <td>1</td>\n",
       "      <td>50</td>\n",
       "    </tr>\n",
       "    <tr>\n",
       "      <th>1</th>\n",
       "      <td>52</td>\n",
       "      <td>1</td>\n",
       "      <td>3</td>\n",
       "      <td>152</td>\n",
       "      <td>298</td>\n",
       "      <td>1</td>\n",
       "      <td>1</td>\n",
       "      <td>178</td>\n",
       "      <td>0</td>\n",
       "      <td>1.2</td>\n",
       "      <td>1</td>\n",
       "      <td>0</td>\n",
       "      <td>3</td>\n",
       "      <td>1</td>\n",
       "      <td>50</td>\n",
       "    </tr>\n",
       "    <tr>\n",
       "      <th>2</th>\n",
       "      <td>54</td>\n",
       "      <td>1</td>\n",
       "      <td>1</td>\n",
       "      <td>192</td>\n",
       "      <td>283</td>\n",
       "      <td>0</td>\n",
       "      <td>0</td>\n",
       "      <td>195</td>\n",
       "      <td>0</td>\n",
       "      <td>0.0</td>\n",
       "      <td>2</td>\n",
       "      <td>1</td>\n",
       "      <td>3</td>\n",
       "      <td>0</td>\n",
       "      <td>50</td>\n",
       "    </tr>\n",
       "    <tr>\n",
       "      <th>3</th>\n",
       "      <td>45</td>\n",
       "      <td>0</td>\n",
       "      <td>0</td>\n",
       "      <td>138</td>\n",
       "      <td>236</td>\n",
       "      <td>0</td>\n",
       "      <td>0</td>\n",
       "      <td>152</td>\n",
       "      <td>1</td>\n",
       "      <td>0.2</td>\n",
       "      <td>1</td>\n",
       "      <td>0</td>\n",
       "      <td>2</td>\n",
       "      <td>1</td>\n",
       "      <td>40</td>\n",
       "    </tr>\n",
       "    <tr>\n",
       "      <th>4</th>\n",
       "      <td>35</td>\n",
       "      <td>1</td>\n",
       "      <td>1</td>\n",
       "      <td>122</td>\n",
       "      <td>192</td>\n",
       "      <td>0</td>\n",
       "      <td>1</td>\n",
       "      <td>174</td>\n",
       "      <td>0</td>\n",
       "      <td>0.0</td>\n",
       "      <td>2</td>\n",
       "      <td>0</td>\n",
       "      <td>2</td>\n",
       "      <td>1</td>\n",
       "      <td>30</td>\n",
       "    </tr>\n",
       "  </tbody>\n",
       "</table>\n",
       "</div>"
      ],
      "text/plain": [
       "   age  sex  cp  trestbps  chol  fbs  restecg  thalach  exang  oldpeak  slope  \\\n",
       "0   53    1   2       130   197    1        0      152      0      1.2      0   \n",
       "1   52    1   3       152   298    1        1      178      0      1.2      1   \n",
       "2   54    1   1       192   283    0        0      195      0      0.0      2   \n",
       "3   45    0   0       138   236    0        0      152      1      0.2      1   \n",
       "4   35    1   1       122   192    0        1      174      0      0.0      2   \n",
       "\n",
       "   ca  thal  target  age_gr  \n",
       "0   0     2       1      50  \n",
       "1   0     3       1      50  \n",
       "2   1     3       0      50  \n",
       "3   0     2       1      40  \n",
       "4   0     2       1      30  "
      ]
     },
     "execution_count": 18,
     "metadata": {},
     "output_type": "execute_result"
    }
   ],
   "source": [
    "# 연령층을 범위 단위로 변환\n",
    "df_train['age_gr'] = np.where(df_train.age < 20, 10, \n",
    "                     np.where(df_train.age < 30, 20, \n",
    "                     np.where(df_train.age < 40, 30, \n",
    "                     np.where(df_train.age < 50, 40,\n",
    "                     np.where(df_train.age < 60, 50,\n",
    "                     np.where(df_train.age < 70, 60, 70))))))\n",
    "df_train.head()"
   ]
  },
  {
   "cell_type": "code",
   "execution_count": 31,
   "metadata": {},
   "outputs": [
    {
     "data": {
      "text/html": [
       "<div>\n",
       "<style scoped>\n",
       "    .dataframe tbody tr th:only-of-type {\n",
       "        vertical-align: middle;\n",
       "    }\n",
       "\n",
       "    .dataframe tbody tr th {\n",
       "        vertical-align: top;\n",
       "    }\n",
       "\n",
       "    .dataframe thead th {\n",
       "        text-align: right;\n",
       "    }\n",
       "</style>\n",
       "<table border=\"1\" class=\"dataframe\">\n",
       "  <thead>\n",
       "    <tr style=\"text-align: right;\">\n",
       "      <th></th>\n",
       "      <th>trestbps</th>\n",
       "      <th>chol</th>\n",
       "      <th>thalach</th>\n",
       "      <th>oldpeak</th>\n",
       "      <th>slope</th>\n",
       "      <th>ca</th>\n",
       "      <th>target</th>\n",
       "    </tr>\n",
       "  </thead>\n",
       "  <tbody>\n",
       "    <tr>\n",
       "      <th>trestbps</th>\n",
       "      <td>1.000000</td>\n",
       "      <td>0.187539</td>\n",
       "      <td>-0.037929</td>\n",
       "      <td>0.129670</td>\n",
       "      <td>-0.039470</td>\n",
       "      <td>0.078736</td>\n",
       "      <td>-0.122850</td>\n",
       "    </tr>\n",
       "    <tr>\n",
       "      <th>chol</th>\n",
       "      <td>0.187539</td>\n",
       "      <td>1.000000</td>\n",
       "      <td>0.109218</td>\n",
       "      <td>0.096622</td>\n",
       "      <td>0.091094</td>\n",
       "      <td>0.049526</td>\n",
       "      <td>0.036991</td>\n",
       "    </tr>\n",
       "    <tr>\n",
       "      <th>thalach</th>\n",
       "      <td>-0.037929</td>\n",
       "      <td>0.109218</td>\n",
       "      <td>1.000000</td>\n",
       "      <td>-0.334791</td>\n",
       "      <td>0.267636</td>\n",
       "      <td>-0.203291</td>\n",
       "      <td>0.365249</td>\n",
       "    </tr>\n",
       "    <tr>\n",
       "      <th>oldpeak</th>\n",
       "      <td>0.129670</td>\n",
       "      <td>0.096622</td>\n",
       "      <td>-0.334791</td>\n",
       "      <td>1.000000</td>\n",
       "      <td>-0.564554</td>\n",
       "      <td>0.194849</td>\n",
       "      <td>-0.421514</td>\n",
       "    </tr>\n",
       "    <tr>\n",
       "      <th>slope</th>\n",
       "      <td>-0.039470</td>\n",
       "      <td>0.091094</td>\n",
       "      <td>0.267636</td>\n",
       "      <td>-0.564554</td>\n",
       "      <td>1.000000</td>\n",
       "      <td>0.018723</td>\n",
       "      <td>0.305994</td>\n",
       "    </tr>\n",
       "    <tr>\n",
       "      <th>ca</th>\n",
       "      <td>0.078736</td>\n",
       "      <td>0.049526</td>\n",
       "      <td>-0.203291</td>\n",
       "      <td>0.194849</td>\n",
       "      <td>0.018723</td>\n",
       "      <td>1.000000</td>\n",
       "      <td>-0.466289</td>\n",
       "    </tr>\n",
       "    <tr>\n",
       "      <th>target</th>\n",
       "      <td>-0.122850</td>\n",
       "      <td>0.036991</td>\n",
       "      <td>0.365249</td>\n",
       "      <td>-0.421514</td>\n",
       "      <td>0.305994</td>\n",
       "      <td>-0.466289</td>\n",
       "      <td>1.000000</td>\n",
       "    </tr>\n",
       "  </tbody>\n",
       "</table>\n",
       "</div>"
      ],
      "text/plain": [
       "          trestbps      chol   thalach   oldpeak     slope        ca    target\n",
       "trestbps  1.000000  0.187539 -0.037929  0.129670 -0.039470  0.078736 -0.122850\n",
       "chol      0.187539  1.000000  0.109218  0.096622  0.091094  0.049526  0.036991\n",
       "thalach  -0.037929  0.109218  1.000000 -0.334791  0.267636 -0.203291  0.365249\n",
       "oldpeak   0.129670  0.096622 -0.334791  1.000000 -0.564554  0.194849 -0.421514\n",
       "slope    -0.039470  0.091094  0.267636 -0.564554  1.000000  0.018723  0.305994\n",
       "ca        0.078736  0.049526 -0.203291  0.194849  0.018723  1.000000 -0.466289\n",
       "target   -0.122850  0.036991  0.365249 -0.421514  0.305994 -0.466289  1.000000"
      ]
     },
     "execution_count": 31,
     "metadata": {},
     "output_type": "execute_result"
    }
   ],
   "source": [
    "# 상관계수 분석을 위한 연속형 변수 컬럼명 설정\n",
    "val_list1 = ['trestbps', 'chol', 'thalach', 'oldpeak', 'slope','ca', 'target']\n",
    "val_list2 = ['sex', 'cp', 'fbs', 'restecg', 'exang', 'thal', 'age_gr']\n",
    "# sex : 명목 / cp : 명목 / fbs : 순위 변수 / restecg : 순위 변수 / exang : 명목 / thal : 명목 \n",
    "# ca열의 값중 4는 null 값이므로 제거 -> 4를 값으로 가지는 행 없음.\n",
    "df_train_eda01 = df_train[val_list1]\n",
    "df_train_eda01.corr()"
   ]
  },
  {
   "cell_type": "code",
   "execution_count": 13,
   "metadata": {},
   "outputs": [
    {
     "data": {
      "text/plain": [
       "<AxesSubplot:title={'center':'corr score'}>"
      ]
     },
     "execution_count": 13,
     "metadata": {},
     "output_type": "execute_result"
    },
    {
     "data": {
      "image/png": "[encoded data removed]",
      "text/plain": [
       "<Figure size 576x576 with 2 Axes>"
      ]
     },
     "metadata": {
      "needs_background": "light"
     },
     "output_type": "display_data"
    }
   ],
   "source": [
    "# target을 연속형 변수로 보았을 때\n",
    "# 상관계수를 시각화 및 상관계수 값이 높은 변수들 확인\n",
    "# ca와 oldpeak의 경우 target변수와의 연관성이 높지만 thalach와의 연관성도 높은 것을 확인\n",
    "# 해당 변수들을 모두 그대로 반영하여 분석을 진행하면 중복적인 가중치가 적용될 수 있음.\n",
    "colormap = plt.cm.RdBu\n",
    "plt.figure(figsize = (8, 8))\n",
    "plt.title('corr score')\n",
    "sns.heatmap(df_train_eda01.corr(), linewidth = 0.1, vmax = 1.0, square = True, \\\n",
    "            cmap = colormap, linecolor = 'white', annot = True, annot_kws = {'size' : 16})"
   ]
  },
  {
   "cell_type": "code",
   "execution_count": 47,
   "metadata": {},
   "outputs": [
    {
     "name": "stdout",
     "output_type": "stream",
     "text": [
      "['trestbps', 'chol', 'thalach', 'oldpeak', 'slope', 'ca', 'target']\n",
      "thalach : 0.361, 1e-05\n",
      "oldpeak : -0.401, 0.0\n",
      "slope : 0.333, 3e-05\n",
      "ca : -0.515, 0.0\n",
      "target : 1.0, 0.0\n",
      "['thalach', 'oldpeak', 'slope', 'ca', 'target']\n"
     ]
    }
   ],
   "source": [
    "# target을 순위변수로 보았을때\n",
    "# 스피어만 상관계수 분석 실시\n",
    "from scipy import stats\n",
    "x_list = []\n",
    "print(val_list1)\n",
    "for col in val_list1:\n",
    "    if stats.spearmanr(df_train[col], df_train.target)[1] < 0.05:\n",
    "        x_list.append(col)\n",
    "        print(f'{col} : {round(stats.spearmanr(df_train[col], df_train.target)[0], 3)}, {round(stats.spearmanr(df_train[col], df_train.target)[1], 5)}')\n",
    "# 분석결과 : trestbps, chol은 연관성이 있다고 보기 어려움. 귀무가설 기각 불가\n",
    "print(x_list)"
   ]
  },
  {
   "cell_type": "code",
   "execution_count": 33,
   "metadata": {},
   "outputs": [
    {
     "name": "stdout",
     "output_type": "stream",
     "text": [
      "['sex', 'cp', 'fbs', 'restecg', 'exang', 'thal', 'age_gr']\n"
     ]
    }
   ],
   "source": [
    "print(val_list2)"
   ]
  },
  {
   "cell_type": "code",
   "execution_count": 44,
   "metadata": {},
   "outputs": [
    {
     "data": {
      "text/plain": [
       "50    62\n",
       "60    41\n",
       "40    35\n",
       "30     8\n",
       "70     5\n",
       "Name: age_gr, dtype: int64"
      ]
     },
     "execution_count": 44,
     "metadata": {},
     "output_type": "execute_result"
    }
   ],
   "source": [
    "df_train.age_gr.value_counts()"
   ]
  },
  {
   "cell_type": "code",
   "execution_count": 45,
   "metadata": {},
   "outputs": [
    {
     "data": {
      "text/plain": [
       "KruskalResult(statistic=10.4161563320734, pvalue=0.033971722484134416)"
      ]
     },
     "execution_count": 45,
     "metadata": {},
     "output_type": "execute_result"
    }
   ],
   "source": [
    "# 질적 변수들을 모두 명목변수로, target을 순위 변수로 보고 연관성 테스트\n",
    "# 크루스칼 왈리스 검정 실시 # 등분산성 및 정규성 검정은 미실시\n",
    "import statsmodels.api as sm\n",
    "from statsmodels.formula.api import ols\n",
    "\n",
    "# p-value가 0.05이하이므로 귀무가설(관계가 없다)기각 - sex는 관계가 있음\n",
    "stats.kruskal(df_train[df_train.sex == 0].target,\\\n",
    "              df_train[df_train.sex == 1].target)\n",
    "\n",
    "# p-value가 0.05이하이므로 귀무가설(관계가 없다)기각 - cp는 관계가 있음\n",
    "stats.kruskal(df_train[df_train.cp == 0].target, df_train[df_train.cp == 1].target,\\\n",
    "              df_train[df_train.cp == 2].target, df_train[df_train.cp == 3].target)\n",
    "\n",
    "# p-value가 0.05이상이므로 귀무가설(관계가 없다)기각불가 - fbs는 관계가 없음.\n",
    "stats.kruskal(df_train[df_train.fbs == 0].target,\\\n",
    "              df_train[df_train.fbs == 1].target)\n",
    "\n",
    "# restecg는 값이 2를 가지는 행이 1개밖에 존재하지 않음 - 추후 반영하여 분석실시\n",
    "# p-value가 0.05이상이므로 귀무가설(관계가 없다)기각불가 - restecg는 관계가 없음.\n",
    "stats.kruskal(df_train[df_train.restecg == 0].target, df_train[df_train.restecg == 1].target,\\\n",
    "              df_train[df_train.restecg == 2].target)\n",
    "\n",
    "# p-value가 0.05이하이므로 귀무가설(관계가 없다)기각 - exang는 관계가 있음\n",
    "stats.kruskal(df_train[df_train.exang == 0].target,\\\n",
    "              df_train[df_train.exang == 1].target)\n",
    "\n",
    "# p-value가 0.05이하이므로 귀무가설(관계가 없다)기각 - thal은 관계가 있음\n",
    "stats.kruskal(df_train[df_train.thal == 0].target, df_train[df_train.thal == 1].target,\\\n",
    "              df_train[df_train.thal == 2].target, df_train[df_train.thal == 3].target)   \n",
    "\n",
    "# p-value가 0.05이하이므로 귀무가설(관계가 없다)기각 - age_gr은 관계가 있음\n",
    "stats.kruskal(df_train[df_train.age_gr == 30].target, df_train[df_train.age_gr == 40].target,\\\n",
    "              df_train[df_train.age_gr == 60].target, df_train[df_train.age_gr == 70].target,\\\n",
    "              df_train[df_train.age_gr == 70].target)               "
   ]
  },
  {
   "cell_type": "code",
   "execution_count": 48,
   "metadata": {},
   "outputs": [
    {
     "data": {
      "text/plain": [
       "['thalach',\n",
       " 'oldpeak',\n",
       " 'slope',\n",
       " 'ca',\n",
       " 'target',\n",
       " 'sex',\n",
       " 'cp',\n",
       " 'exang',\n",
       " 'thal',\n",
       " 'age_gr']"
      ]
     },
     "execution_count": 48,
     "metadata": {},
     "output_type": "execute_result"
    }
   ],
   "source": [
    "x_list += ['sex', 'cp', 'exang', 'thal', 'age_gr']\n",
    "x_list"
   ]
  }
 ],
 "metadata": {
  "interpreter": {
   "hash": "fe3bab233825460445dbfeea6dcd52ef5815a3fa13c858fea07ac830aa383284"
  },
  "kernelspec": {
   "display_name": "Python 3.8.10 64-bit ('base': conda)",
   "language": "python",
   "name": "python3"
  },
  "language_info": {
   "codemirror_mode": {
    "name": "ipython",
    "version": 3
   },
   "file_extension": ".py",
   "mimetype": "text/x-python",
   "name": "python",
   "nbconvert_exporter": "python",
   "pygments_lexer": "ipython3",
   "version": "3.8.10"
  },
  "orig_nbformat": 4
 },
 "nbformat": 4,
 "nbformat_minor": 2
}
