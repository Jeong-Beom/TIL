{
 "cells": [
  {
   "cell_type": "code",
   "execution_count": 250,
   "metadata": {},
   "outputs": [],
   "source": [
    "import pandas as pd\n",
    "import matplotlib.pyplot as plt\n",
    "import seaborn as sns\n",
    "from matplotlib import patches\n",
    "%matplotlib inline\n",
    "import os\n",
    "import numpy as np\n",
    "import matplotlib as mpl\n",
    "import matplotlib.pyplot as plt\n",
    "import matplotlib.font_manager as fonm\n",
    "from matplotlib import font_manager, rc\n",
    "mpl.rcParams['axes.unicode_minus'] = False\n",
    "font_path = \"C:/Windows/Fonts/HMKMRHD.ttf\"\n",
    "font = fonm.FontProperties(fname=font_path).get_name()\n",
    "rc('font', family=font)"
   ]
  },
  {
   "cell_type": "code",
   "execution_count": 251,
   "metadata": {},
   "outputs": [
    {
     "data": {
      "text/plain": [
       "['sample_submission(0).csv',\n",
       " 'sample_submission(1).csv',\n",
       " 'sample_submission(2).csv',\n",
       " 'sample_submission(3).csv',\n",
       " 'sample_submission(3_statsmodel).csv',\n",
       " 'sample_submission.csv',\n",
       " 'test.csv',\n",
       " 'train.csv',\n",
       " 'train_Ch.csv',\n",
       " 'train_pred_sex.csv']"
      ]
     },
     "execution_count": 251,
     "metadata": {},
     "output_type": "execute_result"
    }
   ],
   "source": [
    "Basic_dir = os.path.dirname(os.path.dirname(os.path.realpath('EDA.ipynb')))\n",
    "PATH = Basic_dir + '\\\\Data\\\\Data(PenW_B)'\n",
    "os.listdir(PATH)"
   ]
  },
  {
   "cell_type": "code",
   "execution_count": 252,
   "metadata": {},
   "outputs": [
    {
     "data": {
      "text/html": [
       "<div>\n",
       "<style scoped>\n",
       "    .dataframe tbody tr th:only-of-type {\n",
       "        vertical-align: middle;\n",
       "    }\n",
       "\n",
       "    .dataframe tbody tr th {\n",
       "        vertical-align: top;\n",
       "    }\n",
       "\n",
       "    .dataframe thead th {\n",
       "        text-align: right;\n",
       "    }\n",
       "</style>\n",
       "<table border=\"1\" class=\"dataframe\">\n",
       "  <thead>\n",
       "    <tr style=\"text-align: right;\">\n",
       "      <th></th>\n",
       "      <th>id</th>\n",
       "      <th>Species</th>\n",
       "      <th>Island</th>\n",
       "      <th>Clutch Completion</th>\n",
       "      <th>Culmen Length (mm)</th>\n",
       "      <th>Culmen Depth (mm)</th>\n",
       "      <th>Flipper Length (mm)</th>\n",
       "      <th>Sex</th>\n",
       "      <th>Delta 15 N (o/oo)</th>\n",
       "      <th>Delta 13 C (o/oo)</th>\n",
       "      <th>Body Mass (g)</th>\n",
       "    </tr>\n",
       "  </thead>\n",
       "  <tbody>\n",
       "    <tr>\n",
       "      <th>0</th>\n",
       "      <td>0</td>\n",
       "      <td>Gentoo penguin (Pygoscelis papua)</td>\n",
       "      <td>Biscoe</td>\n",
       "      <td>Yes</td>\n",
       "      <td>50.0</td>\n",
       "      <td>15.3</td>\n",
       "      <td>220</td>\n",
       "      <td>MALE</td>\n",
       "      <td>8.30515</td>\n",
       "      <td>-25.19017</td>\n",
       "      <td>5550</td>\n",
       "    </tr>\n",
       "    <tr>\n",
       "      <th>1</th>\n",
       "      <td>1</td>\n",
       "      <td>Chinstrap penguin (Pygoscelis antarctica)</td>\n",
       "      <td>Dream</td>\n",
       "      <td>No</td>\n",
       "      <td>49.5</td>\n",
       "      <td>19.0</td>\n",
       "      <td>200</td>\n",
       "      <td>MALE</td>\n",
       "      <td>9.63074</td>\n",
       "      <td>-24.34684</td>\n",
       "      <td>3800</td>\n",
       "    </tr>\n",
       "    <tr>\n",
       "      <th>2</th>\n",
       "      <td>2</td>\n",
       "      <td>Gentoo penguin (Pygoscelis papua)</td>\n",
       "      <td>Biscoe</td>\n",
       "      <td>Yes</td>\n",
       "      <td>45.1</td>\n",
       "      <td>14.4</td>\n",
       "      <td>210</td>\n",
       "      <td>FEMALE</td>\n",
       "      <td>8.51951</td>\n",
       "      <td>-27.01854</td>\n",
       "      <td>4400</td>\n",
       "    </tr>\n",
       "    <tr>\n",
       "      <th>3</th>\n",
       "      <td>3</td>\n",
       "      <td>Gentoo penguin (Pygoscelis papua)</td>\n",
       "      <td>Biscoe</td>\n",
       "      <td>Yes</td>\n",
       "      <td>44.5</td>\n",
       "      <td>14.7</td>\n",
       "      <td>214</td>\n",
       "      <td>FEMALE</td>\n",
       "      <td>8.20106</td>\n",
       "      <td>-26.16524</td>\n",
       "      <td>4850</td>\n",
       "    </tr>\n",
       "    <tr>\n",
       "      <th>4</th>\n",
       "      <td>4</td>\n",
       "      <td>Gentoo penguin (Pygoscelis papua)</td>\n",
       "      <td>Biscoe</td>\n",
       "      <td>No</td>\n",
       "      <td>49.6</td>\n",
       "      <td>16.0</td>\n",
       "      <td>225</td>\n",
       "      <td>MALE</td>\n",
       "      <td>8.38324</td>\n",
       "      <td>-26.84272</td>\n",
       "      <td>5700</td>\n",
       "    </tr>\n",
       "  </tbody>\n",
       "</table>\n",
       "</div>"
      ],
      "text/plain": [
       "   id                                    Species  Island Clutch Completion  \\\n",
       "0   0          Gentoo penguin (Pygoscelis papua)  Biscoe               Yes   \n",
       "1   1  Chinstrap penguin (Pygoscelis antarctica)   Dream                No   \n",
       "2   2          Gentoo penguin (Pygoscelis papua)  Biscoe               Yes   \n",
       "3   3          Gentoo penguin (Pygoscelis papua)  Biscoe               Yes   \n",
       "4   4          Gentoo penguin (Pygoscelis papua)  Biscoe                No   \n",
       "\n",
       "   Culmen Length (mm)  Culmen Depth (mm)  Flipper Length (mm)     Sex  \\\n",
       "0                50.0               15.3                  220    MALE   \n",
       "1                49.5               19.0                  200    MALE   \n",
       "2                45.1               14.4                  210  FEMALE   \n",
       "3                44.5               14.7                  214  FEMALE   \n",
       "4                49.6               16.0                  225    MALE   \n",
       "\n",
       "   Delta 15 N (o/oo)  Delta 13 C (o/oo)  Body Mass (g)  \n",
       "0            8.30515          -25.19017           5550  \n",
       "1            9.63074          -24.34684           3800  \n",
       "2            8.51951          -27.01854           4400  \n",
       "3            8.20106          -26.16524           4850  \n",
       "4            8.38324          -26.84272           5700  "
      ]
     },
     "execution_count": 252,
     "metadata": {},
     "output_type": "execute_result"
    }
   ],
   "source": [
    "train = pd.read_csv(PATH + '\\\\train.csv')\n",
    "# train.drop(['Body Mass (g)'], axis = 1, inplace = True)\n",
    "train.head()"
   ]
  },
  {
   "cell_type": "code",
   "execution_count": 253,
   "metadata": {},
   "outputs": [
    {
     "name": "stdout",
     "output_type": "stream",
     "text": [
      "6\n",
      "8\n",
      "18\n",
      "70\n",
      "109\n"
     ]
    }
   ],
   "source": [
    "# 결측값이 있는 행\n",
    "for i in range(len((train.isna().sum(axis=1)>=1))):\n",
    "    if (train.isna().sum(axis=1)>=1)[i] == True:\n",
    "        print(i)"
   ]
  },
  {
   "cell_type": "code",
   "execution_count": 254,
   "metadata": {},
   "outputs": [],
   "source": [
    "# 누락값 상세 확인\n",
    "null_list = [6, 8, 18, 70, 109]\n",
    "train_null = train.iloc[null_list, :].reset_index(drop=True)"
   ]
  },
  {
   "cell_type": "markdown",
   "metadata": {},
   "source": [
    "이전 분석(EDA)에서 Species, Island, Clutch Completion은 Sex와 연관성이 없는 것으로 확인\n",
    "연속형 변수들과의 연관성 확인 필요"
   ]
  },
  {
   "cell_type": "code",
   "execution_count": 255,
   "metadata": {},
   "outputs": [],
   "source": [
    "# na 값 삭제\n",
    "train.dropna(inplace=True)\n",
    "train.reset_index(drop=True, inplace=True)"
   ]
  },
  {
   "cell_type": "code",
   "execution_count": 256,
   "metadata": {},
   "outputs": [
    {
     "data": {
      "text/plain": [
       "Species                  int64\n",
       "Island                   int64\n",
       "Clutch Completion        int64\n",
       "Culmen Length (mm)     float64\n",
       "Culmen Depth (mm)      float64\n",
       "Flipper Length (mm)      int64\n",
       "Sex                      int64\n",
       "Delta 15 N (o/oo)      float64\n",
       "Delta 13 C (o/oo)      float64\n",
       "Body Mass (g)            int64\n",
       "dtype: object"
      ]
     },
     "execution_count": 256,
     "metadata": {},
     "output_type": "execute_result"
    }
   ],
   "source": [
    "# 데이터 분석을 위한 원-핫 인코딩 \n",
    "sp_list = list(train.Species.unique())\n",
    "sp_index = [x for x in range(len(sp_list))]\n",
    "sp_dict = dict(zip(sp_list, sp_index)) \n",
    "train.Species = train.Species.apply(lambda x: sp_dict[x])\n",
    "\n",
    "land_list = list(train.Island.unique())\n",
    "land_index = [x for x in range(len(land_list))]\n",
    "land_dict = dict(zip(land_list, land_index)) \n",
    "train.Island = train.Island.apply(lambda x: land_dict[x])\n",
    "\n",
    "CC_list = list(train['Clutch Completion'].unique())\n",
    "CC_index = [x for x in range(len(CC_list))]\n",
    "CC_dict = dict(zip(CC_list, CC_index)) \n",
    "train['Clutch Completion'] = train['Clutch Completion'].apply(lambda x: CC_dict[x])\n",
    "\n",
    "sex_list = list(train.Sex.unique())\n",
    "sex_index = [x for x in range(len(sex_list))]\n",
    "sex_dict = dict(zip(sex_list, sex_index)) \n",
    "train.Sex = train.Sex.apply(lambda x: sex_dict[x])\n",
    "\n",
    "train.drop(['id'], axis=1, inplace=True)\n",
    "train.dtypes"
   ]
  },
  {
   "cell_type": "code",
   "execution_count": 257,
   "metadata": {},
   "outputs": [],
   "source": [
    "train.columns = ['Species', 'Island', 'Clutch Completion', 'Culmen_Length',\n",
    "                 'Culmen_Depth', 'Flipper_Length', 'Sex', 'Delta_15_N',\n",
    "                 'Delta_13_C', 'Body_Mass']"
   ]
  },
  {
   "cell_type": "code",
   "execution_count": 258,
   "metadata": {},
   "outputs": [
    {
     "name": "stdout",
     "output_type": "stream",
     "text": [
      "Culmen_Length: KruskalResult(statistic=12.188309936945336, pvalue=0.00048089932984587573)\n",
      "Delta_15_N: KruskalResult(statistic=1.9430670339760923, pvalue=0.16333590696422495)\n",
      "Delta_13_C: KruskalResult(statistic=1.1377777777777283, pvalue=0.28612238439102555)\n",
      "Culmen_Depth: KruskalResult(statistic=14.545073083944217, pvalue=0.0001368460352194139)\n",
      "Flipper_Length: KruskalResult(statistic=81.04092976250625, pvalue=2.2109079001869885e-19)\n"
     ]
    }
   ],
   "source": [
    "# 크루스칼 왈리스 검정 실시 # 등분산성 및 정규성 검정은 미실시\n",
    "from scipy import stats\n",
    "import statsmodels.api as sm\n",
    "from statsmodels.formula.api import ols\n",
    "\n",
    "print('Culmen_Length:', stats.kruskal(train[train.Sex == 0]['Culmen_Length'],\\\n",
    "              train[train.Sex == 1]['Culmen_Length']))\n",
    "\n",
    "print('Delta_15_N:', stats.kruskal(train[train.Sex == 0]['Delta_15_N'],\\\n",
    "              train[train.Sex == 1]['Delta_15_N']))    \n",
    "\n",
    "print('Delta_13_C:', stats.kruskal(train[train.Sex == 0]['Delta_13_C'],\\\n",
    "              train[train.Sex == 1]['Delta_13_C']))     \n",
    "\n",
    "print('Culmen_Depth:', stats.kruskal(train[train.Sex == 0]['Culmen_Depth'],\\\n",
    "              train[train.Sex == 1]['Culmen_Depth']))       \n",
    "\n",
    "print('Flipper_Length:', stats.kruskal(train[train.Sex == 0]['Culmen_Depth'],\\\n",
    "              train[train.Sex == 1]['Flipper_Length']))               \n",
    "\n",
    "# 성별과 Culmen_Depth, Culmen_Length, Flipper_Length는 연관성이 있음."
   ]
  },
  {
   "cell_type": "code",
   "execution_count": 259,
   "metadata": {},
   "outputs": [
    {
     "name": "stdout",
     "output_type": "stream",
     "text": [
      "              precision    recall  f1-score   support\n",
      "\n",
      "           0       0.85      0.76      0.81        38\n",
      "           1       0.83      0.90      0.86        49\n",
      "\n",
      "    accuracy                           0.84        87\n",
      "   macro avg       0.84      0.83      0.83        87\n",
      "weighted avg       0.84      0.84      0.84        87\n",
      "\n",
      "              precision    recall  f1-score   support\n",
      "\n",
      "           0       0.93      0.76      0.84        17\n",
      "           1       0.50      0.80      0.62         5\n",
      "\n",
      "    accuracy                           0.77        22\n",
      "   macro avg       0.71      0.78      0.73        22\n",
      "weighted avg       0.83      0.77      0.79        22\n",
      "\n"
     ]
    }
   ],
   "source": [
    "# 예측모델 작성 - 로지스틱 회귀\n",
    "from sklearn.metrics import classification_report, confusion_matrix\n",
    "from sklearn.model_selection import train_test_split\n",
    "from sklearn.linear_model import LogisticRegression\n",
    "val_list = ['Culmen_Depth', 'Culmen_Length', 'Flipper_Length']\n",
    "X_train, X_test, y_train, y_test = train_test_split(train[val_list], train[['Sex']], test_size = 0.2, random_state = 7)\n",
    "lr = LogisticRegression()\n",
    "lr.fit(X_train, list(y_train.Sex))\n",
    "# 성능평가(훈련)\n",
    "print(classification_report(y_train, lr.predict(X_train)))\n",
    "# 성능평가(훈련)\n",
    "print(classification_report(y_test, lr.predict(X_test)))"
   ]
  },
  {
   "cell_type": "code",
   "execution_count": 260,
   "metadata": {},
   "outputs": [
    {
     "name": "stdout",
     "output_type": "stream",
     "text": [
      "[[13  4]\n",
      " [ 1  4]]\n",
      "              precision    recall  f1-score   support\n",
      "\n",
      "           0       0.93      0.76      0.84        17\n",
      "           1       0.50      0.80      0.62         5\n",
      "\n",
      "    accuracy                           0.77        22\n",
      "   macro avg       0.71      0.78      0.73        22\n",
      "weighted avg       0.83      0.77      0.79        22\n",
      "\n"
     ]
    }
   ],
   "source": [
    "# 성능평가(훈련)\n",
    "print(confusion_matrix(y_test, lr.predict(X_test)))\n",
    "print(classification_report(y_test, lr.predict(X_test)))"
   ]
  },
  {
   "cell_type": "code",
   "execution_count": 261,
   "metadata": {},
   "outputs": [
    {
     "name": "stdout",
     "output_type": "stream",
     "text": [
      "              precision    recall  f1-score   support\n",
      "\n",
      "           0       1.00      1.00      1.00        38\n",
      "           1       1.00      1.00      1.00        49\n",
      "\n",
      "    accuracy                           1.00        87\n",
      "   macro avg       1.00      1.00      1.00        87\n",
      "weighted avg       1.00      1.00      1.00        87\n",
      "\n",
      "Accuracy : 100.0\n",
      "              precision    recall  f1-score   support\n",
      "\n",
      "           0       0.94      0.88      0.91        17\n",
      "           1       0.67      0.80      0.73         5\n",
      "\n",
      "    accuracy                           0.86        22\n",
      "   macro avg       0.80      0.84      0.82        22\n",
      "weighted avg       0.88      0.86      0.87        22\n",
      "\n",
      "Accuracy : 86.36363636363636\n"
     ]
    }
   ],
   "source": [
    "# KNN 모델\n",
    "from sklearn.neighbors import KNeighborsClassifier\n",
    "from sklearn.model_selection import train_test_split\n",
    "from sklearn.metrics import classification_report, confusion_matrix\n",
    "val_list = ['Culmen_Depth', 'Culmen_Length', 'Flipper_Length']\n",
    "X_train, X_test, y_train, y_test = train_test_split(train[val_list], train[['Sex']], test_size = 0.2, random_state = 7)\n",
    "from sklearn.metrics import accuracy_score\n",
    "n = 7\n",
    "neigh_n = KNeighborsClassifier(n_neighbors = n, weights = 'distance')\n",
    "neigh_n.fit(X_train, list(y_train.Sex))\n",
    "y_pred = neigh_n.predict(X_train)\n",
    "accuracy = accuracy_score(y_train, y_pred)\n",
    "print(classification_report(y_train, y_pred))\n",
    "print(f'Accuracy : {accuracy*100}')\n",
    "\n",
    "y_pred = neigh_n.predict(X_test)\n",
    "accuracy = accuracy_score(y_test, y_pred)\n",
    "print(classification_report(y_test, y_pred))\n",
    "print(f'Accuracy : {accuracy*100}')"
   ]
  },
  {
   "cell_type": "code",
   "execution_count": 262,
   "metadata": {},
   "outputs": [
    {
     "name": "stdout",
     "output_type": "stream",
     "text": [
      "              precision    recall  f1-score   support\n",
      "\n",
      "           0       1.00      1.00      1.00        38\n",
      "           1       1.00      1.00      1.00        49\n",
      "\n",
      "    accuracy                           1.00        87\n",
      "   macro avg       1.00      1.00      1.00        87\n",
      "weighted avg       1.00      1.00      1.00        87\n",
      "\n",
      "              precision    recall  f1-score   support\n",
      "\n",
      "           0       0.93      0.76      0.84        17\n",
      "           1       0.50      0.80      0.62         5\n",
      "\n",
      "    accuracy                           0.77        22\n",
      "   macro avg       0.71      0.78      0.73        22\n",
      "weighted avg       0.83      0.77      0.79        22\n",
      "\n"
     ]
    }
   ],
   "source": [
    "from sklearn.tree import DecisionTreeClassifier, plot_tree, export_text\n",
    "from sklearn.metrics import classification_report, confusion_matrix\n",
    "from sklearn.model_selection import train_test_split\n",
    "X_train, X_test, y_train, y_test = train_test_split(train[val_list], train[['Sex']], test_size = 0.2, random_state = 7)\n",
    "model = DecisionTreeClassifier()\n",
    "model.fit(X_train, list(y_train.Sex))\n",
    "# 학습데이터에 대한 성능평가\n",
    "# print(confusion_matrix(y_train, model.predict(X_train)))\n",
    "print(classification_report(y_train, model.predict(X_train)))\n",
    "# 훈련데이터에 대한 성능평가\n",
    "# print(confusion_matrix(y_train, model.predict(X_train)))\n",
    "print(classification_report(y_test, model.predict(X_test)))"
   ]
  },
  {
   "cell_type": "code",
   "execution_count": 263,
   "metadata": {},
   "outputs": [
    {
     "data": {
      "text/plain": [
       "(array([0, 1, 1, 1, 1]), array([0, 1, 1, 1, 1]), array([0, 1, 0, 1, 1]))"
      ]
     },
     "execution_count": 263,
     "metadata": {},
     "output_type": "execute_result"
    }
   ],
   "source": [
    "train_null.columns = ['id', 'Species', 'Island', 'Clutch Completion', 'Culmen_Length',\n",
    "                      'Culmen_Depth', 'Flipper_Length', 'Sex', 'Delta_15_N',\n",
    "                      'Delta_13_C', 'Body_Mass']\n",
    "train_null\n",
    "lr.predict(train_null[val_list]), neigh_n.predict(train_null[val_list]), model.predict(train_null[val_list])"
   ]
  },
  {
   "cell_type": "code",
   "execution_count": 264,
   "metadata": {},
   "outputs": [
    {
     "name": "stderr",
     "output_type": "stream",
     "text": [
      "<ipython-input-264-6b8f09619b22>:3: SettingWithCopyWarning: \n",
      "A value is trying to be set on a copy of a slice from a DataFrame\n",
      "\n",
      "See the caveats in the documentation: https://pandas.pydata.org/pandas-docs/stable/user_guide/indexing.html#returning-a-view-versus-a-copy\n",
      "  train_null.Sex[i] = pred_sex[i]\n"
     ]
    },
    {
     "data": {
      "text/html": [
       "<div>\n",
       "<style scoped>\n",
       "    .dataframe tbody tr th:only-of-type {\n",
       "        vertical-align: middle;\n",
       "    }\n",
       "\n",
       "    .dataframe tbody tr th {\n",
       "        vertical-align: top;\n",
       "    }\n",
       "\n",
       "    .dataframe thead th {\n",
       "        text-align: right;\n",
       "    }\n",
       "</style>\n",
       "<table border=\"1\" class=\"dataframe\">\n",
       "  <thead>\n",
       "    <tr style=\"text-align: right;\">\n",
       "      <th></th>\n",
       "      <th>Species</th>\n",
       "      <th>Island</th>\n",
       "      <th>Clutch Completion</th>\n",
       "      <th>Culmen_Length</th>\n",
       "      <th>Culmen_Depth</th>\n",
       "      <th>Flipper_Length</th>\n",
       "      <th>Sex</th>\n",
       "      <th>Delta_15_N</th>\n",
       "      <th>Delta_13_C</th>\n",
       "      <th>Body_Mass</th>\n",
       "    </tr>\n",
       "  </thead>\n",
       "  <tbody>\n",
       "    <tr>\n",
       "      <th>0</th>\n",
       "      <td>0</td>\n",
       "      <td>0</td>\n",
       "      <td>0</td>\n",
       "      <td>42.0</td>\n",
       "      <td>20.2</td>\n",
       "      <td>190</td>\n",
       "      <td>0</td>\n",
       "      <td>9.13362</td>\n",
       "      <td>-25.09368</td>\n",
       "      <td>4250</td>\n",
       "    </tr>\n",
       "    <tr>\n",
       "      <th>1</th>\n",
       "      <td>0</td>\n",
       "      <td>0</td>\n",
       "      <td>0</td>\n",
       "      <td>34.1</td>\n",
       "      <td>18.1</td>\n",
       "      <td>193</td>\n",
       "      <td>1</td>\n",
       "      <td>NaN</td>\n",
       "      <td>NaN</td>\n",
       "      <td>3475</td>\n",
       "    </tr>\n",
       "    <tr>\n",
       "      <th>2</th>\n",
       "      <td>0</td>\n",
       "      <td>1</td>\n",
       "      <td>1</td>\n",
       "      <td>39.8</td>\n",
       "      <td>19.1</td>\n",
       "      <td>184</td>\n",
       "      <td>1</td>\n",
       "      <td>NaN</td>\n",
       "      <td>NaN</td>\n",
       "      <td>4650</td>\n",
       "    </tr>\n",
       "    <tr>\n",
       "      <th>3</th>\n",
       "      <td>1</td>\n",
       "      <td>2</td>\n",
       "      <td>0</td>\n",
       "      <td>46.2</td>\n",
       "      <td>14.4</td>\n",
       "      <td>214</td>\n",
       "      <td>1</td>\n",
       "      <td>8.24253</td>\n",
       "      <td>-26.81540</td>\n",
       "      <td>4650</td>\n",
       "    </tr>\n",
       "    <tr>\n",
       "      <th>4</th>\n",
       "      <td>0</td>\n",
       "      <td>0</td>\n",
       "      <td>0</td>\n",
       "      <td>36.6</td>\n",
       "      <td>17.8</td>\n",
       "      <td>185</td>\n",
       "      <td>1</td>\n",
       "      <td>NaN</td>\n",
       "      <td>NaN</td>\n",
       "      <td>3700</td>\n",
       "    </tr>\n",
       "  </tbody>\n",
       "</table>\n",
       "</div>"
      ],
      "text/plain": [
       "   Species  Island  Clutch Completion  Culmen_Length  Culmen_Depth  \\\n",
       "0        0       0                  0           42.0          20.2   \n",
       "1        0       0                  0           34.1          18.1   \n",
       "2        0       1                  1           39.8          19.1   \n",
       "3        1       2                  0           46.2          14.4   \n",
       "4        0       0                  0           36.6          17.8   \n",
       "\n",
       "   Flipper_Length Sex  Delta_15_N  Delta_13_C  Body_Mass  \n",
       "0             190   0     9.13362   -25.09368       4250  \n",
       "1             193   1         NaN         NaN       3475  \n",
       "2             184   1         NaN         NaN       4650  \n",
       "3             214   1     8.24253   -26.81540       4650  \n",
       "4             185   1         NaN         NaN       3700  "
      ]
     },
     "execution_count": 264,
     "metadata": {},
     "output_type": "execute_result"
    }
   ],
   "source": [
    "pred_sex = neigh_n.predict(train_null[val_list])\n",
    "for i in range(len(pred_sex)):\n",
    "    train_null.Sex[i] = pred_sex[i]\n",
    "\n",
    "# 데이터 분석을 위한 원-핫 인코딩 \n",
    "sp_list = list(train_null.Species.unique())\n",
    "sp_index = [x for x in range(len(sp_list))]\n",
    "sp_dict = dict(zip(sp_list, sp_index)) \n",
    "train_null.Species = train_null.Species.apply(lambda x: sp_dict[x])\n",
    "\n",
    "land_list = list(train_null.Island.unique())\n",
    "land_index = [x for x in range(len(land_list))]\n",
    "land_dict = dict(zip(land_list, land_index)) \n",
    "train_null.Island = train_null.Island.apply(lambda x: land_dict[x])\n",
    "\n",
    "CC_list = list(train_null['Clutch Completion'].unique())\n",
    "CC_index = [x for x in range(len(CC_list))]\n",
    "CC_dict = dict(zip(CC_list, CC_index)) \n",
    "train_null['Clutch Completion'] = train_null['Clutch Completion'].apply(lambda x: CC_dict[x])\n",
    "\n",
    "train_null.drop(['id'], axis=1, inplace=True)\n",
    "train.dtypes\n",
    "train_null"
   ]
  },
  {
   "cell_type": "code",
   "execution_count": 265,
   "metadata": {},
   "outputs": [
    {
     "data": {
      "text/html": [
       "<div>\n",
       "<style scoped>\n",
       "    .dataframe tbody tr th:only-of-type {\n",
       "        vertical-align: middle;\n",
       "    }\n",
       "\n",
       "    .dataframe tbody tr th {\n",
       "        vertical-align: top;\n",
       "    }\n",
       "\n",
       "    .dataframe thead th {\n",
       "        text-align: right;\n",
       "    }\n",
       "</style>\n",
       "<table border=\"1\" class=\"dataframe\">\n",
       "  <thead>\n",
       "    <tr style=\"text-align: right;\">\n",
       "      <th></th>\n",
       "      <th>Species</th>\n",
       "      <th>Island</th>\n",
       "      <th>Clutch Completion</th>\n",
       "      <th>Culmen_Length</th>\n",
       "      <th>Culmen_Depth</th>\n",
       "      <th>Flipper_Length</th>\n",
       "      <th>Sex</th>\n",
       "      <th>Delta_15_N</th>\n",
       "      <th>Delta_13_C</th>\n",
       "      <th>Body_Mass</th>\n",
       "    </tr>\n",
       "  </thead>\n",
       "  <tbody>\n",
       "    <tr>\n",
       "      <th>0</th>\n",
       "      <td>0</td>\n",
       "      <td>0</td>\n",
       "      <td>0</td>\n",
       "      <td>50.0</td>\n",
       "      <td>15.3</td>\n",
       "      <td>220</td>\n",
       "      <td>0</td>\n",
       "      <td>8.30515</td>\n",
       "      <td>-25.19017</td>\n",
       "      <td>5550</td>\n",
       "    </tr>\n",
       "    <tr>\n",
       "      <th>1</th>\n",
       "      <td>1</td>\n",
       "      <td>1</td>\n",
       "      <td>1</td>\n",
       "      <td>49.5</td>\n",
       "      <td>19.0</td>\n",
       "      <td>200</td>\n",
       "      <td>0</td>\n",
       "      <td>9.63074</td>\n",
       "      <td>-24.34684</td>\n",
       "      <td>3800</td>\n",
       "    </tr>\n",
       "    <tr>\n",
       "      <th>2</th>\n",
       "      <td>0</td>\n",
       "      <td>0</td>\n",
       "      <td>0</td>\n",
       "      <td>45.1</td>\n",
       "      <td>14.4</td>\n",
       "      <td>210</td>\n",
       "      <td>1</td>\n",
       "      <td>8.51951</td>\n",
       "      <td>-27.01854</td>\n",
       "      <td>4400</td>\n",
       "    </tr>\n",
       "    <tr>\n",
       "      <th>3</th>\n",
       "      <td>0</td>\n",
       "      <td>0</td>\n",
       "      <td>0</td>\n",
       "      <td>44.5</td>\n",
       "      <td>14.7</td>\n",
       "      <td>214</td>\n",
       "      <td>1</td>\n",
       "      <td>8.20106</td>\n",
       "      <td>-26.16524</td>\n",
       "      <td>4850</td>\n",
       "    </tr>\n",
       "    <tr>\n",
       "      <th>4</th>\n",
       "      <td>0</td>\n",
       "      <td>0</td>\n",
       "      <td>1</td>\n",
       "      <td>49.6</td>\n",
       "      <td>16.0</td>\n",
       "      <td>225</td>\n",
       "      <td>0</td>\n",
       "      <td>8.38324</td>\n",
       "      <td>-26.84272</td>\n",
       "      <td>5700</td>\n",
       "    </tr>\n",
       "  </tbody>\n",
       "</table>\n",
       "</div>"
      ],
      "text/plain": [
       "   Species  Island  Clutch Completion  Culmen_Length  Culmen_Depth  \\\n",
       "0        0       0                  0           50.0          15.3   \n",
       "1        1       1                  1           49.5          19.0   \n",
       "2        0       0                  0           45.1          14.4   \n",
       "3        0       0                  0           44.5          14.7   \n",
       "4        0       0                  1           49.6          16.0   \n",
       "\n",
       "   Flipper_Length  Sex  Delta_15_N  Delta_13_C  Body_Mass  \n",
       "0             220    0     8.30515   -25.19017       5550  \n",
       "1             200    0     9.63074   -24.34684       3800  \n",
       "2             210    1     8.51951   -27.01854       4400  \n",
       "3             214    1     8.20106   -26.16524       4850  \n",
       "4             225    0     8.38324   -26.84272       5700  "
      ]
     },
     "execution_count": 265,
     "metadata": {},
     "output_type": "execute_result"
    }
   ],
   "source": [
    "train_pred_sex = pd.concat([train, train_null]).reset_index(drop=True)\n",
    "train_pred_sex.to_csv(PATH + '\\\\train_pred_sex.csv', index = False)\n",
    "pd.read_csv(PATH + '\\\\train_pred_sex.csv').head()"
   ]
  },
  {
   "cell_type": "code",
   "execution_count": 266,
   "metadata": {},
   "outputs": [
    {
     "name": "stdout",
     "output_type": "stream",
     "text": [
      "5084.574468085107 3756.0 3777.7027027027025\n",
      "8.277214680851063 9.4173136 8.865927297297297\n",
      "-26.257984468085105 -24.515759600000003 -25.84676567567568\n"
     ]
    }
   ],
   "source": [
    "print(train[train.Species == 0].Body_Mass.mean(), train[train.Species == 1].Body_Mass.mean(), train[train.Species == 2].Body_Mass.mean())\n",
    "print(train[train.Species == 0].Delta_15_N.mean(), train[train.Species == 1].Delta_15_N.mean(), train[train.Species == 2].Delta_15_N.mean())\n",
    "print(train[train.Species == 0].Delta_13_C.mean(), train[train.Species == 1].Delta_13_C.mean(), train[train.Species == 2].Delta_13_C.mean())\n",
    "Speices0_D15N = train[train.Species == 0].Delta_15_N.mean()\n",
    "Speices0_D13C = train[train.Species == 0].Delta_13_C.mean()"
   ]
  },
  {
   "cell_type": "code",
   "execution_count": null,
   "metadata": {},
   "outputs": [],
   "source": [
    "train = pd.read_csv(PATH + '\\\\train_pred_sex.csv')\n",
    "# 결측값이 있는 행\n",
    "null_list = []\n",
    "for i in range(len((train.isna().sum(axis=1)>=1))):\n",
    "    if (train.isna().sum(axis=1)>=1)[i] == True:\n",
    "        null_list.append(i)\n",
    "for i in null_list:\n",
    "    train.Delta_15_N[i] = Speices0_D15N\n",
    "    train.Delta_13_C[i] = Speices0_D13C\n",
    "train.isna().sum()"
   ]
  },
  {
   "cell_type": "code",
   "execution_count": 268,
   "metadata": {},
   "outputs": [
    {
     "data": {
      "text/plain": [
       "Species              0\n",
       "Island               0\n",
       "Clutch Completion    0\n",
       "Culmen_Length        0\n",
       "Culmen_Depth         0\n",
       "Flipper_Length       0\n",
       "Sex                  0\n",
       "Delta_15_N           0\n",
       "Delta_13_C           0\n",
       "Body_Mass            0\n",
       "dtype: int64"
      ]
     },
     "execution_count": 268,
     "metadata": {},
     "output_type": "execute_result"
    }
   ],
   "source": [
    "train.to_csv(PATH + '\\\\train_Ch.csv', index = False)\n",
    "pd.read_csv(PATH + '\\\\train_Ch.csv').isna().sum()"
   ]
  },
  {
   "cell_type": "code",
   "execution_count": 282,
   "metadata": {},
   "outputs": [
    {
     "name": "stdout",
     "output_type": "stream",
     "text": [
      "9.319750714285718 8.225130405405409 8.854848446601938\n",
      "-24.5644388372093 -26.130616891891886 -25.795799126213588\n"
     ]
    },
    {
     "name": "stderr",
     "output_type": "stream",
     "text": [
      "<ipython-input-282-aa6800c6d419>:38: SettingWithCopyWarning: \n",
      "A value is trying to be set on a copy of a slice from a DataFrame\n",
      "\n",
      "See the caveats in the documentation: https://pandas.pydata.org/pandas-docs/stable/user_guide/indexing.html#returning-a-view-versus-a-copy\n",
      "  test.Sex[i] = pred[k]\n"
     ]
    },
    {
     "data": {
      "text/html": [
       "<div>\n",
       "<style scoped>\n",
       "    .dataframe tbody tr th:only-of-type {\n",
       "        vertical-align: middle;\n",
       "    }\n",
       "\n",
       "    .dataframe tbody tr th {\n",
       "        vertical-align: top;\n",
       "    }\n",
       "\n",
       "    .dataframe thead th {\n",
       "        text-align: right;\n",
       "    }\n",
       "</style>\n",
       "<table border=\"1\" class=\"dataframe\">\n",
       "  <thead>\n",
       "    <tr style=\"text-align: right;\">\n",
       "      <th></th>\n",
       "      <th>id</th>\n",
       "      <th>Species</th>\n",
       "      <th>Island</th>\n",
       "      <th>Clutch Completion</th>\n",
       "      <th>Culmen_Length</th>\n",
       "      <th>Culmen_Depth</th>\n",
       "      <th>Flipper_Length</th>\n",
       "      <th>Sex</th>\n",
       "      <th>Delta_15_N</th>\n",
       "      <th>Delta_13_C</th>\n",
       "    </tr>\n",
       "  </thead>\n",
       "  <tbody>\n",
       "    <tr>\n",
       "      <th>46</th>\n",
       "      <td>46</td>\n",
       "      <td>2</td>\n",
       "      <td>2</td>\n",
       "      <td>0</td>\n",
       "      <td>37.8</td>\n",
       "      <td>17.1</td>\n",
       "      <td>186.0</td>\n",
       "      <td>1</td>\n",
       "      <td>8.63243</td>\n",
       "      <td>-25.21315</td>\n",
       "    </tr>\n",
       "    <tr>\n",
       "      <th>81</th>\n",
       "      <td>81</td>\n",
       "      <td>2</td>\n",
       "      <td>0</td>\n",
       "      <td>0</td>\n",
       "      <td>37.5</td>\n",
       "      <td>18.9</td>\n",
       "      <td>179.0</td>\n",
       "      <td>1</td>\n",
       "      <td>NaN</td>\n",
       "      <td>NaN</td>\n",
       "    </tr>\n",
       "    <tr>\n",
       "      <th>98</th>\n",
       "      <td>98</td>\n",
       "      <td>1</td>\n",
       "      <td>1</td>\n",
       "      <td>0</td>\n",
       "      <td>47.3</td>\n",
       "      <td>13.8</td>\n",
       "      <td>216.0</td>\n",
       "      <td>1</td>\n",
       "      <td>8.25818</td>\n",
       "      <td>-26.23886</td>\n",
       "    </tr>\n",
       "    <tr>\n",
       "      <th>152</th>\n",
       "      <td>152</td>\n",
       "      <td>1</td>\n",
       "      <td>1</td>\n",
       "      <td>0</td>\n",
       "      <td>44.5</td>\n",
       "      <td>15.7</td>\n",
       "      <td>217.0</td>\n",
       "      <td>1</td>\n",
       "      <td>8.04111</td>\n",
       "      <td>-26.18444</td>\n",
       "    </tr>\n",
       "    <tr>\n",
       "      <th>205</th>\n",
       "      <td>205</td>\n",
       "      <td>2</td>\n",
       "      <td>2</td>\n",
       "      <td>0</td>\n",
       "      <td>37.8</td>\n",
       "      <td>17.3</td>\n",
       "      <td>180.0</td>\n",
       "      <td>1</td>\n",
       "      <td>NaN</td>\n",
       "      <td>NaN</td>\n",
       "    </tr>\n",
       "    <tr>\n",
       "      <th>209</th>\n",
       "      <td>209</td>\n",
       "      <td>1</td>\n",
       "      <td>1</td>\n",
       "      <td>0</td>\n",
       "      <td>44.5</td>\n",
       "      <td>14.3</td>\n",
       "      <td>216.0</td>\n",
       "      <td>1</td>\n",
       "      <td>7.96621</td>\n",
       "      <td>-25.69327</td>\n",
       "    </tr>\n",
       "  </tbody>\n",
       "</table>\n",
       "</div>"
      ],
      "text/plain": [
       "      id  Species  Island  Clutch Completion  Culmen_Length  Culmen_Depth  \\\n",
       "46    46        2       2                  0           37.8          17.1   \n",
       "81    81        2       0                  0           37.5          18.9   \n",
       "98    98        1       1                  0           47.3          13.8   \n",
       "152  152        1       1                  0           44.5          15.7   \n",
       "205  205        2       2                  0           37.8          17.3   \n",
       "209  209        1       1                  0           44.5          14.3   \n",
       "\n",
       "     Flipper_Length  Sex  Delta_15_N  Delta_13_C  \n",
       "46            186.0    1     8.63243   -25.21315  \n",
       "81            179.0    1         NaN         NaN  \n",
       "98            216.0    1     8.25818   -26.23886  \n",
       "152           217.0    1     8.04111   -26.18444  \n",
       "205           180.0    1         NaN         NaN  \n",
       "209           216.0    1     7.96621   -25.69327  "
      ]
     },
     "execution_count": 282,
     "metadata": {},
     "output_type": "execute_result"
    }
   ],
   "source": [
    "test = pd.read_csv(PATH + '\\\\test.csv')\n",
    "test.Sex = test.Sex.apply(lambda x: str(x))\n",
    "null_id = []\n",
    "for i in range(len(test)):\n",
    "    if test.Sex[i] == 'nan':\n",
    "        null_id.append(test.id[i])\n",
    "test.iloc[null_id, :]\n",
    "test.columns = ['id', 'Species', 'Island', 'Clutch Completion', 'Culmen_Length',\n",
    "                      'Culmen_Depth', 'Flipper_Length', 'Sex', 'Delta_15_N',\n",
    "                      'Delta_13_C']\n",
    "\n",
    "# 데이터 분석을 위한 원-핫 인코딩 \n",
    "sp_list = list(test.Species.unique())\n",
    "sp_index = [x for x in range(len(sp_list))]\n",
    "sp_dict = dict(zip(sp_list, sp_index)) \n",
    "test.Species = test.Species.apply(lambda x: sp_dict[x])\n",
    "\n",
    "land_list = list(test.Island.unique())\n",
    "land_index = [x for x in range(len(land_list))]\n",
    "land_dict = dict(zip(land_list, land_index)) \n",
    "test.Island = test.Island.apply(lambda x: land_dict[x])\n",
    "\n",
    "CC_list = list(test['Clutch Completion'].unique())\n",
    "CC_index = [x for x in range(len(CC_list))]\n",
    "CC_dict = dict(zip(CC_list, CC_index)) \n",
    "test['Clutch Completion'] = test['Clutch Completion'].apply(lambda x: CC_dict[x])\n",
    "\n",
    "sex_list = list(test.Sex.unique())\n",
    "sex_index = [x for x in range(len(sex_list))]\n",
    "sex_dict = dict(zip(sex_list, sex_index)) \n",
    "test.Sex = test.Sex.apply(lambda x: sex_dict[x])\n",
    "\n",
    "print(test[test.Species == 0].Delta_15_N.mean(), test[test.Species == 1].Delta_15_N.mean(), test[test.Species == 2].Delta_15_N.mean())\n",
    "print(test[test.Species == 0].Delta_13_C.mean(), test[test.Species == 1].Delta_13_C.mean(), test[test.Species == 2].Delta_13_C.mean())\n",
    "pred = neigh_n.predict(test.iloc[null_id,:][val_list])\n",
    "for i in null_id:\n",
    "    k = 0\n",
    "    test.Sex[i] = pred[k]\n",
    "    k += 1\n",
    "test.iloc[null_id,:]"
   ]
  },
  {
   "cell_type": "code",
   "execution_count": 306,
   "metadata": {},
   "outputs": [],
   "source": [
    "test['Delta_15_N'].fillna(test['Delta_15_N'].mean(), inplace=True)\n",
    "test['Delta_13_C'].fillna(test['Delta_13_C'].mean(), inplace=True)"
   ]
  },
  {
   "cell_type": "code",
   "execution_count": 307,
   "metadata": {},
   "outputs": [
    {
     "data": {
      "text/plain": [
       "id                   0\n",
       "Species              0\n",
       "Island               0\n",
       "Clutch Completion    0\n",
       "Culmen_Length        0\n",
       "Culmen_Depth         0\n",
       "Flipper_Length       0\n",
       "Sex                  0\n",
       "Delta_15_N           0\n",
       "Delta_13_C           0\n",
       "dtype: int64"
      ]
     },
     "execution_count": 307,
     "metadata": {},
     "output_type": "execute_result"
    }
   ],
   "source": [
    "test.isna().sum()"
   ]
  },
  {
   "cell_type": "code",
   "execution_count": 308,
   "metadata": {},
   "outputs": [
    {
     "data": {
      "text/plain": [
       "id                   0\n",
       "Species              0\n",
       "Island               0\n",
       "Clutch Completion    0\n",
       "Culmen_Length        0\n",
       "Culmen_Depth         0\n",
       "Flipper_Length       0\n",
       "Sex                  0\n",
       "Delta_15_N           0\n",
       "Delta_13_C           0\n",
       "dtype: int64"
      ]
     },
     "execution_count": 308,
     "metadata": {},
     "output_type": "execute_result"
    }
   ],
   "source": [
    "test.to_csv(PATH + '\\\\test_Ch.csv', index = False)\n",
    "pd.read_csv(PATH + '\\\\test_Ch.csv').isna().sum()"
   ]
  }
 ],
 "metadata": {
  "interpreter": {
   "hash": "fe3bab233825460445dbfeea6dcd52ef5815a3fa13c858fea07ac830aa383284"
  },
  "kernelspec": {
   "display_name": "Python 3.8.10 64-bit ('base': conda)",
   "language": "python",
   "name": "python3"
  },
  "language_info": {
   "codemirror_mode": {
    "name": "ipython",
    "version": 3
   },
   "file_extension": ".py",
   "mimetype": "text/x-python",
   "name": "python",
   "nbconvert_exporter": "python",
   "pygments_lexer": "ipython3",
   "version": "3.8.10"
  },
  "orig_nbformat": 4
 },
 "nbformat": 4,
 "nbformat_minor": 2
}
