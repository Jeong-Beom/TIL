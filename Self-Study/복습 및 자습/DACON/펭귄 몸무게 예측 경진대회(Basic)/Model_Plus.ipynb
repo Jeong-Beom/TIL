{
 "cells": [
  {
   "cell_type": "code",
   "execution_count": 1,
   "metadata": {},
   "outputs": [],
   "source": [
    "import pandas as pd\n",
    "import matplotlib.pyplot as plt\n",
    "import seaborn as sns\n",
    "from matplotlib import patches\n",
    "%matplotlib inline\n",
    "import os\n",
    "import numpy as np\n",
    "import matplotlib as mpl\n",
    "import matplotlib.pyplot as plt\n",
    "import matplotlib.font_manager as fonm\n",
    "from matplotlib import font_manager, rc\n",
    "mpl.rcParams['axes.unicode_minus'] = False\n",
    "font_path = \"C:/Windows/Fonts/HMKMRHD.ttf\"\n",
    "font = fonm.FontProperties(fname=font_path).get_name()\n",
    "rc('font', family=font)"
   ]
  },
  {
   "cell_type": "code",
   "execution_count": 2,
   "metadata": {},
   "outputs": [
    {
     "data": {
      "text/plain": [
       "['sample_submission(0).csv',\n",
       " 'sample_submission(1).csv',\n",
       " 'sample_submission(2).csv',\n",
       " 'sample_submission(3).csv',\n",
       " 'sample_submission(3_statsmodel).csv',\n",
       " 'sample_submission(4_lR).csv',\n",
       " 'sample_submission.csv',\n",
       " 'test.csv',\n",
       " 'test_Ch.csv',\n",
       " 'train.csv',\n",
       " 'train_Ch.csv',\n",
       " 'train_pred_sex.csv']"
      ]
     },
     "execution_count": 2,
     "metadata": {},
     "output_type": "execute_result"
    }
   ],
   "source": [
    "Basic_dir = os.path.dirname(os.path.dirname(os.path.realpath('EDA.ipynb')))\n",
    "PATH = Basic_dir + '\\\\Data\\\\Data(PenW_B)'\n",
    "os.listdir(PATH)"
   ]
  },
  {
   "cell_type": "code",
   "execution_count": 3,
   "metadata": {},
   "outputs": [
    {
     "name": "stdout",
     "output_type": "stream",
     "text": [
      "0\n"
     ]
    },
    {
     "data": {
      "text/html": [
       "<div>\n",
       "<style scoped>\n",
       "    .dataframe tbody tr th:only-of-type {\n",
       "        vertical-align: middle;\n",
       "    }\n",
       "\n",
       "    .dataframe tbody tr th {\n",
       "        vertical-align: top;\n",
       "    }\n",
       "\n",
       "    .dataframe thead th {\n",
       "        text-align: right;\n",
       "    }\n",
       "</style>\n",
       "<table border=\"1\" class=\"dataframe\">\n",
       "  <thead>\n",
       "    <tr style=\"text-align: right;\">\n",
       "      <th></th>\n",
       "      <th>Species</th>\n",
       "      <th>Island</th>\n",
       "      <th>Clutch Completion</th>\n",
       "      <th>Culmen_Length</th>\n",
       "      <th>Culmen_Depth</th>\n",
       "      <th>Flipper_Length</th>\n",
       "      <th>Sex</th>\n",
       "      <th>Delta_15_N</th>\n",
       "      <th>Delta_13_C</th>\n",
       "      <th>Body_Mass</th>\n",
       "    </tr>\n",
       "  </thead>\n",
       "  <tbody>\n",
       "    <tr>\n",
       "      <th>0</th>\n",
       "      <td>0</td>\n",
       "      <td>0</td>\n",
       "      <td>0</td>\n",
       "      <td>50.0</td>\n",
       "      <td>15.3</td>\n",
       "      <td>220</td>\n",
       "      <td>0</td>\n",
       "      <td>8.30515</td>\n",
       "      <td>-25.19017</td>\n",
       "      <td>5550</td>\n",
       "    </tr>\n",
       "    <tr>\n",
       "      <th>1</th>\n",
       "      <td>1</td>\n",
       "      <td>1</td>\n",
       "      <td>1</td>\n",
       "      <td>49.5</td>\n",
       "      <td>19.0</td>\n",
       "      <td>200</td>\n",
       "      <td>0</td>\n",
       "      <td>9.63074</td>\n",
       "      <td>-24.34684</td>\n",
       "      <td>3800</td>\n",
       "    </tr>\n",
       "    <tr>\n",
       "      <th>2</th>\n",
       "      <td>0</td>\n",
       "      <td>0</td>\n",
       "      <td>0</td>\n",
       "      <td>45.1</td>\n",
       "      <td>14.4</td>\n",
       "      <td>210</td>\n",
       "      <td>1</td>\n",
       "      <td>8.51951</td>\n",
       "      <td>-27.01854</td>\n",
       "      <td>4400</td>\n",
       "    </tr>\n",
       "    <tr>\n",
       "      <th>3</th>\n",
       "      <td>0</td>\n",
       "      <td>0</td>\n",
       "      <td>0</td>\n",
       "      <td>44.5</td>\n",
       "      <td>14.7</td>\n",
       "      <td>214</td>\n",
       "      <td>1</td>\n",
       "      <td>8.20106</td>\n",
       "      <td>-26.16524</td>\n",
       "      <td>4850</td>\n",
       "    </tr>\n",
       "    <tr>\n",
       "      <th>4</th>\n",
       "      <td>0</td>\n",
       "      <td>0</td>\n",
       "      <td>1</td>\n",
       "      <td>49.6</td>\n",
       "      <td>16.0</td>\n",
       "      <td>225</td>\n",
       "      <td>0</td>\n",
       "      <td>8.38324</td>\n",
       "      <td>-26.84272</td>\n",
       "      <td>5700</td>\n",
       "    </tr>\n",
       "  </tbody>\n",
       "</table>\n",
       "</div>"
      ],
      "text/plain": [
       "   Species  Island  Clutch Completion  Culmen_Length  Culmen_Depth  \\\n",
       "0        0       0                  0           50.0          15.3   \n",
       "1        1       1                  1           49.5          19.0   \n",
       "2        0       0                  0           45.1          14.4   \n",
       "3        0       0                  0           44.5          14.7   \n",
       "4        0       0                  1           49.6          16.0   \n",
       "\n",
       "   Flipper_Length  Sex  Delta_15_N  Delta_13_C  Body_Mass  \n",
       "0             220    0     8.30515   -25.19017       5550  \n",
       "1             200    0     9.63074   -24.34684       3800  \n",
       "2             210    1     8.51951   -27.01854       4400  \n",
       "3             214    1     8.20106   -26.16524       4850  \n",
       "4             225    0     8.38324   -26.84272       5700  "
      ]
     },
     "execution_count": 3,
     "metadata": {},
     "output_type": "execute_result"
    }
   ],
   "source": [
    "train = pd.read_csv(PATH + '\\\\train_Ch.csv')\n",
    "print(train.isna().sum().sum())\n",
    "train.head()"
   ]
  },
  {
   "cell_type": "code",
   "execution_count": 4,
   "metadata": {},
   "outputs": [
    {
     "name": "stdout",
     "output_type": "stream",
     "text": [
      "0\n"
     ]
    },
    {
     "data": {
      "text/html": [
       "<div>\n",
       "<style scoped>\n",
       "    .dataframe tbody tr th:only-of-type {\n",
       "        vertical-align: middle;\n",
       "    }\n",
       "\n",
       "    .dataframe tbody tr th {\n",
       "        vertical-align: top;\n",
       "    }\n",
       "\n",
       "    .dataframe thead th {\n",
       "        text-align: right;\n",
       "    }\n",
       "</style>\n",
       "<table border=\"1\" class=\"dataframe\">\n",
       "  <thead>\n",
       "    <tr style=\"text-align: right;\">\n",
       "      <th></th>\n",
       "      <th>id</th>\n",
       "      <th>Species</th>\n",
       "      <th>Island</th>\n",
       "      <th>Clutch Completion</th>\n",
       "      <th>Culmen_Length</th>\n",
       "      <th>Culmen_Depth</th>\n",
       "      <th>Flipper_Length</th>\n",
       "      <th>Sex</th>\n",
       "      <th>Delta_15_N</th>\n",
       "      <th>Delta_13_C</th>\n",
       "    </tr>\n",
       "  </thead>\n",
       "  <tbody>\n",
       "    <tr>\n",
       "      <th>0</th>\n",
       "      <td>0</td>\n",
       "      <td>0</td>\n",
       "      <td>0</td>\n",
       "      <td>0</td>\n",
       "      <td>52.0</td>\n",
       "      <td>20.7</td>\n",
       "      <td>210.0</td>\n",
       "      <td>0</td>\n",
       "      <td>9.43146</td>\n",
       "      <td>-24.68440</td>\n",
       "    </tr>\n",
       "    <tr>\n",
       "      <th>1</th>\n",
       "      <td>1</td>\n",
       "      <td>1</td>\n",
       "      <td>1</td>\n",
       "      <td>0</td>\n",
       "      <td>55.9</td>\n",
       "      <td>17.0</td>\n",
       "      <td>228.0</td>\n",
       "      <td>0</td>\n",
       "      <td>8.31180</td>\n",
       "      <td>-26.35425</td>\n",
       "    </tr>\n",
       "    <tr>\n",
       "      <th>2</th>\n",
       "      <td>2</td>\n",
       "      <td>2</td>\n",
       "      <td>0</td>\n",
       "      <td>0</td>\n",
       "      <td>38.9</td>\n",
       "      <td>18.8</td>\n",
       "      <td>190.0</td>\n",
       "      <td>1</td>\n",
       "      <td>8.36936</td>\n",
       "      <td>-26.11199</td>\n",
       "    </tr>\n",
       "    <tr>\n",
       "      <th>3</th>\n",
       "      <td>3</td>\n",
       "      <td>0</td>\n",
       "      <td>0</td>\n",
       "      <td>0</td>\n",
       "      <td>45.2</td>\n",
       "      <td>16.6</td>\n",
       "      <td>191.0</td>\n",
       "      <td>1</td>\n",
       "      <td>9.62357</td>\n",
       "      <td>-24.78984</td>\n",
       "    </tr>\n",
       "    <tr>\n",
       "      <th>4</th>\n",
       "      <td>4</td>\n",
       "      <td>2</td>\n",
       "      <td>1</td>\n",
       "      <td>1</td>\n",
       "      <td>37.9</td>\n",
       "      <td>18.6</td>\n",
       "      <td>172.0</td>\n",
       "      <td>1</td>\n",
       "      <td>8.38404</td>\n",
       "      <td>-25.19837</td>\n",
       "    </tr>\n",
       "  </tbody>\n",
       "</table>\n",
       "</div>"
      ],
      "text/plain": [
       "   id  Species  Island  Clutch Completion  Culmen_Length  Culmen_Depth  \\\n",
       "0   0        0       0                  0           52.0          20.7   \n",
       "1   1        1       1                  0           55.9          17.0   \n",
       "2   2        2       0                  0           38.9          18.8   \n",
       "3   3        0       0                  0           45.2          16.6   \n",
       "4   4        2       1                  1           37.9          18.6   \n",
       "\n",
       "   Flipper_Length  Sex  Delta_15_N  Delta_13_C  \n",
       "0           210.0    0     9.43146   -24.68440  \n",
       "1           228.0    0     8.31180   -26.35425  \n",
       "2           190.0    1     8.36936   -26.11199  \n",
       "3           191.0    1     9.62357   -24.78984  \n",
       "4           172.0    1     8.38404   -25.19837  "
      ]
     },
     "execution_count": 4,
     "metadata": {},
     "output_type": "execute_result"
    }
   ],
   "source": [
    "test = pd.read_csv(PATH + '\\\\test_Ch.csv')\n",
    "print(test.isna().sum().sum())\n",
    "test.head()"
   ]
  },
  {
   "cell_type": "code",
   "execution_count": 63,
   "metadata": {},
   "outputs": [
    {
     "name": "stdout",
     "output_type": "stream",
     "text": [
      "[  26.01750618 -199.41778763 -514.52791806 -321.74699639]\n"
     ]
    }
   ],
   "source": [
    "from sklearn.linear_model import LinearRegression\n",
    "x_list = ['Flipper_Length', 'Species', 'Sex', 'Delta_15_N'] # (2) - (2) > (1) / intercept = False\n",
    "lm = LinearRegression(fit_intercept = True)\n",
    "lm.fit(train[x_list], train.Body_Mass)\n",
    "print(lm.coef_)"
   ]
  },
  {
   "cell_type": "code",
   "execution_count": 64,
   "metadata": {},
   "outputs": [
    {
     "data": {
      "text/plain": [
       "313.2376110744561"
      ]
     },
     "execution_count": 64,
     "metadata": {},
     "output_type": "execute_result"
    }
   ],
   "source": [
    "def RMSE(true, pred):\n",
    "    score = np.sqrt(np.mean(np.square(true-pred)))\n",
    "    return score\n",
    "\n",
    "RMSE(lm.predict(train[x_list]), train.Body_Mass)"
   ]
  },
  {
   "cell_type": "code",
   "execution_count": 67,
   "metadata": {},
   "outputs": [
    {
     "data": {
      "text/html": [
       "<div>\n",
       "<style scoped>\n",
       "    .dataframe tbody tr th:only-of-type {\n",
       "        vertical-align: middle;\n",
       "    }\n",
       "\n",
       "    .dataframe tbody tr th {\n",
       "        vertical-align: top;\n",
       "    }\n",
       "\n",
       "    .dataframe thead th {\n",
       "        text-align: right;\n",
       "    }\n",
       "</style>\n",
       "<table border=\"1\" class=\"dataframe\">\n",
       "  <thead>\n",
       "    <tr style=\"text-align: right;\">\n",
       "      <th></th>\n",
       "      <th>id</th>\n",
       "      <th>Body Mass (g)</th>\n",
       "    </tr>\n",
       "  </thead>\n",
       "  <tbody>\n",
       "    <tr>\n",
       "      <th>0</th>\n",
       "      <td>0</td>\n",
       "      <td>4718.174555</td>\n",
       "    </tr>\n",
       "    <tr>\n",
       "      <th>1</th>\n",
       "      <td>1</td>\n",
       "      <td>5347.319120</td>\n",
       "    </tr>\n",
       "    <tr>\n",
       "      <th>2</th>\n",
       "      <td>2</td>\n",
       "      <td>3626.188423</td>\n",
       "    </tr>\n",
       "    <tr>\n",
       "      <th>3</th>\n",
       "      <td>3</td>\n",
       "      <td>3647.503204</td>\n",
       "    </tr>\n",
       "    <tr>\n",
       "      <th>4</th>\n",
       "      <td>4</td>\n",
       "      <td>3153.150066</td>\n",
       "    </tr>\n",
       "  </tbody>\n",
       "</table>\n",
       "</div>"
      ],
      "text/plain": [
       "   id  Body Mass (g)\n",
       "0   0    4718.174555\n",
       "1   1    5347.319120\n",
       "2   2    3626.188423\n",
       "3   3    3647.503204\n",
       "4   4    3153.150066"
      ]
     },
     "execution_count": 67,
     "metadata": {},
     "output_type": "execute_result"
    }
   ],
   "source": [
    "# 정답파일 작성\n",
    "predict = pd.read_csv(PATH + '\\\\sample_submission.csv')\n",
    "len(predict), len(test)\n",
    "predict['Body Mass (g)'] = lm.predict(test[x_list])\n",
    "predict.head()\n",
    "# predict.to_csv(PATH + '\\\\sample_submission(4_lR).csv', index = False)\n",
    "# pd.read_csv(PATH + '\\\\sample_submission(4_lR).csv').head()"
   ]
  },
  {
   "cell_type": "code",
   "execution_count": 70,
   "metadata": {},
   "outputs": [
    {
     "name": "stdout",
     "output_type": "stream",
     "text": [
      "[-150.39601243  -97.66366564   26.68304562    2.75855648  -17.98218569\n",
      "   23.38474673 -539.91366665 -293.97716574  -20.3724633 ]\n"
     ]
    },
    {
     "data": {
      "text/plain": [
       "308.5321137964769"
      ]
     },
     "execution_count": 70,
     "metadata": {},
     "output_type": "execute_result"
    }
   ],
   "source": [
    "lm = LinearRegression(fit_intercept = True)\n",
    "lm.fit(train.drop(['Body_Mass'], axis = 1), train.Body_Mass)\n",
    "print(lm.coef_)\n",
    "RMSE(lm.predict(train.drop(['Body_Mass'], axis = 1)), train.Body_Mass)"
   ]
  },
  {
   "cell_type": "code",
   "execution_count": 8,
   "metadata": {},
   "outputs": [
    {
     "data": {
      "text/html": [
       "<table class=\"simpletable\">\n",
       "<caption>OLS Regression Results</caption>\n",
       "<tr>\n",
       "  <th>Dep. Variable:</th>        <td>Body_Mass</td>    <th>  R-squared:         </th> <td>   0.838</td>\n",
       "</tr>\n",
       "<tr>\n",
       "  <th>Model:</th>                   <td>OLS</td>       <th>  Adj. R-squared:    </th> <td>   0.832</td>\n",
       "</tr>\n",
       "<tr>\n",
       "  <th>Method:</th>             <td>Least Squares</td>  <th>  F-statistic:       </th> <td>   141.0</td>\n",
       "</tr>\n",
       "<tr>\n",
       "  <th>Date:</th>             <td>Tue, 28 Dec 2021</td> <th>  Prob (F-statistic):</th> <td>3.82e-42</td>\n",
       "</tr>\n",
       "<tr>\n",
       "  <th>Time:</th>                 <td>23:55:50</td>     <th>  Log-Likelihood:    </th> <td> -816.91</td>\n",
       "</tr>\n",
       "<tr>\n",
       "  <th>No. Observations:</th>      <td>   114</td>      <th>  AIC:               </th> <td>   1644.</td>\n",
       "</tr>\n",
       "<tr>\n",
       "  <th>Df Residuals:</th>          <td>   109</td>      <th>  BIC:               </th> <td>   1658.</td>\n",
       "</tr>\n",
       "<tr>\n",
       "  <th>Df Model:</th>              <td>     4</td>      <th>                     </th>     <td> </td>   \n",
       "</tr>\n",
       "<tr>\n",
       "  <th>Covariance Type:</th>      <td>nonrobust</td>    <th>                     </th>     <td> </td>   \n",
       "</tr>\n",
       "</table>\n",
       "<table class=\"simpletable\">\n",
       "<tr>\n",
       "         <td></td>           <th>coef</th>     <th>std err</th>      <th>t</th>      <th>P>|t|</th>  <th>[0.025</th>    <th>0.975]</th>  \n",
       "</tr>\n",
       "<tr>\n",
       "  <th>Intercept</th>      <td> 2289.0422</td> <td> 1192.754</td> <td>    1.919</td> <td> 0.058</td> <td>  -74.958</td> <td> 4653.042</td>\n",
       "</tr>\n",
       "<tr>\n",
       "  <th>Flipper_Length</th> <td>   26.0175</td> <td>    4.022</td> <td>    6.468</td> <td> 0.000</td> <td>   18.046</td> <td>   33.989</td>\n",
       "</tr>\n",
       "<tr>\n",
       "  <th>Species</th>        <td> -199.4178</td> <td>   61.539</td> <td>   -3.241</td> <td> 0.002</td> <td> -321.386</td> <td>  -77.449</td>\n",
       "</tr>\n",
       "<tr>\n",
       "  <th>Sex</th>            <td> -514.5279</td> <td>   71.654</td> <td>   -7.181</td> <td> 0.000</td> <td> -656.544</td> <td> -372.512</td>\n",
       "</tr>\n",
       "<tr>\n",
       "  <th>Delta_15_N</th>     <td> -321.7470</td> <td>   65.717</td> <td>   -4.896</td> <td> 0.000</td> <td> -451.996</td> <td> -191.498</td>\n",
       "</tr>\n",
       "</table>\n",
       "<table class=\"simpletable\">\n",
       "<tr>\n",
       "  <th>Omnibus:</th>       <td> 2.266</td> <th>  Durbin-Watson:     </th> <td>   2.092</td>\n",
       "</tr>\n",
       "<tr>\n",
       "  <th>Prob(Omnibus):</th> <td> 0.322</td> <th>  Jarque-Bera (JB):  </th> <td>   1.717</td>\n",
       "</tr>\n",
       "<tr>\n",
       "  <th>Skew:</th>          <td> 0.260</td> <th>  Prob(JB):          </th> <td>   0.424</td>\n",
       "</tr>\n",
       "<tr>\n",
       "  <th>Kurtosis:</th>      <td> 3.301</td> <th>  Cond. No.          </th> <td>8.11e+03</td>\n",
       "</tr>\n",
       "</table><br/><br/>Notes:<br/>[1] Standard Errors assume that the covariance matrix of the errors is correctly specified.<br/>[2] The condition number is large, 8.11e+03. This might indicate that there are<br/>strong multicollinearity or other numerical problems."
      ],
      "text/plain": [
       "<class 'statsmodels.iolib.summary.Summary'>\n",
       "\"\"\"\n",
       "                            OLS Regression Results                            \n",
       "==============================================================================\n",
       "Dep. Variable:              Body_Mass   R-squared:                       0.838\n",
       "Model:                            OLS   Adj. R-squared:                  0.832\n",
       "Method:                 Least Squares   F-statistic:                     141.0\n",
       "Date:                Tue, 28 Dec 2021   Prob (F-statistic):           3.82e-42\n",
       "Time:                        23:55:50   Log-Likelihood:                -816.91\n",
       "No. Observations:                 114   AIC:                             1644.\n",
       "Df Residuals:                     109   BIC:                             1658.\n",
       "Df Model:                           4                                         \n",
       "Covariance Type:            nonrobust                                         \n",
       "==================================================================================\n",
       "                     coef    std err          t      P>|t|      [0.025      0.975]\n",
       "----------------------------------------------------------------------------------\n",
       "Intercept       2289.0422   1192.754      1.919      0.058     -74.958    4653.042\n",
       "Flipper_Length    26.0175      4.022      6.468      0.000      18.046      33.989\n",
       "Species         -199.4178     61.539     -3.241      0.002    -321.386     -77.449\n",
       "Sex             -514.5279     71.654     -7.181      0.000    -656.544    -372.512\n",
       "Delta_15_N      -321.7470     65.717     -4.896      0.000    -451.996    -191.498\n",
       "==============================================================================\n",
       "Omnibus:                        2.266   Durbin-Watson:                   2.092\n",
       "Prob(Omnibus):                  0.322   Jarque-Bera (JB):                1.717\n",
       "Skew:                           0.260   Prob(JB):                        0.424\n",
       "Kurtosis:                       3.301   Cond. No.                     8.11e+03\n",
       "==============================================================================\n",
       "\n",
       "Notes:\n",
       "[1] Standard Errors assume that the covariance matrix of the errors is correctly specified.\n",
       "[2] The condition number is large, 8.11e+03. This might indicate that there are\n",
       "strong multicollinearity or other numerical problems.\n",
       "\"\"\""
      ]
     },
     "execution_count": 8,
     "metadata": {},
     "output_type": "execute_result"
    }
   ],
   "source": [
    "from statsmodels.formula.api import ols \n",
    "from statsmodels.api import OLS, add_constant\n",
    "x_list = ['Flipper_Length', 'Species', 'Sex', 'Delta_15_N']\n",
    "formula = 'Body_Mass~' + '+'.join(x_list)\n",
    "model = OLS.from_formula(formula, data = train[x_list + ['Body_Mass']])\n",
    "result = model.fit()\n",
    "# print(result.params)\n",
    "result.summary()"
   ]
  },
  {
   "cell_type": "code",
   "execution_count": 9,
   "metadata": {},
   "outputs": [
    {
     "data": {
      "text/plain": [
       "313.2376110744562"
      ]
     },
     "execution_count": 9,
     "metadata": {},
     "output_type": "execute_result"
    }
   ],
   "source": [
    "def RMSE(true, pred):\n",
    "    score = np.sqrt(np.mean(np.square(true-pred)))\n",
    "    return score\n",
    "\n",
    "RMSE(result.predict(train[x_list]), train.Body_Mass)"
   ]
  },
  {
   "cell_type": "code",
   "execution_count": 76,
   "metadata": {},
   "outputs": [],
   "source": [
    "train.columns = ['Species', 'Island', 'Clutch_Completion', 'Culmen_Length',\n",
    "                 'Culmen_Depth', 'Flipper_Length', 'Sex', 'Delta_15_N', 'Delta_13_C',\n",
    "                 'Body_Mass']"
   ]
  },
  {
   "cell_type": "code",
   "execution_count": 77,
   "metadata": {},
   "outputs": [
    {
     "data": {
      "text/html": [
       "<table class=\"simpletable\">\n",
       "<caption>OLS Regression Results</caption>\n",
       "<tr>\n",
       "  <th>Dep. Variable:</th>        <td>Body_Mass</td>    <th>  R-squared:         </th> <td>   0.843</td>\n",
       "</tr>\n",
       "<tr>\n",
       "  <th>Model:</th>                   <td>OLS</td>       <th>  Adj. R-squared:    </th> <td>   0.829</td>\n",
       "</tr>\n",
       "<tr>\n",
       "  <th>Method:</th>             <td>Least Squares</td>  <th>  F-statistic:       </th> <td>   61.98</td>\n",
       "</tr>\n",
       "<tr>\n",
       "  <th>Date:</th>             <td>Wed, 29 Dec 2021</td> <th>  Prob (F-statistic):</th> <td>9.04e-38</td>\n",
       "</tr>\n",
       "<tr>\n",
       "  <th>Time:</th>                 <td>00:18:32</td>     <th>  Log-Likelihood:    </th> <td> -815.19</td>\n",
       "</tr>\n",
       "<tr>\n",
       "  <th>No. Observations:</th>      <td>   114</td>      <th>  AIC:               </th> <td>   1650.</td>\n",
       "</tr>\n",
       "<tr>\n",
       "  <th>Df Residuals:</th>          <td>   104</td>      <th>  BIC:               </th> <td>   1678.</td>\n",
       "</tr>\n",
       "<tr>\n",
       "  <th>Df Model:</th>              <td>     9</td>      <th>                     </th>     <td> </td>   \n",
       "</tr>\n",
       "<tr>\n",
       "  <th>Covariance Type:</th>      <td>nonrobust</td>    <th>                     </th>     <td> </td>   \n",
       "</tr>\n",
       "</table>\n",
       "<table class=\"simpletable\">\n",
       "<tr>\n",
       "          <td></td>             <th>coef</th>     <th>std err</th>      <th>t</th>      <th>P>|t|</th>  <th>[0.025</th>    <th>0.975]</th>  \n",
       "</tr>\n",
       "<tr>\n",
       "  <th>Intercept</th>         <td> 2263.5408</td> <td> 2229.986</td> <td>    1.015</td> <td> 0.312</td> <td>-2158.605</td> <td> 6685.686</td>\n",
       "</tr>\n",
       "<tr>\n",
       "  <th>Species</th>           <td> -150.3960</td> <td>   78.239</td> <td>   -1.922</td> <td> 0.057</td> <td> -305.546</td> <td>    4.754</td>\n",
       "</tr>\n",
       "<tr>\n",
       "  <th>Island</th>            <td>  -97.6637</td> <td>   68.766</td> <td>   -1.420</td> <td> 0.159</td> <td> -234.029</td> <td>   38.701</td>\n",
       "</tr>\n",
       "<tr>\n",
       "  <th>Clutch_Completion</th> <td>   26.6830</td> <td>  105.385</td> <td>    0.253</td> <td> 0.801</td> <td> -182.299</td> <td>  235.665</td>\n",
       "</tr>\n",
       "<tr>\n",
       "  <th>Culmen_Length</th>     <td>    2.7586</td> <td>   11.495</td> <td>    0.240</td> <td> 0.811</td> <td>  -20.036</td> <td>   25.553</td>\n",
       "</tr>\n",
       "<tr>\n",
       "  <th>Culmen_Depth</th>      <td>  -17.9822</td> <td>   29.988</td> <td>   -0.600</td> <td> 0.550</td> <td>  -77.450</td> <td>   41.486</td>\n",
       "</tr>\n",
       "<tr>\n",
       "  <th>Flipper_Length</th>    <td>   23.3847</td> <td>    5.127</td> <td>    4.561</td> <td> 0.000</td> <td>   13.217</td> <td>   33.552</td>\n",
       "</tr>\n",
       "<tr>\n",
       "  <th>Sex</th>               <td> -539.9137</td> <td>   92.103</td> <td>   -5.862</td> <td> 0.000</td> <td> -722.557</td> <td> -357.271</td>\n",
       "</tr>\n",
       "<tr>\n",
       "  <th>Delta_15_N</th>        <td> -293.9772</td> <td>   86.600</td> <td>   -3.395</td> <td> 0.001</td> <td> -465.709</td> <td> -122.245</td>\n",
       "</tr>\n",
       "<tr>\n",
       "  <th>Delta_13_C</th>        <td>  -20.3725</td> <td>   57.423</td> <td>   -0.355</td> <td> 0.723</td> <td> -134.245</td> <td>   93.500</td>\n",
       "</tr>\n",
       "</table>\n",
       "<table class=\"simpletable\">\n",
       "<tr>\n",
       "  <th>Omnibus:</th>       <td> 2.973</td> <th>  Durbin-Watson:     </th> <td>   2.057</td>\n",
       "</tr>\n",
       "<tr>\n",
       "  <th>Prob(Omnibus):</th> <td> 0.226</td> <th>  Jarque-Bera (JB):  </th> <td>   2.429</td>\n",
       "</tr>\n",
       "<tr>\n",
       "  <th>Skew:</th>          <td> 0.252</td> <th>  Prob(JB):          </th> <td>   0.297</td>\n",
       "</tr>\n",
       "<tr>\n",
       "  <th>Kurtosis:</th>      <td> 3.506</td> <th>  Cond. No.          </th> <td>1.56e+04</td>\n",
       "</tr>\n",
       "</table><br/><br/>Notes:<br/>[1] Standard Errors assume that the covariance matrix of the errors is correctly specified.<br/>[2] The condition number is large, 1.56e+04. This might indicate that there are<br/>strong multicollinearity or other numerical problems."
      ],
      "text/plain": [
       "<class 'statsmodels.iolib.summary.Summary'>\n",
       "\"\"\"\n",
       "                            OLS Regression Results                            \n",
       "==============================================================================\n",
       "Dep. Variable:              Body_Mass   R-squared:                       0.843\n",
       "Model:                            OLS   Adj. R-squared:                  0.829\n",
       "Method:                 Least Squares   F-statistic:                     61.98\n",
       "Date:                Wed, 29 Dec 2021   Prob (F-statistic):           9.04e-38\n",
       "Time:                        00:18:32   Log-Likelihood:                -815.19\n",
       "No. Observations:                 114   AIC:                             1650.\n",
       "Df Residuals:                     104   BIC:                             1678.\n",
       "Df Model:                           9                                         \n",
       "Covariance Type:            nonrobust                                         \n",
       "=====================================================================================\n",
       "                        coef    std err          t      P>|t|      [0.025      0.975]\n",
       "-------------------------------------------------------------------------------------\n",
       "Intercept          2263.5408   2229.986      1.015      0.312   -2158.605    6685.686\n",
       "Species            -150.3960     78.239     -1.922      0.057    -305.546       4.754\n",
       "Island              -97.6637     68.766     -1.420      0.159    -234.029      38.701\n",
       "Clutch_Completion    26.6830    105.385      0.253      0.801    -182.299     235.665\n",
       "Culmen_Length         2.7586     11.495      0.240      0.811     -20.036      25.553\n",
       "Culmen_Depth        -17.9822     29.988     -0.600      0.550     -77.450      41.486\n",
       "Flipper_Length       23.3847      5.127      4.561      0.000      13.217      33.552\n",
       "Sex                -539.9137     92.103     -5.862      0.000    -722.557    -357.271\n",
       "Delta_15_N         -293.9772     86.600     -3.395      0.001    -465.709    -122.245\n",
       "Delta_13_C          -20.3725     57.423     -0.355      0.723    -134.245      93.500\n",
       "==============================================================================\n",
       "Omnibus:                        2.973   Durbin-Watson:                   2.057\n",
       "Prob(Omnibus):                  0.226   Jarque-Bera (JB):                2.429\n",
       "Skew:                           0.252   Prob(JB):                        0.297\n",
       "Kurtosis:                       3.506   Cond. No.                     1.56e+04\n",
       "==============================================================================\n",
       "\n",
       "Notes:\n",
       "[1] Standard Errors assume that the covariance matrix of the errors is correctly specified.\n",
       "[2] The condition number is large, 1.56e+04. This might indicate that there are\n",
       "strong multicollinearity or other numerical problems.\n",
       "\"\"\""
      ]
     },
     "execution_count": 77,
     "metadata": {},
     "output_type": "execute_result"
    }
   ],
   "source": [
    "from statsmodels.formula.api import ols \n",
    "from statsmodels.api import OLS, add_constant\n",
    "x_list = train.drop(['Body_Mass'], axis = 1).columns\n",
    "formula = 'Body_Mass~' + '+'.join(x_list)\n",
    "model = OLS.from_formula(formula, data = train)\n",
    "result = model.fit()\n",
    "# print(result.params)\n",
    "result.summary()"
   ]
  },
  {
   "cell_type": "code",
   "execution_count": 78,
   "metadata": {},
   "outputs": [
    {
     "data": {
      "text/plain": [
       "308.532113796477"
      ]
     },
     "execution_count": 78,
     "metadata": {},
     "output_type": "execute_result"
    }
   ],
   "source": [
    "RMSE(result.predict(train.drop(['Body_Mass'], axis = 1)), train.Body_Mass)"
   ]
  },
  {
   "cell_type": "code",
   "execution_count": 83,
   "metadata": {},
   "outputs": [
    {
     "data": {
      "text/plain": [
       "308.95485267695955"
      ]
     },
     "execution_count": 83,
     "metadata": {},
     "output_type": "execute_result"
    }
   ],
   "source": [
    "# 릿지모델\n",
    "from sklearn.linear_model import Ridge, Lasso\n",
    "\n",
    "ridge = Ridge(alpha = 0.1, solver = 'sag', random_state = 7)\n",
    "ridge.fit(train.drop(['Body_Mass'], axis = 1), train.Body_Mass)\n",
    "RMSE(ridge.predict(train.drop(['Body_Mass'], axis = 1)), train.Body_Mass)"
   ]
  },
  {
   "cell_type": "code",
   "execution_count": 89,
   "metadata": {},
   "outputs": [
    {
     "name": "stderr",
     "output_type": "stream",
     "text": [
      "C:\\Users\\Bestc\\anaconda3\\lib\\site-packages\\sklearn\\linear_model\\_coordinate_descent.py:530: ConvergenceWarning: Objective did not converge. You might want to increase the number of iterations. Duality gap: 21436316.891680032, tolerance: 6906.09484649123\n",
      "  model = cd_fast.enet_coordinate_descent(\n"
     ]
    },
    {
     "data": {
      "text/plain": [
       "308.59174309222834"
      ]
     },
     "execution_count": 89,
     "metadata": {},
     "output_type": "execute_result"
    }
   ],
   "source": [
    "# 라쏘 모델\n",
    "from sklearn.linear_model import Ridge, Lasso\n",
    "\n",
    "lasso = Lasso(alpha = -1)\n",
    "lasso.fit(train.drop(['Body_Mass'], axis = 1), train.Body_Mass)\n",
    "RMSE(lasso.predict(train.drop(['Body_Mass'], axis = 1)), train.Body_Mass)"
   ]
  },
  {
   "cell_type": "code",
   "execution_count": 90,
   "metadata": {},
   "outputs": [
    {
     "data": {
      "text/plain": [
       "4397.28222982923"
      ]
     },
     "execution_count": 90,
     "metadata": {},
     "output_type": "execute_result"
    }
   ],
   "source": [
    "# SGDRegressor\n",
    "from sklearn.linear_model import SGDRegressor\n",
    "sgd = SGDRegressor(max_iter=0.1,\n",
    "                   penalty=\"l2\",\n",
    "                   random_state=42)\n",
    "sgd.fit(train.drop(['Body_Mass'], axis = 1),train.Body_Mass)\n",
    "RMSE(sgd.predict(train.drop(['Body_Mass'], axis = 1)), train.Body_Mass)"
   ]
  },
  {
   "cell_type": "code",
   "execution_count": 91,
   "metadata": {},
   "outputs": [
    {
     "data": {
      "text/plain": [
       "308.67146400323315"
      ]
     },
     "execution_count": 91,
     "metadata": {},
     "output_type": "execute_result"
    }
   ],
   "source": [
    "# 엘라스틱 넷\n",
    "\n",
    "from sklearn.linear_model import ElasticNet\n",
    "elastic_net = ElasticNet(alpha = 0.01, l1_ratio = 0.5, random_state=42)\n",
    "elastic_net.fit(train.drop(['Body_Mass'], axis = 1),train.Body_Mass)\n",
    "RMSE(elastic_net.predict(train.drop(['Body_Mass'], axis = 1)), train.Body_Mass)"
   ]
  },
  {
   "cell_type": "code",
   "execution_count": 92,
   "metadata": {},
   "outputs": [
    {
     "data": {
      "text/plain": [
       "[54, 0.9753475396927929]"
      ]
     },
     "execution_count": 92,
     "metadata": {},
     "output_type": "execute_result"
    }
   ],
   "source": [
    "# 랜덤 포레스트\n",
    "from sklearn.ensemble import RandomForestRegressor\n",
    "\n",
    "value = [0, 0]\n",
    "plot_list1 = []\n",
    "plot_list2 = []\n",
    "for i in range(1, 100):\n",
    "    rf = RandomForestRegressor(n_estimators = i,random_state = 7)\n",
    "    rf.fit(train[x_list], train.Body_Mass)\n",
    "    plot_list1.append(rf.score(train.drop(['Body_Mass'], axis = 1), train.Body_Mass))\n",
    "    plot_list2.append(RMSE(rf.predict(train.drop(['Body_Mass'], axis = 1)), train.Body_Mass))\n",
    "    if value[1] < rf.score(train.drop(['Body_Mass'], axis = 1), train.Body_Mass):\n",
    "        value[0] = i\n",
    "        value[1] = rf.score(train.drop(['Body_Mass'], axis = 1), train.Body_Mass)\n",
    "value "
   ]
  },
  {
   "cell_type": "code",
   "execution_count": 93,
   "metadata": {},
   "outputs": [
    {
     "data": {
      "image/png": "[encoded data removed]",
      "text/plain": [
       "<Figure size 1080x432 with 2 Axes>"
      ]
     },
     "metadata": {
      "needs_background": "light"
     },
     "output_type": "display_data"
    }
   ],
   "source": [
    "fig, axes = plt.subplots(1, 2, figsize = (15, 6), sharey = False) # 축 범위를 같게하고 싶으면 sharey를 True로 변경\n",
    "\n",
    "ax = axes[0]\n",
    "ax.set_title('RandomForest-Nvalue')\n",
    "ax.plot(plot_list1)\n",
    "ax.grid()\n",
    "\n",
    "ax = axes[1]\n",
    "ax.set_title('RandomForest-RMSE')\n",
    "ax.plot(plot_list2)\n",
    "ax.grid()\n",
    "\n",
    "plt.tight_layout()\n",
    "plt.show()"
   ]
  },
  {
   "cell_type": "code",
   "execution_count": 94,
   "metadata": {},
   "outputs": [
    {
     "data": {
      "text/plain": [
       "122.20640760504725"
      ]
     },
     "execution_count": 94,
     "metadata": {},
     "output_type": "execute_result"
    }
   ],
   "source": [
    "rf= RandomForestRegressor(n_estimators = 54,random_state = 7)\n",
    "rf.fit(train.drop(['Body_Mass'], axis = 1), train.Body_Mass)\n",
    "RMSE(rf.predict(train.drop(['Body_Mass'], axis = 1)), train.Body_Mass)"
   ]
  },
  {
   "cell_type": "code",
   "execution_count": 103,
   "metadata": {},
   "outputs": [
    {
     "data": {
      "text/plain": [
       "Index(['Species', 'Island', 'Clutch_Completion', 'Culmen_Length',\n",
       "       'Culmen_Depth', 'Flipper_Length', 'Sex', 'Delta_15_N', 'Delta_13_C',\n",
       "       'Body_Mass'],\n",
       "      dtype='object')"
      ]
     },
     "execution_count": 103,
     "metadata": {},
     "output_type": "execute_result"
    }
   ],
   "source": [
    "train.columns"
   ]
  },
  {
   "cell_type": "code",
   "execution_count": 106,
   "metadata": {},
   "outputs": [],
   "source": [
    "test.columns = ['id', 'Species', 'Island', 'Clutch_Completion', 'Culmen_Length',\n",
    "                'Culmen_Depth', 'Flipper_Length', 'Sex', 'Delta_15_N', 'Delta_13_C',]"
   ]
  },
  {
   "cell_type": "code",
   "execution_count": 107,
   "metadata": {},
   "outputs": [
    {
     "data": {
      "text/html": [
       "<div>\n",
       "<style scoped>\n",
       "    .dataframe tbody tr th:only-of-type {\n",
       "        vertical-align: middle;\n",
       "    }\n",
       "\n",
       "    .dataframe tbody tr th {\n",
       "        vertical-align: top;\n",
       "    }\n",
       "\n",
       "    .dataframe thead th {\n",
       "        text-align: right;\n",
       "    }\n",
       "</style>\n",
       "<table border=\"1\" class=\"dataframe\">\n",
       "  <thead>\n",
       "    <tr style=\"text-align: right;\">\n",
       "      <th></th>\n",
       "      <th>id</th>\n",
       "      <th>Body Mass (g)</th>\n",
       "    </tr>\n",
       "  </thead>\n",
       "  <tbody>\n",
       "    <tr>\n",
       "      <th>0</th>\n",
       "      <td>0</td>\n",
       "      <td>4573.148148</td>\n",
       "    </tr>\n",
       "    <tr>\n",
       "      <th>1</th>\n",
       "      <td>1</td>\n",
       "      <td>5574.074074</td>\n",
       "    </tr>\n",
       "    <tr>\n",
       "      <th>2</th>\n",
       "      <td>2</td>\n",
       "      <td>3600.000000</td>\n",
       "    </tr>\n",
       "    <tr>\n",
       "      <th>3</th>\n",
       "      <td>3</td>\n",
       "      <td>3570.833333</td>\n",
       "    </tr>\n",
       "    <tr>\n",
       "      <th>4</th>\n",
       "      <td>4</td>\n",
       "      <td>3557.407407</td>\n",
       "    </tr>\n",
       "    <tr>\n",
       "      <th>...</th>\n",
       "      <td>...</td>\n",
       "      <td>...</td>\n",
       "    </tr>\n",
       "    <tr>\n",
       "      <th>223</th>\n",
       "      <td>223</td>\n",
       "      <td>4281.481481</td>\n",
       "    </tr>\n",
       "    <tr>\n",
       "      <th>224</th>\n",
       "      <td>224</td>\n",
       "      <td>4658.333333</td>\n",
       "    </tr>\n",
       "    <tr>\n",
       "      <th>225</th>\n",
       "      <td>225</td>\n",
       "      <td>4375.462963</td>\n",
       "    </tr>\n",
       "    <tr>\n",
       "      <th>226</th>\n",
       "      <td>226</td>\n",
       "      <td>3841.666667</td>\n",
       "    </tr>\n",
       "    <tr>\n",
       "      <th>227</th>\n",
       "      <td>227</td>\n",
       "      <td>4050.925926</td>\n",
       "    </tr>\n",
       "  </tbody>\n",
       "</table>\n",
       "<p>228 rows × 2 columns</p>\n",
       "</div>"
      ],
      "text/plain": [
       "      id  Body Mass (g)\n",
       "0      0    4573.148148\n",
       "1      1    5574.074074\n",
       "2      2    3600.000000\n",
       "3      3    3570.833333\n",
       "4      4    3557.407407\n",
       "..   ...            ...\n",
       "223  223    4281.481481\n",
       "224  224    4658.333333\n",
       "225  225    4375.462963\n",
       "226  226    3841.666667\n",
       "227  227    4050.925926\n",
       "\n",
       "[228 rows x 2 columns]"
      ]
     },
     "execution_count": 107,
     "metadata": {},
     "output_type": "execute_result"
    }
   ],
   "source": [
    "# 정답파일 작성\n",
    "predict = pd.read_csv(PATH + '\\\\sample_submission.csv')\n",
    "len(predict), len(test)\n",
    "predict['Body Mass (g)'] = rf.predict(test.drop(['id'], axis = 1))\n",
    "predict.to_csv(PATH + '\\\\sample_submission(8_RandomForest).csv', index = False)\n",
    "pd.read_csv(PATH + '\\\\sample_submission(8_RandomForest).csv')"
   ]
  }
 ],
 "metadata": {
  "interpreter": {
   "hash": "fe3bab233825460445dbfeea6dcd52ef5815a3fa13c858fea07ac830aa383284"
  },
  "kernelspec": {
   "display_name": "Python 3.8.10 64-bit ('base': conda)",
   "language": "python",
   "name": "python3"
  },
  "language_info": {
   "codemirror_mode": {
    "name": "ipython",
    "version": 3
   },
   "file_extension": ".py",
   "mimetype": "text/x-python",
   "name": "python",
   "nbconvert_exporter": "python",
   "pygments_lexer": "ipython3",
   "version": "3.8.10"
  },
  "orig_nbformat": 4
 },
 "nbformat": 4,
 "nbformat_minor": 2
}
