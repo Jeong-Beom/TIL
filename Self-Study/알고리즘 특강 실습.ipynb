{
 "cells": [
  {
   "cell_type": "code",
   "execution_count": 71,
   "source": [
    "# 선형 리스트 구현 및 동작\r\n",
    "katok = [] # 빈 배열\r\n",
    "'''\r\n",
    "katok.append(None) # 배열에 빈 칸 추가\r\n",
    "katok[0] = '다현'\r\n",
    "\r\n",
    "katok.append(None)\r\n",
    "katok[1] = '정연'\r\n",
    "'''\r\n",
    "\r\n",
    "def add_data(friend): # 친구추가 함수\r\n",
    "    katok.append(None) # 빈칸 추가\r\n",
    "    kLen = len(katok)\r\n",
    "    katok[kLen-1] = friend\r\n",
    "\r\n",
    "add_data('다현')\r\n",
    "add_data('정연')\r\n",
    "add_data('쯔위')\r\n",
    "add_data('사나')\r\n",
    "add_data('지효')\r\n",
    "add_data('모모')\r\n",
    "\r\n",
    "print(katok)\r\n",
    "\r\n",
    "def insert_data(position, friend): # 삽입 함수\r\n",
    "    katok.append(None)\r\n",
    "    kLen = len(katok)\r\n",
    "\r\n",
    "    for i in range(kLen-1, position, -1):\r\n",
    "        katok[i] = katok[i-1]\r\n",
    "        katok[i-1] = None\r\n",
    "    katok[position] = friend\r\n",
    "\r\n",
    "insert_data(2, '솔라')\r\n",
    "print(katok)\r\n",
    "insert_data(7, '문별')\r\n",
    "print(katok)"
   ],
   "outputs": [
    {
     "output_type": "stream",
     "name": "stdout",
     "text": [
      "['다현', '정연', '쯔위', '사나', '지효', '모모']\n",
      "['다현', '정연', '솔라', '쯔위', '사나', '지효', '모모']\n",
      "['다현', '정연', '솔라', '쯔위', '사나', '지효', '모모', '문별']\n"
     ]
    }
   ],
   "metadata": {}
  },
  {
   "cell_type": "code",
   "execution_count": 72,
   "source": [
    "katok = ['다현', '정연', '쯔위', '사나', '지효', '모모']\r\n",
    "def delete_data(position):\r\n",
    "    kLen = len(katok)\r\n",
    "    katok[position] = None\r\n",
    "    for i in range(position+1, kLen, 1):\r\n",
    "        katok[i-1] = katok[i]\r\n",
    "        katok[i] = None\r\n",
    "    del katok[kLen-1]\r\n",
    "delete_data(1)\r\n",
    "print(katok)\r\n",
    "delete_data(4)\r\n",
    "print(katok)"
   ],
   "outputs": [
    {
     "output_type": "stream",
     "name": "stdout",
     "text": [
      "['다현', '쯔위', '사나', '지효', '모모']\n",
      "['다현', '쯔위', '사나', '지효']\n"
     ]
    }
   ],
   "metadata": {}
  },
  {
   "cell_type": "code",
   "execution_count": 73,
   "source": [
    "# 함수 선언부\r\n",
    "def add_data(friend): # 친구추가 함수\r\n",
    "    katok.append(None) # 빈칸 추가\r\n",
    "    kLen = len(katok)\r\n",
    "    katok[kLen-1] = friend\r\n",
    "\r\n",
    "def insert_data(position, friend): # 삽입 함수\r\n",
    "    katok.append(None)\r\n",
    "    kLen = len(katok)\r\n",
    "\r\n",
    "    for i in range(kLen-1, position, -1):\r\n",
    "        katok[i] = katok[i-1]\r\n",
    "        katok[i-1] = None\r\n",
    "    katok[position] = friend\r\n",
    "\r\n",
    "def delete_data(position):\r\n",
    "    kLen = len(katok)\r\n",
    "    katok[position] = None\r\n",
    "    for i in range(position+1, kLen, 1):\r\n",
    "        katok[i-1] = katok[i]\r\n",
    "        katok[i] = None\r\n",
    "    del katok[kLen-1]\r\n",
    "\r\n",
    "# 전역 변수부\r\n",
    "katok = []\r\n",
    "select = -1 # 1. 추가 / 2. 삽입 / 3. 삭제 / 4. 종료\r\n",
    "# 메인 코드부\r\n",
    "while(select != 4):\r\n",
    "    select = int(input('1.추가 2.삽입 3.삭제 4.종료 -->'))\r\n",
    "    if select == 1:  # 추가작동\r\n",
    "        add_data(input('추가할 내용을 입력해주세요 > '))\r\n",
    "        print(f'결과값 : {katok}')\r\n",
    "    elif select == 2:  # 삽입작동\r\n",
    "        insert_data(int(input('삽입할 위치을 입력해주세요 > ')), input('삽입할 내용을 입력해주세요 > '))\r\n",
    "        print(f'결과값 : {katok}')\r\n",
    "    elif select == 3: # 삭제작동\r\n",
    "        delete_data(int(input('삭제할 요인의 위치를 입력해주세요 > ')))\r\n",
    "        print(f'결과값 : {katok}')\r\n",
    "    elif select == 4: # 종료작동\r\n",
    "        print(katok)\r\n",
    "        break\r\n",
    "    else:\r\n",
    "        print('다시 확인!')\r\n",
    "        continue"
   ],
   "outputs": [
    {
     "output_type": "stream",
     "name": "stdout",
     "text": [
      "[]\n"
     ]
    }
   ],
   "metadata": {}
  },
  {
   "cell_type": "code",
   "execution_count": 74,
   "source": [
    "class Node():\r\n",
    "    def __init__(self):\r\n",
    "        self.data = None\r\n",
    "        self.link = None\r\n",
    "node1 = Node()\r\n",
    "node1.data = '다현'\r\n",
    "node2 = Node()\r\n",
    "node2.data = '정연'\r\n",
    "node1.link = node2\r\n",
    "node3, node4, node5 = Node(), Node(), Node()\r\n",
    "node3.data, node4.data, node5.data = '쯔위', '사나', '지효'\r\n",
    "node2.link = node3\r\n",
    "node3.link = node4\r\n",
    "node4.link = node5\r\n",
    "print(node1.data, end = ' ')\r\n",
    "print(node1.link.link.data, end = ' ')\r\n",
    "print(node1.link.link.data, end = ' ')\r\n",
    "print(node1.link.link.link.data, end = ' ')\r\n",
    "print(node1.link.link.link.link.data, end = ' ')"
   ],
   "outputs": [
    {
     "output_type": "stream",
     "name": "stdout",
     "text": [
      "다현 쯔위 쯔위 사나 지효 "
     ]
    }
   ],
   "metadata": {}
  },
  {
   "cell_type": "code",
   "execution_count": 75,
   "source": [
    "current = node1\r\n",
    "print(current.data, end = ' ')\r\n",
    "while(current.link != None):\r\n",
    "    current = current.link\r\n",
    "    print(current.data, end = ' ')"
   ],
   "outputs": [
    {
     "output_type": "stream",
     "name": "stdout",
     "text": [
      "다현 정연 쯔위 사나 지효 "
     ]
    }
   ],
   "metadata": {}
  },
  {
   "cell_type": "code",
   "execution_count": 145,
   "source": [
    "## 함수 선언부\r\n",
    "class  Node() :\r\n",
    "    def __init__(self):\r\n",
    "        self.data = None\r\n",
    "        self.link = None\r\n",
    "def printNodes(start) :\r\n",
    "    current = start\r\n",
    "    print(current.data, end=' ')\r\n",
    "    while (current.link != None):\r\n",
    "        current = current.link\r\n",
    "        print(current.data, end=' ')\r\n",
    "    print()\r\n",
    "def insertNode(findData, insertData) :\r\n",
    "    global memory, head, current, pre\r\n",
    "    if head.data == findData : # 첫노드 앞에 삽입\r\n",
    "        node = Node()\r\n",
    "        node.data = insertData\r\n",
    "        node.link = head\r\n",
    "        head = node\r\n",
    "        memory.append(node)\r\n",
    "        return\r\n",
    "    current = head\r\n",
    "    while current.link != None :\r\n",
    "        pre = current\r\n",
    "        current = current.link\r\n",
    "        if  current.data == findData :\r\n",
    "            node = Node()\r\n",
    "            node.data = insertData\r\n",
    "            node.link = current\r\n",
    "            pre.link = node\r\n",
    "            memory.append(node)\r\n",
    "            return\r\n",
    "    node = Node() # 마지막 노드에 삽입\r\n",
    "    node.data = insertData\r\n",
    "    current.link = node\r\n",
    "    memory.append(node)\r\n",
    "    return\r\n",
    "def deleteNode(deleteData) :\r\n",
    "    global memory, head, current, pre\r\n",
    "    if head.data == deleteData :\r\n",
    "        current = head\r\n",
    "        head = head.link\r\n",
    "        del(current)\r\n",
    "        return\r\n",
    "    current  = head\r\n",
    "    while current.link != None :\r\n",
    "        pre = current\r\n",
    "        current = current.link\r\n",
    "        if current.data == deleteData :\r\n",
    "            pre.link = current.link\r\n",
    "            del(current)\r\n",
    "            return\r\n",
    "def findNode(findData) :\r\n",
    "    global memory, head, current, pre\r\n",
    "    current = head\r\n",
    "    if head.data == findData:\r\n",
    "        print(current.data)\r\n",
    "        return\r\n",
    "    while current.link != None :\r\n",
    "        current = current.link\r\n",
    "        if current.data == findData:\r\n",
    "            print(current.data)\r\n",
    "            return\r\n",
    "    else:\r\n",
    "        print('해당요인이 없습니다.')\r\n",
    "\r\n",
    "\r\n",
    "## 전역 변수부\r\n",
    "memory = [] # 노드를 저장할 공간\r\n",
    "head, current, pre = None, None, None\r\n",
    "dataArray = ['다현', '정연', '쯔위', '사나', '지효']\r\n",
    "## 메인 코드부\r\n",
    "node = Node()   # 첫번째 노드\r\n",
    "node.data = dataArray[0]\r\n",
    "head = node\r\n",
    "memory.append(node)\r\n",
    "for data in dataArray[1:] : # ['정연', '쯔위', '사나', '지효']\r\n",
    "    pre = node\r\n",
    "    node = Node()\r\n",
    "    node.data = data\r\n",
    "    pre.link = node\r\n",
    "    memory.append(node)\r\n",
    "printNodes(head)\r\n",
    "\r\n",
    "# insertNode('다현', '화사')\r\n",
    "# printNodes(head)\r\n",
    "# insertNode('사나', '솔라')\r\n",
    "# printNodes(head)\r\n",
    "# insertNode('재남', '문별')\r\n",
    "# printNodes(head)\r\n",
    "\r\n",
    "deleteNode('다현')\r\n",
    "printNodes(head)\r\n",
    "deleteNode('쯔위')\r\n",
    "printNodes(head)\r\n",
    "deleteNode('재남')\r\n",
    "printNodes(head)\r\n",
    "findNode('지효')"
   ],
   "outputs": [
    {
     "output_type": "stream",
     "name": "stdout",
     "text": [
      "다현 정연 쯔위 사나 지효 \n",
      "정연 쯔위 사나 지효 \n",
      "정연 사나 지효 \n",
      "정연 사나 지효 \n",
      "지효\n"
     ]
    }
   ],
   "metadata": {}
  },
  {
   "cell_type": "code",
   "execution_count": 202,
   "source": [
    "## 함수 선언부\r\n",
    "def isStackFull():\r\n",
    "    global size, top, stack\r\n",
    "    if top == size-1:\r\n",
    "        return True\r\n",
    "    else:\r\n",
    "        return False\r\n",
    "def push(data):\r\n",
    "    global size, top, stack\r\n",
    "    if isStackFull():\r\n",
    "        print('스택이 가득차있습니다.')\r\n",
    "        return\r\n",
    "    top += 1\r\n",
    "    stack[top] = data\r\n",
    "\r\n",
    "def isStackEmpty():\r\n",
    "    global size, stack, top\r\n",
    "    if top <= -1:\r\n",
    "        return True\r\n",
    "    else:\r\n",
    "        return False\r\n",
    "    \r\n",
    "def pop():\r\n",
    "    global size, top, stack\r\n",
    "    if isStackEmpty():\r\n",
    "        print('스택이 비어있습니다.')\r\n",
    "        return\r\n",
    "    stack[top] = None\r\n",
    "    top -= 1\r\n",
    "## 전역 변수부\r\n",
    "size = 5\r\n",
    "stack = [None for _ in range(size)] # 스택의 초기화\r\n",
    "top = -1\r\n",
    "\r\n",
    "## 메인 코드부\r\n",
    "push('커피1')\r\n",
    "push('커피2')\r\n",
    "\r\n",
    "pop()\r\n",
    "pop()\r\n",
    "pop()\r\n",
    "stack"
   ],
   "outputs": [
    {
     "output_type": "stream",
     "name": "stdout",
     "text": [
      "스택이 비어있습니다.\n"
     ]
    },
    {
     "output_type": "execute_result",
     "data": {
      "text/plain": [
       "[None, None, None, None, None]"
      ]
     },
     "metadata": {},
     "execution_count": 202
    }
   ],
   "metadata": {}
  }
 ],
 "metadata": {
  "orig_nbformat": 4,
  "language_info": {
   "name": "python",
   "version": "3.8.10",
   "mimetype": "text/x-python",
   "codemirror_mode": {
    "name": "ipython",
    "version": 3
   },
   "pygments_lexer": "ipython3",
   "nbconvert_exporter": "python",
   "file_extension": ".py"
  },
  "kernelspec": {
   "name": "python3",
   "display_name": "Python 3.8.10 64-bit ('base': conda)"
  },
  "interpreter": {
   "hash": "fe3bab233825460445dbfeea6dcd52ef5815a3fa13c858fea07ac830aa383284"
  }
 },
 "nbformat": 4,
 "nbformat_minor": 2
}