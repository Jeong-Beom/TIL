{
 "cells": [
  {
   "cell_type": "markdown",
   "source": [
    "#### 크롤링 후 데이터프레임으로 변환시, 범주로 넣을 것들 : 언론사, 기사제목, 기자이름, 기사내용 전문, 기사작성일자"
   ],
   "metadata": {}
  },
  {
   "cell_type": "code",
   "execution_count": 1,
   "source": [
    "# 사전에 입력 및 설치가 필요한 패키지들(미 입력시 실행불가) / 아래코드 실행전에 실행할 것\r\n",
    "import requests\r\n",
    "import pandas as pd\r\n",
    "import time\r\n",
    "from selenium import webdriver\r\n",
    "from selenium.webdriver.common.keys import Keys\r\n",
    "from bs4 import BeautifulSoup\r\n",
    "from urllib.parse import quote"
   ],
   "outputs": [],
   "metadata": {}
  },
  {
   "cell_type": "code",
   "execution_count": 2,
   "source": [
    "import Connect_Chrome_Search as Chrome #driver.close()은 추후 작업이 끝난 후 반드시 입력하여 Chromedriver가 종료되도록 할 것."
   ],
   "outputs": [],
   "metadata": {}
  },
  {
   "cell_type": "code",
   "execution_count": 21,
   "source": [
    "# 메인작동 코드들(연결부분)\r\n",
    "search_words = '스타벅스'\r\n",
    "Chrome.naver_news_page(search_words)\r\n",
    "time.sleep(3)\r\n",
    "Chrome.press_company_name()\r\n",
    "# driver.close()"
   ],
   "outputs": [
    {
     "output_type": "display_data",
     "data": {
      "application/vnd.jupyter.widget-view+json": {
       "version_major": 2,
       "version_minor": 0,
       "model_id": "0cdba80282db40d29adfaf8db784efba"
      },
      "text/plain": [
       "  0%|          | 0/400 [00:00<?, ?it/s]"
      ]
     },
     "metadata": {}
    },
    {
     "output_type": "execute_result",
     "data": {
      "text/plain": [
       "3989"
      ]
     },
     "metadata": {},
     "execution_count": 21
    }
   ],
   "metadata": {}
  },
  {
   "cell_type": "code",
   "execution_count": 30,
   "source": [
    "print(f'최종 페이지 : 400', f'자료를 수집한 페이지 수 : {len(Chrome.press_company_list)}', f'누락된 기사 수 : {4000 - len(Chrome.press_company_list)}', sep = '\\n') "
   ],
   "outputs": [
    {
     "output_type": "stream",
     "name": "stdout",
     "text": [
      "최종 페이지 : 400\n",
      "자료를 수집한 페이지 수 : 3989\n",
      "누락된 기사 수 : 11\n"
     ]
    }
   ],
   "metadata": {}
  },
  {
   "cell_type": "code",
   "execution_count": 27,
   "source": [
    "df = pd.DataFrame(Chrome.press_company_list, columns = ['press'])\r\n",
    "df.press.value_counts()"
   ],
   "outputs": [
    {
     "output_type": "execute_result",
     "data": {
      "text/plain": [
       "이데일리       126\n",
       "매일경제       116\n",
       "머니S        108\n",
       "뉴시스        104\n",
       "뉴스1        103\n",
       "          ... \n",
       "월요신문         1\n",
       "테니스피플        1\n",
       "위키리크스한국      1\n",
       "시빅뉴스         1\n",
       "이지경제         1\n",
       "Name: press, Length: 280, dtype: int64"
      ]
     },
     "metadata": {},
     "execution_count": 27
    }
   ],
   "metadata": {}
  },
  {
   "cell_type": "code",
   "execution_count": 7,
   "source": [
    "html = Chrome.driver.page_source # 해당페이지의 html 소스 전체를 크롤링\r\n",
    "soup = BeautifulSoup(html, 'html.parser') # 입력되는 문자열들을 html 형태로 인식하라고 컴퓨터에 입력\r\n",
    "# soup.select_one('section > div.api_subject_bx > .group_news > .list_news  > #sp_nws3 > a').text()\r\n",
    "Chrome.driver.find_element_by_css_selector('#sp_nws1 > div.news_wrap.api_ani_send > div > a').click()\r\n",
    "Chrome.driver.switch_to.window(Chrome.driver.window_handles[1])\r\n",
    "time.sleep(3)\r\n",
    "\r\n",
    "# Chrome.driver.close()\r\n",
    "# Chrome.driver.switch_to_window(Chrome.driver.window_handles[0]) # (탭변환) 화면상에서는 없어졌더라도 반드시 코드를 적용할 탭으로 이동해주어야함.\r\n",
    "\r\n",
    "# import re\r\n",
    "# raw_data_list = []\r\n",
    "# raw_data = soup.select_one('section > div.api_subject_bx > .group_news > .list_news').text\r\n",
    "# raw_data = re.sub('[^ㄱ-ㅎㅏ-ㅣ가-힣 ]', '', raw_data)\r\n",
    "# raw_data_list.append(raw_data)\r\n",
    "# driver.find_element_by_xpath(\"//*[@id='main_pack']/div[2]/div/a[2]\").click()\r\n",
    "# time.sleep(3)"
   ],
   "outputs": [],
   "metadata": {}
  },
  {
   "cell_type": "code",
   "execution_count": null,
   "source": [
    "# 시행착오 코드들\r\n",
    "\r\n",
    "# 21.09.15(수) 작성\r\n",
    "# news_company_tag2 = '#sp_nws1 > div.news_wrap.api_ani_send > div > div.news_info > div.info_group > a.info.press'\r\n",
    "# soup.select_one('#sp_nws1 > div.news_wrap.api_ani_send > div > div.news_info > div.info_group > a.info.press').text\r\n",
    "\r\n",
    "# html = Chrome.driver.page_source # 해당페이지의 html 소스 전체를 크롤링\r\n",
    "# soup = BeautifulSoup(html, 'html.parser') # 입력되는 문자열들을 html 형태로 인식하라고 컴퓨터에 입력\r\n",
    "\r\n",
    "# from tqdm.notebook import tqdm\r\n",
    "# news_company_list = []\r\n",
    "# last_num = 0\r\n",
    "# for i in tqdm(range(1, 10)): # 최대 페이지가 400페이지 이므로 400번 반복 > 4000개의 뉴스기사 크롤링\r\n",
    "#     html = Chrome.driver.page_source # 해당페이지의 html 소스 전체를 크롤링\r\n",
    "#     soup = BeautifulSoup(html, 'html.parser') # 입력되는 문자열들을 html 형태로 인식하라고 컴퓨터에 입력\r\n",
    "#     for num in range(last_num + 50): # 1개의 웹페이지상 뉴스기사는 10개이나 html소스의 숫자 증가수치가 불분명하여 임의로 설정한 값입니다.\r\n",
    "#         try:\r\n",
    "#             news_company_tag = f'#sp_nws{num} > div.news_wrap.api_ani_send > div > div.news_info > div.info_group > a.info.press'\r\n",
    "#             text = soup.select_one(news_company_tag).text\r\n",
    "#             text = text.replace(' 선정', '')\r\n",
    "#             news_company_list.append(text)\r\n",
    "#             print(f'sp_nws{num}은 해당페이지에 존재합니다.')\r\n",
    "#             last_num = num\r\n",
    "#         except:\r\n",
    "#             pass\r\n",
    "#     Chrome.driver.find_element_by_xpath(\"//*[@id='main_pack']/div[2]/div/a[2]\").click()\r\n",
    "#     time.sleep(3)"
   ],
   "outputs": [],
   "metadata": {}
  },
  {
   "cell_type": "code",
   "execution_count": 3,
   "source": [
    "# 9.26(일) 작성 - 수정 및 보완 필요\r\n",
    "search_words = '스타벅스'\r\n",
    "Chrome.naver_news_page(search_words)\r\n",
    "time.sleep(3)\r\n",
    "\r\n",
    "# Chrome.driver.find_element_by_css_selector('#sp_nws1 > div.news_wrap.api_ani_send > div > a').click()\r\n",
    "# Chrome.driver.switch_to.window(Chrome.driver.window_handles[1])\r\n",
    "# time.sleep(3)\r\n",
    "\r\n",
    "# Chrome.driver.close()\r\n",
    "# Chrome.driver.switch_to_window(Chrome.driver.window_handles[0]) # (탭변환) 화면상에서는 없어졌더라도 반드시 코드를 적용할 탭으로 이동해주어야함.\r\n",
    "\r\n",
    "\r\n",
    "def connect_press_page():\r\n",
    "    from tqdm.notebook import tqdm\r\n",
    "    last_num = 0\r\n",
    "    for i in tqdm(range(0, 10)): # 최대 페이지가 400페이지 이므로 400번 반복 > 4000개의 뉴스기사 크롤링\r\n",
    "        try:\r\n",
    "            html = Chrome.driver.page_source # 해당페이지의 html 소스 전체를 크롤링 / driver앞에 붙어 있는 Chrome은 모듈 이름에 따라 변경해야합니다.\r\n",
    "            soup = BeautifulSoup(html, 'html.parser') # 입력되는 문자열들을 html 형태로 인식하라고 컴퓨터에 입력\r\n",
    "            for num in range(last_num + 50): # 1개의 웹페이지상 뉴스기사는 10개이나 html소스 sp_nws의 숫자 증가수치가 불분명하여 임의로 설정한 값입니다.\r\n",
    "                try:\r\n",
    "                    press_company_tag = f'#sp_nws{num} > div.news_wrap.api_ani_send > div > a'\r\n",
    "                    Chrome.driver.find_element_by_css_selector(press_company_tag).click()\r\n",
    "                    Chrome.driver.switch_to.window(Chrome.driver.window_handles[1])\r\n",
    "                    time.sleep(3)\r\n",
    "                    Chrome.driver.close()\r\n",
    "                    Chrome.driver.switch_to_window(Chrome.driver.window_handles[0]) # (탭변환) 화면상에서는 없어졌더라도 반드시 코드를 적용할 탭으로 이동해주어야함.\r\n",
    "                    time.sleep(3)\r\n",
    "                    last_num = num\r\n",
    "                    print(f'sp_nws{num}')\r\n",
    "                except:\r\n",
    "                    pass\r\n",
    "            Chrome.driver.find_element_by_xpath(\"//*[@id='main_pack']/div[2]/div/a[2]\").click()\r\n",
    "            time.sleep(3)   \r\n",
    "        except:\r\n",
    "            print(f'종료된 페이지 : {i+1}') \r\n",
    "            break\r\n",
    "    return 0 \r\n",
    "connect_press_page()"
   ],
   "outputs": [
    {
     "output_type": "display_data",
     "data": {
      "application/vnd.jupyter.widget-view+json": {
       "version_major": 2,
       "version_minor": 0,
       "model_id": "acb8afc7c0de49a1bcf6ed9953bfe6a8"
      },
      "text/plain": [
       "  0%|          | 0/10 [00:00<?, ?it/s]"
      ]
     },
     "metadata": {}
    },
    {
     "output_type": "stream",
     "name": "stderr",
     "text": [
      "<ipython-input-3-aec9b69767eb>:27: DeprecationWarning: use driver.switch_to.window instead\n",
      "  Chrome.driver.switch_to_window(Chrome.driver.window_handles[0]) # (탭변환) 화면상에서는 없어졌더라도 반드시 코드를 적용할 탭으로 이동해주어야함.\n"
     ]
    },
    {
     "output_type": "stream",
     "name": "stdout",
     "text": [
      "sp_nws1\n",
      "sp_nws6\n",
      "sp_nws8\n",
      "sp_nws9\n",
      "sp_nws14\n",
      "sp_nws19\n",
      "sp_nws20\n",
      "sp_nws22\n",
      "sp_nws23\n",
      "sp_nws24\n",
      "sp_nws25\n",
      "sp_nws26\n",
      "sp_nws31\n",
      "sp_nws32\n",
      "sp_nws33\n",
      "sp_nws34\n",
      "sp_nws35\n",
      "sp_nws36\n",
      "sp_nws41\n",
      "sp_nws42\n",
      "sp_nws43\n",
      "sp_nws45\n",
      "sp_nws46\n",
      "sp_nws47\n",
      "sp_nws48\n",
      "sp_nws49\n",
      "sp_nws50\n",
      "sp_nws51\n",
      "sp_nws52\n"
     ]
    }
   ],
   "metadata": {}
  }
 ],
 "metadata": {
  "orig_nbformat": 4,
  "language_info": {
   "name": "python",
   "version": "3.8.10",
   "mimetype": "text/x-python",
   "codemirror_mode": {
    "name": "ipython",
    "version": 3
   },
   "pygments_lexer": "ipython3",
   "nbconvert_exporter": "python",
   "file_extension": ".py"
  },
  "kernelspec": {
   "name": "python3",
   "display_name": "Python 3.8.10 64-bit ('base': conda)"
  },
  "interpreter": {
   "hash": "fe3bab233825460445dbfeea6dcd52ef5815a3fa13c858fea07ac830aa383284"
  }
 },
 "nbformat": 4,
 "nbformat_minor": 2
}