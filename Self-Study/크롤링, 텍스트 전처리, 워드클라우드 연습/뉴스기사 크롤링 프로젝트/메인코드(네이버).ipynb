{
 "cells": [
  {
   "cell_type": "code",
   "execution_count": 17,
   "source": [
    "# 사전에 입력 및 설치가 필요한 패키지들(미 입력시 실행불가)\r\n",
    "import requests\r\n",
    "import pandas as pd\r\n",
    "import time\r\n",
    "from selenium import webdriver\r\n",
    "from selenium.webdriver.common.keys import Keys\r\n",
    "from bs4 import BeautifulSoup\r\n",
    "from urllib.parse import quote"
   ],
   "outputs": [],
   "metadata": {}
  },
  {
   "cell_type": "code",
   "execution_count": 1,
   "source": [
    "import Connect_Chrome_Search as Chrome #driver.close()은 추후 작업이 끝난 후 반드시 입력하여 Chromedriver가 종료되도록 할 것."
   ],
   "outputs": [],
   "metadata": {}
  },
  {
   "cell_type": "code",
   "execution_count": 53,
   "source": [
    "search_words = '스타벅스'\r\n",
    "Chrome.naver_news_page(search_words)\r\n",
    "# driver.close()"
   ],
   "outputs": [],
   "metadata": {}
  },
  {
   "cell_type": "code",
   "execution_count": 56,
   "source": [
    "html = Chrome.driver.page_source # 해당페이지의 html 소스 전체를 크롤링\r\n",
    "soup = BeautifulSoup(html, 'html.parser') # 입력되는 문자열들을 html 형태로 인식하라고 컴퓨터에 입력\r\n",
    "# soup.select_one('section > div.api_subject_bx > .group_news > .list_news  > #sp_nws3 > a').text()\r\n",
    "Chrome.driver.find_element_by_css_selector('#sp_nws1 > div.news_wrap.api_ani_send > div > a').click()\r\n",
    "Chrome.driver.switch_to.window(Chrome.driver.window_handles[1])\r\n",
    "time.sleep(3)\r\n",
    "Chrome.driver.close()\r\n",
    "Chrome.driver.switch_to_window(Chrome.driver.window_handles[0]) # (탭변환) 화면상에서는 없어졌더라도 반드시 코드를 적용할 탭으로 이동해주어야함.\r\n",
    "\r\n",
    "\r\n",
    "# raw_data = soup.select_one('section > div.api_subject_bx > .group_news > .list_news').text\r\n",
    "# raw_data = re.sub('[^ㄱ-ㅎㅏ-ㅣ가-힣 ]', '', raw_data)\r\n",
    "# raw_data_list.append(raw_data)\r\n",
    "# driver.find_element_by_xpath(\"//*[@id='main_pack']/div[2]/div/a[2]\").click()\r\n",
    "# time.sleep(3)"
   ],
   "outputs": [
    {
     "output_type": "stream",
     "name": "stderr",
     "text": [
      "<ipython-input-56-bd68dbb8795c>:8: DeprecationWarning: use driver.switch_to.window instead\n",
      "  Chrome.driver.switch_to_window(Chrome.driver.window_handles[0]) # (탭변환) 화면상에서는 없어졌더라도 반드시 코드를 적용할 탭으로 이동해주어야함.\n"
     ]
    }
   ],
   "metadata": {}
  }
 ],
 "metadata": {
  "orig_nbformat": 4,
  "language_info": {
   "name": "python",
   "version": "3.8.10",
   "mimetype": "text/x-python",
   "codemirror_mode": {
    "name": "ipython",
    "version": 3
   },
   "pygments_lexer": "ipython3",
   "nbconvert_exporter": "python",
   "file_extension": ".py"
  },
  "kernelspec": {
   "name": "python3",
   "display_name": "Python 3.8.10 64-bit ('base': conda)"
  },
  "interpreter": {
   "hash": "fe3bab233825460445dbfeea6dcd52ef5815a3fa13c858fea07ac830aa383284"
  }
 },
 "nbformat": 4,
 "nbformat_minor": 2
}